{
 "cells": [
  {
   "cell_type": "markdown",
   "metadata": {},
   "source": [
    "<img src=\"http://imgur.com/1ZcRyrc.png\" style=\"float: left; margin: 20px; height: 55px\">\n",
    "\n",
    "# Practice Gridsearch and Multinomial Models with SF Crime Data\n",
    "\n",
    "_Authors: Joseph Nelson (SF)_\n",
    "\n",
    "---\n",
    "\n",
    "### Multinomial logistic regression models\n",
    "\n",
    "So far, we have been using logistic regression for binary problems where there are only two class labels. Logistic regression can be extended to dependent variables with multiple classes.\n",
    "\n",
    "There are two ways sklearn solves multiple-class problems with logistic regression: a multinomial loss or a \"one vs. rest\" (OvR) process where a model is fit for each target class vs. all the other classes. \n",
    "\n",
    "**Multinomial vs. OvR**\n",
    "- (both) 'k' classes\n",
    "- (M) 'k-1' models with 1 reference category\n",
    "- (OvR) 'k*(k-1)/2' models\n",
    "\n",
    "You will use the gridsearch in conjunction with multinomial logistic to optimize a model that predicts the category (type) of crime based on various features captured by San Francisco police departments."
   ]
  },
  {
   "cell_type": "markdown",
   "metadata": {},
   "source": [
    "**Necessary lab imports**"
   ]
  },
  {
   "cell_type": "code",
   "execution_count": 1,
   "metadata": {
    "collapsed": false
   },
   "outputs": [
    {
     "name": "stderr",
     "output_type": "stream",
     "text": [
      "//anaconda/lib/python2.7/site-packages/sklearn/cross_validation.py:44: DeprecationWarning: This module was deprecated in version 0.18 in favor of the model_selection module into which all the refactored classes and functions are moved. Also note that the interface of the new CV iterators are different from that of this module. This module will be removed in 0.20.\n",
      "  \"This module will be removed in 0.20.\", DeprecationWarning)\n",
      "//anaconda/lib/python2.7/site-packages/sklearn/grid_search.py:43: DeprecationWarning: This module was deprecated in version 0.18 in favor of the model_selection module into which all the refactored classes and functions are moved. This module will be removed in 0.20.\n",
      "  DeprecationWarning)\n"
     ]
    }
   ],
   "source": [
    "import numpy as np\n",
    "import pandas as pd\n",
    "import patsy\n",
    "\n",
    "from sklearn.metrics import classification_report, confusion_matrix, accuracy_score\n",
    "from sklearn.model_selection import train_test_split\n",
    "from sklearn.linear_model import LogisticRegression, LogisticRegressionCV\n",
    "from sklearn.grid_search import GridSearchCV\n",
    "\n",
    "import seaborn as sns\n",
    "\n",
    "import matplotlib.pyplot as plt\n",
    "plt.style.use('fivethirtyeight')\n",
    "\n",
    "%matplotlib inline\n",
    "%config InlineBackend.figure_format = 'retina'"
   ]
  },
  {
   "cell_type": "markdown",
   "metadata": {},
   "source": [
    "### 1. Read in the data"
   ]
  },
  {
   "cell_type": "code",
   "execution_count": 34,
   "metadata": {
    "collapsed": false
   },
   "outputs": [
    {
     "data": {
      "text/html": [
       "<div>\n",
       "<table border=\"1\" class=\"dataframe\">\n",
       "  <thead>\n",
       "    <tr style=\"text-align: right;\">\n",
       "      <th></th>\n",
       "      <th>Dates</th>\n",
       "      <th>Category</th>\n",
       "      <th>Descript</th>\n",
       "      <th>DayOfWeek</th>\n",
       "      <th>PdDistrict</th>\n",
       "      <th>Resolution</th>\n",
       "      <th>Address</th>\n",
       "      <th>X</th>\n",
       "      <th>Y</th>\n",
       "    </tr>\n",
       "  </thead>\n",
       "  <tbody>\n",
       "    <tr>\n",
       "      <th>0</th>\n",
       "      <td>5/13/15 23:53</td>\n",
       "      <td>WARRANTS</td>\n",
       "      <td>WARRANT ARREST</td>\n",
       "      <td>Wednesday</td>\n",
       "      <td>NORTHERN</td>\n",
       "      <td>ARREST, BOOKED</td>\n",
       "      <td>OAK ST / LAGUNA ST</td>\n",
       "      <td>-122.425892</td>\n",
       "      <td>37.774599</td>\n",
       "    </tr>\n",
       "    <tr>\n",
       "      <th>1</th>\n",
       "      <td>5/13/15 23:53</td>\n",
       "      <td>OTHER OFFENSES</td>\n",
       "      <td>TRAFFIC VIOLATION ARREST</td>\n",
       "      <td>Wednesday</td>\n",
       "      <td>NORTHERN</td>\n",
       "      <td>ARREST, BOOKED</td>\n",
       "      <td>OAK ST / LAGUNA ST</td>\n",
       "      <td>-122.425892</td>\n",
       "      <td>37.774599</td>\n",
       "    </tr>\n",
       "    <tr>\n",
       "      <th>2</th>\n",
       "      <td>5/13/15 23:33</td>\n",
       "      <td>OTHER OFFENSES</td>\n",
       "      <td>TRAFFIC VIOLATION ARREST</td>\n",
       "      <td>Wednesday</td>\n",
       "      <td>NORTHERN</td>\n",
       "      <td>ARREST, BOOKED</td>\n",
       "      <td>VANNESS AV / GREENWICH ST</td>\n",
       "      <td>-122.424363</td>\n",
       "      <td>37.800414</td>\n",
       "    </tr>\n",
       "    <tr>\n",
       "      <th>3</th>\n",
       "      <td>5/13/15 23:30</td>\n",
       "      <td>LARCENY/THEFT</td>\n",
       "      <td>GRAND THEFT FROM LOCKED AUTO</td>\n",
       "      <td>Wednesday</td>\n",
       "      <td>NORTHERN</td>\n",
       "      <td>NONE</td>\n",
       "      <td>1500 Block of LOMBARD ST</td>\n",
       "      <td>-122.426995</td>\n",
       "      <td>37.800873</td>\n",
       "    </tr>\n",
       "    <tr>\n",
       "      <th>4</th>\n",
       "      <td>5/13/15 23:30</td>\n",
       "      <td>LARCENY/THEFT</td>\n",
       "      <td>GRAND THEFT FROM LOCKED AUTO</td>\n",
       "      <td>Wednesday</td>\n",
       "      <td>PARK</td>\n",
       "      <td>NONE</td>\n",
       "      <td>100 Block of BRODERICK ST</td>\n",
       "      <td>-122.438738</td>\n",
       "      <td>37.771541</td>\n",
       "    </tr>\n",
       "  </tbody>\n",
       "</table>\n",
       "</div>"
      ],
      "text/plain": [
       "           Dates        Category                      Descript  DayOfWeek  \\\n",
       "0  5/13/15 23:53        WARRANTS                WARRANT ARREST  Wednesday   \n",
       "1  5/13/15 23:53  OTHER OFFENSES      TRAFFIC VIOLATION ARREST  Wednesday   \n",
       "2  5/13/15 23:33  OTHER OFFENSES      TRAFFIC VIOLATION ARREST  Wednesday   \n",
       "3  5/13/15 23:30   LARCENY/THEFT  GRAND THEFT FROM LOCKED AUTO  Wednesday   \n",
       "4  5/13/15 23:30   LARCENY/THEFT  GRAND THEFT FROM LOCKED AUTO  Wednesday   \n",
       "\n",
       "  PdDistrict      Resolution                    Address           X          Y  \n",
       "0   NORTHERN  ARREST, BOOKED         OAK ST / LAGUNA ST -122.425892  37.774599  \n",
       "1   NORTHERN  ARREST, BOOKED         OAK ST / LAGUNA ST -122.425892  37.774599  \n",
       "2   NORTHERN  ARREST, BOOKED  VANNESS AV / GREENWICH ST -122.424363  37.800414  \n",
       "3   NORTHERN            NONE   1500 Block of LOMBARD ST -122.426995  37.800873  \n",
       "4       PARK            NONE  100 Block of BRODERICK ST -122.438738  37.771541  "
      ]
     },
     "execution_count": 34,
     "metadata": {},
     "output_type": "execute_result"
    }
   ],
   "source": [
    "sf_crime= pd.read_csv('/Users/Mahendra/desktop/GA/hw/6.3.4_optimization-gridsearch_hyperparameters-lab/datasets/sf_crime_train.csv')\n",
    "sf_crime.head()"
   ]
  },
  {
   "cell_type": "code",
   "execution_count": 3,
   "metadata": {
    "collapsed": false
   },
   "outputs": [],
   "source": [
    "# A:"
   ]
  },
  {
   "cell_type": "markdown",
   "metadata": {
    "collapsed": true
   },
   "source": [
    "### 2. Create column for hour, month, and year from 'Dates' column.\n",
    "\n",
    "> *Hint: `pd.to_datetime` may or may not be helpful.*\n"
   ]
  },
  {
   "cell_type": "code",
   "execution_count": 37,
   "metadata": {
    "collapsed": false
   },
   "outputs": [],
   "source": [
    "sf_crime['year'] = pd.DatetimeIndex(sf_crime['Dates']).year\n",
    "sf_crime['month'] = pd.DatetimeIndex(sf_crime['Dates']).month\n",
    "sf_crime['day'] = pd.DatetimeIndex(sf_crime['Dates']).day\n",
    "sf_crime['time'] = pd.DatetimeIndex(sf_crime['Dates']).time"
   ]
  },
  {
   "cell_type": "code",
   "execution_count": 38,
   "metadata": {
    "collapsed": false
   },
   "outputs": [
    {
     "data": {
      "text/html": [
       "<div>\n",
       "<table border=\"1\" class=\"dataframe\">\n",
       "  <thead>\n",
       "    <tr style=\"text-align: right;\">\n",
       "      <th></th>\n",
       "      <th>Dates</th>\n",
       "      <th>Category</th>\n",
       "      <th>Descript</th>\n",
       "      <th>DayOfWeek</th>\n",
       "      <th>PdDistrict</th>\n",
       "      <th>Resolution</th>\n",
       "      <th>Address</th>\n",
       "      <th>X</th>\n",
       "      <th>Y</th>\n",
       "      <th>year</th>\n",
       "      <th>month</th>\n",
       "      <th>day</th>\n",
       "      <th>time</th>\n",
       "    </tr>\n",
       "  </thead>\n",
       "  <tbody>\n",
       "    <tr>\n",
       "      <th>0</th>\n",
       "      <td>5/13/15 23:53</td>\n",
       "      <td>WARRANTS</td>\n",
       "      <td>WARRANT ARREST</td>\n",
       "      <td>Wednesday</td>\n",
       "      <td>NORTHERN</td>\n",
       "      <td>ARREST, BOOKED</td>\n",
       "      <td>OAK ST / LAGUNA ST</td>\n",
       "      <td>-122.425892</td>\n",
       "      <td>37.774599</td>\n",
       "      <td>2015</td>\n",
       "      <td>5</td>\n",
       "      <td>13</td>\n",
       "      <td>23:53:00</td>\n",
       "    </tr>\n",
       "    <tr>\n",
       "      <th>1</th>\n",
       "      <td>5/13/15 23:53</td>\n",
       "      <td>OTHER OFFENSES</td>\n",
       "      <td>TRAFFIC VIOLATION ARREST</td>\n",
       "      <td>Wednesday</td>\n",
       "      <td>NORTHERN</td>\n",
       "      <td>ARREST, BOOKED</td>\n",
       "      <td>OAK ST / LAGUNA ST</td>\n",
       "      <td>-122.425892</td>\n",
       "      <td>37.774599</td>\n",
       "      <td>2015</td>\n",
       "      <td>5</td>\n",
       "      <td>13</td>\n",
       "      <td>23:53:00</td>\n",
       "    </tr>\n",
       "    <tr>\n",
       "      <th>2</th>\n",
       "      <td>5/13/15 23:33</td>\n",
       "      <td>OTHER OFFENSES</td>\n",
       "      <td>TRAFFIC VIOLATION ARREST</td>\n",
       "      <td>Wednesday</td>\n",
       "      <td>NORTHERN</td>\n",
       "      <td>ARREST, BOOKED</td>\n",
       "      <td>VANNESS AV / GREENWICH ST</td>\n",
       "      <td>-122.424363</td>\n",
       "      <td>37.800414</td>\n",
       "      <td>2015</td>\n",
       "      <td>5</td>\n",
       "      <td>13</td>\n",
       "      <td>23:33:00</td>\n",
       "    </tr>\n",
       "    <tr>\n",
       "      <th>3</th>\n",
       "      <td>5/13/15 23:30</td>\n",
       "      <td>LARCENY/THEFT</td>\n",
       "      <td>GRAND THEFT FROM LOCKED AUTO</td>\n",
       "      <td>Wednesday</td>\n",
       "      <td>NORTHERN</td>\n",
       "      <td>NONE</td>\n",
       "      <td>1500 Block of LOMBARD ST</td>\n",
       "      <td>-122.426995</td>\n",
       "      <td>37.800873</td>\n",
       "      <td>2015</td>\n",
       "      <td>5</td>\n",
       "      <td>13</td>\n",
       "      <td>23:30:00</td>\n",
       "    </tr>\n",
       "    <tr>\n",
       "      <th>4</th>\n",
       "      <td>5/13/15 23:30</td>\n",
       "      <td>LARCENY/THEFT</td>\n",
       "      <td>GRAND THEFT FROM LOCKED AUTO</td>\n",
       "      <td>Wednesday</td>\n",
       "      <td>PARK</td>\n",
       "      <td>NONE</td>\n",
       "      <td>100 Block of BRODERICK ST</td>\n",
       "      <td>-122.438738</td>\n",
       "      <td>37.771541</td>\n",
       "      <td>2015</td>\n",
       "      <td>5</td>\n",
       "      <td>13</td>\n",
       "      <td>23:30:00</td>\n",
       "    </tr>\n",
       "  </tbody>\n",
       "</table>\n",
       "</div>"
      ],
      "text/plain": [
       "           Dates        Category                      Descript  DayOfWeek  \\\n",
       "0  5/13/15 23:53        WARRANTS                WARRANT ARREST  Wednesday   \n",
       "1  5/13/15 23:53  OTHER OFFENSES      TRAFFIC VIOLATION ARREST  Wednesday   \n",
       "2  5/13/15 23:33  OTHER OFFENSES      TRAFFIC VIOLATION ARREST  Wednesday   \n",
       "3  5/13/15 23:30   LARCENY/THEFT  GRAND THEFT FROM LOCKED AUTO  Wednesday   \n",
       "4  5/13/15 23:30   LARCENY/THEFT  GRAND THEFT FROM LOCKED AUTO  Wednesday   \n",
       "\n",
       "  PdDistrict      Resolution                    Address           X  \\\n",
       "0   NORTHERN  ARREST, BOOKED         OAK ST / LAGUNA ST -122.425892   \n",
       "1   NORTHERN  ARREST, BOOKED         OAK ST / LAGUNA ST -122.425892   \n",
       "2   NORTHERN  ARREST, BOOKED  VANNESS AV / GREENWICH ST -122.424363   \n",
       "3   NORTHERN            NONE   1500 Block of LOMBARD ST -122.426995   \n",
       "4       PARK            NONE  100 Block of BRODERICK ST -122.438738   \n",
       "\n",
       "           Y  year  month  day      time  \n",
       "0  37.774599  2015      5   13  23:53:00  \n",
       "1  37.774599  2015      5   13  23:53:00  \n",
       "2  37.800414  2015      5   13  23:33:00  \n",
       "3  37.800873  2015      5   13  23:30:00  \n",
       "4  37.771541  2015      5   13  23:30:00  "
      ]
     },
     "execution_count": 38,
     "metadata": {},
     "output_type": "execute_result"
    }
   ],
   "source": [
    "sf_crime.head()"
   ]
  },
  {
   "cell_type": "markdown",
   "metadata": {},
   "source": [
    "### 3. Validate and clean the data."
   ]
  },
  {
   "cell_type": "code",
   "execution_count": 40,
   "metadata": {
    "collapsed": false
   },
   "outputs": [],
   "source": [
    "sf_crime.drop(['Dates'], axis = 1, inplace = True)"
   ]
  },
  {
   "cell_type": "code",
   "execution_count": 42,
   "metadata": {
    "collapsed": false
   },
   "outputs": [
    {
     "data": {
      "text/plain": [
       "Category      0\n",
       "Descript      0\n",
       "DayOfWeek     0\n",
       "PdDistrict    0\n",
       "Resolution    0\n",
       "Address       0\n",
       "X             0\n",
       "Y             0\n",
       "year          0\n",
       "month         0\n",
       "day           0\n",
       "time          0\n",
       "dtype: int64"
      ]
     },
     "execution_count": 42,
     "metadata": {},
     "output_type": "execute_result"
    }
   ],
   "source": [
    "sf_crime.isnull().sum()"
   ]
  },
  {
   "cell_type": "code",
   "execution_count": 43,
   "metadata": {
    "collapsed": false
   },
   "outputs": [
    {
     "data": {
      "text/plain": [
       "LARCENY/THEFT                  4885\n",
       "OTHER OFFENSES                 2291\n",
       "NON-CRIMINAL                   2255\n",
       "ASSAULT                        1536\n",
       "VEHICLE THEFT                   967\n",
       "VANDALISM                       877\n",
       "BURGLARY                        732\n",
       "WARRANTS                        728\n",
       "SUSPICIOUS OCC                  592\n",
       "MISSING PERSON                  535\n",
       "DRUG/NARCOTIC                   496\n",
       "ROBBERY                         465\n",
       "FRAUD                           363\n",
       "SECONDARY CODES                 261\n",
       "WEAPON LAWS                     212\n",
       "TRESPASS                        130\n",
       "STOLEN PROPERTY                 111\n",
       "SEX OFFENSES FORCIBLE           103\n",
       "FORGERY/COUNTERFEITING           85\n",
       "DRUNKENNESS                      74\n",
       "KIDNAPPING                       50\n",
       "PROSTITUTION                     44\n",
       "DRIVING UNDER THE INFLUENCE      42\n",
       "DISORDERLY CONDUCT               37\n",
       "ARSON                            35\n",
       "LIQUOR LAWS                      25\n",
       "RUNAWAY                          16\n",
       "BRIBERY                          11\n",
       "EMBEZZLEMENT                     11\n",
       "SUICIDE                           5\n",
       "FAMILY OFFENSES                   5\n",
       "LOITERING                         4\n",
       "EXTORTION                         4\n",
       "SEX OFFENSES NON FORCIBLE         4\n",
       "GAMBLING                          4\n",
       "ASSUALT                           2\n",
       "BAD CHECKS                        2\n",
       "TRESPASSING                       1\n",
       "Name: Category, dtype: int64"
      ]
     },
     "execution_count": 43,
     "metadata": {},
     "output_type": "execute_result"
    }
   ],
   "source": [
    "sf_crime.Category.value_counts()"
   ]
  },
  {
   "cell_type": "code",
   "execution_count": 44,
   "metadata": {
    "collapsed": false
   },
   "outputs": [
    {
     "data": {
      "text/plain": [
       "GRAND THEFT FROM LOCKED AUTO                             2127\n",
       "STOLEN AUTOMOBILE                                         625\n",
       "AIDED CASE, MENTAL DISTURBED                              591\n",
       "DRIVERS LICENSE, SUSPENDED OR REVOKED                     589\n",
       "BATTERY                                                   520\n",
       "PETTY THEFT FROM LOCKED AUTO                              498\n",
       "PETTY THEFT OF PROPERTY                                   484\n",
       "LOST PROPERTY                                             468\n",
       "WARRANT ARREST                                            429\n",
       "MALICIOUS MISCHIEF, VANDALISM                             361\n",
       "FOUND PROPERTY                                            353\n",
       "MALICIOUS MISCHIEF, VANDALISM OF VEHICLES                 340\n",
       "GRAND THEFT FROM UNLOCKED AUTO                            321\n",
       "SUSPICIOUS OCCURRENCE                                     305\n",
       "INVESTIGATIVE DETENTION                                   246\n",
       "FOUND PERSON                                              233\n",
       "PETTY THEFT FROM A BUILDING                               223\n",
       "PETTY THEFT SHOPLIFTING                                   216\n",
       "THREATS AGAINST LIFE                                      209\n",
       "GRAND THEFT OF PROPERTY                                   202\n",
       "ENROUTE TO OUTSIDE JURISDICTION                           201\n",
       "CREDIT CARD, THEFT BY USE OF                              200\n",
       "STOLEN TRUCK                                              192\n",
       "GRAND THEFT FROM PERSON                                   192\n",
       "TRAFFIC VIOLATION                                         180\n",
       "MISSING ADULT                                             178\n",
       "RESISTING ARREST                                          174\n",
       "TRAFFIC VIOLATION ARREST                                  172\n",
       "DOMESTIC VIOLENCE                                         156\n",
       "LOST/STOLEN LICENSE PLATE                                 154\n",
       "                                                         ... \n",
       "THROWING INJURIOUS SUBSTANCE ON HIGHWAY                     1\n",
       "TRESPASS WITHIN 30 DAYS OF CREDIBLE THREAT                  1\n",
       "SELL OR FURNISH ALCOHOL TO INTOXICATED PERSON               1\n",
       "FIREARMS, SEIZING AT SCENE OF DV                            1\n",
       "SUICIDE BY ASPHYXIATION                                     1\n",
       "MINOR WITHOUT PROPER PARENTAL CARE                          1\n",
       "FALSE FIRE ALARM                                            1\n",
       "IMMORAL ACTS OR DRUNK IN PRESENCE OF CHILD                  1\n",
       "BURGLARY,HOTEL UNDER CONSTRUCTION, FORCIBLE ENTRY           1\n",
       "BURGLARY,RESIDENCE UNDER CONSTRT, ATT. FORCIBLE             1\n",
       "WEAPON, POSSESSING IN PUBLIC BUILDING OR OPEN MEETING       1\n",
       "AGGRAVATED ASSAULT ON POLICE OFFICER WITH A KNIFE           1\n",
       "STOLEN TRAILER                                              1\n",
       "AUDIOVISUAL (VIDEO OR SOUND) RECORDINGS, UNAUTHORIZED       1\n",
       "POSSESSION OF AMPHETAMINE FOR SALES                         1\n",
       "ATTEMPTED KIDNAPPING, ADULT VICTIM                          1\n",
       "DISTURBING THE PEACE, SWEARING                              1\n",
       "ELECTRICAL  OR GAS LINES, INTERFERING WITH                  1\n",
       "THREAT TO STATE OFFICIAL OR JUDGE                           1\n",
       "INTERFERRING WITH A POLICE OFFICER                          1\n",
       "ATTEMPTED ROBBERY OF A BANK WITH BODILY FORCE               1\n",
       "POSSESSION OF ARTICLES WITH IDENTIFICATION REMOVE           1\n",
       "REAL ESTATE FRAUD                                           1\n",
       "ARSON OF A VACANT BUILDING                                  1\n",
       "STOLEN ELECTRONICS, POSSESSION                              1\n",
       "EMBEZZLEMENT, GRAND THEFT BY BROOKERS/AGENTS                1\n",
       "ATTEMPTED ROBBERY RESIDENCE WITH BODILY FORCE               1\n",
       "INDECENT EXPOSURE WITH PRIOR CONVICTION                     1\n",
       "VEHICLE ALARM CODE GRABBING DEVICE, POSSESS OR USE          1\n",
       "CARJACKING WITH A GUN                                       1\n",
       "Name: Descript, dtype: int64"
      ]
     },
     "execution_count": 44,
     "metadata": {},
     "output_type": "execute_result"
    }
   ],
   "source": [
    "sf_crime.Descript.value_counts()"
   ]
  },
  {
   "cell_type": "code",
   "execution_count": 45,
   "metadata": {
    "collapsed": false
   },
   "outputs": [
    {
     "data": {
      "text/plain": [
       "Wednesday    2930\n",
       "Friday       2733\n",
       "Saturday     2556\n",
       "Thursday     2479\n",
       "Sunday       2456\n",
       "Monday       2447\n",
       "Tuesday      2399\n",
       "Name: DayOfWeek, dtype: int64"
      ]
     },
     "execution_count": 45,
     "metadata": {},
     "output_type": "execute_result"
    }
   ],
   "source": [
    "sf_crime.DayOfWeek.value_counts()"
   ]
  },
  {
   "cell_type": "code",
   "execution_count": null,
   "metadata": {
    "collapsed": true
   },
   "outputs": [],
   "source": []
  },
  {
   "cell_type": "markdown",
   "metadata": {
    "collapsed": true
   },
   "source": [
    "### 4. Set up a target and predictor matrix for predicting violent crime vs. non-violent crime vs. non-crimes.\n",
    "\n",
    "**Non-Violent Crimes:**\n",
    "- bad checks\n",
    "- bribery\n",
    "- drug/narcotic\n",
    "- drunkenness\n",
    "- embezzlement\n",
    "- forgery/counterfeiting\n",
    "- fraud\n",
    "- gambling\n",
    "- liquor\n",
    "- loitering \n",
    "- trespass\n",
    "\n",
    "**Non-Crimes:**\n",
    "- non-criminal\n",
    "- runaway\n",
    "- secondary codes\n",
    "- suspicious occ\n",
    "- warrants\n",
    "\n",
    "**Violent Crimes:**\n",
    "- everything else\n",
    "\n",
    "\n",
    "\n",
    "**What type of model do you need here? What should your \"baseline\" category be?**"
   ]
  },
  {
   "cell_type": "code",
   "execution_count": 46,
   "metadata": {
    "collapsed": true
   },
   "outputs": [],
   "source": [
    "# A:\n",
    "\n",
    "zeros = ['non-criminal', 'runaway', 'secondary codes', 'suspicious occ', 'warrants']\n",
    "ones  = ['bad checks', 'bribery', 'drug/narcotic', 'drunkenness', 'embezzlement', 'forgery/counterfeiting', 'fraud', \n",
    "         'gambling','liquor', 'loitering', 'trespass', 'other offenses']"
   ]
  },
  {
   "cell_type": "code",
   "execution_count": 47,
   "metadata": {
    "collapsed": false
   },
   "outputs": [],
   "source": [
    "crime_cat = []\n",
    "#iterate through sf_crime Category\n",
    "for crime in sf_crime['Category']:\n",
    "    # convert values to lower\n",
    "    crime = crime.lower()\n",
    "    # checks list of sub categories\n",
    "    if crime in zeros:\n",
    "        # appends the overlaying category\n",
    "        crime_cat.append('non-crime')\n",
    "    elif crime in ones:\n",
    "        crime_cat.append('non-violent')\n",
    "    else:\n",
    "        crime_cat.append('violent')\n",
    "        \n",
    "# take that list and add it to the DF\n",
    "sf_crime['cat_number'] = crime_cat"
   ]
  },
  {
   "cell_type": "code",
   "execution_count": 50,
   "metadata": {
    "collapsed": false
   },
   "outputs": [],
   "source": [
    "dummies = pd.get_dummies(sf_crime[['DayOfWeek','PdDistrict','Resolution']], drop_first = True)\n",
    "sf_crime = sf_crime.merge(dummies, left_index = True, right_index = True,how = 'outer')"
   ]
  },
  {
   "cell_type": "code",
   "execution_count": 52,
   "metadata": {
    "collapsed": false
   },
   "outputs": [],
   "source": [
    "# A:\n",
    "x = sf_crime.drop(['Category','Descript','DayOfWeek','PdDistrict',\n",
    "                   'Resolution','Address','X','Y','cat_number','time'], axis = 1)\n",
    "y = sf_crime['cat_number'].values"
   ]
  },
  {
   "cell_type": "code",
   "execution_count": 53,
   "metadata": {
    "collapsed": false
   },
   "outputs": [
    {
     "data": {
      "text/plain": [
       "Index([u'year', u'month', u'day', u'DayOfWeek_Monday', u'DayOfWeek_Saturday',\n",
       "       u'DayOfWeek_Sunday', u'DayOfWeek_Thursday', u'DayOfWeek_Tuesday',\n",
       "       u'DayOfWeek_Wednesday', u'PdDistrict_CENTRAL', u'PdDistrict_INGLESIDE',\n",
       "       u'PdDistrict_MISSION', u'PdDistrict_NORTHERN', u'PdDistrict_PARK',\n",
       "       u'PdDistrict_RICHMOND', u'PdDistrict_SOUTHERN', u'PdDistrict_TARAVAL',\n",
       "       u'PdDistrict_TENDERLOIN', u'Resolution_ARREST, CITED',\n",
       "       u'Resolution_CLEARED-CONTACT JUVENILE FOR MORE INFO',\n",
       "       u'Resolution_EXCEPTIONAL CLEARANCE', u'Resolution_JUVENILE BOOKED',\n",
       "       u'Resolution_LOCATED', u'Resolution_NONE', u'Resolution_NOT PROSECUTED',\n",
       "       u'Resolution_PSYCHOPATHIC CASE', u'Resolution_UNFOUNDED'],\n",
       "      dtype='object')"
      ]
     },
     "execution_count": 53,
     "metadata": {},
     "output_type": "execute_result"
    }
   ],
   "source": [
    "x.columns"
   ]
  },
  {
   "cell_type": "markdown",
   "metadata": {},
   "source": [
    "### 5. Standardize the predictor matrix"
   ]
  },
  {
   "cell_type": "code",
   "execution_count": 54,
   "metadata": {
    "collapsed": true
   },
   "outputs": [],
   "source": [
    "from sklearn.preprocessing import StandardScaler\n",
    "\n",
    "ss = StandardScaler()\n",
    "Xs = ss.fit_transform(x)"
   ]
  },
  {
   "cell_type": "markdown",
   "metadata": {},
   "source": [
    "### 6. Find the optimal hyperparameters (optimal regularization) to predict your crime categories.\n",
    "\n",
    "> **Note:** Gridsearching can be done with `GridSearchCV` or `LogisticRegressionCV`. They operate differently - the gridsearch object is more general and can be applied to any model. The `LogisticRegressionCV` is specific to tuning the logistic regression hyperparameters. I recommend the logistic regression one, but the downside is that lasso and ridge must be searched separately.\n",
    "\n",
    "**Reference for logistic regression regularization hyperparameters:**\n",
    "- `solver`: algorithm used for optimization (relevant for multiclass)\n",
    "    - Newton-cg - Handles Multinomial Loss, L2 only\n",
    "    - Sag - Handles Multinomial Loss, Large Datasets, L2 Only, Works best on sclaed data\n",
    "    - lbfgs - Handles Multinomial Loss, L2 Only\n",
    "    - Liblinear - Small Datasets, no Warm Starts\n",
    "- `Cs`: Regularization strengths (smaller values are stronger penalties)\n",
    "- `cv`: vross-validations or number of folds\n",
    "- `penalty`: `'l1'` - LASSO, `'l2'` - Ridge "
   ]
  },
  {
   "cell_type": "code",
   "execution_count": 8,
   "metadata": {
    "collapsed": false
   },
   "outputs": [],
   "source": [
    "# Example:\n",
    "# fit model with five folds and lasso regularization\n",
    "# use Cs=15 to test a grid of 15 distinct parameters\n",
    "# remember: Cs describes the inverse of regularization strength\n",
    "\n",
    "# logreg_cv = LogisticRegressionCV(solver='liblinear', \n",
    "#                                  Cs=[1,5,10], \n",
    "#                                  cv=5, penalty='l1')"
   ]
  },
  {
   "cell_type": "markdown",
   "metadata": {},
   "source": [
    "**Split data into training and testing with 50% in testing.**"
   ]
  },
  {
   "cell_type": "code",
   "execution_count": 55,
   "metadata": {
    "collapsed": false
   },
   "outputs": [],
   "source": [
    "# A:\n",
    "x_train,x_test,y_train,y_test=train_test_split(x,y,test_size=0.5,random_state=12)"
   ]
  },
  {
   "cell_type": "markdown",
   "metadata": {},
   "source": [
    "**Gridsearch hyperparameters for the training data.**"
   ]
  },
  {
   "cell_type": "code",
   "execution_count": 58,
   "metadata": {
    "collapsed": false
   },
   "outputs": [
    {
     "data": {
      "text/plain": [
       "LogisticRegressionCV(Cs=100, class_weight=None, cv=5, dual=False,\n",
       "           fit_intercept=True, intercept_scaling=1.0, max_iter=100,\n",
       "           multi_class='ovr', n_jobs=1, penalty='l1', random_state=None,\n",
       "           refit=True, scoring='accuracy', solver='liblinear', tol=0.0001,\n",
       "           verbose=0)"
      ]
     },
     "execution_count": 58,
     "metadata": {},
     "output_type": "execute_result"
    }
   ],
   "source": [
    "# A:\n",
    "logreg_cv = LogisticRegressionCV(Cs=100, cv=5, penalty='l1', scoring='accuracy', solver='liblinear')\n",
    "logreg_cv.fit(x_train, y_train)"
   ]
  },
  {
   "cell_type": "markdown",
   "metadata": {},
   "source": [
    "**Find the best parameters for each target class.**"
   ]
  },
  {
   "cell_type": "code",
   "execution_count": 11,
   "metadata": {
    "collapsed": false
   },
   "outputs": [],
   "source": [
    "# A:"
   ]
  },
  {
   "cell_type": "markdown",
   "metadata": {},
   "source": [
    "**Build three logisitic regression models using the best parameters for each target class.**"
   ]
  },
  {
   "cell_type": "code",
   "execution_count": 12,
   "metadata": {
    "collapsed": false
   },
   "outputs": [],
   "source": [
    "# A:"
   ]
  },
  {
   "cell_type": "markdown",
   "metadata": {},
   "source": [
    "### 7. Build confusion matrices for the models above\n",
    "- Use the holdout test data from the train-test split"
   ]
  },
  {
   "cell_type": "code",
   "execution_count": 13,
   "metadata": {
    "collapsed": false
   },
   "outputs": [],
   "source": [
    "# A:"
   ]
  },
  {
   "cell_type": "markdown",
   "metadata": {},
   "source": [
    "### 8. Print classification reports for your three models."
   ]
  },
  {
   "cell_type": "code",
   "execution_count": 14,
   "metadata": {
    "collapsed": false
   },
   "outputs": [],
   "source": [
    "# A:"
   ]
  },
  {
   "cell_type": "markdown",
   "metadata": {},
   "source": [
    "**Describe the metrics in the classification report.**"
   ]
  },
  {
   "cell_type": "code",
   "execution_count": 15,
   "metadata": {
    "collapsed": true
   },
   "outputs": [],
   "source": [
    "# A:"
   ]
  }
 ],
 "metadata": {
  "anaconda-cloud": {},
  "kernelspec": {
   "display_name": "Python 2",
   "language": "python",
   "name": "python2"
  },
  "language_info": {
   "codemirror_mode": {
    "name": "ipython",
    "version": 2
   },
   "file_extension": ".py",
   "mimetype": "text/x-python",
   "name": "python",
   "nbconvert_exporter": "python",
   "pygments_lexer": "ipython2",
   "version": "2.7.13"
  }
 },
 "nbformat": 4,
 "nbformat_minor": 0
}
