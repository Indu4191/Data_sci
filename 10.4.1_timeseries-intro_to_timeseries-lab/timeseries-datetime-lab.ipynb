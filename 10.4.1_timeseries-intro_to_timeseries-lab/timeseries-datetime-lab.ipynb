{
 "cells": [
  {
   "cell_type": "markdown",
   "metadata": {},
   "source": [
    "<img src=\"http://imgur.com/1ZcRyrc.png\" style=\"float: left; margin: 20px; height: 55px\">\n",
    "\n",
    "# Practice Using Timeseries Data and Datetime\n",
    "\n",
    "_Authors: Samuel Stack (DC)_\n",
    "\n",
    "---\n",
    "\n",
    "This lab covers the basics of manipulating datetime objects and using datetimes in pandas."
   ]
  },
  {
   "cell_type": "markdown",
   "metadata": {},
   "source": [
    "### 1. Create a datetime object representing today's date"
   ]
  },
  {
   "cell_type": "code",
   "execution_count": 1,
   "metadata": {
    "collapsed": true
   },
   "outputs": [],
   "source": [
    "from datetime import datetime\n",
    "from datetime import timedelta\n"
   ]
  },
  {
   "cell_type": "code",
   "execution_count": 2,
   "metadata": {
    "collapsed": false
   },
   "outputs": [],
   "source": [
    "# A:\n",
    "lesson_date = datetime(2017, 5, 25, 9, 38, 15, 844089)"
   ]
  },
  {
   "cell_type": "markdown",
   "metadata": {},
   "source": [
    "### 2. Write a function to print the day of the week for a datetime object."
   ]
  },
  {
   "cell_type": "code",
   "execution_count": 3,
   "metadata": {
    "collapsed": false
   },
   "outputs": [],
   "source": [
    "# A:\n",
    "def day_of_week(date):\n",
    "    days_of_week = {0: 'monday', 1: 'tuesday', 2: 'wednesday', 3: 'thursday', 4: 'friday', 5: 'saturday', 6: 'sunday'}\n",
    "    return days_of_week[date.weekday()]"
   ]
  },
  {
   "cell_type": "code",
   "execution_count": 4,
   "metadata": {
    "collapsed": false
   },
   "outputs": [
    {
     "data": {
      "text/plain": [
       "'thursday'"
      ]
     },
     "execution_count": 4,
     "metadata": {},
     "output_type": "execute_result"
    }
   ],
   "source": [
    "day_of_week(lesson_date)"
   ]
  },
  {
   "cell_type": "markdown",
   "metadata": {},
   "source": [
    "### 3. What is the Gregorian ordinal representation of today's date? What is the difference in days between the ordinal representation of today's date and the ordinal representation of your birthday?\n",
    "\n",
    "> *Hint: `.toordinal()` will get you the ordinal representation. This is calculating the number of days between your birthday and today."
   ]
  },
  {
   "cell_type": "code",
   "execution_count": 5,
   "metadata": {
    "collapsed": false
   },
   "outputs": [
    {
     "data": {
      "text/plain": [
       "11099"
      ]
     },
     "execution_count": 5,
     "metadata": {},
     "output_type": "execute_result"
    }
   ],
   "source": [
    "# A:\n",
    "datetime.now().toordinal() - datetime(1987, 1, 4).toordinal()"
   ]
  },
  {
   "cell_type": "markdown",
   "metadata": {},
   "source": [
    "### 4. Try using `timedelta` to shift our datetime object by the following intervals:\n",
    "- 1 hour ahead\n",
    "- 3 days ago\n",
    "- 1 year, 3 days, 2 seconds ahead"
   ]
  },
  {
   "cell_type": "code",
   "execution_count": 9,
   "metadata": {
    "collapsed": false
   },
   "outputs": [
    {
     "name": "stdout",
     "output_type": "stream",
     "text": [
      "2017-05-25 10:38:15.844089\n",
      "2017-05-22 09:38:15.844089\n",
      "2018-05-27 09:38:17.844089\n"
     ]
    }
   ],
   "source": [
    "print lesson_date + timedelta(hours=1)\n",
    "\n",
    "lesson_date - timedelta(days=3)\n",
    "# OR\n",
    "print lesson_date + timedelta(days=-3)\n",
    "# adding negative days WHATTTT!!!! So Cool! Outrageously Cool!\n",
    "\n",
    "print lesson_date + timedelta(days=366+1, seconds=2)"
   ]
  },
  {
   "cell_type": "markdown",
   "metadata": {},
   "source": [
    "### 5. Load one of the stock csvs in the datasets folder.\n",
    "\n",
    "Which you choose is up to you!"
   ]
  },
  {
   "cell_type": "code",
   "execution_count": 6,
   "metadata": {
    "collapsed": false
   },
   "outputs": [],
   "source": [
    "import pandas as pd\n",
    "from datetime import timedelta\n",
    "%matplotlib inline\n",
    "\n",
    "# A:"
   ]
  },
  {
   "cell_type": "code",
   "execution_count": 10,
   "metadata": {
    "collapsed": false
   },
   "outputs": [],
   "source": [
    "df_vow = pd.read_csv('./datasets/vow.csv')"
   ]
  },
  {
   "cell_type": "markdown",
   "metadata": {},
   "source": [
    "### 6. Take a high-level look at the data. Describe it. What are we looking at? \n",
    "\n",
    "Use a plotting function to provide a good visual."
   ]
  },
  {
   "cell_type": "code",
   "execution_count": 11,
   "metadata": {
    "collapsed": false
   },
   "outputs": [
    {
     "data": {
      "text/html": [
       "<div>\n",
       "<table border=\"1\" class=\"dataframe\">\n",
       "  <thead>\n",
       "    <tr style=\"text-align: right;\">\n",
       "      <th></th>\n",
       "      <th>Open</th>\n",
       "      <th>High</th>\n",
       "      <th>Low</th>\n",
       "      <th>Close</th>\n",
       "      <th>Volume</th>\n",
       "    </tr>\n",
       "  </thead>\n",
       "  <tbody>\n",
       "    <tr>\n",
       "      <th>count</th>\n",
       "      <td>255.000000</td>\n",
       "      <td>255.000000</td>\n",
       "      <td>255.000000</td>\n",
       "      <td>255.000000</td>\n",
       "      <td>255.000000</td>\n",
       "    </tr>\n",
       "    <tr>\n",
       "      <th>mean</th>\n",
       "      <td>130.380000</td>\n",
       "      <td>132.168235</td>\n",
       "      <td>128.580588</td>\n",
       "      <td>130.415882</td>\n",
       "      <td>96009.898039</td>\n",
       "    </tr>\n",
       "    <tr>\n",
       "      <th>std</th>\n",
       "      <td>7.031538</td>\n",
       "      <td>6.992833</td>\n",
       "      <td>7.398405</td>\n",
       "      <td>7.308949</td>\n",
       "      <td>51570.127117</td>\n",
       "    </tr>\n",
       "    <tr>\n",
       "      <th>min</th>\n",
       "      <td>110.950000</td>\n",
       "      <td>111.000000</td>\n",
       "      <td>106.650000</td>\n",
       "      <td>108.950000</td>\n",
       "      <td>18273.000000</td>\n",
       "    </tr>\n",
       "    <tr>\n",
       "      <th>25%</th>\n",
       "      <td>127.000000</td>\n",
       "      <td>128.600000</td>\n",
       "      <td>125.275000</td>\n",
       "      <td>126.875000</td>\n",
       "      <td>63276.500000</td>\n",
       "    </tr>\n",
       "    <tr>\n",
       "      <th>50%</th>\n",
       "      <td>130.450000</td>\n",
       "      <td>131.950000</td>\n",
       "      <td>128.900000</td>\n",
       "      <td>130.450000</td>\n",
       "      <td>84373.000000</td>\n",
       "    </tr>\n",
       "    <tr>\n",
       "      <th>75%</th>\n",
       "      <td>134.475000</td>\n",
       "      <td>136.150000</td>\n",
       "      <td>132.575000</td>\n",
       "      <td>134.600000</td>\n",
       "      <td>114860.500000</td>\n",
       "    </tr>\n",
       "    <tr>\n",
       "      <th>max</th>\n",
       "      <td>154.050000</td>\n",
       "      <td>154.300000</td>\n",
       "      <td>149.950000</td>\n",
       "      <td>153.150000</td>\n",
       "      <td>374850.000000</td>\n",
       "    </tr>\n",
       "  </tbody>\n",
       "</table>\n",
       "</div>"
      ],
      "text/plain": [
       "             Open        High         Low       Close         Volume\n",
       "count  255.000000  255.000000  255.000000  255.000000     255.000000\n",
       "mean   130.380000  132.168235  128.580588  130.415882   96009.898039\n",
       "std      7.031538    6.992833    7.398405    7.308949   51570.127117\n",
       "min    110.950000  111.000000  106.650000  108.950000   18273.000000\n",
       "25%    127.000000  128.600000  125.275000  126.875000   63276.500000\n",
       "50%    130.450000  131.950000  128.900000  130.450000   84373.000000\n",
       "75%    134.475000  136.150000  132.575000  134.600000  114860.500000\n",
       "max    154.050000  154.300000  149.950000  153.150000  374850.000000"
      ]
     },
     "execution_count": 11,
     "metadata": {},
     "output_type": "execute_result"
    }
   ],
   "source": [
    "# A:\n",
    "df_vow.describe()"
   ]
  },
  {
   "cell_type": "code",
   "execution_count": 12,
   "metadata": {
    "collapsed": false
   },
   "outputs": [
    {
     "data": {
      "text/plain": [
       "<matplotlib.axes._subplots.AxesSubplot at 0x113974110>"
      ]
     },
     "execution_count": 12,
     "metadata": {},
     "output_type": "execute_result"
    },
    {
     "data": {
      "image/png": "[encoded data removed]",
      "text/plain": [
       "<matplotlib.figure.Figure at 0x1138f19d0>"
      ]
     },
     "metadata": {},
     "output_type": "display_data"
    }
   ],
   "source": [
    "# A:\n",
    "df_vow.plot()"
   ]
  },
  {
   "cell_type": "code",
   "execution_count": 13,
   "metadata": {
    "collapsed": false
   },
   "outputs": [
    {
     "data": {
      "text/plain": [
       "<matplotlib.axes._subplots.AxesSubplot at 0x113742850>"
      ]
     },
     "execution_count": 13,
     "metadata": {},
     "output_type": "execute_result"
    },
    {
     "data": {
      "image/png": "[encoded data removed]",
      "text/plain": [
       "<matplotlib.figure.Figure at 0x115fbb290>"
      ]
     },
     "metadata": {},
     "output_type": "display_data"
    }
   ],
   "source": [
    "df_vow[['Open','High','Close','Low']].plot()"
   ]
  },
  {
   "cell_type": "markdown",
   "metadata": {},
   "source": [
    "### 7. Examine the Date column. Make it the index of the DataFrame.\n",
    "\n",
    "Making the index a datetime allows us to easily order the data by time. Doing this will result in 6 Series objects indexed by DateTime- literal Time Series!"
   ]
  },
  {
   "cell_type": "code",
   "execution_count": 14,
   "metadata": {
    "collapsed": false
   },
   "outputs": [
    {
     "data": {
      "text/html": [
       "<div>\n",
       "<table border=\"1\" class=\"dataframe\">\n",
       "  <thead>\n",
       "    <tr style=\"text-align: right;\">\n",
       "      <th></th>\n",
       "      <th>Date</th>\n",
       "      <th>Open</th>\n",
       "      <th>High</th>\n",
       "      <th>Low</th>\n",
       "      <th>Close</th>\n",
       "      <th>Volume</th>\n",
       "    </tr>\n",
       "  </thead>\n",
       "  <tbody>\n",
       "    <tr>\n",
       "      <th>0</th>\n",
       "      <td>16-Jan-17</td>\n",
       "      <td>150.05</td>\n",
       "      <td>150.70</td>\n",
       "      <td>147.75</td>\n",
       "      <td>148.40</td>\n",
       "      <td>79341</td>\n",
       "    </tr>\n",
       "    <tr>\n",
       "      <th>1</th>\n",
       "      <td>13-Jan-17</td>\n",
       "      <td>151.85</td>\n",
       "      <td>154.00</td>\n",
       "      <td>149.95</td>\n",
       "      <td>151.75</td>\n",
       "      <td>112464</td>\n",
       "    </tr>\n",
       "    <tr>\n",
       "      <th>2</th>\n",
       "      <td>12-Jan-17</td>\n",
       "      <td>154.05</td>\n",
       "      <td>154.30</td>\n",
       "      <td>148.85</td>\n",
       "      <td>150.70</td>\n",
       "      <td>173155</td>\n",
       "    </tr>\n",
       "    <tr>\n",
       "      <th>3</th>\n",
       "      <td>11-Jan-17</td>\n",
       "      <td>149.05</td>\n",
       "      <td>153.65</td>\n",
       "      <td>148.80</td>\n",
       "      <td>153.15</td>\n",
       "      <td>181285</td>\n",
       "    </tr>\n",
       "    <tr>\n",
       "      <th>4</th>\n",
       "      <td>10-Jan-17</td>\n",
       "      <td>148.05</td>\n",
       "      <td>149.85</td>\n",
       "      <td>146.60</td>\n",
       "      <td>148.10</td>\n",
       "      <td>137786</td>\n",
       "    </tr>\n",
       "  </tbody>\n",
       "</table>\n",
       "</div>"
      ],
      "text/plain": [
       "        Date    Open    High     Low   Close  Volume\n",
       "0  16-Jan-17  150.05  150.70  147.75  148.40   79341\n",
       "1  13-Jan-17  151.85  154.00  149.95  151.75  112464\n",
       "2  12-Jan-17  154.05  154.30  148.85  150.70  173155\n",
       "3  11-Jan-17  149.05  153.65  148.80  153.15  181285\n",
       "4  10-Jan-17  148.05  149.85  146.60  148.10  137786"
      ]
     },
     "execution_count": 14,
     "metadata": {},
     "output_type": "execute_result"
    }
   ],
   "source": [
    "# A:\n",
    "df_vow.head()"
   ]
  },
  {
   "cell_type": "code",
   "execution_count": 15,
   "metadata": {
    "collapsed": false
   },
   "outputs": [
    {
     "data": {
      "text/plain": [
       "dtype('O')"
      ]
     },
     "execution_count": 15,
     "metadata": {},
     "output_type": "execute_result"
    }
   ],
   "source": [
    "df_vow[\"Date\"].dtype"
   ]
  },
  {
   "cell_type": "code",
   "execution_count": 16,
   "metadata": {
    "collapsed": false
   },
   "outputs": [
    {
     "data": {
      "text/plain": [
       "str"
      ]
     },
     "execution_count": 16,
     "metadata": {},
     "output_type": "execute_result"
    }
   ],
   "source": [
    "# A:\n",
    "type(df_vow['Date'].loc[0])"
   ]
  },
  {
   "cell_type": "code",
   "execution_count": 17,
   "metadata": {
    "collapsed": true
   },
   "outputs": [],
   "source": [
    "df_vow.set_index('Date', inplace=True)\n",
    "df_vow.index = pd.to_datetime(df_vow.index)"
   ]
  },
  {
   "cell_type": "code",
   "execution_count": 18,
   "metadata": {
    "collapsed": false
   },
   "outputs": [
    {
     "data": {
      "text/html": [
       "<div>\n",
       "<table border=\"1\" class=\"dataframe\">\n",
       "  <thead>\n",
       "    <tr style=\"text-align: right;\">\n",
       "      <th></th>\n",
       "      <th>Open</th>\n",
       "      <th>High</th>\n",
       "      <th>Low</th>\n",
       "      <th>Close</th>\n",
       "      <th>Volume</th>\n",
       "    </tr>\n",
       "    <tr>\n",
       "      <th>Date</th>\n",
       "      <th></th>\n",
       "      <th></th>\n",
       "      <th></th>\n",
       "      <th></th>\n",
       "      <th></th>\n",
       "    </tr>\n",
       "  </thead>\n",
       "  <tbody>\n",
       "    <tr>\n",
       "      <th>2017-01-16</th>\n",
       "      <td>150.05</td>\n",
       "      <td>150.70</td>\n",
       "      <td>147.75</td>\n",
       "      <td>148.40</td>\n",
       "      <td>79341</td>\n",
       "    </tr>\n",
       "    <tr>\n",
       "      <th>2017-01-13</th>\n",
       "      <td>151.85</td>\n",
       "      <td>154.00</td>\n",
       "      <td>149.95</td>\n",
       "      <td>151.75</td>\n",
       "      <td>112464</td>\n",
       "    </tr>\n",
       "    <tr>\n",
       "      <th>2017-01-12</th>\n",
       "      <td>154.05</td>\n",
       "      <td>154.30</td>\n",
       "      <td>148.85</td>\n",
       "      <td>150.70</td>\n",
       "      <td>173155</td>\n",
       "    </tr>\n",
       "    <tr>\n",
       "      <th>2017-01-11</th>\n",
       "      <td>149.05</td>\n",
       "      <td>153.65</td>\n",
       "      <td>148.80</td>\n",
       "      <td>153.15</td>\n",
       "      <td>181285</td>\n",
       "    </tr>\n",
       "    <tr>\n",
       "      <th>2017-01-10</th>\n",
       "      <td>148.05</td>\n",
       "      <td>149.85</td>\n",
       "      <td>146.60</td>\n",
       "      <td>148.10</td>\n",
       "      <td>137786</td>\n",
       "    </tr>\n",
       "  </tbody>\n",
       "</table>\n",
       "</div>"
      ],
      "text/plain": [
       "              Open    High     Low   Close  Volume\n",
       "Date                                              \n",
       "2017-01-16  150.05  150.70  147.75  148.40   79341\n",
       "2017-01-13  151.85  154.00  149.95  151.75  112464\n",
       "2017-01-12  154.05  154.30  148.85  150.70  173155\n",
       "2017-01-11  149.05  153.65  148.80  153.15  181285\n",
       "2017-01-10  148.05  149.85  146.60  148.10  137786"
      ]
     },
     "execution_count": 18,
     "metadata": {},
     "output_type": "execute_result"
    }
   ],
   "source": [
    "df_vow.head()"
   ]
  },
  {
   "cell_type": "markdown",
   "metadata": {},
   "source": [
    "### 8. Add columns with useful data extracted from the DateTime index.\n",
    "\n",
    "Make at least three columns, one for day, month, and year.\n"
   ]
  },
  {
   "cell_type": "code",
   "execution_count": 19,
   "metadata": {
    "collapsed": true
   },
   "outputs": [],
   "source": [
    "# A:\n",
    "df_vow['Year'] = df_vow.index.year\n",
    "df_vow['Month'] = df_vow.index.month\n",
    "df_vow['Day'] = df_vow.index.day"
   ]
  },
  {
   "cell_type": "code",
   "execution_count": 20,
   "metadata": {
    "collapsed": false
   },
   "outputs": [
    {
     "data": {
      "text/html": [
       "<div>\n",
       "<table border=\"1\" class=\"dataframe\">\n",
       "  <thead>\n",
       "    <tr style=\"text-align: right;\">\n",
       "      <th></th>\n",
       "      <th>Open</th>\n",
       "      <th>High</th>\n",
       "      <th>Low</th>\n",
       "      <th>Close</th>\n",
       "      <th>Volume</th>\n",
       "      <th>Year</th>\n",
       "      <th>Month</th>\n",
       "      <th>Day</th>\n",
       "    </tr>\n",
       "    <tr>\n",
       "      <th>Date</th>\n",
       "      <th></th>\n",
       "      <th></th>\n",
       "      <th></th>\n",
       "      <th></th>\n",
       "      <th></th>\n",
       "      <th></th>\n",
       "      <th></th>\n",
       "      <th></th>\n",
       "    </tr>\n",
       "  </thead>\n",
       "  <tbody>\n",
       "    <tr>\n",
       "      <th>2017-01-16</th>\n",
       "      <td>150.05</td>\n",
       "      <td>150.70</td>\n",
       "      <td>147.75</td>\n",
       "      <td>148.40</td>\n",
       "      <td>79341</td>\n",
       "      <td>2017</td>\n",
       "      <td>1</td>\n",
       "      <td>16</td>\n",
       "    </tr>\n",
       "    <tr>\n",
       "      <th>2017-01-13</th>\n",
       "      <td>151.85</td>\n",
       "      <td>154.00</td>\n",
       "      <td>149.95</td>\n",
       "      <td>151.75</td>\n",
       "      <td>112464</td>\n",
       "      <td>2017</td>\n",
       "      <td>1</td>\n",
       "      <td>13</td>\n",
       "    </tr>\n",
       "    <tr>\n",
       "      <th>2017-01-12</th>\n",
       "      <td>154.05</td>\n",
       "      <td>154.30</td>\n",
       "      <td>148.85</td>\n",
       "      <td>150.70</td>\n",
       "      <td>173155</td>\n",
       "      <td>2017</td>\n",
       "      <td>1</td>\n",
       "      <td>12</td>\n",
       "    </tr>\n",
       "    <tr>\n",
       "      <th>2017-01-11</th>\n",
       "      <td>149.05</td>\n",
       "      <td>153.65</td>\n",
       "      <td>148.80</td>\n",
       "      <td>153.15</td>\n",
       "      <td>181285</td>\n",
       "      <td>2017</td>\n",
       "      <td>1</td>\n",
       "      <td>11</td>\n",
       "    </tr>\n",
       "    <tr>\n",
       "      <th>2017-01-10</th>\n",
       "      <td>148.05</td>\n",
       "      <td>149.85</td>\n",
       "      <td>146.60</td>\n",
       "      <td>148.10</td>\n",
       "      <td>137786</td>\n",
       "      <td>2017</td>\n",
       "      <td>1</td>\n",
       "      <td>10</td>\n",
       "    </tr>\n",
       "  </tbody>\n",
       "</table>\n",
       "</div>"
      ],
      "text/plain": [
       "              Open    High     Low   Close  Volume  Year  Month  Day\n",
       "Date                                                                \n",
       "2017-01-16  150.05  150.70  147.75  148.40   79341  2017      1   16\n",
       "2017-01-13  151.85  154.00  149.95  151.75  112464  2017      1   13\n",
       "2017-01-12  154.05  154.30  148.85  150.70  173155  2017      1   12\n",
       "2017-01-11  149.05  153.65  148.80  153.15  181285  2017      1   11\n",
       "2017-01-10  148.05  149.85  146.60  148.10  137786  2017      1   10"
      ]
     },
     "execution_count": 20,
     "metadata": {},
     "output_type": "execute_result"
    }
   ],
   "source": [
    "df_vow.head()"
   ]
  },
  {
   "cell_type": "markdown",
   "metadata": {},
   "source": [
    "### 9. Create a subset of the data containing only 2017 dates."
   ]
  },
  {
   "cell_type": "code",
   "execution_count": 21,
   "metadata": {
    "collapsed": false
   },
   "outputs": [
    {
     "data": {
      "text/html": [
       "<div>\n",
       "<table border=\"1\" class=\"dataframe\">\n",
       "  <thead>\n",
       "    <tr style=\"text-align: right;\">\n",
       "      <th></th>\n",
       "      <th>Open</th>\n",
       "      <th>High</th>\n",
       "      <th>Low</th>\n",
       "      <th>Close</th>\n",
       "      <th>Volume</th>\n",
       "      <th>Year</th>\n",
       "      <th>Month</th>\n",
       "      <th>Day</th>\n",
       "    </tr>\n",
       "    <tr>\n",
       "      <th>Date</th>\n",
       "      <th></th>\n",
       "      <th></th>\n",
       "      <th></th>\n",
       "      <th></th>\n",
       "      <th></th>\n",
       "      <th></th>\n",
       "      <th></th>\n",
       "      <th></th>\n",
       "    </tr>\n",
       "  </thead>\n",
       "  <tbody>\n",
       "    <tr>\n",
       "      <th>2017-01-16</th>\n",
       "      <td>150.05</td>\n",
       "      <td>150.70</td>\n",
       "      <td>147.75</td>\n",
       "      <td>148.40</td>\n",
       "      <td>79341</td>\n",
       "      <td>2017</td>\n",
       "      <td>1</td>\n",
       "      <td>16</td>\n",
       "    </tr>\n",
       "    <tr>\n",
       "      <th>2017-01-13</th>\n",
       "      <td>151.85</td>\n",
       "      <td>154.00</td>\n",
       "      <td>149.95</td>\n",
       "      <td>151.75</td>\n",
       "      <td>112464</td>\n",
       "      <td>2017</td>\n",
       "      <td>1</td>\n",
       "      <td>13</td>\n",
       "    </tr>\n",
       "    <tr>\n",
       "      <th>2017-01-12</th>\n",
       "      <td>154.05</td>\n",
       "      <td>154.30</td>\n",
       "      <td>148.85</td>\n",
       "      <td>150.70</td>\n",
       "      <td>173155</td>\n",
       "      <td>2017</td>\n",
       "      <td>1</td>\n",
       "      <td>12</td>\n",
       "    </tr>\n",
       "    <tr>\n",
       "      <th>2017-01-11</th>\n",
       "      <td>149.05</td>\n",
       "      <td>153.65</td>\n",
       "      <td>148.80</td>\n",
       "      <td>153.15</td>\n",
       "      <td>181285</td>\n",
       "      <td>2017</td>\n",
       "      <td>1</td>\n",
       "      <td>11</td>\n",
       "    </tr>\n",
       "    <tr>\n",
       "      <th>2017-01-10</th>\n",
       "      <td>148.05</td>\n",
       "      <td>149.85</td>\n",
       "      <td>146.60</td>\n",
       "      <td>148.10</td>\n",
       "      <td>137786</td>\n",
       "      <td>2017</td>\n",
       "      <td>1</td>\n",
       "      <td>10</td>\n",
       "    </tr>\n",
       "    <tr>\n",
       "      <th>2017-01-09</th>\n",
       "      <td>143.20</td>\n",
       "      <td>148.15</td>\n",
       "      <td>143.20</td>\n",
       "      <td>148.05</td>\n",
       "      <td>163025</td>\n",
       "      <td>2017</td>\n",
       "      <td>1</td>\n",
       "      <td>9</td>\n",
       "    </tr>\n",
       "    <tr>\n",
       "      <th>2017-01-06</th>\n",
       "      <td>142.60</td>\n",
       "      <td>143.25</td>\n",
       "      <td>141.85</td>\n",
       "      <td>142.60</td>\n",
       "      <td>36778</td>\n",
       "      <td>2017</td>\n",
       "      <td>1</td>\n",
       "      <td>6</td>\n",
       "    </tr>\n",
       "    <tr>\n",
       "      <th>2017-01-05</th>\n",
       "      <td>141.00</td>\n",
       "      <td>144.00</td>\n",
       "      <td>140.85</td>\n",
       "      <td>143.25</td>\n",
       "      <td>69801</td>\n",
       "      <td>2017</td>\n",
       "      <td>1</td>\n",
       "      <td>5</td>\n",
       "    </tr>\n",
       "    <tr>\n",
       "      <th>2017-01-04</th>\n",
       "      <td>143.85</td>\n",
       "      <td>144.75</td>\n",
       "      <td>140.25</td>\n",
       "      <td>142.05</td>\n",
       "      <td>116569</td>\n",
       "      <td>2017</td>\n",
       "      <td>1</td>\n",
       "      <td>4</td>\n",
       "    </tr>\n",
       "    <tr>\n",
       "      <th>2017-01-03</th>\n",
       "      <td>141.30</td>\n",
       "      <td>145.30</td>\n",
       "      <td>141.30</td>\n",
       "      <td>143.75</td>\n",
       "      <td>96699</td>\n",
       "      <td>2017</td>\n",
       "      <td>1</td>\n",
       "      <td>3</td>\n",
       "    </tr>\n",
       "    <tr>\n",
       "      <th>2017-01-02</th>\n",
       "      <td>136.75</td>\n",
       "      <td>141.55</td>\n",
       "      <td>136.30</td>\n",
       "      <td>140.90</td>\n",
       "      <td>59235</td>\n",
       "      <td>2017</td>\n",
       "      <td>1</td>\n",
       "      <td>2</td>\n",
       "    </tr>\n",
       "  </tbody>\n",
       "</table>\n",
       "</div>"
      ],
      "text/plain": [
       "              Open    High     Low   Close  Volume  Year  Month  Day\n",
       "Date                                                                \n",
       "2017-01-16  150.05  150.70  147.75  148.40   79341  2017      1   16\n",
       "2017-01-13  151.85  154.00  149.95  151.75  112464  2017      1   13\n",
       "2017-01-12  154.05  154.30  148.85  150.70  173155  2017      1   12\n",
       "2017-01-11  149.05  153.65  148.80  153.15  181285  2017      1   11\n",
       "2017-01-10  148.05  149.85  146.60  148.10  137786  2017      1   10\n",
       "2017-01-09  143.20  148.15  143.20  148.05  163025  2017      1    9\n",
       "2017-01-06  142.60  143.25  141.85  142.60   36778  2017      1    6\n",
       "2017-01-05  141.00  144.00  140.85  143.25   69801  2017      1    5\n",
       "2017-01-04  143.85  144.75  140.25  142.05  116569  2017      1    4\n",
       "2017-01-03  141.30  145.30  141.30  143.75   96699  2017      1    3\n",
       "2017-01-02  136.75  141.55  136.30  140.90   59235  2017      1    2"
      ]
     },
     "execution_count": 21,
     "metadata": {},
     "output_type": "execute_result"
    }
   ],
   "source": [
    "# A:\n",
    "df_vow[df_vow['Year']==2017]"
   ]
  },
  {
   "cell_type": "markdown",
   "metadata": {},
   "source": [
    "### 10. [Example] Date ranges and frequencies.\n",
    "\n",
    "Explore the following built-in methods:\n",
    "- What does `asfreq` do?\n",
    "> - _Convert TimeSeries to specified frequency._\n",
    "\n",
    "- What does `resample` do?\n",
    "> - _Convenience method for frequency conversion and resampling of time series. Object must have a datetime-like index (DatetimeIndex, PeriodIndex, or TimedeltaIndex), or pass datetime-like values to the on or level keyword._\n",
    "\n",
    "We can also create our own date ranges using a built in function, `date_range`. The `periods` and `freq` keyword arguments grant the user finegrained control over the resulting values. To reset the time data, use the `normalize=True` directive.\n"
   ]
  },
  {
   "cell_type": "code",
   "execution_count": 22,
   "metadata": {
    "collapsed": false
   },
   "outputs": [
    {
     "data": {
      "text/plain": [
       "DatetimeIndex(['2012-03-07', '2012-03-08', '2012-03-09', '2012-03-10',\n",
       "               '2012-03-11', '2012-03-12'],\n",
       "              dtype='datetime64[ns]', freq='D')"
      ]
     },
     "execution_count": 22,
     "metadata": {},
     "output_type": "execute_result"
    }
   ],
   "source": [
    "index = pd.date_range('3/1/2016', '6/1/2016')\n",
    "\n",
    "# Specifify a start point and how many periods after\n",
    "pd.date_range(start='3/1/2016', periods=20)\n",
    "\n",
    "#Specify a end point and how many periods before\n",
    "pd.date_range(end='6/1/2016', periods=20)\n",
    "\n",
    "# Frequency specifyins the length of the periods the default 'D' being daily.  I imagine BM is Bi-Monthly\n",
    "pd.date_range('1/1/2016', '12/1/2016', freq='BM')\n",
    "\n",
    "pd.date_range('3/7/2016 12:56:31', periods=6)\n",
    "# normalize creates normal daily times, and will make the default time for each day midnight.\n",
    "pd.date_range('3/7/2012 12:56:31', periods=6, normalize=True)"
   ]
  },
  {
   "cell_type": "markdown",
   "metadata": {},
   "source": [
    "We are also given a Period object, which can be used to represent a time interval. The Period object consists of a start time and an end time, and can be created by providing a start time and a given frequency."
   ]
  },
  {
   "cell_type": "code",
   "execution_count": 23,
   "metadata": {
    "collapsed": false
   },
   "outputs": [
    {
     "name": "stdout",
     "output_type": "stream",
     "text": [
      "2016-03-01 00:00:00\n",
      "2016-03-31 23:59:59.999999999\n"
     ]
    }
   ],
   "source": [
    "# March 2016 was our start period, and the period frequency is months.\n",
    "march_2016 = pd.Period('2016-03', freq='M')\n",
    "\n",
    "print march_2016.start_time\n",
    "print march_2016.end_time"
   ]
  },
  {
   "cell_type": "code",
   "execution_count": null,
   "metadata": {
    "collapsed": true
   },
   "outputs": [],
   "source": []
  }
 ],
 "metadata": {
  "kernelspec": {
   "display_name": "Python 2",
   "language": "python",
   "name": "python2"
  },
  "language_info": {
   "codemirror_mode": {
    "name": "ipython",
    "version": 2
   },
   "file_extension": ".py",
   "mimetype": "text/x-python",
   "name": "python",
   "nbconvert_exporter": "python",
   "pygments_lexer": "ipython2",
   "version": "2.7.13"
  }
 },
 "nbformat": 4,
 "nbformat_minor": 2
}
