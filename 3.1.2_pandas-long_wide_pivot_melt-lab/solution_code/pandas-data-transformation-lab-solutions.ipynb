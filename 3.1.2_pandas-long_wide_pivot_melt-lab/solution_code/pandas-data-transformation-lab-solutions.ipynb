{
 "cells": [
  {
   "cell_type": "markdown",
   "metadata": {},
   "source": [
    "<img src=\"http://imgur.com/1ZcRyrc.png\" style=\"float: left; margin: 20px; height: 55px\">\n",
    "\n",
    "## Practice Data Format Transformations: \"Long\" vs. \"Wide\" Format\n",
    "\n",
    "_Authors: Kiefer Katovich (SF)_\n",
    "\n",
    "---\n",
    "\n",
    "In this lab you will practice going between long and wide formats in pandas, getting deeper into `melt`, `pivot_tables`, and the pitfalls of hierarchical indices than we covered in the lesson.\n",
    "\n",
    "\n",
    "Recall that **long format** has:\n",
    "\n",
    "- Potentially multiple \"id\" (identification) columns.\n",
    "- Variable:value column pairs that match a variable key to a value (in the simple case, a single variable column and a single value column).\n",
    "- The \"variable\" column corresponds to the multiple variable columns in your wide format data. Now, instead of a column for each variable, you have a row for each variable:value pair, per id. \n",
    "- This is a standard format in SQL databases because it is appropriate for joining different tables together by keys.\n",
    "\n",
    "And **wide format:**\n",
    "\n",
    "- There are multiple ID _and_ value columns. In other words, there is a column for every \"variable\" with its own unique values.\n",
    "- The format has both the conceptual simplicity of a single column of values per variable and a more compact matrix.\n",
    "- Is not useful for SQL-style operations: it can make it much harder or even impossible to join tables together on a value.\n",
    "- Can be more useful in pandas when you need to preform operations on variables **across columns**. For example, multiplying columns together.\n",
    "- It is the most commonly the format that you will put the data in when you are ready to perform modeling (with some exceptions). When we get into modeling next week I will explain why.\n",
    "\n",
    "---"
   ]
  },
  {
   "cell_type": "markdown",
   "metadata": {},
   "source": [
    "## A: Humor styles dataset\n",
    "\n",
    "We are going to explore a dataset where people answered a questionnaire on their \"humor styles\", which tries to get at differences in people's sense of humor and their relationship with humor.\n",
    "\n",
    "---\n",
    "\n",
    "### A.1: The 32 questions\n",
    "\n",
    "Subjects answered **32** different questions outlined below:\n",
    "\n",
    "1. I usually don't laugh or joke with other people.\n",
    "2. If I feel depressed, I can cheer myself up with humor.\n",
    "3. If someone makes a mistake, I will tease them about it.\n",
    "4. I let people laugh at me or make fun of me at my expense more than I should.\n",
    "5. I don't have to work very hard to make other people laugh. I am a naturally humorous person.\n",
    "6. Even when I'm alone, I am often amused by the absurdities of life.\n",
    "7. People are never offended or hurt by my sense of humor.\n",
    "8. I will often get carried away in putting myself down if it makes family or friends laugh.\n",
    "9. I rarely make other people laugh by telling funny stories about myself.\n",
    "10. If I am feeling upset or unhappy I usually try to think of something funny about the situation to make myself feel better.\n",
    "11. When telling jokes or saying funny things, I am usually not concerned about how other people are taking it.\n",
    "12. I often try to make people like or accept me more by saying something funny about my own weaknesses, blunders, or faults.\n",
    "13. I laugh and joke a lot with my closest friends.\n",
    "14. My humorous outlook on life keeps me from getting overly upset or depressed about things.\n",
    "15. I do not like it when people use humor as a way of criticizing or putting someone down.\n",
    "16. I don't often say funny things to put myself down.\n",
    "17. I usually don't like to tell jokes or amuse people.\n",
    "18. If I'm by myself and I'm feeling unhappy, I make an effort to think of something funny to cheer myself up.\n",
    "19. Sometimes I think of something that is so funny that I can't stop myself from saying it, even if it is not appropriate for the situation.\n",
    "20. I often go overboard in putting myself down when I am making jokes or trying to be funny.\n",
    "21. I enjoy making people laugh.\n",
    "22. If I am feeling sad or upset, I usually lose my sense of humor.\n",
    "23. I never participate in laughing at others even if all my friends are doing it.\n",
    "24. When I am with friends or family, I often seem to be the one that other people make fun of or joke about.\n",
    "25. I donít often joke around with my friends.\n",
    "26. It is my experience that thinking about some amusing aspect of a situation is often a very effective way of coping with problems.\n",
    "27. If I don't like someone, I often use humor or teasing to put them down.\n",
    "28. If I am having problems or feeling unhappy, I often cover it up by joking around, so that even my closest friends don't know how I really feel.\n",
    "29. I usually can't think of witty things to say when I'm with other people.\n",
    "30. I don't need to be with other people to feel amused. I can usually find things to laugh about even when I'm by myself.\n",
    "31. Even if something is really funny to me, I will not laugh or joke about it if someone will be offended.\n",
    "32. Letting others laugh at me is my way of keeping my friends and family in good spirits.\n",
    "\n",
    "---"
   ]
  },
  {
   "cell_type": "markdown",
   "metadata": {},
   "source": [
    "### A.2: Response codes\n",
    "\n",
    "For each question, there are 5 possible response codes (\"likert scale\") that correspond to different answers. There is also a code that indicates there is no response for that subject.\n",
    "\n",
    "    1 == \"Never or very rarely true\"\n",
    "    2 == \"Rarely true\"\n",
    "    3 == \"Sometimes true\"\n",
    "    4 == \"Often true\"\n",
    "    5 == \"Very often or always true\n",
    "    [-1 == Did not select an answer]\n",
    "\n",
    "---\n",
    "\n",
    "[For more info: https://en.wikipedia.org/wiki/Humor_styles]\n",
    "\n",
    "---"
   ]
  },
  {
   "cell_type": "markdown",
   "metadata": {},
   "source": [
    "## B: Load modules\n",
    "\n",
    "Let's load the standard modules we always use. None of these are new to you.\n",
    "\n",
    "---"
   ]
  },
  {
   "cell_type": "code",
   "execution_count": 1,
   "metadata": {
    "collapsed": true
   },
   "outputs": [],
   "source": [
    "# data modules\n",
    "import numpy as np\n",
    "import scipy.stats as stats\n",
    "import pandas as pd\n",
    "\n",
    "# plotting modules\n",
    "import matplotlib.pyplot as plt\n",
    "import seaborn as sns\n",
    "\n",
    "# make sure charts appear in the notebook:\n",
    "%matplotlib inline"
   ]
  },
  {
   "cell_type": "markdown",
   "metadata": {},
   "source": [
    "---\n",
    "\n",
    "## C: Loading and examining the data\n",
    "\n",
    "The dataset is stored in your **```datasets/humor_styles```** directory.\n",
    "\n",
    "The dataset is called **```hsq_data.csv```**. \"hsq\", as you might expect, stands for \"humor styles questionnaire.\n",
    "\n",
    "[There is also a file called **```hsq_codebook.txt```** which is a text file that contains the information I detailed above. You can examine it if you like.]\n",
    "\n",
    "---"
   ]
  },
  {
   "cell_type": "markdown",
   "metadata": {},
   "source": [
    "### C.1: Create path string and load into pandas"
   ]
  },
  {
   "cell_type": "code",
   "execution_count": 2,
   "metadata": {
    "collapsed": true
   },
   "outputs": [],
   "source": [
    "hsq_path = '../datasets/hsq_data.csv'\n",
    "\n",
    "hsq = pd.read_csv(hsq_path)"
   ]
  },
  {
   "cell_type": "markdown",
   "metadata": {},
   "source": [
    "---\n",
    "\n",
    "### C.2 Look at the header.\n",
    "\n",
    "Let's make sure it looks like what we expect and the data didn't load in incorrectly. This is, of course, always good practice."
   ]
  },
  {
   "cell_type": "code",
   "execution_count": 3,
   "metadata": {
    "collapsed": false
   },
   "outputs": [
    {
     "data": {
      "text/html": [
       "<div>\n",
       "<table border=\"1\" class=\"dataframe\">\n",
       "  <thead>\n",
       "    <tr style=\"text-align: right;\">\n",
       "      <th></th>\n",
       "      <th>Q1</th>\n",
       "      <th>Q2</th>\n",
       "      <th>Q3</th>\n",
       "      <th>Q4</th>\n",
       "      <th>Q5</th>\n",
       "      <th>Q6</th>\n",
       "      <th>Q7</th>\n",
       "      <th>Q8</th>\n",
       "      <th>Q9</th>\n",
       "      <th>Q10</th>\n",
       "      <th>...</th>\n",
       "      <th>Q30</th>\n",
       "      <th>Q31</th>\n",
       "      <th>Q32</th>\n",
       "      <th>affiliative</th>\n",
       "      <th>selfenhancing</th>\n",
       "      <th>agressive</th>\n",
       "      <th>selfdefeating</th>\n",
       "      <th>age</th>\n",
       "      <th>gender</th>\n",
       "      <th>accuracy</th>\n",
       "    </tr>\n",
       "  </thead>\n",
       "  <tbody>\n",
       "    <tr>\n",
       "      <th>0</th>\n",
       "      <td>2</td>\n",
       "      <td>2</td>\n",
       "      <td>3</td>\n",
       "      <td>1</td>\n",
       "      <td>4</td>\n",
       "      <td>5</td>\n",
       "      <td>4</td>\n",
       "      <td>3</td>\n",
       "      <td>4</td>\n",
       "      <td>3</td>\n",
       "      <td>...</td>\n",
       "      <td>4</td>\n",
       "      <td>2</td>\n",
       "      <td>2</td>\n",
       "      <td>4.0</td>\n",
       "      <td>3.5</td>\n",
       "      <td>3.0</td>\n",
       "      <td>2.3</td>\n",
       "      <td>25</td>\n",
       "      <td>2</td>\n",
       "      <td>100</td>\n",
       "    </tr>\n",
       "    <tr>\n",
       "      <th>1</th>\n",
       "      <td>2</td>\n",
       "      <td>3</td>\n",
       "      <td>2</td>\n",
       "      <td>2</td>\n",
       "      <td>4</td>\n",
       "      <td>4</td>\n",
       "      <td>4</td>\n",
       "      <td>3</td>\n",
       "      <td>4</td>\n",
       "      <td>3</td>\n",
       "      <td>...</td>\n",
       "      <td>4</td>\n",
       "      <td>3</td>\n",
       "      <td>1</td>\n",
       "      <td>3.3</td>\n",
       "      <td>3.5</td>\n",
       "      <td>3.3</td>\n",
       "      <td>2.4</td>\n",
       "      <td>44</td>\n",
       "      <td>2</td>\n",
       "      <td>90</td>\n",
       "    </tr>\n",
       "    <tr>\n",
       "      <th>2</th>\n",
       "      <td>3</td>\n",
       "      <td>4</td>\n",
       "      <td>3</td>\n",
       "      <td>3</td>\n",
       "      <td>4</td>\n",
       "      <td>4</td>\n",
       "      <td>3</td>\n",
       "      <td>1</td>\n",
       "      <td>2</td>\n",
       "      <td>4</td>\n",
       "      <td>...</td>\n",
       "      <td>5</td>\n",
       "      <td>4</td>\n",
       "      <td>2</td>\n",
       "      <td>3.9</td>\n",
       "      <td>3.9</td>\n",
       "      <td>3.1</td>\n",
       "      <td>2.3</td>\n",
       "      <td>50</td>\n",
       "      <td>1</td>\n",
       "      <td>75</td>\n",
       "    </tr>\n",
       "    <tr>\n",
       "      <th>3</th>\n",
       "      <td>3</td>\n",
       "      <td>3</td>\n",
       "      <td>3</td>\n",
       "      <td>4</td>\n",
       "      <td>3</td>\n",
       "      <td>5</td>\n",
       "      <td>4</td>\n",
       "      <td>3</td>\n",
       "      <td>-1</td>\n",
       "      <td>4</td>\n",
       "      <td>...</td>\n",
       "      <td>5</td>\n",
       "      <td>3</td>\n",
       "      <td>3</td>\n",
       "      <td>3.6</td>\n",
       "      <td>4.0</td>\n",
       "      <td>2.9</td>\n",
       "      <td>3.3</td>\n",
       "      <td>30</td>\n",
       "      <td>2</td>\n",
       "      <td>85</td>\n",
       "    </tr>\n",
       "    <tr>\n",
       "      <th>4</th>\n",
       "      <td>1</td>\n",
       "      <td>4</td>\n",
       "      <td>2</td>\n",
       "      <td>2</td>\n",
       "      <td>3</td>\n",
       "      <td>5</td>\n",
       "      <td>4</td>\n",
       "      <td>1</td>\n",
       "      <td>4</td>\n",
       "      <td>4</td>\n",
       "      <td>...</td>\n",
       "      <td>5</td>\n",
       "      <td>4</td>\n",
       "      <td>2</td>\n",
       "      <td>4.1</td>\n",
       "      <td>4.1</td>\n",
       "      <td>2.9</td>\n",
       "      <td>2.0</td>\n",
       "      <td>52</td>\n",
       "      <td>1</td>\n",
       "      <td>80</td>\n",
       "    </tr>\n",
       "  </tbody>\n",
       "</table>\n",
       "<p>5 rows × 39 columns</p>\n",
       "</div>"
      ],
      "text/plain": [
       "   Q1  Q2  Q3  Q4  Q5  Q6  Q7  Q8  Q9  Q10    ...     Q30  Q31  Q32  \\\n",
       "0   2   2   3   1   4   5   4   3   4    3    ...       4    2    2   \n",
       "1   2   3   2   2   4   4   4   3   4    3    ...       4    3    1   \n",
       "2   3   4   3   3   4   4   3   1   2    4    ...       5    4    2   \n",
       "3   3   3   3   4   3   5   4   3  -1    4    ...       5    3    3   \n",
       "4   1   4   2   2   3   5   4   1   4    4    ...       5    4    2   \n",
       "\n",
       "   affiliative  selfenhancing  agressive  selfdefeating  age  gender  accuracy  \n",
       "0          4.0            3.5        3.0            2.3   25       2       100  \n",
       "1          3.3            3.5        3.3            2.4   44       2        90  \n",
       "2          3.9            3.9        3.1            2.3   50       1        75  \n",
       "3          3.6            4.0        2.9            3.3   30       2        85  \n",
       "4          4.1            4.1        2.9            2.0   52       1        80  \n",
       "\n",
       "[5 rows x 39 columns]"
      ]
     },
     "execution_count": 3,
     "metadata": {},
     "output_type": "execute_result"
    }
   ],
   "source": [
    "hsq.head()"
   ]
  },
  {
   "cell_type": "markdown",
   "metadata": {},
   "source": [
    "Looking at the head it's apparent we have **32 columns for each question**, but if we scroll over to the right we can see that there are **7 columns of subject properties**.\n",
    "\n",
    "What are these properties? Some are clear and some are not.\n",
    "\n",
    "#### Styles of humor:\n",
    "\n",
    "1. **affiliative**\n",
    "    - The style of humor used to enhance one's relationships with others in a positive and benevolent way. \n",
    "2. **selfenhancing** \n",
    "    - The style of humor related to having a good-natured attitude toward life, having the ability to laugh at yourself, your circumstances and the idiosyncrasies of life in constructive, non-detrimental manner.\n",
    "3. **aggressive** \n",
    "    - The style of humor that is potentially detrimental towards others. This type of humor is characterized by the use of sarcasm, put-downs, teasing, criticism, ridicule, and other types of humor used at the expense of others.   \n",
    "4. **selfdefeating** \n",
    "    - The style of humor characterized by the use of potentially detrimental humor towards the self in order to gain approval from others. Individuals high in this dimension engage in self-disparaging humor in which laughter is often at their own expense.\n",
    "    \n",
    "These are dimensions of humor calculated from the question responses. \n",
    "\n",
    "- The two positive dimensions of humore are: **affiliative** and **selfenhancing**. \n",
    "- The two _(purportedly)_ negative dimensions of humor are: **aggressive** and **selfdefeating**.\n",
    "\n",
    "We are going to calculate these manually later to practice column-wise operations in pandas.\n",
    "\n",
    "---\n",
    "\n",
    "#### Demographics and self-reported accuracy\n",
    "\n",
    "The demographic columns are:\n",
    "\n",
    "- **age**\n",
    "- **gender**\n",
    "    - 1 == male\n",
    "    - 2 == female\n",
    "    - 3 == other\n",
    "\n",
    "Demographics are great to have for each subject in a dataset. We will see the reasons for this later when we start doing regressions and classification.\n",
    "\n",
    "The **accuracy** column is the self-reported accuracy of the questions by the subjects. It is how accurate they thought their answers were on a scale from 0 to 100.\n",
    "\n",
    "**If a subject entered 0 for accuracy, this actually means they did not want to be included in research.**"
   ]
  },
  {
   "cell_type": "markdown",
   "metadata": {},
   "source": [
    "---\n",
    "\n",
    "### C.3: Data shape\n",
    "\n",
    "Lets start to take a look at our data. Print out the shape of the DataFrame."
   ]
  },
  {
   "cell_type": "code",
   "execution_count": 4,
   "metadata": {
    "collapsed": false
   },
   "outputs": [
    {
     "data": {
      "text/plain": [
       "(1071, 39)"
      ]
     },
     "execution_count": 4,
     "metadata": {},
     "output_type": "execute_result"
    }
   ],
   "source": [
    "hsq.shape"
   ]
  },
  {
   "cell_type": "markdown",
   "metadata": {},
   "source": [
    "**C.3.1:** What does the shape mean? What does it tell us for this dataset?"
   ]
  },
  {
   "cell_type": "markdown",
   "metadata": {},
   "source": [
    "**C.3.1.A:** The shape tells us how many rows and columns there are. There  are 1071 rows and 39 columns.\n",
    "\n",
    "For this dataset we have individuals in rows, so we know that our N=1071."
   ]
  },
  {
   "cell_type": "markdown",
   "metadata": {},
   "source": [
    "---\n",
    "\n",
    "### C.4: Describe the data"
   ]
  },
  {
   "cell_type": "markdown",
   "metadata": {},
   "source": [
    "**C.4.1** Print out the names of the columns. You can see that aggressive is misspelled \"agressive\". Replace that column specifically using the ```.rename()``` built-in function. "
   ]
  },
  {
   "cell_type": "code",
   "execution_count": 5,
   "metadata": {
    "collapsed": false
   },
   "outputs": [
    {
     "name": "stdout",
     "output_type": "stream",
     "text": [
      "Index([u'Q1', u'Q2', u'Q3', u'Q4', u'Q5', u'Q6', u'Q7', u'Q8', u'Q9', u'Q10',\n",
      "       u'Q11', u'Q12', u'Q13', u'Q14', u'Q15', u'Q16', u'Q17', u'Q18', u'Q19',\n",
      "       u'Q20', u'Q21', u'Q22', u'Q23', u'Q24', u'Q25', u'Q26', u'Q27', u'Q28',\n",
      "       u'Q29', u'Q30', u'Q31', u'Q32', u'affiliative', u'selfenhancing',\n",
      "       u'agressive', u'selfdefeating', u'age', u'gender', u'accuracy'],\n",
      "      dtype='object')\n",
      "1    3.3\n",
      "2    3.1\n",
      "Name: agressive, dtype: float64\n"
     ]
    }
   ],
   "source": [
    "print hsq.columns\n",
    "print hsq['agressive'][1:3]"
   ]
  },
  {
   "cell_type": "code",
   "execution_count": 6,
   "metadata": {
    "collapsed": false
   },
   "outputs": [],
   "source": [
    "hsq.rename(columns={'agressive':'aggressive'}, inplace=True)"
   ]
  },
  {
   "cell_type": "markdown",
   "metadata": {},
   "source": [
    "**C.4.2** Use the describe built-in function to look at the data"
   ]
  },
  {
   "cell_type": "code",
   "execution_count": 7,
   "metadata": {
    "collapsed": false
   },
   "outputs": [
    {
     "data": {
      "text/html": [
       "<div>\n",
       "<table border=\"1\" class=\"dataframe\">\n",
       "  <thead>\n",
       "    <tr style=\"text-align: right;\">\n",
       "      <th></th>\n",
       "      <th>Q1</th>\n",
       "      <th>Q2</th>\n",
       "      <th>Q3</th>\n",
       "      <th>Q4</th>\n",
       "      <th>Q5</th>\n",
       "      <th>Q6</th>\n",
       "      <th>Q7</th>\n",
       "      <th>Q8</th>\n",
       "      <th>Q9</th>\n",
       "      <th>Q10</th>\n",
       "      <th>...</th>\n",
       "      <th>Q30</th>\n",
       "      <th>Q31</th>\n",
       "      <th>Q32</th>\n",
       "      <th>affiliative</th>\n",
       "      <th>selfenhancing</th>\n",
       "      <th>aggressive</th>\n",
       "      <th>selfdefeating</th>\n",
       "      <th>age</th>\n",
       "      <th>gender</th>\n",
       "      <th>accuracy</th>\n",
       "    </tr>\n",
       "  </thead>\n",
       "  <tbody>\n",
       "    <tr>\n",
       "      <th>count</th>\n",
       "      <td>1071.000000</td>\n",
       "      <td>1071.000000</td>\n",
       "      <td>1071.000000</td>\n",
       "      <td>1071.000000</td>\n",
       "      <td>1071.000000</td>\n",
       "      <td>1071.000000</td>\n",
       "      <td>1071.000000</td>\n",
       "      <td>1071.000000</td>\n",
       "      <td>1071.000000</td>\n",
       "      <td>1071.000000</td>\n",
       "      <td>...</td>\n",
       "      <td>1071.000000</td>\n",
       "      <td>1071.000000</td>\n",
       "      <td>1071.000000</td>\n",
       "      <td>1071.000000</td>\n",
       "      <td>1071.000000</td>\n",
       "      <td>1071.000000</td>\n",
       "      <td>1071.000000</td>\n",
       "      <td>1071.000000</td>\n",
       "      <td>1071.000000</td>\n",
       "      <td>1071.000000</td>\n",
       "    </tr>\n",
       "    <tr>\n",
       "      <th>mean</th>\n",
       "      <td>2.025210</td>\n",
       "      <td>3.342670</td>\n",
       "      <td>3.078431</td>\n",
       "      <td>2.833800</td>\n",
       "      <td>3.599440</td>\n",
       "      <td>4.152194</td>\n",
       "      <td>3.277311</td>\n",
       "      <td>2.535014</td>\n",
       "      <td>2.582633</td>\n",
       "      <td>2.869281</td>\n",
       "      <td>...</td>\n",
       "      <td>3.945845</td>\n",
       "      <td>2.767507</td>\n",
       "      <td>2.838469</td>\n",
       "      <td>4.010644</td>\n",
       "      <td>3.375537</td>\n",
       "      <td>2.956583</td>\n",
       "      <td>2.762745</td>\n",
       "      <td>70.966387</td>\n",
       "      <td>1.455649</td>\n",
       "      <td>87.542484</td>\n",
       "    </tr>\n",
       "    <tr>\n",
       "      <th>std</th>\n",
       "      <td>1.075782</td>\n",
       "      <td>1.112898</td>\n",
       "      <td>1.167877</td>\n",
       "      <td>1.160252</td>\n",
       "      <td>1.061281</td>\n",
       "      <td>0.979315</td>\n",
       "      <td>1.099974</td>\n",
       "      <td>1.231380</td>\n",
       "      <td>1.224530</td>\n",
       "      <td>1.205013</td>\n",
       "      <td>...</td>\n",
       "      <td>1.135189</td>\n",
       "      <td>1.309601</td>\n",
       "      <td>1.233889</td>\n",
       "      <td>0.708479</td>\n",
       "      <td>0.661533</td>\n",
       "      <td>0.410870</td>\n",
       "      <td>0.645982</td>\n",
       "      <td>1371.989249</td>\n",
       "      <td>0.522076</td>\n",
       "      <td>12.038483</td>\n",
       "    </tr>\n",
       "    <tr>\n",
       "      <th>min</th>\n",
       "      <td>-1.000000</td>\n",
       "      <td>-1.000000</td>\n",
       "      <td>-1.000000</td>\n",
       "      <td>-1.000000</td>\n",
       "      <td>-1.000000</td>\n",
       "      <td>-1.000000</td>\n",
       "      <td>-1.000000</td>\n",
       "      <td>-1.000000</td>\n",
       "      <td>-1.000000</td>\n",
       "      <td>-1.000000</td>\n",
       "      <td>...</td>\n",
       "      <td>-1.000000</td>\n",
       "      <td>-1.000000</td>\n",
       "      <td>-1.000000</td>\n",
       "      <td>1.300000</td>\n",
       "      <td>0.000000</td>\n",
       "      <td>0.000000</td>\n",
       "      <td>0.000000</td>\n",
       "      <td>14.000000</td>\n",
       "      <td>0.000000</td>\n",
       "      <td>2.000000</td>\n",
       "    </tr>\n",
       "    <tr>\n",
       "      <th>25%</th>\n",
       "      <td>1.000000</td>\n",
       "      <td>3.000000</td>\n",
       "      <td>2.000000</td>\n",
       "      <td>2.000000</td>\n",
       "      <td>3.000000</td>\n",
       "      <td>4.000000</td>\n",
       "      <td>3.000000</td>\n",
       "      <td>2.000000</td>\n",
       "      <td>2.000000</td>\n",
       "      <td>2.000000</td>\n",
       "      <td>...</td>\n",
       "      <td>3.000000</td>\n",
       "      <td>2.000000</td>\n",
       "      <td>2.000000</td>\n",
       "      <td>3.600000</td>\n",
       "      <td>2.900000</td>\n",
       "      <td>2.800000</td>\n",
       "      <td>2.300000</td>\n",
       "      <td>18.500000</td>\n",
       "      <td>1.000000</td>\n",
       "      <td>80.000000</td>\n",
       "    </tr>\n",
       "    <tr>\n",
       "      <th>50%</th>\n",
       "      <td>2.000000</td>\n",
       "      <td>3.000000</td>\n",
       "      <td>3.000000</td>\n",
       "      <td>3.000000</td>\n",
       "      <td>4.000000</td>\n",
       "      <td>4.000000</td>\n",
       "      <td>3.000000</td>\n",
       "      <td>2.000000</td>\n",
       "      <td>2.000000</td>\n",
       "      <td>3.000000</td>\n",
       "      <td>...</td>\n",
       "      <td>4.000000</td>\n",
       "      <td>3.000000</td>\n",
       "      <td>3.000000</td>\n",
       "      <td>4.100000</td>\n",
       "      <td>3.400000</td>\n",
       "      <td>3.000000</td>\n",
       "      <td>2.800000</td>\n",
       "      <td>23.000000</td>\n",
       "      <td>1.000000</td>\n",
       "      <td>90.000000</td>\n",
       "    </tr>\n",
       "    <tr>\n",
       "      <th>75%</th>\n",
       "      <td>3.000000</td>\n",
       "      <td>4.000000</td>\n",
       "      <td>4.000000</td>\n",
       "      <td>4.000000</td>\n",
       "      <td>4.000000</td>\n",
       "      <td>5.000000</td>\n",
       "      <td>4.000000</td>\n",
       "      <td>3.000000</td>\n",
       "      <td>3.000000</td>\n",
       "      <td>4.000000</td>\n",
       "      <td>...</td>\n",
       "      <td>5.000000</td>\n",
       "      <td>4.000000</td>\n",
       "      <td>4.000000</td>\n",
       "      <td>4.500000</td>\n",
       "      <td>3.800000</td>\n",
       "      <td>3.300000</td>\n",
       "      <td>3.100000</td>\n",
       "      <td>31.000000</td>\n",
       "      <td>2.000000</td>\n",
       "      <td>95.000000</td>\n",
       "    </tr>\n",
       "    <tr>\n",
       "      <th>max</th>\n",
       "      <td>5.000000</td>\n",
       "      <td>5.000000</td>\n",
       "      <td>5.000000</td>\n",
       "      <td>5.000000</td>\n",
       "      <td>5.000000</td>\n",
       "      <td>5.000000</td>\n",
       "      <td>5.000000</td>\n",
       "      <td>5.000000</td>\n",
       "      <td>5.000000</td>\n",
       "      <td>5.000000</td>\n",
       "      <td>...</td>\n",
       "      <td>5.000000</td>\n",
       "      <td>5.000000</td>\n",
       "      <td>5.000000</td>\n",
       "      <td>5.100000</td>\n",
       "      <td>5.000000</td>\n",
       "      <td>5.000000</td>\n",
       "      <td>5.000000</td>\n",
       "      <td>44849.000000</td>\n",
       "      <td>3.000000</td>\n",
       "      <td>100.000000</td>\n",
       "    </tr>\n",
       "  </tbody>\n",
       "</table>\n",
       "<p>8 rows × 39 columns</p>\n",
       "</div>"
      ],
      "text/plain": [
       "                Q1           Q2           Q3           Q4           Q5  \\\n",
       "count  1071.000000  1071.000000  1071.000000  1071.000000  1071.000000   \n",
       "mean      2.025210     3.342670     3.078431     2.833800     3.599440   \n",
       "std       1.075782     1.112898     1.167877     1.160252     1.061281   \n",
       "min      -1.000000    -1.000000    -1.000000    -1.000000    -1.000000   \n",
       "25%       1.000000     3.000000     2.000000     2.000000     3.000000   \n",
       "50%       2.000000     3.000000     3.000000     3.000000     4.000000   \n",
       "75%       3.000000     4.000000     4.000000     4.000000     4.000000   \n",
       "max       5.000000     5.000000     5.000000     5.000000     5.000000   \n",
       "\n",
       "                Q6           Q7           Q8           Q9          Q10  \\\n",
       "count  1071.000000  1071.000000  1071.000000  1071.000000  1071.000000   \n",
       "mean      4.152194     3.277311     2.535014     2.582633     2.869281   \n",
       "std       0.979315     1.099974     1.231380     1.224530     1.205013   \n",
       "min      -1.000000    -1.000000    -1.000000    -1.000000    -1.000000   \n",
       "25%       4.000000     3.000000     2.000000     2.000000     2.000000   \n",
       "50%       4.000000     3.000000     2.000000     2.000000     3.000000   \n",
       "75%       5.000000     4.000000     3.000000     3.000000     4.000000   \n",
       "max       5.000000     5.000000     5.000000     5.000000     5.000000   \n",
       "\n",
       "          ...               Q30          Q31          Q32  affiliative  \\\n",
       "count     ...       1071.000000  1071.000000  1071.000000  1071.000000   \n",
       "mean      ...          3.945845     2.767507     2.838469     4.010644   \n",
       "std       ...          1.135189     1.309601     1.233889     0.708479   \n",
       "min       ...         -1.000000    -1.000000    -1.000000     1.300000   \n",
       "25%       ...          3.000000     2.000000     2.000000     3.600000   \n",
       "50%       ...          4.000000     3.000000     3.000000     4.100000   \n",
       "75%       ...          5.000000     4.000000     4.000000     4.500000   \n",
       "max       ...          5.000000     5.000000     5.000000     5.100000   \n",
       "\n",
       "       selfenhancing   aggressive  selfdefeating           age       gender  \\\n",
       "count    1071.000000  1071.000000    1071.000000   1071.000000  1071.000000   \n",
       "mean        3.375537     2.956583       2.762745     70.966387     1.455649   \n",
       "std         0.661533     0.410870       0.645982   1371.989249     0.522076   \n",
       "min         0.000000     0.000000       0.000000     14.000000     0.000000   \n",
       "25%         2.900000     2.800000       2.300000     18.500000     1.000000   \n",
       "50%         3.400000     3.000000       2.800000     23.000000     1.000000   \n",
       "75%         3.800000     3.300000       3.100000     31.000000     2.000000   \n",
       "max         5.000000     5.000000       5.000000  44849.000000     3.000000   \n",
       "\n",
       "          accuracy  \n",
       "count  1071.000000  \n",
       "mean     87.542484  \n",
       "std      12.038483  \n",
       "min       2.000000  \n",
       "25%      80.000000  \n",
       "50%      90.000000  \n",
       "75%      95.000000  \n",
       "max     100.000000  \n",
       "\n",
       "[8 rows x 39 columns]"
      ]
     },
     "execution_count": 7,
     "metadata": {},
     "output_type": "execute_result"
    }
   ],
   "source": [
    "hsq.describe()"
   ]
  },
  {
   "cell_type": "markdown",
   "metadata": {},
   "source": [
    "**C.4.3** The maximum age is 44849, which is obviously impossible. Clearly there was at least 1 subject that is incorrectly entering their age."
   ]
  },
  {
   "cell_type": "markdown",
   "metadata": {},
   "source": [
    "**C.4.4** Calculate and print just the standard deviation for the columns."
   ]
  },
  {
   "cell_type": "code",
   "execution_count": 8,
   "metadata": {
    "collapsed": false
   },
   "outputs": [
    {
     "data": {
      "text/plain": [
       "Q1                  1.075782\n",
       "Q2                  1.112898\n",
       "Q3                  1.167877\n",
       "Q4                  1.160252\n",
       "Q5                  1.061281\n",
       "Q6                  0.979315\n",
       "Q7                  1.099974\n",
       "Q8                  1.231380\n",
       "Q9                  1.224530\n",
       "Q10                 1.205013\n",
       "Q11                 1.249987\n",
       "Q12                 1.229589\n",
       "Q13                 0.884965\n",
       "Q14                 1.270499\n",
       "Q15                 1.378185\n",
       "Q16                 1.214519\n",
       "Q17                 1.147638\n",
       "Q18                 1.206461\n",
       "Q19                 1.258762\n",
       "Q20                 1.123365\n",
       "Q21                 0.968822\n",
       "Q22                 1.241625\n",
       "Q23                 1.221576\n",
       "Q24                 1.148647\n",
       "Q25                 0.885887\n",
       "Q26                 1.206496\n",
       "Q27                 1.291101\n",
       "Q28                 1.318739\n",
       "Q29                 1.210356\n",
       "Q30                 1.135189\n",
       "Q31                 1.309601\n",
       "Q32                 1.233889\n",
       "affiliative         0.708479\n",
       "selfenhancing       0.661533\n",
       "aggressive          0.410870\n",
       "selfdefeating       0.645982\n",
       "age              1371.989249\n",
       "gender              0.522076\n",
       "accuracy           12.038483\n",
       "dtype: float64"
      ]
     },
     "execution_count": 8,
     "metadata": {},
     "output_type": "execute_result"
    }
   ],
   "source": [
    "hsq.std()"
   ]
  },
  {
   "cell_type": "markdown",
   "metadata": {},
   "source": [
    "**C.4.5**\n",
    "\n",
    "Three examples of potentially bad data in this dataset:\n",
    "\n",
    "1. Questions have different standard deviations, but we know the range for the questions is restricted. This means that for the questions with **higher standard deviation** there is **more variability of responses**. \n",
    "2. The standard deviation for age is 1371, which is higher than any possible age range. This is an example of how outliers screw with a lot of statistical measures.\n",
    "3. The standard deviation is lower for the humor style columns. People's values for these attributes are closer together, on average (but keep in mind this might just be because the range is \"shrunk\", which is why it is important to look at both and plot. There are also -1s in the questions that can skew the answers' distributions, as we will see below)."
   ]
  },
  {
   "cell_type": "markdown",
   "metadata": {},
   "source": [
    "**C.4.6** Using seaborn, plot the distribution for Q15 and plot the distribution for aggressive\n",
    "\n",
    "[Note: you can set ```sns.set(rc={\"figure.figsize\": (12, 12)})``` entered before the distribution plot will set the figure size to 12x12 instead of using the `fig = plt.figure(figsize=(12,12))` pattern. Just another way to do the same thing, use whichever you prefer.]"
   ]
  },
  {
   "cell_type": "code",
   "execution_count": 9,
   "metadata": {
    "collapsed": false
   },
   "outputs": [
    {
     "data": {
      "text/plain": [
       "<matplotlib.axes._subplots.AxesSubplot at 0x114e77e90>"
      ]
     },
     "execution_count": 9,
     "metadata": {},
     "output_type": "execute_result"
    },
    {
     "data": {
      "image/png": "[encoded data removed]",
      "text/plain": [
       "<matplotlib.figure.Figure at 0x114dd0810>"
      ]
     },
     "metadata": {},
     "output_type": "display_data"
    }
   ],
   "source": [
    "sns.set(rc={\"figure.figsize\": (8, 8)})\n",
    "sns.distplot(hsq.Q15, kde=False)"
   ]
  },
  {
   "cell_type": "code",
   "execution_count": 10,
   "metadata": {
    "collapsed": false
   },
   "outputs": [
    {
     "data": {
      "text/plain": [
       "<matplotlib.axes._subplots.AxesSubplot at 0x1150d4c10>"
      ]
     },
     "execution_count": 10,
     "metadata": {},
     "output_type": "execute_result"
    },
    {
     "data": {
      "image/png": "[encoded data removed]",
      "text/plain": [
       "<matplotlib.figure.Figure at 0x1046b3550>"
      ]
     },
     "metadata": {},
     "output_type": "display_data"
    }
   ],
   "source": [
    "sns.distplot(hsq.aggressive, kde=False)"
   ]
  },
  {
   "cell_type": "markdown",
   "metadata": {},
   "source": [
    "**C.4.7** Based on the plots it looks like the calculation of the aggressive style lowers the variability, based on the \"tighter\" distribution. Then again, the question distribution is far from a normal distribution, and so the standard deviation measure is not that descriptive."
   ]
  },
  {
   "cell_type": "markdown",
   "metadata": {},
   "source": [
    "---\n",
    "\n",
    "## D: Convert the data from \"wide\" to \"long\"\n",
    "\n",
    "### D.1: Make the question columns clearer\n",
    "\n",
    "**D.1.1** Before we transform our DataFrame to long format, we should make the questions more descriptive so that we know what they are referring to. Use the provided dictionary of question numbers and names to transform the column labels."
   ]
  },
  {
   "cell_type": "code",
   "execution_count": 1,
   "metadata": {
    "collapsed": true
   },
   "outputs": [],
   "source": [
    "column_change = {\n",
    "    'Q1':'usually_dont_laugh',\n",
    "    'Q2':'if_depressed_use_humor',\n",
    "    'Q3':'tease_others_mistakes',\n",
    "    'Q4':'let_others_laugh_at_me',\n",
    "    'Q5':'make_others_laugh_easy',\n",
    "    'Q6':'when_alone_amused',\n",
    "    'Q7':'my_humor_never_offensive',\n",
    "    'Q8':'use_self_deprecation',\n",
    "    'Q9':'rarely_make_laugh_stories',\n",
    "    'Q10':'if_upset_use_humor',\n",
    "    'Q11':'dont_care_impact_jokes',\n",
    "    'Q12':'self_deprecate_to_befriend',\n",
    "    'Q13':'laugh_alot_with_friends',\n",
    "    'Q14':'humorous_outlook_improves_mood',\n",
    "    'Q15':'dislike_mean_humor',\n",
    "    'Q16':'dont_self_deprecate',\n",
    "    'Q17':'dont_like_telling_jokes',\n",
    "    'Q18':'when_alone_try_laugh',\n",
    "    'Q19':'joke_when_inappropriate',\n",
    "    'Q20':'harshly_self_deprecate',\n",
    "    'Q21':'enjoy_making_others_laugh',\n",
    "    'Q22':'if_sad_cant_laugh',\n",
    "    'Q23':'never_use_mean_humor',\n",
    "    'Q24':'friends_often_tease_me',\n",
    "    'Q25':'dont_often_joke',\n",
    "    'Q26':'humor_coping_mechanism',\n",
    "    'Q27':'tease_disliked_people',\n",
    "    'Q28':'hide_unhappiness_humor',\n",
    "    'Q29':'cant_think_witty_things',\n",
    "    'Q30':'dont_need_others_amused',\n",
    "    'Q31':'if_mean_wont_laugh',\n",
    "    'Q32':'allow_others_tease_me'\n",
    "}"
   ]
  },
  {
   "cell_type": "code",
   "execution_count": 12,
   "metadata": {
    "collapsed": true
   },
   "outputs": [],
   "source": [
    "hsq.rename(columns=column_change, inplace=True)"
   ]
  },
  {
   "cell_type": "markdown",
   "metadata": {},
   "source": [
    "**D.1.2** Print out the columns and take a look at the header to make sure the columns were renamed."
   ]
  },
  {
   "cell_type": "code",
   "execution_count": 13,
   "metadata": {
    "collapsed": false
   },
   "outputs": [
    {
     "name": "stdout",
     "output_type": "stream",
     "text": [
      "Index([u'usually_dont_laugh', u'if_depressed_use_humor',\n",
      "       u'tease_others_mistakes', u'let_others_laugh_at_me',\n",
      "       u'make_others_laugh_easy', u'when_alone_amused',\n",
      "       u'my_humor_never_offensive', u'use_self_deprecation',\n",
      "       u'rarely_make_laugh_stories', u'if_upset_use_humor',\n",
      "       u'dont_care_impact_jokes', u'self_deprecate_to_befriend',\n",
      "       u'laugh_alot_with_friends', u'humorous_outlook_improves_mood',\n",
      "       u'dislike_mean_humor', u'dont_self_deprecate',\n",
      "       u'dont_like_telling_jokes', u'when_alone_try_laugh',\n",
      "       u'joke_when_inappropriate', u'harshly_self_deprecate',\n",
      "       u'enjoy_making_others_laugh', u'if_sad_cant_laugh',\n",
      "       u'never_use_mean_humor', u'friends_often_tease_me', u'dont_often_joke',\n",
      "       u'humor_coping_mechanism', u'tease_disliked_people',\n",
      "       u'hide_unhappiness_humor', u'cant_think_witty_things',\n",
      "       u'dont_need_others_amused', u'if_mean_wont_laugh',\n",
      "       u'allow_others_tease_me', u'affiliative', u'selfenhancing',\n",
      "       u'aggressive', u'selfdefeating', u'age', u'gender', u'accuracy'],\n",
      "      dtype='object')\n"
     ]
    }
   ],
   "source": [
    "print(hsq.columns)"
   ]
  },
  {
   "cell_type": "code",
   "execution_count": 14,
   "metadata": {
    "collapsed": false
   },
   "outputs": [
    {
     "data": {
      "text/html": [
       "<div>\n",
       "<table border=\"1\" class=\"dataframe\">\n",
       "  <thead>\n",
       "    <tr style=\"text-align: right;\">\n",
       "      <th></th>\n",
       "      <th>usually_dont_laugh</th>\n",
       "      <th>if_depressed_use_humor</th>\n",
       "      <th>tease_others_mistakes</th>\n",
       "      <th>let_others_laugh_at_me</th>\n",
       "      <th>make_others_laugh_easy</th>\n",
       "      <th>when_alone_amused</th>\n",
       "      <th>my_humor_never_offensive</th>\n",
       "      <th>use_self_deprecation</th>\n",
       "      <th>rarely_make_laugh_stories</th>\n",
       "      <th>if_upset_use_humor</th>\n",
       "      <th>...</th>\n",
       "      <th>dont_need_others_amused</th>\n",
       "      <th>if_mean_wont_laugh</th>\n",
       "      <th>allow_others_tease_me</th>\n",
       "      <th>affiliative</th>\n",
       "      <th>selfenhancing</th>\n",
       "      <th>aggressive</th>\n",
       "      <th>selfdefeating</th>\n",
       "      <th>age</th>\n",
       "      <th>gender</th>\n",
       "      <th>accuracy</th>\n",
       "    </tr>\n",
       "  </thead>\n",
       "  <tbody>\n",
       "    <tr>\n",
       "      <th>0</th>\n",
       "      <td>2</td>\n",
       "      <td>2</td>\n",
       "      <td>3</td>\n",
       "      <td>1</td>\n",
       "      <td>4</td>\n",
       "      <td>5</td>\n",
       "      <td>4</td>\n",
       "      <td>3</td>\n",
       "      <td>4</td>\n",
       "      <td>3</td>\n",
       "      <td>...</td>\n",
       "      <td>4</td>\n",
       "      <td>2</td>\n",
       "      <td>2</td>\n",
       "      <td>4.0</td>\n",
       "      <td>3.5</td>\n",
       "      <td>3.0</td>\n",
       "      <td>2.3</td>\n",
       "      <td>25</td>\n",
       "      <td>2</td>\n",
       "      <td>100</td>\n",
       "    </tr>\n",
       "    <tr>\n",
       "      <th>1</th>\n",
       "      <td>2</td>\n",
       "      <td>3</td>\n",
       "      <td>2</td>\n",
       "      <td>2</td>\n",
       "      <td>4</td>\n",
       "      <td>4</td>\n",
       "      <td>4</td>\n",
       "      <td>3</td>\n",
       "      <td>4</td>\n",
       "      <td>3</td>\n",
       "      <td>...</td>\n",
       "      <td>4</td>\n",
       "      <td>3</td>\n",
       "      <td>1</td>\n",
       "      <td>3.3</td>\n",
       "      <td>3.5</td>\n",
       "      <td>3.3</td>\n",
       "      <td>2.4</td>\n",
       "      <td>44</td>\n",
       "      <td>2</td>\n",
       "      <td>90</td>\n",
       "    </tr>\n",
       "    <tr>\n",
       "      <th>2</th>\n",
       "      <td>3</td>\n",
       "      <td>4</td>\n",
       "      <td>3</td>\n",
       "      <td>3</td>\n",
       "      <td>4</td>\n",
       "      <td>4</td>\n",
       "      <td>3</td>\n",
       "      <td>1</td>\n",
       "      <td>2</td>\n",
       "      <td>4</td>\n",
       "      <td>...</td>\n",
       "      <td>5</td>\n",
       "      <td>4</td>\n",
       "      <td>2</td>\n",
       "      <td>3.9</td>\n",
       "      <td>3.9</td>\n",
       "      <td>3.1</td>\n",
       "      <td>2.3</td>\n",
       "      <td>50</td>\n",
       "      <td>1</td>\n",
       "      <td>75</td>\n",
       "    </tr>\n",
       "    <tr>\n",
       "      <th>3</th>\n",
       "      <td>3</td>\n",
       "      <td>3</td>\n",
       "      <td>3</td>\n",
       "      <td>4</td>\n",
       "      <td>3</td>\n",
       "      <td>5</td>\n",
       "      <td>4</td>\n",
       "      <td>3</td>\n",
       "      <td>-1</td>\n",
       "      <td>4</td>\n",
       "      <td>...</td>\n",
       "      <td>5</td>\n",
       "      <td>3</td>\n",
       "      <td>3</td>\n",
       "      <td>3.6</td>\n",
       "      <td>4.0</td>\n",
       "      <td>2.9</td>\n",
       "      <td>3.3</td>\n",
       "      <td>30</td>\n",
       "      <td>2</td>\n",
       "      <td>85</td>\n",
       "    </tr>\n",
       "    <tr>\n",
       "      <th>4</th>\n",
       "      <td>1</td>\n",
       "      <td>4</td>\n",
       "      <td>2</td>\n",
       "      <td>2</td>\n",
       "      <td>3</td>\n",
       "      <td>5</td>\n",
       "      <td>4</td>\n",
       "      <td>1</td>\n",
       "      <td>4</td>\n",
       "      <td>4</td>\n",
       "      <td>...</td>\n",
       "      <td>5</td>\n",
       "      <td>4</td>\n",
       "      <td>2</td>\n",
       "      <td>4.1</td>\n",
       "      <td>4.1</td>\n",
       "      <td>2.9</td>\n",
       "      <td>2.0</td>\n",
       "      <td>52</td>\n",
       "      <td>1</td>\n",
       "      <td>80</td>\n",
       "    </tr>\n",
       "  </tbody>\n",
       "</table>\n",
       "<p>5 rows × 39 columns</p>\n",
       "</div>"
      ],
      "text/plain": [
       "   usually_dont_laugh  if_depressed_use_humor  tease_others_mistakes  \\\n",
       "0                   2                       2                      3   \n",
       "1                   2                       3                      2   \n",
       "2                   3                       4                      3   \n",
       "3                   3                       3                      3   \n",
       "4                   1                       4                      2   \n",
       "\n",
       "   let_others_laugh_at_me  make_others_laugh_easy  when_alone_amused  \\\n",
       "0                       1                       4                  5   \n",
       "1                       2                       4                  4   \n",
       "2                       3                       4                  4   \n",
       "3                       4                       3                  5   \n",
       "4                       2                       3                  5   \n",
       "\n",
       "   my_humor_never_offensive  use_self_deprecation  rarely_make_laugh_stories  \\\n",
       "0                         4                     3                          4   \n",
       "1                         4                     3                          4   \n",
       "2                         3                     1                          2   \n",
       "3                         4                     3                         -1   \n",
       "4                         4                     1                          4   \n",
       "\n",
       "   if_upset_use_humor    ...     dont_need_others_amused  if_mean_wont_laugh  \\\n",
       "0                   3    ...                           4                   2   \n",
       "1                   3    ...                           4                   3   \n",
       "2                   4    ...                           5                   4   \n",
       "3                   4    ...                           5                   3   \n",
       "4                   4    ...                           5                   4   \n",
       "\n",
       "   allow_others_tease_me  affiliative  selfenhancing  aggressive  \\\n",
       "0                      2          4.0            3.5         3.0   \n",
       "1                      1          3.3            3.5         3.3   \n",
       "2                      2          3.9            3.9         3.1   \n",
       "3                      3          3.6            4.0         2.9   \n",
       "4                      2          4.1            4.1         2.9   \n",
       "\n",
       "   selfdefeating  age  gender  accuracy  \n",
       "0            2.3   25       2       100  \n",
       "1            2.4   44       2        90  \n",
       "2            2.3   50       1        75  \n",
       "3            3.3   30       2        85  \n",
       "4            2.0   52       1        80  \n",
       "\n",
       "[5 rows x 39 columns]"
      ]
     },
     "execution_count": 14,
     "metadata": {},
     "output_type": "execute_result"
    }
   ],
   "source": [
    "hsq.head()"
   ]
  },
  {
   "cell_type": "markdown",
   "metadata": {},
   "source": [
    "---\n",
    "\n",
    "### D.2: Add a subject ID column\n",
    "\n",
    "We have an index which identifies the rows, but we are going to want a column that is the ID for each subject so that we can keep track of which rows correspond to which subject.\n",
    "\n",
    "If this is not clear, don't worry. The reason we are doing this will become clear when we look at the long-form data visually.\n",
    "\n",
    "**D.2.1** Create an \"ID\" array that is the length of the rows in our data and where each element is unique.\n",
    "\n",
    "[NOTE: Don't call this variable \"id\", as this is reserved. In jupyter notebook, when a variable you are typing gets colored green, you should make it a different name as that is a reserved name.]"
   ]
  },
  {
   "cell_type": "code",
   "execution_count": 15,
   "metadata": {
    "collapsed": false
   },
   "outputs": [
    {
     "name": "stdout",
     "output_type": "stream",
     "text": [
      "(1071,) (1071, 39)\n",
      "[ 1  2  3  4  5  6  7  8  9 10]\n"
     ]
    }
   ],
   "source": [
    "subject_ids = np.arange(1, hsq.shape[0]+1)\n",
    "print subject_ids.shape, hsq.shape\n",
    "print(subject_ids[0:10])"
   ]
  },
  {
   "cell_type": "markdown",
   "metadata": {},
   "source": [
    "**D.2.2** Add a new column to your dataset that is the values of this subject_ids array called \"subject_id\"."
   ]
  },
  {
   "cell_type": "code",
   "execution_count": 16,
   "metadata": {
    "collapsed": false
   },
   "outputs": [],
   "source": [
    "hsq['subject_id'] = subject_ids"
   ]
  },
  {
   "cell_type": "markdown",
   "metadata": {},
   "source": [
    "---\n",
    "\n",
    "### D.3: Transform the data to long format\n",
    "\n",
    "We are now going to transform our dataset from **wide** to **long** format.\n",
    "\n",
    "The pandas function to convert a wide dataset to a long dataset is **```pd.melt()```**\n",
    "\n",
    "Here is an example call of the function for a made-up dataset:\n",
    "\n",
    "```python\n",
    "id_theft_long = pd.melt(id_theft_wide,\n",
    "                        id_vars=['full_name','birth_date'],\n",
    "                        value_vars=['ccv','zip_code','credit_card_number','pin','ssn'],\n",
    "                        var_name='personal_info',\n",
    "                        value_name='info_value')\n",
    "```\n",
    "\n",
    "So, what are the inputs to this function?\n",
    "\n",
    "- **```id_theft_wide```:** this is my wide format dataset with peoples personal info.\n",
    "- **```id_vars```:** these are the columns that are _already identifiers_ or can otherwise not be in value_vars because it is a different data type.\n",
    "- **```value_vars```:** these are the columns that are going to be now represented in a single value column.\n",
    "- **```var_name```:** this is the name of the new, single column that will have the identifiers for each value by row. _The value_var columns are now represented in a single column._\n",
    "- **```value_name```:** this is the name of the new, single column that has the values from the value_vars columns.\n",
    "\n",
    "**D.3.1** Convert your dataset to long format assigned to a new DataFrame.\n",
    "\n",
    "- Your id_vars will be:\n",
    "    - subject_id\n",
    "    - age\n",
    "    - gender\n",
    "- Your ```value_vars``` will be the names of your question, accuracy, and four humor styles columns.\n",
    "- Make ```var_name``` \"variable\"\n",
    "- Make ```value_name``` \"value\"\n"
   ]
  },
  {
   "cell_type": "code",
   "execution_count": 17,
   "metadata": {
    "collapsed": true
   },
   "outputs": [],
   "source": [
    "style_columns = ['affiliative','selfenhancing','aggressive','selfdefeating']\n",
    "question_columns = column_change.values()\n",
    "to_value_variable_columns = style_columns + question_columns + ['accuracy']\n",
    "\n",
    "id_columns = ['subject_id','age','gender']\n",
    "\n",
    "hsq_long = pd.melt(hsq, id_vars=id_columns, value_vars=to_value_variable_columns,\n",
    "                   var_name='variable', value_name='value')"
   ]
  },
  {
   "cell_type": "markdown",
   "metadata": {},
   "source": [
    "**D.3.2** Look at the header. Print the shape of the long DataFrame as well as the unique values in the \"variable\" column."
   ]
  },
  {
   "cell_type": "code",
   "execution_count": 18,
   "metadata": {
    "collapsed": false
   },
   "outputs": [
    {
     "data": {
      "text/html": [
       "<div>\n",
       "<table border=\"1\" class=\"dataframe\">\n",
       "  <thead>\n",
       "    <tr style=\"text-align: right;\">\n",
       "      <th></th>\n",
       "      <th>subject_id</th>\n",
       "      <th>age</th>\n",
       "      <th>gender</th>\n",
       "      <th>variable</th>\n",
       "      <th>value</th>\n",
       "    </tr>\n",
       "  </thead>\n",
       "  <tbody>\n",
       "    <tr>\n",
       "      <th>0</th>\n",
       "      <td>1</td>\n",
       "      <td>25</td>\n",
       "      <td>2</td>\n",
       "      <td>affiliative</td>\n",
       "      <td>4.0</td>\n",
       "    </tr>\n",
       "    <tr>\n",
       "      <th>1</th>\n",
       "      <td>2</td>\n",
       "      <td>44</td>\n",
       "      <td>2</td>\n",
       "      <td>affiliative</td>\n",
       "      <td>3.3</td>\n",
       "    </tr>\n",
       "    <tr>\n",
       "      <th>2</th>\n",
       "      <td>3</td>\n",
       "      <td>50</td>\n",
       "      <td>1</td>\n",
       "      <td>affiliative</td>\n",
       "      <td>3.9</td>\n",
       "    </tr>\n",
       "    <tr>\n",
       "      <th>3</th>\n",
       "      <td>4</td>\n",
       "      <td>30</td>\n",
       "      <td>2</td>\n",
       "      <td>affiliative</td>\n",
       "      <td>3.6</td>\n",
       "    </tr>\n",
       "    <tr>\n",
       "      <th>4</th>\n",
       "      <td>5</td>\n",
       "      <td>52</td>\n",
       "      <td>1</td>\n",
       "      <td>affiliative</td>\n",
       "      <td>4.1</td>\n",
       "    </tr>\n",
       "  </tbody>\n",
       "</table>\n",
       "</div>"
      ],
      "text/plain": [
       "   subject_id  age  gender     variable  value\n",
       "0           1   25       2  affiliative    4.0\n",
       "1           2   44       2  affiliative    3.3\n",
       "2           3   50       1  affiliative    3.9\n",
       "3           4   30       2  affiliative    3.6\n",
       "4           5   52       1  affiliative    4.1"
      ]
     },
     "execution_count": 18,
     "metadata": {},
     "output_type": "execute_result"
    }
   ],
   "source": [
    "hsq_long.head()"
   ]
  },
  {
   "cell_type": "code",
   "execution_count": 19,
   "metadata": {
    "collapsed": false
   },
   "outputs": [
    {
     "name": "stdout",
     "output_type": "stream",
     "text": [
      "Shape:    subject_id  age  gender     variable  value\n",
      "0           1   25       2  affiliative    4.0\n",
      "1           2   44       2  affiliative    3.3\n",
      "2           3   50       1  affiliative    3.9\n",
      "3           4   30       2  affiliative    3.6\n",
      "4           5   52       1  affiliative    4.1\n",
      "Unique variable values: ['affiliative' 'selfenhancing' 'aggressive' 'selfdefeating'\n",
      " 'usually_dont_laugh' 'humor_coping_mechanism' 'tease_others_mistakes'\n",
      " 'if_depressed_use_humor' 'make_others_laugh_easy' 'let_others_laugh_at_me'\n",
      " 'my_humor_never_offensive' 'when_alone_amused' 'rarely_make_laugh_stories'\n",
      " 'use_self_deprecation' 'tease_disliked_people' 'dont_need_others_amused'\n",
      " 'cant_think_witty_things' 'allow_others_tease_me' 'harshly_self_deprecate'\n",
      " 'dont_often_joke' 'if_mean_wont_laugh' 'enjoy_making_others_laugh'\n",
      " 'if_sad_cant_laugh' 'dislike_mean_humor' 'humorous_outlook_improves_mood'\n",
      " 'dont_like_telling_jokes' 'dont_self_deprecate' 'dont_care_impact_jokes'\n",
      " 'if_upset_use_humor' 'laugh_alot_with_friends'\n",
      " 'self_deprecate_to_befriend' 'hide_unhappiness_humor'\n",
      " 'friends_often_tease_me' 'joke_when_inappropriate' 'when_alone_try_laugh'\n",
      " 'never_use_mean_humor' 'accuracy']\n"
     ]
    }
   ],
   "source": [
    "print 'Shape:', hsq_long.head()\n",
    "print 'Unique variable values:', hsq_long.variable.unique()"
   ]
  },
  {
   "cell_type": "markdown",
   "metadata": {},
   "source": [
    "**D.3.3** Print the entire subset of the DataFrame where ```subject_id == 10```"
   ]
  },
  {
   "cell_type": "code",
   "execution_count": 20,
   "metadata": {
    "collapsed": false
   },
   "outputs": [
    {
     "name": "stdout",
     "output_type": "stream",
     "text": [
      "       subject_id  age  gender                        variable  value\n",
      "9              10   18       1                     affiliative    2.4\n",
      "1080           10   18       1                   selfenhancing    2.9\n",
      "2151           10   18       1                      aggressive    3.8\n",
      "3222           10   18       1                   selfdefeating    2.3\n",
      "4293           10   18       1              usually_dont_laugh    4.0\n",
      "5364           10   18       1          humor_coping_mechanism    5.0\n",
      "6435           10   18       1           tease_others_mistakes    4.0\n",
      "7506           10   18       1          if_depressed_use_humor    2.0\n",
      "8577           10   18       1          make_others_laugh_easy    3.0\n",
      "9648           10   18       1          let_others_laugh_at_me    1.0\n",
      "10719          10   18       1        my_humor_never_offensive    4.0\n",
      "11790          10   18       1               when_alone_amused    5.0\n",
      "12861          10   18       1       rarely_make_laugh_stories    3.0\n",
      "13932          10   18       1            use_self_deprecation    2.0\n",
      "15003          10   18       1           tease_disliked_people    5.0\n",
      "16074          10   18       1         dont_need_others_amused    5.0\n",
      "17145          10   18       1         cant_think_witty_things    1.0\n",
      "18216          10   18       1           allow_others_tease_me    2.0\n",
      "19287          10   18       1          harshly_self_deprecate    1.0\n",
      "20358          10   18       1                 dont_often_joke    4.0\n",
      "21429          10   18       1              if_mean_wont_laugh    3.0\n",
      "22500          10   18       1       enjoy_making_others_laugh    2.0\n",
      "23571          10   18       1               if_sad_cant_laugh    1.0\n",
      "24642          10   18       1              dislike_mean_humor    1.0\n",
      "25713          10   18       1  humorous_outlook_improves_mood    3.0\n",
      "26784          10   18       1         dont_like_telling_jokes    5.0\n",
      "27855          10   18       1             dont_self_deprecate    5.0\n",
      "28926          10   18       1          dont_care_impact_jokes    5.0\n",
      "29997          10   18       1              if_upset_use_humor    1.0\n",
      "31068          10   18       1         laugh_alot_with_friends    1.0\n",
      "32139          10   18       1      self_deprecate_to_befriend    3.0\n",
      "33210          10   18       1          hide_unhappiness_humor    2.0\n",
      "34281          10   18       1          friends_often_tease_me    2.0\n",
      "35352          10   18       1         joke_when_inappropriate    3.0\n",
      "36423          10   18       1            when_alone_try_laugh    1.0\n",
      "37494          10   18       1            never_use_mean_humor    5.0\n",
      "38565          10   18       1                        accuracy   85.0\n"
     ]
    }
   ],
   "source": [
    "print hsq_long[hsq_long.subject_id == 10]"
   ]
  },
  {
   "cell_type": "markdown",
   "metadata": {},
   "source": [
    "**D.3.4**\n",
    "Why is the row index for the subset increasing, but there is such a big difference between them for subject 10?\n",
    "\n",
    "The ```melt()``` function is not putting the long DataFrame in order of subject_id. It is ordering the DataFrame first by one of the other variables. Because of that, the different rows that correspond to subject 10 are spread out across the DataFrame.\n",
    "\n",
    "This is why it is important to add the \"subject_id\" column prior to converting to long format and use it as an id column. Without it we would not know which rows corresponded to which subjects after converting to long format."
   ]
  },
  {
   "cell_type": "markdown",
   "metadata": {},
   "source": [
    "**D.3.5** Figure out a way to have the index ordered by subject_id. Google it if you need to. Reset the index of the sorted dataframe and drop the old index with `drop=True`."
   ]
  },
  {
   "cell_type": "code",
   "execution_count": 21,
   "metadata": {
    "collapsed": false
   },
   "outputs": [
    {
     "data": {
      "text/html": [
       "<div>\n",
       "<table border=\"1\" class=\"dataframe\">\n",
       "  <thead>\n",
       "    <tr style=\"text-align: right;\">\n",
       "      <th></th>\n",
       "      <th>subject_id</th>\n",
       "      <th>age</th>\n",
       "      <th>gender</th>\n",
       "      <th>variable</th>\n",
       "      <th>value</th>\n",
       "    </tr>\n",
       "  </thead>\n",
       "  <tbody>\n",
       "    <tr>\n",
       "      <th>0</th>\n",
       "      <td>1</td>\n",
       "      <td>25</td>\n",
       "      <td>2</td>\n",
       "      <td>affiliative</td>\n",
       "      <td>4.0</td>\n",
       "    </tr>\n",
       "    <tr>\n",
       "      <th>25704</th>\n",
       "      <td>1</td>\n",
       "      <td>25</td>\n",
       "      <td>2</td>\n",
       "      <td>humorous_outlook_improves_mood</td>\n",
       "      <td>4.0</td>\n",
       "    </tr>\n",
       "    <tr>\n",
       "      <th>13923</th>\n",
       "      <td>1</td>\n",
       "      <td>25</td>\n",
       "      <td>2</td>\n",
       "      <td>use_self_deprecation</td>\n",
       "      <td>3.0</td>\n",
       "    </tr>\n",
       "    <tr>\n",
       "      <th>18207</th>\n",
       "      <td>1</td>\n",
       "      <td>25</td>\n",
       "      <td>2</td>\n",
       "      <td>allow_others_tease_me</td>\n",
       "      <td>2.0</td>\n",
       "    </tr>\n",
       "    <tr>\n",
       "      <th>21420</th>\n",
       "      <td>1</td>\n",
       "      <td>25</td>\n",
       "      <td>2</td>\n",
       "      <td>if_mean_wont_laugh</td>\n",
       "      <td>2.0</td>\n",
       "    </tr>\n",
       "  </tbody>\n",
       "</table>\n",
       "</div>"
      ],
      "text/plain": [
       "       subject_id  age  gender                        variable  value\n",
       "0               1   25       2                     affiliative    4.0\n",
       "25704           1   25       2  humorous_outlook_improves_mood    4.0\n",
       "13923           1   25       2            use_self_deprecation    3.0\n",
       "18207           1   25       2           allow_others_tease_me    2.0\n",
       "21420           1   25       2              if_mean_wont_laugh    2.0"
      ]
     },
     "execution_count": 21,
     "metadata": {},
     "output_type": "execute_result"
    }
   ],
   "source": [
    "hsq_long.sort_values('subject_id', inplace=True)\n",
    "hsq_long.head()"
   ]
  },
  {
   "cell_type": "code",
   "execution_count": 22,
   "metadata": {
    "collapsed": false
   },
   "outputs": [
    {
     "data": {
      "text/html": [
       "<div>\n",
       "<table border=\"1\" class=\"dataframe\">\n",
       "  <thead>\n",
       "    <tr style=\"text-align: right;\">\n",
       "      <th></th>\n",
       "      <th>subject_id</th>\n",
       "      <th>age</th>\n",
       "      <th>gender</th>\n",
       "      <th>variable</th>\n",
       "      <th>value</th>\n",
       "    </tr>\n",
       "  </thead>\n",
       "  <tbody>\n",
       "    <tr>\n",
       "      <th>0</th>\n",
       "      <td>1</td>\n",
       "      <td>25</td>\n",
       "      <td>2</td>\n",
       "      <td>affiliative</td>\n",
       "      <td>4.0</td>\n",
       "    </tr>\n",
       "    <tr>\n",
       "      <th>1</th>\n",
       "      <td>1</td>\n",
       "      <td>25</td>\n",
       "      <td>2</td>\n",
       "      <td>humorous_outlook_improves_mood</td>\n",
       "      <td>4.0</td>\n",
       "    </tr>\n",
       "    <tr>\n",
       "      <th>2</th>\n",
       "      <td>1</td>\n",
       "      <td>25</td>\n",
       "      <td>2</td>\n",
       "      <td>use_self_deprecation</td>\n",
       "      <td>3.0</td>\n",
       "    </tr>\n",
       "    <tr>\n",
       "      <th>3</th>\n",
       "      <td>1</td>\n",
       "      <td>25</td>\n",
       "      <td>2</td>\n",
       "      <td>allow_others_tease_me</td>\n",
       "      <td>2.0</td>\n",
       "    </tr>\n",
       "    <tr>\n",
       "      <th>4</th>\n",
       "      <td>1</td>\n",
       "      <td>25</td>\n",
       "      <td>2</td>\n",
       "      <td>if_mean_wont_laugh</td>\n",
       "      <td>2.0</td>\n",
       "    </tr>\n",
       "  </tbody>\n",
       "</table>\n",
       "</div>"
      ],
      "text/plain": [
       "   subject_id  age  gender                        variable  value\n",
       "0           1   25       2                     affiliative    4.0\n",
       "1           1   25       2  humorous_outlook_improves_mood    4.0\n",
       "2           1   25       2            use_self_deprecation    3.0\n",
       "3           1   25       2           allow_others_tease_me    2.0\n",
       "4           1   25       2              if_mean_wont_laugh    2.0"
      ]
     },
     "execution_count": 22,
     "metadata": {},
     "output_type": "execute_result"
    }
   ],
   "source": [
    "hsq_long.reset_index(drop=True, inplace=True)\n",
    "hsq_long.head()"
   ]
  },
  {
   "cell_type": "markdown",
   "metadata": {},
   "source": [
    "---\n",
    "\n",
    "## E: Clean dataset and transform variables\n",
    "\n",
    "Transformation and manipulation of variables within subsets of your data is an essential data science skill!\n",
    "\n",
    "Cleaning is also essential. Cleaning data means removing \"bad\" data or any data that should be excluded from your analyses.\n",
    "\n",
    "### E.1: Convert the gender column to a string representation\n",
    "\n",
    "Recall that:\n",
    "    \n",
    "    1 == 'male'\n",
    "    2 == 'female'\n",
    "    3 == 'other'\n",
    "\n",
    "Let's make gender more readable. Convert the numeric gender column to a string column with the gender labels."
   ]
  },
  {
   "cell_type": "code",
   "execution_count": 23,
   "metadata": {
    "collapsed": true
   },
   "outputs": [],
   "source": [
    "def convert_gender(x):\n",
    "    if x == 1:\n",
    "        return 'male'\n",
    "    elif x == 2:\n",
    "        return 'female'\n",
    "    elif x == 3:\n",
    "        return 'other'"
   ]
  },
  {
   "cell_type": "code",
   "execution_count": 24,
   "metadata": {
    "collapsed": true
   },
   "outputs": [],
   "source": [
    "hsq_long['gender'] = hsq_long.gender.map(convert_gender)"
   ]
  },
  {
   "cell_type": "code",
   "execution_count": 25,
   "metadata": {
    "collapsed": false
   },
   "outputs": [
    {
     "data": {
      "text/html": [
       "<div>\n",
       "<table border=\"1\" class=\"dataframe\">\n",
       "  <thead>\n",
       "    <tr style=\"text-align: right;\">\n",
       "      <th></th>\n",
       "      <th>subject_id</th>\n",
       "      <th>age</th>\n",
       "      <th>gender</th>\n",
       "      <th>variable</th>\n",
       "      <th>value</th>\n",
       "    </tr>\n",
       "  </thead>\n",
       "  <tbody>\n",
       "    <tr>\n",
       "      <th>0</th>\n",
       "      <td>1</td>\n",
       "      <td>25</td>\n",
       "      <td>female</td>\n",
       "      <td>affiliative</td>\n",
       "      <td>4.0</td>\n",
       "    </tr>\n",
       "    <tr>\n",
       "      <th>1</th>\n",
       "      <td>1</td>\n",
       "      <td>25</td>\n",
       "      <td>female</td>\n",
       "      <td>humorous_outlook_improves_mood</td>\n",
       "      <td>4.0</td>\n",
       "    </tr>\n",
       "    <tr>\n",
       "      <th>2</th>\n",
       "      <td>1</td>\n",
       "      <td>25</td>\n",
       "      <td>female</td>\n",
       "      <td>use_self_deprecation</td>\n",
       "      <td>3.0</td>\n",
       "    </tr>\n",
       "    <tr>\n",
       "      <th>3</th>\n",
       "      <td>1</td>\n",
       "      <td>25</td>\n",
       "      <td>female</td>\n",
       "      <td>allow_others_tease_me</td>\n",
       "      <td>2.0</td>\n",
       "    </tr>\n",
       "    <tr>\n",
       "      <th>4</th>\n",
       "      <td>1</td>\n",
       "      <td>25</td>\n",
       "      <td>female</td>\n",
       "      <td>if_mean_wont_laugh</td>\n",
       "      <td>2.0</td>\n",
       "    </tr>\n",
       "  </tbody>\n",
       "</table>\n",
       "</div>"
      ],
      "text/plain": [
       "   subject_id  age  gender                        variable  value\n",
       "0           1   25  female                     affiliative    4.0\n",
       "1           1   25  female  humorous_outlook_improves_mood    4.0\n",
       "2           1   25  female            use_self_deprecation    3.0\n",
       "3           1   25  female           allow_others_tease_me    2.0\n",
       "4           1   25  female              if_mean_wont_laugh    2.0"
      ]
     },
     "execution_count": 25,
     "metadata": {},
     "output_type": "execute_result"
    }
   ],
   "source": [
    "hsq_long.head()"
   ]
  },
  {
   "cell_type": "markdown",
   "metadata": {},
   "source": [
    "---\n",
    "\n",
    "### E.2: Removing subjects from the dataset\n",
    "\n",
    "**E.2.1** Users that did not respond to certain questions are going to have potentially unreasonable values for their humor style ratings. \n",
    "\n",
    "Find the users that responded ```-1``` on any of the questions."
   ]
  },
  {
   "cell_type": "code",
   "execution_count": 26,
   "metadata": {
    "collapsed": false
   },
   "outputs": [
    {
     "name": "stdout",
     "output_type": "stream",
     "text": [
      "(162, 5)\n"
     ]
    }
   ],
   "source": [
    "unresponded = hsq_long[hsq_long.value == -1]\n",
    "print(unresponded.shape)"
   ]
  },
  {
   "cell_type": "code",
   "execution_count": 27,
   "metadata": {
    "collapsed": false
   },
   "outputs": [
    {
     "name": "stdout",
     "output_type": "stream",
     "text": [
      "(78,)\n",
      "1026    32\n",
      "716     19\n",
      "814     15\n",
      "502     13\n",
      "898      4\n",
      "46       2\n",
      "536      2\n",
      "895      2\n",
      "788      2\n",
      "807      2\n",
      "482      2\n",
      "774      1\n",
      "86       1\n",
      "552      1\n",
      "591      1\n",
      "858      1\n",
      "1048     1\n",
      "605      1\n",
      "351      1\n",
      "60       1\n",
      "56       1\n",
      "1044     1\n",
      "355      1\n",
      "505      1\n",
      "26       1\n",
      "290      1\n",
      "1053     1\n",
      "108      1\n",
      "634      1\n",
      "535      1\n",
      "        ..\n",
      "452      1\n",
      "466      1\n",
      "724      1\n",
      "984      1\n",
      "731      1\n",
      "222      1\n",
      "491      1\n",
      "237      1\n",
      "1010     1\n",
      "499      1\n",
      "501      1\n",
      "190      1\n",
      "955      1\n",
      "697      1\n",
      "656      1\n",
      "759      1\n",
      "122      1\n",
      "771      1\n",
      "639      1\n",
      "647      1\n",
      "649      1\n",
      "150      1\n",
      "694      1\n",
      "165      1\n",
      "682      1\n",
      "684      1\n",
      "980      1\n",
      "179      1\n",
      "436      1\n",
      "1005     1\n",
      "Name: subject_id, dtype: int64\n"
     ]
    }
   ],
   "source": [
    "incomplete_subs = unresponded.subject_id.value_counts()\n",
    "print incomplete_subs.shape\n",
    "print incomplete_subs"
   ]
  },
  {
   "cell_type": "code",
   "execution_count": 28,
   "metadata": {
    "collapsed": false
   },
   "outputs": [
    {
     "name": "stdout",
     "output_type": "stream",
     "text": [
      "[1026  716  814  502  898   46  536  895  788  807  482  774   86  552  591\n",
      "  858 1048  605  351   60   56 1044  355  505   26  290 1053  108  634  535\n",
      "  530  529  527 1038   13  779  265  262    4  316  612  376  879  118  959\n",
      "  448  705  450  452  466  724  984  731  222  491  237 1010  499  501  190\n",
      "  955  697  656  759  122  771  639  647  649  150  694  165  682  684  980\n",
      "  179  436 1005]\n"
     ]
    }
   ],
   "source": [
    "bad_subjects = incomplete_subs.index.values\n",
    "print bad_subjects"
   ]
  },
  {
   "cell_type": "markdown",
   "metadata": {},
   "source": [
    "**E.2.2** Remove all rows from the datasets corresponding to the bad users.\n",
    "\n",
    "HINTS:\n",
    "    \n",
    "- The **```~```** operator can invert a logical condition/boolean array.\n",
    "- The **```.isin()```** built-in function takes a list of values and returns a boolean array that indicates whether any of the Series or DataFrame values were a member of the list.\n",
    "    "
   ]
  },
  {
   "cell_type": "code",
   "execution_count": 29,
   "metadata": {
    "collapsed": false
   },
   "outputs": [
    {
     "name": "stdout",
     "output_type": "stream",
     "text": [
      "(39627, 5)\n",
      "(36741, 5)\n"
     ]
    }
   ],
   "source": [
    "print hsq_long.shape\n",
    "\n",
    "hsq_long = hsq_long[~hsq_long.subject_id.isin(bad_subjects)]\n",
    "\n",
    "print hsq_long.shape"
   ]
  },
  {
   "cell_type": "markdown",
   "metadata": {},
   "source": [
    "**E.2.3** Subjects who entered 0 for accuracy are actually requesting to not be part of the research. Respecting their wishes, check if any subjects entered 0 for accuracy and remove them."
   ]
  },
  {
   "cell_type": "code",
   "execution_count": 30,
   "metadata": {
    "collapsed": false
   },
   "outputs": [
    {
     "name": "stdout",
     "output_type": "stream",
     "text": [
      "(0, 5)\n"
     ]
    }
   ],
   "source": [
    "request_exclusion = hsq_long[(hsq_long.variable == 'accuracy') & (hsq_long.value == 0)]\n",
    "print request_exclusion.shape"
   ]
  },
  {
   "cell_type": "markdown",
   "metadata": {},
   "source": [
    "**E.2.4** Find the subjects that reported an age over 100 and remove them, because they're lying."
   ]
  },
  {
   "cell_type": "code",
   "execution_count": 31,
   "metadata": {
    "collapsed": false
   },
   "outputs": [
    {
     "name": "stdout",
     "output_type": "stream",
     "text": [
      "[294 304 633 958] (4,)\n"
     ]
    }
   ],
   "source": [
    "lying_subjects = hsq_long[hsq_long.age > 100]\n",
    "lying_subjects = np.unique(lying_subjects.subject_id.values)\n",
    "print lying_subjects, lying_subjects.shape"
   ]
  },
  {
   "cell_type": "code",
   "execution_count": 32,
   "metadata": {
    "collapsed": false
   },
   "outputs": [
    {
     "name": "stdout",
     "output_type": "stream",
     "text": [
      "(36593, 5)\n"
     ]
    }
   ],
   "source": [
    "hsq_long = hsq_long[~hsq_long.subject_id.isin(lying_subjects)]\n",
    "print hsq_long.shape"
   ]
  },
  {
   "cell_type": "markdown",
   "metadata": {},
   "source": [
    "---\n",
    "\n",
    "### E.3: Transform variables (invert some)\n",
    "\n",
    "Some of the scales need to be reversed. We will transform variables so that the valence of the 1-5 likert scale is always going from negative valence to positive valence.\n",
    "\n",
    "For example the scale for this question is already correctly rated from 1 to 5:\n",
    "\n",
    "    Even if I'm by myself, I'm often amused by the absurdity of life.\n",
    "    \n",
    "And this is one that needs to be reversed, since the 1 value actually corresponds to a positive humor style:\n",
    "\n",
    "    I usually don't laugh or joke around much with other people.\n",
    "    \n",
    "Below is a list of the questions that need to be inverted."
   ]
  },
  {
   "cell_type": "code",
   "execution_count": 33,
   "metadata": {
    "collapsed": true
   },
   "outputs": [],
   "source": [
    "inverted_questions = ['usually_dont_laugh',\n",
    "                      'tease_others_mistakes',\n",
    "                      'let_others_laugh_at_me',\n",
    "                      'rarely_make_laugh_stories',\n",
    "                      'use_self_deprecation',\n",
    "                      'tease_disliked_people',\n",
    "                      'cant_think_witty_things',\n",
    "                      'allow_others_tease_me',\n",
    "                      'harshly_self_deprecate',\n",
    "                      'dont_often_joke',\n",
    "                      'if_sad_cant_laugh',\n",
    "                      'dont_like_telling_jokes',\n",
    "                      'dont_care_impact_jokes',\n",
    "                      'self_deprecate_to_befriend',\n",
    "                      'friends_often_tease_me',\n",
    "                      'joke_when_inappropriate']"
   ]
  },
  {
   "cell_type": "markdown",
   "metadata": {},
   "source": [
    "**E.3.1** Write a function that will accept a score value and \"invert\" the score. That is to say:\n",
    "\n",
    "    1 -> 5\n",
    "    2 -> 4\n",
    "    3 -> 3\n",
    "    4 -> 2\n",
    "    5 -> 1"
   ]
  },
  {
   "cell_type": "code",
   "execution_count": 34,
   "metadata": {
    "collapsed": true
   },
   "outputs": [],
   "source": [
    "def score_inverter(question_score):\n",
    "    if question_score == 5:\n",
    "        return 1\n",
    "    elif question_score == 4:\n",
    "        return 2\n",
    "    elif question_score == 3:\n",
    "        return 3\n",
    "    elif question_score == 2:\n",
    "        return 4\n",
    "    elif question_score == 1:\n",
    "        return 5\n",
    "    "
   ]
  },
  {
   "cell_type": "markdown",
   "metadata": {},
   "source": [
    "**E.3.2** Apply the score inverter function to the values where the variable is in the ```inverted_question``` list, reassigning the ```value``` column at those locations.\n",
    "\n",
    "Don't forget about the ```.isin()``` function for Series as well as the ```.map()``` or ```.apply()``` functions for element-wise operations on a Series!\n",
    "\n",
    "http://pandas.pydata.org/pandas-docs/stable/generated/pandas.Series.isin.html\n",
    "\n",
    "http://pandas.pydata.org/pandas-docs/stable/generated/pandas.Series.map.html\n",
    "\n",
    "http://pandas.pydata.org/pandas-docs/version/0.17.0/generated/pandas.Series.apply.html"
   ]
  },
  {
   "cell_type": "code",
   "execution_count": 35,
   "metadata": {
    "collapsed": false
   },
   "outputs": [
    {
     "name": "stdout",
     "output_type": "stream",
     "text": [
      "0    False\n",
      "1    False\n",
      "2     True\n",
      "3     True\n",
      "4    False\n",
      "5     True\n",
      "6    False\n",
      "7    False\n",
      "8     True\n",
      "9    False\n",
      "Name: variable, dtype: bool\n"
     ]
    }
   ],
   "source": [
    "row_mask = hsq_long.variable.isin(inverted_questions)\n",
    "print row_mask[0:10]\n",
    "\n",
    "hsq_long.ix[row_mask, 'value'] = hsq_long.value[row_mask].apply(score_inverter)"
   ]
  },
  {
   "cell_type": "markdown",
   "metadata": {},
   "source": [
    "---\n",
    "\n",
    "## F: Transforming the dataset back to wide format\n",
    "\n",
    "Now we will transform the DataFrame in long format back to wide format.\n",
    "\n",
    "We are going to be using the powerful **```pd.pivot_table()```** function. \n",
    "\n",
    "---\n",
    "\n",
    "### F.1: Use pd.pivot_table() to re-widen your data\n",
    "\n",
    "The ```pd.pivot_table()``` function takes a variety of arguments. For now, lets just set the keyword arguments and corresponding values outlined below:\n",
    "\n",
    "- **data** The first argument is your DataFrame you are going to pivot.\n",
    "\n",
    "- **index** is the key or keys to group by along the pivot table indices, or rows. These \"keys\" are column names in your DataFrame:\n",
    "\n",
    "```python\n",
    "index = ['subject_id','age','gender']\n",
    "```\n",
    "\n",
    "- **columns** is the key or keys to group by along the pivot table columns. These are also column names or a name:\n",
    "\n",
    "```python\n",
    "columns = ['variable']\n",
    "```\n",
    "\n",
    "- **values** is the key or keys that are the values to \"aggregate\". More on aggregation soon, but don't worry about it right now.\n",
    "\n",
    "```python\n",
    "values = 'value'\n",
    "```\n",
    "\n",
    "- **aggfunc** should be the count, which can be the function `len`\n",
    "\n",
    "```python\n",
    "aggfunc = len\n",
    "```\n",
    "\n",
    "**F.1.1** Create a new widened DataFrame from your long data using the specified keyword arguments above. Print out the head and the shape as well."
   ]
  },
  {
   "cell_type": "code",
   "execution_count": 36,
   "metadata": {
    "collapsed": false
   },
   "outputs": [],
   "source": [
    "hsq_wide = pd.pivot_table(hsq_long,\n",
    "                          index=['gender'],\n",
    "                          columns=['variable'],\n",
    "                          values='value',\n",
    "                          aggfunc=len)"
   ]
  },
  {
   "cell_type": "code",
   "execution_count": 37,
   "metadata": {
    "collapsed": false,
    "scrolled": true
   },
   "outputs": [
    {
     "data": {
      "text/html": [
       "<div>\n",
       "<table border=\"1\" class=\"dataframe\">\n",
       "  <thead>\n",
       "    <tr style=\"text-align: right;\">\n",
       "      <th>variable</th>\n",
       "      <th>accuracy</th>\n",
       "      <th>affiliative</th>\n",
       "      <th>aggressive</th>\n",
       "      <th>allow_others_tease_me</th>\n",
       "      <th>cant_think_witty_things</th>\n",
       "      <th>dislike_mean_humor</th>\n",
       "      <th>dont_care_impact_jokes</th>\n",
       "      <th>dont_like_telling_jokes</th>\n",
       "      <th>dont_need_others_amused</th>\n",
       "      <th>dont_often_joke</th>\n",
       "      <th>...</th>\n",
       "      <th>rarely_make_laugh_stories</th>\n",
       "      <th>self_deprecate_to_befriend</th>\n",
       "      <th>selfdefeating</th>\n",
       "      <th>selfenhancing</th>\n",
       "      <th>tease_disliked_people</th>\n",
       "      <th>tease_others_mistakes</th>\n",
       "      <th>use_self_deprecation</th>\n",
       "      <th>usually_dont_laugh</th>\n",
       "      <th>when_alone_amused</th>\n",
       "      <th>when_alone_try_laugh</th>\n",
       "    </tr>\n",
       "    <tr>\n",
       "      <th>gender</th>\n",
       "      <th></th>\n",
       "      <th></th>\n",
       "      <th></th>\n",
       "      <th></th>\n",
       "      <th></th>\n",
       "      <th></th>\n",
       "      <th></th>\n",
       "      <th></th>\n",
       "      <th></th>\n",
       "      <th></th>\n",
       "      <th></th>\n",
       "      <th></th>\n",
       "      <th></th>\n",
       "      <th></th>\n",
       "      <th></th>\n",
       "      <th></th>\n",
       "      <th></th>\n",
       "      <th></th>\n",
       "      <th></th>\n",
       "      <th></th>\n",
       "      <th></th>\n",
       "    </tr>\n",
       "  </thead>\n",
       "  <tbody>\n",
       "    <tr>\n",
       "      <th>female</th>\n",
       "      <td>442.0</td>\n",
       "      <td>442.0</td>\n",
       "      <td>442.0</td>\n",
       "      <td>442.0</td>\n",
       "      <td>442.0</td>\n",
       "      <td>442.0</td>\n",
       "      <td>442.0</td>\n",
       "      <td>442.0</td>\n",
       "      <td>442.0</td>\n",
       "      <td>442.0</td>\n",
       "      <td>...</td>\n",
       "      <td>442.0</td>\n",
       "      <td>442.0</td>\n",
       "      <td>442.0</td>\n",
       "      <td>442.0</td>\n",
       "      <td>442.0</td>\n",
       "      <td>442.0</td>\n",
       "      <td>442.0</td>\n",
       "      <td>442.0</td>\n",
       "      <td>442.0</td>\n",
       "      <td>442.0</td>\n",
       "    </tr>\n",
       "    <tr>\n",
       "      <th>male</th>\n",
       "      <td>535.0</td>\n",
       "      <td>535.0</td>\n",
       "      <td>535.0</td>\n",
       "      <td>535.0</td>\n",
       "      <td>535.0</td>\n",
       "      <td>535.0</td>\n",
       "      <td>535.0</td>\n",
       "      <td>535.0</td>\n",
       "      <td>535.0</td>\n",
       "      <td>535.0</td>\n",
       "      <td>...</td>\n",
       "      <td>535.0</td>\n",
       "      <td>535.0</td>\n",
       "      <td>535.0</td>\n",
       "      <td>535.0</td>\n",
       "      <td>535.0</td>\n",
       "      <td>535.0</td>\n",
       "      <td>535.0</td>\n",
       "      <td>535.0</td>\n",
       "      <td>535.0</td>\n",
       "      <td>535.0</td>\n",
       "    </tr>\n",
       "    <tr>\n",
       "      <th>other</th>\n",
       "      <td>8.0</td>\n",
       "      <td>8.0</td>\n",
       "      <td>8.0</td>\n",
       "      <td>8.0</td>\n",
       "      <td>8.0</td>\n",
       "      <td>8.0</td>\n",
       "      <td>8.0</td>\n",
       "      <td>8.0</td>\n",
       "      <td>8.0</td>\n",
       "      <td>8.0</td>\n",
       "      <td>...</td>\n",
       "      <td>8.0</td>\n",
       "      <td>8.0</td>\n",
       "      <td>8.0</td>\n",
       "      <td>8.0</td>\n",
       "      <td>8.0</td>\n",
       "      <td>8.0</td>\n",
       "      <td>8.0</td>\n",
       "      <td>8.0</td>\n",
       "      <td>8.0</td>\n",
       "      <td>8.0</td>\n",
       "    </tr>\n",
       "  </tbody>\n",
       "</table>\n",
       "<p>3 rows × 37 columns</p>\n",
       "</div>"
      ],
      "text/plain": [
       "variable  accuracy  affiliative  aggressive  allow_others_tease_me  \\\n",
       "gender                                                               \n",
       "female       442.0        442.0       442.0                  442.0   \n",
       "male         535.0        535.0       535.0                  535.0   \n",
       "other          8.0          8.0         8.0                    8.0   \n",
       "\n",
       "variable  cant_think_witty_things  dislike_mean_humor  dont_care_impact_jokes  \\\n",
       "gender                                                                          \n",
       "female                      442.0               442.0                   442.0   \n",
       "male                        535.0               535.0                   535.0   \n",
       "other                         8.0                 8.0                     8.0   \n",
       "\n",
       "variable  dont_like_telling_jokes  dont_need_others_amused  dont_often_joke  \\\n",
       "gender                                                                        \n",
       "female                      442.0                    442.0            442.0   \n",
       "male                        535.0                    535.0            535.0   \n",
       "other                         8.0                      8.0              8.0   \n",
       "\n",
       "variable          ...           rarely_make_laugh_stories  \\\n",
       "gender            ...                                       \n",
       "female            ...                               442.0   \n",
       "male              ...                               535.0   \n",
       "other             ...                                 8.0   \n",
       "\n",
       "variable  self_deprecate_to_befriend  selfdefeating  selfenhancing  \\\n",
       "gender                                                               \n",
       "female                         442.0          442.0          442.0   \n",
       "male                           535.0          535.0          535.0   \n",
       "other                            8.0            8.0            8.0   \n",
       "\n",
       "variable  tease_disliked_people  tease_others_mistakes  use_self_deprecation  \\\n",
       "gender                                                                         \n",
       "female                    442.0                  442.0                 442.0   \n",
       "male                      535.0                  535.0                 535.0   \n",
       "other                       8.0                    8.0                   8.0   \n",
       "\n",
       "variable  usually_dont_laugh  when_alone_amused  when_alone_try_laugh  \n",
       "gender                                                                 \n",
       "female                 442.0              442.0                 442.0  \n",
       "male                   535.0              535.0                 535.0  \n",
       "other                    8.0                8.0                   8.0  \n",
       "\n",
       "[3 rows x 37 columns]"
      ]
     },
     "execution_count": 37,
     "metadata": {},
     "output_type": "execute_result"
    }
   ],
   "source": [
    "hsq_wide"
   ]
  },
  {
   "cell_type": "markdown",
   "metadata": {},
   "source": [
    "#### F.1.2 Reset the index and turn the data into long format\n",
    "\n",
    "The long form melted dataset should have 3 columns: gender, variable, and count."
   ]
  },
  {
   "cell_type": "code",
   "execution_count": 38,
   "metadata": {
    "collapsed": false
   },
   "outputs": [
    {
     "data": {
      "text/html": [
       "<div>\n",
       "<table border=\"1\" class=\"dataframe\">\n",
       "  <thead>\n",
       "    <tr style=\"text-align: right;\">\n",
       "      <th></th>\n",
       "      <th>gender</th>\n",
       "      <th>variable</th>\n",
       "      <th>count</th>\n",
       "    </tr>\n",
       "  </thead>\n",
       "  <tbody>\n",
       "    <tr>\n",
       "      <th>0</th>\n",
       "      <td>female</td>\n",
       "      <td>accuracy</td>\n",
       "      <td>442.0</td>\n",
       "    </tr>\n",
       "    <tr>\n",
       "      <th>1</th>\n",
       "      <td>male</td>\n",
       "      <td>accuracy</td>\n",
       "      <td>535.0</td>\n",
       "    </tr>\n",
       "    <tr>\n",
       "      <th>2</th>\n",
       "      <td>other</td>\n",
       "      <td>accuracy</td>\n",
       "      <td>8.0</td>\n",
       "    </tr>\n",
       "    <tr>\n",
       "      <th>3</th>\n",
       "      <td>female</td>\n",
       "      <td>affiliative</td>\n",
       "      <td>442.0</td>\n",
       "    </tr>\n",
       "    <tr>\n",
       "      <th>4</th>\n",
       "      <td>male</td>\n",
       "      <td>affiliative</td>\n",
       "      <td>535.0</td>\n",
       "    </tr>\n",
       "  </tbody>\n",
       "</table>\n",
       "</div>"
      ],
      "text/plain": [
       "   gender     variable  count\n",
       "0  female     accuracy  442.0\n",
       "1    male     accuracy  535.0\n",
       "2   other     accuracy    8.0\n",
       "3  female  affiliative  442.0\n",
       "4    male  affiliative  535.0"
      ]
     },
     "execution_count": 38,
     "metadata": {},
     "output_type": "execute_result"
    }
   ],
   "source": [
    "hsq_count_long = hsq_wide.reset_index()\n",
    "\n",
    "hsq_count_long = pd.melt(hsq_count_long, id_vars='gender',\n",
    "                      value_name='count')\n",
    "\n",
    "hsq_count_long.head()"
   ]
  },
  {
   "cell_type": "markdown",
   "metadata": {},
   "source": [
    "#### F.1.3 Merge the count long dataset into the full long dataset\n",
    "\n",
    "Merge this small counts by gender and variable dataframe with the original full long dataframe.\n",
    "\n",
    "You have two key variables in the counts dataframe that we need to match with in the full long dataframe.\n",
    "\n",
    "Your code would look something like this:\n",
    "\n",
    "```python\n",
    "hsq_long_merged = hsq_long.merge(hsq_count_long, on=['gender','variable'])\n",
    "```"
   ]
  },
  {
   "cell_type": "code",
   "execution_count": 39,
   "metadata": {
    "collapsed": false
   },
   "outputs": [],
   "source": [
    "hsq_long_merged = hsq_long.merge(hsq_count_long, on=['gender','variable'])"
   ]
  },
  {
   "cell_type": "code",
   "execution_count": 40,
   "metadata": {
    "collapsed": false
   },
   "outputs": [
    {
     "data": {
      "text/html": [
       "<div>\n",
       "<table border=\"1\" class=\"dataframe\">\n",
       "  <thead>\n",
       "    <tr style=\"text-align: right;\">\n",
       "      <th></th>\n",
       "      <th>subject_id</th>\n",
       "      <th>age</th>\n",
       "      <th>gender</th>\n",
       "      <th>variable</th>\n",
       "      <th>value</th>\n",
       "      <th>count</th>\n",
       "    </tr>\n",
       "  </thead>\n",
       "  <tbody>\n",
       "    <tr>\n",
       "      <th>0</th>\n",
       "      <td>1</td>\n",
       "      <td>25</td>\n",
       "      <td>female</td>\n",
       "      <td>affiliative</td>\n",
       "      <td>4.0</td>\n",
       "      <td>442.0</td>\n",
       "    </tr>\n",
       "    <tr>\n",
       "      <th>1</th>\n",
       "      <td>2</td>\n",
       "      <td>44</td>\n",
       "      <td>female</td>\n",
       "      <td>affiliative</td>\n",
       "      <td>3.3</td>\n",
       "      <td>442.0</td>\n",
       "    </tr>\n",
       "    <tr>\n",
       "      <th>2</th>\n",
       "      <td>6</td>\n",
       "      <td>30</td>\n",
       "      <td>female</td>\n",
       "      <td>affiliative</td>\n",
       "      <td>3.6</td>\n",
       "      <td>442.0</td>\n",
       "    </tr>\n",
       "    <tr>\n",
       "      <th>3</th>\n",
       "      <td>9</td>\n",
       "      <td>30</td>\n",
       "      <td>female</td>\n",
       "      <td>affiliative</td>\n",
       "      <td>4.1</td>\n",
       "      <td>442.0</td>\n",
       "    </tr>\n",
       "    <tr>\n",
       "      <th>4</th>\n",
       "      <td>17</td>\n",
       "      <td>27</td>\n",
       "      <td>female</td>\n",
       "      <td>affiliative</td>\n",
       "      <td>5.0</td>\n",
       "      <td>442.0</td>\n",
       "    </tr>\n",
       "  </tbody>\n",
       "</table>\n",
       "</div>"
      ],
      "text/plain": [
       "   subject_id  age  gender     variable  value  count\n",
       "0           1   25  female  affiliative    4.0  442.0\n",
       "1           2   44  female  affiliative    3.3  442.0\n",
       "2           6   30  female  affiliative    3.6  442.0\n",
       "3           9   30  female  affiliative    4.1  442.0\n",
       "4          17   27  female  affiliative    5.0  442.0"
      ]
     },
     "execution_count": 40,
     "metadata": {},
     "output_type": "execute_result"
    }
   ],
   "source": [
    "hsq_long_merged.head()"
   ]
  },
  {
   "cell_type": "markdown",
   "metadata": {},
   "source": [
    "#### F.1.4 Use the pivot table function to calculate the mean of both the original values and the counts by gender and age across variables\n",
    "\n",
    "Example code could be something like this:\n",
    "\n",
    "```python\n",
    "value_count_means = pd.pivot_table(hsq_long_merged,\n",
    "                                   index=['gender','age'],\n",
    "                                   columns=['variable'],\n",
    "                                   values=['value', 'count'],\n",
    "                                   aggfunc=np.mean)\n",
    "```"
   ]
  },
  {
   "cell_type": "code",
   "execution_count": 41,
   "metadata": {
    "collapsed": true
   },
   "outputs": [],
   "source": [
    "value_count_means = pd.pivot_table(hsq_long_merged,\n",
    "                                   index=['gender','age'],\n",
    "                                   columns=['variable'],\n",
    "                                   values=['value', 'count'],\n",
    "                                   aggfunc=np.mean)"
   ]
  },
  {
   "cell_type": "code",
   "execution_count": 42,
   "metadata": {
    "collapsed": false
   },
   "outputs": [
    {
     "data": {
      "text/html": [
       "<div>\n",
       "<table border=\"1\" class=\"dataframe\">\n",
       "  <thead>\n",
       "    <tr>\n",
       "      <th></th>\n",
       "      <th></th>\n",
       "      <th colspan=\"10\" halign=\"left\">value</th>\n",
       "      <th>...</th>\n",
       "      <th colspan=\"10\" halign=\"left\">count</th>\n",
       "    </tr>\n",
       "    <tr>\n",
       "      <th></th>\n",
       "      <th>variable</th>\n",
       "      <th>accuracy</th>\n",
       "      <th>affiliative</th>\n",
       "      <th>aggressive</th>\n",
       "      <th>allow_others_tease_me</th>\n",
       "      <th>cant_think_witty_things</th>\n",
       "      <th>dislike_mean_humor</th>\n",
       "      <th>dont_care_impact_jokes</th>\n",
       "      <th>dont_like_telling_jokes</th>\n",
       "      <th>dont_need_others_amused</th>\n",
       "      <th>dont_often_joke</th>\n",
       "      <th>...</th>\n",
       "      <th>rarely_make_laugh_stories</th>\n",
       "      <th>self_deprecate_to_befriend</th>\n",
       "      <th>selfdefeating</th>\n",
       "      <th>selfenhancing</th>\n",
       "      <th>tease_disliked_people</th>\n",
       "      <th>tease_others_mistakes</th>\n",
       "      <th>use_self_deprecation</th>\n",
       "      <th>usually_dont_laugh</th>\n",
       "      <th>when_alone_amused</th>\n",
       "      <th>when_alone_try_laugh</th>\n",
       "    </tr>\n",
       "    <tr>\n",
       "      <th>gender</th>\n",
       "      <th>age</th>\n",
       "      <th></th>\n",
       "      <th></th>\n",
       "      <th></th>\n",
       "      <th></th>\n",
       "      <th></th>\n",
       "      <th></th>\n",
       "      <th></th>\n",
       "      <th></th>\n",
       "      <th></th>\n",
       "      <th></th>\n",
       "      <th></th>\n",
       "      <th></th>\n",
       "      <th></th>\n",
       "      <th></th>\n",
       "      <th></th>\n",
       "      <th></th>\n",
       "      <th></th>\n",
       "      <th></th>\n",
       "      <th></th>\n",
       "      <th></th>\n",
       "      <th></th>\n",
       "    </tr>\n",
       "  </thead>\n",
       "  <tbody>\n",
       "    <tr>\n",
       "      <th rowspan=\"3\" valign=\"top\">female</th>\n",
       "      <th>14</th>\n",
       "      <td>86.818182</td>\n",
       "      <td>4.263636</td>\n",
       "      <td>3.154545</td>\n",
       "      <td>3.636364</td>\n",
       "      <td>3.727273</td>\n",
       "      <td>3.272727</td>\n",
       "      <td>3.090909</td>\n",
       "      <td>4.363636</td>\n",
       "      <td>4.363636</td>\n",
       "      <td>4.909091</td>\n",
       "      <td>...</td>\n",
       "      <td>442.0</td>\n",
       "      <td>442.0</td>\n",
       "      <td>442.0</td>\n",
       "      <td>442.0</td>\n",
       "      <td>442.0</td>\n",
       "      <td>442.0</td>\n",
       "      <td>442.0</td>\n",
       "      <td>442.0</td>\n",
       "      <td>442.0</td>\n",
       "      <td>442.0</td>\n",
       "    </tr>\n",
       "    <tr>\n",
       "      <th>15</th>\n",
       "      <td>88.842105</td>\n",
       "      <td>3.915789</td>\n",
       "      <td>3.136842</td>\n",
       "      <td>3.789474</td>\n",
       "      <td>3.684211</td>\n",
       "      <td>3.315789</td>\n",
       "      <td>2.947368</td>\n",
       "      <td>3.789474</td>\n",
       "      <td>4.105263</td>\n",
       "      <td>4.157895</td>\n",
       "      <td>...</td>\n",
       "      <td>442.0</td>\n",
       "      <td>442.0</td>\n",
       "      <td>442.0</td>\n",
       "      <td>442.0</td>\n",
       "      <td>442.0</td>\n",
       "      <td>442.0</td>\n",
       "      <td>442.0</td>\n",
       "      <td>442.0</td>\n",
       "      <td>442.0</td>\n",
       "      <td>442.0</td>\n",
       "    </tr>\n",
       "    <tr>\n",
       "      <th>16</th>\n",
       "      <td>86.419355</td>\n",
       "      <td>4.032258</td>\n",
       "      <td>2.996774</td>\n",
       "      <td>3.354839</td>\n",
       "      <td>3.903226</td>\n",
       "      <td>3.580645</td>\n",
       "      <td>3.451613</td>\n",
       "      <td>4.064516</td>\n",
       "      <td>4.096774</td>\n",
       "      <td>4.580645</td>\n",
       "      <td>...</td>\n",
       "      <td>442.0</td>\n",
       "      <td>442.0</td>\n",
       "      <td>442.0</td>\n",
       "      <td>442.0</td>\n",
       "      <td>442.0</td>\n",
       "      <td>442.0</td>\n",
       "      <td>442.0</td>\n",
       "      <td>442.0</td>\n",
       "      <td>442.0</td>\n",
       "      <td>442.0</td>\n",
       "    </tr>\n",
       "  </tbody>\n",
       "</table>\n",
       "<p>3 rows × 74 columns</p>\n",
       "</div>"
      ],
      "text/plain": [
       "                value                                               \\\n",
       "variable     accuracy affiliative aggressive allow_others_tease_me   \n",
       "gender age                                                           \n",
       "female 14   86.818182    4.263636   3.154545              3.636364   \n",
       "       15   88.842105    3.915789   3.136842              3.789474   \n",
       "       16   86.419355    4.032258   2.996774              3.354839   \n",
       "\n",
       "                                                                              \\\n",
       "variable   cant_think_witty_things dislike_mean_humor dont_care_impact_jokes   \n",
       "gender age                                                                     \n",
       "female 14                 3.727273           3.272727               3.090909   \n",
       "       15                 3.684211           3.315789               2.947368   \n",
       "       16                 3.903226           3.580645               3.451613   \n",
       "\n",
       "                                                                            \\\n",
       "variable   dont_like_telling_jokes dont_need_others_amused dont_often_joke   \n",
       "gender age                                                                   \n",
       "female 14                 4.363636                4.363636        4.909091   \n",
       "       15                 3.789474                4.105263        4.157895   \n",
       "       16                 4.064516                4.096774        4.580645   \n",
       "\n",
       "                   ...                              count  \\\n",
       "variable           ...          rarely_make_laugh_stories   \n",
       "gender age         ...                                      \n",
       "female 14          ...                              442.0   \n",
       "       15          ...                              442.0   \n",
       "       16          ...                              442.0   \n",
       "\n",
       "                                                                   \\\n",
       "variable   self_deprecate_to_befriend selfdefeating selfenhancing   \n",
       "gender age                                                          \n",
       "female 14                       442.0         442.0         442.0   \n",
       "       15                       442.0         442.0         442.0   \n",
       "       16                       442.0         442.0         442.0   \n",
       "\n",
       "                                                                             \\\n",
       "variable   tease_disliked_people tease_others_mistakes use_self_deprecation   \n",
       "gender age                                                                    \n",
       "female 14                  442.0                 442.0                442.0   \n",
       "       15                  442.0                 442.0                442.0   \n",
       "       16                  442.0                 442.0                442.0   \n",
       "\n",
       "                                                                      \n",
       "variable   usually_dont_laugh when_alone_amused when_alone_try_laugh  \n",
       "gender age                                                            \n",
       "female 14               442.0             442.0                442.0  \n",
       "       15               442.0             442.0                442.0  \n",
       "       16               442.0             442.0                442.0  \n",
       "\n",
       "[3 rows x 74 columns]"
      ]
     },
     "execution_count": 42,
     "metadata": {},
     "output_type": "execute_result"
    }
   ],
   "source": [
    "value_count_means.head(3)"
   ]
  },
  {
   "cell_type": "markdown",
   "metadata": {},
   "source": [
    "---\n",
    "\n",
    "### F.2: Understanding the MultiIndex\n",
    "\n",
    "The MultiIndex at first appears daunting and confusing. What is it? How do we use it?\n",
    "\n",
    "**F.2.1** Print out the columns of your wide value and counts means dataframe you created in the question prior."
   ]
  },
  {
   "cell_type": "code",
   "execution_count": 43,
   "metadata": {
    "collapsed": false
   },
   "outputs": [
    {
     "data": {
      "text/plain": [
       "MultiIndex(levels=[[u'value', u'count'], [u'accuracy', u'affiliative', u'aggressive', u'allow_others_tease_me', u'cant_think_witty_things', u'dislike_mean_humor', u'dont_care_impact_jokes', u'dont_like_telling_jokes', u'dont_need_others_amused', u'dont_often_joke', u'dont_self_deprecate', u'enjoy_making_others_laugh', u'friends_often_tease_me', u'harshly_self_deprecate', u'hide_unhappiness_humor', u'humor_coping_mechanism', u'humorous_outlook_improves_mood', u'if_depressed_use_humor', u'if_mean_wont_laugh', u'if_sad_cant_laugh', u'if_upset_use_humor', u'joke_when_inappropriate', u'laugh_alot_with_friends', u'let_others_laugh_at_me', u'make_others_laugh_easy', u'my_humor_never_offensive', u'never_use_mean_humor', u'rarely_make_laugh_stories', u'self_deprecate_to_befriend', u'selfdefeating', u'selfenhancing', u'tease_disliked_people', u'tease_others_mistakes', u'use_self_deprecation', u'usually_dont_laugh', u'when_alone_amused', u'when_alone_try_laugh']],\n",
       "           labels=[[0, 0, 0, 0, 0, 0, 0, 0, 0, 0, 0, 0, 0, 0, 0, 0, 0, 0, 0, 0, 0, 0, 0, 0, 0, 0, 0, 0, 0, 0, 0, 0, 0, 0, 0, 0, 0, 1, 1, 1, 1, 1, 1, 1, 1, 1, 1, 1, 1, 1, 1, 1, 1, 1, 1, 1, 1, 1, 1, 1, 1, 1, 1, 1, 1, 1, 1, 1, 1, 1, 1, 1, 1, 1], [0, 1, 2, 3, 4, 5, 6, 7, 8, 9, 10, 11, 12, 13, 14, 15, 16, 17, 18, 19, 20, 21, 22, 23, 24, 25, 26, 27, 28, 29, 30, 31, 32, 33, 34, 35, 36, 0, 1, 2, 3, 4, 5, 6, 7, 8, 9, 10, 11, 12, 13, 14, 15, 16, 17, 18, 19, 20, 21, 22, 23, 24, 25, 26, 27, 28, 29, 30, 31, 32, 33, 34, 35, 36]],\n",
       "           names=[None, u'variable'])"
      ]
     },
     "execution_count": 43,
     "metadata": {},
     "output_type": "execute_result"
    }
   ],
   "source": [
    "value_count_means.columns"
   ]
  },
  {
   "cell_type": "markdown",
   "metadata": {},
   "source": [
    "The columns before was just a list of the column names, but now there are three attributes:\n",
    "\n",
    "- **levels** is the list of lists that contains the hierarchy of header labels\n",
    "- **labels** is the list of lists that specifies which level label goes in which position at each hierarchical level\n",
    "- **names** are the names of the hierarchical header levels\n",
    "\n",
    "**F.2.2** Print out the ```.columns.names``` property specifically"
   ]
  },
  {
   "cell_type": "code",
   "execution_count": 44,
   "metadata": {
    "collapsed": false
   },
   "outputs": [
    {
     "data": {
      "text/plain": [
       "FrozenList([None, u'variable'])"
      ]
     },
     "execution_count": 44,
     "metadata": {},
     "output_type": "execute_result"
    }
   ],
   "source": [
    "value_count_means.columns.names"
   ]
  },
  {
   "cell_type": "markdown",
   "metadata": {},
   "source": [
    "The name for the second level is \"variable\", and the first (top) level has ```None```: no name.\n",
    "\n",
    "Why is the top level ```None```? \n",
    "\n",
    "The name \"variable\" is indicating the category, so to speak, of the bottom level header labels. Looking at the ```.head()``` printout, you can see that the \"variable\" is just to the left of all the bottom level headers. The **name of that level is \"variable\"** (which is the column they were pulled out of in the long data).\n",
    "\n",
    "The upper level, \"value\", has no name because there aren't tiers above it and pandas chooses to not give it a name! \n",
    "\n",
    "The names are just convenience anyway, since you **index by labels**.\n",
    "\n",
    "---\n",
    "\n",
    "Still confused? Think of it this way: the \"value\" label at the top spans all the columns and corresponds to the values in the cells of the columns. \n",
    "\n",
    "Remember how the variable and value columns in the long data looked?\n",
    "\n",
    "```\n",
    "variable       value\n",
    "--------       -----\n",
    "accuracy       100\n",
    "accuracy       80\n",
    "selfdefeating  2.2\n",
    "selfenhancing  3.1\n",
    "selfdefeating  1.1\n",
    "...\n",
    "```\n",
    "\n",
    "**\"value\" is the top level in the header hierarchy because the unique \"variable\" column items correspond to a subset of the \"value\" column numbers.**\n",
    "\n",
    "---"
   ]
  },
  {
   "cell_type": "markdown",
   "metadata": {},
   "source": [
    "**F.2.3** Print out the ```.index.names``` property of your wide data"
   ]
  },
  {
   "cell_type": "code",
   "execution_count": 45,
   "metadata": {
    "collapsed": false
   },
   "outputs": [
    {
     "data": {
      "text/plain": [
       "FrozenList([u'gender', u'age'])"
      ]
     },
     "execution_count": 45,
     "metadata": {},
     "output_type": "execute_result"
    }
   ],
   "source": [
    "value_count_means.index.names"
   ]
  },
  {
   "cell_type": "markdown",
   "metadata": {},
   "source": [
    "We see that there is `gender` and `age`. These corresponds to the leftmost part of the ```.head()``` printout, which are the row indices (also hierarchical in this case). "
   ]
  },
  {
   "cell_type": "markdown",
   "metadata": {},
   "source": [
    "---\n",
    "\n",
    "### F.3: Indexing with a MultiIndex: alternative methods\n",
    "\n",
    "pandas provides many different ways you can index your DataFrame when it has a MultiIndex. I am just going to go over three, which are the ones I find most intuitive in order:\n",
    "\n",
    "1. Using **```.xs()```** which is the \"cross-section\" indexing function\n",
    "2. Using a **```pd.IndexSlice```** object\n",
    "3. Using the **```.query()```** function\n",
    "\n",
    "Let's start with the cross-section function.\n",
    "\n",
    "**F.3.1** Type the following (replacing value_count_means with your wide DataFrame name):\n",
    "\n",
    "```python\n",
    "value_count_means.xs(3, level='gender')\n",
    "```"
   ]
  },
  {
   "cell_type": "code",
   "execution_count": 46,
   "metadata": {
    "collapsed": false
   },
   "outputs": [
    {
     "data": {
      "text/html": [
       "<div>\n",
       "<table border=\"1\" class=\"dataframe\">\n",
       "  <thead>\n",
       "    <tr>\n",
       "      <th></th>\n",
       "      <th colspan=\"10\" halign=\"left\">value</th>\n",
       "      <th>...</th>\n",
       "      <th colspan=\"10\" halign=\"left\">count</th>\n",
       "    </tr>\n",
       "    <tr>\n",
       "      <th>variable</th>\n",
       "      <th>accuracy</th>\n",
       "      <th>affiliative</th>\n",
       "      <th>aggressive</th>\n",
       "      <th>allow_others_tease_me</th>\n",
       "      <th>cant_think_witty_things</th>\n",
       "      <th>dislike_mean_humor</th>\n",
       "      <th>dont_care_impact_jokes</th>\n",
       "      <th>dont_like_telling_jokes</th>\n",
       "      <th>dont_need_others_amused</th>\n",
       "      <th>dont_often_joke</th>\n",
       "      <th>...</th>\n",
       "      <th>rarely_make_laugh_stories</th>\n",
       "      <th>self_deprecate_to_befriend</th>\n",
       "      <th>selfdefeating</th>\n",
       "      <th>selfenhancing</th>\n",
       "      <th>tease_disliked_people</th>\n",
       "      <th>tease_others_mistakes</th>\n",
       "      <th>use_self_deprecation</th>\n",
       "      <th>usually_dont_laugh</th>\n",
       "      <th>when_alone_amused</th>\n",
       "      <th>when_alone_try_laugh</th>\n",
       "    </tr>\n",
       "    <tr>\n",
       "      <th>gender</th>\n",
       "      <th></th>\n",
       "      <th></th>\n",
       "      <th></th>\n",
       "      <th></th>\n",
       "      <th></th>\n",
       "      <th></th>\n",
       "      <th></th>\n",
       "      <th></th>\n",
       "      <th></th>\n",
       "      <th></th>\n",
       "      <th></th>\n",
       "      <th></th>\n",
       "      <th></th>\n",
       "      <th></th>\n",
       "      <th></th>\n",
       "      <th></th>\n",
       "      <th></th>\n",
       "      <th></th>\n",
       "      <th></th>\n",
       "      <th></th>\n",
       "      <th></th>\n",
       "    </tr>\n",
       "  </thead>\n",
       "  <tbody>\n",
       "    <tr>\n",
       "      <th>female</th>\n",
       "      <td>84.076923</td>\n",
       "      <td>3.646154</td>\n",
       "      <td>2.953846</td>\n",
       "      <td>3.269231</td>\n",
       "      <td>3.192308</td>\n",
       "      <td>3.576923</td>\n",
       "      <td>3.346154</td>\n",
       "      <td>3.730769</td>\n",
       "      <td>4.038462</td>\n",
       "      <td>4.076923</td>\n",
       "      <td>...</td>\n",
       "      <td>442.0</td>\n",
       "      <td>442.0</td>\n",
       "      <td>442.0</td>\n",
       "      <td>442.0</td>\n",
       "      <td>442.0</td>\n",
       "      <td>442.0</td>\n",
       "      <td>442.0</td>\n",
       "      <td>442.0</td>\n",
       "      <td>442.0</td>\n",
       "      <td>442.0</td>\n",
       "    </tr>\n",
       "    <tr>\n",
       "      <th>male</th>\n",
       "      <td>86.325000</td>\n",
       "      <td>4.115000</td>\n",
       "      <td>2.927500</td>\n",
       "      <td>2.825000</td>\n",
       "      <td>3.750000</td>\n",
       "      <td>2.875000</td>\n",
       "      <td>3.350000</td>\n",
       "      <td>4.325000</td>\n",
       "      <td>4.100000</td>\n",
       "      <td>4.525000</td>\n",
       "      <td>...</td>\n",
       "      <td>535.0</td>\n",
       "      <td>535.0</td>\n",
       "      <td>535.0</td>\n",
       "      <td>535.0</td>\n",
       "      <td>535.0</td>\n",
       "      <td>535.0</td>\n",
       "      <td>535.0</td>\n",
       "      <td>535.0</td>\n",
       "      <td>535.0</td>\n",
       "      <td>535.0</td>\n",
       "    </tr>\n",
       "    <tr>\n",
       "      <th>other</th>\n",
       "      <td>90.000000</td>\n",
       "      <td>3.000000</td>\n",
       "      <td>2.600000</td>\n",
       "      <td>4.000000</td>\n",
       "      <td>1.000000</td>\n",
       "      <td>3.000000</td>\n",
       "      <td>4.000000</td>\n",
       "      <td>1.000000</td>\n",
       "      <td>4.000000</td>\n",
       "      <td>5.000000</td>\n",
       "      <td>...</td>\n",
       "      <td>8.0</td>\n",
       "      <td>8.0</td>\n",
       "      <td>8.0</td>\n",
       "      <td>8.0</td>\n",
       "      <td>8.0</td>\n",
       "      <td>8.0</td>\n",
       "      <td>8.0</td>\n",
       "      <td>8.0</td>\n",
       "      <td>8.0</td>\n",
       "      <td>8.0</td>\n",
       "    </tr>\n",
       "  </tbody>\n",
       "</table>\n",
       "<p>3 rows × 74 columns</p>\n",
       "</div>"
      ],
      "text/plain": [
       "              value                                               \\\n",
       "variable   accuracy affiliative aggressive allow_others_tease_me   \n",
       "gender                                                             \n",
       "female    84.076923    3.646154   2.953846              3.269231   \n",
       "male      86.325000    4.115000   2.927500              2.825000   \n",
       "other     90.000000    3.000000   2.600000              4.000000   \n",
       "\n",
       "                                                                            \\\n",
       "variable cant_think_witty_things dislike_mean_humor dont_care_impact_jokes   \n",
       "gender                                                                       \n",
       "female                  3.192308           3.576923               3.346154   \n",
       "male                    3.750000           2.875000               3.350000   \n",
       "other                   1.000000           3.000000               4.000000   \n",
       "\n",
       "                                                                          \\\n",
       "variable dont_like_telling_jokes dont_need_others_amused dont_often_joke   \n",
       "gender                                                                     \n",
       "female                  3.730769                4.038462        4.076923   \n",
       "male                    4.325000                4.100000        4.525000   \n",
       "other                   1.000000                4.000000        5.000000   \n",
       "\n",
       "                 ...                              count  \\\n",
       "variable         ...          rarely_make_laugh_stories   \n",
       "gender           ...                                      \n",
       "female           ...                              442.0   \n",
       "male             ...                              535.0   \n",
       "other            ...                                8.0   \n",
       "\n",
       "                                                                 \\\n",
       "variable self_deprecate_to_befriend selfdefeating selfenhancing   \n",
       "gender                                                            \n",
       "female                        442.0         442.0         442.0   \n",
       "male                          535.0         535.0         535.0   \n",
       "other                           8.0           8.0           8.0   \n",
       "\n",
       "                                                                           \\\n",
       "variable tease_disliked_people tease_others_mistakes use_self_deprecation   \n",
       "gender                                                                      \n",
       "female                   442.0                 442.0                442.0   \n",
       "male                     535.0                 535.0                535.0   \n",
       "other                      8.0                   8.0                  8.0   \n",
       "\n",
       "                                                                    \n",
       "variable usually_dont_laugh when_alone_amused when_alone_try_laugh  \n",
       "gender                                                              \n",
       "female                442.0             442.0                442.0  \n",
       "male                  535.0             535.0                535.0  \n",
       "other                   8.0               8.0                  8.0  \n",
       "\n",
       "[3 rows x 74 columns]"
      ]
     },
     "execution_count": 46,
     "metadata": {},
     "output_type": "execute_result"
    }
   ],
   "source": [
    "value_count_means.xs(20, level='age')"
   ]
  },
  {
   "cell_type": "markdown",
   "metadata": {},
   "source": [
    "**F.3.2** the .xs() function is pulling out value 20 at the index level age. So, it is subsetting the data to be everything that corresponds to age == 20."
   ]
  },
  {
   "cell_type": "markdown",
   "metadata": {},
   "source": [
    "**F.3.3** \n",
    "\n",
    "First remove the `value` column index, making the columns non-hierarchical.\n",
    "\n",
    "Then type the following python and explain what is happening and why:\n",
    "\n",
    "```python\n",
    "value_count_means.xs((21, 'male'), level='age', axis=0, drop_level=False)[['aggressive','affiliative']]\n",
    "```"
   ]
  },
  {
   "cell_type": "code",
   "execution_count": 47,
   "metadata": {
    "collapsed": false
   },
   "outputs": [],
   "source": [
    "value_count_means = value_count_means['value']"
   ]
  },
  {
   "cell_type": "code",
   "execution_count": 48,
   "metadata": {
    "collapsed": false,
    "scrolled": false
   },
   "outputs": [
    {
     "data": {
      "text/html": [
       "<div>\n",
       "<table border=\"1\" class=\"dataframe\">\n",
       "  <thead>\n",
       "    <tr style=\"text-align: right;\">\n",
       "      <th></th>\n",
       "      <th>variable</th>\n",
       "      <th>aggressive</th>\n",
       "      <th>affiliative</th>\n",
       "    </tr>\n",
       "    <tr>\n",
       "      <th>gender</th>\n",
       "      <th>age</th>\n",
       "      <th></th>\n",
       "      <th></th>\n",
       "    </tr>\n",
       "  </thead>\n",
       "  <tbody>\n",
       "    <tr>\n",
       "      <th>male</th>\n",
       "      <th>21</th>\n",
       "      <td>2.904545</td>\n",
       "      <td>3.736364</td>\n",
       "    </tr>\n",
       "  </tbody>\n",
       "</table>\n",
       "</div>"
      ],
      "text/plain": [
       "variable    aggressive  affiliative\n",
       "gender age                         \n",
       "male   21     2.904545     3.736364"
      ]
     },
     "execution_count": 48,
     "metadata": {},
     "output_type": "execute_result"
    }
   ],
   "source": [
    "value_count_means.xs((21, 'male'), level=('age','gender'), axis=0, drop_level=False)[['aggressive','affiliative']]"
   ]
  },
  {
   "cell_type": "markdown",
   "metadata": {},
   "source": [
    "**F.3.3** Cross section is pulling out along multiple indices using lists/tuples for the section and levels argument. The axis=0 part is saying run this on the row indices (axis=1 would mean your parameters are referring to column indices). drop_levels=False is keeping the indices in the return value."
   ]
  },
  {
   "cell_type": "markdown",
   "metadata": {},
   "source": [
    "---\n",
    "\n",
    "**F.3.4** Let's try out the `.query()` function for DataFrames. Query is very nice because it allows us to enter in expressions as strings that are very intuitive.\n",
    "\n",
    "Try these query examples out below:\n",
    "\n",
    "```dislike_mean_humor``` scores for males only aged 18, 25, or 30:\n",
    "\n",
    "```python\n",
    "value_count_means.query('(gender == male) and (age in [18, 25, 30)')[['dislike_mean_humor']]\n",
    "```"
   ]
  },
  {
   "cell_type": "code",
   "execution_count": 49,
   "metadata": {
    "collapsed": false
   },
   "outputs": [
    {
     "data": {
      "text/html": [
       "<div>\n",
       "<table border=\"1\" class=\"dataframe\">\n",
       "  <thead>\n",
       "    <tr style=\"text-align: right;\">\n",
       "      <th></th>\n",
       "      <th>variable</th>\n",
       "      <th>dislike_mean_humor</th>\n",
       "    </tr>\n",
       "    <tr>\n",
       "      <th>gender</th>\n",
       "      <th>age</th>\n",
       "      <th></th>\n",
       "    </tr>\n",
       "  </thead>\n",
       "  <tbody>\n",
       "    <tr>\n",
       "      <th rowspan=\"2\" valign=\"top\">male</th>\n",
       "      <th>25</th>\n",
       "      <td>2.947368</td>\n",
       "    </tr>\n",
       "    <tr>\n",
       "      <th>30</th>\n",
       "      <td>3.583333</td>\n",
       "    </tr>\n",
       "  </tbody>\n",
       "</table>\n",
       "</div>"
      ],
      "text/plain": [
       "variable    dislike_mean_humor\n",
       "gender age                    \n",
       "male   25             2.947368\n",
       "       30             3.583333"
      ]
     },
     "execution_count": 49,
     "metadata": {},
     "output_type": "execute_result"
    }
   ],
   "source": [
    "value_count_means.query('(gender == \"male\") and (age in [18, 25, 30])')[['dislike_mean_humor']][1:10]"
   ]
  },
  {
   "cell_type": "markdown",
   "metadata": {},
   "source": [
    "You can get very complicated with the conditionals.\n",
    "\n",
    "Try a query where where aggressive, affiliative, selfdefeating, and selfenhancing multiplied by each other are less than the subject's age (and subset to those humor descriptor columns too).\n",
    "\n",
    "```python\n",
    "value_count_means.query('(aggresive*affiliative*selfenhancing*selfdefeating) > age')[['aggresive','affiliative','selfenhancing','selfdefeating']]\n",
    "```"
   ]
  },
  {
   "cell_type": "code",
   "execution_count": 50,
   "metadata": {
    "collapsed": false
   },
   "outputs": [
    {
     "data": {
      "text/html": [
       "<div>\n",
       "<table border=\"1\" class=\"dataframe\">\n",
       "  <thead>\n",
       "    <tr style=\"text-align: right;\">\n",
       "      <th></th>\n",
       "      <th>variable</th>\n",
       "      <th>aggressive</th>\n",
       "      <th>affiliative</th>\n",
       "      <th>selfdefeating</th>\n",
       "      <th>selfenhancing</th>\n",
       "    </tr>\n",
       "    <tr>\n",
       "      <th>gender</th>\n",
       "      <th>age</th>\n",
       "      <th></th>\n",
       "      <th></th>\n",
       "      <th></th>\n",
       "      <th></th>\n",
       "    </tr>\n",
       "  </thead>\n",
       "  <tbody>\n",
       "    <tr>\n",
       "      <th>male</th>\n",
       "      <th>56</th>\n",
       "      <td>2.5</td>\n",
       "      <td>2.8</td>\n",
       "      <td>2.4</td>\n",
       "      <td>3.1</td>\n",
       "    </tr>\n",
       "    <tr>\n",
       "      <th>other</th>\n",
       "      <th>30</th>\n",
       "      <td>3.0</td>\n",
       "      <td>2.5</td>\n",
       "      <td>1.6</td>\n",
       "      <td>2.3</td>\n",
       "    </tr>\n",
       "  </tbody>\n",
       "</table>\n",
       "</div>"
      ],
      "text/plain": [
       "variable    aggressive  affiliative  selfdefeating  selfenhancing\n",
       "gender age                                                       \n",
       "male   56          2.5          2.8            2.4            3.1\n",
       "other  30          3.0          2.5            1.6            2.3"
      ]
     },
     "execution_count": 50,
     "metadata": {},
     "output_type": "execute_result"
    }
   ],
   "source": [
    "value_count_means.query('(aggressive * affiliative * selfenhancing * selfdefeating) < age')[['aggressive','affiliative','selfdefeating','selfenhancing']]"
   ]
  },
  {
   "cell_type": "markdown",
   "metadata": {},
   "source": [
    "---\n",
    "\n",
    "More on MultiIndex and advanced indexing below. **HIGHLY RECOMMENDED READING!**\n",
    "\n",
    "http://pandas.pydata.org/pandas-docs/stable/advanced.html"
   ]
  },
  {
   "cell_type": "markdown",
   "metadata": {},
   "source": [
    "---\n",
    "\n",
    "### F.4 Flattening a MultiIndex DataFrame\n",
    "\n",
    "MultiIndex is great and quite powerful, but if you are feeling overwhelmed and want to go back to the standard indexed data, you can.\n",
    "\n",
    "You can use **```.reset_index()```** and also **`.to_records()`** to get the same eventual result.\n",
    "\n",
    "Try it out on the wide data below with:\n",
    "\n",
    "```python\n",
    "value_count_means.reset_index()\n",
    "pd.DataFrame(value_count_means.to_records())\n",
    "```"
   ]
  },
  {
   "cell_type": "code",
   "execution_count": 51,
   "metadata": {
    "collapsed": false
   },
   "outputs": [
    {
     "data": {
      "text/html": [
       "<div>\n",
       "<table border=\"1\" class=\"dataframe\">\n",
       "  <thead>\n",
       "    <tr style=\"text-align: right;\">\n",
       "      <th>variable</th>\n",
       "      <th>gender</th>\n",
       "      <th>age</th>\n",
       "      <th>accuracy</th>\n",
       "      <th>affiliative</th>\n",
       "      <th>aggressive</th>\n",
       "      <th>allow_others_tease_me</th>\n",
       "      <th>cant_think_witty_things</th>\n",
       "      <th>dislike_mean_humor</th>\n",
       "      <th>dont_care_impact_jokes</th>\n",
       "      <th>dont_like_telling_jokes</th>\n",
       "      <th>...</th>\n",
       "      <th>rarely_make_laugh_stories</th>\n",
       "      <th>self_deprecate_to_befriend</th>\n",
       "      <th>selfdefeating</th>\n",
       "      <th>selfenhancing</th>\n",
       "      <th>tease_disliked_people</th>\n",
       "      <th>tease_others_mistakes</th>\n",
       "      <th>use_self_deprecation</th>\n",
       "      <th>usually_dont_laugh</th>\n",
       "      <th>when_alone_amused</th>\n",
       "      <th>when_alone_try_laugh</th>\n",
       "    </tr>\n",
       "  </thead>\n",
       "  <tbody>\n",
       "    <tr>\n",
       "      <th>0</th>\n",
       "      <td>female</td>\n",
       "      <td>14</td>\n",
       "      <td>86.818182</td>\n",
       "      <td>4.263636</td>\n",
       "      <td>3.154545</td>\n",
       "      <td>3.636364</td>\n",
       "      <td>3.727273</td>\n",
       "      <td>3.272727</td>\n",
       "      <td>3.090909</td>\n",
       "      <td>4.363636</td>\n",
       "      <td>...</td>\n",
       "      <td>3.181818</td>\n",
       "      <td>3.090909</td>\n",
       "      <td>2.509091</td>\n",
       "      <td>3.509091</td>\n",
       "      <td>3.909091</td>\n",
       "      <td>2.454545</td>\n",
       "      <td>4.181818</td>\n",
       "      <td>4.272727</td>\n",
       "      <td>4.454545</td>\n",
       "      <td>3.181818</td>\n",
       "    </tr>\n",
       "    <tr>\n",
       "      <th>1</th>\n",
       "      <td>female</td>\n",
       "      <td>15</td>\n",
       "      <td>88.842105</td>\n",
       "      <td>3.915789</td>\n",
       "      <td>3.136842</td>\n",
       "      <td>3.789474</td>\n",
       "      <td>3.684211</td>\n",
       "      <td>3.315789</td>\n",
       "      <td>2.947368</td>\n",
       "      <td>3.789474</td>\n",
       "      <td>...</td>\n",
       "      <td>3.473684</td>\n",
       "      <td>3.736842</td>\n",
       "      <td>2.652632</td>\n",
       "      <td>3.426316</td>\n",
       "      <td>3.052632</td>\n",
       "      <td>2.421053</td>\n",
       "      <td>3.736842</td>\n",
       "      <td>3.684211</td>\n",
       "      <td>4.263158</td>\n",
       "      <td>2.789474</td>\n",
       "    </tr>\n",
       "    <tr>\n",
       "      <th>2</th>\n",
       "      <td>female</td>\n",
       "      <td>16</td>\n",
       "      <td>86.419355</td>\n",
       "      <td>4.032258</td>\n",
       "      <td>2.996774</td>\n",
       "      <td>3.354839</td>\n",
       "      <td>3.903226</td>\n",
       "      <td>3.580645</td>\n",
       "      <td>3.451613</td>\n",
       "      <td>4.064516</td>\n",
       "      <td>...</td>\n",
       "      <td>3.419355</td>\n",
       "      <td>3.354839</td>\n",
       "      <td>2.706452</td>\n",
       "      <td>3.370968</td>\n",
       "      <td>3.870968</td>\n",
       "      <td>2.903226</td>\n",
       "      <td>3.709677</td>\n",
       "      <td>3.967742</td>\n",
       "      <td>4.096774</td>\n",
       "      <td>2.741935</td>\n",
       "    </tr>\n",
       "    <tr>\n",
       "      <th>3</th>\n",
       "      <td>female</td>\n",
       "      <td>17</td>\n",
       "      <td>88.551724</td>\n",
       "      <td>3.975862</td>\n",
       "      <td>2.965517</td>\n",
       "      <td>3.034483</td>\n",
       "      <td>3.379310</td>\n",
       "      <td>3.758621</td>\n",
       "      <td>3.172414</td>\n",
       "      <td>3.965517</td>\n",
       "      <td>...</td>\n",
       "      <td>3.482759</td>\n",
       "      <td>2.931034</td>\n",
       "      <td>2.875862</td>\n",
       "      <td>3.268966</td>\n",
       "      <td>3.965517</td>\n",
       "      <td>3.000000</td>\n",
       "      <td>3.448276</td>\n",
       "      <td>4.000000</td>\n",
       "      <td>4.206897</td>\n",
       "      <td>2.137931</td>\n",
       "    </tr>\n",
       "    <tr>\n",
       "      <th>4</th>\n",
       "      <td>female</td>\n",
       "      <td>18</td>\n",
       "      <td>86.515152</td>\n",
       "      <td>3.893939</td>\n",
       "      <td>3.066667</td>\n",
       "      <td>3.000000</td>\n",
       "      <td>3.484848</td>\n",
       "      <td>3.424242</td>\n",
       "      <td>3.363636</td>\n",
       "      <td>4.000000</td>\n",
       "      <td>...</td>\n",
       "      <td>3.212121</td>\n",
       "      <td>3.212121</td>\n",
       "      <td>2.887879</td>\n",
       "      <td>3.439394</td>\n",
       "      <td>3.393939</td>\n",
       "      <td>3.000000</td>\n",
       "      <td>3.454545</td>\n",
       "      <td>3.818182</td>\n",
       "      <td>4.181818</td>\n",
       "      <td>2.878788</td>\n",
       "    </tr>\n",
       "  </tbody>\n",
       "</table>\n",
       "<p>5 rows × 39 columns</p>\n",
       "</div>"
      ],
      "text/plain": [
       "variable  gender  age   accuracy  affiliative  aggressive  \\\n",
       "0         female   14  86.818182     4.263636    3.154545   \n",
       "1         female   15  88.842105     3.915789    3.136842   \n",
       "2         female   16  86.419355     4.032258    2.996774   \n",
       "3         female   17  88.551724     3.975862    2.965517   \n",
       "4         female   18  86.515152     3.893939    3.066667   \n",
       "\n",
       "variable  allow_others_tease_me  cant_think_witty_things  dislike_mean_humor  \\\n",
       "0                      3.636364                 3.727273            3.272727   \n",
       "1                      3.789474                 3.684211            3.315789   \n",
       "2                      3.354839                 3.903226            3.580645   \n",
       "3                      3.034483                 3.379310            3.758621   \n",
       "4                      3.000000                 3.484848            3.424242   \n",
       "\n",
       "variable  dont_care_impact_jokes  dont_like_telling_jokes  \\\n",
       "0                       3.090909                 4.363636   \n",
       "1                       2.947368                 3.789474   \n",
       "2                       3.451613                 4.064516   \n",
       "3                       3.172414                 3.965517   \n",
       "4                       3.363636                 4.000000   \n",
       "\n",
       "variable          ...           rarely_make_laugh_stories  \\\n",
       "0                 ...                            3.181818   \n",
       "1                 ...                            3.473684   \n",
       "2                 ...                            3.419355   \n",
       "3                 ...                            3.482759   \n",
       "4                 ...                            3.212121   \n",
       "\n",
       "variable  self_deprecate_to_befriend  selfdefeating  selfenhancing  \\\n",
       "0                           3.090909       2.509091       3.509091   \n",
       "1                           3.736842       2.652632       3.426316   \n",
       "2                           3.354839       2.706452       3.370968   \n",
       "3                           2.931034       2.875862       3.268966   \n",
       "4                           3.212121       2.887879       3.439394   \n",
       "\n",
       "variable  tease_disliked_people  tease_others_mistakes  use_self_deprecation  \\\n",
       "0                      3.909091               2.454545              4.181818   \n",
       "1                      3.052632               2.421053              3.736842   \n",
       "2                      3.870968               2.903226              3.709677   \n",
       "3                      3.965517               3.000000              3.448276   \n",
       "4                      3.393939               3.000000              3.454545   \n",
       "\n",
       "variable  usually_dont_laugh  when_alone_amused  when_alone_try_laugh  \n",
       "0                   4.272727           4.454545              3.181818  \n",
       "1                   3.684211           4.263158              2.789474  \n",
       "2                   3.967742           4.096774              2.741935  \n",
       "3                   4.000000           4.206897              2.137931  \n",
       "4                   3.818182           4.181818              2.878788  \n",
       "\n",
       "[5 rows x 39 columns]"
      ]
     },
     "execution_count": 51,
     "metadata": {},
     "output_type": "execute_result"
    }
   ],
   "source": [
    "value_count_means.reset_index().head()"
   ]
  },
  {
   "cell_type": "code",
   "execution_count": 52,
   "metadata": {
    "collapsed": false
   },
   "outputs": [
    {
     "data": {
      "text/html": [
       "<div>\n",
       "<table border=\"1\" class=\"dataframe\">\n",
       "  <thead>\n",
       "    <tr style=\"text-align: right;\">\n",
       "      <th></th>\n",
       "      <th>gender</th>\n",
       "      <th>age</th>\n",
       "      <th>accuracy</th>\n",
       "      <th>affiliative</th>\n",
       "      <th>aggressive</th>\n",
       "      <th>allow_others_tease_me</th>\n",
       "      <th>cant_think_witty_things</th>\n",
       "      <th>dislike_mean_humor</th>\n",
       "      <th>dont_care_impact_jokes</th>\n",
       "      <th>dont_like_telling_jokes</th>\n",
       "      <th>...</th>\n",
       "      <th>rarely_make_laugh_stories</th>\n",
       "      <th>self_deprecate_to_befriend</th>\n",
       "      <th>selfdefeating</th>\n",
       "      <th>selfenhancing</th>\n",
       "      <th>tease_disliked_people</th>\n",
       "      <th>tease_others_mistakes</th>\n",
       "      <th>use_self_deprecation</th>\n",
       "      <th>usually_dont_laugh</th>\n",
       "      <th>when_alone_amused</th>\n",
       "      <th>when_alone_try_laugh</th>\n",
       "    </tr>\n",
       "  </thead>\n",
       "  <tbody>\n",
       "    <tr>\n",
       "      <th>0</th>\n",
       "      <td>female</td>\n",
       "      <td>14</td>\n",
       "      <td>86.818182</td>\n",
       "      <td>4.263636</td>\n",
       "      <td>3.154545</td>\n",
       "      <td>3.636364</td>\n",
       "      <td>3.727273</td>\n",
       "      <td>3.272727</td>\n",
       "      <td>3.090909</td>\n",
       "      <td>4.363636</td>\n",
       "      <td>...</td>\n",
       "      <td>3.181818</td>\n",
       "      <td>3.090909</td>\n",
       "      <td>2.509091</td>\n",
       "      <td>3.509091</td>\n",
       "      <td>3.909091</td>\n",
       "      <td>2.454545</td>\n",
       "      <td>4.181818</td>\n",
       "      <td>4.272727</td>\n",
       "      <td>4.454545</td>\n",
       "      <td>3.181818</td>\n",
       "    </tr>\n",
       "    <tr>\n",
       "      <th>1</th>\n",
       "      <td>female</td>\n",
       "      <td>15</td>\n",
       "      <td>88.842105</td>\n",
       "      <td>3.915789</td>\n",
       "      <td>3.136842</td>\n",
       "      <td>3.789474</td>\n",
       "      <td>3.684211</td>\n",
       "      <td>3.315789</td>\n",
       "      <td>2.947368</td>\n",
       "      <td>3.789474</td>\n",
       "      <td>...</td>\n",
       "      <td>3.473684</td>\n",
       "      <td>3.736842</td>\n",
       "      <td>2.652632</td>\n",
       "      <td>3.426316</td>\n",
       "      <td>3.052632</td>\n",
       "      <td>2.421053</td>\n",
       "      <td>3.736842</td>\n",
       "      <td>3.684211</td>\n",
       "      <td>4.263158</td>\n",
       "      <td>2.789474</td>\n",
       "    </tr>\n",
       "    <tr>\n",
       "      <th>2</th>\n",
       "      <td>female</td>\n",
       "      <td>16</td>\n",
       "      <td>86.419355</td>\n",
       "      <td>4.032258</td>\n",
       "      <td>2.996774</td>\n",
       "      <td>3.354839</td>\n",
       "      <td>3.903226</td>\n",
       "      <td>3.580645</td>\n",
       "      <td>3.451613</td>\n",
       "      <td>4.064516</td>\n",
       "      <td>...</td>\n",
       "      <td>3.419355</td>\n",
       "      <td>3.354839</td>\n",
       "      <td>2.706452</td>\n",
       "      <td>3.370968</td>\n",
       "      <td>3.870968</td>\n",
       "      <td>2.903226</td>\n",
       "      <td>3.709677</td>\n",
       "      <td>3.967742</td>\n",
       "      <td>4.096774</td>\n",
       "      <td>2.741935</td>\n",
       "    </tr>\n",
       "    <tr>\n",
       "      <th>3</th>\n",
       "      <td>female</td>\n",
       "      <td>17</td>\n",
       "      <td>88.551724</td>\n",
       "      <td>3.975862</td>\n",
       "      <td>2.965517</td>\n",
       "      <td>3.034483</td>\n",
       "      <td>3.379310</td>\n",
       "      <td>3.758621</td>\n",
       "      <td>3.172414</td>\n",
       "      <td>3.965517</td>\n",
       "      <td>...</td>\n",
       "      <td>3.482759</td>\n",
       "      <td>2.931034</td>\n",
       "      <td>2.875862</td>\n",
       "      <td>3.268966</td>\n",
       "      <td>3.965517</td>\n",
       "      <td>3.000000</td>\n",
       "      <td>3.448276</td>\n",
       "      <td>4.000000</td>\n",
       "      <td>4.206897</td>\n",
       "      <td>2.137931</td>\n",
       "    </tr>\n",
       "    <tr>\n",
       "      <th>4</th>\n",
       "      <td>female</td>\n",
       "      <td>18</td>\n",
       "      <td>86.515152</td>\n",
       "      <td>3.893939</td>\n",
       "      <td>3.066667</td>\n",
       "      <td>3.000000</td>\n",
       "      <td>3.484848</td>\n",
       "      <td>3.424242</td>\n",
       "      <td>3.363636</td>\n",
       "      <td>4.000000</td>\n",
       "      <td>...</td>\n",
       "      <td>3.212121</td>\n",
       "      <td>3.212121</td>\n",
       "      <td>2.887879</td>\n",
       "      <td>3.439394</td>\n",
       "      <td>3.393939</td>\n",
       "      <td>3.000000</td>\n",
       "      <td>3.454545</td>\n",
       "      <td>3.818182</td>\n",
       "      <td>4.181818</td>\n",
       "      <td>2.878788</td>\n",
       "    </tr>\n",
       "  </tbody>\n",
       "</table>\n",
       "<p>5 rows × 39 columns</p>\n",
       "</div>"
      ],
      "text/plain": [
       "   gender  age   accuracy  affiliative  aggressive  allow_others_tease_me  \\\n",
       "0  female   14  86.818182     4.263636    3.154545               3.636364   \n",
       "1  female   15  88.842105     3.915789    3.136842               3.789474   \n",
       "2  female   16  86.419355     4.032258    2.996774               3.354839   \n",
       "3  female   17  88.551724     3.975862    2.965517               3.034483   \n",
       "4  female   18  86.515152     3.893939    3.066667               3.000000   \n",
       "\n",
       "   cant_think_witty_things  dislike_mean_humor  dont_care_impact_jokes  \\\n",
       "0                 3.727273            3.272727                3.090909   \n",
       "1                 3.684211            3.315789                2.947368   \n",
       "2                 3.903226            3.580645                3.451613   \n",
       "3                 3.379310            3.758621                3.172414   \n",
       "4                 3.484848            3.424242                3.363636   \n",
       "\n",
       "   dont_like_telling_jokes          ...           rarely_make_laugh_stories  \\\n",
       "0                 4.363636          ...                            3.181818   \n",
       "1                 3.789474          ...                            3.473684   \n",
       "2                 4.064516          ...                            3.419355   \n",
       "3                 3.965517          ...                            3.482759   \n",
       "4                 4.000000          ...                            3.212121   \n",
       "\n",
       "   self_deprecate_to_befriend  selfdefeating  selfenhancing  \\\n",
       "0                    3.090909       2.509091       3.509091   \n",
       "1                    3.736842       2.652632       3.426316   \n",
       "2                    3.354839       2.706452       3.370968   \n",
       "3                    2.931034       2.875862       3.268966   \n",
       "4                    3.212121       2.887879       3.439394   \n",
       "\n",
       "   tease_disliked_people  tease_others_mistakes  use_self_deprecation  \\\n",
       "0               3.909091               2.454545              4.181818   \n",
       "1               3.052632               2.421053              3.736842   \n",
       "2               3.870968               2.903226              3.709677   \n",
       "3               3.965517               3.000000              3.448276   \n",
       "4               3.393939               3.000000              3.454545   \n",
       "\n",
       "   usually_dont_laugh  when_alone_amused  when_alone_try_laugh  \n",
       "0            4.272727           4.454545              3.181818  \n",
       "1            3.684211           4.263158              2.789474  \n",
       "2            3.967742           4.096774              2.741935  \n",
       "3            4.000000           4.206897              2.137931  \n",
       "4            3.818182           4.181818              2.878788  \n",
       "\n",
       "[5 rows x 39 columns]"
      ]
     },
     "execution_count": 52,
     "metadata": {},
     "output_type": "execute_result"
    }
   ],
   "source": [
    "pd.DataFrame(value_count_means.to_records()).head()"
   ]
  },
  {
   "cell_type": "markdown",
   "metadata": {},
   "source": [
    "In the case of reset_index, your index is now called \"variable\". with to_records(), the index is just the standard integer labels for rows. All the hierarchical indices have been flattened down into columns.\n",
    "\n",
    "check out the ```.columns```"
   ]
  },
  {
   "cell_type": "code",
   "execution_count": null,
   "metadata": {
    "collapsed": true
   },
   "outputs": [],
   "source": []
  }
 ],
 "metadata": {
  "kernelspec": {
   "display_name": "Python 2",
   "language": "python",
   "name": "python2"
  },
  "language_info": {
   "codemirror_mode": {
    "name": "ipython",
    "version": 2
   },
   "file_extension": ".py",
   "mimetype": "text/x-python",
   "name": "python",
   "nbconvert_exporter": "python",
   "pygments_lexer": "ipython2",
   "version": "2.7.13"
  }
 },
 "nbformat": 4,
 "nbformat_minor": 0
}
