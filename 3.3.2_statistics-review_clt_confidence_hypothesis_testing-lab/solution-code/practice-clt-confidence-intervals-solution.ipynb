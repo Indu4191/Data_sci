{
 "cells": [
  {
   "cell_type": "markdown",
   "metadata": {},
   "source": [
    "<img src=\"http://imgur.com/1ZcRyrc.png\" style=\"float: left; margin: 20px; height: 55px\">\n",
    "\n",
    "# Review CLT, Confidence Intervals, and Hypothesis Testing\n",
    "\n",
    "_Authors: Matt Brems (DC)_\n",
    "\n",
    "---"
   ]
  },
  {
   "cell_type": "markdown",
   "metadata": {},
   "source": [
    "### Read in the housing data (code provided).\n"
   ]
  },
  {
   "cell_type": "code",
   "execution_count": 3,
   "metadata": {
    "collapsed": false
   },
   "outputs": [],
   "source": [
    "import urllib\n",
    "data_url = \"https://archive.ics.uci.edu/ml/machine-learning-databases/housing/housing.data\"\n",
    "urllib.urlretrieve(data_url, \"./datasets/housing.data\")\n",
    "\n",
    "names = [\"CRIM\", \"ZN\", \"INDUS\", \"CHAS\", \"NOX\", \"RM\", \"AGE\", \"DIS\", \"RAD\", \"TAX\", \"PTRATIO\", \"B\", \"LSTAT\", \"MEDV\"]\n",
    "\n",
    "import pandas as pd\n",
    "data = pd.read_csv(\"./datasets/housing.data\", header=None, names=names, delim_whitespace=True)\n",
    "\n",
    "NOX = data['NOX'].values\n",
    "AGE = data['AGE'].values"
   ]
  },
  {
   "cell_type": "markdown",
   "metadata": {},
   "source": [
    "### 1. Find the mean, standard deviation, and the standard error of the mean for variable `AGE`"
   ]
  },
  {
   "cell_type": "code",
   "execution_count": 4,
   "metadata": {
    "collapsed": false
   },
   "outputs": [],
   "source": [
    "import numpy as np"
   ]
  },
  {
   "cell_type": "code",
   "execution_count": 5,
   "metadata": {
    "collapsed": false
   },
   "outputs": [
    {
     "name": "stdout",
     "output_type": "stream",
     "text": [
      "The mean is 68.5749011858.\n",
      "The standard deviation is 28.1210325702.\n",
      "The standard error of the mean is 1.25136952526.\n"
     ]
    }
   ],
   "source": [
    "print \"The mean is \" + str(np.mean(data['AGE'])) + \".\"\n",
    "print \"The standard deviation is \" + str(np.std(data['AGE'])) + \".\"\n",
    "print \"The standard error of the mean is \" + str(np.std(data['AGE'],ddof = 1)/(len(data['AGE']))**0.5) + \".\""
   ]
  },
  {
   "cell_type": "markdown",
   "metadata": {},
   "source": [
    "### 2. Generate a 90%, 95%, and 99% confidence interval for `AGE`\n",
    "\n",
    "You can use the `scipy.stats.t.interval` function to calculate confidence interval range.\n",
    "\n",
    "```python\n",
    "# Endpoints of the range that contains alpha percent of the distribution\n",
    "stats.t.interval(alpha, df, loc=0, scale=1)\t\n",
    "```\n",
    "\n",
    "Arguments:\n",
    "- `df` = the degrees of freedom, will be the length of the vector -1.\n",
    "- `loc` = the mean of the t-distribution (your point estimate - mean of the variable)\n",
    "- `scale` = the standard deviation of the t-distribution (the standard error of your sample mean)\n",
    "\n",
    "**Interpret the results from all three confidence intervals.**"
   ]
  },
  {
   "cell_type": "code",
   "execution_count": 6,
   "metadata": {
    "collapsed": false
   },
   "outputs": [],
   "source": [
    "from scipy.stats import t"
   ]
  },
  {
   "cell_type": "code",
   "execution_count": 8,
   "metadata": {
    "collapsed": false
   },
   "outputs": [
    {
     "name": "stdout",
     "output_type": "stream",
     "text": [
      "We are 90% confident that the true mean value for 'AGE' is between 66.512798667 and 70.6370037045 years of age.\n",
      "We are 95% confident that the true mean value for 'AGE' is between 66.1163697185 and 71.033432653 years of age.\n",
      "We are 99% confident that the true mean value for 'AGE' is between 65.3393604183 and 71.8104419532 years of age.\n"
     ]
    }
   ],
   "source": [
    "t_interval_90 = t.interval(0.9,\n",
    "                           len(AGE)-1,\n",
    "                           loc=np.mean(AGE),\n",
    "                           scale=np.std(AGE, ddof = 1)/(len(AGE))**0.5)\n",
    "\n",
    "print \"We are 90% confident that the true mean value for 'AGE' is between \" + str(t_interval_90[0]) + \" and \" + str(t_interval_90[1]) + \" years of age.\"\n",
    "\n",
    "t_interval_95 = t.interval(0.95,\n",
    "                           len(AGE)-1,\n",
    "                           loc=np.mean(AGE),\n",
    "                           scale=np.std(AGE, ddof = 1)/(len(AGE))**0.5)\n",
    "\n",
    "print \"We are 95% confident that the true mean value for 'AGE' is between \" + str(t_interval_95[0]) + \" and \" + str(t_interval_95[1]) + \" years of age.\"\n",
    "\n",
    "t_interval_99 = t.interval(0.99,\n",
    "                           len(AGE)-1,\n",
    "                           loc=np.mean(AGE),\n",
    "                           scale=np.std(AGE, ddof = 1)/(len(AGE))**0.5)\n",
    "\n",
    "print \"We are 99% confident that the true mean value for 'AGE' is between \" + str(t_interval_99[0]) + \" and \" + str(t_interval_99[1]) + \" years of age.\""
   ]
  },
  {
   "cell_type": "code",
   "execution_count": 11,
   "metadata": {
    "collapsed": false
   },
   "outputs": [
    {
     "name": "stdout",
     "output_type": "stream",
     "text": [
      "2.58558040064\n"
     ]
    }
   ],
   "source": [
    "## Recall that a 99% t confidence interval will be of the form\n",
    "## (x-bar - t * s/sqrt(n), x-bar + t * s/sqrt(n))\n",
    "## where t is the critical t-value with 506 degrees of freedom\n",
    "## and for 99% confidence.\n",
    "\n",
    "critical_t = t.ppf(0.995,506) # This pulls the critical value for 99.5%, which is appropriate.\n",
    "print critical_t"
   ]
  },
  {
   "cell_type": "markdown",
   "metadata": {},
   "source": [
    "### 3. Did you rely on the Central Limit Theorem in question 2? Why or why not? Explain."
   ]
  },
  {
   "cell_type": "code",
   "execution_count": 10,
   "metadata": {
    "collapsed": false
   },
   "outputs": [
    {
     "data": {
      "text/plain": [
       "(array([  14.,   31.,   29.,   42.,   32.,   38.,   39.,   42.,   71.,  168.]),\n",
       " array([   2.9 ,   12.61,   22.32,   32.03,   41.74,   51.45,   61.16,\n",
       "          70.87,   80.58,   90.29,  100.  ]),\n",
       " <a list of 10 Patch objects>)"
      ]
     },
     "execution_count": 10,
     "metadata": {},
     "output_type": "execute_result"
    },
    {
     "data": {
      "image/png": "[encoded data removed]",
      "text/plain": [
       "<matplotlib.figure.Figure at 0x116adad50>"
      ]
     },
     "metadata": {},
     "output_type": "display_data"
    }
   ],
   "source": [
    "import matplotlib.pyplot as plt\n",
    "%matplotlib inline\n",
    "\n",
    "plt.hist(AGE)\n",
    "\n",
    "# Yes. We don't know whether or not 'AGE' is Normally distributed (and by the\n",
    "# plot below, it clearly is not), but since the size of our sample n is larger\n",
    "# than 30, we know that the behavior of X-bar will be Normal enough for us\n",
    "# to use our t-distribution to generate our confidence intervals."
   ]
  },
  {
   "cell_type": "markdown",
   "metadata": {},
   "source": [
    "### 4. For variable `NOX`, generate a 95% confidence interval and interpret it."
   ]
  },
  {
   "cell_type": "code",
   "execution_count": 12,
   "metadata": {
    "collapsed": false
   },
   "outputs": [
    {
     "name": "stdout",
     "output_type": "stream",
     "text": [
      "We are 95% confident that the true mean value for 'NOX' is between 0.544574262292 and 0.564815856285.\n"
     ]
    }
   ],
   "source": [
    "t_interval_95 = t.interval(0.95,\n",
    "                           len(NOX)-1,\n",
    "                           loc=np.mean(NOX),\n",
    "                           scale=np.std(NOX, ddof = 1)/(len(NOX))**0.5)\n",
    "\n",
    "print \"We are 95% confident that the true mean value for 'NOX' is between \" + str(t_interval_95[0]) + \" and \" + str(t_interval_95[1]) + \".\""
   ]
  },
  {
   "cell_type": "markdown",
   "metadata": {},
   "source": [
    "### 5. For the variable `NOX`, test the hypothesis that the mean is equal to the median. \n",
    "\n",
    "You may use scipy functions to complete this, but complete all steps - define hypotheses, etc. Let alpha = 0.05. Interpret your results."
   ]
  },
  {
   "cell_type": "code",
   "execution_count": 14,
   "metadata": {
    "collapsed": false
   },
   "outputs": [
    {
     "name": "stdout",
     "output_type": "stream",
     "text": [
      "Our sample median is0.538\n",
      "Our sample mean is 0.554695059289\n",
      "Our t-statistic is 3.24088371678\n",
      "Our p-value is 0.00127005273618\n",
      "We reject our null hypothesis and conclude that the true mean NOX value is different from the median NOX value.\n"
     ]
    }
   ],
   "source": [
    "## Step 1: Define hypotheses.\n",
    "### H_0: mu_NOX = M_NOX\n",
    "### H_A: mu_NOX != M_NOX\n",
    "\n",
    "## Step 2: alpha = 0.05.\n",
    "alpha = 0.05\n",
    "\n",
    "## Step 3: Calculate point estimate.\n",
    "sample_mean = np.mean(NOX)\n",
    "\n",
    "## Step 4: Calculate test statistic.\n",
    "t_statistic = (sample_mean - np.median(NOX))/(np.std(NOX, ddof=1)/len(NOX)**0.5)\n",
    "\n",
    "## Step 5: Find p-value.\n",
    "## t.sf is survival function, which is 1-cdf at a given value \n",
    "## (proportion of values at least as extreme as...)\n",
    "p_value = t.sf(np.abs(t_statistic), len(NOX)) * 2 \n",
    "\n",
    "## Because our alternative hypothesis is != (rather than greater than or less than),\n",
    "## we multiply our p-value by 2. (This is called a two-sided test.)\n",
    "print \"Our sample median is\" + str(np.median(NOX))\n",
    "print \"Our sample mean is \" + str(sample_mean)\n",
    "print \"Our t-statistic is \" + str(t_statistic)\n",
    "print \"Our p-value is \" + str(p_value)\n",
    "\n",
    "if p_value < alpha:\n",
    "    print \"We reject our null hypothesis and conclude that the true mean NOX value is different from the median NOX value.\"\n",
    "elif p_value > alpha:\n",
    "    print \"We fail to reject our null hypothesis and cannot conclude that the true mean NOX value is different from the median .\"\n",
    "else:\n",
    "    print \"Our test is inconclusive.\""
   ]
  },
  {
   "cell_type": "markdown",
   "metadata": {},
   "source": [
    "### 6. What do you notice about the results from Exercise 4 and Exercise 5? \n",
    "\n",
    "**If you were going to generalize this to the relationship between hypothesis tests and confidence intervals, what might you say? Be specific.**"
   ]
  },
  {
   "cell_type": "code",
   "execution_count": 10,
   "metadata": {
    "collapsed": true
   },
   "outputs": [],
   "source": [
    "## When we calculated the median, it was 0.538. The 95% confidence interval for our\n",
    "## mean contained 0.545 through 0.565. Since the median was outside our 95%\n",
    "## confidence interval, this suggests that the true mean would not be equal to our\n",
    "## median.\n",
    "\n",
    "## We then conducted the hypothesis test and found that, at the alpha = 0.05\n",
    "## significance level, we rejected the hypothesis that the mean and median were\n",
    "## equal.\n",
    "\n",
    "## The results of our hypothesis test and confidence interval are in agreement\n",
    "## here. Because our significance level (for HT) is alpha, as long as our \n",
    "## confidence level (for CI) is 1 - alpha, the results should be in agreement.\n",
    "## That is, if the value of interest does not lie in our 1 - alpha CI, then\n",
    "## testing the hypothesis that the parameter equals the value of interest\n",
    "## should be rejected at the alpha significance level. Similarly, if the value\n",
    "## of interest *does* lie in our 1 - alpha CI, then testing the hypothesis that\n",
    "## the parameter equals the value of interest should *not* be rejected at the\n",
    "## alpha significance level."
   ]
  },
  {
   "cell_type": "markdown",
   "metadata": {},
   "source": [
    "### 7. For the variable `NOX`, test the hypothesis that the mean is greater than or equal to the median. \n",
    "\n",
    "You may use scipy functions to complete this, but complete all steps - define hypotheses, etc. Let alpha = 0.05. Interpret your results."
   ]
  },
  {
   "cell_type": "code",
   "execution_count": 15,
   "metadata": {
    "collapsed": false
   },
   "outputs": [
    {
     "name": "stdout",
     "output_type": "stream",
     "text": [
      "Our sample mean is 0.554695059289\n",
      "Our sample median is 0.538\n",
      "Our t-statistic is 3.24088371678\n",
      "Our p-value is 0.00063502636809\n",
      "We reject our null hypothesis and conclude that the true mean NOX value is greater than the median NOX value.\n"
     ]
    }
   ],
   "source": [
    "## Step 1: Define hypotheses.\n",
    "### H_0: mu_NOX >= M_NOX\n",
    "### H_A: mu_NOX < M_NOX\n",
    "\n",
    "## Step 2: alpha = 0.05.\n",
    "alpha = 0.05\n",
    "\n",
    "## Step 3: Calculate point estimate.\n",
    "sample_mean = np.mean(NOX)\n",
    "sample_median = np.median(NOX)\n",
    "\n",
    "## Step 4: Calculate test statistic.\n",
    "t_statistic = (sample_mean - sample_median)/(np.std(NOX, ddof=1)/len(NOX)**0.5)\n",
    "\n",
    "## Step 5: Find p-value.\n",
    "p_value = t.sf(np.abs(t_statistic), len(NOX))\n",
    "## Because our alternative hypothesis is < (rather than equal to),\n",
    "## we DO NOT multiply our p-value by 2. (This is called a one-sided test.)\n",
    "\n",
    "print \"Our sample mean is \" + str(sample_mean)\n",
    "print \"Our sample median is \" + str(sample_median)\n",
    "print \"Our t-statistic is \" + str(t_statistic)\n",
    "print \"Our p-value is \" + str(p_value)\n",
    "\n",
    "if p_value < alpha:\n",
    "    print \"We reject our null hypothesis and conclude that the true mean NOX value is greater than the median NOX value.\"\n",
    "elif p_value > alpha:\n",
    "    print \"We fail to reject our null hypothesis and cannot conclude that the true mean NOX value is greater than the median .\"\n",
    "else:\n",
    "    print \"Our test is inconclusive.\""
   ]
  },
  {
   "cell_type": "markdown",
   "metadata": {},
   "source": [
    "### 8. Compare the p-values from Exercise 5 and Exercise 7. What do you notice?"
   ]
  },
  {
   "cell_type": "code",
   "execution_count": 16,
   "metadata": {
    "collapsed": true
   },
   "outputs": [],
   "source": [
    "## The p-value in Exercise 6 is exactly double the p-value in Exercise 8, by construction.\n",
    "## This is because of the fact that our alternative hypotheses are different. In Exercise\n",
    "## 6, we can reject the null hypothesis for very large values of mu or very small values\n",
    "## of mu. Because this is a two-sided test, we double our p-value. In Exercise 8, we can\n",
    "## reject the null hypothesis for very small values of mu *but* cannot reject the null\n",
    "## hypothesis for very large values of mu. Because we can only reject on one side, we\n",
    "## call this a one-sided test. Due to the fact that this is a one-sided test, we do not\n",
    "## need to double our p-value."
   ]
  }
 ],
 "metadata": {
  "anaconda-cloud": {},
  "kernelspec": {
   "display_name": "Python 2",
   "language": "python",
   "name": "python2"
  },
  "language_info": {
   "codemirror_mode": {
    "name": "ipython",
    "version": 2
   },
   "file_extension": ".py",
   "mimetype": "text/x-python",
   "name": "python",
   "nbconvert_exporter": "python",
   "pygments_lexer": "ipython2",
   "version": "2.7.13"
  }
 },
 "nbformat": 4,
 "nbformat_minor": 1
}
