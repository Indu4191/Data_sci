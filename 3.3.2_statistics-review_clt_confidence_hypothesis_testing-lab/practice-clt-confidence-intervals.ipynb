{
 "cells": [
  {
   "cell_type": "markdown",
   "metadata": {},
   "source": [
    "<img src=\"http://imgur.com/1ZcRyrc.png\" style=\"float: left; margin: 20px; height: 55px\">\n",
    "\n",
    "# Review CLT, Confidence Intervals, and Hypothesis Testing\n",
    "\n",
    "_Authors: Matt Brems (DC)_\n",
    "\n",
    "---"
   ]
  },
  {
   "cell_type": "markdown",
   "metadata": {},
   "source": [
    "### Read in the housing data (code provided).\n"
   ]
  },
  {
   "cell_type": "code",
   "execution_count": 1,
   "metadata": {
    "collapsed": false
   },
   "outputs": [],
   "source": [
    "import urllib\n",
    "data_url = \"https://archive.ics.uci.edu/ml/machine-learning-databases/housing/housing.data\"\n",
    "urllib.urlretrieve(data_url, \"/Users/Mahendra/desktop/GA/hw/3.3.2_statistics-review_clt_confidence_hypothesis_testing-lab/datasets/housing.data\")\n",
    "\n",
    "names = [\"CRIM\", \"ZN\", \"INDUS\", \"CHAS\", \"NOX\", \"RM\", \"AGE\", \"DIS\", \"RAD\", \"TAX\", \"PTRATIO\", \"B\", \"LSTAT\", \"MEDV\"]\n",
    "\n",
    "import pandas as pd\n",
    "data = pd.read_csv(\"/Users/Mahendra/desktop/GA/hw/3.3.2_statistics-review_clt_confidence_hypothesis_testing-lab/datasets/housing.data\", header=None, names=names, delim_whitespace=True)\n",
    "\n",
    "NOX = data['NOX'].values\n",
    "AGE = data['AGE'].values"
   ]
  },
  {
   "cell_type": "markdown",
   "metadata": {},
   "source": [
    "### 1. Find the mean, standard deviation, and the standard error of the mean for variable `AGE`"
   ]
  },
  {
   "cell_type": "code",
   "execution_count": 5,
   "metadata": {
    "collapsed": false
   },
   "outputs": [],
   "source": [
    "import numpy as np\n",
    "import scipy.stats"
   ]
  },
  {
   "cell_type": "code",
   "execution_count": 7,
   "metadata": {
    "collapsed": false
   },
   "outputs": [
    {
     "name": "stdout",
     "output_type": "stream",
     "text": [
      "mean: 68.5749011858\n",
      "SD: 28.1210325702\n",
      "standard error 1.25136952526\n"
     ]
    }
   ],
   "source": [
    "# A:\n",
    "mean=np.mean(AGE)\n",
    "SD=np.std(AGE)\n",
    "Std_err=scipy.stats.sem(AGE)\n",
    "print \"mean:\",mean\n",
    "print \"SD:\", SD\n",
    "print \"standard error\" , Std_err"
   ]
  },
  {
   "cell_type": "code",
   "execution_count": 13,
   "metadata": {
    "collapsed": false
   },
   "outputs": [
    {
     "data": {
      "text/plain": [
       "1.2513695252583041"
      ]
     },
     "execution_count": 13,
     "metadata": {},
     "output_type": "execute_result"
    }
   ],
   "source": [
    "# calculating Standrard error using formula\n",
    "scale=np.std(AGE, ddof = 1)/len(AGE)**0.5\n",
    "scale"
   ]
  },
  {
   "cell_type": "markdown",
   "metadata": {},
   "source": [
    "### 2. Generate a 90%, 95%, and 99% confidence interval for `AGE`\n",
    "\n",
    "You can use the `scipy.stats.t.interval` function to calculate confidence interval range.\n",
    "\n",
    "```python\n",
    "# Endpoints of the range that contains alpha percent of the distribution\n",
    "stats.t.interval(alpha, df, loc=0, scale=1)\t\n",
    "```\n",
    "\n",
    "Arguments:\n",
    "- `df` = the degrees of freedom, will be the length of the vector -1.\n",
    "- `loc` = the mean of the t-distribution (your point estimate - mean of the variable)\n",
    "- `scale` = the standard deviation of the t-distribution (the standard error of your sample mean)\n",
    "\n",
    "**Interpret the results from all three confidence intervals.**"
   ]
  },
  {
   "cell_type": "code",
   "execution_count": 8,
   "metadata": {
    "collapsed": false
   },
   "outputs": [],
   "source": [
    "from scipy.stats import t"
   ]
  },
  {
   "cell_type": "code",
   "execution_count": 18,
   "metadata": {
    "collapsed": false
   },
   "outputs": [
    {
     "name": "stdout",
     "output_type": "stream",
     "text": [
      " The 90% confidence interavl for AGE is between 66.512798667and70.6370037045\n"
     ]
    }
   ],
   "source": [
    "# A:90%\n",
    "interval_90=scipy.stats.t.interval(0.9, len(AGE)-1, np.mean(AGE), scipy.stats.sem(AGE))\n",
    "print \" The 90% confidence interavl for AGE is between \" + str(interval_90[0]) + \"and\" +str(interval_90[1])"
   ]
  },
  {
   "cell_type": "code",
   "execution_count": 19,
   "metadata": {
    "collapsed": false
   },
   "outputs": [
    {
     "name": "stdout",
     "output_type": "stream",
     "text": [
      " The 95% confidence interavl for AGE is between 66.1163697185and71.033432653\n"
     ]
    }
   ],
   "source": [
    "#95%\n",
    "interval_95=scipy.stats.t.interval(0.95, len(AGE)-1, np.mean(AGE), scipy.stats.sem(AGE))\n",
    "print \" The 95% confidence interavl for AGE is between \" + str(interval_95[0]) + \"and\" +str(interval_95[1])"
   ]
  },
  {
   "cell_type": "code",
   "execution_count": 20,
   "metadata": {
    "collapsed": false
   },
   "outputs": [
    {
     "name": "stdout",
     "output_type": "stream",
     "text": [
      " The 99% confidence interavl for AGE is between 65.3393604183and71.8104419532\n"
     ]
    }
   ],
   "source": [
    "#99%\n",
    "interval_99=scipy.stats.t.interval(0.99, len(AGE)-1, np.mean(AGE), scipy.stats.sem(AGE))\n",
    "print \" The 99% confidence interavl for AGE is between \" + str(interval_99[0]) + \"and\" +str(interval_99[1])"
   ]
  },
  {
   "cell_type": "code",
   "execution_count": 22,
   "metadata": {
    "collapsed": false
   },
   "outputs": [
    {
     "data": {
      "text/plain": [
       "2.5855804006393113"
      ]
     },
     "execution_count": 22,
     "metadata": {},
     "output_type": "execute_result"
    }
   ],
   "source": [
    "#ppf is percent point function.. inverse of CDF\n",
    "critical_t = t.ppf(0.995,506)\n",
    "## Recall that a 99% t confidence interval will be of the form\n",
    "## (x-bar - t * s/sqrt(n), x-bar + t * s/sqrt(n))\n",
    "## where t is the critical t-value with 506 degrees of freedom\n",
    "## and for 99% confidence.\n",
    "critical_t"
   ]
  },
  {
   "cell_type": "markdown",
   "metadata": {},
   "source": [
    "### 3. Did you rely on the Central Limit Theorem in question 2? Why or why not? Explain."
   ]
  },
  {
   "cell_type": "code",
   "execution_count": 25,
   "metadata": {
    "collapsed": false
   },
   "outputs": [
    {
     "data": {
      "text/plain": [
       "(array([  14.,   31.,   29.,   42.,   32.,   38.,   39.,   42.,   71.,  168.]),\n",
       " array([   2.9 ,   12.61,   22.32,   32.03,   41.74,   51.45,   61.16,\n",
       "          70.87,   80.58,   90.29,  100.  ]),\n",
       " <a list of 10 Patch objects>)"
      ]
     },
     "execution_count": 25,
     "metadata": {},
     "output_type": "execute_result"
    },
    {
     "data": {
      "image/png": "[encoded data removed]",
      "text/plain": [
       "<matplotlib.figure.Figure at 0x112d41710>"
      ]
     },
     "metadata": {},
     "output_type": "display_data"
    }
   ],
   "source": [
    "import matplotlib.pyplot as plt\n",
    "%matplotlib inline\n",
    "plt.hist(AGE)\n",
    "\n",
    "# A:Yes becaouse we dont know whether age  is normally distributed"
   ]
  },
  {
   "cell_type": "markdown",
   "metadata": {},
   "source": [
    "### 4. For variable `NOX`, generate a 95% confidence interval and interpret it."
   ]
  },
  {
   "cell_type": "code",
   "execution_count": 30,
   "metadata": {
    "collapsed": false
   },
   "outputs": [
    {
     "name": "stdout",
     "output_type": "stream",
     "text": [
      " For NOX 95% confidence is between0.544574262292and 0.564815856285\n"
     ]
    }
   ],
   "source": [
    "# A:\n",
    "import scipy.stats\n",
    "stand_error=scipy.stats.sem(NOX)\n",
    "NOX_95_conf=scipy.stats.t.interval(0.95,len(NOX)-1,np.mean(NOX),stand_error)\n",
    "print \" For NOX 95% confidence is between\" +str(NOX_95_conf[0]) + \"and \"+ str(NOX_95_conf[1])"
   ]
  },
  {
   "cell_type": "markdown",
   "metadata": {},
   "source": [
    "### 5. For the variable `NOX`, test the hypothesis that the mean is equal to the median. \n",
    "\n",
    "You may use scipy functions to complete this, but complete all steps - define hypotheses, etc. Let alpha = 0.05. Interpret your results."
   ]
  },
  {
   "cell_type": "code",
   "execution_count": 42,
   "metadata": {
    "collapsed": false
   },
   "outputs": [
    {
     "name": "stdout",
     "output_type": "stream",
     "text": [
      "alpha: 0.05\n",
      "t_statastics: 3.24088371678\n",
      "p_value: 0.00127005273618\n",
      "we reject null hypoteses that mean is not equal to median\n"
     ]
    }
   ],
   "source": [
    "# A:1. define hypotesis\n",
    "#H0: mean= median\n",
    "#H1: mean!=median\n",
    "\n",
    "# 2. alpha\n",
    "alpha= 0.05\n",
    "print \"alpha:\" ,alpha\n",
    "\n",
    "#3. claculate t_statstics\n",
    "t_statastics= (np.mean(NOX)-np.median(NOX))/(scipy.stats.sem(NOX))\n",
    "print \"t_statastics:\" ,t_statastics\n",
    "\n",
    "#4. p_value\n",
    "p_value=t.sf(np.abs(t_statastics), len(NOX)) * 2\n",
    "print \"p_value:\" , p_value\n",
    "\n",
    "if p_value<alpha:\n",
    "    print \"we reject null hypoteses that mean is not equal to median\"\n",
    "elif p_value>alpha:\n",
    "    print \" we fail to reject null hypoteses that mean is not equal to median\"\n",
    "else:\n",
    "    print \" The results are inconclusive\""
   ]
  },
  {
   "cell_type": "markdown",
   "metadata": {},
   "source": [
    "### 6. What do you notice about the results from Exercise 4 and Exercise 5? \n",
    "\n",
    "**If you were going to generalize this to the relationship between hypothesis tests and confidence intervals, what might you say? Be specific.**"
   ]
  },
  {
   "cell_type": "code",
   "execution_count": 9,
   "metadata": {
    "collapsed": true
   },
   "outputs": [],
   "source": [
    "# A:"
   ]
  },
  {
   "cell_type": "markdown",
   "metadata": {},
   "source": [
    "### 7. For the variable `NOX`, test the hypothesis that the mean is greater than or equal to the median. \n",
    "\n",
    "You may use scipy functions to complete this, but complete all steps - define hypotheses, etc. Let alpha = 0.05. Interpret your results."
   ]
  },
  {
   "cell_type": "code",
   "execution_count": 10,
   "metadata": {
    "collapsed": false
   },
   "outputs": [],
   "source": [
    "# A:"
   ]
  },
  {
   "cell_type": "markdown",
   "metadata": {},
   "source": [
    "### 8. Compare the p-values from Exercise 5 and Exercise 7. What do you notice?"
   ]
  },
  {
   "cell_type": "code",
   "execution_count": 11,
   "metadata": {
    "collapsed": true
   },
   "outputs": [],
   "source": [
    "# A:"
   ]
  }
 ],
 "metadata": {
  "anaconda-cloud": {},
  "kernelspec": {
   "display_name": "Python 2",
   "language": "python",
   "name": "python2"
  },
  "language_info": {
   "codemirror_mode": {
    "name": "ipython",
    "version": 2
   },
   "file_extension": ".py",
   "mimetype": "text/x-python",
   "name": "python",
   "nbconvert_exporter": "python",
   "pygments_lexer": "ipython2",
   "version": "2.7.13"
  }
 },
 "nbformat": 4,
 "nbformat_minor": 1
}
