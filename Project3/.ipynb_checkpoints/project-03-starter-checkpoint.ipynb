{
 "cells": [
  {
   "cell_type": "markdown",
   "metadata": {},
   "source": [
    "<img src=\"http://imgur.com/1ZcRyrc.png\" style=\"float: left; margin: 15px; height: 80px\">\n",
    "\n",
    "# Project 3\n",
    "\n",
    "### Regression and Classification with the Ames Housing Data\n",
    "\n",
    "---\n",
    "\n",
    "You have just joined a new \"full stack\" real estate company in Ames, Iowa. The strategy of the firm is two-fold:\n",
    "- Own the entire process from the purchase of the land all the way to sale of the house, and anything in between.\n",
    "- Use statistical analysis to optimize investment and maximize return.\n",
    "\n",
    "The company is still small, and though investment is substantial the short-term goals of the company are more oriented towards purchasing existing houses and flipping them as opposed to constructing entirely new houses. That being said, the company has access to a large construction workforce operating at rock-bottom prices.\n",
    "\n",
    "This project uses the [Ames housing data recently made available on kaggle](https://www.kaggle.com/c/house-prices-advanced-regression-techniques)."
   ]
  },
  {
   "cell_type": "code",
   "execution_count": 1,
   "metadata": {
    "collapsed": true
   },
   "outputs": [],
   "source": [
    "import numpy as np\n",
    "import scipy.stats as stats\n",
    "import seaborn as sns\n",
    "import matplotlib.pyplot as plt\n",
    "import pandas as pd\n",
    "\n",
    "sns.set_style('whitegrid')\n",
    "\n",
    "%config InlineBackend.figure_format = 'retina'\n",
    "%matplotlib inline"
   ]
  },
  {
   "cell_type": "markdown",
   "metadata": {},
   "source": [
    "<img src=\"http://imgur.com/l5NasQj.png\" style=\"float: left; margin: 25px 15px 0px 0px; height: 25px\">\n",
    "\n",
    "## 1. Estimating the value of homes from fixed characteristics.\n",
    "\n",
    "---\n",
    "\n",
    "Your superiors have outlined this year's strategy for the company:\n",
    "1. Develop an algorithm to reliably estimate the value of residential houses based on *fixed* characteristics.\n",
    "2. Identify characteristics of houses that the company can cost-effectively change/renovate with their construction team.\n",
    "3. Evaluate the mean dollar value of different renovations.\n",
    "\n",
    "Then we can use that to buy houses that are likely to sell for more than the cost of the purchase plus renovations.\n",
    "\n",
    "Your first job is to tackle #1. You have a dataset of housing sale data with a huge amount of features identifying different aspects of the house. The full description of the data features can be found in a separate file:\n",
    "\n",
    "    housing.csv\n",
    "    data_description.txt\n",
    "    \n",
    "You need to build a reliable estimator for the price of the house given characteristics of the house that cannot be renovated. Some examples include:\n",
    "- The neighborhood\n",
    "- Square feet\n",
    "- Bedrooms, bathrooms\n",
    "- Basement and garage space\n",
    "\n",
    "and many more. \n",
    "\n",
    "Some examples of things that **ARE renovate-able:**\n",
    "- Roof and exterior features\n",
    "- \"Quality\" metrics, such as kitchen quality\n",
    "- \"Condition\" metrics, such as condition of garage\n",
    "- Heating and electrical components\n",
    "\n",
    "and generally anything you deem can be modified without having to undergo major construction on the house.\n",
    "\n",
    "---\n",
    "\n",
    "**Your goals:**\n",
    "1. Perform any cleaning, feature engineering, and EDA you deem necessary.\n",
    "- Be sure to remove any houses that are not residential from the dataset.\n",
    "- Identify **fixed** features that can predict price.\n",
    "- Train a model on pre-2010 data and evaluate its performance on the 2010 houses.\n",
    "- Characterize your model. How well does it perform? What are the best estimates of price?\n",
    "\n",
    "> **Note:** The EDA and feature engineering component to this project is not trivial! Be sure to always think critically and creatively. Justify your actions! Use the data description file!"
   ]
  },
  {
   "cell_type": "code",
   "execution_count": 2,
   "metadata": {
    "collapsed": false
   },
   "outputs": [
    {
     "data": {
      "text/html": [
       "<div>\n",
       "<table border=\"1\" class=\"dataframe\">\n",
       "  <thead>\n",
       "    <tr style=\"text-align: right;\">\n",
       "      <th></th>\n",
       "      <th>Id</th>\n",
       "      <th>MSSubClass</th>\n",
       "      <th>MSZoning</th>\n",
       "      <th>LotFrontage</th>\n",
       "      <th>LotArea</th>\n",
       "      <th>Street</th>\n",
       "      <th>Alley</th>\n",
       "      <th>LotShape</th>\n",
       "      <th>LandContour</th>\n",
       "      <th>Utilities</th>\n",
       "      <th>...</th>\n",
       "      <th>PoolArea</th>\n",
       "      <th>PoolQC</th>\n",
       "      <th>Fence</th>\n",
       "      <th>MiscFeature</th>\n",
       "      <th>MiscVal</th>\n",
       "      <th>MoSold</th>\n",
       "      <th>YrSold</th>\n",
       "      <th>SaleType</th>\n",
       "      <th>SaleCondition</th>\n",
       "      <th>SalePrice</th>\n",
       "    </tr>\n",
       "  </thead>\n",
       "  <tbody>\n",
       "    <tr>\n",
       "      <th>0</th>\n",
       "      <td>1</td>\n",
       "      <td>60</td>\n",
       "      <td>RL</td>\n",
       "      <td>65.0</td>\n",
       "      <td>8450</td>\n",
       "      <td>Pave</td>\n",
       "      <td>NaN</td>\n",
       "      <td>Reg</td>\n",
       "      <td>Lvl</td>\n",
       "      <td>AllPub</td>\n",
       "      <td>...</td>\n",
       "      <td>0</td>\n",
       "      <td>NaN</td>\n",
       "      <td>NaN</td>\n",
       "      <td>NaN</td>\n",
       "      <td>0</td>\n",
       "      <td>2</td>\n",
       "      <td>2008</td>\n",
       "      <td>WD</td>\n",
       "      <td>Normal</td>\n",
       "      <td>208500</td>\n",
       "    </tr>\n",
       "    <tr>\n",
       "      <th>1</th>\n",
       "      <td>2</td>\n",
       "      <td>20</td>\n",
       "      <td>RL</td>\n",
       "      <td>80.0</td>\n",
       "      <td>9600</td>\n",
       "      <td>Pave</td>\n",
       "      <td>NaN</td>\n",
       "      <td>Reg</td>\n",
       "      <td>Lvl</td>\n",
       "      <td>AllPub</td>\n",
       "      <td>...</td>\n",
       "      <td>0</td>\n",
       "      <td>NaN</td>\n",
       "      <td>NaN</td>\n",
       "      <td>NaN</td>\n",
       "      <td>0</td>\n",
       "      <td>5</td>\n",
       "      <td>2007</td>\n",
       "      <td>WD</td>\n",
       "      <td>Normal</td>\n",
       "      <td>181500</td>\n",
       "    </tr>\n",
       "    <tr>\n",
       "      <th>2</th>\n",
       "      <td>3</td>\n",
       "      <td>60</td>\n",
       "      <td>RL</td>\n",
       "      <td>68.0</td>\n",
       "      <td>11250</td>\n",
       "      <td>Pave</td>\n",
       "      <td>NaN</td>\n",
       "      <td>IR1</td>\n",
       "      <td>Lvl</td>\n",
       "      <td>AllPub</td>\n",
       "      <td>...</td>\n",
       "      <td>0</td>\n",
       "      <td>NaN</td>\n",
       "      <td>NaN</td>\n",
       "      <td>NaN</td>\n",
       "      <td>0</td>\n",
       "      <td>9</td>\n",
       "      <td>2008</td>\n",
       "      <td>WD</td>\n",
       "      <td>Normal</td>\n",
       "      <td>223500</td>\n",
       "    </tr>\n",
       "    <tr>\n",
       "      <th>3</th>\n",
       "      <td>4</td>\n",
       "      <td>70</td>\n",
       "      <td>RL</td>\n",
       "      <td>60.0</td>\n",
       "      <td>9550</td>\n",
       "      <td>Pave</td>\n",
       "      <td>NaN</td>\n",
       "      <td>IR1</td>\n",
       "      <td>Lvl</td>\n",
       "      <td>AllPub</td>\n",
       "      <td>...</td>\n",
       "      <td>0</td>\n",
       "      <td>NaN</td>\n",
       "      <td>NaN</td>\n",
       "      <td>NaN</td>\n",
       "      <td>0</td>\n",
       "      <td>2</td>\n",
       "      <td>2006</td>\n",
       "      <td>WD</td>\n",
       "      <td>Abnorml</td>\n",
       "      <td>140000</td>\n",
       "    </tr>\n",
       "    <tr>\n",
       "      <th>4</th>\n",
       "      <td>5</td>\n",
       "      <td>60</td>\n",
       "      <td>RL</td>\n",
       "      <td>84.0</td>\n",
       "      <td>14260</td>\n",
       "      <td>Pave</td>\n",
       "      <td>NaN</td>\n",
       "      <td>IR1</td>\n",
       "      <td>Lvl</td>\n",
       "      <td>AllPub</td>\n",
       "      <td>...</td>\n",
       "      <td>0</td>\n",
       "      <td>NaN</td>\n",
       "      <td>NaN</td>\n",
       "      <td>NaN</td>\n",
       "      <td>0</td>\n",
       "      <td>12</td>\n",
       "      <td>2008</td>\n",
       "      <td>WD</td>\n",
       "      <td>Normal</td>\n",
       "      <td>250000</td>\n",
       "    </tr>\n",
       "  </tbody>\n",
       "</table>\n",
       "<p>5 rows × 81 columns</p>\n",
       "</div>"
      ],
      "text/plain": [
       "   Id  MSSubClass MSZoning  LotFrontage  LotArea Street Alley LotShape  \\\n",
       "0   1          60       RL         65.0     8450   Pave   NaN      Reg   \n",
       "1   2          20       RL         80.0     9600   Pave   NaN      Reg   \n",
       "2   3          60       RL         68.0    11250   Pave   NaN      IR1   \n",
       "3   4          70       RL         60.0     9550   Pave   NaN      IR1   \n",
       "4   5          60       RL         84.0    14260   Pave   NaN      IR1   \n",
       "\n",
       "  LandContour Utilities    ...     PoolArea PoolQC Fence MiscFeature MiscVal  \\\n",
       "0         Lvl    AllPub    ...            0    NaN   NaN         NaN       0   \n",
       "1         Lvl    AllPub    ...            0    NaN   NaN         NaN       0   \n",
       "2         Lvl    AllPub    ...            0    NaN   NaN         NaN       0   \n",
       "3         Lvl    AllPub    ...            0    NaN   NaN         NaN       0   \n",
       "4         Lvl    AllPub    ...            0    NaN   NaN         NaN       0   \n",
       "\n",
       "  MoSold YrSold  SaleType  SaleCondition  SalePrice  \n",
       "0      2   2008        WD         Normal     208500  \n",
       "1      5   2007        WD         Normal     181500  \n",
       "2      9   2008        WD         Normal     223500  \n",
       "3      2   2006        WD        Abnorml     140000  \n",
       "4     12   2008        WD         Normal     250000  \n",
       "\n",
       "[5 rows x 81 columns]"
      ]
     },
     "execution_count": 2,
     "metadata": {},
     "output_type": "execute_result"
    }
   ],
   "source": [
    "# Load the data\n",
    "house = pd.read_csv('/Users/Mahendra/desktop/GA/hw/Project3/housing.csv')\n",
    "house.head()"
   ]
  },
  {
   "cell_type": "code",
   "execution_count": 3,
   "metadata": {
    "collapsed": false
   },
   "outputs": [
    {
     "data": {
      "text/plain": [
       "Index([u'Id', u'MSSubClass', u'MSZoning', u'LotFrontage', u'LotArea',\n",
       "       u'Street', u'Alley', u'LotShape', u'LandContour', u'Utilities',\n",
       "       u'LotConfig', u'LandSlope', u'Neighborhood', u'Condition1',\n",
       "       u'Condition2', u'BldgType', u'HouseStyle', u'OverallQual',\n",
       "       u'OverallCond', u'YearBuilt', u'YearRemodAdd', u'RoofStyle',\n",
       "       u'RoofMatl', u'Exterior1st', u'Exterior2nd', u'MasVnrType',\n",
       "       u'MasVnrArea', u'ExterQual', u'ExterCond', u'Foundation', u'BsmtQual',\n",
       "       u'BsmtCond', u'BsmtExposure', u'BsmtFinType1', u'BsmtFinSF1',\n",
       "       u'BsmtFinType2', u'BsmtFinSF2', u'BsmtUnfSF', u'TotalBsmtSF',\n",
       "       u'Heating', u'HeatingQC', u'CentralAir', u'Electrical', u'1stFlrSF',\n",
       "       u'2ndFlrSF', u'LowQualFinSF', u'GrLivArea', u'BsmtFullBath',\n",
       "       u'BsmtHalfBath', u'FullBath', u'HalfBath', u'BedroomAbvGr',\n",
       "       u'KitchenAbvGr', u'KitchenQual', u'TotRmsAbvGrd', u'Functional',\n",
       "       u'Fireplaces', u'FireplaceQu', u'GarageType', u'GarageYrBlt',\n",
       "       u'GarageFinish', u'GarageCars', u'GarageArea', u'GarageQual',\n",
       "       u'GarageCond', u'PavedDrive', u'WoodDeckSF', u'OpenPorchSF',\n",
       "       u'EnclosedPorch', u'3SsnPorch', u'ScreenPorch', u'PoolArea', u'PoolQC',\n",
       "       u'Fence', u'MiscFeature', u'MiscVal', u'MoSold', u'YrSold', u'SaleType',\n",
       "       u'SaleCondition', u'SalePrice'],\n",
       "      dtype='object')"
      ]
     },
     "execution_count": 3,
     "metadata": {},
     "output_type": "execute_result"
    }
   ],
   "source": [
    "#inspect the columns\n",
    "house.columns"
   ]
  },
  {
   "cell_type": "code",
   "execution_count": 4,
   "metadata": {
    "collapsed": false
   },
   "outputs": [
    {
     "data": {
      "text/plain": [
       "(1460, 81)"
      ]
     },
     "execution_count": 4,
     "metadata": {},
     "output_type": "execute_result"
    }
   ],
   "source": [
    "house.shape"
   ]
  },
  {
   "cell_type": "code",
   "execution_count": 5,
   "metadata": {
    "collapsed": false
   },
   "outputs": [
    {
     "name": "stdout",
     "output_type": "stream",
     "text": [
      "Id\n",
      "1460\n",
      "MSSubClass\n",
      "15\n",
      "MSZoning\n",
      "5\n",
      "LotFrontage\n",
      "110\n",
      "LotArea\n",
      "1073\n",
      "Street\n",
      "2\n",
      "Alley\n",
      "2\n",
      "LotShape\n",
      "4\n",
      "LandContour\n",
      "4\n",
      "Utilities\n",
      "2\n",
      "LotConfig\n",
      "5\n",
      "LandSlope\n",
      "3\n",
      "Neighborhood\n",
      "25\n",
      "Condition1\n",
      "9\n",
      "Condition2\n",
      "8\n",
      "BldgType\n",
      "5\n",
      "HouseStyle\n",
      "8\n",
      "OverallQual\n",
      "10\n",
      "OverallCond\n",
      "9\n",
      "YearBuilt\n",
      "112\n",
      "YearRemodAdd\n",
      "61\n",
      "RoofStyle\n",
      "6\n",
      "RoofMatl\n",
      "8\n",
      "Exterior1st\n",
      "15\n",
      "Exterior2nd\n",
      "16\n",
      "MasVnrType\n",
      "4\n",
      "MasVnrArea\n",
      "327\n",
      "ExterQual\n",
      "4\n",
      "ExterCond\n",
      "5\n",
      "Foundation\n",
      "6\n",
      "BsmtQual\n",
      "4\n",
      "BsmtCond\n",
      "4\n",
      "BsmtExposure\n",
      "4\n",
      "BsmtFinType1\n",
      "6\n",
      "BsmtFinSF1\n",
      "637\n",
      "BsmtFinType2\n",
      "6\n",
      "BsmtFinSF2\n",
      "144\n",
      "BsmtUnfSF\n",
      "780\n",
      "TotalBsmtSF\n",
      "721\n",
      "Heating\n",
      "6\n",
      "HeatingQC\n",
      "5\n",
      "CentralAir\n",
      "2\n",
      "Electrical\n",
      "5\n",
      "1stFlrSF\n",
      "753\n",
      "2ndFlrSF\n",
      "417\n",
      "LowQualFinSF\n",
      "24\n",
      "GrLivArea\n",
      "861\n",
      "BsmtFullBath\n",
      "4\n",
      "BsmtHalfBath\n",
      "3\n",
      "FullBath\n",
      "4\n",
      "HalfBath\n",
      "3\n",
      "BedroomAbvGr\n",
      "8\n",
      "KitchenAbvGr\n",
      "4\n",
      "KitchenQual\n",
      "4\n",
      "TotRmsAbvGrd\n",
      "12\n",
      "Functional\n",
      "7\n",
      "Fireplaces\n",
      "4\n",
      "FireplaceQu\n",
      "5\n",
      "GarageType\n",
      "6\n",
      "GarageYrBlt\n",
      "97\n",
      "GarageFinish\n",
      "3\n",
      "GarageCars\n",
      "5\n",
      "GarageArea\n",
      "441\n",
      "GarageQual\n",
      "5\n",
      "GarageCond\n",
      "5\n",
      "PavedDrive\n",
      "3\n",
      "WoodDeckSF\n",
      "274\n",
      "OpenPorchSF\n",
      "202\n",
      "EnclosedPorch\n",
      "120\n",
      "3SsnPorch\n",
      "20\n",
      "ScreenPorch\n",
      "76\n",
      "PoolArea\n",
      "8\n",
      "PoolQC\n",
      "3\n",
      "Fence\n",
      "4\n",
      "MiscFeature\n",
      "4\n",
      "MiscVal\n",
      "21\n",
      "MoSold\n",
      "12\n",
      "YrSold\n",
      "5\n",
      "SaleType\n",
      "9\n",
      "SaleCondition\n",
      "6\n",
      "SalePrice\n",
      "663\n"
     ]
    }
   ],
   "source": [
    "# to find unique values in every columns\n",
    "for item in house:\n",
    "    print item\n",
    "    print house[item].nunique()"
   ]
  },
  {
   "cell_type": "code",
   "execution_count": 6,
   "metadata": {
    "collapsed": false
   },
   "outputs": [
    {
     "data": {
      "text/plain": [
       "Id                  0\n",
       "MSSubClass          0\n",
       "MSZoning            0\n",
       "LotFrontage       259\n",
       "LotArea             0\n",
       "Street              0\n",
       "Alley            1369\n",
       "LotShape            0\n",
       "LandContour         0\n",
       "Utilities           0\n",
       "LotConfig           0\n",
       "LandSlope           0\n",
       "Neighborhood        0\n",
       "Condition1          0\n",
       "Condition2          0\n",
       "BldgType            0\n",
       "HouseStyle          0\n",
       "OverallQual         0\n",
       "OverallCond         0\n",
       "YearBuilt           0\n",
       "YearRemodAdd        0\n",
       "RoofStyle           0\n",
       "RoofMatl            0\n",
       "Exterior1st         0\n",
       "Exterior2nd         0\n",
       "MasVnrType          8\n",
       "MasVnrArea          8\n",
       "ExterQual           0\n",
       "ExterCond           0\n",
       "Foundation          0\n",
       "                 ... \n",
       "BedroomAbvGr        0\n",
       "KitchenAbvGr        0\n",
       "KitchenQual         0\n",
       "TotRmsAbvGrd        0\n",
       "Functional          0\n",
       "Fireplaces          0\n",
       "FireplaceQu       690\n",
       "GarageType         81\n",
       "GarageYrBlt        81\n",
       "GarageFinish       81\n",
       "GarageCars          0\n",
       "GarageArea          0\n",
       "GarageQual         81\n",
       "GarageCond         81\n",
       "PavedDrive          0\n",
       "WoodDeckSF          0\n",
       "OpenPorchSF         0\n",
       "EnclosedPorch       0\n",
       "3SsnPorch           0\n",
       "ScreenPorch         0\n",
       "PoolArea            0\n",
       "PoolQC           1453\n",
       "Fence            1179\n",
       "MiscFeature      1406\n",
       "MiscVal             0\n",
       "MoSold              0\n",
       "YrSold              0\n",
       "SaleType            0\n",
       "SaleCondition       0\n",
       "SalePrice           0\n",
       "dtype: int64"
      ]
     },
     "execution_count": 6,
     "metadata": {},
     "output_type": "execute_result"
    }
   ],
   "source": [
    "house.isnull().sum()"
   ]
  },
  {
   "cell_type": "code",
   "execution_count": 7,
   "metadata": {
    "collapsed": true
   },
   "outputs": [],
   "source": [
    "house['sq_ft']=house['TotalBsmtSF']+house['GrLivArea']"
   ]
  },
  {
   "cell_type": "code",
   "execution_count": 8,
   "metadata": {
    "collapsed": false
   },
   "outputs": [
    {
     "data": {
      "image/png": "[encoded data removed]",
      "text/plain": [
       "<matplotlib.figure.Figure at 0x1146c3d90>"
      ]
     },
     "metadata": {
      "image/png": {
       "height": 262,
       "width": 408
      }
     },
     "output_type": "display_data"
    }
   ],
   "source": [
    "plt.scatter(house.sq_ft, house.SalePrice, c = \"brown\", marker = \"s\")\n",
    "\n",
    "plt.xlabel(\"sq_ft\")\n",
    "plt.ylabel(\"SalePrice\")\n",
    "plt.show()"
   ]
  },
  {
   "cell_type": "code",
   "execution_count": 9,
   "metadata": {
    "collapsed": false
   },
   "outputs": [
    {
     "data": {
      "text/plain": [
       "<matplotlib.text.Text at 0x117714690>"
      ]
     },
     "execution_count": 9,
     "metadata": {},
     "output_type": "execute_result"
    },
    {
     "data": {
      "image/png": "[encoded data removed]",
      "text/plain": [
       "<matplotlib.figure.Figure at 0x117515810>"
      ]
     },
     "metadata": {
      "image/png": {
       "height": 262,
       "width": 403
      }
     },
     "output_type": "display_data"
    }
   ],
   "source": [
    "ax = house.plot(x= 'sq_ft', y=\"SalePrice\", style=\"o\") \n",
    "ax.set_ylabel(\"SalePrice\")"
   ]
  },
  {
   "cell_type": "code",
   "execution_count": 10,
   "metadata": {
    "collapsed": false
   },
   "outputs": [],
   "source": [
    "#house=house.drop('GrLivArea',axis=1,inplace=True)\n",
    "#house=house.drop('TotalBsmtSF',axis=1,inplace=True)\n"
   ]
  },
  {
   "cell_type": "code",
   "execution_count": 11,
   "metadata": {
    "collapsed": false
   },
   "outputs": [
    {
     "name": "stdout",
     "output_type": "stream",
     "text": [
      "Find most important features relative to target\n",
      "SalePrice        1.000000\n",
      "OverallQual      0.790982\n",
      "sq_ft            0.778959\n",
      "GrLivArea        0.708624\n",
      "GarageCars       0.640409\n",
      "GarageArea       0.623431\n",
      "TotalBsmtSF      0.613581\n",
      "1stFlrSF         0.605852\n",
      "FullBath         0.560664\n",
      "TotRmsAbvGrd     0.533723\n",
      "YearBuilt        0.522897\n",
      "YearRemodAdd     0.507101\n",
      "GarageYrBlt      0.486362\n",
      "MasVnrArea       0.477493\n",
      "Fireplaces       0.466929\n",
      "BsmtFinSF1       0.386420\n",
      "LotFrontage      0.351799\n",
      "WoodDeckSF       0.324413\n",
      "2ndFlrSF         0.319334\n",
      "OpenPorchSF      0.315856\n",
      "HalfBath         0.284108\n",
      "LotArea          0.263843\n",
      "BsmtFullBath     0.227122\n",
      "BsmtUnfSF        0.214479\n",
      "BedroomAbvGr     0.168213\n",
      "ScreenPorch      0.111447\n",
      "PoolArea         0.092404\n",
      "MoSold           0.046432\n",
      "3SsnPorch        0.044584\n",
      "BsmtFinSF2      -0.011378\n",
      "BsmtHalfBath    -0.016844\n",
      "MiscVal         -0.021190\n",
      "Id              -0.021917\n",
      "LowQualFinSF    -0.025606\n",
      "YrSold          -0.028923\n",
      "OverallCond     -0.077856\n",
      "MSSubClass      -0.084284\n",
      "EnclosedPorch   -0.128578\n",
      "KitchenAbvGr    -0.135907\n",
      "Name: SalePrice, dtype: float64\n"
     ]
    }
   ],
   "source": [
    "# Find most important features relative to target\n",
    "print(\"Find most important features relative to target\")\n",
    "corr = house.corr()\n",
    "corr.sort_values([\"SalePrice\"], ascending = False, inplace = True)\n",
    "print(corr.SalePrice)"
   ]
  },
  {
   "cell_type": "code",
   "execution_count": 12,
   "metadata": {
    "collapsed": false
   },
   "outputs": [
    {
     "data": {
      "text/plain": [
       "array(['CollgCr', 'Veenker', 'Crawfor', 'NoRidge', 'Mitchel', 'Somerst',\n",
       "       'NWAmes', 'OldTown', 'BrkSide', 'Sawyer', 'NridgHt', 'NAmes',\n",
       "       'SawyerW', 'IDOTRR', 'MeadowV', 'Edwards', 'Timber', 'Gilbert',\n",
       "       'StoneBr', 'ClearCr', 'NPkVill', 'Blmngtn', 'BrDale', 'SWISU',\n",
       "       'Blueste'], dtype=object)"
      ]
     },
     "execution_count": 12,
     "metadata": {},
     "output_type": "execute_result"
    }
   ],
   "source": [
    "house.Neighborhood.unique()"
   ]
  },
  {
   "cell_type": "code",
   "execution_count": 13,
   "metadata": {
    "collapsed": false
   },
   "outputs": [
    {
     "data": {
      "text/plain": [
       "<matplotlib.axes._subplots.AxesSubplot at 0x117714ad0>"
      ]
     },
     "execution_count": 13,
     "metadata": {},
     "output_type": "execute_result"
    },
    {
     "data": {
      "image/png": "[encoded data removed]",
      "text/plain": [
       "<matplotlib.figure.Figure at 0x114609a90>"
      ]
     },
     "metadata": {
      "image/png": {
       "height": 262,
       "width": 393
      }
     },
     "output_type": "display_data"
    }
   ],
   "source": [
    "house.plot(x='Neighborhood',y='SalePrice')"
   ]
  },
  {
   "cell_type": "code",
   "execution_count": 14,
   "metadata": {
    "collapsed": true
   },
   "outputs": [],
   "source": [
    "#total number of bathrooms\n",
    "house[\"TotalBath\"] = house[\"BsmtFullBath\"] + (0.5 * house[\"BsmtHalfBath\"]) + \\\n",
    "house[\"FullBath\"] + (0.5 * house[\"HalfBath\"])"
   ]
  },
  {
   "cell_type": "code",
   "execution_count": 15,
   "metadata": {
    "collapsed": false
   },
   "outputs": [
    {
     "data": {
      "text/plain": [
       "array([ 8,  6,  7,  9,  5, 11,  4, 10, 12,  3,  2, 14])"
      ]
     },
     "execution_count": 15,
     "metadata": {},
     "output_type": "execute_result"
    }
   ],
   "source": [
    "house.TotRmsAbvGrd.unique()"
   ]
  },
  {
   "cell_type": "code",
   "execution_count": 16,
   "metadata": {
    "collapsed": false,
    "scrolled": true
   },
   "outputs": [
    {
     "data": {
      "image/png": "[encoded data removed]",
      "text/plain": [
       "<matplotlib.figure.Figure at 0x117907310>"
      ]
     },
     "metadata": {
      "image/png": {
       "height": 262,
       "width": 408
      }
     },
     "output_type": "display_data"
    }
   ],
   "source": [
    "plt.scatter(house.sq_ft, house.SalePrice, c = \"brown\", marker = \"s\")\n",
    "\n",
    "plt.xlabel(\"TotRmsAbvGrd\")\n",
    "plt.ylabel(\"SalePrice\")\n",
    "plt.show()"
   ]
  },
  {
   "cell_type": "code",
   "execution_count": 17,
   "metadata": {
    "collapsed": false
   },
   "outputs": [
    {
     "data": {
      "image/png": "[encoded data removed]",
      "text/plain": [
       "<matplotlib.figure.Figure at 0x117ecc910>"
      ]
     },
     "metadata": {
      "image/png": {
       "height": 262,
       "width": 403
      }
     },
     "output_type": "display_data"
    }
   ],
   "source": [
    "plt.scatter(house.TotalBath, house.SalePrice, c = \"brown\", marker = \"s\")\n",
    "\n",
    "plt.xlabel(\"TotalBath\")\n",
    "plt.ylabel(\"SalePrice\")\n",
    "plt.show()"
   ]
  },
  {
   "cell_type": "code",
   "execution_count": 18,
   "metadata": {
    "collapsed": false
   },
   "outputs": [
    {
     "data": {
      "image/png": "[encoded data removed]",
      "text/plain": [
       "<matplotlib.figure.Figure at 0x11814e2d0>"
      ]
     },
     "metadata": {
      "image/png": {
       "height": 262,
       "width": 403
      }
     },
     "output_type": "display_data"
    }
   ],
   "source": [
    "plt.scatter(house.BedroomAbvGr, house.SalePrice, c = \"brown\", marker = \"s\")\n",
    "\n",
    "plt.xlabel(\"BedroomAbvGr\")\n",
    "plt.ylabel(\"SalePrice\")\n",
    "plt.show()\n"
   ]
  },
  {
   "cell_type": "code",
   "execution_count": 19,
   "metadata": {
    "collapsed": false
   },
   "outputs": [
    {
     "data": {
      "text/plain": [
       "{'boxes': [<matplotlib.lines.Line2D at 0x118162590>],\n",
       " 'caps': [<matplotlib.lines.Line2D at 0x1180cca50>,\n",
       "  <matplotlib.lines.Line2D at 0x1180cc790>],\n",
       " 'fliers': [<matplotlib.lines.Line2D at 0x1180ec4d0>],\n",
       " 'means': [],\n",
       " 'medians': [<matplotlib.lines.Line2D at 0x1180ec1d0>],\n",
       " 'whiskers': [<matplotlib.lines.Line2D at 0x118162c50>,\n",
       "  <matplotlib.lines.Line2D at 0x118162c90>]}"
      ]
     },
     "execution_count": 19,
     "metadata": {},
     "output_type": "execute_result"
    },
    {
     "data": {
      "image/png": "[encoded data removed]",
      "text/plain": [
       "<matplotlib.figure.Figure at 0x1183b1ad0>"
      ]
     },
     "metadata": {
      "image/png": {
       "height": 248,
       "width": 389
      }
     },
     "output_type": "display_data"
    }
   ],
   "source": [
    "fig = plt.figure() \n",
    "plt.boxplot(house.SalePrice)"
   ]
  },
  {
   "cell_type": "code",
   "execution_count": 20,
   "metadata": {
    "collapsed": false
   },
   "outputs": [
    {
     "data": {
      "text/plain": [
       "<matplotlib.text.Text at 0x118115310>"
      ]
     },
     "execution_count": 20,
     "metadata": {},
     "output_type": "execute_result"
    },
    {
     "data": {
      "image/png": "[encoded data removed]",
      "text/plain": [
       "<matplotlib.figure.Figure at 0x11836b550>"
      ]
     },
     "metadata": {
      "image/png": {
       "height": 262,
       "width": 397
      }
     },
     "output_type": "display_data"
    }
   ],
   "source": [
    "#Distribution of saleprice\n",
    "import matplotlib.mlab as mlab\n",
    "n, bins, patches = plt.hist(house.SalePrice, 50, normed=1)\n",
    "mu = np.mean(house.SalePrice)\n",
    "sigma = np.std(house.SalePrice)\n",
    "plt.plot(bins, mlab.normpdf(bins, mu, sigma)) \n",
    "plt.xlabel(\"SalePrice\")"
   ]
  },
  {
   "cell_type": "code",
   "execution_count": 21,
   "metadata": {
    "collapsed": true
   },
   "outputs": [],
   "source": [
    "# Columns were dropped for which data conversion was done.\n",
    "clean_house= house.drop('YearBuilt', 1)\n",
    "clean_house = house.drop('YearRemodAdd', 1)\n",
    "clean_house = house.drop('GarageYrBlt', 1)\n",
    "clean_house = house.drop('YrSold', 1)\n",
    "clean_house = house.drop('Id', 1)\n"
   ]
  },
  {
   "cell_type": "code",
   "execution_count": 22,
   "metadata": {
    "collapsed": false
   },
   "outputs": [
    {
     "data": {
      "text/html": [
       "<div>\n",
       "<table border=\"1\" class=\"dataframe\">\n",
       "  <thead>\n",
       "    <tr style=\"text-align: right;\">\n",
       "      <th></th>\n",
       "      <th>MSSubClass</th>\n",
       "      <th>MSZoning</th>\n",
       "      <th>LotFrontage</th>\n",
       "      <th>LotArea</th>\n",
       "      <th>Street</th>\n",
       "      <th>Alley</th>\n",
       "      <th>LotShape</th>\n",
       "      <th>LandContour</th>\n",
       "      <th>Utilities</th>\n",
       "      <th>LotConfig</th>\n",
       "      <th>...</th>\n",
       "      <th>Fence</th>\n",
       "      <th>MiscFeature</th>\n",
       "      <th>MiscVal</th>\n",
       "      <th>MoSold</th>\n",
       "      <th>YrSold</th>\n",
       "      <th>SaleType</th>\n",
       "      <th>SaleCondition</th>\n",
       "      <th>SalePrice</th>\n",
       "      <th>sq_ft</th>\n",
       "      <th>TotalBath</th>\n",
       "    </tr>\n",
       "  </thead>\n",
       "  <tbody>\n",
       "    <tr>\n",
       "      <th>0</th>\n",
       "      <td>60</td>\n",
       "      <td>RL</td>\n",
       "      <td>65.0</td>\n",
       "      <td>8450</td>\n",
       "      <td>Pave</td>\n",
       "      <td>NaN</td>\n",
       "      <td>Reg</td>\n",
       "      <td>Lvl</td>\n",
       "      <td>AllPub</td>\n",
       "      <td>Inside</td>\n",
       "      <td>...</td>\n",
       "      <td>NaN</td>\n",
       "      <td>NaN</td>\n",
       "      <td>0</td>\n",
       "      <td>2</td>\n",
       "      <td>2008</td>\n",
       "      <td>WD</td>\n",
       "      <td>Normal</td>\n",
       "      <td>208500</td>\n",
       "      <td>2566</td>\n",
       "      <td>3.5</td>\n",
       "    </tr>\n",
       "    <tr>\n",
       "      <th>1</th>\n",
       "      <td>20</td>\n",
       "      <td>RL</td>\n",
       "      <td>80.0</td>\n",
       "      <td>9600</td>\n",
       "      <td>Pave</td>\n",
       "      <td>NaN</td>\n",
       "      <td>Reg</td>\n",
       "      <td>Lvl</td>\n",
       "      <td>AllPub</td>\n",
       "      <td>FR2</td>\n",
       "      <td>...</td>\n",
       "      <td>NaN</td>\n",
       "      <td>NaN</td>\n",
       "      <td>0</td>\n",
       "      <td>5</td>\n",
       "      <td>2007</td>\n",
       "      <td>WD</td>\n",
       "      <td>Normal</td>\n",
       "      <td>181500</td>\n",
       "      <td>2524</td>\n",
       "      <td>2.5</td>\n",
       "    </tr>\n",
       "    <tr>\n",
       "      <th>2</th>\n",
       "      <td>60</td>\n",
       "      <td>RL</td>\n",
       "      <td>68.0</td>\n",
       "      <td>11250</td>\n",
       "      <td>Pave</td>\n",
       "      <td>NaN</td>\n",
       "      <td>IR1</td>\n",
       "      <td>Lvl</td>\n",
       "      <td>AllPub</td>\n",
       "      <td>Inside</td>\n",
       "      <td>...</td>\n",
       "      <td>NaN</td>\n",
       "      <td>NaN</td>\n",
       "      <td>0</td>\n",
       "      <td>9</td>\n",
       "      <td>2008</td>\n",
       "      <td>WD</td>\n",
       "      <td>Normal</td>\n",
       "      <td>223500</td>\n",
       "      <td>2706</td>\n",
       "      <td>3.5</td>\n",
       "    </tr>\n",
       "    <tr>\n",
       "      <th>3</th>\n",
       "      <td>70</td>\n",
       "      <td>RL</td>\n",
       "      <td>60.0</td>\n",
       "      <td>9550</td>\n",
       "      <td>Pave</td>\n",
       "      <td>NaN</td>\n",
       "      <td>IR1</td>\n",
       "      <td>Lvl</td>\n",
       "      <td>AllPub</td>\n",
       "      <td>Corner</td>\n",
       "      <td>...</td>\n",
       "      <td>NaN</td>\n",
       "      <td>NaN</td>\n",
       "      <td>0</td>\n",
       "      <td>2</td>\n",
       "      <td>2006</td>\n",
       "      <td>WD</td>\n",
       "      <td>Abnorml</td>\n",
       "      <td>140000</td>\n",
       "      <td>2473</td>\n",
       "      <td>2.0</td>\n",
       "    </tr>\n",
       "    <tr>\n",
       "      <th>4</th>\n",
       "      <td>60</td>\n",
       "      <td>RL</td>\n",
       "      <td>84.0</td>\n",
       "      <td>14260</td>\n",
       "      <td>Pave</td>\n",
       "      <td>NaN</td>\n",
       "      <td>IR1</td>\n",
       "      <td>Lvl</td>\n",
       "      <td>AllPub</td>\n",
       "      <td>FR2</td>\n",
       "      <td>...</td>\n",
       "      <td>NaN</td>\n",
       "      <td>NaN</td>\n",
       "      <td>0</td>\n",
       "      <td>12</td>\n",
       "      <td>2008</td>\n",
       "      <td>WD</td>\n",
       "      <td>Normal</td>\n",
       "      <td>250000</td>\n",
       "      <td>3343</td>\n",
       "      <td>3.5</td>\n",
       "    </tr>\n",
       "  </tbody>\n",
       "</table>\n",
       "<p>5 rows × 82 columns</p>\n",
       "</div>"
      ],
      "text/plain": [
       "   MSSubClass MSZoning  LotFrontage  LotArea Street Alley LotShape  \\\n",
       "0          60       RL         65.0     8450   Pave   NaN      Reg   \n",
       "1          20       RL         80.0     9600   Pave   NaN      Reg   \n",
       "2          60       RL         68.0    11250   Pave   NaN      IR1   \n",
       "3          70       RL         60.0     9550   Pave   NaN      IR1   \n",
       "4          60       RL         84.0    14260   Pave   NaN      IR1   \n",
       "\n",
       "  LandContour Utilities LotConfig    ...     Fence MiscFeature MiscVal MoSold  \\\n",
       "0         Lvl    AllPub    Inside    ...       NaN         NaN       0      2   \n",
       "1         Lvl    AllPub       FR2    ...       NaN         NaN       0      5   \n",
       "2         Lvl    AllPub    Inside    ...       NaN         NaN       0      9   \n",
       "3         Lvl    AllPub    Corner    ...       NaN         NaN       0      2   \n",
       "4         Lvl    AllPub       FR2    ...       NaN         NaN       0     12   \n",
       "\n",
       "  YrSold SaleType  SaleCondition  SalePrice  sq_ft  TotalBath  \n",
       "0   2008       WD         Normal     208500   2566        3.5  \n",
       "1   2007       WD         Normal     181500   2524        2.5  \n",
       "2   2008       WD         Normal     223500   2706        3.5  \n",
       "3   2006       WD        Abnorml     140000   2473        2.0  \n",
       "4   2008       WD         Normal     250000   3343        3.5  \n",
       "\n",
       "[5 rows x 82 columns]"
      ]
     },
     "execution_count": 22,
     "metadata": {},
     "output_type": "execute_result"
    }
   ],
   "source": [
    "clean_house.head()"
   ]
  },
  {
   "cell_type": "code",
   "execution_count": 23,
   "metadata": {
    "collapsed": false
   },
   "outputs": [
    {
     "name": "stderr",
     "output_type": "stream",
     "text": [
      "/anaconda/lib/python2.7/site-packages/ipykernel/__main__.py:4: FutureWarning: sort is deprecated, use sort_values(inplace=True) for INPLACE sorting\n"
     ]
    },
    {
     "data": {
      "text/plain": [
       "PoolQC           1453\n",
       "MiscFeature      1406\n",
       "Alley            1369\n",
       "Fence            1179\n",
       "FireplaceQu       690\n",
       "LotFrontage       259\n",
       "GarageYrBlt        81\n",
       "GarageCond         81\n",
       "GarageType         81\n",
       "GarageFinish       81\n",
       "GarageQual         81\n",
       "BsmtExposure       38\n",
       "BsmtFinType2       38\n",
       "BsmtFinType1       37\n",
       "BsmtCond           37\n",
       "BsmtQual           37\n",
       "MasVnrArea          8\n",
       "MasVnrType          8\n",
       "Electrical          1\n",
       "LotConfig           0\n",
       "RoofStyle           0\n",
       "BsmtFinSF1          0\n",
       "MSZoning            0\n",
       "Foundation          0\n",
       "ExterCond           0\n",
       "ExterQual           0\n",
       "Exterior2nd         0\n",
       "Exterior1st         0\n",
       "RoofMatl            0\n",
       "YearRemodAdd        0\n",
       "                 ... \n",
       "OpenPorchSF         0\n",
       "EnclosedPorch       0\n",
       "3SsnPorch           0\n",
       "PoolArea            0\n",
       "Fireplaces          0\n",
       "MiscVal             0\n",
       "MoSold              0\n",
       "YrSold              0\n",
       "SaleType            0\n",
       "SaleCondition       0\n",
       "SalePrice           0\n",
       "GarageCars          0\n",
       "Functional          0\n",
       "TotalBsmtSF         0\n",
       "GrLivArea           0\n",
       "Heating             0\n",
       "HeatingQC           0\n",
       "sq_ft               0\n",
       "1stFlrSF            0\n",
       "2ndFlrSF            0\n",
       "LowQualFinSF        0\n",
       "BsmtFullBath        0\n",
       "TotRmsAbvGrd        0\n",
       "BsmtHalfBath        0\n",
       "FullBath            0\n",
       "HalfBath            0\n",
       "BedroomAbvGr        0\n",
       "KitchenAbvGr        0\n",
       "KitchenQual         0\n",
       "MSSubClass          0\n",
       "dtype: int64"
      ]
     },
     "execution_count": 23,
     "metadata": {},
     "output_type": "execute_result"
    }
   ],
   "source": [
    "#list of columns was prepared which incuded all the attributes having missing values along with the count of missing\n",
    "#values and later list was sorted. \n",
    "val_miss_col = clean_house.isnull().sum(axis = 0)\n",
    "val_miss_col.sort(axis=0, ascending=False, kind='quicksort', na_position='last', inplace=True)\n",
    "val_miss_col"
   ]
  },
  {
   "cell_type": "code",
   "execution_count": 27,
   "metadata": {
    "collapsed": false
   },
   "outputs": [
    {
     "data": {
      "text/plain": [
       "Index([u'MSSubClass', u'MSZoning', u'LotFrontage', u'LotArea', u'Street',\n",
       "       u'Alley', u'LotShape', u'LandContour', u'Utilities', u'LotConfig',\n",
       "       u'LandSlope', u'Neighborhood', u'Condition1', u'Condition2',\n",
       "       u'BldgType', u'HouseStyle', u'OverallQual', u'OverallCond',\n",
       "       u'YearBuilt', u'YearRemodAdd', u'RoofStyle', u'RoofMatl',\n",
       "       u'Exterior1st', u'Exterior2nd', u'MasVnrType', u'MasVnrArea',\n",
       "       u'ExterQual', u'ExterCond', u'Foundation', u'BsmtQual', u'BsmtCond',\n",
       "       u'BsmtExposure', u'BsmtFinType1', u'BsmtFinSF1', u'BsmtFinType2',\n",
       "       u'BsmtFinSF2', u'BsmtUnfSF', u'TotalBsmtSF', u'Heating', u'HeatingQC',\n",
       "       u'CentralAir', u'Electrical', u'1stFlrSF', u'2ndFlrSF', u'LowQualFinSF',\n",
       "       u'GrLivArea', u'BsmtFullBath', u'BsmtHalfBath', u'FullBath',\n",
       "       u'HalfBath', u'BedroomAbvGr', u'KitchenAbvGr', u'KitchenQual',\n",
       "       u'TotRmsAbvGrd', u'Functional', u'Fireplaces', u'FireplaceQu',\n",
       "       u'GarageType', u'GarageYrBlt', u'GarageFinish', u'GarageCars',\n",
       "       u'GarageArea', u'GarageQual', u'GarageCond', u'PavedDrive',\n",
       "       u'WoodDeckSF', u'OpenPorchSF', u'EnclosedPorch', u'3SsnPorch',\n",
       "       u'ScreenPorch', u'PoolArea', u'PoolQC', u'Fence', u'MiscFeature',\n",
       "       u'MiscVal', u'MoSold', u'YrSold', u'SaleType', u'SaleCondition',\n",
       "       u'SalePrice', u'sq_ft', u'TotalBath'],\n",
       "      dtype='object')"
      ]
     },
     "execution_count": 27,
     "metadata": {},
     "output_type": "execute_result"
    }
   ],
   "source": [
    "clean_house.columns"
   ]
  },
  {
   "cell_type": "code",
   "execution_count": 31,
   "metadata": {
    "collapsed": false
   },
   "outputs": [],
   "source": [
    "# #missing values for categorical attributes were replaced by zero. \n",
    "# # missing value for quantitative variables were replacecd by mean of that column.\n",
    "#clean_house['poolQC'].fillna((clean_house['poolQC'].mean()),inplace=True) \n",
    "clean_house['PoolQC'].fillna(value = 0, inplace=True)\n",
    "clean_house['MiscFeature'].fillna(value = 0, inplace=True)\n",
    "#clean_house[some_list].fillna(value = 0, inplace=True)\n",
    "clean_house['Alley'].fillna(value = 0, inplace=True) \n",
    "clean_house['Fence'].fillna(value = 0, inplace=True)\n",
    "clean_house['FireplaceQu'].fillna(value = 0, inplace=True) \n",
    "clean_house['LotFrontage'].fillna((clean_house['LotFrontage'].mean()), inplace=True)\n",
    "clean_house['GarageType'].fillna(value = 0, inplace=True) \n",
    "clean_house['GarageCond'].fillna(value = 0, inplace=True)\n",
    "clean_house['GarageQual'].fillna(value = 0, inplace=True) \n",
    "clean_house['GarageYrBlt'].fillna((clean_house['GarageYrBlt'].mean()), inplace=True)\n",
    "clean_house['GarageFinish'].fillna(value = 0, inplace=True) \n",
    "clean_house['BsmtFinType2'].fillna(value = 0, inplace=True)\n",
    "clean_house['BsmtExposure'].fillna(value = 0, inplace=True)\n",
    "clean_house['BsmtFinType1'].fillna(value = 0, inplace=True) \n",
    "clean_house['BsmtQual'].fillna(value = 0, inplace=True) \n",
    "clean_house['BsmtCond'].fillna(value = 0, inplace=True)\n",
    "clean_house['MasVnrType'].fillna(value = 0, inplace=True)\n",
    "clean_house['MasVnrArea'].fillna(value = 0, inplace=True)\n",
    "clean_house['Electrical'].fillna(value = 0, inplace=True) "
   ]
  },
  {
   "cell_type": "code",
   "execution_count": 38,
   "metadata": {
    "collapsed": false
   },
   "outputs": [],
   "source": [
    "#A list was prepared in which all the categorical variables were included and later this list was passed to prepare\n",
    "# dummy variables.A dataframe for training data set was finalized was was to be used for furtherr regression analysis.\n",
    "list_1 = ['MSSubClass', 'MSZoning', 'Street', 'Alley', 'LandContour', 'LotConfig', 'Neighborhood', 'Condition1', 'Condition2', 'BldgType', 'HouseStyle', 'RoofStyle', 'RoofMatl', 'Exterior1st', 'Exterior2nd', 'MasVnrType', 'Foundation', 'Heating', 'CentralAir', 'GarageType', 'MiscFeature', 'SaleType', 'SaleCondition'] \n",
    "list_2 = ['LotShape', 'Utilities', 'LandSlope', 'OverallQual', 'OverallCond', 'ExterQual', 'ExterCond', 'BsmtQual', 'BsmtCond', 'BsmtExposure', 'BsmtFinType1', 'BsmtFinType2', 'HeatingQC', 'Electrical', 'KitchenQual', 'Functional', 'FireplaceQu', 'GarageFinish', 'GarageQual', 'GarageCond', 'PavedDrive', 'PoolQC', 'Fence']\n",
    "list_3 = ['YearBuilt','YearRemodAdd','GarageYrBlt','YrSold']\n",
    "full_list = list_1+list_2+ list_3 \n"
   ]
  },
  {
   "cell_type": "code",
   "execution_count": 39,
   "metadata": {
    "collapsed": false
   },
   "outputs": [
    {
     "data": {
      "text/html": [
       "<div>\n",
       "<table border=\"1\" class=\"dataframe\">\n",
       "  <thead>\n",
       "    <tr style=\"text-align: right;\">\n",
       "      <th></th>\n",
       "      <th>LotFrontage</th>\n",
       "      <th>LotArea</th>\n",
       "      <th>MasVnrArea</th>\n",
       "      <th>BsmtFinSF1</th>\n",
       "      <th>BsmtFinSF2</th>\n",
       "      <th>BsmtUnfSF</th>\n",
       "      <th>TotalBsmtSF</th>\n",
       "      <th>1stFlrSF</th>\n",
       "      <th>2ndFlrSF</th>\n",
       "      <th>LowQualFinSF</th>\n",
       "      <th>...</th>\n",
       "      <th>GarageYrBlt_2005.0</th>\n",
       "      <th>GarageYrBlt_2006.0</th>\n",
       "      <th>GarageYrBlt_2007.0</th>\n",
       "      <th>GarageYrBlt_2008.0</th>\n",
       "      <th>GarageYrBlt_2009.0</th>\n",
       "      <th>GarageYrBlt_2010.0</th>\n",
       "      <th>YrSold_2007</th>\n",
       "      <th>YrSold_2008</th>\n",
       "      <th>YrSold_2009</th>\n",
       "      <th>YrSold_2010</th>\n",
       "    </tr>\n",
       "  </thead>\n",
       "  <tbody>\n",
       "    <tr>\n",
       "      <th>0</th>\n",
       "      <td>65.0</td>\n",
       "      <td>8450</td>\n",
       "      <td>196.0</td>\n",
       "      <td>706</td>\n",
       "      <td>0</td>\n",
       "      <td>150</td>\n",
       "      <td>856</td>\n",
       "      <td>856</td>\n",
       "      <td>854</td>\n",
       "      <td>0</td>\n",
       "      <td>...</td>\n",
       "      <td>0</td>\n",
       "      <td>0</td>\n",
       "      <td>0</td>\n",
       "      <td>0</td>\n",
       "      <td>0</td>\n",
       "      <td>0</td>\n",
       "      <td>0</td>\n",
       "      <td>1</td>\n",
       "      <td>0</td>\n",
       "      <td>0</td>\n",
       "    </tr>\n",
       "    <tr>\n",
       "      <th>1</th>\n",
       "      <td>80.0</td>\n",
       "      <td>9600</td>\n",
       "      <td>0.0</td>\n",
       "      <td>978</td>\n",
       "      <td>0</td>\n",
       "      <td>284</td>\n",
       "      <td>1262</td>\n",
       "      <td>1262</td>\n",
       "      <td>0</td>\n",
       "      <td>0</td>\n",
       "      <td>...</td>\n",
       "      <td>0</td>\n",
       "      <td>0</td>\n",
       "      <td>0</td>\n",
       "      <td>0</td>\n",
       "      <td>0</td>\n",
       "      <td>0</td>\n",
       "      <td>1</td>\n",
       "      <td>0</td>\n",
       "      <td>0</td>\n",
       "      <td>0</td>\n",
       "    </tr>\n",
       "    <tr>\n",
       "      <th>2</th>\n",
       "      <td>68.0</td>\n",
       "      <td>11250</td>\n",
       "      <td>162.0</td>\n",
       "      <td>486</td>\n",
       "      <td>0</td>\n",
       "      <td>434</td>\n",
       "      <td>920</td>\n",
       "      <td>920</td>\n",
       "      <td>866</td>\n",
       "      <td>0</td>\n",
       "      <td>...</td>\n",
       "      <td>0</td>\n",
       "      <td>0</td>\n",
       "      <td>0</td>\n",
       "      <td>0</td>\n",
       "      <td>0</td>\n",
       "      <td>0</td>\n",
       "      <td>0</td>\n",
       "      <td>1</td>\n",
       "      <td>0</td>\n",
       "      <td>0</td>\n",
       "    </tr>\n",
       "    <tr>\n",
       "      <th>3</th>\n",
       "      <td>60.0</td>\n",
       "      <td>9550</td>\n",
       "      <td>0.0</td>\n",
       "      <td>216</td>\n",
       "      <td>0</td>\n",
       "      <td>540</td>\n",
       "      <td>756</td>\n",
       "      <td>961</td>\n",
       "      <td>756</td>\n",
       "      <td>0</td>\n",
       "      <td>...</td>\n",
       "      <td>0</td>\n",
       "      <td>0</td>\n",
       "      <td>0</td>\n",
       "      <td>0</td>\n",
       "      <td>0</td>\n",
       "      <td>0</td>\n",
       "      <td>0</td>\n",
       "      <td>0</td>\n",
       "      <td>0</td>\n",
       "      <td>0</td>\n",
       "    </tr>\n",
       "    <tr>\n",
       "      <th>4</th>\n",
       "      <td>84.0</td>\n",
       "      <td>14260</td>\n",
       "      <td>350.0</td>\n",
       "      <td>655</td>\n",
       "      <td>0</td>\n",
       "      <td>490</td>\n",
       "      <td>1145</td>\n",
       "      <td>1145</td>\n",
       "      <td>1053</td>\n",
       "      <td>0</td>\n",
       "      <td>...</td>\n",
       "      <td>0</td>\n",
       "      <td>0</td>\n",
       "      <td>0</td>\n",
       "      <td>0</td>\n",
       "      <td>0</td>\n",
       "      <td>0</td>\n",
       "      <td>0</td>\n",
       "      <td>1</td>\n",
       "      <td>0</td>\n",
       "      <td>0</td>\n",
       "    </tr>\n",
       "  </tbody>\n",
       "</table>\n",
       "<p>5 rows × 560 columns</p>\n",
       "</div>"
      ],
      "text/plain": [
       "   LotFrontage  LotArea  MasVnrArea  BsmtFinSF1  BsmtFinSF2  BsmtUnfSF  \\\n",
       "0         65.0     8450       196.0         706           0        150   \n",
       "1         80.0     9600         0.0         978           0        284   \n",
       "2         68.0    11250       162.0         486           0        434   \n",
       "3         60.0     9550         0.0         216           0        540   \n",
       "4         84.0    14260       350.0         655           0        490   \n",
       "\n",
       "   TotalBsmtSF  1stFlrSF  2ndFlrSF  LowQualFinSF     ...       \\\n",
       "0          856       856       854             0     ...        \n",
       "1         1262      1262         0             0     ...        \n",
       "2          920       920       866             0     ...        \n",
       "3          756       961       756             0     ...        \n",
       "4         1145      1145      1053             0     ...        \n",
       "\n",
       "   GarageYrBlt_2005.0  GarageYrBlt_2006.0  GarageYrBlt_2007.0  \\\n",
       "0                   0                   0                   0   \n",
       "1                   0                   0                   0   \n",
       "2                   0                   0                   0   \n",
       "3                   0                   0                   0   \n",
       "4                   0                   0                   0   \n",
       "\n",
       "   GarageYrBlt_2008.0  GarageYrBlt_2009.0  GarageYrBlt_2010.0  YrSold_2007  \\\n",
       "0                   0                   0                   0            0   \n",
       "1                   0                   0                   0            1   \n",
       "2                   0                   0                   0            0   \n",
       "3                   0                   0                   0            0   \n",
       "4                   0                   0                   0            0   \n",
       "\n",
       "   YrSold_2008  YrSold_2009  YrSold_2010  \n",
       "0            1            0            0  \n",
       "1            0            0            0  \n",
       "2            1            0            0  \n",
       "3            0            0            0  \n",
       "4            1            0            0  \n",
       "\n",
       "[5 rows x 560 columns]"
      ]
     },
     "execution_count": 39,
     "metadata": {},
     "output_type": "execute_result"
    }
   ],
   "source": [
    "#train matrix full train.head\n",
    "train_data = pd.get_dummies(clean_house,columns =full_list, drop_first = True) \n",
    "train_data.head()"
   ]
  },
  {
   "cell_type": "code",
   "execution_count": 43,
   "metadata": {
    "collapsed": false
   },
   "outputs": [
    {
     "data": {
      "text/plain": [
       "Index([u'LotFrontage', u'LotArea', u'MasVnrArea', u'BsmtFinSF1', u'BsmtFinSF2',\n",
       "       u'BsmtUnfSF', u'TotalBsmtSF', u'1stFlrSF', u'2ndFlrSF', u'LowQualFinSF',\n",
       "       ...\n",
       "       u'GarageYrBlt_2005.0', u'GarageYrBlt_2006.0', u'GarageYrBlt_2007.0',\n",
       "       u'GarageYrBlt_2008.0', u'GarageYrBlt_2009.0', u'GarageYrBlt_2010.0',\n",
       "       u'YrSold_2007', u'YrSold_2008', u'YrSold_2009', u'YrSold_2010'],\n",
       "      dtype='object', length=560)"
      ]
     },
     "execution_count": 43,
     "metadata": {},
     "output_type": "execute_result"
    }
   ],
   "source": [
    "train_data.columns"
   ]
  },
  {
   "cell_type": "code",
   "execution_count": 44,
   "metadata": {
    "collapsed": false
   },
   "outputs": [],
   "source": [
    "#Columns were dropped for which data conversion was done. \n",
    "#t = pd.read_csv('test.csv')\n",
    "#t = train_data.drop('Id', 1) \n",
    "#t = train_data.drop('YearBuilt', 1)\n",
    "# t = t.drop('YearRemodAdd', 1)\n",
    "# t = t.drop('GarageYrBlt', 1) \n",
    "# t = t.drop('YrSold', 1)\n",
    "# t.head()"
   ]
  },
  {
   "cell_type": "code",
   "execution_count": 45,
   "metadata": {
    "collapsed": false
   },
   "outputs": [
    {
     "name": "stdout",
     "output_type": "stream",
     "text": [
      "YrSold_2010              0\n",
      "SaleType_WD              0\n",
      "LotShape_IR2             0\n",
      "SaleCondition_Partial    0\n",
      "SaleCondition_Normal     0\n",
      "SaleCondition_Family     0\n",
      "SaleCondition_Alloca     0\n",
      "SaleCondition_AdjLand    0\n",
      "SaleType_Oth             0\n",
      "LotShape_Reg             0\n",
      "SaleType_New             0\n",
      "SaleType_ConLw           0\n",
      "SaleType_ConLI           0\n",
      "SaleType_ConLD           0\n",
      "SaleType_Con             0\n",
      "SaleType_CWD             0\n",
      "LotShape_IR3             0\n",
      "Utilities_NoSeWa         0\n",
      "YrSold_2009              0\n",
      "OverallQual_8            0\n",
      "OverallCond_5            0\n",
      "OverallCond_4            0\n",
      "OverallCond_3            0\n",
      "OverallCond_2            0\n",
      "OverallQual_10           0\n",
      "OverallQual_9            0\n",
      "OverallQual_7            0\n",
      "LandSlope_Mod            0\n",
      "OverallQual_6            0\n",
      "OverallQual_5            0\n",
      "OverallQual_4            0\n",
      "OverallQual_3            0\n",
      "OverallQual_2            0\n",
      "LandSlope_Sev            0\n",
      "MiscFeature_TenC         0\n",
      "MiscFeature_Shed         0\n",
      "MiscFeature_Othr         0\n",
      "Exterior2nd_VinylSd      0\n",
      "MasVnrType_Stone         0\n",
      "MasVnrType_None          0\n",
      "dtype: int64\n"
     ]
    },
    {
     "name": "stderr",
     "output_type": "stream",
     "text": [
      "/anaconda/lib/python2.7/site-packages/ipykernel/__main__.py:4: FutureWarning: sort is deprecated, use sort_values(inplace=True) for INPLACE sorting\n"
     ]
    }
   ],
   "source": [
    "#list of columns was prepared which incuded all the attributes having missing values #along with the count of missing \n",
    "#values and later list was sorted.\n",
    "cols_having_missing_test = train_data.isnull().sum(axis = 0) \n",
    "cols_having_missing_test.sort(axis=0, ascending=False, kind='quicksort', na_position='last', inplace=True) \n",
    "print cols_having_missing_test[:40]"
   ]
  },
  {
   "cell_type": "code",
   "execution_count": 50,
   "metadata": {
    "collapsed": false
   },
   "outputs": [
    {
     "data": {
      "text/html": [
       "<div>\n",
       "<table border=\"1\" class=\"dataframe\">\n",
       "  <thead>\n",
       "    <tr style=\"text-align: right;\">\n",
       "      <th></th>\n",
       "      <th>MSSubClass</th>\n",
       "      <th>MSZoning</th>\n",
       "      <th>LotFrontage</th>\n",
       "      <th>LotArea</th>\n",
       "      <th>Street</th>\n",
       "      <th>Alley</th>\n",
       "      <th>LotShape</th>\n",
       "      <th>LandContour</th>\n",
       "      <th>Utilities</th>\n",
       "      <th>LotConfig</th>\n",
       "      <th>...</th>\n",
       "      <th>Fence</th>\n",
       "      <th>MiscFeature</th>\n",
       "      <th>MiscVal</th>\n",
       "      <th>MoSold</th>\n",
       "      <th>YrSold</th>\n",
       "      <th>SaleType</th>\n",
       "      <th>SaleCondition</th>\n",
       "      <th>SalePrice</th>\n",
       "      <th>sq_ft</th>\n",
       "      <th>TotalBath</th>\n",
       "    </tr>\n",
       "  </thead>\n",
       "  <tbody>\n",
       "    <tr>\n",
       "      <th>0</th>\n",
       "      <td>60</td>\n",
       "      <td>RL</td>\n",
       "      <td>65.0</td>\n",
       "      <td>8450</td>\n",
       "      <td>Pave</td>\n",
       "      <td>0</td>\n",
       "      <td>Reg</td>\n",
       "      <td>Lvl</td>\n",
       "      <td>AllPub</td>\n",
       "      <td>Inside</td>\n",
       "      <td>...</td>\n",
       "      <td>0</td>\n",
       "      <td>0</td>\n",
       "      <td>0</td>\n",
       "      <td>2</td>\n",
       "      <td>2008</td>\n",
       "      <td>WD</td>\n",
       "      <td>Normal</td>\n",
       "      <td>208500</td>\n",
       "      <td>2566</td>\n",
       "      <td>3.5</td>\n",
       "    </tr>\n",
       "    <tr>\n",
       "      <th>1</th>\n",
       "      <td>20</td>\n",
       "      <td>RL</td>\n",
       "      <td>80.0</td>\n",
       "      <td>9600</td>\n",
       "      <td>Pave</td>\n",
       "      <td>0</td>\n",
       "      <td>Reg</td>\n",
       "      <td>Lvl</td>\n",
       "      <td>AllPub</td>\n",
       "      <td>FR2</td>\n",
       "      <td>...</td>\n",
       "      <td>0</td>\n",
       "      <td>0</td>\n",
       "      <td>0</td>\n",
       "      <td>5</td>\n",
       "      <td>2007</td>\n",
       "      <td>WD</td>\n",
       "      <td>Normal</td>\n",
       "      <td>181500</td>\n",
       "      <td>2524</td>\n",
       "      <td>2.5</td>\n",
       "    </tr>\n",
       "    <tr>\n",
       "      <th>2</th>\n",
       "      <td>60</td>\n",
       "      <td>RL</td>\n",
       "      <td>68.0</td>\n",
       "      <td>11250</td>\n",
       "      <td>Pave</td>\n",
       "      <td>0</td>\n",
       "      <td>IR1</td>\n",
       "      <td>Lvl</td>\n",
       "      <td>AllPub</td>\n",
       "      <td>Inside</td>\n",
       "      <td>...</td>\n",
       "      <td>0</td>\n",
       "      <td>0</td>\n",
       "      <td>0</td>\n",
       "      <td>9</td>\n",
       "      <td>2008</td>\n",
       "      <td>WD</td>\n",
       "      <td>Normal</td>\n",
       "      <td>223500</td>\n",
       "      <td>2706</td>\n",
       "      <td>3.5</td>\n",
       "    </tr>\n",
       "    <tr>\n",
       "      <th>3</th>\n",
       "      <td>70</td>\n",
       "      <td>RL</td>\n",
       "      <td>60.0</td>\n",
       "      <td>9550</td>\n",
       "      <td>Pave</td>\n",
       "      <td>0</td>\n",
       "      <td>IR1</td>\n",
       "      <td>Lvl</td>\n",
       "      <td>AllPub</td>\n",
       "      <td>Corner</td>\n",
       "      <td>...</td>\n",
       "      <td>0</td>\n",
       "      <td>0</td>\n",
       "      <td>0</td>\n",
       "      <td>2</td>\n",
       "      <td>2006</td>\n",
       "      <td>WD</td>\n",
       "      <td>Abnorml</td>\n",
       "      <td>140000</td>\n",
       "      <td>2473</td>\n",
       "      <td>2.0</td>\n",
       "    </tr>\n",
       "    <tr>\n",
       "      <th>4</th>\n",
       "      <td>60</td>\n",
       "      <td>RL</td>\n",
       "      <td>84.0</td>\n",
       "      <td>14260</td>\n",
       "      <td>Pave</td>\n",
       "      <td>0</td>\n",
       "      <td>IR1</td>\n",
       "      <td>Lvl</td>\n",
       "      <td>AllPub</td>\n",
       "      <td>FR2</td>\n",
       "      <td>...</td>\n",
       "      <td>0</td>\n",
       "      <td>0</td>\n",
       "      <td>0</td>\n",
       "      <td>12</td>\n",
       "      <td>2008</td>\n",
       "      <td>WD</td>\n",
       "      <td>Normal</td>\n",
       "      <td>250000</td>\n",
       "      <td>3343</td>\n",
       "      <td>3.5</td>\n",
       "    </tr>\n",
       "  </tbody>\n",
       "</table>\n",
       "<p>5 rows × 82 columns</p>\n",
       "</div>"
      ],
      "text/plain": [
       "   MSSubClass MSZoning  LotFrontage  LotArea Street Alley LotShape  \\\n",
       "0          60       RL         65.0     8450   Pave     0      Reg   \n",
       "1          20       RL         80.0     9600   Pave     0      Reg   \n",
       "2          60       RL         68.0    11250   Pave     0      IR1   \n",
       "3          70       RL         60.0     9550   Pave     0      IR1   \n",
       "4          60       RL         84.0    14260   Pave     0      IR1   \n",
       "\n",
       "  LandContour Utilities LotConfig    ...     Fence MiscFeature MiscVal MoSold  \\\n",
       "0         Lvl    AllPub    Inside    ...         0           0       0      2   \n",
       "1         Lvl    AllPub       FR2    ...         0           0       0      5   \n",
       "2         Lvl    AllPub    Inside    ...         0           0       0      9   \n",
       "3         Lvl    AllPub    Corner    ...         0           0       0      2   \n",
       "4         Lvl    AllPub       FR2    ...         0           0       0     12   \n",
       "\n",
       "  YrSold SaleType  SaleCondition  SalePrice  sq_ft  TotalBath  \n",
       "0   2008       WD         Normal     208500   2566        3.5  \n",
       "1   2007       WD         Normal     181500   2524        2.5  \n",
       "2   2008       WD         Normal     223500   2706        3.5  \n",
       "3   2006       WD        Abnorml     140000   2473        2.0  \n",
       "4   2008       WD         Normal     250000   3343        3.5  \n",
       "\n",
       "[5 rows x 82 columns]"
      ]
     },
     "execution_count": 50,
     "metadata": {},
     "output_type": "execute_result"
    }
   ],
   "source": [
    "# missing values for categorical attributes were replaced by zero.\n",
    "# missing value for quantitative variables were replacecd by mean of that column.\n",
    "clean_house['PoolQC'].fillna(value = 0, inplace=True)\n",
    "clean_house['MiscFeature'].fillna(value = 0, inplace=True) \n",
    "clean_house['Alley'].fillna(value = 0, inplace=True) \n",
    "clean_house['Fence'].fillna(value = 0, inplace=True)\n",
    "clean_house['FireplaceQu'].fillna(value = 0, inplace=True)\n",
    "clean_house['LotFrontage'].fillna((clean_house['LotFrontage'].mean()), inplace=True)\n",
    "clean_house['GarageType'].fillna(value = 0, inplace=True)\n",
    "clean_house['GarageCond'].fillna(value = 0, inplace=True)\n",
    "clean_house['GarageQual'].fillna(value = 0, inplace=True)\n",
    "#clean_house['GarageYrBlt'].fillna(value = 0, inplace=True) \n",
    "clean_house['GarageFinish'].fillna(value = 0, inplace=True)\n",
    "clean_house['BsmtFinType2'].fillna(value = 0, inplace=True) \n",
    "clean_house['BsmtExposure'].fillna(value = 0, inplace=True)\n",
    "clean_house['BsmtFinType1'].fillna(value = 0, inplace=True)\n",
    "clean_house['BsmtFinType2'].fillna(value = 0, inplace=True)\n",
    "clean_house['BsmtQual'].fillna(value = 0, inplace=True)\n",
    "clean_house['BsmtCond'].fillna(value = 0, inplace=True) \n",
    "clean_house['MasVnrType'].fillna(value = 0, inplace=True)\n",
    "clean_house['MasVnrArea'].fillna(value = 0, inplace=True) \n",
    "clean_house['Electrical'].fillna(value = 0, inplace=True)\n",
    "clean_house['MSZoning'].fillna(value = 0, inplace=True)\n",
    "clean_house['BsmtHalfBath'].fillna(value = 0, inplace=True)\n",
    "clean_house['Utilities'].fillna(value = 0, inplace=True)\n",
    "clean_house['Functional'].fillna(value = 0, inplace=True)\n",
    "clean_house['BsmtFullBath'].fillna(value = 0, inplace=True) \n",
    "clean_house['BsmtFinSF2'].fillna(value = 0, inplace=True) \n",
    "clean_house['BsmtFinSF1'].fillna(value = 0, inplace=True)\n",
    "clean_house['BsmtUnfSF'].fillna(value = 0, inplace=True) \n",
    "clean_house['TotalBsmtSF'].fillna(value = 0, inplace=True)\n",
    "clean_house['Exterior2nd'].fillna(value = 0, inplace=True) \n",
    "clean_house['SaleType'].fillna(value = 0, inplace=True)\n",
    "clean_house['Exterior1st'].fillna(value = 0, inplace=True)\n",
    "clean_house['KitchenQual'].fillna(value = 0, inplace=True)\n",
    "clean_house['GarageArea'].fillna(value = 0, inplace=True)\n",
    "clean_house['GarageCars'].fillna(value = 0, inplace=True) \n",
    "clean_house.head()"
   ]
  },
  {
   "cell_type": "code",
   "execution_count": 52,
   "metadata": {
    "collapsed": false
   },
   "outputs": [
    {
     "data": {
      "text/html": [
       "<div>\n",
       "<table border=\"1\" class=\"dataframe\">\n",
       "  <thead>\n",
       "    <tr style=\"text-align: right;\">\n",
       "      <th></th>\n",
       "      <th>LotFrontage</th>\n",
       "      <th>LotArea</th>\n",
       "      <th>MasVnrArea</th>\n",
       "      <th>BsmtFinSF1</th>\n",
       "      <th>BsmtFinSF2</th>\n",
       "      <th>BsmtUnfSF</th>\n",
       "      <th>TotalBsmtSF</th>\n",
       "      <th>1stFlrSF</th>\n",
       "      <th>2ndFlrSF</th>\n",
       "      <th>LowQualFinSF</th>\n",
       "      <th>...</th>\n",
       "      <th>GarageYrBlt_2005.0</th>\n",
       "      <th>GarageYrBlt_2006.0</th>\n",
       "      <th>GarageYrBlt_2007.0</th>\n",
       "      <th>GarageYrBlt_2008.0</th>\n",
       "      <th>GarageYrBlt_2009.0</th>\n",
       "      <th>GarageYrBlt_2010.0</th>\n",
       "      <th>YrSold_2007</th>\n",
       "      <th>YrSold_2008</th>\n",
       "      <th>YrSold_2009</th>\n",
       "      <th>YrSold_2010</th>\n",
       "    </tr>\n",
       "  </thead>\n",
       "  <tbody>\n",
       "    <tr>\n",
       "      <th>0</th>\n",
       "      <td>65.0</td>\n",
       "      <td>8450</td>\n",
       "      <td>196.0</td>\n",
       "      <td>706</td>\n",
       "      <td>0</td>\n",
       "      <td>150</td>\n",
       "      <td>856</td>\n",
       "      <td>856</td>\n",
       "      <td>854</td>\n",
       "      <td>0</td>\n",
       "      <td>...</td>\n",
       "      <td>0</td>\n",
       "      <td>0</td>\n",
       "      <td>0</td>\n",
       "      <td>0</td>\n",
       "      <td>0</td>\n",
       "      <td>0</td>\n",
       "      <td>0</td>\n",
       "      <td>1</td>\n",
       "      <td>0</td>\n",
       "      <td>0</td>\n",
       "    </tr>\n",
       "    <tr>\n",
       "      <th>1</th>\n",
       "      <td>80.0</td>\n",
       "      <td>9600</td>\n",
       "      <td>0.0</td>\n",
       "      <td>978</td>\n",
       "      <td>0</td>\n",
       "      <td>284</td>\n",
       "      <td>1262</td>\n",
       "      <td>1262</td>\n",
       "      <td>0</td>\n",
       "      <td>0</td>\n",
       "      <td>...</td>\n",
       "      <td>0</td>\n",
       "      <td>0</td>\n",
       "      <td>0</td>\n",
       "      <td>0</td>\n",
       "      <td>0</td>\n",
       "      <td>0</td>\n",
       "      <td>1</td>\n",
       "      <td>0</td>\n",
       "      <td>0</td>\n",
       "      <td>0</td>\n",
       "    </tr>\n",
       "    <tr>\n",
       "      <th>2</th>\n",
       "      <td>68.0</td>\n",
       "      <td>11250</td>\n",
       "      <td>162.0</td>\n",
       "      <td>486</td>\n",
       "      <td>0</td>\n",
       "      <td>434</td>\n",
       "      <td>920</td>\n",
       "      <td>920</td>\n",
       "      <td>866</td>\n",
       "      <td>0</td>\n",
       "      <td>...</td>\n",
       "      <td>0</td>\n",
       "      <td>0</td>\n",
       "      <td>0</td>\n",
       "      <td>0</td>\n",
       "      <td>0</td>\n",
       "      <td>0</td>\n",
       "      <td>0</td>\n",
       "      <td>1</td>\n",
       "      <td>0</td>\n",
       "      <td>0</td>\n",
       "    </tr>\n",
       "    <tr>\n",
       "      <th>3</th>\n",
       "      <td>60.0</td>\n",
       "      <td>9550</td>\n",
       "      <td>0.0</td>\n",
       "      <td>216</td>\n",
       "      <td>0</td>\n",
       "      <td>540</td>\n",
       "      <td>756</td>\n",
       "      <td>961</td>\n",
       "      <td>756</td>\n",
       "      <td>0</td>\n",
       "      <td>...</td>\n",
       "      <td>0</td>\n",
       "      <td>0</td>\n",
       "      <td>0</td>\n",
       "      <td>0</td>\n",
       "      <td>0</td>\n",
       "      <td>0</td>\n",
       "      <td>0</td>\n",
       "      <td>0</td>\n",
       "      <td>0</td>\n",
       "      <td>0</td>\n",
       "    </tr>\n",
       "    <tr>\n",
       "      <th>4</th>\n",
       "      <td>84.0</td>\n",
       "      <td>14260</td>\n",
       "      <td>350.0</td>\n",
       "      <td>655</td>\n",
       "      <td>0</td>\n",
       "      <td>490</td>\n",
       "      <td>1145</td>\n",
       "      <td>1145</td>\n",
       "      <td>1053</td>\n",
       "      <td>0</td>\n",
       "      <td>...</td>\n",
       "      <td>0</td>\n",
       "      <td>0</td>\n",
       "      <td>0</td>\n",
       "      <td>0</td>\n",
       "      <td>0</td>\n",
       "      <td>0</td>\n",
       "      <td>0</td>\n",
       "      <td>1</td>\n",
       "      <td>0</td>\n",
       "      <td>0</td>\n",
       "    </tr>\n",
       "  </tbody>\n",
       "</table>\n",
       "<p>5 rows × 560 columns</p>\n",
       "</div>"
      ],
      "text/plain": [
       "   LotFrontage  LotArea  MasVnrArea  BsmtFinSF1  BsmtFinSF2  BsmtUnfSF  \\\n",
       "0         65.0     8450       196.0         706           0        150   \n",
       "1         80.0     9600         0.0         978           0        284   \n",
       "2         68.0    11250       162.0         486           0        434   \n",
       "3         60.0     9550         0.0         216           0        540   \n",
       "4         84.0    14260       350.0         655           0        490   \n",
       "\n",
       "   TotalBsmtSF  1stFlrSF  2ndFlrSF  LowQualFinSF     ...       \\\n",
       "0          856       856       854             0     ...        \n",
       "1         1262      1262         0             0     ...        \n",
       "2          920       920       866             0     ...        \n",
       "3          756       961       756             0     ...        \n",
       "4         1145      1145      1053             0     ...        \n",
       "\n",
       "   GarageYrBlt_2005.0  GarageYrBlt_2006.0  GarageYrBlt_2007.0  \\\n",
       "0                   0                   0                   0   \n",
       "1                   0                   0                   0   \n",
       "2                   0                   0                   0   \n",
       "3                   0                   0                   0   \n",
       "4                   0                   0                   0   \n",
       "\n",
       "   GarageYrBlt_2008.0  GarageYrBlt_2009.0  GarageYrBlt_2010.0  YrSold_2007  \\\n",
       "0                   0                   0                   0            0   \n",
       "1                   0                   0                   0            1   \n",
       "2                   0                   0                   0            0   \n",
       "3                   0                   0                   0            0   \n",
       "4                   0                   0                   0            0   \n",
       "\n",
       "   YrSold_2008  YrSold_2009  YrSold_2010  \n",
       "0            1            0            0  \n",
       "1            0            0            0  \n",
       "2            1            0            0  \n",
       "3            0            0            0  \n",
       "4            1            0            0  \n",
       "\n",
       "[5 rows x 560 columns]"
      ]
     },
     "execution_count": 52,
     "metadata": {},
     "output_type": "execute_result"
    }
   ],
   "source": [
    "#Earlier list of categorical variables was used to prepare dummy variables.\n",
    "#A dataframe for training data set was finalized was was to be used for furtherr regression analysis.\n",
    "test = pd.get_dummies(clean_house, columns = full_list, drop_first = True) \n",
    "test.head()"
   ]
  },
  {
   "cell_type": "code",
   "execution_count": 54,
   "metadata": {
    "collapsed": false
   },
   "outputs": [],
   "source": [
    "#The columns in training dataset and test dataset should be aligned before passing values.\n",
    "#The regression analysis should be performed on mutually inclusive attributes. \n",
    "#Hence datarames were to me maded identical before proceeding further.\n",
    "listtrain_1 = [col for col in train_data.columns if col!= 'SalePrice']\n",
    "listtrain_1 \n",
    "listtest_1 = [col for col in test.columns if col!= 'SalePrice']\n",
    "listtest_1\n",
    "diff = list(set(listtest_1) - set(listtrain_1))\n",
    "diff1 = list(set(listtrain_1) - set(listtest_1))\n",
    "difference = diff + diff1 #Mutually exclusive ariables were dropped from both dataframes.\n",
    "train_data.drop(diff1,inplace=True,axis=1) #b\n",
    "test.drop(diff,inplace=True,axis=1) #t1"
   ]
  },
  {
   "cell_type": "code",
   "execution_count": null,
   "metadata": {
    "collapsed": false
   },
   "outputs": [],
   "source": [
    "#Basic regression analysis was performed. \n",
    "#output was obained in the array of intercept and coeficients.\n",
    "from sklearn.linear_model import LinearRegression\n",
    "collist = [col for col in train_data.columns if col != 'SalePrice']\n",
    "X = train_data[collist].values\n",
    "y = train_data[['SalePrice']] \n",
    "lr = LinearRegression()\n",
    "lr.fit(X, y)\n",
    "print (lr.intercept_, lr.coef_) "
   ]
  },
  {
   "cell_type": "code",
   "execution_count": null,
   "metadata": {
    "collapsed": true
   },
   "outputs": [],
   "source": [
    "#Trend for residuals against fitted values was observed to understand the effect of corelated input variables.\n",
    "def residuals_vs_fitted(fitted, residuals, xlabel, ylabel): \n",
    "    plt.subplot(111) plt.xlabel(xlabel)\n",
    "    plt.ylabel(ylabel)\n",
    "    plt.scatter(fitted, residuals)\n",
    "    polyline = np.poly1d(np.polyfit(fitted, residuals, 2))\n",
    "    # model non-linearity with quadratic\n",
    "    xs = range(int(np.min(fitted)), int(np.max(fitted)))\n",
    "    plt.plot(xs, polyline(xs), color='r', linewidth=2.5) \n",
    "def qq_plot(residuals):\n",
    "    sm.qqplot(residuals)\n",
    "def standardize(xs):\n",
    "    xmean = np.mean(xs) xstd = np.std(xs) \n",
    "    return (xs - xmean) / xstd\n",
    "    fitted = reg2.predict(X) \n",
    "    residuals = y - fitted \n",
    "    std_residuals = standardize(residuals) \n",
    "    residuals_vs_fitted(fitted, residuals, \"Fitted\", \"Residuals\")"
   ]
  },
  {
   "cell_type": "code",
   "execution_count": null,
   "metadata": {
    "collapsed": true
   },
   "outputs": [],
   "source": [
    "#Ordinary least sqaure regression analysis was performed. \n",
    "collist = [col for col in train.columns if col!= 'SalePrice'] \n",
    "X = train[collist].values\n",
    "X = sm.add_constant(X) \n",
    " \n",
    " \n",
    "\n"
   ]
  },
  {
   "cell_type": "code",
   "execution_count": null,
   "metadata": {
    "collapsed": true
   },
   "outputs": [],
   "source": [
    "# add the intercept term\n",
    "y = train[\"SalePrice\"].values\n",
    "ols = sm.OLS(y, X).fit() \n",
    "ols.summary()"
   ]
  },
  {
   "cell_type": "code",
   "execution_count": null,
   "metadata": {
    "collapsed": true
   },
   "outputs": [],
   "source": [
    "#Test data was passed into regression model to prredict the sale pricce of houses for test data.\n",
    "#output was obtained in the format of array which included intercept (beto 0) and coeficients.\n",
    "SalePrice_test = reg2.predict(test) \n",
    "SalePrice_test"
   ]
  },
  {
   "cell_type": "code",
   "execution_count": null,
   "metadata": {
    "collapsed": true
   },
   "outputs": [],
   "source": [
    "#Samples were formed for performing two tailed two sample Z test to understand the difference in means. \n",
    "train_new = train \n",
    "print train_new.shape\n"
   ]
  },
  {
   "cell_type": "code",
   "execution_count": null,
   "metadata": {
    "collapsed": true
   },
   "outputs": [],
   "source": [
    "train_new.drop('1460', 0)\n",
    "print train_new.shape"
   ]
  },
  {
   "cell_type": "code",
   "execution_count": null,
   "metadata": {
    "collapsed": true
   },
   "outputs": [],
   "source": [
    "# histogram for saleprice for test data was plotted.\n",
    "bins = [0, 25000, 50000, 100000, 150000, 200000, 250000, 300000, 350000, 400000, 450000, 500000]\n",
    "plt.title(\"Histogram for saleprice for test data\") \n",
    "plt.xlabel('Sale price', fontsize=11)\n",
    "plt.ylabel('frequency', fontsize=11)\n",
    "plt.hist(SalePrice_test, bins, histtype = 'bar', width = 0.8)"
   ]
  },
  {
   "cell_type": "code",
   "execution_count": null,
   "metadata": {
    "collapsed": true
   },
   "outputs": [],
   "source": [
    " \n",
    "#Histogram for saleprice for training data (Observed Value) was plotted.\n",
    "bins = [0, 25000, 50000, 100000, 150000, 200000, 250000, 300000, 350000, 400000, 450000, 500000] \n",
    "plt.title(\"Histogram for saleprice for training data (Observed Value)\")\n",
    "plt.xlabel('Sale price', fontsize=11)\n",
    "plt.ylabel('frequency', fontsize=11)\n",
    "plt.hist(train.SalePrice, bins, histtype = 'bar', width = 0.8)"
   ]
  },
  {
   "cell_type": "code",
   "execution_count": null,
   "metadata": {
    "collapsed": true
   },
   "outputs": [],
   "source": [
    "#modules for statistical analyses were imported. \n",
    "from sklearn.linear_model import Ridge \n",
    "from sklearn.linear_model import Lasso \n",
    "from sklearn.feature_selection import SelectKBest \n",
    "from sklearn.feature_selection import f_regression \n",
    "from sklearn.metrics import mean_squared_error \n",
    "from sklearn.cross_validation import KFold "
   ]
  },
  {
   "cell_type": "code",
   "execution_count": null,
   "metadata": {
    "collapsed": true
   },
   "outputs": [],
   "source": [
    " #Advanced regression techniques were performed and RMSE vavlue was obtained.\n",
    "    #RMSE values for baseline regression, Ridge regression and Lasso regression was obtained.\n",
    "    def cross_validate(X, y, nfolds, reg_name): \n",
    "        rmses = []\n",
    "        kfold = KFold(X.shape[0], n_folds=nfolds)\n",
    "        for train, test in kfold:\n",
    "            Xtrain, ytrain, Xtest, ytest = X[train], y[train], X[test], y[test]\n",
    "            reg = None\n",
    "            if reg_name == \"ridge\":\n",
    "                reg = Ridge()\n",
    "            elif reg_name == \"lasso\":\n",
    "                reg = Lasso()\n",
    "            else:\n",
    "                reg = LinearRegression() \n",
    "        reg.fit(Xtrain, ytrain)\n",
    "        ypred = reg.predict(Xtest)\n",
    "        rmses.append(np.sqrt(mean_squared_error(ytest, ypred))) \n",
    "        return np.mean(rmses)\n",
    "                "
   ]
  },
  {
   "cell_type": "code",
   "execution_count": null,
   "metadata": {
    "collapsed": true
   },
   "outputs": [],
   "source": [
    " \n",
    "collist = [col for col in train.columns if col != \"SalePrice\"]\n",
    "X = train[collist].values \n",
    "y = train[\"SalePrice\"].values"
   ]
  },
  {
   "cell_type": "code",
   "execution_count": null,
   "metadata": {
    "collapsed": true
   },
   "outputs": [],
   "source": [
    "rmse_baseline = cross_validate(X, y, 1458, \"baseline\") \n",
    "rmse_ridge = cross_validate(X, y, 1458, \"ridge\") \n",
    "rmse_lasso = cross_validate(X, y, 1458, \"lasso\")\n",
    "(rmse_baseline, rmse_ridge, rmse_lasso)\n"
   ]
  },
  {
   "cell_type": "code",
   "execution_count": null,
   "metadata": {
    "collapsed": true
   },
   "outputs": [],
   "source": [
    "# CSV file including results was read for performing two sample Z test.\n",
    "ztest = pd.read_csv('Z_test.csv')\n",
    "ztest.head(1) "
   ]
  },
  {
   "cell_type": "code",
   "execution_count": null,
   "metadata": {
    "collapsed": true
   },
   "outputs": [],
   "source": [
    "# two sample Z test was peprformedd.\n",
    "\n",
    "\n",
    "train_mean = ztest.SalePrice.mean()\n",
    "test_mean = ztest.Prediction.mean()\n",
    "train_std = np.std(ztest.SalePrice)\n",
    "test_std = np.std(ztest.Prediction)\n",
    "train_mean = ztest.SalePrice.mean()\n",
    "test_mean = ztest.Prediction.mean()\n",
    "train_std = np.std(ztest.SalePrice)\n",
    "test_std = np.std(ztest.Prediction) \n",
    "train_sample_size = 1460\n",
    "test_sample_size = 1460\n",
    "pop_mean_diff = 0 \n",
    "\n",
    "\n"
   ]
  },
  {
   "cell_type": "code",
   "execution_count": null,
   "metadata": {
    "collapsed": true
   },
   "outputs": [],
   "source": [
    "def twoSampZ(X1, X2, mudiff, sd1, sd2, n1, n2):\n",
    "    from numpy import sqrt, abs, round from scipy.stats \n",
    "    import norm\n",
    "    pooledSE = sqrt(sd1**2/n1 + sd2**2/n2)\n",
    "    z = ((X1 - X2) - mudiff)/pooledSE\n",
    "    pval = 2*(1 - norm.cdf(abs(z)))\n",
    "    return round(z, 3), round(pval, 4) \n",
    " z, p = twoSampZ(train_mean, test_mean, pop_mean_diff, train_std, test_std, train_sample_size, test_sample_size) \n",
    "    print \"Mean of testing data is\",test_mean \n",
    "    print \"Mean of training data is\",train_mean\n",
    "    print \"Standard deviation of testing data is\",test_std \n",
    "    print \"Standard deviation of training data is\",train_std \n",
    "    print \"P value is\",p print \"Z value is\",z\n"
   ]
  },
  {
   "cell_type": "markdown",
   "metadata": {},
   "source": [
    "<img src=\"http://imgur.com/l5NasQj.png\" style=\"float: left; margin: 25px 15px 0px 0px; height: 25px\">\n",
    "\n",
    "## 2. Determine any value of *changeable* property characteristics unexplained by the *fixed* ones.\n",
    "\n",
    "---\n",
    "\n",
    "Now that you have a model that estimates the price of a house based on its static characteristics, we can move forward with part 2 and 3 of the plan: what are the costs/benefits of quality, condition, and renovations?\n",
    "\n",
    "There are two specific requirements for these estimates:\n",
    "1. The estimates of effects must be in terms of dollars added or subtracted from the house value. \n",
    "2. The effects must be on the variance in price remaining from the first model.\n",
    "\n",
    "The residuals from the first model (training and testing) represent the variance in price unexplained by the fixed characteristics. Of that variance in price remaining, how much of it can be explained by the easy-to-change aspects of the property?\n",
    "\n",
    "---\n",
    "\n",
    "**Your goals:**\n",
    "1. Evaluate the effect in dollars of the renovate-able features. \n",
    "- How would your company use this second model and its coefficients to determine whether they should buy a property or not? Explain how the company can use the two models you have built to determine if they can make money. \n",
    "- Investigate how much of the variance in price remaining is explained by these features.\n",
    "- Do you trust your model? Should it be used to evaluate which properties to buy and fix up?"
   ]
  },
  {
   "cell_type": "code",
   "execution_count": null,
   "metadata": {
    "collapsed": true
   },
   "outputs": [],
   "source": [
    "# Log transform the target for official scoring\n",
    "house.SalePrice = np.log1p(house.SalePrice)\n",
    "y = house.SalePrice"
   ]
  },
  {
   "cell_type": "raw",
   "metadata": {
    "collapsed": false
   },
   "source": [
    "# Handle missing values for features where median/mean or most common value doesn't make sense\n",
    "\n",
    "# Alley : data description says NA means \"no alley access\"\n",
    "house.loc[:, \"Alley\"] = house.loc[:, \"Alley\"].fillna(\"None\")\n",
    "# BedroomAbvGr : NA most likely means 0\n",
    "house.loc[:, \"BedroomAbvGr\"] = house.loc[:, \"BedroomAbvGr\"].fillna(0)\n",
    "# BsmtQual etc : data description says NA for basement features is \"no basement\"\n",
    "house.loc[:, \"BsmtQual\"] = house.loc[:, \"BsmtQual\"].fillna(\"No\")\n",
    "house.loc[:, \"BsmtCond\"] = house.loc[:, \"BsmtCond\"].fillna(\"No\")\n",
    "house.loc[:, \"BsmtExposure\"] = house.loc[:, \"BsmtExposure\"].fillna(\"No\")\n",
    "house.loc[:, \"BsmtFinType1\"] = house.loc[:, \"BsmtFinType1\"].fillna(\"No\")\n",
    "house.loc[:, \"BsmtFinType2\"] = house.loc[:, \"BsmtFinType2\"].fillna(\"No\")\n",
    "house.loc[:, \"BsmtFullBath\"] = house.loc[:, \"BsmtFullBath\"].fillna(0)\n",
    "house.loc[:, \"BsmtHalfBath\"] = house.loc[:, \"BsmtHalfBath\"].fillna(0)\n",
    "house.loc[:, \"BsmtUnfSF\"] = house.loc[:, \"BsmtUnfSF\"].fillna(0)\n",
    "# CentralAir : NA most likely means No\n",
    "house.loc[:, \"CentralAir\"] = house.loc[:, \"CentralAir\"].fillna(\"N\")\n",
    "# Condition : NA most likely means Normal\n",
    "house.loc[:, \"Condition1\"] = house.loc[:, \"Condition1\"].fillna(\"Norm\")\n",
    "house.loc[:, \"Condition2\"] = house.loc[:, \"Condition2\"].fillna(\"Norm\")\n",
    "# EnclosedPorch : NA most likely means no enclosed porch\n",
    "house.loc[:, \"EnclosedPorch\"] = house.loc[:, \"EnclosedPorch\"].fillna(0)\n",
    "# External stuff : NA most likely means average\n",
    "house.loc[:, \"ExterCond\"] = house.loc[:, \"ExterCond\"].fillna(\"TA\")\n",
    "house.loc[:, \"ExterQual\"] = house.loc[:, \"ExterQual\"].fillna(\"TA\")\n",
    "# Fence : data description says NA means \"no fence\"\n",
    "house.loc[:, \"Fence\"] = house.loc[:, \"Fence\"].fillna(\"No\")\n",
    "# FireplaceQu : data description says NA means \"no fireplace\"\n",
    "house.loc[:, \"FireplaceQu\"] = house.loc[:, \"FireplaceQu\"].fillna(\"No\")\n",
    "house.loc[:, \"Fireplaces\"] = house.loc[:, \"Fireplaces\"].fillna(0)\n",
    "# Functional : data description says NA means typical\n",
    "house.loc[:, \"Functional\"] = house.loc[:, \"Functional\"].fillna(\"Typ\")\n",
    "# GarageType etc : data description says NA for garage features is \"no garage\"\n",
    "house.loc[:, \"GarageType\"] = house.loc[:, \"GarageType\"].fillna(\"No\")\n",
    "house.loc[:, \"GarageFinish\"] = house.loc[:, \"GarageFinish\"].fillna(\"No\")\n",
    "house.loc[:, \"GarageQual\"] = house.loc[:, \"GarageQual\"].fillna(\"No\")\n",
    "house.loc[:, \"GarageCond\"] = house.loc[:, \"GarageCond\"].fillna(\"No\")\n",
    "house.loc[:, \"GarageArea\"] = house.loc[:, \"GarageArea\"].fillna(0)\n",
    "house.loc[:, \"GarageCars\"] = house.loc[:, \"GarageCars\"].fillna(0)\n",
    "# HalfBath : NA most likely means no half baths above grade\n",
    "house.loc[:, \"HalfBath\"] = house.loc[:, \"HalfBath\"].fillna(0)\n",
    "# HeatingQC : NA most likely means typical\n",
    "house.loc[:, \"HeatingQC\"] = house.loc[:, \"HeatingQC\"].fillna(\"TA\")\n",
    "# KitchenAbvGr : NA most likely means 0\n",
    "house.loc[:, \"KitchenAbvGr\"] = house.loc[:, \"KitchenAbvGr\"].fillna(0)\n",
    "# KitchenQual : NA most likely means typical\n",
    "house.loc[:, \"KitchenQual\"] = house.loc[:, \"KitchenQual\"].fillna(\"TA\")\n",
    "# LotFrontage : NA most likely means no lot frontage\n",
    "house.loc[:, \"LotFrontage\"] = house.loc[:, \"LotFrontage\"].fillna(0)\n",
    "# LotShape : NA most likely means regular\n",
    "house.loc[:, \"LotShape\"] = house.loc[:, \"LotShape\"].fillna(\"Reg\")\n",
    "# MasVnrType : NA most likely means no veneer\n",
    "house.loc[:, \"MasVnrType\"] = house.loc[:, \"MasVnrType\"].fillna(\"None\")\n",
    "house.loc[:, \"MasVnrArea\"] = house.loc[:, \"MasVnrArea\"].fillna(0)\n",
    "# MiscFeature : data description says NA means \"no misc feature\"\n",
    "house.loc[:, \"MiscFeature\"] = house.loc[:, \"MiscFeature\"].fillna(\"No\")\n",
    "house.loc[:, \"MiscVal\"] = house.loc[:, \"MiscVal\"].fillna(0)\n",
    "# OpenPorchSF : NA most likely means no open porch\n",
    "house.loc[:, \"OpenPorchSF\"] = house.loc[:, \"OpenPorchSF\"].fillna(0)\n",
    "# PavedDrive : NA most likely means not paved\n",
    "house.loc[:, \"PavedDrive\"] = house.loc[:, \"PavedDrive\"].fillna(\"N\")\n",
    "# PoolQC : data description says NA means \"no pool\"\n",
    "house.loc[:, \"PoolQC\"] = house.loc[:, \"PoolQC\"].fillna(\"No\")\n",
    "house.loc[:, \"PoolArea\"] = house.loc[:, \"PoolArea\"].fillna(0)\n",
    "# SaleCondition : NA most likely means normal sale\n",
    "house.loc[:, \"SaleCondition\"] = house.loc[:, \"SaleCondition\"].fillna(\"Normal\")\n",
    "# ScreenPorch : NA most likely means no screen porch\n",
    "house.loc[:, \"ScreenPorch\"] = house.loc[:, \"ScreenPorch\"].fillna(0)\n",
    "# TotRmsAbvGrd : NA most likely means 0\n",
    "house.loc[:, \"TotRmsAbvGrd\"] = house.loc[:, \"TotRmsAbvGrd\"].fillna(0)\n",
    "# Utilities : NA most likely means all public utilities\n",
    "house.loc[:, \"Utilities\"] = house.loc[:, \"Utilities\"].fillna(\"AllPub\")\n",
    "# WoodDeckSF : NA most likely means no wood deck\n",
    "house.loc[:, \"WoodDeckSF\"] = house.loc[:, \"WoodDeckSF\"].fillna(0)\n"
   ]
  },
  {
   "cell_type": "markdown",
   "metadata": {},
   "source": [
    "<img src=\"http://imgur.com/GCAf1UX.png\" style=\"float: left; margin: 25px 15px 0px 0px; height: 25px\">\n",
    "\n",
    "## 3. What property characteristics predict an \"abnormal\" sale?\n",
    "\n",
    "---\n",
    "\n",
    "The `SaleCondition` feature indicates the circumstances of the house sale. From the data file, we can see that the possibilities are:\n",
    "\n",
    "       Normal\tNormal Sale\n",
    "       Abnorml\tAbnormal Sale -  trade, foreclosure, short sale\n",
    "       AdjLand\tAdjoining Land Purchase\n",
    "       Alloca\tAllocation - two linked properties with separate deeds, typically condo with a garage unit\t\n",
    "       Family\tSale between family members\n",
    "       Partial\tHome was not completed when last assessed (associated with New Homes)\n",
    "       \n",
    "One of the executives at your company has an \"in\" with higher-ups at the major regional bank. His friends at the bank have made him a proposal: if he can reliably indicate what features, if any, predict \"abnormal\" sales (foreclosures, short sales, etc.), then in return the bank will give him first dibs on the pre-auction purchase of those properties (at a dirt-cheap price).\n",
    "\n",
    "He has tasked you with determining (and adequately validating) which features of a property predict this type of sale. \n",
    "\n",
    "---\n",
    "\n",
    "**Your task:**\n",
    "1. Determine which features predict the `Abnorml` category in the `SaleCondition` feature.\n",
    "- Justify your results.\n",
    "\n",
    "This is a challenging task that tests your ability to perform classification analysis in the face of severe class imbalance. You may find that simply running a classifier on the full dataset to predict the category ends up useless: when there is bad class imbalance classifiers often tend to simply guess the majority class.\n",
    "\n",
    "It is up to you to determine how you will tackle this problem. I recommend doing some research to find out how others have dealt with the problem in the past. Make sure to justify your solution. Don't worry about it being \"the best\" solution, but be rigorous.\n",
    "\n",
    "Be sure to indicate which features are predictive (if any) and whether they are positive or negative predictors of abnormal sales."
   ]
  },
  {
   "cell_type": "code",
   "execution_count": null,
   "metadata": {
    "collapsed": true
   },
   "outputs": [],
   "source": [
    "# A:"
   ]
  }
 ],
 "metadata": {
  "kernelspec": {
   "display_name": "Python 2",
   "language": "python",
   "name": "python2"
  },
  "language_info": {
   "codemirror_mode": {
    "name": "ipython",
    "version": 2
   },
   "file_extension": ".py",
   "mimetype": "text/x-python",
   "name": "python",
   "nbconvert_exporter": "python",
   "pygments_lexer": "ipython2",
   "version": "2.7.13"
  }
 },
 "nbformat": 4,
 "nbformat_minor": 2
}
