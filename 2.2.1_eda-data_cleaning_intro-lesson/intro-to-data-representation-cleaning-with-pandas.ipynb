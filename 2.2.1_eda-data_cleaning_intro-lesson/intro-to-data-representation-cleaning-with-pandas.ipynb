{
 "cells": [
  {
   "cell_type": "markdown",
   "metadata": {
    "slideshow": {
     "slide_type": "notes"
    }
   },
   "source": [
    "> **Jupyter slideshow:** This notebook can be displayed as slides. To view it as a slideshow in your browser type in the console:\n",
    "\n",
    "\n",
    "> `> ipython nbconvert [this_notebook.ipynb] --to slides --post serve`\n",
    "\n",
    "\n",
    "> To toggle off the slideshow cell formatting, click the `CellToolbar` button, then `View --> Cell Toolbar --> None`"
   ]
  },
  {
   "cell_type": "markdown",
   "metadata": {
    "slideshow": {
     "slide_type": "slide"
    }
   },
   "source": [
    "<img src=\"http://imgur.com/1ZcRyrc.png\" style=\"float: left; margin: 20px; height: 55px\">\n",
    "\n",
    "## Intro to Data Representation and Data Cleaning\n",
    "\n",
    "_Authors: Dave Yerrington (SF)_\n",
    "\n",
    "---\n",
    "\n",
    "<img src=\"https://snag.gy/ywU34V.jpg\" width=\"250\">"
   ]
  },
  {
   "cell_type": "markdown",
   "metadata": {
    "slideshow": {
     "slide_type": "slide"
    }
   },
   "source": [
    "### Learning Objectives\n",
    "*After this lesson, you will be able to:*\n",
    "- Inspect data types\n",
    "- Clean up a column using `df.apply()`\n",
    "- Know what situations to use `.value_counts()` in your code"
   ]
  },
  {
   "cell_type": "markdown",
   "metadata": {
    "slideshow": {
     "slide_type": "slide"
    }
   },
   "source": [
    "### Lesson Guide\n",
    "\n",
    "- [Data quality measures](#data_quality_measures)\n",
    "- [Common data cleaning strategies](#common_strategies)\n",
    "- [Pandas tools for cleaning data](#cleaning_tools)\n",
    "- [Common operations on data by type](#common_operations)\n",
    "- [Practice inspecting data types and applying functions](#guided_practice)\n",
    "- [Independent practice: sales data](#independent_pratice)\n"
   ]
  },
  {
   "cell_type": "markdown",
   "metadata": {
    "slideshow": {
     "slide_type": "slide"
    }
   },
   "source": [
    "<a id='common_strategies'></a>\n",
    "\n",
    "### Common data cleaning strategies\n",
    "\n",
    "---\n",
    "\n",
    " - Remove missing values\n",
    " - Remove incorrect values\n",
    " - Update incorrect values\n",
    "  - Removing invalid characters\n",
    "  - Truncating part of a value\n",
    "  - Adding extra numeral or string-based data\n",
    " - Imputate missing or invalid data\n",
    "  - Mean / Median / Mode of a column, sometimes within group subsets\n",
    "  - Model based imputation (K-Nearest Neighbors, MICE, etc.)\n",
    " - Backfill or forward fill\n"
   ]
  },
  {
   "cell_type": "markdown",
   "metadata": {
    "slideshow": {
     "slide_type": "slide"
    }
   },
   "source": [
    "<a id='data_quality_measures'></a>\n",
    "\n",
    "### Measures of data quality\n",
    "\n",
    "---\n",
    "\n",
    " - What is the relative value of the data column?\n",
    " - Is the data encoded properly?\n",
    " - Is the data consistently encoded? Does it represent the information appropriately?"
   ]
  },
  {
   "cell_type": "markdown",
   "metadata": {
    "slideshow": {
     "slide_type": "slide"
    }
   },
   "source": [
    "<a id='cleaning_tools'></a>\n",
    "\n",
    "### Tools for the data cleaning process using pandas\n",
    "\n",
    "---\n",
    "\n",
    "We're starting to get more comfortable with using pandas for manipulating and examining data. Let's add a couple more tools to our toolbox.\n",
    "\n",
    "The main data types in pandas objects are:\n",
    "- `float`\n",
    "- `int`\n",
    "- `bool`\n",
    "- `datetime64`\n",
    "- `timedelta`\n",
    "- `category`\n",
    "- `object`\n",
    "\n",
    "It is always important to evaluate the data types of columns to ensure that the information is properly represented.\n",
    "\n",
    "See [Pandas: dtypes](http://pandas.pydata.org/pandas-docs/stable/pandas.pdf) for a more detailed reference.\n",
    "\n",
    "We will be using two tools extensively in this lesson:\n",
    "\n",
    "**The `.apply()` function**\n",
    "\n",
    "The built-in DataFrame function `.apply()` will apply a function to all the cells, rows, or columns of the DataFrame. We will explore this function in detail beelow.\n",
    "\n",
    "**Series `.value_counts` attribute**\n",
    "\n",
    "Pandas Series objects have a `.value_counts` attribute that will return a new series containing the counts of the unique values in the data. The series will be in descending order by default, so the first element is the most frequently occuring value.\n",
    "\n",
    "Note: `.value_counts` excludes the counts of null values in the column!\n",
    "\n",
    "See [pandas Series: value_counts](http://nullege.com/codes/search/pandas.Series.value_counts) for more detailed information.\n"
   ]
  },
  {
   "cell_type": "markdown",
   "metadata": {
    "slideshow": {
     "slide_type": "slide"
    }
   },
   "source": [
    "<a id='common_operations'></a>\n",
    "\n",
    "### Some common operations on data by type\n",
    "\n",
    "---\n",
    "\n",
    "- **float**: precision specific math operations\n",
    "- **int**: operations with whole numbers\n",
    "- **bool**: control flow conditions\n",
    "- **datetime64**: resampling, slicing/selection, frequency back/front filling on a date range\n",
    "- **timedelta**: date comparisons\n",
    "- **category**: a more powerful set type; can capture for example days as a category with ordinal (ordering) information\n",
    "- **object**: all types can be represented as an object, but math and date operations will not be possible.  Limited control flow possibilities unless you are comparing strings."
   ]
  },
  {
   "cell_type": "markdown",
   "metadata": {
    "slideshow": {
     "slide_type": "slide"
    }
   },
   "source": [
    "<a id='guided_practice'></a>\n",
    "\n",
    "### Guided practice: inspecting data types and applying functions\n",
    "\n",
    "---\n",
    "\n",
    "[This guided practice follows the questions in the notebook here.](./practice-inspecting-data-applying-functions.ipynb)\n"
   ]
  },
  {
   "cell_type": "code",
   "execution_count": 27,
   "metadata": {
    "collapsed": true
   },
   "outputs": [],
   "source": [
    "import pandas as pd\n",
    "import numpy as np"
   ]
  },
  {
   "cell_type": "markdown",
   "metadata": {
    "slideshow": {
     "slide_type": "slide"
    }
   },
   "source": [
    "**1. Create a small DataFrame with different data types.**"
   ]
  },
  {
   "cell_type": "code",
   "execution_count": 2,
   "metadata": {
    "collapsed": true,
    "slideshow": {
     "slide_type": "-"
    }
   },
   "outputs": [],
   "source": [
    "test_data = dict( \n",
    "    A = np.random.rand(3),\n",
    "    B = 1,\n",
    "    C = 'foo',\n",
    "    D = pd.Timestamp('20010102'),\n",
    "    E = pd.Series([1.0]*3).astype('float32'),\n",
    "    F = False,\n",
    "    G = pd.Series([1]*3,dtype='int8')\n",
    ")"
   ]
  },
  {
   "cell_type": "code",
   "execution_count": 3,
   "metadata": {
    "collapsed": false,
    "slideshow": {
     "slide_type": "fragment"
    }
   },
   "outputs": [
    {
     "data": {
      "text/plain": [
       "{'A': array([ 0.52262705,  0.19537626,  0.89888063]),\n",
       " 'B': 1,\n",
       " 'C': 'foo',\n",
       " 'D': Timestamp('2001-01-02 00:00:00'),\n",
       " 'E': 0    1.0\n",
       " 1    1.0\n",
       " 2    1.0\n",
       " dtype: float32,\n",
       " 'F': False,\n",
       " 'G': 0    1\n",
       " 1    1\n",
       " 2    1\n",
       " dtype: int8}"
      ]
     },
     "execution_count": 3,
     "metadata": {},
     "output_type": "execute_result"
    }
   ],
   "source": [
    "test_data"
   ]
  },
  {
   "cell_type": "code",
   "execution_count": 9,
   "metadata": {
    "collapsed": false
   },
   "outputs": [
    {
     "data": {
      "text/plain": [
       "array([ 0.44688535,  0.22198847,  0.23445307])"
      ]
     },
     "execution_count": 9,
     "metadata": {},
     "output_type": "execute_result"
    }
   ],
   "source": [
    "A = np.random.rand(3)\n",
    "A"
   ]
  },
  {
   "cell_type": "code",
   "execution_count": 14,
   "metadata": {
    "collapsed": false,
    "slideshow": {
     "slide_type": "slide"
    }
   },
   "outputs": [
    {
     "data": {
      "text/html": [
       "<div>\n",
       "<table border=\"1\" class=\"dataframe\">\n",
       "  <thead>\n",
       "    <tr style=\"text-align: right;\">\n",
       "      <th></th>\n",
       "      <th>A</th>\n",
       "      <th>B</th>\n",
       "      <th>C</th>\n",
       "      <th>D</th>\n",
       "      <th>E</th>\n",
       "      <th>F</th>\n",
       "      <th>G</th>\n",
       "    </tr>\n",
       "  </thead>\n",
       "  <tbody>\n",
       "    <tr>\n",
       "      <th>0</th>\n",
       "      <td>0.296990</td>\n",
       "      <td>1</td>\n",
       "      <td>foo</td>\n",
       "      <td>2001-01-02</td>\n",
       "      <td>1.0</td>\n",
       "      <td>False</td>\n",
       "      <td>1</td>\n",
       "    </tr>\n",
       "    <tr>\n",
       "      <th>1</th>\n",
       "      <td>0.856104</td>\n",
       "      <td>1</td>\n",
       "      <td>foo</td>\n",
       "      <td>2001-01-02</td>\n",
       "      <td>1.0</td>\n",
       "      <td>False</td>\n",
       "      <td>1</td>\n",
       "    </tr>\n",
       "    <tr>\n",
       "      <th>2</th>\n",
       "      <td>0.195158</td>\n",
       "      <td>1</td>\n",
       "      <td>foo</td>\n",
       "      <td>2001-01-02</td>\n",
       "      <td>1.0</td>\n",
       "      <td>False</td>\n",
       "      <td>1</td>\n",
       "    </tr>\n",
       "  </tbody>\n",
       "</table>\n",
       "</div>"
      ],
      "text/plain": [
       "          A  B    C          D    E      F  G\n",
       "0  0.296990  1  foo 2001-01-02  1.0  False  1\n",
       "1  0.856104  1  foo 2001-01-02  1.0  False  1\n",
       "2  0.195158  1  foo 2001-01-02  1.0  False  1"
      ]
     },
     "execution_count": 14,
     "metadata": {},
     "output_type": "execute_result"
    }
   ],
   "source": [
    "dft = pd.DataFrame(test_data)\n",
    "dft"
   ]
  },
  {
   "cell_type": "markdown",
   "metadata": {
    "slideshow": {
     "slide_type": "slide"
    }
   },
   "source": [
    "**2. Examine the data types of the columns.**"
   ]
  },
  {
   "cell_type": "code",
   "execution_count": 5,
   "metadata": {
    "collapsed": false,
    "slideshow": {
     "slide_type": "fragment"
    }
   },
   "outputs": [
    {
     "data": {
      "text/plain": [
       "A           float64\n",
       "B             int64\n",
       "C            object\n",
       "D    datetime64[ns]\n",
       "E           float32\n",
       "F              bool\n",
       "G              int8\n",
       "dtype: object"
      ]
     },
     "execution_count": 5,
     "metadata": {},
     "output_type": "execute_result"
    }
   ],
   "source": [
    "dft.dtypes"
   ]
  },
  {
   "cell_type": "markdown",
   "metadata": {
    "slideshow": {
     "slide_type": "slide"
    }
   },
   "source": [
    "**3. Create a Series object with the integers 1-5 and float 6.0. What data type is the Series?**"
   ]
  },
  {
   "cell_type": "code",
   "execution_count": 6,
   "metadata": {
    "collapsed": false,
    "slideshow": {
     "slide_type": "fragment"
    }
   },
   "outputs": [
    {
     "data": {
      "text/plain": [
       "0    1.0\n",
       "1    2.0\n",
       "2    3.0\n",
       "3    4.0\n",
       "4    5.0\n",
       "5    6.0\n",
       "dtype: float64"
      ]
     },
     "execution_count": 6,
     "metadata": {},
     "output_type": "execute_result"
    }
   ],
   "source": [
    "pd.Series([1, 2, 3, 4, 5, 6.])"
   ]
  },
  {
   "cell_type": "markdown",
   "metadata": {
    "slideshow": {
     "slide_type": "-"
    }
   },
   "source": [
    "If a pandas object contains data of multiple dtypes in a single column, the dtype of the column will be chosen to accommodate all of the data types (object is the most general)."
   ]
  },
  {
   "cell_type": "markdown",
   "metadata": {
    "slideshow": {
     "slide_type": "slide"
    }
   },
   "source": [
    "**4. Create a Series with data: `[1, 2, 3, 6., 'foo']`. What data type is the series?**"
   ]
  },
  {
   "cell_type": "code",
   "execution_count": 18,
   "metadata": {
    "collapsed": false,
    "scrolled": true,
    "slideshow": {
     "slide_type": "fragment"
    }
   },
   "outputs": [
    {
     "data": {
      "text/plain": [
       "0      1\n",
       "1      2\n",
       "2      3\n",
       "3    6.3\n",
       "4    foo\n",
       "dtype: object"
      ]
     },
     "execution_count": 18,
     "metadata": {},
     "output_type": "execute_result"
    }
   ],
   "source": [
    "df=pd.Series([1, 2, 3,6.3, 'foo'])\n",
    "df"
   ]
  },
  {
   "cell_type": "markdown",
   "metadata": {
    "slideshow": {
     "slide_type": "slide"
    }
   },
   "source": [
    "**5. Find how many columns of each type there are with the `.get_dtype_counts()` function.**"
   ]
  },
  {
   "cell_type": "code",
   "execution_count": 20,
   "metadata": {
    "collapsed": false,
    "slideshow": {
     "slide_type": "fragment"
    }
   },
   "outputs": [
    {
     "data": {
      "text/plain": [
       "bool              1\n",
       "datetime64[ns]    1\n",
       "float32           1\n",
       "float64           1\n",
       "int64             1\n",
       "int8              1\n",
       "object            1\n",
       "dtype: object"
      ]
     },
     "execution_count": 20,
     "metadata": {},
     "output_type": "execute_result"
    }
   ],
   "source": [
    "dft.get_dtype_counts().astype(list)"
   ]
  },
  {
   "cell_type": "markdown",
   "metadata": {
    "slideshow": {
     "slide_type": "slide"
    }
   },
   "source": [
    "**With a partner, take 3 minutes to discuss:**\n",
    "\n",
    "*Without* running this code with a Python interpreter, what types would you expect the common `dtype` to be selected?\n",
    "\n",
    "    [1, 3, 9, .33, False, '03-20-1978', np.arange(22)]\n",
    "\n"
   ]
  },
  {
   "cell_type": "code",
   "execution_count": 35,
   "metadata": {
    "collapsed": false
   },
   "outputs": [
    {
     "data": {
      "text/plain": [
       "object    1\n",
       "dtype: object"
      ]
     },
     "execution_count": 35,
     "metadata": {},
     "output_type": "execute_result"
    }
   ],
   "source": [
    "a=pd.DataFrame([1, 3, 9, .33, False, '03-20-1978', np.arange(22)])\n",
    "a.get_dtype_counts().astype(list)"
   ]
  },
  {
   "cell_type": "markdown",
   "metadata": {
    "slideshow": {
     "slide_type": "fragment"
    }
   },
   "source": [
    "You can do a lot more with dtypes.  Check out \n",
    "[Pandas Documentation](http://pandas.pydata.org/pandas-docs/stable/pandas.pdf)."
   ]
  },
  {
   "cell_type": "markdown",
   "metadata": {
    "slideshow": {
     "slide_type": "slide"
    }
   },
   "source": [
    "**Applying functions to data with `df.apply()`**\n",
    "\n",
    "Generally `df.apply()` will apply a singlular function to every cell of the dataframe you use it with.  \n",
    "\n",
    "Note: There is another common built-in function, `df.map()`, which applies a function to each element of a single Series (column). For example:\n",
    "\n",
    "```python\n",
    "df['a'].map(my_func)\n",
    "```\n",
    "\n",
    "**6. Create another small DataFrame.**"
   ]
  },
  {
   "cell_type": "code",
   "execution_count": 6,
   "metadata": {
    "collapsed": false,
    "slideshow": {
     "slide_type": "-"
    }
   },
   "outputs": [
    {
     "data": {
      "text/html": [
       "<div>\n",
       "<table border=\"1\" class=\"dataframe\">\n",
       "  <thead>\n",
       "    <tr style=\"text-align: right;\">\n",
       "      <th></th>\n",
       "      <th>a</th>\n",
       "      <th>b</th>\n",
       "      <th>c</th>\n",
       "      <th>d</th>\n",
       "    </tr>\n",
       "  </thead>\n",
       "  <tbody>\n",
       "    <tr>\n",
       "      <th>0</th>\n",
       "      <td>-0.410785</td>\n",
       "      <td>0.190240</td>\n",
       "      <td>1.745112</td>\n",
       "      <td>-0.322609</td>\n",
       "    </tr>\n",
       "    <tr>\n",
       "      <th>1</th>\n",
       "      <td>0.281392</td>\n",
       "      <td>-0.229490</td>\n",
       "      <td>1.962935</td>\n",
       "      <td>0.946956</td>\n",
       "    </tr>\n",
       "    <tr>\n",
       "      <th>2</th>\n",
       "      <td>0.809197</td>\n",
       "      <td>0.318424</td>\n",
       "      <td>1.247255</td>\n",
       "      <td>1.052985</td>\n",
       "    </tr>\n",
       "    <tr>\n",
       "      <th>3</th>\n",
       "      <td>0.858677</td>\n",
       "      <td>0.244996</td>\n",
       "      <td>0.090704</td>\n",
       "      <td>1.250873</td>\n",
       "    </tr>\n",
       "    <tr>\n",
       "      <th>4</th>\n",
       "      <td>-0.737841</td>\n",
       "      <td>0.966909</td>\n",
       "      <td>0.580455</td>\n",
       "      <td>-1.126967</td>\n",
       "    </tr>\n",
       "  </tbody>\n",
       "</table>\n",
       "</div>"
      ],
      "text/plain": [
       "          a         b         c         d\n",
       "0 -0.410785  0.190240  1.745112 -0.322609\n",
       "1  0.281392 -0.229490  1.962935  0.946956\n",
       "2  0.809197  0.318424  1.247255  1.052985\n",
       "3  0.858677  0.244996  0.090704  1.250873\n",
       "4 -0.737841  0.966909  0.580455 -1.126967"
      ]
     },
     "execution_count": 6,
     "metadata": {},
     "output_type": "execute_result"
    }
   ],
   "source": [
    "# Create some more test data\n",
    "df = pd.DataFrame(np.random.randn(5, 4), columns=['a', 'b', 'c', 'd'])\n",
    "df"
   ]
  },
  {
   "cell_type": "markdown",
   "metadata": {
    "slideshow": {
     "slide_type": "slide"
    }
   },
   "source": [
    "**7. Use the `.apply()` function to find the square root of all the cells.**"
   ]
  },
  {
   "cell_type": "code",
   "execution_count": 7,
   "metadata": {
    "collapsed": false,
    "slideshow": {
     "slide_type": "fragment"
    }
   },
   "outputs": [
    {
     "data": {
      "text/html": [
       "<div>\n",
       "<table border=\"1\" class=\"dataframe\">\n",
       "  <thead>\n",
       "    <tr style=\"text-align: right;\">\n",
       "      <th></th>\n",
       "      <th>a</th>\n",
       "      <th>b</th>\n",
       "      <th>c</th>\n",
       "      <th>d</th>\n",
       "    </tr>\n",
       "  </thead>\n",
       "  <tbody>\n",
       "    <tr>\n",
       "      <th>0</th>\n",
       "      <td>NaN</td>\n",
       "      <td>0.436165</td>\n",
       "      <td>1.321027</td>\n",
       "      <td>NaN</td>\n",
       "    </tr>\n",
       "    <tr>\n",
       "      <th>1</th>\n",
       "      <td>0.530464</td>\n",
       "      <td>NaN</td>\n",
       "      <td>1.401048</td>\n",
       "      <td>0.973116</td>\n",
       "    </tr>\n",
       "    <tr>\n",
       "      <th>2</th>\n",
       "      <td>0.899554</td>\n",
       "      <td>0.564291</td>\n",
       "      <td>1.116806</td>\n",
       "      <td>1.026151</td>\n",
       "    </tr>\n",
       "    <tr>\n",
       "      <th>3</th>\n",
       "      <td>0.926648</td>\n",
       "      <td>0.494971</td>\n",
       "      <td>0.301172</td>\n",
       "      <td>1.118425</td>\n",
       "    </tr>\n",
       "    <tr>\n",
       "      <th>4</th>\n",
       "      <td>NaN</td>\n",
       "      <td>0.983315</td>\n",
       "      <td>0.761876</td>\n",
       "      <td>NaN</td>\n",
       "    </tr>\n",
       "  </tbody>\n",
       "</table>\n",
       "</div>"
      ],
      "text/plain": [
       "          a         b         c         d\n",
       "0       NaN  0.436165  1.321027       NaN\n",
       "1  0.530464       NaN  1.401048  0.973116\n",
       "2  0.899554  0.564291  1.116806  1.026151\n",
       "3  0.926648  0.494971  0.301172  1.118425\n",
       "4       NaN  0.983315  0.761876       NaN"
      ]
     },
     "execution_count": 7,
     "metadata": {},
     "output_type": "execute_result"
    }
   ],
   "source": [
    "# square root ALL CELLS (NaN == Not a Number)\n",
    "df.apply(np.sqrt)"
   ]
  },
  {
   "cell_type": "markdown",
   "metadata": {
    "slideshow": {
     "slide_type": "slide"
    }
   },
   "source": [
    "**8. Use `.apply()` to find the mean of the columns.**"
   ]
  },
  {
   "cell_type": "code",
   "execution_count": 8,
   "metadata": {
    "collapsed": false,
    "slideshow": {
     "slide_type": "fragment"
    }
   },
   "outputs": [
    {
     "data": {
      "text/plain": [
       "a    0.160128\n",
       "b    0.298216\n",
       "c    1.125292\n",
       "d    0.360248\n",
       "dtype: float64"
      ]
     },
     "execution_count": 8,
     "metadata": {},
     "output_type": "execute_result"
    }
   ],
   "source": [
    "df.apply(np.mean, axis=0)"
   ]
  },
  {
   "cell_type": "markdown",
   "metadata": {
    "slideshow": {
     "slide_type": "slide"
    }
   },
   "source": [
    "**9. Find the mean of the rows.**"
   ]
  },
  {
   "cell_type": "code",
   "execution_count": 9,
   "metadata": {
    "collapsed": false,
    "slideshow": {
     "slide_type": "fragment"
    }
   },
   "outputs": [
    {
     "data": {
      "text/plain": [
       "0    0.300489\n",
       "1    0.740448\n",
       "2    0.856965\n",
       "3    0.611313\n",
       "4   -0.079361\n",
       "dtype: float64"
      ]
     },
     "execution_count": 9,
     "metadata": {},
     "output_type": "execute_result"
    }
   ],
   "source": [
    "df.apply(np.mean, axis=1)"
   ]
  },
  {
   "cell_type": "markdown",
   "metadata": {
    "slideshow": {
     "slide_type": "slide"
    }
   },
   "source": [
    "### Further Reading\n",
    "\n",
    "For more advanced `.apply` usage, check out these links:\n",
    "\n",
    "[\"Why Not\"'s Gist Examples](https://gist.github.com/why-not/4582705)\n",
    "\n",
    "[Chris Albon's Map + Apply Examples](http://chrisalbon.com/python/pandas_apply_operations_to_dataframes.html)\n"
   ]
  },
  {
   "cell_type": "markdown",
   "metadata": {
    "slideshow": {
     "slide_type": "slide"
    }
   },
   "source": [
    "**Counting occurrances of unique values with `.value_counts()`**\n",
    "\n",
    "The `.value_counts` attribute tells us the count of unique values in a column's data.  It's helpful to identify unexpected values and to get a feel for the distribution of the data, especially when looking at group membership.  Looking at the value counts per column can give us a quick overview of values expressed in our data.\n",
    "\n",
    "\n",
    "Some common use cases of `.value_counts` include:\n",
    " - Finding strings inside of mostly numeric / continious data\n",
    " - Finding non-numeric values\n",
    " - General distributions of categorical variables\n",
    " - Identifying the most common and least common values"
   ]
  },
  {
   "cell_type": "markdown",
   "metadata": {
    "slideshow": {
     "slide_type": "slide"
    }
   },
   "source": [
    "**10. Use numpy to create a random vector of 50 numbers ranging from 0 to 6.**\n"
   ]
  },
  {
   "cell_type": "code",
   "execution_count": 10,
   "metadata": {
    "collapsed": false,
    "slideshow": {
     "slide_type": "fragment"
    }
   },
   "outputs": [
    {
     "data": {
      "text/plain": [
       "array([5, 5, 5, 2, 4, 2, 5, 4, 5, 4, 1, 1, 1, 3, 6, 1, 4, 6, 1, 0, 2, 2, 2,\n",
       "       5, 6, 5, 1, 2, 4, 4, 5, 0, 4, 2, 2, 1, 1, 1, 0, 1, 3, 6, 2, 6, 3, 6,\n",
       "       6, 6, 3, 6])"
      ]
     },
     "execution_count": 10,
     "metadata": {},
     "output_type": "execute_result"
    }
   ],
   "source": [
    "data = np.random.randint(0, 7, size = 50)\n",
    "data"
   ]
  },
  {
   "cell_type": "markdown",
   "metadata": {
    "slideshow": {
     "slide_type": "fragment"
    }
   },
   "source": [
    "**11. Convert the vector to a Series and count the occurrences of each number.**"
   ]
  },
  {
   "cell_type": "code",
   "execution_count": 11,
   "metadata": {
    "collapsed": false,
    "slideshow": {
     "slide_type": "fragment"
    }
   },
   "outputs": [
    {
     "data": {
      "text/plain": [
       "0    5\n",
       "1    5\n",
       "2    5\n",
       "3    2\n",
       "4    4\n",
       "dtype: int64"
      ]
     },
     "execution_count": 11,
     "metadata": {},
     "output_type": "execute_result"
    }
   ],
   "source": [
    "s = pd.Series(data)\n",
    "s.head()"
   ]
  },
  {
   "cell_type": "code",
   "execution_count": 12,
   "metadata": {
    "collapsed": false,
    "slideshow": {
     "slide_type": "fragment"
    }
   },
   "outputs": [
    {
     "data": {
      "text/plain": [
       "1    10\n",
       "6     9\n",
       "2     9\n",
       "5     8\n",
       "4     7\n",
       "3     4\n",
       "0     3\n",
       "dtype: int64"
      ]
     },
     "execution_count": 12,
     "metadata": {},
     "output_type": "execute_result"
    }
   ],
   "source": [
    "# The counts of each number that occurs in our array is listed\n",
    "pd.value_counts(s)"
   ]
  },
  {
   "cell_type": "markdown",
   "metadata": {
    "slideshow": {
     "slide_type": "slide"
    }
   },
   "source": [
    "<a name=\"independent_ practice\"></a>\n",
    "\n",
    "### Independent practice: sales data\n",
    "\n",
    "---\n",
    "\n",
    "1. Load the `sales.csv` data set from the datasets directory.\n",
    "- Inspect the data types.\n",
    "- Imagine you've found out that all your values in column 1 are off by 1. Use `.apply()` or `.map()` to add 1 to column 1 of the dataset.\n",
    "- Use `.value_counts` to count the values of 1 column of the dataset.\n"
   ]
  },
  {
   "cell_type": "code",
   "execution_count": 39,
   "metadata": {
    "collapsed": false
   },
   "outputs": [
    {
     "data": {
      "text/html": [
       "<div>\n",
       "<table border=\"1\" class=\"dataframe\">\n",
       "  <thead>\n",
       "    <tr style=\"text-align: right;\">\n",
       "      <th></th>\n",
       "      <th>volume_sold</th>\n",
       "      <th>2015_margin</th>\n",
       "      <th>2015_q1_sales</th>\n",
       "      <th>2016_q1_sales</th>\n",
       "    </tr>\n",
       "  </thead>\n",
       "  <tbody>\n",
       "    <tr>\n",
       "      <th>0</th>\n",
       "      <td>18.420760</td>\n",
       "      <td>93.802281</td>\n",
       "      <td>337166.53</td>\n",
       "      <td>337804.05</td>\n",
       "    </tr>\n",
       "    <tr>\n",
       "      <th>1</th>\n",
       "      <td>4.776510</td>\n",
       "      <td>21.082425</td>\n",
       "      <td>22351.86</td>\n",
       "      <td>21736.63</td>\n",
       "    </tr>\n",
       "    <tr>\n",
       "      <th>2</th>\n",
       "      <td>16.602401</td>\n",
       "      <td>93.612494</td>\n",
       "      <td>277764.46</td>\n",
       "      <td>306942.27</td>\n",
       "    </tr>\n",
       "    <tr>\n",
       "      <th>3</th>\n",
       "      <td>4.296111</td>\n",
       "      <td>16.824704</td>\n",
       "      <td>16805.11</td>\n",
       "      <td>9307.75</td>\n",
       "    </tr>\n",
       "    <tr>\n",
       "      <th>4</th>\n",
       "      <td>8.156023</td>\n",
       "      <td>35.011457</td>\n",
       "      <td>54411.42</td>\n",
       "      <td>58939.90</td>\n",
       "    </tr>\n",
       "    <tr>\n",
       "      <th>5</th>\n",
       "      <td>5.005122</td>\n",
       "      <td>31.877437</td>\n",
       "      <td>255939.81</td>\n",
       "      <td>332979.03</td>\n",
       "    </tr>\n",
       "    <tr>\n",
       "      <th>6</th>\n",
       "      <td>14.606750</td>\n",
       "      <td>76.518973</td>\n",
       "      <td>319020.69</td>\n",
       "      <td>302592.88</td>\n",
       "    </tr>\n",
       "    <tr>\n",
       "      <th>7</th>\n",
       "      <td>4.456466</td>\n",
       "      <td>19.337345</td>\n",
       "      <td>45340.33</td>\n",
       "      <td>55315.23</td>\n",
       "    </tr>\n",
       "    <tr>\n",
       "      <th>8</th>\n",
       "      <td>5.047530</td>\n",
       "      <td>26.142470</td>\n",
       "      <td>57849.23</td>\n",
       "      <td>42398.57</td>\n",
       "    </tr>\n",
       "    <tr>\n",
       "      <th>9</th>\n",
       "      <td>5.388070</td>\n",
       "      <td>22.427024</td>\n",
       "      <td>51031.04</td>\n",
       "      <td>56241.57</td>\n",
       "    </tr>\n",
       "    <tr>\n",
       "      <th>10</th>\n",
       "      <td>9.347349</td>\n",
       "      <td>41.892133</td>\n",
       "      <td>68657.91</td>\n",
       "      <td>3536.14</td>\n",
       "    </tr>\n",
       "    <tr>\n",
       "      <th>11</th>\n",
       "      <td>10.930398</td>\n",
       "      <td>66.403049</td>\n",
       "      <td>4151.93</td>\n",
       "      <td>137416.93</td>\n",
       "    </tr>\n",
       "    <tr>\n",
       "      <th>12</th>\n",
       "      <td>6.270209</td>\n",
       "      <td>47.869324</td>\n",
       "      <td>121837.56</td>\n",
       "      <td>158476.55</td>\n",
       "    </tr>\n",
       "    <tr>\n",
       "      <th>13</th>\n",
       "      <td>12.395919</td>\n",
       "      <td>86.760150</td>\n",
       "      <td>146725.31</td>\n",
       "      <td>125731.51</td>\n",
       "    </tr>\n",
       "    <tr>\n",
       "      <th>14</th>\n",
       "      <td>4.557712</td>\n",
       "      <td>22.948176</td>\n",
       "      <td>119287.76</td>\n",
       "      <td>21834.49</td>\n",
       "    </tr>\n",
       "    <tr>\n",
       "      <th>15</th>\n",
       "      <td>4.200122</td>\n",
       "      <td>18.706055</td>\n",
       "      <td>20335.03</td>\n",
       "      <td>39609.55</td>\n",
       "    </tr>\n",
       "    <tr>\n",
       "      <th>16</th>\n",
       "      <td>10.252870</td>\n",
       "      <td>44.041177</td>\n",
       "      <td>110552.94</td>\n",
       "      <td>204038.87</td>\n",
       "    </tr>\n",
       "    <tr>\n",
       "      <th>17</th>\n",
       "      <td>12.076785</td>\n",
       "      <td>62.199004</td>\n",
       "      <td>204237.78</td>\n",
       "      <td>15689.80</td>\n",
       "    </tr>\n",
       "    <tr>\n",
       "      <th>18</th>\n",
       "      <td>3.725095</td>\n",
       "      <td>14.251810</td>\n",
       "      <td>16939.15</td>\n",
       "      <td>48545.69</td>\n",
       "    </tr>\n",
       "    <tr>\n",
       "      <th>19</th>\n",
       "      <td>3.210727</td>\n",
       "      <td>16.043269</td>\n",
       "      <td>55498.12</td>\n",
       "      <td>16320.74</td>\n",
       "    </tr>\n",
       "    <tr>\n",
       "      <th>20</th>\n",
       "      <td>6.290971</td>\n",
       "      <td>25.191171</td>\n",
       "      <td>15983.98</td>\n",
       "      <td>53182.55</td>\n",
       "    </tr>\n",
       "    <tr>\n",
       "      <th>21</th>\n",
       "      <td>7.434821</td>\n",
       "      <td>31.753066</td>\n",
       "      <td>71758.66</td>\n",
       "      <td>30402.43</td>\n",
       "    </tr>\n",
       "    <tr>\n",
       "      <th>22</th>\n",
       "      <td>4.376225</td>\n",
       "      <td>23.161451</td>\n",
       "      <td>62988.17</td>\n",
       "      <td>47217.40</td>\n",
       "    </tr>\n",
       "    <tr>\n",
       "      <th>23</th>\n",
       "      <td>12.988913</td>\n",
       "      <td>48.820741</td>\n",
       "      <td>29637.75</td>\n",
       "      <td>6367.76</td>\n",
       "    </tr>\n",
       "    <tr>\n",
       "      <th>24</th>\n",
       "      <td>11.697456</td>\n",
       "      <td>73.231504</td>\n",
       "      <td>48759.71</td>\n",
       "      <td>329252.09</td>\n",
       "    </tr>\n",
       "    <tr>\n",
       "      <th>25</th>\n",
       "      <td>5.965175</td>\n",
       "      <td>23.450334</td>\n",
       "      <td>89736.70</td>\n",
       "      <td>332976.05</td>\n",
       "    </tr>\n",
       "    <tr>\n",
       "      <th>26</th>\n",
       "      <td>3.945223</td>\n",
       "      <td>14.144793</td>\n",
       "      <td>5577.61</td>\n",
       "      <td>234926.02</td>\n",
       "    </tr>\n",
       "    <tr>\n",
       "      <th>27</th>\n",
       "      <td>7.369585</td>\n",
       "      <td>36.408528</td>\n",
       "      <td>310035.66</td>\n",
       "      <td>151934.45</td>\n",
       "    </tr>\n",
       "    <tr>\n",
       "      <th>28</th>\n",
       "      <td>7.343509</td>\n",
       "      <td>36.171862</td>\n",
       "      <td>310718.21</td>\n",
       "      <td>314068.92</td>\n",
       "    </tr>\n",
       "    <tr>\n",
       "      <th>29</th>\n",
       "      <td>12.350027</td>\n",
       "      <td>59.893478</td>\n",
       "      <td>258284.84</td>\n",
       "      <td>61847.52</td>\n",
       "    </tr>\n",
       "    <tr>\n",
       "      <th>...</th>\n",
       "      <td>...</td>\n",
       "      <td>...</td>\n",
       "      <td>...</td>\n",
       "      <td>...</td>\n",
       "    </tr>\n",
       "    <tr>\n",
       "      <th>170</th>\n",
       "      <td>8.443932</td>\n",
       "      <td>37.407112</td>\n",
       "      <td>17232.45</td>\n",
       "      <td>19203.82</td>\n",
       "    </tr>\n",
       "    <tr>\n",
       "      <th>171</th>\n",
       "      <td>5.151964</td>\n",
       "      <td>20.698042</td>\n",
       "      <td>21340.78</td>\n",
       "      <td>25302.92</td>\n",
       "    </tr>\n",
       "    <tr>\n",
       "      <th>172</th>\n",
       "      <td>6.537069</td>\n",
       "      <td>22.888219</td>\n",
       "      <td>16617.85</td>\n",
       "      <td>18650.96</td>\n",
       "    </tr>\n",
       "    <tr>\n",
       "      <th>173</th>\n",
       "      <td>8.500445</td>\n",
       "      <td>27.507729</td>\n",
       "      <td>21711.71</td>\n",
       "      <td>14626.29</td>\n",
       "    </tr>\n",
       "    <tr>\n",
       "      <th>174</th>\n",
       "      <td>3.931543</td>\n",
       "      <td>21.811659</td>\n",
       "      <td>28128.95</td>\n",
       "      <td>46323.73</td>\n",
       "    </tr>\n",
       "    <tr>\n",
       "      <th>175</th>\n",
       "      <td>6.163689</td>\n",
       "      <td>25.428521</td>\n",
       "      <td>21803.20</td>\n",
       "      <td>535381.86</td>\n",
       "    </tr>\n",
       "    <tr>\n",
       "      <th>176</th>\n",
       "      <td>4.904447</td>\n",
       "      <td>19.568317</td>\n",
       "      <td>12517.29</td>\n",
       "      <td>812011.78</td>\n",
       "    </tr>\n",
       "    <tr>\n",
       "      <th>177</th>\n",
       "      <td>7.402413</td>\n",
       "      <td>26.935335</td>\n",
       "      <td>53988.92</td>\n",
       "      <td>206247.57</td>\n",
       "    </tr>\n",
       "    <tr>\n",
       "      <th>178</th>\n",
       "      <td>47.503269</td>\n",
       "      <td>235.730678</td>\n",
       "      <td>555707.40</td>\n",
       "      <td>6402.78</td>\n",
       "    </tr>\n",
       "    <tr>\n",
       "      <th>179</th>\n",
       "      <td>55.739180</td>\n",
       "      <td>268.869600</td>\n",
       "      <td>1082136.01</td>\n",
       "      <td>100765.67</td>\n",
       "    </tr>\n",
       "    <tr>\n",
       "      <th>180</th>\n",
       "      <td>11.840780</td>\n",
       "      <td>56.433388</td>\n",
       "      <td>192089.46</td>\n",
       "      <td>20098.61</td>\n",
       "    </tr>\n",
       "    <tr>\n",
       "      <th>181</th>\n",
       "      <td>7.002294</td>\n",
       "      <td>26.440917</td>\n",
       "      <td>5574.99</td>\n",
       "      <td>68230.36</td>\n",
       "    </tr>\n",
       "    <tr>\n",
       "      <th>182</th>\n",
       "      <td>8.753142</td>\n",
       "      <td>45.293847</td>\n",
       "      <td>80241.27</td>\n",
       "      <td>596063.00</td>\n",
       "    </tr>\n",
       "    <tr>\n",
       "      <th>183</th>\n",
       "      <td>3.147741</td>\n",
       "      <td>15.594552</td>\n",
       "      <td>27043.54</td>\n",
       "      <td>87471.43</td>\n",
       "    </tr>\n",
       "    <tr>\n",
       "      <th>184</th>\n",
       "      <td>7.196779</td>\n",
       "      <td>27.288652</td>\n",
       "      <td>61977.54</td>\n",
       "      <td>431990.70</td>\n",
       "    </tr>\n",
       "    <tr>\n",
       "      <th>185</th>\n",
       "      <td>76.203692</td>\n",
       "      <td>367.225653</td>\n",
       "      <td>977772.62</td>\n",
       "      <td>136717.57</td>\n",
       "    </tr>\n",
       "    <tr>\n",
       "      <th>186</th>\n",
       "      <td>10.804337</td>\n",
       "      <td>42.031199</td>\n",
       "      <td>41905.18</td>\n",
       "      <td>30008.81</td>\n",
       "    </tr>\n",
       "    <tr>\n",
       "      <th>187</th>\n",
       "      <td>10.705327</td>\n",
       "      <td>45.891477</td>\n",
       "      <td>87839.45</td>\n",
       "      <td>19420.34</td>\n",
       "    </tr>\n",
       "    <tr>\n",
       "      <th>188</th>\n",
       "      <td>51.800686</td>\n",
       "      <td>255.153235</td>\n",
       "      <td>445058.32</td>\n",
       "      <td>274752.60</td>\n",
       "    </tr>\n",
       "    <tr>\n",
       "      <th>189</th>\n",
       "      <td>5.882779</td>\n",
       "      <td>27.512271</td>\n",
       "      <td>127495.18</td>\n",
       "      <td>10315.35</td>\n",
       "    </tr>\n",
       "    <tr>\n",
       "      <th>190</th>\n",
       "      <td>6.686406</td>\n",
       "      <td>26.103097</td>\n",
       "      <td>23874.67</td>\n",
       "      <td>45252.42</td>\n",
       "    </tr>\n",
       "    <tr>\n",
       "      <th>191</th>\n",
       "      <td>5.833355</td>\n",
       "      <td>23.741603</td>\n",
       "      <td>21535.87</td>\n",
       "      <td>433832.28</td>\n",
       "    </tr>\n",
       "    <tr>\n",
       "      <th>192</th>\n",
       "      <td>45.556096</td>\n",
       "      <td>218.008350</td>\n",
       "      <td>276096.18</td>\n",
       "      <td>74215.43</td>\n",
       "    </tr>\n",
       "    <tr>\n",
       "      <th>193</th>\n",
       "      <td>5.172606</td>\n",
       "      <td>21.548782</td>\n",
       "      <td>8506.79</td>\n",
       "      <td>78137.29</td>\n",
       "    </tr>\n",
       "    <tr>\n",
       "      <th>194</th>\n",
       "      <td>10.118018</td>\n",
       "      <td>46.700709</td>\n",
       "      <td>49163.01</td>\n",
       "      <td>83915.72</td>\n",
       "    </tr>\n",
       "    <tr>\n",
       "      <th>195</th>\n",
       "      <td>51.675537</td>\n",
       "      <td>233.533189</td>\n",
       "      <td>434110.57</td>\n",
       "      <td>372240.72</td>\n",
       "    </tr>\n",
       "    <tr>\n",
       "      <th>196</th>\n",
       "      <td>2.794631</td>\n",
       "      <td>11.996118</td>\n",
       "      <td>73789.38</td>\n",
       "      <td>148021.90</td>\n",
       "    </tr>\n",
       "    <tr>\n",
       "      <th>197</th>\n",
       "      <td>7.611698</td>\n",
       "      <td>38.809973</td>\n",
       "      <td>88006.84</td>\n",
       "      <td>31184.18</td>\n",
       "    </tr>\n",
       "    <tr>\n",
       "      <th>198</th>\n",
       "      <td>15.697651</td>\n",
       "      <td>105.035207</td>\n",
       "      <td>117958.96</td>\n",
       "      <td>33324.36</td>\n",
       "    </tr>\n",
       "    <tr>\n",
       "      <th>199</th>\n",
       "      <td>50.275893</td>\n",
       "      <td>225.055138</td>\n",
       "      <td>407738.79</td>\n",
       "      <td>32079.13</td>\n",
       "    </tr>\n",
       "  </tbody>\n",
       "</table>\n",
       "<p>200 rows × 4 columns</p>\n",
       "</div>"
      ],
      "text/plain": [
       "     volume_sold  2015_margin  2015_q1_sales  2016_q1_sales\n",
       "0      18.420760    93.802281      337166.53      337804.05\n",
       "1       4.776510    21.082425       22351.86       21736.63\n",
       "2      16.602401    93.612494      277764.46      306942.27\n",
       "3       4.296111    16.824704       16805.11        9307.75\n",
       "4       8.156023    35.011457       54411.42       58939.90\n",
       "5       5.005122    31.877437      255939.81      332979.03\n",
       "6      14.606750    76.518973      319020.69      302592.88\n",
       "7       4.456466    19.337345       45340.33       55315.23\n",
       "8       5.047530    26.142470       57849.23       42398.57\n",
       "9       5.388070    22.427024       51031.04       56241.57\n",
       "10      9.347349    41.892133       68657.91        3536.14\n",
       "11     10.930398    66.403049        4151.93      137416.93\n",
       "12      6.270209    47.869324      121837.56      158476.55\n",
       "13     12.395919    86.760150      146725.31      125731.51\n",
       "14      4.557712    22.948176      119287.76       21834.49\n",
       "15      4.200122    18.706055       20335.03       39609.55\n",
       "16     10.252870    44.041177      110552.94      204038.87\n",
       "17     12.076785    62.199004      204237.78       15689.80\n",
       "18      3.725095    14.251810       16939.15       48545.69\n",
       "19      3.210727    16.043269       55498.12       16320.74\n",
       "20      6.290971    25.191171       15983.98       53182.55\n",
       "21      7.434821    31.753066       71758.66       30402.43\n",
       "22      4.376225    23.161451       62988.17       47217.40\n",
       "23     12.988913    48.820741       29637.75        6367.76\n",
       "24     11.697456    73.231504       48759.71      329252.09\n",
       "25      5.965175    23.450334       89736.70      332976.05\n",
       "26      3.945223    14.144793        5577.61      234926.02\n",
       "27      7.369585    36.408528      310035.66      151934.45\n",
       "28      7.343509    36.171862      310718.21      314068.92\n",
       "29     12.350027    59.893478      258284.84       61847.52\n",
       "..           ...          ...            ...            ...\n",
       "170     8.443932    37.407112       17232.45       19203.82\n",
       "171     5.151964    20.698042       21340.78       25302.92\n",
       "172     6.537069    22.888219       16617.85       18650.96\n",
       "173     8.500445    27.507729       21711.71       14626.29\n",
       "174     3.931543    21.811659       28128.95       46323.73\n",
       "175     6.163689    25.428521       21803.20      535381.86\n",
       "176     4.904447    19.568317       12517.29      812011.78\n",
       "177     7.402413    26.935335       53988.92      206247.57\n",
       "178    47.503269   235.730678      555707.40        6402.78\n",
       "179    55.739180   268.869600     1082136.01      100765.67\n",
       "180    11.840780    56.433388      192089.46       20098.61\n",
       "181     7.002294    26.440917        5574.99       68230.36\n",
       "182     8.753142    45.293847       80241.27      596063.00\n",
       "183     3.147741    15.594552       27043.54       87471.43\n",
       "184     7.196779    27.288652       61977.54      431990.70\n",
       "185    76.203692   367.225653      977772.62      136717.57\n",
       "186    10.804337    42.031199       41905.18       30008.81\n",
       "187    10.705327    45.891477       87839.45       19420.34\n",
       "188    51.800686   255.153235      445058.32      274752.60\n",
       "189     5.882779    27.512271      127495.18       10315.35\n",
       "190     6.686406    26.103097       23874.67       45252.42\n",
       "191     5.833355    23.741603       21535.87      433832.28\n",
       "192    45.556096   218.008350      276096.18       74215.43\n",
       "193     5.172606    21.548782        8506.79       78137.29\n",
       "194    10.118018    46.700709       49163.01       83915.72\n",
       "195    51.675537   233.533189      434110.57      372240.72\n",
       "196     2.794631    11.996118       73789.38      148021.90\n",
       "197     7.611698    38.809973       88006.84       31184.18\n",
       "198    15.697651   105.035207      117958.96       33324.36\n",
       "199    50.275893   225.055138      407738.79       32079.13\n",
       "\n",
       "[200 rows x 4 columns]"
      ]
     },
     "execution_count": 39,
     "metadata": {},
     "output_type": "execute_result"
    }
   ],
   "source": [
    "sales=pd.read_csv('/Users/Mahendra/desktop/GA/hw/2.2.1_eda-data_cleaning_intro-lesson/datasets/sales.csv')\n",
    "sales"
   ]
  },
  {
   "cell_type": "code",
   "execution_count": 40,
   "metadata": {
    "collapsed": false
   },
   "outputs": [
    {
     "data": {
      "text/plain": [
       "float64    4\n",
       "dtype: int64"
      ]
     },
     "execution_count": 40,
     "metadata": {},
     "output_type": "execute_result"
    }
   ],
   "source": [
    "sales.get_dtype_counts()"
   ]
  },
  {
   "cell_type": "code",
   "execution_count": 42,
   "metadata": {
    "collapsed": false
   },
   "outputs": [
    {
     "data": {
      "text/html": [
       "<div>\n",
       "<table border=\"1\" class=\"dataframe\">\n",
       "  <thead>\n",
       "    <tr style=\"text-align: right;\">\n",
       "      <th></th>\n",
       "      <th>volume_sold</th>\n",
       "      <th>2015_margin</th>\n",
       "      <th>2015_q1_sales</th>\n",
       "      <th>2016_q1_sales</th>\n",
       "    </tr>\n",
       "  </thead>\n",
       "  <tbody>\n",
       "    <tr>\n",
       "      <th>0</th>\n",
       "      <td>4.291941</td>\n",
       "      <td>9.685158</td>\n",
       "      <td>580.660426</td>\n",
       "      <td>581.209128</td>\n",
       "    </tr>\n",
       "    <tr>\n",
       "      <th>1</th>\n",
       "      <td>2.185523</td>\n",
       "      <td>4.591560</td>\n",
       "      <td>149.505385</td>\n",
       "      <td>147.433477</td>\n",
       "    </tr>\n",
       "    <tr>\n",
       "      <th>2</th>\n",
       "      <td>4.074604</td>\n",
       "      <td>9.675355</td>\n",
       "      <td>527.033642</td>\n",
       "      <td>554.023709</td>\n",
       "    </tr>\n",
       "    <tr>\n",
       "      <th>3</th>\n",
       "      <td>2.072706</td>\n",
       "      <td>4.101793</td>\n",
       "      <td>129.634525</td>\n",
       "      <td>96.476681</td>\n",
       "    </tr>\n",
       "    <tr>\n",
       "      <th>4</th>\n",
       "      <td>2.855875</td>\n",
       "      <td>5.917048</td>\n",
       "      <td>233.262556</td>\n",
       "      <td>242.775411</td>\n",
       "    </tr>\n",
       "    <tr>\n",
       "      <th>5</th>\n",
       "      <td>2.237213</td>\n",
       "      <td>5.646011</td>\n",
       "      <td>505.904942</td>\n",
       "      <td>577.043352</td>\n",
       "    </tr>\n",
       "    <tr>\n",
       "      <th>6</th>\n",
       "      <td>3.821878</td>\n",
       "      <td>8.747512</td>\n",
       "      <td>564.819166</td>\n",
       "      <td>550.084430</td>\n",
       "    </tr>\n",
       "    <tr>\n",
       "      <th>7</th>\n",
       "      <td>2.111034</td>\n",
       "      <td>4.397425</td>\n",
       "      <td>212.932689</td>\n",
       "      <td>235.191900</td>\n",
       "    </tr>\n",
       "    <tr>\n",
       "      <th>8</th>\n",
       "      <td>2.246671</td>\n",
       "      <td>5.112971</td>\n",
       "      <td>240.518669</td>\n",
       "      <td>205.909130</td>\n",
       "    </tr>\n",
       "    <tr>\n",
       "      <th>9</th>\n",
       "      <td>2.321222</td>\n",
       "      <td>4.735718</td>\n",
       "      <td>225.900509</td>\n",
       "      <td>237.153052</td>\n",
       "    </tr>\n",
       "    <tr>\n",
       "      <th>10</th>\n",
       "      <td>3.057343</td>\n",
       "      <td>6.472413</td>\n",
       "      <td>262.026544</td>\n",
       "      <td>59.465452</td>\n",
       "    </tr>\n",
       "    <tr>\n",
       "      <th>11</th>\n",
       "      <td>3.306115</td>\n",
       "      <td>8.148807</td>\n",
       "      <td>64.435472</td>\n",
       "      <td>370.697896</td>\n",
       "    </tr>\n",
       "    <tr>\n",
       "      <th>12</th>\n",
       "      <td>2.504038</td>\n",
       "      <td>6.918766</td>\n",
       "      <td>349.052374</td>\n",
       "      <td>398.091133</td>\n",
       "    </tr>\n",
       "    <tr>\n",
       "      <th>13</th>\n",
       "      <td>3.520784</td>\n",
       "      <td>9.314513</td>\n",
       "      <td>383.047399</td>\n",
       "      <td>354.586393</td>\n",
       "    </tr>\n",
       "    <tr>\n",
       "      <th>14</th>\n",
       "      <td>2.134880</td>\n",
       "      <td>4.790425</td>\n",
       "      <td>345.380602</td>\n",
       "      <td>147.764982</td>\n",
       "    </tr>\n",
       "    <tr>\n",
       "      <th>15</th>\n",
       "      <td>2.049420</td>\n",
       "      <td>4.325050</td>\n",
       "      <td>142.600947</td>\n",
       "      <td>199.021481</td>\n",
       "    </tr>\n",
       "    <tr>\n",
       "      <th>16</th>\n",
       "      <td>3.202010</td>\n",
       "      <td>6.636353</td>\n",
       "      <td>332.495023</td>\n",
       "      <td>451.706619</td>\n",
       "    </tr>\n",
       "    <tr>\n",
       "      <th>17</th>\n",
       "      <td>3.475167</td>\n",
       "      <td>7.886635</td>\n",
       "      <td>451.926742</td>\n",
       "      <td>125.258932</td>\n",
       "    </tr>\n",
       "    <tr>\n",
       "      <th>18</th>\n",
       "      <td>1.930051</td>\n",
       "      <td>3.775157</td>\n",
       "      <td>130.150490</td>\n",
       "      <td>220.330865</td>\n",
       "    </tr>\n",
       "    <tr>\n",
       "      <th>19</th>\n",
       "      <td>1.791850</td>\n",
       "      <td>4.005405</td>\n",
       "      <td>235.580390</td>\n",
       "      <td>127.752652</td>\n",
       "    </tr>\n",
       "    <tr>\n",
       "      <th>20</th>\n",
       "      <td>2.508181</td>\n",
       "      <td>5.019081</td>\n",
       "      <td>126.427766</td>\n",
       "      <td>230.613421</td>\n",
       "    </tr>\n",
       "    <tr>\n",
       "      <th>21</th>\n",
       "      <td>2.726687</td>\n",
       "      <td>5.634986</td>\n",
       "      <td>267.878069</td>\n",
       "      <td>174.362926</td>\n",
       "    </tr>\n",
       "    <tr>\n",
       "      <th>22</th>\n",
       "      <td>2.091943</td>\n",
       "      <td>4.812635</td>\n",
       "      <td>250.974441</td>\n",
       "      <td>217.295651</td>\n",
       "    </tr>\n",
       "    <tr>\n",
       "      <th>23</th>\n",
       "      <td>3.604013</td>\n",
       "      <td>6.987184</td>\n",
       "      <td>172.156179</td>\n",
       "      <td>79.798246</td>\n",
       "    </tr>\n",
       "    <tr>\n",
       "      <th>24</th>\n",
       "      <td>3.420154</td>\n",
       "      <td>8.557541</td>\n",
       "      <td>220.816009</td>\n",
       "      <td>573.804923</td>\n",
       "    </tr>\n",
       "    <tr>\n",
       "      <th>25</th>\n",
       "      <td>2.442371</td>\n",
       "      <td>4.842554</td>\n",
       "      <td>299.560845</td>\n",
       "      <td>577.040770</td>\n",
       "    </tr>\n",
       "    <tr>\n",
       "      <th>26</th>\n",
       "      <td>1.986258</td>\n",
       "      <td>3.760956</td>\n",
       "      <td>74.683398</td>\n",
       "      <td>484.691675</td>\n",
       "    </tr>\n",
       "    <tr>\n",
       "      <th>27</th>\n",
       "      <td>2.714698</td>\n",
       "      <td>6.033948</td>\n",
       "      <td>556.808459</td>\n",
       "      <td>389.787699</td>\n",
       "    </tr>\n",
       "    <tr>\n",
       "      <th>28</th>\n",
       "      <td>2.709891</td>\n",
       "      <td>6.014305</td>\n",
       "      <td>557.421035</td>\n",
       "      <td>560.418522</td>\n",
       "    </tr>\n",
       "    <tr>\n",
       "      <th>29</th>\n",
       "      <td>3.514261</td>\n",
       "      <td>7.739088</td>\n",
       "      <td>508.217316</td>\n",
       "      <td>248.691616</td>\n",
       "    </tr>\n",
       "    <tr>\n",
       "      <th>...</th>\n",
       "      <td>...</td>\n",
       "      <td>...</td>\n",
       "      <td>...</td>\n",
       "      <td>...</td>\n",
       "    </tr>\n",
       "    <tr>\n",
       "      <th>170</th>\n",
       "      <td>2.905845</td>\n",
       "      <td>6.116135</td>\n",
       "      <td>131.272427</td>\n",
       "      <td>138.577848</td>\n",
       "    </tr>\n",
       "    <tr>\n",
       "      <th>171</th>\n",
       "      <td>2.269794</td>\n",
       "      <td>4.549510</td>\n",
       "      <td>146.084838</td>\n",
       "      <td>159.068916</td>\n",
       "    </tr>\n",
       "    <tr>\n",
       "      <th>172</th>\n",
       "      <td>2.556769</td>\n",
       "      <td>4.784163</td>\n",
       "      <td>128.910240</td>\n",
       "      <td>136.568518</td>\n",
       "    </tr>\n",
       "    <tr>\n",
       "      <th>173</th>\n",
       "      <td>2.915552</td>\n",
       "      <td>5.244781</td>\n",
       "      <td>147.348940</td>\n",
       "      <td>120.939200</td>\n",
       "    </tr>\n",
       "    <tr>\n",
       "      <th>174</th>\n",
       "      <td>1.982812</td>\n",
       "      <td>4.670295</td>\n",
       "      <td>167.716875</td>\n",
       "      <td>215.229482</td>\n",
       "    </tr>\n",
       "    <tr>\n",
       "      <th>175</th>\n",
       "      <td>2.482678</td>\n",
       "      <td>5.042670</td>\n",
       "      <td>147.659067</td>\n",
       "      <td>731.697929</td>\n",
       "    </tr>\n",
       "    <tr>\n",
       "      <th>176</th>\n",
       "      <td>2.214599</td>\n",
       "      <td>4.423609</td>\n",
       "      <td>111.880695</td>\n",
       "      <td>901.116962</td>\n",
       "    </tr>\n",
       "    <tr>\n",
       "      <th>177</th>\n",
       "      <td>2.720738</td>\n",
       "      <td>5.189926</td>\n",
       "      <td>232.355159</td>\n",
       "      <td>454.144878</td>\n",
       "    </tr>\n",
       "    <tr>\n",
       "      <th>178</th>\n",
       "      <td>6.892262</td>\n",
       "      <td>15.353523</td>\n",
       "      <td>745.457846</td>\n",
       "      <td>80.017373</td>\n",
       "    </tr>\n",
       "    <tr>\n",
       "      <th>179</th>\n",
       "      <td>7.465868</td>\n",
       "      <td>16.397244</td>\n",
       "      <td>1040.257665</td>\n",
       "      <td>317.436088</td>\n",
       "    </tr>\n",
       "    <tr>\n",
       "      <th>180</th>\n",
       "      <td>3.441043</td>\n",
       "      <td>7.512216</td>\n",
       "      <td>438.280116</td>\n",
       "      <td>141.769567</td>\n",
       "    </tr>\n",
       "    <tr>\n",
       "      <th>181</th>\n",
       "      <td>2.646185</td>\n",
       "      <td>5.142073</td>\n",
       "      <td>74.665856</td>\n",
       "      <td>261.209418</td>\n",
       "    </tr>\n",
       "    <tr>\n",
       "      <th>182</th>\n",
       "      <td>2.958571</td>\n",
       "      <td>6.730070</td>\n",
       "      <td>283.268901</td>\n",
       "      <td>772.051164</td>\n",
       "    </tr>\n",
       "    <tr>\n",
       "      <th>183</th>\n",
       "      <td>1.774188</td>\n",
       "      <td>3.948994</td>\n",
       "      <td>164.449202</td>\n",
       "      <td>295.755693</td>\n",
       "    </tr>\n",
       "    <tr>\n",
       "      <th>184</th>\n",
       "      <td>2.682681</td>\n",
       "      <td>5.223854</td>\n",
       "      <td>248.952887</td>\n",
       "      <td>657.259994</td>\n",
       "    </tr>\n",
       "    <tr>\n",
       "      <th>185</th>\n",
       "      <td>8.729473</td>\n",
       "      <td>19.163133</td>\n",
       "      <td>988.823857</td>\n",
       "      <td>369.753391</td>\n",
       "    </tr>\n",
       "    <tr>\n",
       "      <th>186</th>\n",
       "      <td>3.286995</td>\n",
       "      <td>6.483147</td>\n",
       "      <td>204.707547</td>\n",
       "      <td>173.230511</td>\n",
       "    </tr>\n",
       "    <tr>\n",
       "      <th>187</th>\n",
       "      <td>3.271900</td>\n",
       "      <td>6.774325</td>\n",
       "      <td>296.377209</td>\n",
       "      <td>139.356880</td>\n",
       "    </tr>\n",
       "    <tr>\n",
       "      <th>188</th>\n",
       "      <td>7.197269</td>\n",
       "      <td>15.973517</td>\n",
       "      <td>667.126914</td>\n",
       "      <td>524.168484</td>\n",
       "    </tr>\n",
       "    <tr>\n",
       "      <th>189</th>\n",
       "      <td>2.425444</td>\n",
       "      <td>5.245214</td>\n",
       "      <td>357.064672</td>\n",
       "      <td>101.564512</td>\n",
       "    </tr>\n",
       "    <tr>\n",
       "      <th>190</th>\n",
       "      <td>2.585809</td>\n",
       "      <td>5.109119</td>\n",
       "      <td>154.514304</td>\n",
       "      <td>212.726162</td>\n",
       "    </tr>\n",
       "    <tr>\n",
       "      <th>191</th>\n",
       "      <td>2.415234</td>\n",
       "      <td>4.872536</td>\n",
       "      <td>146.751048</td>\n",
       "      <td>658.659457</td>\n",
       "    </tr>\n",
       "    <tr>\n",
       "      <th>192</th>\n",
       "      <td>6.749526</td>\n",
       "      <td>14.765106</td>\n",
       "      <td>525.448551</td>\n",
       "      <td>272.425091</td>\n",
       "    </tr>\n",
       "    <tr>\n",
       "      <th>193</th>\n",
       "      <td>2.274336</td>\n",
       "      <td>4.642067</td>\n",
       "      <td>92.232261</td>\n",
       "      <td>279.530481</td>\n",
       "    </tr>\n",
       "    <tr>\n",
       "      <th>194</th>\n",
       "      <td>3.180883</td>\n",
       "      <td>6.833792</td>\n",
       "      <td>221.727333</td>\n",
       "      <td>289.682102</td>\n",
       "    </tr>\n",
       "    <tr>\n",
       "      <th>195</th>\n",
       "      <td>7.188570</td>\n",
       "      <td>15.281793</td>\n",
       "      <td>658.870678</td>\n",
       "      <td>610.115333</td>\n",
       "    </tr>\n",
       "    <tr>\n",
       "      <th>196</th>\n",
       "      <td>1.671715</td>\n",
       "      <td>3.463541</td>\n",
       "      <td>271.642007</td>\n",
       "      <td>384.736143</td>\n",
       "    </tr>\n",
       "    <tr>\n",
       "      <th>197</th>\n",
       "      <td>2.758931</td>\n",
       "      <td>6.229765</td>\n",
       "      <td>296.659468</td>\n",
       "      <td>176.590430</td>\n",
       "    </tr>\n",
       "    <tr>\n",
       "      <th>198</th>\n",
       "      <td>3.962026</td>\n",
       "      <td>10.248669</td>\n",
       "      <td>343.451540</td>\n",
       "      <td>182.549610</td>\n",
       "    </tr>\n",
       "    <tr>\n",
       "      <th>199</th>\n",
       "      <td>7.090550</td>\n",
       "      <td>15.001838</td>\n",
       "      <td>638.544274</td>\n",
       "      <td>179.106477</td>\n",
       "    </tr>\n",
       "  </tbody>\n",
       "</table>\n",
       "<p>200 rows × 4 columns</p>\n",
       "</div>"
      ],
      "text/plain": [
       "     volume_sold  2015_margin  2015_q1_sales  2016_q1_sales\n",
       "0       4.291941     9.685158     580.660426     581.209128\n",
       "1       2.185523     4.591560     149.505385     147.433477\n",
       "2       4.074604     9.675355     527.033642     554.023709\n",
       "3       2.072706     4.101793     129.634525      96.476681\n",
       "4       2.855875     5.917048     233.262556     242.775411\n",
       "5       2.237213     5.646011     505.904942     577.043352\n",
       "6       3.821878     8.747512     564.819166     550.084430\n",
       "7       2.111034     4.397425     212.932689     235.191900\n",
       "8       2.246671     5.112971     240.518669     205.909130\n",
       "9       2.321222     4.735718     225.900509     237.153052\n",
       "10      3.057343     6.472413     262.026544      59.465452\n",
       "11      3.306115     8.148807      64.435472     370.697896\n",
       "12      2.504038     6.918766     349.052374     398.091133\n",
       "13      3.520784     9.314513     383.047399     354.586393\n",
       "14      2.134880     4.790425     345.380602     147.764982\n",
       "15      2.049420     4.325050     142.600947     199.021481\n",
       "16      3.202010     6.636353     332.495023     451.706619\n",
       "17      3.475167     7.886635     451.926742     125.258932\n",
       "18      1.930051     3.775157     130.150490     220.330865\n",
       "19      1.791850     4.005405     235.580390     127.752652\n",
       "20      2.508181     5.019081     126.427766     230.613421\n",
       "21      2.726687     5.634986     267.878069     174.362926\n",
       "22      2.091943     4.812635     250.974441     217.295651\n",
       "23      3.604013     6.987184     172.156179      79.798246\n",
       "24      3.420154     8.557541     220.816009     573.804923\n",
       "25      2.442371     4.842554     299.560845     577.040770\n",
       "26      1.986258     3.760956      74.683398     484.691675\n",
       "27      2.714698     6.033948     556.808459     389.787699\n",
       "28      2.709891     6.014305     557.421035     560.418522\n",
       "29      3.514261     7.739088     508.217316     248.691616\n",
       "..           ...          ...            ...            ...\n",
       "170     2.905845     6.116135     131.272427     138.577848\n",
       "171     2.269794     4.549510     146.084838     159.068916\n",
       "172     2.556769     4.784163     128.910240     136.568518\n",
       "173     2.915552     5.244781     147.348940     120.939200\n",
       "174     1.982812     4.670295     167.716875     215.229482\n",
       "175     2.482678     5.042670     147.659067     731.697929\n",
       "176     2.214599     4.423609     111.880695     901.116962\n",
       "177     2.720738     5.189926     232.355159     454.144878\n",
       "178     6.892262    15.353523     745.457846      80.017373\n",
       "179     7.465868    16.397244    1040.257665     317.436088\n",
       "180     3.441043     7.512216     438.280116     141.769567\n",
       "181     2.646185     5.142073      74.665856     261.209418\n",
       "182     2.958571     6.730070     283.268901     772.051164\n",
       "183     1.774188     3.948994     164.449202     295.755693\n",
       "184     2.682681     5.223854     248.952887     657.259994\n",
       "185     8.729473    19.163133     988.823857     369.753391\n",
       "186     3.286995     6.483147     204.707547     173.230511\n",
       "187     3.271900     6.774325     296.377209     139.356880\n",
       "188     7.197269    15.973517     667.126914     524.168484\n",
       "189     2.425444     5.245214     357.064672     101.564512\n",
       "190     2.585809     5.109119     154.514304     212.726162\n",
       "191     2.415234     4.872536     146.751048     658.659457\n",
       "192     6.749526    14.765106     525.448551     272.425091\n",
       "193     2.274336     4.642067      92.232261     279.530481\n",
       "194     3.180883     6.833792     221.727333     289.682102\n",
       "195     7.188570    15.281793     658.870678     610.115333\n",
       "196     1.671715     3.463541     271.642007     384.736143\n",
       "197     2.758931     6.229765     296.659468     176.590430\n",
       "198     3.962026    10.248669     343.451540     182.549610\n",
       "199     7.090550    15.001838     638.544274     179.106477\n",
       "\n",
       "[200 rows x 4 columns]"
      ]
     },
     "execution_count": 42,
     "metadata": {},
     "output_type": "execute_result"
    }
   ],
   "source": [
    "#squarertto of all the coumns\n",
    "sales.apply(np.sqrt)"
   ]
  },
  {
   "cell_type": "code",
   "execution_count": 45,
   "metadata": {
    "collapsed": false
   },
   "outputs": [
    {
     "data": {
      "text/plain": [
       "volume_sold          10.018684\n",
       "2015_margin          46.858895\n",
       "2015_q1_sales    154631.668200\n",
       "2016_q1_sales    154699.178750\n",
       "dtype: float64"
      ]
     },
     "execution_count": 45,
     "metadata": {},
     "output_type": "execute_result"
    }
   ],
   "source": [
    "sales.apply(np.mean,axis=0)"
   ]
  },
  {
   "cell_type": "code",
   "execution_count": 47,
   "metadata": {
    "collapsed": false
   },
   "outputs": [
    {
     "data": {
      "text/plain": [
       "16.059971    1\n",
       "6.654407     1\n",
       "7.437252     1\n",
       "4.200122     1\n",
       "6.657733     1\n",
       "12.455723    1\n",
       "45.556096    1\n",
       "4.385455     1\n",
       "10.804337    1\n",
       "10.270185    1\n",
       "6.163689     1\n",
       "7.790503     1\n",
       "7.560549     1\n",
       "5.778097     1\n",
       "8.300180     1\n",
       "6.537069     1\n",
       "6.433606     1\n",
       "4.776510     1\n",
       "10.186622    1\n",
       "7.101347     1\n",
       "11.975769    1\n",
       "50.275893    1\n",
       "3.210727     1\n",
       "11.684510    1\n",
       "9.292241     1\n",
       "6.618174     1\n",
       "5.906274     1\n",
       "5.047530     1\n",
       "4.376225     1\n",
       "8.751920     1\n",
       "            ..\n",
       "47.503269    1\n",
       "5.214882     1\n",
       "18.420760    1\n",
       "8.622686     1\n",
       "10.930398    1\n",
       "9.003562     1\n",
       "10.252870    1\n",
       "6.630904     1\n",
       "4.941294     1\n",
       "7.369585     1\n",
       "7.785867     1\n",
       "29.878030    1\n",
       "10.331430    1\n",
       "9.313785     1\n",
       "11.997117    1\n",
       "14.439435    1\n",
       "12.509967    1\n",
       "7.754457     1\n",
       "12.350027    1\n",
       "5.388070     1\n",
       "8.555078     1\n",
       "11.840780    1\n",
       "5.723896     1\n",
       "4.456466     1\n",
       "12.395919    1\n",
       "9.348477     1\n",
       "5.781266     1\n",
       "7.585997     1\n",
       "5.095464     1\n",
       "9.849660     1\n",
       "Name: volume_sold, dtype: int64"
      ]
     },
     "execution_count": 47,
     "metadata": {},
     "output_type": "execute_result"
    }
   ],
   "source": [
    "pd.value_counts(sales['volume_sold'])"
   ]
  },
  {
   "cell_type": "code",
   "execution_count": null,
   "metadata": {
    "collapsed": true
   },
   "outputs": [],
   "source": []
  }
 ],
 "metadata": {
  "anaconda-cloud": {},
  "celltoolbar": "Slideshow",
  "kernelspec": {
   "display_name": "Python 2",
   "language": "python",
   "name": "python2"
  },
  "language_info": {
   "codemirror_mode": {
    "name": "ipython",
    "version": 2
   },
   "file_extension": ".py",
   "mimetype": "text/x-python",
   "name": "python",
   "nbconvert_exporter": "python",
   "pygments_lexer": "ipython2",
   "version": "2.7.13"
  }
 },
 "nbformat": 4,
 "nbformat_minor": 0
}
