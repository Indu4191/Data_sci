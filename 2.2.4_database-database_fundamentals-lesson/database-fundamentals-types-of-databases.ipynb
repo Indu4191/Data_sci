{
 "cells": [
  {
   "cell_type": "markdown",
   "metadata": {
    "slideshow": {
     "slide_type": "notes"
    }
   },
   "source": [
    "> **Jupyter slideshow:** This notebook can be displayed as slides. To view it as a slideshow in your browser type in the console:\n",
    "\n",
    "\n",
    "> `> ipython nbconvert [this_notebook.ipynb] --to slides --post serve`\n",
    "\n",
    "\n",
    "> To toggle off the slideshow cell formatting, click the `CellToolbar` button, then `View --> Cell Toolbar --> None`"
   ]
  },
  {
   "cell_type": "markdown",
   "metadata": {
    "slideshow": {
     "slide_type": "slide"
    }
   },
   "source": [
    "<img src=\"http://imgur.com/1ZcRyrc.png\" style=\"float: left; margin: 20px; height: 55px\">\n",
    "\n",
    "# Database Fundamentals and Types of Databases\n",
    "\n",
    "_Authors: Dave Yerrington (SF)_\n",
    "\n",
    "---\n",
    "\n",
    "### Learning Objectives\n",
    "\n",
    "*After this lesson, you will be able to:*\n",
    "- Explain RDBMS fundamentals\n",
    "- Describe what SQL and noSQL mean\n",
    "- Describe tradeoffs between SQL and noSQL\n",
    "- Identify remote vs local database instances"
   ]
  },
  {
   "cell_type": "markdown",
   "metadata": {
    "slideshow": {
     "slide_type": "slide"
    }
   },
   "source": [
    "### Prerequisites\n",
    "*Before this lesson, you should already be able to:*\n",
    "- Work with CSV and json files\n",
    "- Use Python dictionaries and pandas DataFrames\n",
    "- Transfer data from/to CSV and/or json"
   ]
  },
  {
   "cell_type": "markdown",
   "metadata": {
    "slideshow": {
     "slide_type": "slide"
    }
   },
   "source": [
    "### Lesson Guide\n",
    "\n",
    "- [Opening](#opening)\n",
    "- [Intro to Relational Databases](#introduction)\n",
    "    - [Transactional integrity](#transactional-integrity)\n",
    "    - [ACID](#acid)\n",
    "    - [Relational databases](#relational-database)\n",
    "    - [Schemas](#schemas)\n",
    "    - [Entity relation diagram (ERD)](#erd)\n",
    "- [Design a relational database](#guided_practice_1)\n",
    "- [Alternative databases](#alternative-databases)\n",
    "    - [Key-value stores](#key-value)\n",
    "    - [NoSQL](#nosql)\n",
    "    - [Timeseries databases (TSDB)](#tsdb)\n",
    "    - [Graph databases](#graph-db)\n",
    "- [BASE](#base)\n",
    "- [Conclusion](#conclusion)\n"
   ]
  },
  {
   "cell_type": "markdown",
   "metadata": {
    "slideshow": {
     "slide_type": "slide"
    }
   },
   "source": [
    "## Who has used relational databases and/or non-relational databases (noSQL)?"
   ]
  },
  {
   "cell_type": "markdown",
   "metadata": {
    "slideshow": {
     "slide_type": "fragment"
    }
   },
   "source": [
    "### How is this different than a Pandas DataFrame?"
   ]
  },
  {
   "cell_type": "markdown",
   "metadata": {
    "slideshow": {
     "slide_type": "slide"
    }
   },
   "source": [
    "<a name=\"opening\"></a>\n",
    "## Opening\n",
    "\n",
    "---\n",
    "\n",
    "Up to this point, we have used DataFrames and sourced from CSV files or json files for our data.\n",
    "\n",
    "Mainly, these solutions lack:\n",
    "- **Fault tolerence**\n",
    "- **Performance / Scalability**\n",
    "- **Interactive Features**\n",
    "\n",
    "Databases are the standard solution for data storage and are much more robust than text, CSV or json files. Most analyses involve using data in some format and in most settings, a database is the tool of choice.\n",
    "\n",
    "Databases can come in many flavors, designed to serve different use cases. We will survey few applications and explore the most common families of databases: \n",
    "- **Relational (RDBMS)** \n",
    "- **non-Relational (noSQL)**"
   ]
  },
  {
   "cell_type": "markdown",
   "metadata": {
    "slideshow": {
     "slide_type": "slide"
    }
   },
   "source": [
    "### Skill prevalence in the DS job market\n",
    "_Circa December 2015 - Frequency of Terms related to \"Data Scientist\" on Indeed.com_\n",
    "![](https://snag.gy/Gweik7.jpg)"
   ]
  },
  {
   "cell_type": "markdown",
   "metadata": {
    "slideshow": {
     "slide_type": "slide"
    }
   },
   "source": [
    "<a name=\"introduction\"></a>\n",
    "\n",
    "## Intro to Relational Database Systems (RDBMS)\n",
    "\n",
    "---\n",
    "\n",
    "Databases are computer systems that manage storage and querying of data. Databases provide a way to organize data along with efficient methods to retrieve specific information.\n",
    "\n",
    "Typically, retrieval is performed using structured query lanaguge (SQL), with many operators for conditional selection, aggregation, joining/merging, and data transformation.  \n",
    "\n",
    "**Many of these concepts we've already explored using Pandas DataFrames!**\n",
    "\n",
    "Databases allow users to create rules that ensure proper data management and verification."
   ]
  },
  {
   "cell_type": "markdown",
   "metadata": {
    "slideshow": {
     "slide_type": "slide"
    }
   },
   "source": [
    "### Industry example: bank data\n",
    "\n",
    "Consider the case of a bank. It needs to keep track of all the money in each of its clients' accounts. Let's suppose that the bank stores these as numbers in a table with two columns:\n",
    "\n",
    "| ACCOUNT_ID | BALANCE |\n",
    "|---|---|\n",
    "| 1 | 10.000 |\n",
    "| 2 | 12.546 |\n",
    "| 3 | 8761 |\n",
    "|...|...|\n",
    "\n",
    "** If this table was stored in a file in a central bank, how would internet banking look like? What problems could arise?**"
   ]
  },
  {
   "cell_type": "markdown",
   "metadata": {
    "slideshow": {
     "slide_type": "notes"
    }
   },
   "source": [
    "Notice problems of:\n",
    "- consistency (what if two nodes try to read/edit the file at the same time?)\n",
    "- availability (what if a node is not connected to the central bank?)\n",
    "- partition tolerance (what if only part of the file is available?)\n",
    "- scale (what if too many nodes request data from the file at the same time?)"
   ]
  },
  {
   "cell_type": "markdown",
   "metadata": {
    "slideshow": {
     "slide_type": "fragment"
    }
   },
   "source": [
    "As you may have realized, when multiple processes/users are interacting with the same data, it quickly becomes impractical to store it in a single file on a single machine. That's when a database comes in."
   ]
  },
  {
   "cell_type": "markdown",
   "metadata": {
    "slideshow": {
     "slide_type": "slide"
    }
   },
   "source": [
    "<a id='transactional-integrity'></a>\n",
    "\n",
    "### Transactional Integrity\n",
    "\n",
    "**A unit of work performed against a database is called a _transaction_.**\n",
    "\n",
    "This term generally represents any change to a database.\n",
    "\n",
    "Going back to the bank example, consider the case where you want to transfer money from an account to another.\n",
    "\n",
    "![Transaction](./assets/images/transaction.png)"
   ]
  },
  {
   "cell_type": "markdown",
   "metadata": {
    "slideshow": {
     "slide_type": "notes"
    }
   },
   "source": [
    "**Imagine your money in this system:**\n",
    "- What happens if step 1 succeeds and step 2 fails ?\n",
    "- What if you request the balance between step 1 and step2 ?"
   ]
  },
  {
   "cell_type": "markdown",
   "metadata": {
    "slideshow": {
     "slide_type": "fragment"
    }
   },
   "source": [
    "The system that stores the data must be resilient to these problems. It must know:\n",
    "- when a transaction begins\n",
    "- when a transaction ends\n",
    "- what to do if a transaction never ends \n",
    "- and what to do if another transaction is requested while the previous one is still in process"
   ]
  },
  {
   "cell_type": "markdown",
   "metadata": {
    "slideshow": {
     "slide_type": "slide"
    }
   },
   "source": [
    "<a id='acid'></a>\n",
    "\n",
    "### ACID\n",
    "\n",
    "![](https://snag.gy/kp5Rqi.jpg)\n",
    "\n",
    "The acronym ACID stands for Atomicity, Consistency, Isolation, Durability. This is a set of properties that guarantee  database transactions are processed reliably.\n",
    "\n",
    "**Atomicity** requires that each transaction be \"all or nothing\": if one part of the transaction fails, the entire transaction fails, and the database state is left unchanged.\n",
    "\n",
    "**Consistency** ensures that any transaction will bring the database from one valid state to another. Any data written to the database must be valid according to all defined rules, including constraints, cascades, triggers, and any combination thereof.\n",
    "\n",
    "**Isolation** ensures that the concurrent execution of transactions results in a system state that would be obtained if transactions were executed serially, i.e., one after the other.\n",
    "\n",
    "**Durability** ensures that once a transaction has been committed, it will remain so, even in the event of power loss, crashes, or errors. In a relational database, for instance, once a group of SQL statements execute, the results need to be stored permanently (even if the database crashes immediately thereafter)\n",
    "\n",
    "**This is the typical model under which _relational databases_ operate**. These guarantees would work perfectly for the example bank.\n"
   ]
  },
  {
   "cell_type": "markdown",
   "metadata": {
    "slideshow": {
     "slide_type": "slide"
    }
   },
   "source": [
    "<a id='relational-databases'></a>\n",
    "\n",
    "### Relational Databases\n",
    "\n",
    "**A _relational database_ is a database of tabular data and links between data entities or concepts.** Typically, a relational database is organized into _tables_. Each table should correspond to one entity or concept. Each _table_ is similar to a single CSV file or Pandas dataframe.\n",
    "\n",
    "For example, let's take a sample application like Twitter. Our two main entities are Users and Tweets. For each of these we would have a table.\n",
    "\n",
    "| TWEET_ID | USER_ID | TWEET_TEXT |\n",
    "|---|---|---|\n",
    "| 5234 | 1234567 | \"Ate an entire pound of bacon this morning.  My arteries are ready to start the day.\" |\n",
    "| 2351 | 4529234 | \"Spock vs Chewbaka.  My definitive fan fiction chronicles a potential outcome.\" |\n",
    "| 5521 | 2348902932 | \"OMG Kardashians + Bieber convolutional network mashup madness.\" |\n",
    "|...|...|...|\n",
    "\n",
    "| USER_ID | USERNAME |\n",
    "|---|---|\n",
    "| 1234567 | \"dyerrington\" |\n",
    "| 4529234 | \"kieferk\" |\n",
    "| 2348902932 | \"stoneyv\" |\n",
    "|...|...|\n",
    "\n",
    "A table is made up rows and columns, similar to a Pandas dataframe or Excel spreadsheet.  It's standard practice in relational database design to segment your data.  Rather than have a third column with \"username\" in every single row of the tweets table, we can simply reference a username by \"ID\".  This saves a lot of space if you have a table with billions of records."
   ]
  },
  {
   "cell_type": "markdown",
   "metadata": {
    "slideshow": {
     "slide_type": "slide"
    }
   },
   "source": [
    "<a id='schemas'></a>\n",
    "\n",
    "### A quick note on \"Schemas\"\n",
    "\n",
    "The term **\"schema\"** can mean different things depending on which flavor of database you are talking about (MySQL, Postgres, Oracle, MSSQL).  Generally, the definition that we will accept for this class is:\n",
    "\n",
    ">A **schema** is a collection of database objects which includes logical structures.\n",
    "\n",
    "Including:\n",
    "\n",
    "- Databases\n",
    "- Tables\n",
    "- Relationships Between Tables\n",
    "- Keys and Indexes\n",
    "\n",
    "We will talk more about these soon."
   ]
  },
  {
   "cell_type": "markdown",
   "metadata": {
    "slideshow": {
     "slide_type": "slide"
    }
   },
   "source": [
    "![](https://snag.gy/Qzhvdp.jpg)"
   ]
  },
  {
   "cell_type": "markdown",
   "metadata": {
    "slideshow": {
     "slide_type": "slide"
    }
   },
   "source": [
    "## Who remembers what happens with dtypes in a DataFrame?\n",
    "\n",
    "```python\n",
    "data = [\n",
    "   [1, 34, \"2004-12-31\", 55],\n",
    "   [0, 34, \"2004-12-31\", 55],\n",
    "   ['?', np.nan, \"2004-12-31\", 55],\n",
    "   [1, 34, \"2004-12-31\", 55],\n",
    "   [1, 34, \"2004-12-31\", 5.5],\n",
    "]\n",
    "df = pd.DataFrame(data)\n",
    "\n",
    "```"
   ]
  },
  {
   "cell_type": "markdown",
   "metadata": {
    "slideshow": {
     "slide_type": "slide"
    }
   },
   "source": [
    "###  Relational Database Schemas\n",
    "\n",
    "A table can also be refered to as a _schema_ which defines how data will be managed and contained. \n",
    "\n",
    "Table schemas define:\n",
    "\n",
    "- Column definitions\n",
    "  - Type\n",
    "  - Length\n",
    "- Indexes\n",
    "  - Unique constraints\n",
    "- Keys\n",
    "  - Auto-increment behavior\n",
    "  - Relationships to other tables\n",
    "    - Primary \n",
    "    - Foreign\n",
    "\n",
    "These specify what columns are contained in the table and what _type_ those columns are (text, integers, floats, etc.).\n",
    "\n",
    "**The addition of _type_ information make this constraint stronger than a CSV file. For this reason, and many others, databases allow for stronger data consistency and often are a better solution for data storage.**"
   ]
  },
  {
   "cell_type": "markdown",
   "metadata": {
    "slideshow": {
     "slide_type": "slide"
    }
   },
   "source": [
    "**Each table typically has a _primary key_ column. This column is a unique value per row and serves as the identifier for the row.**\n",
    "\n",
    "A table can have many _foreign keys_ as well. **A _foreign key_ is a column that contains values to link the table to the other tables.** For example, the tweets table may have as columns:\n",
    "- tweet_id, the primary key tweet identifier\n",
    "- the tweet text\n",
    "- the user id of the member, a foreign key to the users table\n",
    "\n",
    "| _Primary Key_ | _Foreign Key_ | |\n",
    "|---|---|---|\n",
    "| **TWEET_ID** | **USER_ID** | **TWEET_TEXT** |\n",
    "|---|---|---|\n",
    "| 5234 | 1234567 | \"Ate an entire pound of bacon this morning.  My arteries are ready to start the day.\" |\n",
    "| 2351 | 4529234 | \"Spock vs Chewbaka.  My definitive fan fiction chronicles a potential outcome.\" |\n",
    "| 5521 | 2348902932 | \"OMG Kardashians + Bieber convolutional network mashup madness.\" |\n",
    "|...|...|...|\n",
    "\n",
    "These keys that link the table together define the relational database.\n",
    "\n",
    "MySQL and Postgres are popular variants of relational databases and are widely used. Both of these are open-source so are available for free.\n",
    "\n",
    "Alternatively, many larger companies may use Oracle or Microsoft SQL databases. While these all offer many of the same features (and use SQL as a query language), the latter also offer some maintenance features that large companies find useful."
   ]
  },
  {
   "cell_type": "markdown",
   "metadata": {
    "slideshow": {
     "slide_type": "slide"
    }
   },
   "source": [
    "<a id='erd'></a>\n",
    "\n",
    "### An Entity Relation Diagram (ERD)\n",
    "\n",
    "![](https://snag.gy/QsBNnS.jpg)"
   ]
  },
  {
   "cell_type": "markdown",
   "metadata": {
    "slideshow": {
     "slide_type": "slide"
    }
   },
   "source": [
    "<a name=\"guided_practice_1\"></a>\n",
    "\n",
    "## Design a relational database\n",
    "\n",
    "---\n",
    "\n",
    "Consider the following dataset from Uber with the follow fields:\n",
    "    - User ID\n",
    "    - User Name\n",
    "    - Driver ID\n",
    "    - Driver Name\n",
    "    - Ride ID\n",
    "    - Ride Time\n",
    "    - Pickup Longitude\n",
    "    - Pickup Latitude\n",
    "    - Pickup Location Entity\n",
    "    - Drop-off Longitude\n",
    "    - Drop-off Latitude\n",
    "    - Drop-off Location Entity\n",
    "    - Miles\n",
    "    - Travel Time\n",
    "    - Fare\n",
    "    - CC Number\n",
    "    \n",
    "**Work in pairs and answer the following questions:**\n",
    "\n",
    "- How would you design a relational database to support this data?\n",
    "- List the tables you would create\n",
    "- What fields would they contain?\n",
    "- How would they link to other tables?"
   ]
  },
  {
   "cell_type": "markdown",
   "metadata": {
    "slideshow": {
     "slide_type": "slide"
    }
   },
   "source": [
    "> Answer:\n",
    "    Users table:\n",
    "        - User ID\n",
    "        - User Name\n",
    "        - Joined Date\n",
    "        - CC Number\n",
    "\n",
    ">    Drivers table:\n",
    "        - Driver ID\n",
    "        - Driver Name\n",
    "        - Joined Date\n",
    "\n",
    ">    Locations table: Should store popular destinations metadata\n",
    "        - Entity\n",
    "        - Longitude\n",
    "        - Latitude\n",
    "        - Description\n",
    "\n",
    ">    Rides:\n",
    "        - Ride ID\n",
    "        - Ride Time\n",
    "        - User ID (link to users)\n",
    "        - Driver ID (link to drivers)\n",
    "        - Pickup Location Entity (link to locations)\n",
    "        - Drop-off Location Entity (link to locations)\n",
    "        - Miles\n",
    "        - Travel Time\n",
    "        - Fare\n",
    "        - CC Number"
   ]
  },
  {
   "cell_type": "markdown",
   "metadata": {
    "slideshow": {
     "slide_type": "slide"
    }
   },
   "source": [
    "<a id='alternative-databases'></a>\n",
    "\n",
    "## Alternative types of databases\n",
    "\n",
    "---\n",
    "\n",
    "<a id='key-value'></a>\n",
    "\n",
    "### Key-value stores\n",
    "\n",
    "Some databases are nothing more than very-large (and very-fast) hash-maps or dictionaries that can be larger than memory. These are useful for storing key based data, i.e. storing the last access or visit time per user, or counting things per user or customer.\n",
    "\n",
    "Every entry in these databases has two values, a key and value, and we can retrieve any value based on its key. This is exactly like a python dictionary, but can be much larger than your memory allows and uses smart caching algorithms to ensure frequently or recently accessed items are quickly accessible.  The ideal use case for a key-value store is ephermeral data.\n",
    "\n",
    "Popular key-value stores include **Cassandra, Redis, Kafka, and `memcachedb`**.\n",
    "\n",
    "Key-value stores are typically used for:\n",
    "- image stores\n",
    "- key-based filesystems\n",
    "- object cache\n",
    "- systems designed to scale"
   ]
  },
  {
   "cell_type": "markdown",
   "metadata": {
    "slideshow": {
     "slide_type": "slide"
    }
   },
   "source": [
    "<a id='nosql'></a>\n",
    "\n",
    "### NoSQL or Document databases\n",
    "\"NoSQL\" databases don't rely on a traditional table setup and are more flexible in their data organization. Typically they do actually have SQL querying abilities, but simply model their data differently.\n",
    "\n",
    "Many organize the data on an entity level, but often have denormalized and nested data setups. For example, for each user, we may store their metadata, along with a collection of tweets, each of which has its own metadata. This nesting can continue down encapsulating entities. This data layout is similar what we might expect in hierarchically structured data structures such as JSON, XML, or Python Dictionaries.\n",
    "\n",
    "Popular databases of this variety include `mongodb` and `couchdb`.\n",
    "\n",
    "Typical uses: \n",
    "- high-variablity data\n",
    "- document search\n",
    "- integration hubs\n",
    "- web content management\n",
    "- publishing"
   ]
  },
  {
   "cell_type": "markdown",
   "metadata": {
    "slideshow": {
     "slide_type": "slide"
    }
   },
   "source": [
    "### A quick note on selecting a database solution:\n",
    "\n",
    "**If you are unsure about which database solution to use, choose a relational database.  Postgres and MySQL are much more scalable than you think.**\n",
    "\n",
    "Benefits of a relational database structure:\n",
    "- Easy to migrate to NoSQL\n",
    "- Scalable \n",
    "- Maximum flexiblity to query data\n",
    "- Widest array of features overall"
   ]
  },
  {
   "cell_type": "markdown",
   "metadata": {
    "slideshow": {
     "slide_type": "slide"
    }
   },
   "source": [
    "### Industry Example: social network app\n",
    "\n",
    "Consider the case of a social networking app under development by a startup. The app has:\n",
    "- Many user profiles. \n",
    "- Multiple activities that user might participate in\n",
    "- Being a start-up, database requirements change almost daily so nothing is set in stone\n",
    "- It's not important that everything is consistent\n",
    "- It's very likely some profiles will have features in the future that older profiles won't\n",
    "\n",
    "**What would be the shortcomings of the relational DB model in this case?**"
   ]
  },
  {
   "cell_type": "markdown",
   "metadata": {
    "slideshow": {
     "slide_type": "fragment"
    }
   },
   "source": [
    "> Answer:\n",
    "> - schema: different products have different properties, a rigid schema makes it hard to add new products\n",
    "> - potentially:  scalability"
   ]
  },
  {
   "cell_type": "markdown",
   "metadata": {
    "slideshow": {
     "slide_type": "slide"
    }
   },
   "source": [
    "<a id='tsdb'></a>\n",
    "\n",
    "### Timeseries databases\n",
    "\n",
    "Time series databases (TSDB) are optimized for handling time series data, i.e. data that is indexed by time (a datetime or a datetime range).\n",
    "\n",
    "Examples of time series include:\n",
    "- stock market data\n",
    "- energy load data from a utility company\n",
    "- server metrics\n",
    "- purchase history\n",
    "- website metric\n",
    "- ads and clicks\n",
    "- sensor data from a wearable device or an internet-of-things sensor\n",
    "- smartphone sensor data\n",
    "\n",
    "Time series pose different challenges that cannot typically be solved with a traditional relational database model.\n",
    "\n",
    "**What issues could arise when modeling time series data with a tabular data model?**"
   ]
  },
  {
   "cell_type": "markdown",
   "metadata": {
    "slideshow": {
     "slide_type": "fragment"
    }
   },
   "source": [
    "> answer:\n",
    "> - critical data volume\n",
    "> - time ordering\n",
    "> - out of order inserts\n",
    "> - joins"
   ]
  },
  {
   "cell_type": "markdown",
   "metadata": {
    "slideshow": {
     "slide_type": "slide"
    }
   },
   "source": [
    "**Popular TSDB databases include:**\n",
    "- Atlas\n",
    "- Druid\n",
    "- InfluxDB\n",
    "- Splunk\n",
    "\n",
    "Mainly these are good at dimensional time series data for near real-time operational insight.  \n",
    "\n",
    "Splunk for example, is a solution for searching activity data across entire infrastructures in real-time.  MySQL can do this, but Splunk has many features tailored for time series problems that are central to reporting and forensics."
   ]
  },
  {
   "cell_type": "markdown",
   "metadata": {
    "slideshow": {
     "slide_type": "slide"
    }
   },
   "source": [
    "<a id='graph-db'></a>\n",
    "\n",
    "### Graph databases\n",
    "\n",
    "Graph databases are optimized to store data about networks. Most graph databases are NoSQL in nature and store their data in a key-value store or document-oriented database. In general terms, they can be considered to be key-value databases with the addition of the relationship concept.\n",
    "\n",
    "![](http://image.slidesharecdn.com/beginnerpresentation-120429104540-phpapp01/95/introduction-to-graph-databases-24-728.jpg?cb=1335696642)\n",
    "\n",
    "In traditional relational databases, the relationships are defined within the data itself. In graph databases, relationships allow the values in the store to be related to each other in a free form way. This allows complex hierarchies to be quickly traversed, addressing one of the more common performance problems found in traditional key-value stores.\n",
    "\n",
    "Most graph databases also add the concept of _tags_ or _properties_, which are essentially relationships lacking a pointer to another document.\n",
    "\n",
    "**Popular databases of this variety include:**\n",
    "- Neo4j\n",
    "- OpenCog\n",
    "- AllegroGraph\n",
    "- Oracle Spatial\n",
    "- Graph\n",
    "\n",
    "**Typical uses:**\n",
    "- social networks\n",
    "- fraud detection\n",
    "- relationship-heavy data"
   ]
  },
  {
   "cell_type": "markdown",
   "metadata": {
    "slideshow": {
     "slide_type": "slide"
    }
   },
   "source": [
    "### Industry example: phone company\n",
    "\n",
    "Consider a phone company that has information about phone calls. Each phone call entity has the following properties:\n",
    "\n",
    "- caller_id\n",
    "- receiver_id\n",
    "- time_of_call\n",
    "- duration\n",
    "\n",
    "Each user does several calls, and some users may be more connected than others. The company is interested in finding the people that are central in the network of call connections (super connectors) in order to extend to them a promotion on their phone usage. The company wants the super connectors to be happy with the service and in turn speak highly of the service to their connections.\n",
    "\n",
    "A graph database is perfectly suited to answer such a question.\n",
    "\n",
    "Other examples include:\n",
    "\n",
    "- finding communities\n",
    "- finding shortest path between two entities\n",
    "- detecting fraudulent behavior\n",
    "- establishing user identity"
   ]
  },
  {
   "cell_type": "markdown",
   "metadata": {
    "slideshow": {
     "slide_type": "slide"
    }
   },
   "source": [
    "## A Graph Example\n",
    "\n",
    "![](https://snag.gy/jwAYCE.jpg)"
   ]
  },
  {
   "cell_type": "markdown",
   "metadata": {
    "slideshow": {
     "slide_type": "slide"
    }
   },
   "source": [
    "<a id='base'></a>\n",
    "\n",
    "## BASE (Basically Available, Soft state, Eventual consistency)\n",
    "\n",
    "---\n",
    "\n",
    "- **Basically available** indicates that the system does guarantee availability.\n",
    "- **Soft state** indicates that the state of the system may change over time, even without input. This is because of the eventual consistency model.\n",
    "- **Eventual consistency** indicates that the system will become consistent over time, given that the system doesn't receive input during that time.\n",
    "\n",
    "Main concept: get rid of locks, allow everyone to write, worry about consistency later."
   ]
  },
  {
   "cell_type": "markdown",
   "metadata": {
    "slideshow": {
     "slide_type": "slide"
    }
   },
   "source": [
    "<a name=\"guided-practice_2\"></a>\n",
    "## (Optional) Find the most appropriate storage\n",
    "\n",
    "---\n",
    "\n",
    "In pairs or small groups discuss the best storage or database solution for each scenario:\n",
    "\n",
    "> Note: Many of these the answers may be personal preference, but we should understand some of the differences.\n",
    "\n",
    "1. Database for an application with user profiles.\n",
    "2. Database for an online store.\n",
    "3. Storing last visit date of a user.\n",
    "4. Mobile application that allows peer to peer sharing of messages that have short lifetime.\n",
    "5. A hedge fund that needs to record stock market data and run models on them."
   ]
  },
  {
   "cell_type": "markdown",
   "metadata": {
    "slideshow": {
     "slide_type": "fragment"
    }
   },
   "source": [
    "1. Database for an application with user profiles\n",
    ">    - Probably relational DB. It could be a 'noSQL' database if user profile fields are commonly updating or we want to make it easy to do complex queries on user profile elements.\n",
    "\n",
    "2. Database for an online store\n",
    ">    - Probably a relational DB - Fast storage querying, standard table structures, transactional capabilities\n",
    "\n",
    "3. Storing last visit date of a user\n",
    ">    - A fast key-value store would be useful for caching interesting statistics about users (last visit, total visits)\n",
    "\n",
    "4. Mobile application that allows peer to peer sharing of messages that have short lifetime.\n",
    ">    - Probably a graph database for users and a noSQL or key-value store for messages\n",
    "\n",
    "5. A hedge fund that needs to record stock market data and run models on them.\n",
    ">  - a time series database"
   ]
  },
  {
   "cell_type": "markdown",
   "metadata": {
    "slideshow": {
     "slide_type": "slide"
    }
   },
   "source": [
    "<a name=\"conclusion\"></a>\n",
    "## Conclusion\n",
    "\n",
    "---\n",
    "\n",
    "\n",
    "Relational databases are the most common database. They organize data into tables. Other database types exist, including graph, hash, documents and time-series specific databases."
   ]
  },
  {
   "cell_type": "markdown",
   "metadata": {
    "slideshow": {
     "slide_type": "slide"
    }
   },
   "source": [
    "![](http://itknowledgeexchange.techtarget.com/overheard/files/2014/01/Graph-database-sketch.jpg)"
   ]
  },
  {
   "cell_type": "markdown",
   "metadata": {
    "slideshow": {
     "slide_type": "slide"
    }
   },
   "source": [
    "![](https://snag.gy/Yaz0yT.jpg)"
   ]
  },
  {
   "cell_type": "markdown",
   "metadata": {
    "slideshow": {
     "slide_type": "slide"
    }
   },
   "source": [
    "![](https://snag.gy/pz01bd.jpg)"
   ]
  },
  {
   "cell_type": "markdown",
   "metadata": {
    "slideshow": {
     "slide_type": "slide"
    }
   },
   "source": [
    "![](https://snag.gy/QsBNnS.jpg)"
   ]
  },
  {
   "cell_type": "markdown",
   "metadata": {
    "slideshow": {
     "slide_type": "slide"
    }
   },
   "source": [
    "### ADDITIONAL RESOURCES\n",
    "\n",
    "- [Database page on Wikipedia](https://en.wikipedia.org/wiki/Database)\n",
    "- [Database tutorials](http://www.tutorialspoint.com/database_tutorials.htm)\n",
    "- [Postgres Cheat Sheet](https://gist.github.com/Kartones/dd3ff5ec5ea238d4c546)"
   ]
  }
 ],
 "metadata": {
  "anaconda-cloud": {},
  "celltoolbar": "Slideshow",
  "kernelspec": {
   "display_name": "Python 2",
   "language": "python",
   "name": "python2"
  },
  "language_info": {
   "codemirror_mode": {
    "name": "ipython",
    "version": 2
   },
   "file_extension": ".py",
   "mimetype": "text/x-python",
   "name": "python",
   "nbconvert_exporter": "python",
   "pygments_lexer": "ipython2",
   "version": "2.7.13"
  }
 },
 "nbformat": 4,
 "nbformat_minor": 0
}
