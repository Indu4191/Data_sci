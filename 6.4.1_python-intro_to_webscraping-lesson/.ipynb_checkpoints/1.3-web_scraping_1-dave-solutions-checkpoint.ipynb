{
 "cells": [
  {
   "cell_type": "markdown",
   "metadata": {},
   "source": [
    "<img src=\"https://ga-dash.s3.amazonaws.com/production/assets/logo-9f88ae6c9c3871690e33280fcf557f33.png\" style=\"float: left; margin: 10px;\">\n",
    "\n",
    "# 1.3 - Intro to Web Scraping\n",
    "\n",
    "---\n",
    "\n",
    "Week 4 - 1.3\n",
    "\n",
    "### LEARNING OBJECTIVES\n",
    "*After this lesson, you will be able to:*\n",
    "- Understand scraping basics\n",
    "- Familiarity with import.io service\n",
    "- XPath basics"
   ]
  },
  {
   "cell_type": "markdown",
   "metadata": {},
   "source": [
    "### STUDENT PRE-WORK\n",
    "*Before this lesson, you should already be able to:*\n",
    "- Understand basic HTML concepts\n",
    "- Worked with Beautiful Soup\n",
    "- Signed up for import.io"
   ]
  },
  {
   "cell_type": "markdown",
   "metadata": {},
   "source": [
    "### LESSON GUIDE\n",
    "| TIMING  | TYPE  | TOPIC  |\n",
    "|:-:|---|---|\n",
    "| 5 min  | [Opening](#opening)  | Overview of what scraping is/does |\n",
    "| 10 min  | [Introduction](#introduction)   | Explain what scraping is |\n",
    "| 15 min  | [Demo](#demo)  | Python Library BeautifulSoup |\n",
    "| 25 min  | [Guided Practice](#guided-practice)  | Import.io |\n",
    "| 25 min  | [Independent Practice](#ind-practice)  | Import.io  |\n",
    "| 5 min  | [Conclusion](#conclusion)  |  How it works with Import.IO |\n",
    "\n",
    "---"
   ]
  },
  {
   "cell_type": "markdown",
   "metadata": {},
   "source": [
    "## Introduction: Scraping Overview (10 mins)\n",
    "\n",
    "Web scraping is a technique of extracting information from websites. It focuses on transformation of unstructured data on the web, into structured data that can be stored and analyzed.\n",
    "\n",
    "There are a variety of ways to \"scrape\" what we want from the web:\n",
    "\n",
    "- 3rd Party Services (import.io)\n",
    "- Write our own Python apps that pull HTML documents and parse them\n",
    "  - Mechanize\n",
    "  - Scrapy\n",
    "  - Requests\n",
    "  - libxml / XPath\n",
    "  - Regular expressions"
   ]
  },
  {
   "cell_type": "markdown",
   "metadata": {},
   "source": [
    "## (3 mins) What is hardest to understand about scraping?\n",
    "_ie: If you were asked to scrape craigslist property listings and put them in a DataFrame(), what would hold you up?_"
   ]
  },
  {
   "cell_type": "markdown",
   "metadata": {},
   "source": [
    "## HTML Review\n",
    "\n",
    "In the HTML DOM (Document Object Model), everything is a node:\n",
    " * The document itself is a document node.\n",
    " * All HTML elements are element nodes.\n",
    " * All HTML attributes are attribute nodes.\n",
    " * Text inside HTML elements are text nodes.\n",
    " * Comments are comment nodes."
   ]
  },
  {
   "cell_type": "markdown",
   "metadata": {},
   "source": [
    "## I am a title\n",
    "<p>I am a paragraph.</p>\n",
    "<strong>I am bold.</strong>"
   ]
  },
  {
   "cell_type": "markdown",
   "metadata": {},
   "source": [
    "## Elements\n",
    "Elements begin and end with **open and close \"tags\"**, which are defined by namespaced, encapsulated strings. \n",
    "\n",
    "```html\n",
    "<title>I am a title.</title>\n",
    "<p>I am a paragraph.</p>\n",
    "<strong>I am bold.</strong>\n",
    "```\n",
    "\n",
    "_note: the tags **title, p, and strong** are represented here._"
   ]
  },
  {
   "cell_type": "markdown",
   "metadata": {},
   "source": [
    "## Element Parent / Child Relationships\n",
    "\n",
    "<img src=\"http://www.htmlgoodies.com/img/2007/06/flowChart2.gif\" width=\"250\">\n",
    "\n",
    "**Elements begin and end in the same namespace like so:**  `<p></p>`\n",
    "\n",
    "**Elements can have parents and children:**\n",
    "\n",
    "```html\n",
    "<body>\n",
    "    <div>I am inside the parent element\n",
    "        <div>I am inside a child element</div>\n",
    "        <div>I am inside another child element</div>\n",
    "        <div>I am inside yet another child element</div>\n",
    "    </div>\n",
    "</body>\n",
    "```"
   ]
  },
  {
   "cell_type": "markdown",
   "metadata": {},
   "source": [
    "## Element Attributes\n",
    "\n",
    "Elements can also have attributes!  Attributes are defined inside **element tags** and can contain data that may be useful to scrape.\n",
    "\n",
    "```html\n",
    "<a href=\"http://lmgtfy.com/?q=html+element+attributes\" title=\"A title\" id=\"web-link\" name=\"hal\">A Simple Link</a>\n",
    "```\n",
    "\n",
    "The **element attributes** of this `<a>` tag element are:\n",
    "- id\n",
    "- href\n",
    "- title\n",
    "- name\n",
    "\n",
    "This `<a>` tag example will render in your browser like this:\n",
    "> <a href=\"https://www.youtube.com/watch?v=dQw4w9WgXcQ\">A Simple Link</a>\n"
   ]
  },
  {
   "cell_type": "markdown",
   "metadata": {},
   "source": [
    "## (3 mins) Can you identify an attribute, an element, a text item, and a child element?\n",
    "\n",
    "```HTML\n",
    "<html>\n",
    "   <title id=\"main-title\">All this scraping is making me itch!</title>\n",
    "   <body>\n",
    "       <h1>Welcome to my Homepage</h1>\n",
    "       <p id=\"welcome-paragraph\" class=\"strong-paragraph\">\n",
    "           <span>Hello friends, let me tell you about this cool hair product..</span>\n",
    "           <ul>\n",
    "              <li>It's cool</li>\n",
    "              <li>It's fresh</li>\n",
    "              <li>It can tell the future</li>\n",
    "              <li>Always be closing</li>\n",
    "           </ul>\n",
    "       </p>\n",
    "   </body>\n",
    "```\n",
    "\n",
    "**Bonus: What's missing?** "
   ]
  },
  {
   "cell_type": "markdown",
   "metadata": {},
   "source": [
    "## Enter XPath\n",
    "\n",
    "XPath uses path expressions to select nodes or node-sets in an HTML/XML document. These path expressions look very much like the expressions you see when you work with a traditional computer file system."
   ]
  },
  {
   "cell_type": "markdown",
   "metadata": {},
   "source": [
    "## XPath Features\n",
    "\n",
    "XPath includes over 100 built-in functions to help us select and manipulate HTML (or XML) documents. XPath has functions for:\n",
    "\n",
    "- string values\n",
    "- numeric values\n",
    "- date and time comparison\n",
    "- sequence manipulation\n",
    "- Boolean values\n",
    "- and more!"
   ]
  },
  {
   "cell_type": "markdown",
   "metadata": {},
   "source": [
    "## Basic XPath Expressions\n",
    "\n",
    "XPath comes with a wide array of features but the basics of selecting data are the most common problems that XPath can help you solve.\n",
    "\n",
    "The most common task you'll use **XPath** for is selecting data from HTML documents.  There are two ways you can **select elements** within HTML using **XPath**:\n",
    "\n",
    "- Absolute reference\n",
    "- Relative reference"
   ]
  },
  {
   "cell_type": "markdown",
   "metadata": {},
   "source": [
    "# XPath:  Absolute References\n",
    "\n",
    "_For our XPath demonstration, we will use Scrapy, which is using libxml under the hood.  Libxml provides the basic functionality for XPath expressions._"
   ]
  },
  {
   "cell_type": "code",
   "execution_count": 9,
   "metadata": {
    "collapsed": false
   },
   "outputs": [
    {
     "data": {
      "text/plain": [
       "[u'good']"
      ]
     },
     "execution_count": 9,
     "metadata": {},
     "output_type": "execute_result"
    }
   ],
   "source": [
    "# pip install scrapy\n",
    "# pip install --upgrade zope2\n",
    "from scrapy.selector import Selector\n",
    "from scrapy.http import HtmlResponse\n",
    "\n",
    "HTML = \"\"\"\n",
    "<html>\n",
    "    <body>\n",
    "        <span id=\"only-span\">good</span>\n",
    "    </body>\n",
    "</html>\n",
    "\"\"\"\n",
    "# The same thing but \"absolute\" reference\n",
    "Selector(text=HTML).xpath('/html/body/span/text()').extract()\n"
   ]
  },
  {
   "cell_type": "markdown",
   "metadata": {},
   "source": [
    "## Relative Reference\n",
    "\n",
    "Relative references in XPath match the \"ends\" of structures.  Since there is only a single \"span\" element, `//span/text()` matches **one element**."
   ]
  },
  {
   "cell_type": "code",
   "execution_count": 10,
   "metadata": {
    "collapsed": false
   },
   "outputs": [
    {
     "data": {
      "text/plain": [
       "[u'good']"
      ]
     },
     "execution_count": 10,
     "metadata": {},
     "output_type": "execute_result"
    }
   ],
   "source": [
    "Selector(text=HTML).xpath('//span/text()').extract()"
   ]
  },
  {
   "cell_type": "markdown",
   "metadata": {},
   "source": [
    "## Selecting Attributes\n",
    "\n",
    "Attributes **within a tag**, such as `id=\"only-span\"` within our span attribute.  We can get the attribute by using `@` symbol **after** the **element reference**.\n"
   ]
  },
  {
   "cell_type": "code",
   "execution_count": 11,
   "metadata": {
    "collapsed": false
   },
   "outputs": [
    {
     "data": {
      "text/plain": [
       "[u'only-span']"
      ]
     },
     "execution_count": 11,
     "metadata": {},
     "output_type": "execute_result"
    }
   ],
   "source": [
    "Selector(text=HTML).xpath('//span/@id').extract()"
   ]
  },
  {
   "cell_type": "markdown",
   "metadata": {},
   "source": [
    "## (~10 mins) Where's Waldo - \"XPath Edition\"\n",
    "\n",
    "In this example, we will find Waldo together.  Find Waldo as:\n",
    "\n",
    "- Element\n",
    "- Attribute\n",
    "- Text element"
   ]
  },
  {
   "cell_type": "code",
   "execution_count": 64,
   "metadata": {
    "collapsed": false
   },
   "outputs": [
    {
     "data": {
      "text/plain": [
       "[u'waldo',\n",
       " u'waldo',\n",
       " u'waldo',\n",
       " u'waldo',\n",
       " u'nerds',\n",
       " u'alpha',\n",
       " u'alpha',\n",
       " u'beta',\n",
       " u'animal',\n",
       " u'tdawg',\n",
       " u'dsi-rocks']"
      ]
     },
     "execution_count": 64,
     "metadata": {},
     "output_type": "execute_result"
    }
   ],
   "source": [
    "Selector(text=HTML).xpath('//@class').extract()"
   ]
  },
  {
   "cell_type": "code",
   "execution_count": 49,
   "metadata": {
    "collapsed": true
   },
   "outputs": [],
   "source": [
    "HTML = \"\"\"\n",
    "<html>\n",
    "    <body>\n",
    "        \n",
    "        <ul id=\"waldo\">\n",
    "            <li class=\"waldo\">\n",
    "                <span> yo Im not here</span>\n",
    "            </li>\n",
    "            <li class=\"waldo\">Height:  ???</li>\n",
    "            <li class=\"waldo\">Weight:  ???</li>\n",
    "            <li class=\"waldo\">Last Location:  ???</li>\n",
    "            <li class=\"nerds\">\n",
    "                <div class=\"alpha\">Bill gates</div>\n",
    "                <div class=\"alpha\">Zuckerberg</div>\n",
    "                <div class=\"beta\">Theil</div>\n",
    "                <div class=\"animal\">parker</div>\n",
    "            </li>\n",
    "        </ul>\n",
    "        \n",
    "        <ul id=\"tim\">\n",
    "            <li class=\"tdawg\">\n",
    "                <span>yo im here</span>\n",
    "            </li>\n",
    "        </ul>\n",
    "        <li>stuff</li>\n",
    "        <li>stuff2</li>\n",
    "        \n",
    "        <div id=\"cooldiv\">\n",
    "            <span class=\"dsi-rocks\">\n",
    "               YO!\n",
    "            </span>\n",
    "        </div>\n",
    "        \n",
    "        \n",
    "        <waldo>Waldo</waldo>\n",
    "    </body>\n",
    "</html>\n",
    "\"\"\""
   ]
  },
  {
   "cell_type": "code",
   "execution_count": null,
   "metadata": {
    "collapsed": true
   },
   "outputs": [],
   "source": []
  },
  {
   "cell_type": "code",
   "execution_count": 72,
   "metadata": {
    "collapsed": false
   },
   "outputs": [
    {
     "data": {
      "text/plain": [
       "[<Selector xpath='/html/body/ul[@id=\"tim\"]' data=u'<ul id=\"tim\">\\n            <li class=\"tda'>]"
      ]
     },
     "execution_count": 72,
     "metadata": {},
     "output_type": "execute_result"
    }
   ],
   "source": [
    "Selector(text=HTML).xpath('/html/body/ul[@id=\"tim\"]')"
   ]
  },
  {
   "cell_type": "code",
   "execution_count": null,
   "metadata": {
    "collapsed": true
   },
   "outputs": [],
   "source": []
  },
  {
   "cell_type": "code",
   "execution_count": null,
   "metadata": {
    "collapsed": true
   },
   "outputs": [],
   "source": []
  },
  {
   "cell_type": "code",
   "execution_count": null,
   "metadata": {
    "collapsed": true
   },
   "outputs": [],
   "source": []
  },
  {
   "cell_type": "code",
   "execution_count": 99,
   "metadata": {
    "collapsed": false
   },
   "outputs": [
    {
     "data": {
      "text/plain": [
       "[u'waldo']"
      ]
     },
     "execution_count": 99,
     "metadata": {},
     "output_type": "execute_result"
    }
   ],
   "source": [
    "# Find absolute element\n",
    "#Selector(text=HTML).xpath('/html/body/waldo/text()').extract()\n",
    "# Selector(text=HTML).xpath('/html/body/ul/li/text()').extract()\n",
    "\n",
    "# Find relative element\n",
    "# Selector(text=HTML).xpath('//li').extract()\n",
    "\n",
    "# Find element attribute\n",
    "# Selector(text=HTML).xpath('////@class').extract()\n",
    "# Selector(text=HTML).xpath('//ul/@id').extract()\n",
    "\n",
    "\n",
    "# Find element text\n",
    "# Selector(text=HTML).xpath('').extract()"
   ]
  },
  {
   "cell_type": "markdown",
   "metadata": {},
   "source": [
    "## 1 vs N Selections\n",
    "\n",
    "When selecting elements via relative reference, it's possible that you will select multiple items.  It's still possible to select single items, if you're specfic enough.\n",
    "\n",
    "**Singular Reference**\n",
    "- **Index** starts at **1**\n",
    "- Selections by offset\n",
    "- Selections by \"first\" or \"last\"\n",
    "- Selections by **unique attribute value**\n"
   ]
  },
  {
   "cell_type": "code",
   "execution_count": 126,
   "metadata": {
    "collapsed": false
   },
   "outputs": [
    {
     "data": {
      "text/plain": [
       "[u'5,233.42']"
      ]
     },
     "execution_count": 126,
     "metadata": {},
     "output_type": "execute_result"
    }
   ],
   "source": [
    "HTML = \"\"\"\n",
    "<html>\n",
    "    <body>\n",
    "    \n",
    "        <!-- Search Results -->\n",
    "        <div class=\"search-result\">\n",
    "           <a href=\"https://www.youtube.com/watch?v=751hUX_q0Do\" title=\"Rappin with Gas\">Rapping with gas</a>\n",
    "           <span class=\"link-details\">This is a great video about gas.</span>\n",
    "        </div>\n",
    "        <div class=\"search-result\">\n",
    "           <a href=\"https://www.youtube.com/watch?v=97byWqi-zsI\" title=\"Casio Rapmap\">The Rapmaster</a>\n",
    "           <span class=\"link-details\">My first synth ever.</span>\n",
    "        </div>\n",
    "        <div class=\"search-result\">\n",
    "           <a href=\"https://www.youtube.com/watch?v=TSwqnR327fk\" title=\"Cinco Products\">Cinco Midi Organizer</a>\n",
    "           <span class=\"link-details\">Midi files at the speed of light.</span>\n",
    "        </div>\n",
    "        <div class=\"search-result\">\n",
    "           <a href=\"https://www.youtube.com/watch?v=8TCxE0bWQeQ\" title=\"Baddest Gates\">BBG Baddest Moments</a>\n",
    "           <span class=\"link-details\">It's tough to be a gangster.</span>\n",
    "        </div>\n",
    "        \n",
    "        <!-- Page stats -->\n",
    "        <div class=\"page-stats-container\">\n",
    "            <li class=\"item\" id=\"pageviews\">1,333,443</li>\n",
    "            <li class=\"item\" id=\"somethingelse\">bla</li>\n",
    "            <li class=\"item\" id=\"last-viewed\">01-22-2016</li>\n",
    "            <li class=\"item\" id=\"views-per-hour\">1,532</li>\n",
    "            <li class=\"item\" id=\"kiefer-views-per-hour\">5,233.42</li>\n",
    "        </div>\n",
    "        \n",
    "    </body>\n",
    "</html>\n",
    "\"\"\"\n",
    "\n",
    "span = Selector(text=HTML).xpath('/html/body/div/li[@id=\"kiefer-views-per-hour\"]/text()').extract()\n",
    "span"
   ]
  },
  {
   "cell_type": "markdown",
   "metadata": {},
   "source": [
    "#### Selecting the first element in a series of elements"
   ]
  },
  {
   "cell_type": "code",
   "execution_count": 85,
   "metadata": {
    "collapsed": false
   },
   "outputs": [
    {
     "data": {
      "text/plain": [
       "u'<span class=\"link-details\">Midi files at the speed of light.</span>'"
      ]
     },
     "execution_count": 85,
     "metadata": {},
     "output_type": "execute_result"
    }
   ],
   "source": [
    "spans = Selector(text=HTML).xpath('//span').extract()\n",
    "spans[2]"
   ]
  },
  {
   "cell_type": "markdown",
   "metadata": {},
   "source": [
    "#### Selecting the last element in a series of elements"
   ]
  },
  {
   "cell_type": "code",
   "execution_count": 89,
   "metadata": {
    "collapsed": false
   },
   "outputs": [
    {
     "data": {
      "text/plain": [
       "u'<span class=\"link-details\">It\\'s tough to be a gangster.</span>'"
      ]
     },
     "execution_count": 89,
     "metadata": {},
     "output_type": "execute_result"
    }
   ],
   "source": [
    "spans = Selector(text=HTML).xpath('//span').extract()\n",
    "spans[-1]"
   ]
  },
  {
   "cell_type": "markdown",
   "metadata": {},
   "source": [
    "#### Selecting all elements matching a selection"
   ]
  },
  {
   "cell_type": "code",
   "execution_count": 110,
   "metadata": {
    "collapsed": false,
    "scrolled": true
   },
   "outputs": [
    {
     "data": {
      "text/plain": [
       "[u'<span class=\"link-details\">This is a great video about gas.</span>',\n",
       " u'<span class=\"link-details\">My first synth ever.</span>',\n",
       " u'<span class=\"link-details\">Midi files at the speed of light.</span>',\n",
       " u'<span class=\"link-details\">It\\'s tough to be a gangster.</span>']"
      ]
     },
     "execution_count": 110,
     "metadata": {},
     "output_type": "execute_result"
    }
   ],
   "source": [
    "Selector(text=HTML).xpath('//span').extract()"
   ]
  },
  {
   "cell_type": "markdown",
   "metadata": {},
   "source": [
    "#### Selecting elements matching an _attribute_\n",
    "\n",
    "This will be one of the most common ways you will select items.  HTML DOM elements will be more differentiated based on their \"class\" and \"id\" variables.  Mainly, these types of attributes are used by web developers to refer to specfic elements or a broad set of elements to apply visual characteristics using CSS.\n",
    "\n",
    "```HTML \n",
    "//element[@attribute=\"value\"]\n",
    "```\n",
    "\n",
    "**Generally**\n",
    "\n",
    "- \"class\" attributes within elements usually refer to multiple items\n",
    "- \"id\" attributes are supposed to be unique, but not always\n",
    "\n",
    "_CSS stands for cascading style sheets.  These are used to abstract the definition of visual elements on a micro and macro scale for the web.  They are also our best friend as data miners.  They give us strong hints and cues as to how a web document is structured._"
   ]
  },
  {
   "cell_type": "code",
   "execution_count": 90,
   "metadata": {
    "collapsed": false
   },
   "outputs": [
    {
     "data": {
      "text/plain": [
       "[u'<li class=\"item\" id=\"pageviews\">1,333,443</li>']"
      ]
     },
     "execution_count": 90,
     "metadata": {},
     "output_type": "execute_result"
    }
   ],
   "source": []
  },
  {
   "cell_type": "markdown",
   "metadata": {},
   "source": [
    "## Let's Code:\n",
    "\n",
    " - How can we get a series of only text items for the page statistics section of our page?\n",
    " - We want to know only how many times Kiefer views my Youtube videos page per hour?"
   ]
  },
  {
   "cell_type": "code",
   "execution_count": 122,
   "metadata": {
    "collapsed": false
   },
   "outputs": [
    {
     "data": {
      "text/plain": [
       "[u'<li class=\"item\" id=\"pageviews\">1,333,443</li>',\n",
       " u'<li class=\"item\" id=\"last-viewed\">01-22-2016</li>',\n",
       " u'<li class=\"item\" id=\"views-per-hour\">1,532</li>',\n",
       " u'<li class=\"item\" id=\"kiefer-views-per-hour\">5,233.42</li>',\n",
       " u'<li class=\"item2\" id=\"pageviews\">1,333,443 - 2</li>',\n",
       " u'<li class=\"item2\" id=\"last-viewed\">01-22-2016 - 2</li>',\n",
       " u'<li class=\"item2\" id=\"views-per-hour\">1,532 - 2</li>',\n",
       " u'<li class=\"item2\" id=\"kiefer-views-per-hour\">5,233.42 - 2</li>']"
      ]
     },
     "execution_count": 122,
     "metadata": {},
     "output_type": "execute_result"
    }
   ],
   "source": [
    "# Get all text elements for the page statistics section\n",
    "Selector(text=HTML).xpath()"
   ]
  },
  {
   "cell_type": "code",
   "execution_count": 139,
   "metadata": {
    "collapsed": false
   },
   "outputs": [
    {
     "data": {
      "text/plain": [
       "[u'5,233.42']"
      ]
     },
     "execution_count": 139,
     "metadata": {},
     "output_type": "execute_result"
    }
   ],
   "source": [
    "# Get only the text for \"Kiefer's\" number of views per hour\n",
    "# Selector(text=HTML).xpath('//div[@class=\"page-stats-container\"]/li[4]/text()').extract()\n",
    "\n",
    "# Get only the text for \"Kiefer's\" number of views per hour\n",
    "Selector(text=HTML).xpath('//li[@id=\"kiefer-views-per-hour\"]/text()').extract()"
   ]
  },
  {
   "cell_type": "markdown",
   "metadata": {},
   "source": [
    "## A Quick Note:  Requests\n",
    "\n",
    "The requests module is the gateway to interacting with the web using Python.  We can:\n",
    "\n",
    " - Fetch web documents as strings\n",
    " - Decode JSON\n",
    " - Basic data munging with Web Documents\n",
    " - Download static files that are not text\n",
    "  - Images\n",
    "  - Videos\n",
    "  - Binary data\n",
    "\n",
    "\n",
    "Take some time and read up on Requests:\n",
    "\n",
    "http://docs.python-requests.org/en/master/user/quickstart/"
   ]
  },
  {
   "cell_type": "markdown",
   "metadata": {},
   "source": [
    "## Let's Scrape Data Tau Headlines\n",
    "\n",
    "DataTau is a great site for data science news. Let's take their headlines using Python **requests**, and practice selecting various elements.\n",
    "\n",
    "Using <a href=\"https://chrome.google.com/webstore/detail/xpath-helper/hgimnogjllphhhkhlmebbmlgjoejdpjl?hl=en\">XPath helper Chrome plugin</a> _(cmd-shift-x)_ and the Chrome \"inspect\" feature, let's explore the structure of the page.\n",
    "\n",
    "_Here's a <a href=\"https://www.youtube.com/watch?v=i2Li1vnv09U\">concise video</a> that demonstrates the basic inspect feature within Chrome._"
   ]
  },
  {
   "cell_type": "code",
   "execution_count": 129,
   "metadata": {
    "collapsed": false
   },
   "outputs": [
    {
     "data": {
      "text/plain": [
       "u'<html><head><link rel=\"stylesheet\" type=\"text/css\" href=\"news.css\">\\n<link rel=\"shortcut icon\" href=\"http://www.iconj.com/ico/d/x/dxo02ap56v.ico\">\\n<scr'"
      ]
     },
     "execution_count": 129,
     "metadata": {},
     "output_type": "execute_result"
    }
   ],
   "source": [
    "# Please only run this frame once to avoid hitting the site too hard all at once\n",
    "import requests\n",
    "\n",
    "response = requests.get(\"http://www.datatau.com\")\n",
    "HTML = response.text  \n",
    "HTML[0:150]           # view the first 500 characters of the HTML index document for DataTau"
   ]
  },
  {
   "cell_type": "markdown",
   "metadata": {},
   "source": [
    "#### Selecting Only The Headlines\n",
    "\n",
    "We will use the XPath helper tool to inspect the markup that comprises the **title** to find any pattern.  Since there are more than one **titles**, we expect to find a series of elements representing the **title** data that we are interested in.\n",
    "\n",
    "![](https://snag.gy/m4K3UE.jpg)\n",
    "\n",
    "In this example, we are referencing the the **1st center**, **3rd table row (`tr[3]`)**, within the 2nd **td having a class of \"title\" (`td[@class=\"title\"][2]`)**, and the anchor tag within a **(`a/text()`)**.\n"
   ]
  },
  {
   "cell_type": "code",
   "execution_count": 134,
   "metadata": {
    "collapsed": false
   },
   "outputs": [
    {
     "data": {
      "text/plain": [
       "[u'What We Learned Analyzing Hundreds of Data Science Interviews',\n",
       " u'Forget Python vs. R: how they can work together',\n",
       " u'A Product similarity space with doc2vec',\n",
       " u'70+ Resources for Transitioning to a Data Science Career',\n",
       " u'Occam razor vs. machine learning',\n",
       " u'Category Encoders: sklearn-compatible transformers for non-numeric data',\n",
       " u'Benchmarking 8 of the new Pascal Titan Xs by querying 1.1 Billion Taxi Trips.',\n",
       " u'Inside Airbnb: Bulk collect data from Airbnb',\n",
       " u'Interactive Data Viz of Geospatial Data using DC.js Leaflet.js and Python',\n",
       " u'Computational and Inferential Thinking']"
      ]
     },
     "execution_count": 134,
     "metadata": {},
     "output_type": "execute_result"
    }
   ],
   "source": [
    "import pandas as pd\n",
    "\n",
    "titles = Selector(text=HTML).xpath('//td[@class=\"title\"]/a/text()').extract()\n",
    "titles[0:10] # the first 5 titles"
   ]
  },
  {
   "cell_type": "markdown",
   "metadata": {},
   "source": [
    "## How do we get the urls from the titles?"
   ]
  },
  {
   "cell_type": "code",
   "execution_count": 138,
   "metadata": {
    "collapsed": false
   },
   "outputs": [
    {
     "data": {
      "text/plain": [
       "[u'/x?fnid=eTv1dh4a88',\n",
       " u'http://www.octoparse.com/tutorial/extract-information-from-linkedin-public-data-2/',\n",
       " u'http://analyticsplaybook.org/dataviz/api/apple_health_export_analyze_visualize_R.html',\n",
       " u'https://yanirseroussi.com/2016/08/04/is-data-scientist-a-useless-job-title/',\n",
       " u'https://www.citusdata.com/blog/2016/08/12/state-machines-to-run-databases/',\n",
       " u'https://danidelvalle.me/2016/08/08/smartphone-brand-loyalty-and-handset-renewal-analysis/',\n",
       " u'https://medium.com/@akelleh/causal-data-science-721ed63a4027#.b9dczx7uo',\n",
       " u'http://taoofmac.com/space/blog/2016/08/10/0830',\n",
       " u'https://hackerlists.com/tensorflow-resources/',\n",
       " u'http://katbailey.github.io/post/gaussian-processes-for-dummies/',\n",
       " u'https://www.springboard.com/resources/data-scientist-interview-guide',\n",
       " u'http://blog.yhat.com/posts/rodeo-for-windows.html',\n",
       " u'https://github.com/nicholaslocascio/deep-regex',\n",
       " u'https://ttvand.github.io/Winning-approach-of-the-Facebook-V-Kaggle-competition/',\n",
       " u'https://medium.com/data-engineering/modeling-madly-8b2c72eb52be#.6alvc64m6',\n",
       " u'http://www.jeannicholashould.com/getting-your-first-job-in-data-science.html',\n",
       " u'http://ahmedbesbes.com/how-to-score-08134-in-titanic-kaggle-challenge.html',\n",
       " u'https://blog.dominodatalab.com/joel-test-data-science/',\n",
       " u'https://www.citusdata.com/blog/2016/08/10/sharding-for-a-multi-tenant-app-with-postgres/',\n",
       " u'http://livebook.datascienceheroes.com/',\n",
       " u'http://blog.udacity.com/2015/04/data-science-interview-questions.html',\n",
       " u'http://www.inferentialthinking.com/',\n",
       " u'http://adilmoujahid.com/posts/2016/08/interactive-data-visualization-geospatial-d3-dc-leaflet-python/',\n",
       " u'http://www.octoparse.com/tutorial/how-to-extract-data-from-airbnb/',\n",
       " u'http://tech.marksblogg.com/billion-nyc-taxi-rides-nvidia-pascal-titan-x-mapd.html',\n",
       " u'https://github.com/wdm0006/categorical_encoding',\n",
       " u'http://arogozhnikov.github.io/2016/07/12/secret-of-ml.html',\n",
       " u'https://blog.modeanalytics.com/data-science-career/',\n",
       " u'http://www.bookspace.co/search/?query_book=The+Communist+Manifesto+%28Penguin+Classics%29&plus=liberty&minus=communism',\n",
       " u'https://civisanalytics.com/blog/data-science/2016/08/15/python-r/',\n",
       " u'https://www.springboard.com/blog/data-science-interviews-lessons/']"
      ]
     },
     "execution_count": 138,
     "metadata": {},
     "output_type": "execute_result"
    }
   ],
   "source": [
    "urls = Selector(text=HTML).xpath('//td[@class=\"title\"]/a/@href').extract()\n",
    "urls[::-1]\n",
    "#<a href=\"http://tech.marksblogg.com/faster-queries-google-cloud-dataproc.html\">33x Faster Queries on Google Cloud's Dataproc using Facebook's Presto</a>\n",
    "# titles[0:5] # the first 5 titles"
   ]
  },
  {
   "cell_type": "markdown",
   "metadata": {},
   "source": [
    "#### How can we get the site domain, after the title within the parentheses (ie: stitchfix.com)?"
   ]
  },
  {
   "cell_type": "code",
   "execution_count": 141,
   "metadata": {
    "collapsed": false
   },
   "outputs": [],
   "source": [
    "domains = Selector(text=HTML).xpath(\"//span[@class='comhead']/text()\").extract()"
   ]
  },
  {
   "cell_type": "code",
   "execution_count": 142,
   "metadata": {
    "collapsed": false
   },
   "outputs": [
    {
     "data": {
      "text/plain": [
       "[u' (springboard.com) ',\n",
       " u' (civisanalytics.com) ',\n",
       " u' (bookspace.co) ',\n",
       " u' (modeanalytics.com) ',\n",
       " u' (github.io) ']"
      ]
     },
     "execution_count": 142,
     "metadata": {},
     "output_type": "execute_result"
    }
   ],
   "source": [
    "domains[0:5]"
   ]
  },
  {
   "cell_type": "markdown",
   "metadata": {},
   "source": [
    "#### How about the points?"
   ]
  },
  {
   "cell_type": "code",
   "execution_count": 165,
   "metadata": {
    "collapsed": false
   },
   "outputs": [
    {
     "data": {
      "text/plain": [
       "[u'8 points', u'2 points', u'2 points', u'17 points', u'7 points']"
      ]
     },
     "execution_count": 165,
     "metadata": {},
     "output_type": "execute_result"
    }
   ],
   "source": [
    "points = Selector(text=HTML).xpath('//td[@class=\"subtext\"]/span/text()').extract()\n",
    "points[0:5]"
   ]
  },
  {
   "cell_type": "markdown",
   "metadata": {},
   "source": [
    "#### How about the \"more Link?\"\n",
    "Hint:  You can use `element[text()='exact text']` to find text element matching specific text."
   ]
  },
  {
   "cell_type": "code",
   "execution_count": 161,
   "metadata": {
    "collapsed": false
   },
   "outputs": [
    {
     "data": {
      "text/plain": [
       "[u'/x?fnid=vn4mk4K16d']"
      ]
     },
     "execution_count": 161,
     "metadata": {},
     "output_type": "execute_result"
    }
   ],
   "source": [
    "next_link = Selector(text=HTML).xpath('//a[text()=\"More\"]/@href').extract()\n",
    "next_link"
   ]
  },
  {
   "cell_type": "markdown",
   "metadata": {},
   "source": [
    "## Independent Practice / Lab\n",
    "\n",
    "For the next 30 minutes try to grab the following:\n",
    "\n",
    "- Story titles\n",
    "- Story URL (href)\n",
    "- Domain\n",
    "- Points\n",
    "\n",
    "Stretch:\n",
    "- Author\n",
    "- Comment count\n",
    "\n",
    "Then put into a DataFrame.\n",
    "\n",
    "- Do basic analysis of domains and point distributions\n",
    "\n",
    "** Bonus **\n",
    "\n",
    "Automatically find the next \"more link\" and mine the next page(s) until none exist.  Logically, you can each page with this pseudo code:\n",
    "\n",
    "1. Does the next link exist (a tag with text == \"More\")\n",
    "1. Fetch URL, prepended with domain (datatau.com/(extracted link here))\n",
    "1. Parse the page with `Selector(text=HTML).xpath('').extract()` to find the elements\n",
    "1. Add to dataframe\n",
    "\n",
    "_Note:  You might want to set a limit something like 2-3 total requests per attempt to avoid unecessary transfer_\n"
   ]
  },
  {
   "cell_type": "code",
   "execution_count": 266,
   "metadata": {
    "collapsed": false,
    "scrolled": false
   },
   "outputs": [
    {
     "name": "stdout",
     "output_type": "stream",
     "text": [
      "Fetching http://www.datatau.com/x?fnid=Fmls0FrvEj...\n",
      "Fetching http://www.datatau.com/x?fnid=j3QWKCvtjh...\n",
      "Fetching http://www.datatau.com/x?fnid=Rdnhc6mh7g...\n",
      "Fetching http://www.datatau.com/x?fnid=9LJYiiraTO...\n",
      "Fetching http://www.datatau.com/x?fnid=iPfOhtdZQC...\n",
      "Fetching http://www.datatau.com/x?fnid=eb6aQ206gq...\n"
     ]
    },
    {
     "data": {
      "text/html": [
       "<div>\n",
       "<table border=\"1\" class=\"dataframe\">\n",
       "  <thead>\n",
       "    <tr style=\"text-align: right;\">\n",
       "      <th></th>\n",
       "      <th>index</th>\n",
       "      <th>authors</th>\n",
       "      <th>comments</th>\n",
       "      <th>domains</th>\n",
       "      <th>links</th>\n",
       "      <th>points</th>\n",
       "      <th>titles</th>\n",
       "    </tr>\n",
       "  </thead>\n",
       "  <tbody>\n",
       "    <tr>\n",
       "      <th>0</th>\n",
       "      <td>0</td>\n",
       "      <td>megandias</td>\n",
       "      <td>discuss</td>\n",
       "      <td>(insighthealthdata.com)</td>\n",
       "      <td>http://insighthealthdata.com/blog/health-consu...</td>\n",
       "      <td>3 points</td>\n",
       "      <td>Delivering Cutting-Edge Data Science To Startu...</td>\n",
       "    </tr>\n",
       "    <tr>\n",
       "      <th>1</th>\n",
       "      <td>1</td>\n",
       "      <td>Johnymontana</td>\n",
       "      <td>discuss</td>\n",
       "      <td>(lyonwj.com)</td>\n",
       "      <td>http://www.lyonwj.com/2016/06/26/graph-of-thro...</td>\n",
       "      <td>2 points</td>\n",
       "      <td>Analyzing the Graph of Thrones with Neo4j</td>\n",
       "    </tr>\n",
       "    <tr>\n",
       "      <th>2</th>\n",
       "      <td>2</td>\n",
       "      <td>Anon84</td>\n",
       "      <td>discuss</td>\n",
       "      <td>(neuralnetworksanddeeplearning.com)</td>\n",
       "      <td>http://neuralnetworksanddeeplearning.com/#</td>\n",
       "      <td>9 points</td>\n",
       "      <td>[eBook] Neural networks and deep learning</td>\n",
       "    </tr>\n",
       "    <tr>\n",
       "      <th>3</th>\n",
       "      <td>3</td>\n",
       "      <td>Mayeesha</td>\n",
       "      <td>1 comment</td>\n",
       "      <td>(medium.com)</td>\n",
       "      <td>https://medium.com/learning-machine-learning/g...</td>\n",
       "      <td>5 points</td>\n",
       "      <td>Getting Started with Machine Learning by UWash...</td>\n",
       "    </tr>\n",
       "    <tr>\n",
       "      <th>4</th>\n",
       "      <td>4</td>\n",
       "      <td>vegeta</td>\n",
       "      <td>1 comment</td>\n",
       "      <td>(github.com)</td>\n",
       "      <td>https://github.com/meet-vora/mlp-classifier</td>\n",
       "      <td>6 points</td>\n",
       "      <td>Show Datatau: A handwritten MLP classifier</td>\n",
       "    </tr>\n",
       "    <tr>\n",
       "      <th>5</th>\n",
       "      <td>5</td>\n",
       "      <td>mikewally</td>\n",
       "      <td>1 comment</td>\n",
       "      <td>(aylien.com)</td>\n",
       "      <td>http://blog.aylien.com/post/145963257948/word-...</td>\n",
       "      <td>5 points</td>\n",
       "      <td>Word embeddings and their challenges</td>\n",
       "    </tr>\n",
       "    <tr>\n",
       "      <th>6</th>\n",
       "      <td>6</td>\n",
       "      <td>Nadav</td>\n",
       "      <td>2 comments</td>\n",
       "      <td>(insightdataengineering.com)</td>\n",
       "      <td>item?id=13223</td>\n",
       "      <td>4 points</td>\n",
       "      <td>Ask DT: How to play in an organisation where d...</td>\n",
       "    </tr>\n",
       "    <tr>\n",
       "      <th>7</th>\n",
       "      <td>7</td>\n",
       "      <td>bionerd2</td>\n",
       "      <td>1 comment</td>\n",
       "      <td>(intellexer.com)</td>\n",
       "      <td>item?id=13264</td>\n",
       "      <td>2 points</td>\n",
       "      <td>Ask DT: ML Internships in valley for undergrads?</td>\n",
       "    </tr>\n",
       "    <tr>\n",
       "      <th>8</th>\n",
       "      <td>8</td>\n",
       "      <td>megandias</td>\n",
       "      <td>discuss</td>\n",
       "      <td>(growthmarketingconf.com)</td>\n",
       "      <td>http://insightdataengineering.com/blog/wwcode/</td>\n",
       "      <td>2 points</td>\n",
       "      <td>Insight Partners with Women Who Code</td>\n",
       "    </tr>\n",
       "    <tr>\n",
       "      <th>9</th>\n",
       "      <td>9</td>\n",
       "      <td>steinvil</td>\n",
       "      <td>discuss</td>\n",
       "      <td>(sebastianraschka.com)</td>\n",
       "      <td>http://demo.intellexer.com/</td>\n",
       "      <td>5 points</td>\n",
       "      <td>Online summarization, sentiment analysis and e...</td>\n",
       "    </tr>\n",
       "    <tr>\n",
       "      <th>10</th>\n",
       "      <td>10</td>\n",
       "      <td>borisva</td>\n",
       "      <td>discuss</td>\n",
       "      <td>(youtube.com)</td>\n",
       "      <td>http://growthmarketingconf.com/content-analyti...</td>\n",
       "      <td>3 points</td>\n",
       "      <td>Using Scripted Analytics to Formulate Successf...</td>\n",
       "    </tr>\n",
       "    <tr>\n",
       "      <th>11</th>\n",
       "      <td>11</td>\n",
       "      <td>rasbt</td>\n",
       "      <td>1 comment</td>\n",
       "      <td>(yhat.com)</td>\n",
       "      <td>http://sebastianraschka.com/blog/2016/model-ev...</td>\n",
       "      <td>9 points</td>\n",
       "      <td>Model evaluation, model selection, and algorit...</td>\n",
       "    </tr>\n",
       "    <tr>\n",
       "      <th>12</th>\n",
       "      <td>12</td>\n",
       "      <td>Johnymontana</td>\n",
       "      <td>discuss</td>\n",
       "      <td>(insightdatascience.com)</td>\n",
       "      <td>https://www.youtube.com/watch?v=C9NozZ9LsVM</td>\n",
       "      <td>2 points</td>\n",
       "      <td>Panama Papers – Interview of Data Journalist M...</td>\n",
       "    </tr>\n",
       "    <tr>\n",
       "      <th>13</th>\n",
       "      <td>13</td>\n",
       "      <td>elisebreda</td>\n",
       "      <td>discuss</td>\n",
       "      <td>(r4stats.com)</td>\n",
       "      <td>http://blog.yhat.com/posts/rpy2-combing-the-po...</td>\n",
       "      <td>2 points</td>\n",
       "      <td>RPy2: Combining the Power of R + Python</td>\n",
       "    </tr>\n",
       "    <tr>\n",
       "      <th>14</th>\n",
       "      <td>14</td>\n",
       "      <td>megandias</td>\n",
       "      <td>discuss</td>\n",
       "      <td>(programmingalgorithms.com)</td>\n",
       "      <td>http://insightdatascience.com/blog/legislator_...</td>\n",
       "      <td>4 points</td>\n",
       "      <td>Legislator Prognosticator</td>\n",
       "    </tr>\n",
       "    <tr>\n",
       "      <th>15</th>\n",
       "      <td>15</td>\n",
       "      <td>thenaturalist</td>\n",
       "      <td>discuss</td>\n",
       "      <td>(ow.ly)</td>\n",
       "      <td>http://r4stats.com/2016/06/08/r-passes-sas-in-...</td>\n",
       "      <td>11 points</td>\n",
       "      <td>R Passes SAS in Scholarly Use</td>\n",
       "    </tr>\n",
       "    <tr>\n",
       "      <th>16</th>\n",
       "      <td>16</td>\n",
       "      <td>X_Coder</td>\n",
       "      <td>discuss</td>\n",
       "      <td>(metricle.com)</td>\n",
       "      <td>http://www.programmingalgorithms.com/algorithm...</td>\n",
       "      <td>4 points</td>\n",
       "      <td>Bellman–Ford Algorithm</td>\n",
       "    </tr>\n",
       "    <tr>\n",
       "      <th>17</th>\n",
       "      <td>17</td>\n",
       "      <td>AnnaOnTheWeb</td>\n",
       "      <td>2 comments</td>\n",
       "      <td>(youtube.com)</td>\n",
       "      <td>http://ow.ly/KjY2301epqq</td>\n",
       "      <td>5 points</td>\n",
       "      <td>Call for Speakers Data Science Popup LA</td>\n",
       "    </tr>\n",
       "    <tr>\n",
       "      <th>18</th>\n",
       "      <td>18</td>\n",
       "      <td>vgoklani</td>\n",
       "      <td>1 comment</td>\n",
       "      <td>(github.io)</td>\n",
       "      <td>https://metricle.com/api</td>\n",
       "      <td>13 points</td>\n",
       "      <td>Twitter Sentiment Analysis for Finance/Trading</td>\n",
       "    </tr>\n",
       "    <tr>\n",
       "      <th>19</th>\n",
       "      <td>19</td>\n",
       "      <td>brian_spiering</td>\n",
       "      <td>discuss</td>\n",
       "      <td>(dataquest.io)</td>\n",
       "      <td>https://www.youtube.com/channel/UCwTD5zJbsQGJN...</td>\n",
       "      <td>22 points</td>\n",
       "      <td>PyCon 2016 Videos</td>\n",
       "    </tr>\n",
       "    <tr>\n",
       "      <th>20</th>\n",
       "      <td>20</td>\n",
       "      <td>twiecki</td>\n",
       "      <td>discuss</td>\n",
       "      <td>(mldb.ai)</td>\n",
       "      <td>http://twiecki.github.io/blog/2016/06/01/bayes...</td>\n",
       "      <td>19 points</td>\n",
       "      <td>Bayesian Deep Learning</td>\n",
       "    </tr>\n",
       "    <tr>\n",
       "      <th>21</th>\n",
       "      <td>21</td>\n",
       "      <td>jaypeeedevlin</td>\n",
       "      <td>discuss</td>\n",
       "      <td>(mapd.com)</td>\n",
       "      <td>https://dataquest.io/blog/how-to-setup-a-data-...</td>\n",
       "      <td>5 points</td>\n",
       "      <td>How to setup a Data Science blog</td>\n",
       "    </tr>\n",
       "    <tr>\n",
       "      <th>22</th>\n",
       "      <td>22</td>\n",
       "      <td>ddcarnage</td>\n",
       "      <td>discuss</td>\n",
       "      <td>(digitalocean.com)</td>\n",
       "      <td>http://mldb.ai</td>\n",
       "      <td>9 points</td>\n",
       "      <td>MLDB: the open-source Machine Learning Database</td>\n",
       "    </tr>\n",
       "    <tr>\n",
       "      <th>23</th>\n",
       "      <td>23</td>\n",
       "      <td>jtsymonds</td>\n",
       "      <td>discuss</td>\n",
       "      <td>(jeannicholashould.com)</td>\n",
       "      <td>http://www.mapd.com/demos/tweetmap/</td>\n",
       "      <td>5 points</td>\n",
       "      <td>141 Million Tweets Visualized Using GPUs (data...</td>\n",
       "    </tr>\n",
       "    <tr>\n",
       "      <th>24</th>\n",
       "      <td>24</td>\n",
       "      <td>mrandrewandrade</td>\n",
       "      <td>1 comment</td>\n",
       "      <td>(youtube.com)</td>\n",
       "      <td>https://www.digitalocean.com/community/tutoria...</td>\n",
       "      <td>4 points</td>\n",
       "      <td>How to run and connect to Jupyter/Ipython note...</td>\n",
       "    </tr>\n",
       "    <tr>\n",
       "      <th>25</th>\n",
       "      <td>25</td>\n",
       "      <td>nickhould</td>\n",
       "      <td>1 comment</td>\n",
       "      <td>(citusdata.com)</td>\n",
       "      <td>http://www.jeannicholashould.com/2016/06/04/do...</td>\n",
       "      <td>12 points</td>\n",
       "      <td>Don't Build Another Dashboard From Scratch</td>\n",
       "    </tr>\n",
       "    <tr>\n",
       "      <th>26</th>\n",
       "      <td>26</td>\n",
       "      <td>ramsey</td>\n",
       "      <td>1 comment</td>\n",
       "      <td>(github.io)</td>\n",
       "      <td>https://www.youtube.com/channel/UCWN3xxRkmTPmb...</td>\n",
       "      <td>12 points</td>\n",
       "      <td>ML for hackers series</td>\n",
       "    </tr>\n",
       "    <tr>\n",
       "      <th>27</th>\n",
       "      <td>27</td>\n",
       "      <td>craigkerstiens</td>\n",
       "      <td>discuss</td>\n",
       "      <td>(insighthealthdata.com)</td>\n",
       "      <td>https://www.citusdata.com/blog/1907-eren-ba%C5...</td>\n",
       "      <td>5 points</td>\n",
       "      <td>Scaling Out MySQL with PostgreSQL and Citus</td>\n",
       "    </tr>\n",
       "    <tr>\n",
       "      <th>28</th>\n",
       "      <td>28</td>\n",
       "      <td>Anon84</td>\n",
       "      <td>discuss</td>\n",
       "      <td>NaN</td>\n",
       "      <td>http://karpathy.github.io/2016/05/31/rl/</td>\n",
       "      <td>10 points</td>\n",
       "      <td>Deep Reinforcement Learning: Pong from Pixels</td>\n",
       "    </tr>\n",
       "    <tr>\n",
       "      <th>29</th>\n",
       "      <td>29</td>\n",
       "      <td>megandias</td>\n",
       "      <td>discuss</td>\n",
       "      <td>NaN</td>\n",
       "      <td>http://insighthealthdata.com/blog/microbe-sifter/</td>\n",
       "      <td>9 points</td>\n",
       "      <td>MicrobeSifter: mapping complex microbe genomic...</td>\n",
       "    </tr>\n",
       "    <tr>\n",
       "      <th>...</th>\n",
       "      <td>...</td>\n",
       "      <td>...</td>\n",
       "      <td>...</td>\n",
       "      <td>...</td>\n",
       "      <td>...</td>\n",
       "      <td>...</td>\n",
       "      <td>...</td>\n",
       "    </tr>\n",
       "    <tr>\n",
       "      <th>180</th>\n",
       "      <td>0</td>\n",
       "      <td>michelangelo</td>\n",
       "      <td>discuss</td>\n",
       "      <td>(civisanalytics.com)</td>\n",
       "      <td>https://civisanalytics.com/blog/data-science/2...</td>\n",
       "      <td>14 points</td>\n",
       "      <td>Forget Python vs. R: how they can work together</td>\n",
       "    </tr>\n",
       "    <tr>\n",
       "      <th>181</th>\n",
       "      <td>1</td>\n",
       "      <td>jeradf</td>\n",
       "      <td>2 comments</td>\n",
       "      <td>(bookspace.co)</td>\n",
       "      <td>http://www.bookspace.co/search/?query_book=The...</td>\n",
       "      <td>9 points</td>\n",
       "      <td>A Product similarity space with doc2vec</td>\n",
       "    </tr>\n",
       "    <tr>\n",
       "      <th>182</th>\n",
       "      <td>2</td>\n",
       "      <td>Rogerh91</td>\n",
       "      <td>discuss</td>\n",
       "      <td>(springboard.com)</td>\n",
       "      <td>https://www.springboard.com/blog/data-science-...</td>\n",
       "      <td>4 points</td>\n",
       "      <td>What We Learned Analyzing Hundreds of Data Sci...</td>\n",
       "    </tr>\n",
       "    <tr>\n",
       "      <th>183</th>\n",
       "      <td>3</td>\n",
       "      <td>melissabierly</td>\n",
       "      <td>discuss</td>\n",
       "      <td>(modeanalytics.com)</td>\n",
       "      <td>https://blog.modeanalytics.com/data-science-ca...</td>\n",
       "      <td>9 points</td>\n",
       "      <td>70+ Resources for Transitioning to a Data Scie...</td>\n",
       "    </tr>\n",
       "    <tr>\n",
       "      <th>184</th>\n",
       "      <td>4</td>\n",
       "      <td>axelr</td>\n",
       "      <td>1 comment</td>\n",
       "      <td>(github.io)</td>\n",
       "      <td>http://arogozhnikov.github.io/2016/07/12/secre...</td>\n",
       "      <td>7 points</td>\n",
       "      <td>Occam razor vs. machine learning</td>\n",
       "    </tr>\n",
       "    <tr>\n",
       "      <th>185</th>\n",
       "      <td>5</td>\n",
       "      <td>wdm0006</td>\n",
       "      <td>discuss</td>\n",
       "      <td>(github.com)</td>\n",
       "      <td>https://github.com/wdm0006/categorical_encoding</td>\n",
       "      <td>3 points</td>\n",
       "      <td>Category Encoders: sklearn-compatible transfor...</td>\n",
       "    </tr>\n",
       "    <tr>\n",
       "      <th>186</th>\n",
       "      <td>6</td>\n",
       "      <td>marklit</td>\n",
       "      <td>1 comment</td>\n",
       "      <td>(marksblogg.com)</td>\n",
       "      <td>http://tech.marksblogg.com/billion-nyc-taxi-ri...</td>\n",
       "      <td>9 points</td>\n",
       "      <td>Benchmarking 8 of the new Pascal Titan Xs by q...</td>\n",
       "    </tr>\n",
       "    <tr>\n",
       "      <th>187</th>\n",
       "      <td>7</td>\n",
       "      <td>adilmoujahid</td>\n",
       "      <td>discuss</td>\n",
       "      <td>(adilmoujahid.com)</td>\n",
       "      <td>http://adilmoujahid.com/posts/2016/08/interact...</td>\n",
       "      <td>10 points</td>\n",
       "      <td>Interactive Data Viz of Geospatial Data using ...</td>\n",
       "    </tr>\n",
       "    <tr>\n",
       "      <th>188</th>\n",
       "      <td>8</td>\n",
       "      <td>William89</td>\n",
       "      <td>discuss</td>\n",
       "      <td>(octoparse.com)</td>\n",
       "      <td>http://www.octoparse.com/tutorial/how-to-extra...</td>\n",
       "      <td>4 points</td>\n",
       "      <td>Inside Airbnb: Bulk collect data from Airbnb</td>\n",
       "    </tr>\n",
       "    <tr>\n",
       "      <th>189</th>\n",
       "      <td>9</td>\n",
       "      <td>sicarul</td>\n",
       "      <td>discuss</td>\n",
       "      <td>(datascienceheroes.com)</td>\n",
       "      <td>http://livebook.datascienceheroes.com/</td>\n",
       "      <td>7 points</td>\n",
       "      <td>Data Science Live Book - A book to learn data ...</td>\n",
       "    </tr>\n",
       "    <tr>\n",
       "      <th>190</th>\n",
       "      <td>10</td>\n",
       "      <td>craigkerstiens</td>\n",
       "      <td>discuss</td>\n",
       "      <td>(inferentialthinking.com)</td>\n",
       "      <td>http://www.inferentialthinking.com/</td>\n",
       "      <td>5 points</td>\n",
       "      <td>Computational and Inferential Thinking</td>\n",
       "    </tr>\n",
       "    <tr>\n",
       "      <th>191</th>\n",
       "      <td>11</td>\n",
       "      <td>Veerle</td>\n",
       "      <td>1 comment</td>\n",
       "      <td>(udacity.com)</td>\n",
       "      <td>http://blog.udacity.com/2015/04/data-science-i...</td>\n",
       "      <td>13 points</td>\n",
       "      <td>Data Science Interview Questions</td>\n",
       "    </tr>\n",
       "    <tr>\n",
       "      <th>192</th>\n",
       "      <td>12</td>\n",
       "      <td>danielchalef</td>\n",
       "      <td>discuss</td>\n",
       "      <td>(dominodatalab.com)</td>\n",
       "      <td>https://blog.dominodatalab.com/joel-test-data-...</td>\n",
       "      <td>12 points</td>\n",
       "      <td>A \"Joel Test\" for Data Science: A highly slopp...</td>\n",
       "    </tr>\n",
       "    <tr>\n",
       "      <th>193</th>\n",
       "      <td>13</td>\n",
       "      <td>ahmedbesbes</td>\n",
       "      <td>discuss</td>\n",
       "      <td>(ahmedbesbes.com)</td>\n",
       "      <td>http://ahmedbesbes.com/how-to-score-08134-in-t...</td>\n",
       "      <td>6 points</td>\n",
       "      <td>How to score 0.8134 on the Titanic Kaggle chal...</td>\n",
       "    </tr>\n",
       "    <tr>\n",
       "      <th>194</th>\n",
       "      <td>14</td>\n",
       "      <td>nickhould</td>\n",
       "      <td>discuss</td>\n",
       "      <td>(jeannicholashould.com)</td>\n",
       "      <td>http://www.jeannicholashould.com/getting-your-...</td>\n",
       "      <td>6 points</td>\n",
       "      <td>Getting your first job in data science</td>\n",
       "    </tr>\n",
       "    <tr>\n",
       "      <th>195</th>\n",
       "      <td>15</td>\n",
       "      <td>craigkerstiens</td>\n",
       "      <td>discuss</td>\n",
       "      <td>(citusdata.com)</td>\n",
       "      <td>https://www.citusdata.com/blog/2016/08/10/shar...</td>\n",
       "      <td>4 points</td>\n",
       "      <td>Sharding a multi-tenant app with Postgres</td>\n",
       "    </tr>\n",
       "    <tr>\n",
       "      <th>196</th>\n",
       "      <td>16</td>\n",
       "      <td>elisebreda</td>\n",
       "      <td>4 comments</td>\n",
       "      <td>(yhat.com)</td>\n",
       "      <td>http://blog.yhat.com/posts/rodeo-for-windows.html</td>\n",
       "      <td>8 points</td>\n",
       "      <td>Rodeo, a Python IDE for doing data science, re...</td>\n",
       "    </tr>\n",
       "    <tr>\n",
       "      <th>197</th>\n",
       "      <td>17</td>\n",
       "      <td>akelleh</td>\n",
       "      <td>discuss</td>\n",
       "      <td>(medium.com)</td>\n",
       "      <td>https://medium.com/@akelleh/causal-data-scienc...</td>\n",
       "      <td>4 points</td>\n",
       "      <td>Some weekend reading: Causal Data Science</td>\n",
       "    </tr>\n",
       "    <tr>\n",
       "      <th>198</th>\n",
       "      <td>18</td>\n",
       "      <td>Rogerh91</td>\n",
       "      <td>discuss</td>\n",
       "      <td>(springboard.com)</td>\n",
       "      <td>https://www.springboard.com/resources/data-sci...</td>\n",
       "      <td>8 points</td>\n",
       "      <td>A Free Guide to Acing the Data Science Interview</td>\n",
       "    </tr>\n",
       "    <tr>\n",
       "      <th>199</th>\n",
       "      <td>19</td>\n",
       "      <td>rockdiesel</td>\n",
       "      <td>1 comment</td>\n",
       "      <td>(hackerlists.com)</td>\n",
       "      <td>https://hackerlists.com/tensorflow-resources/</td>\n",
       "      <td>11 points</td>\n",
       "      <td>The Ultimate List of TensorFlow Resources</td>\n",
       "    </tr>\n",
       "    <tr>\n",
       "      <th>200</th>\n",
       "      <td>20</td>\n",
       "      <td>tfturing</td>\n",
       "      <td>1 comment</td>\n",
       "      <td>(medium.com)</td>\n",
       "      <td>https://medium.com/data-engineering/modeling-m...</td>\n",
       "      <td>7 points</td>\n",
       "      <td>Modeling Madly - Machine learning at hackathons</td>\n",
       "    </tr>\n",
       "    <tr>\n",
       "      <th>201</th>\n",
       "      <td>21</td>\n",
       "      <td>Cody</td>\n",
       "      <td>discuss</td>\n",
       "      <td>(github.io)</td>\n",
       "      <td>https://ttvand.github.io/Winning-approach-of-t...</td>\n",
       "      <td>7 points</td>\n",
       "      <td>Facebook V: Predicting Check Ins</td>\n",
       "    </tr>\n",
       "    <tr>\n",
       "      <th>202</th>\n",
       "      <td>22</td>\n",
       "      <td>Jane</td>\n",
       "      <td>discuss</td>\n",
       "      <td>(octoparse.com)</td>\n",
       "      <td>http://www.octoparse.com/tutorial/extract-info...</td>\n",
       "      <td>4 points</td>\n",
       "      <td>Extract Information from LinkedIn Public Data</td>\n",
       "    </tr>\n",
       "    <tr>\n",
       "      <th>203</th>\n",
       "      <td>23</td>\n",
       "      <td>M_John</td>\n",
       "      <td>discuss</td>\n",
       "      <td>(github.com)</td>\n",
       "      <td>https://github.com/cassidoo/scrapers</td>\n",
       "      <td>4 points</td>\n",
       "      <td>Web scraper on the Internet</td>\n",
       "    </tr>\n",
       "    <tr>\n",
       "      <th>204</th>\n",
       "      <td>24</td>\n",
       "      <td>benfrederickson</td>\n",
       "      <td>discuss</td>\n",
       "      <td>(github.io)</td>\n",
       "      <td>http://katbailey.github.io/post/gaussian-proce...</td>\n",
       "      <td>7 points</td>\n",
       "      <td>Gaussian Processes for Dummies</td>\n",
       "    </tr>\n",
       "    <tr>\n",
       "      <th>205</th>\n",
       "      <td>25</td>\n",
       "      <td>yanirs</td>\n",
       "      <td>11 comments</td>\n",
       "      <td>(yanirseroussi.com)</td>\n",
       "      <td>https://yanirseroussi.com/2016/08/04/is-data-s...</td>\n",
       "      <td>16 points</td>\n",
       "      <td>Is Data Scientist a useless job title?</td>\n",
       "    </tr>\n",
       "    <tr>\n",
       "      <th>206</th>\n",
       "      <td>26</td>\n",
       "      <td>rcarmo</td>\n",
       "      <td>discuss</td>\n",
       "      <td>(taoofmac.com)</td>\n",
       "      <td>http://taoofmac.com/space/blog/2016/08/10/0830</td>\n",
       "      <td>5 points</td>\n",
       "      <td>How To Run Mathematica on a 20-core Raspberry ...</td>\n",
       "    </tr>\n",
       "    <tr>\n",
       "      <th>207</th>\n",
       "      <td>27</td>\n",
       "      <td>danidelvalle</td>\n",
       "      <td>discuss</td>\n",
       "      <td>(danidelvalle.me)</td>\n",
       "      <td>https://danidelvalle.me/2016/08/08/smartphone-...</td>\n",
       "      <td>7 points</td>\n",
       "      <td>Smartphone brand loyalty and handset renewal a...</td>\n",
       "    </tr>\n",
       "    <tr>\n",
       "      <th>208</th>\n",
       "      <td>28</td>\n",
       "      <td>tfturing</td>\n",
       "      <td>discuss</td>\n",
       "      <td>(github.com)</td>\n",
       "      <td>https://github.com/nicholaslocascio/deep-regex</td>\n",
       "      <td>3 points</td>\n",
       "      <td>Neural Generation of Regular Expressions from ...</td>\n",
       "    </tr>\n",
       "    <tr>\n",
       "      <th>209</th>\n",
       "      <td>29</td>\n",
       "      <td>craigkerstiens</td>\n",
       "      <td>discuss</td>\n",
       "      <td>(citusdata.com)</td>\n",
       "      <td>https://www.citusdata.com/blog/2016/08/12/stat...</td>\n",
       "      <td>3 points</td>\n",
       "      <td>Using State Machines to run Databases</td>\n",
       "    </tr>\n",
       "  </tbody>\n",
       "</table>\n",
       "<p>210 rows × 7 columns</p>\n",
       "</div>"
      ],
      "text/plain": [
       "     index          authors     comments  \\\n",
       "0        0        megandias      discuss   \n",
       "1        1     Johnymontana      discuss   \n",
       "2        2           Anon84      discuss   \n",
       "3        3         Mayeesha    1 comment   \n",
       "4        4           vegeta    1 comment   \n",
       "5        5        mikewally    1 comment   \n",
       "6        6            Nadav   2 comments   \n",
       "7        7         bionerd2    1 comment   \n",
       "8        8        megandias      discuss   \n",
       "9        9         steinvil      discuss   \n",
       "10      10          borisva      discuss   \n",
       "11      11            rasbt    1 comment   \n",
       "12      12     Johnymontana      discuss   \n",
       "13      13       elisebreda      discuss   \n",
       "14      14        megandias      discuss   \n",
       "15      15    thenaturalist      discuss   \n",
       "16      16          X_Coder      discuss   \n",
       "17      17     AnnaOnTheWeb   2 comments   \n",
       "18      18         vgoklani    1 comment   \n",
       "19      19   brian_spiering      discuss   \n",
       "20      20          twiecki      discuss   \n",
       "21      21    jaypeeedevlin      discuss   \n",
       "22      22        ddcarnage      discuss   \n",
       "23      23        jtsymonds      discuss   \n",
       "24      24  mrandrewandrade    1 comment   \n",
       "25      25        nickhould    1 comment   \n",
       "26      26           ramsey    1 comment   \n",
       "27      27   craigkerstiens      discuss   \n",
       "28      28           Anon84      discuss   \n",
       "29      29        megandias      discuss   \n",
       "..     ...              ...          ...   \n",
       "180      0     michelangelo      discuss   \n",
       "181      1           jeradf   2 comments   \n",
       "182      2         Rogerh91      discuss   \n",
       "183      3    melissabierly      discuss   \n",
       "184      4            axelr    1 comment   \n",
       "185      5          wdm0006      discuss   \n",
       "186      6          marklit    1 comment   \n",
       "187      7     adilmoujahid      discuss   \n",
       "188      8        William89      discuss   \n",
       "189      9          sicarul      discuss   \n",
       "190     10   craigkerstiens      discuss   \n",
       "191     11           Veerle    1 comment   \n",
       "192     12     danielchalef      discuss   \n",
       "193     13      ahmedbesbes      discuss   \n",
       "194     14        nickhould      discuss   \n",
       "195     15   craigkerstiens      discuss   \n",
       "196     16       elisebreda   4 comments   \n",
       "197     17          akelleh      discuss   \n",
       "198     18         Rogerh91      discuss   \n",
       "199     19       rockdiesel    1 comment   \n",
       "200     20         tfturing    1 comment   \n",
       "201     21             Cody      discuss   \n",
       "202     22             Jane      discuss   \n",
       "203     23           M_John      discuss   \n",
       "204     24  benfrederickson      discuss   \n",
       "205     25           yanirs  11 comments   \n",
       "206     26           rcarmo      discuss   \n",
       "207     27     danidelvalle      discuss   \n",
       "208     28         tfturing      discuss   \n",
       "209     29   craigkerstiens      discuss   \n",
       "\n",
       "                                   domains  \\\n",
       "0                 (insighthealthdata.com)    \n",
       "1                            (lyonwj.com)    \n",
       "2     (neuralnetworksanddeeplearning.com)    \n",
       "3                            (medium.com)    \n",
       "4                            (github.com)    \n",
       "5                            (aylien.com)    \n",
       "6            (insightdataengineering.com)    \n",
       "7                        (intellexer.com)    \n",
       "8               (growthmarketingconf.com)    \n",
       "9                  (sebastianraschka.com)    \n",
       "10                          (youtube.com)    \n",
       "11                             (yhat.com)    \n",
       "12               (insightdatascience.com)    \n",
       "13                          (r4stats.com)    \n",
       "14            (programmingalgorithms.com)    \n",
       "15                                (ow.ly)    \n",
       "16                         (metricle.com)    \n",
       "17                          (youtube.com)    \n",
       "18                            (github.io)    \n",
       "19                         (dataquest.io)    \n",
       "20                              (mldb.ai)    \n",
       "21                             (mapd.com)    \n",
       "22                     (digitalocean.com)    \n",
       "23                (jeannicholashould.com)    \n",
       "24                          (youtube.com)    \n",
       "25                        (citusdata.com)    \n",
       "26                            (github.io)    \n",
       "27                (insighthealthdata.com)    \n",
       "28                                     NaN   \n",
       "29                                     NaN   \n",
       "..                                     ...   \n",
       "180                  (civisanalytics.com)    \n",
       "181                        (bookspace.co)    \n",
       "182                     (springboard.com)    \n",
       "183                   (modeanalytics.com)    \n",
       "184                           (github.io)    \n",
       "185                          (github.com)    \n",
       "186                      (marksblogg.com)    \n",
       "187                    (adilmoujahid.com)    \n",
       "188                       (octoparse.com)    \n",
       "189               (datascienceheroes.com)    \n",
       "190             (inferentialthinking.com)    \n",
       "191                         (udacity.com)    \n",
       "192                   (dominodatalab.com)    \n",
       "193                     (ahmedbesbes.com)    \n",
       "194               (jeannicholashould.com)    \n",
       "195                       (citusdata.com)    \n",
       "196                            (yhat.com)    \n",
       "197                          (medium.com)    \n",
       "198                     (springboard.com)    \n",
       "199                     (hackerlists.com)    \n",
       "200                          (medium.com)    \n",
       "201                           (github.io)    \n",
       "202                       (octoparse.com)    \n",
       "203                          (github.com)    \n",
       "204                           (github.io)    \n",
       "205                   (yanirseroussi.com)    \n",
       "206                        (taoofmac.com)    \n",
       "207                     (danidelvalle.me)    \n",
       "208                          (github.com)    \n",
       "209                       (citusdata.com)    \n",
       "\n",
       "                                                 links     points  \\\n",
       "0    http://insighthealthdata.com/blog/health-consu...   3 points   \n",
       "1    http://www.lyonwj.com/2016/06/26/graph-of-thro...   2 points   \n",
       "2           http://neuralnetworksanddeeplearning.com/#   9 points   \n",
       "3    https://medium.com/learning-machine-learning/g...   5 points   \n",
       "4          https://github.com/meet-vora/mlp-classifier   6 points   \n",
       "5    http://blog.aylien.com/post/145963257948/word-...   5 points   \n",
       "6                                        item?id=13223   4 points   \n",
       "7                                        item?id=13264   2 points   \n",
       "8       http://insightdataengineering.com/blog/wwcode/   2 points   \n",
       "9                          http://demo.intellexer.com/   5 points   \n",
       "10   http://growthmarketingconf.com/content-analyti...   3 points   \n",
       "11   http://sebastianraschka.com/blog/2016/model-ev...   9 points   \n",
       "12         https://www.youtube.com/watch?v=C9NozZ9LsVM   2 points   \n",
       "13   http://blog.yhat.com/posts/rpy2-combing-the-po...   2 points   \n",
       "14   http://insightdatascience.com/blog/legislator_...   4 points   \n",
       "15   http://r4stats.com/2016/06/08/r-passes-sas-in-...  11 points   \n",
       "16   http://www.programmingalgorithms.com/algorithm...   4 points   \n",
       "17                            http://ow.ly/KjY2301epqq   5 points   \n",
       "18                            https://metricle.com/api  13 points   \n",
       "19   https://www.youtube.com/channel/UCwTD5zJbsQGJN...  22 points   \n",
       "20   http://twiecki.github.io/blog/2016/06/01/bayes...  19 points   \n",
       "21   https://dataquest.io/blog/how-to-setup-a-data-...   5 points   \n",
       "22                                      http://mldb.ai   9 points   \n",
       "23                 http://www.mapd.com/demos/tweetmap/   5 points   \n",
       "24   https://www.digitalocean.com/community/tutoria...   4 points   \n",
       "25   http://www.jeannicholashould.com/2016/06/04/do...  12 points   \n",
       "26   https://www.youtube.com/channel/UCWN3xxRkmTPmb...  12 points   \n",
       "27   https://www.citusdata.com/blog/1907-eren-ba%C5...   5 points   \n",
       "28            http://karpathy.github.io/2016/05/31/rl/  10 points   \n",
       "29   http://insighthealthdata.com/blog/microbe-sifter/   9 points   \n",
       "..                                                 ...        ...   \n",
       "180  https://civisanalytics.com/blog/data-science/2...  14 points   \n",
       "181  http://www.bookspace.co/search/?query_book=The...   9 points   \n",
       "182  https://www.springboard.com/blog/data-science-...   4 points   \n",
       "183  https://blog.modeanalytics.com/data-science-ca...   9 points   \n",
       "184  http://arogozhnikov.github.io/2016/07/12/secre...   7 points   \n",
       "185    https://github.com/wdm0006/categorical_encoding   3 points   \n",
       "186  http://tech.marksblogg.com/billion-nyc-taxi-ri...   9 points   \n",
       "187  http://adilmoujahid.com/posts/2016/08/interact...  10 points   \n",
       "188  http://www.octoparse.com/tutorial/how-to-extra...   4 points   \n",
       "189             http://livebook.datascienceheroes.com/   7 points   \n",
       "190                http://www.inferentialthinking.com/   5 points   \n",
       "191  http://blog.udacity.com/2015/04/data-science-i...  13 points   \n",
       "192  https://blog.dominodatalab.com/joel-test-data-...  12 points   \n",
       "193  http://ahmedbesbes.com/how-to-score-08134-in-t...   6 points   \n",
       "194  http://www.jeannicholashould.com/getting-your-...   6 points   \n",
       "195  https://www.citusdata.com/blog/2016/08/10/shar...   4 points   \n",
       "196  http://blog.yhat.com/posts/rodeo-for-windows.html   8 points   \n",
       "197  https://medium.com/@akelleh/causal-data-scienc...   4 points   \n",
       "198  https://www.springboard.com/resources/data-sci...   8 points   \n",
       "199      https://hackerlists.com/tensorflow-resources/  11 points   \n",
       "200  https://medium.com/data-engineering/modeling-m...   7 points   \n",
       "201  https://ttvand.github.io/Winning-approach-of-t...   7 points   \n",
       "202  http://www.octoparse.com/tutorial/extract-info...   4 points   \n",
       "203               https://github.com/cassidoo/scrapers   4 points   \n",
       "204  http://katbailey.github.io/post/gaussian-proce...   7 points   \n",
       "205  https://yanirseroussi.com/2016/08/04/is-data-s...  16 points   \n",
       "206     http://taoofmac.com/space/blog/2016/08/10/0830   5 points   \n",
       "207  https://danidelvalle.me/2016/08/08/smartphone-...   7 points   \n",
       "208     https://github.com/nicholaslocascio/deep-regex   3 points   \n",
       "209  https://www.citusdata.com/blog/2016/08/12/stat...   3 points   \n",
       "\n",
       "                                                titles  \n",
       "0    Delivering Cutting-Edge Data Science To Startu...  \n",
       "1            Analyzing the Graph of Thrones with Neo4j  \n",
       "2            [eBook] Neural networks and deep learning  \n",
       "3    Getting Started with Machine Learning by UWash...  \n",
       "4           Show Datatau: A handwritten MLP classifier  \n",
       "5                 Word embeddings and their challenges  \n",
       "6    Ask DT: How to play in an organisation where d...  \n",
       "7     Ask DT: ML Internships in valley for undergrads?  \n",
       "8                 Insight Partners with Women Who Code  \n",
       "9    Online summarization, sentiment analysis and e...  \n",
       "10   Using Scripted Analytics to Formulate Successf...  \n",
       "11   Model evaluation, model selection, and algorit...  \n",
       "12   Panama Papers – Interview of Data Journalist M...  \n",
       "13            RPy2: Combining the Power of R + Python   \n",
       "14                           Legislator Prognosticator  \n",
       "15                       R Passes SAS in Scholarly Use  \n",
       "16                              Bellman–Ford Algorithm  \n",
       "17             Call for Speakers Data Science Popup LA  \n",
       "18      Twitter Sentiment Analysis for Finance/Trading  \n",
       "19                                   PyCon 2016 Videos  \n",
       "20                              Bayesian Deep Learning  \n",
       "21                    How to setup a Data Science blog  \n",
       "22     MLDB: the open-source Machine Learning Database  \n",
       "23   141 Million Tweets Visualized Using GPUs (data...  \n",
       "24   How to run and connect to Jupyter/Ipython note...  \n",
       "25          Don't Build Another Dashboard From Scratch  \n",
       "26                               ML for hackers series  \n",
       "27         Scaling Out MySQL with PostgreSQL and Citus  \n",
       "28       Deep Reinforcement Learning: Pong from Pixels  \n",
       "29   MicrobeSifter: mapping complex microbe genomic...  \n",
       "..                                                 ...  \n",
       "180    Forget Python vs. R: how they can work together  \n",
       "181            A Product similarity space with doc2vec  \n",
       "182  What We Learned Analyzing Hundreds of Data Sci...  \n",
       "183  70+ Resources for Transitioning to a Data Scie...  \n",
       "184                   Occam razor vs. machine learning  \n",
       "185  Category Encoders: sklearn-compatible transfor...  \n",
       "186  Benchmarking 8 of the new Pascal Titan Xs by q...  \n",
       "187  Interactive Data Viz of Geospatial Data using ...  \n",
       "188       Inside Airbnb: Bulk collect data from Airbnb  \n",
       "189  Data Science Live Book - A book to learn data ...  \n",
       "190             Computational and Inferential Thinking  \n",
       "191                   Data Science Interview Questions  \n",
       "192  A \"Joel Test\" for Data Science: A highly slopp...  \n",
       "193  How to score 0.8134 on the Titanic Kaggle chal...  \n",
       "194             Getting your first job in data science  \n",
       "195          Sharding a multi-tenant app with Postgres  \n",
       "196  Rodeo, a Python IDE for doing data science, re...  \n",
       "197          Some weekend reading: Causal Data Science  \n",
       "198   A Free Guide to Acing the Data Science Interview  \n",
       "199          The Ultimate List of TensorFlow Resources  \n",
       "200    Modeling Madly - Machine learning at hackathons  \n",
       "201                   Facebook V: Predicting Check Ins  \n",
       "202      Extract Information from LinkedIn Public Data  \n",
       "203                        Web scraper on the Internet  \n",
       "204                     Gaussian Processes for Dummies  \n",
       "205             Is Data Scientist a useless job title?  \n",
       "206  How To Run Mathematica on a 20-core Raspberry ...  \n",
       "207  Smartphone brand loyalty and handset renewal a...  \n",
       "208  Neural Generation of Regular Expressions from ...  \n",
       "209              Using State Machines to run Databases  \n",
       "\n",
       "[210 rows x 7 columns]"
      ]
     },
     "execution_count": 266,
     "metadata": {},
     "output_type": "execute_result"
    }
   ],
   "source": [
    "import requests, numpy as np\n",
    "\n",
    "def parse_url(url=\"http://www.datatau.com\", data=False):\n",
    "    \n",
    "    response  =  requests.get(url)\n",
    "    links     =  Selector(text=response.text).xpath(\"//td[@class='title']/a/@href\").extract()\n",
    "    titles    =  Selector(text=response.text).xpath(\"//td[@class='title']/a/text()\").extract()\n",
    "    points    =  Selector(text=response.text).xpath(\"//td[@class='subtext']/span/text()\").extract()\n",
    "    domains   =  Selector(text=response.text).xpath(\"//td[@class='title']/span/text()\").extract()\n",
    "    authors   =  Selector(text=response.text).xpath(\"//td[@class='subtext']/a[contains(@href, 'user')]/text()\").extract()\n",
    "    comments  =  Selector(text=response.text).xpath(\"//td[@class='subtext']/a[contains(@href, 'item')]/text()\").extract()\n",
    "\n",
    "    expected_length = 30\n",
    "    \n",
    "    # [np.nan]*(expected_length - len(points)) to the end of the lists, will fill in missing\n",
    "    # values at the end that sometimes don't exist at the ends of the results\n",
    "    scraped = dict(\n",
    "        titles   =  titles[:30], \n",
    "        links    =  links[:30], # :30 because of that damn \"more\" link\n",
    "        points   =  points + [np.nan]*(expected_length - len(points)),\n",
    "        domains  =  domains + [np.nan]*(expected_length - len(domains)),\n",
    "        authors  =  authors + [np.nan]*(expected_length - len(authors)),\n",
    "        comments =  comments + [np.nan]*(expected_length - len(comments))\n",
    "    )\n",
    "    \n",
    "    df = pd.DataFrame(scraped)\n",
    "    \n",
    "    if type(data) != bool:\n",
    "        data = df.append(data)\n",
    "    else:\n",
    "        data = df\n",
    "        \n",
    "    # If there's data append it, if not, it's the first iteration, no need.\n",
    "    # Find more link\n",
    "    more_anchor  =  Selector(text=response.text).xpath(\"//a[text() = 'More']/@href\").extract()\n",
    "    \n",
    "    if len(more_anchor) > 0:\n",
    "        more_url  =  \"http://www.datatau.com%s\" % more_anchor[0]\n",
    "        print \"Fetching %s...\" % more_url\n",
    "        return parse_url(more_url, data=data)\n",
    "    else:\n",
    "        return data.reset_index()\n",
    "       \n",
    "        \n",
    "df = parse_url(\"http://www.datatau.com\")\n",
    "df"
   ]
  },
  {
   "cell_type": "code",
   "execution_count": null,
   "metadata": {
    "collapsed": true
   },
   "outputs": [],
   "source": []
  },
  {
   "cell_type": "code",
   "execution_count": null,
   "metadata": {
    "collapsed": true
   },
   "outputs": [],
   "source": []
  }
 ],
 "metadata": {
  "anaconda-cloud": {},
  "kernelspec": {
   "display_name": "Python 2",
   "language": "python",
   "name": "python2"
  },
  "language_info": {
   "codemirror_mode": {
    "name": "ipython",
    "version": 2
   },
   "file_extension": ".py",
   "mimetype": "text/x-python",
   "name": "python",
   "nbconvert_exporter": "python",
   "pygments_lexer": "ipython2",
   "version": "2.7.13"
  }
 },
 "nbformat": 4,
 "nbformat_minor": 0
}
