{
 "cells": [
  {
   "cell_type": "markdown",
   "metadata": {},
   "source": [
    "# Team Silkroad\n",
    "\n",
    "---\n",
    "\n",
    "The time has come to take our game underground.  Our company is being hired to provide insights and metrics for a government contract entity that can potentially evaluate emerging crypto-currencies.  Understanding these markets will help ongoing and future investigations of illegal underground marketplaces operating from [darknets](https://en.wikipedia.org/wiki/Darknet_market).\n",
    "\n",
    "The general goals are:\n",
    "\n",
    "- Invent some quality metric(s) to help us measure these currencies\n",
    "- Project any kind of lifetime of given market\n",
    "- Volatility\n",
    "- Impact of \"mine-ability\" on any of the above\n",
    "\n",
    "### End with addressing this one question:  If one were to open or operate an illegal marketplace, which currency choice is best?\n",
    "\n",
    "The point of this exercise is to assess the viability of this dataset to answer our questions of interest.  If the dataset cannot address these questions effectively:\n",
    "\n",
    " - Why not? What are the limitations?\n",
    " - What other data would we need?\n",
    " - What questions could this dataset adddress, if not the original intended asks for this project?\n",
    " \n",
    "Please address the above in your presentation.  Framing is key!"
   ]
  },
  {
   "cell_type": "code",
   "execution_count": 1,
   "metadata": {
    "collapsed": true
   },
   "outputs": [],
   "source": [
    "import pandas as pd\n",
    "import numpy as np\n",
    "\n",
    "currencies = pd.read_csv(\"./datasets/currencies_and_assets.csv\")\n",
    "exchanges = pd.read_csv(\"./datasets/exchanges_and_markets.csv\")"
   ]
  },
  {
   "cell_type": "code",
   "execution_count": null,
   "metadata": {
    "collapsed": true
   },
   "outputs": [],
   "source": []
  }
 ],
 "metadata": {
  "kernelspec": {
   "display_name": "Python 2",
   "language": "python",
   "name": "python2"
  },
  "language_info": {
   "codemirror_mode": {
    "name": "ipython",
    "version": 2
   },
   "file_extension": ".py",
   "mimetype": "text/x-python",
   "name": "python",
   "nbconvert_exporter": "python",
   "pygments_lexer": "ipython2",
   "version": "2.7.12"
  }
 },
 "nbformat": 4,
 "nbformat_minor": 2
}
