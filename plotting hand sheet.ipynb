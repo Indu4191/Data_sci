{
 "cells": [
  {
   "cell_type": "code",
   "execution_count": 1,
   "metadata": {
    "collapsed": true
   },
   "outputs": [],
   "source": [
    "# pair plot"
   ]
  },
  {
   "cell_type": "raw",
   "metadata": {},
   "source": [
    "# set the seaborn style to have a white background\n",
    "sns.set(style=\"ticks\", color_codes=True)\n",
    "\n",
    "# This function does a pairplot across your variables with the color\n",
    "# set as the outcome \"malignant\" class variable\n",
    "def bcw_pairplotter(df, variables, sample_frac=0.3):\n",
    "    # sample_frac lets you specify an amount of the data to sample for the plot.\n",
    "    # this speeds up the function which can take awhile with the full data.\n",
    "    \n",
    "    # get the number of rows/data points:\n",
    "    rows = df.shape[0]\n",
    "    \n",
    "    # get downsample indicies for the data, if specified\n",
    "    if sample_frac < 1.0:\n",
    "        sample_inds = np.random.choice(range(0,rows), \n",
    "                                       size=int(round(rows*sample_frac)), \n",
    "                                       replace=False).astype(int)\n",
    "    \n",
    "    # make the pairplot for the variables:\n",
    "    pairs = sns.pairplot(df.iloc[sample_inds, :], \n",
    "                         vars=variables, \n",
    "                         hue=\"malignant\", \n",
    "                         palette=sns.xkcd_palette(['windows blue', 'amber']))\n"
   ]
  },
  {
   "cell_type": "code",
   "execution_count": null,
   "metadata": {
    "collapsed": true
   },
   "outputs": [],
   "source": []
  }
 ],
 "metadata": {
  "kernelspec": {
   "display_name": "Python 2",
   "language": "python",
   "name": "python2"
  },
  "language_info": {
   "codemirror_mode": {
    "name": "ipython",
    "version": 2
   },
   "file_extension": ".py",
   "mimetype": "text/x-python",
   "name": "python",
   "nbconvert_exporter": "python",
   "pygments_lexer": "ipython2",
   "version": "2.7.13"
  }
 },
 "nbformat": 4,
 "nbformat_minor": 2
}
