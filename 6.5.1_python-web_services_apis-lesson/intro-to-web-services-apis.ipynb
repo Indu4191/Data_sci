{
 "cells": [
  {
   "cell_type": "markdown",
   "metadata": {
    "slideshow": {
     "slide_type": "notes"
    }
   },
   "source": [
    "> **Jupyter slideshow:** This notebook can be displayed as slides. To view it as a slideshow in your browser type in the console:\n",
    "\n",
    "\n",
    "> `> ipython nbconvert [this_notebook.ipynb] --to slides --post serve`\n",
    "\n",
    "\n",
    "> To toggle off the slideshow cell formatting, click the `CellToolbar` button, then `View --> Cell Toolbar --> None`"
   ]
  },
  {
   "cell_type": "markdown",
   "metadata": {
    "slideshow": {
     "slide_type": "slide"
    }
   },
   "source": [
    "<img src=\"http://imgur.com/1ZcRyrc.png\" style=\"float: left; margin: 20px; height: 55px\">\n",
    "\n",
    "# Introduction to Web Services and APIs\n",
    "\n",
    "_Authors: Dave Yerrington (SF)_\n",
    "\n",
    "---\n",
    "\n",
    "![](https://snag.gy/lLDc8h.jpg)"
   ]
  },
  {
   "cell_type": "markdown",
   "metadata": {
    "slideshow": {
     "slide_type": "slide"
    }
   },
   "source": [
    "### Learning Objectives\n",
    "*After this lesson, you will be able to:*\n",
    "- Identify all the HTTP Verbs & their uses.\n",
    "- Describe APIs and how to make calls and consume API data.\n",
    "- Access public APIs and get information back.\n",
    "- Read and write data in JSON format.\n",
    "- Use the `requests` library."
   ]
  },
  {
   "cell_type": "markdown",
   "metadata": {
    "slideshow": {
     "slide_type": "slide"
    }
   },
   "source": [
    "### Lesson Guide\n",
    "- [Introduction to APIs](#intro)\n",
    "- [What is an API?](#what-is-api)\n",
    "- [Famous APIs](#famous)\n",
    "    - [Facebook](#facebook)\n",
    "    - [Yelp](#yelp)\n",
    "    - [Echonest](#echonest)\n",
    "- [Web APIs](#web-apis)\n",
    "- [Separation of concerns](#mvc)\n",
    "- [HTTP](#http)\n",
    "- [Web applications](#web-app)\n",
    "- [Demo: HTTP](#demo-http)\n",
    "- [Independent practice: HTTP](#ind-http)\n",
    "- [HTTP Request](#http-request)\n",
    "    - [HTTP Request methods](#request-methods)\n",
    "    - [HTTP Request structure](#request-structure)\n",
    "- [HTTP Response](#http-response)\n",
    "    - [Response types overview](#response-types)\n",
    "- [JSON](#json)\n",
    "- [Independent practice: validating JSON](#ind-practice)\n",
    "- [Guided practice: pulling data from APIs](#guided-practice)\n",
    "    - [Example 1: movies](#ex1-movies)\n",
    "    - [Submit queries to the API](#submit)\n",
    "    - [Example 2: Google Geocode](#ex2-geocode)\n",
    "- [oAuth](#oauth)\n",
    "- [Independent practice: python APIs](#ind-practice2)\n",
    "- [Closing questions](#closing-questions)"
   ]
  },
  {
   "cell_type": "markdown",
   "metadata": {
    "slideshow": {
     "slide_type": "slide"
    }
   },
   "source": [
    "## Has anyone used or is currently using an API?\n",
    "<br>\n",
    "_Warning Signs_:\n",
    "<img src=\"https://snag.gy/MP15s6.jpg\" style=\"float: left; width: 300px; margin: -5px 50px\">\n",
    "- _Random data found all over computer_\n",
    "- _Withdrawls from friends and family_\n",
    "- _Constantly iterating over nested JSON_\n",
    "- _Lack of sleep_\n",
    "- _Talks about JSON as if a real person_\n"
   ]
  },
  {
   "cell_type": "markdown",
   "metadata": {
    "slideshow": {
     "slide_type": "slide"
    }
   },
   "source": [
    "<a name=\"intro\"></a>\n",
    "## Introduction to APIs\n",
    "\n",
    "---\n",
    "\n",
    "In previous classes we learned about building processes that scrape content from web-sites.  In this lesson we will be diving into the world of APIs and taking a tour of one of the most accessible sources of data on the internet.\n",
    "\n",
    "You will learn:\n",
    "- **What is meant by an \"API\"**\n",
    "- **Common use cases**\n",
    "- **How to read API documentation**\n",
    "- **General development workflow with APIs**\n"
   ]
  },
  {
   "cell_type": "markdown",
   "metadata": {
    "slideshow": {
     "slide_type": "slide"
    }
   },
   "source": [
    "<a id='what-is-api'></a>\n",
    "## What is an API?\n",
    "\n",
    "---\n",
    "\n",
    "An API (Application Programming Interface) is a set of routines, protocols, and tools for building software applications. It specifies how software components should interact.\n",
    "\n",
    "APIs are a way developers abstract functionality to data, devices, and other resources they provide. \n",
    "\n",
    "Some examples include:\n",
    "\n",
    "- Connectivity to a variety of databases\n",
    "- Python modules that can turn LED lights on and off\n",
    "- Application that runs on native Windows, OSX, or Linux\n",
    "- Libraries that post content on Twitter, Facebook, Yelp, or LinkedIn\n",
    "- Web services for accessing currency or stock prices\n",
    "\n",
    "More abstract examples:\n",
    "- Adding your own functions to Numpy itself\n",
    "- Extending Python with C code\n",
    "- Testing Frameworks\n",
    "\n",
    "In the context of data science, APIs are a very common method to interact with data hosted by third parties and most commonly provided by **Web Service APIs**."
   ]
  },
  {
   "cell_type": "markdown",
   "metadata": {
    "slideshow": {
     "slide_type": "slide"
    }
   },
   "source": [
    "<a id='famous'></a>\n",
    "<a id='facebook'></a>\n",
    "\n",
    "### Famous APIs:  Facebook\n",
    "\n",
    "Facebook provides an API for interacting with their service.  At a glance:\n",
    "\n",
    "- View your posts\n",
    "- View websites, people, posts, pages that you've liked\n",
    "- View activity on apps from you and your friends\n",
    "  - Movies watched\n",
    "  - Music listened\n",
    "  - Games played\n",
    "- View places traveled / check-ins\n",
    "- Relationships\n",
    "\n",
    "#### Potential Project Ideas:\n",
    "\n",
    "|   |   |   |   |\n",
    "|---|---|---|---|\n",
    "| Determining Latent Characteristics | Friends Activity | Political Classification | Text Mining |\n",
    "| Friend Classifier | Trending Topics | Recommenders | Feature Importances |\n",
    "| Taste Profiling | Hipster Detector | Sub-group Identification | Checkin-Prediction |\n",
    "| Relationship Forcasting | Relationship Classification | Sentiment Analysis | Popularity Projection |\n",
    "| Personal Analytics | Friend Similarity Prediction | N-Gram Analysis | Topic Modeling |"
   ]
  },
  {
   "cell_type": "markdown",
   "metadata": {
    "slideshow": {
     "slide_type": "slide"
    }
   },
   "source": [
    "<a id='yelp'></a>\n",
    "### Famous APIs:  Yelp\n",
    "\n",
    "Yelp provides a way for developers to access:\n",
    "\n",
    "- Reviews\n",
    " - Services\n",
    " - Restaraunts / Bars / Cafes\n",
    " - Businesses\n",
    "- Business meta-data\n",
    "\n",
    "#### Potential Project Ideas\n",
    "\n",
    "|   |   |   |   |\n",
    "|---|---|---|---|\n",
    "| Topic Modeling | Text Mining | Sentiment Analysis | Funny / Cool / Interesting Classification | \n",
    "| Music Genre Classification | Parking Index Classification | Characteristics Profiling | Hipster Index |\n",
    "| Ideal Activities | Friend Recommender | Venue Recommender | Sports Bar Classifcation |\n",
    "| Where is the best [whatever] in [neighborhood] | | |"
   ]
  },
  {
   "cell_type": "markdown",
   "metadata": {
    "slideshow": {
     "slide_type": "slide"
    }
   },
   "source": [
    "<a id='echonest'></a>\n",
    "### Famous APIs:  Echonest\n",
    "\n",
    "Echonest consolidates access to many entertainment service APIs in one place.  It has a huge list of features and connected services including:\n",
    "\n",
    "- Spotify\n",
    "- Pandora\n",
    "- Rdio\n",
    "- Gracenote\n",
    "- SoundHound\n",
    "- Shazam\n",
    "\n",
    "Some Echonest features include:\n",
    "\n",
    "- Music waveform identification (like Shazam, Soundhound music ID)\n",
    "- Playlist recommendations\n",
    "- Detailed artist, album, and track lookup\n",
    " - Bio / Origins / Contemporaries / Noteworthy Accomplishments\n",
    " - Official twitter / website / social media links\n",
    " - BPM / Mood / Popularity / Genre(s) \n",
    " - Images / Videos / Media\n",
    "- Detailed movie, actor, product lookup\n",
    "- Concert Schedules and ticket metadata"
   ]
  },
  {
   "cell_type": "markdown",
   "metadata": {
    "slideshow": {
     "slide_type": "slide"
    }
   },
   "source": [
    "<a id='web-apis'></a>\n",
    "## Web APIs\n",
    "\n",
    "---\n",
    "\n",
    "![](https://snag.gy/ZsLvCz.jpg)\n",
    "\n",
    "The prevelance of web APIs have increased 10x with the rise of Javascript and advent of web programming techniques allowing for the transmission of small pieces of data without having to refresh the entire page.\n",
    "\n",
    "With the growth of highly interactive websites, provided by AJAX programming techniques in Javascript, many languages have started co-opting standards to communicate data to and from web servers for two big reasons:\n",
    "- Ease of integration\n",
    "- Consistent standards\n"
   ]
  },
  {
   "cell_type": "markdown",
   "metadata": {
    "slideshow": {
     "slide_type": "slide"
    }
   },
   "source": [
    "<a name=\"mvc\"></a>\n",
    "## Separation of concerns\n",
    "\n",
    "---\n",
    "\n",
    "In order to talk about APIs, we need first to introduce the _separation of concerns_. In computer science, _separation of concerns_ (SoC) is a design principle for separating a computer program into distinct sections, such that each section addresses a separate concern. A concern is a set of informations that affects the code of a computer program. \n",
    "\n",
    "In particular, when building a web application, it's best practice to separate the website logic from data models. This not only allows for cleaner code, but is an easier way to manipulate our layouts and interactions. Separation of concerns becomes ever more important when working with outside data.\n",
    "\n",
    "<img src=\"https://upload.wikimedia.org/wikipedia/commons/thumb/a/a0/MVC-Process.svg/2000px-MVC-Process.svg.png\" style=\"width: 200px;\"> \n",
    "\n",
    "> _MVC: Model View Controller, is a famous SoC paradigm in programming._ \n",
    "\n",
    "API calls are really a fancy term for making _HTTP requests_ (in the context of web APIs) to a server and sending/receiving structured data from that endpoint (URL). We are still communicating with URLs, however instead of receiving markup, like we do with HTML pages, we receive data.\n",
    "\n",
    "[Representational state transfer (REST)](https://en.wikipedia.org/wiki/Representational_state_transfer) is the most common architecture style for passing information to and from these API endpoints.\n",
    "\n",
    "Before we start consuming these services however, it's important to understand the fundamentals of the underlying communication layer: **HTTP**.\n"
   ]
  },
  {
   "cell_type": "markdown",
   "metadata": {
    "slideshow": {
     "slide_type": "slide"
    }
   },
   "source": [
    "<a id='http'></a>\n",
    "## HTTP\n",
    "\n",
    "---\n",
    "\n",
    "HTTP is a protocol - a system of rules - that determines how web pages (see:'hypertext') get sent (see:'transferred') from one place to another. Among other things, it defines the format of the messages passed between HTTP clients and HTTP servers.\n",
    "\n",
    "Since the web is a service, it works through a combination of clients which _make_ requests and servers (which _receive_ requests).\n"
   ]
  },
  {
   "cell_type": "markdown",
   "metadata": {
    "slideshow": {
     "slide_type": "slide"
    }
   },
   "source": [
    "### The HTTP client\n",
    "\n",
    "HTTP Clients make or generate HTTP Requests. Some types of clients are:\n",
    "\n",
    "* Browsers - Chrome, Firefox and Safari.\n",
    "* Command Line programs - [curl](http://curl.haxx.se/docs/) and [wget](http://www.gnu.org/software/wget/manual/wget.html).\n",
    "* Application code -  Python Requsts, Scrapy, Mechanize\n",
    "\n",
    "HTTP Clients respond to HTTP Responses from a Web Server. They process the data being returned form a Web Server, aka HTTP Server."
   ]
  },
  {
   "cell_type": "markdown",
   "metadata": {
    "slideshow": {
     "slide_type": "slide"
    }
   },
   "source": [
    "### HTTP and web servers\n",
    "\n",
    "All _Web Servers_ receive _HTTP Requests_ and generate _HTTP Responses_. Often Web Servers are just the middleman, passing HTTP Request and Responses between the client and web application. Two of the most popular _HTTP or Web servers_ are [Apache](http://httpd.apache.org/) and [Nginx](http://nginx.com/), But there are lots different [web servers](http://en.wikipedia.org/wiki/Comparison_of_web_server_software) out there.\n"
   ]
  },
  {
   "cell_type": "markdown",
   "metadata": {
    "slideshow": {
     "slide_type": "slide"
    }
   },
   "source": [
    "### Check: Where do you think a web application lives?\n",
    "\n",
    "Client, server, the cloud, mobile device, in your car, or on your bluetooth connected toaster with LCD display?"
   ]
  },
  {
   "cell_type": "markdown",
   "metadata": {
    "slideshow": {
     "slide_type": "slide"
    }
   },
   "source": [
    "<a id='web-app'></a>\n",
    "## Web applications\n",
    "\n",
    "---\n",
    "\n",
    "Web applications are programs that run on a web server, process the HTTP requests that the server receives, and generate HTTP Responses.\n",
    "\n",
    "![HTTP Request and Response](https://snag.gy/tg1Y6E.jpg)\n",
    "\n",
    "Lost? Here's the play-by-play.\n",
    "\n",
    "1. A client sends a HTTP Request to a HTTP Server running on a remote machine.  \n",
    "  * The _hostname_ given in the URL, indicates which server will receive the request.  \n",
    "2. The HTTP server processes the HTTP Request. This may entail passing the request to some Web Application, which creates a HTTP Response.\n",
    "3. The response gets sent back to the client.\n",
    "4. The client processes the response.\n",
    "\n",
    "How does the server know what the request is asking for? This is specified by the URL, a special kind of path that specifies where a resource can be found on the web.\n",
    "\n",
    "![URL](./assets/http1-url-structure.png)\n",
    "\n",
    "> **Check:** can anyone explain what a client and a server are?"
   ]
  },
  {
   "cell_type": "markdown",
   "metadata": {
    "slideshow": {
     "slide_type": "slide"
    }
   },
   "source": [
    "<a name=\"demo-http\"></a>\n",
    "## Demo: HTTP\n",
    "\n",
    "---\n",
    "\n",
    "Lets explore HTTP resources. We'll start by looking at HTTP requests and responses using the Chrome Inspector.\n",
    "\n",
    "![HTTP Request and Response](./assets/http_request_response.jpeg \"HTTP Request and Response\")\n",
    "\n",
    "* In Chrome, open up Chrome Inspector (*command + option + 'i', or ctrl + click and select 'inspect element'*).\n",
    "* Select the Network tab. It should look something like this:\n",
    "\n",
    "![Chrome Inspector](./assets/chrome_inspector.png)\n",
    "\n",
    "* Next, go to the URL https://generalassemb.ly/\n",
    "\n",
    "You should be able to see a few HTTP Requests and Responses in the Network tab; for each request you'll see a **Path**, **Method**, **Status**, **Type**, and **Size**, along with info about how long it took to get each of these resources.\n",
    "  * Most of this information comes from the HTTP Request and Response.*\n",
    "  * Some HTTP requests are for CSS, JavaScript and images that are referenced by the HTML.\n",
    "  * Select `generalassemb.ly` in the Path column on the far left.\n",
    "  * Select the Headers tab. **Headers** are meta-data properties of an HTTP request or response, separate from the body of the message."
   ]
  },
  {
   "cell_type": "markdown",
   "metadata": {
    "slideshow": {
     "slide_type": "slide"
    }
   },
   "source": [
    "<a id='ind-http'></a>\n",
    "\n",
    "## Independent practice: HTTP\n",
    "\n",
    "---\n",
    "\n",
    "\n",
    "### With a partner, go to your favorite website(s) (safe for work), inspect the protocol from the Chrome network inspection tool (cmd-opt-j), identify:\n",
    "\n",
    "- Requests sent by your client\n",
    "- Requests send by the server\n",
    "- URI\n",
    "\n",
    "#### Research and Explain:\n",
    "- cache-control\n",
    "- age\n",
    "- content-encoding\n",
    "- expires\n",
    "- \"GET\" and \"POST\" requests\n",
    "- query string parameters\n",
    "\n",
    "#### Bonus:\n",
    "What are cookies?\n",
    "<img src=\"https://pbs.twimg.com/profile_images/552145045663408129/egywNuyx.png\" style=\"width: 100px\">"
   ]
  },
  {
   "cell_type": "markdown",
   "metadata": {
    "slideshow": {
     "slide_type": "slide"
    }
   },
   "source": [
    "<a id='http-request'></a>\n",
    "## HTTP Request\n",
    "\n",
    "---\n",
    "\n",
    "The first word in the request line, _GET_, is the **HTTP Request's Method**.\n",
    "\n",
    "![HTTP Request](./assets/http_request.jpeg \"HTTP Request\")\n",
    "\n",
    "<a id='request-methods'></a>\n",
    "### HTTP Request methods:\n",
    "\n",
    "* **`GET`** => Retrieve a resource.  \n",
    "* **`POST`** => Create a resource.  \n",
    "* **`PATCH`** (_or **`PUT`**, but **`PATCH`** is recommended_) => Update an existing resource.  \n",
    "* **`DELETE`** => Delete a resource.  \n",
    "* **`HEAD`** => Retrieve the headers for a resource.\n",
    "\n",
    "Of these, **`GET`** and **`POST`** are the most widely used."
   ]
  },
  {
   "cell_type": "markdown",
   "metadata": {
    "slideshow": {
     "slide_type": "slide"
    }
   },
   "source": [
    "<a id='request-structure'></a>\n",
    "### HTTP Request structure:\n",
    "\n",
    "```\n",
    "[http request method] [URL] [http version]  \n",
    "[list of headers]\n",
    "\n",
    "[request body]\n",
    "```\n",
    "\n",
    "*Notice, that the Request Header is separated from the Request Body by a new line.*"
   ]
  },
  {
   "cell_type": "markdown",
   "metadata": {
    "slideshow": {
     "slide_type": "slide"
    }
   },
   "source": [
    "**HTTP Request Method Example: (No Body)**\n",
    "\n",
    "    GET http://vermonster.com HTTP/1.1  \n",
    "    Accept:text/html,application/xhtml+xml,application/xml;q=0.9,image/webp,*/*;q=0.8  \n",
    "    Accept-Encoding:gzip,deflate,sdch\n",
    "    Accept-Language:en-US,en;q=0.8  \n",
    "    Connection:keep-alive  \n",
    "    Host:vermonster.com  \n",
    "    User-Agent:Mozilla/5.0 (Macintosh; Intel Mac OS X 10_8_5)  \n",
    "    AppleWebKit/537.36 (KHTML, like Gecko) Chrome/32.0.1659.2 Safari/537.36  "
   ]
  },
  {
   "cell_type": "markdown",
   "metadata": {
    "slideshow": {
     "slide_type": "slide"
    }
   },
   "source": [
    "<a id='http-response'></a>\n",
    "## HTTP Response\n",
    "\n",
    "---\n",
    "\n",
    "![HTTP Response](./assets/http_response.jpeg \"HTTP Response\")\n",
    "\n",
    "When a client sends a request, the server sends back a response; the standard format for this response is:\n",
    "\n",
    "```\n",
    "[http version] [status] [reason]  \n",
    "[list of headers]\n",
    "\n",
    "[response body] # typically HTML, JSON, ...  \n",
    "```"
   ]
  },
  {
   "cell_type": "markdown",
   "metadata": {
    "slideshow": {
     "slide_type": "slide"
    }
   },
   "source": [
    "<a id='response-types'></a>\n",
    "### Response types overview\n",
    "\n",
    "> Check these out when you have time -- at least be aware that there is an expected pattern to these codes:\n",
    "\n",
    "**[Status Codes](http://en.wikipedia.org/wiki/List_of_HTTP_status_codes)** have standard meanings; here are a few.\n",
    "\n",
    "|Code|Reason|\n",
    "|:---|:-----|\n",
    "|200| OK\n",
    "|301| Moved Permanently\n",
    "|302| Moved Temporarily\n",
    "|307| Temporary Redirect\n",
    "|400| Bad Request\n",
    "|403| Forbidden\n",
    "|404| Not Found\n",
    "|500| Internal Server Error"
   ]
  },
  {
   "cell_type": "markdown",
   "metadata": {
    "slideshow": {
     "slide_type": "slide"
    }
   },
   "source": [
    "<a name=\"json\"></a>\n",
    "## JSON\n",
    "\n",
    "---\n",
    "\n",
    "JSON is short for _JavaScript Object Notation_, and is a way to store information in an organized, easy-to-access manner. In a nutshell, it gives us a human-readable collection of data that we can access in a really logical manner.\n",
    "\n",
    "**JSON is built on two structures:**\n",
    "* A collection of name/value pairs. In various languages, this is realized as an object, record, structure, dictionary, hash table, keyed list, or associative array.\n",
    "* An ordered list of values. In most languages, this is realized as an array, vector, list, or sequence.\n",
    "\n",
    "These are universal data structures. Virtually all modern programming languages support them in one form or another. It makes sense that a data format that is interchangeable with programming languages also be based on these structures."
   ]
  },
  {
   "cell_type": "markdown",
   "metadata": {
    "slideshow": {
     "slide_type": "slide"
    }
   },
   "source": [
    "### JSON objects\n",
    "\n",
    "An object is an unordered set of name/value pairs, like python dictionaries. An object begins with `{` (left brace) and ends with `}` (right brace). Each name is followed by `:` (colon) and the name/value pairs are separated by `,` (comma).\n",
    "\n",
    "The syntax is as follows:\n",
    "\n",
    "```\n",
    "{ string : value, .......}\n",
    "```\n",
    "like:\n",
    "```\n",
    "{\"count\": 1, ...}\n",
    "```\n"
   ]
  },
  {
   "cell_type": "markdown",
   "metadata": {
    "slideshow": {
     "slide_type": "slide"
    }
   },
   "source": [
    "<a name=\"ind-practice\"></a>\n",
    "## Independent practice: validating JSON \n",
    "\n",
    "---\n",
    "\n",
    "JSON is very simple to use if correctly structured. One of the resources to validate JSON and check if the syntax is correct is [JSON Viewer](http://codebeautify.org/jsonviewer).\n",
    "\n",
    "For this exercise, copy the [JSON data from the code folder](./code/test.json) and insert it in the web app above, click \"Validate\".\n",
    "\n",
    "If you see \"Valid JSON\", click \"Beautify\" and you will see a more readable way of JSON. If you do not see the message \"Valid JSON\", it means that there is a syntax error.\n",
    "\n",
    "* first, correct errors if there are any\n",
    "* then, work in pairs to identify the structure of the JSON:\n",
    "\n",
    "    - what is a root element?\n",
    "    - are there any arrays?\n",
    "    - how many objects are there?\n",
    "    - what are the attributes of an object?"
   ]
  },
  {
   "cell_type": "markdown",
   "metadata": {
    "slideshow": {
     "slide_type": "slide"
    }
   },
   "source": [
    "<a name=\"guided-practice/\"></a>\n",
    "## Guided practice: pulling data from APIs\n",
    "\n",
    "---\n",
    "\n",
    "Recall that APIs are methods and data formats to tell people how to \"talk\" to a system. We will walk through a couple of examples."
   ]
  },
  {
   "cell_type": "markdown",
   "metadata": {
    "slideshow": {
     "slide_type": "slide"
    }
   },
   "source": [
    "<a id='ex1-movies'></a>\n",
    "### Example 1: movies\n",
    "\n",
    "The internet movie database is a large collection of data about movies. It can be browsed at the address: http://www.imdb.com/.\n",
    "\n",
    "What if we wanted to programatically access the data in the database? Unless we are employees of IMDB.com, we probably don't have direct access to their internal database, so we cannot perform SQL queries on their data.\n",
    "\n",
    "We could use scraping to retrieve data from the web page, and in some cases we will have to do exactly that.\n",
    "\n",
    "> *Note: check the \"Terms of Service\" before you scrape a website, you could be infringing their terms.*\n",
    "\n",
    "In other cases, the website offers a way to programatically access data from their database. That's an API.\n",
    "\n",
    "In the case of movies, this is offered by http://www.omdbapi.com/\n",
    "\n",
    "**Let's try for example to retrieve the data about the \"Avengers\" movie in 2015.**\n",
    "\n",
    "**In a browser, paste:**\n",
    "\n",
    "    http://www.omdbapi.com/?t=avengers&y=2015&plot=short&r=json\n"
   ]
  },
  {
   "cell_type": "markdown",
   "metadata": {
    "slideshow": {
     "slide_type": "slide"
    }
   },
   "source": [
    "    {\n",
    "    Title: \"Avengers: Age of Ultron\",\n",
    "    Year: \"2015\",\n",
    "    Rated: \"PG-13\",\n",
    "    Released: \"01 May 2015\",\n",
    "    Runtime: \"141 min\",\n",
    "    Genre: \"Action, Adventure, Sci-Fi\",\n",
    "    Director: \"Joss Whedon\",\n",
    "    Writer: \"Joss Whedon, Stan Lee (Marvel comics), Jack Kirby (Marvel comics)\",\n",
    "    Actors: \"Robert Downey Jr., Chris Hemsworth, Mark Ruffalo, Chris Evans\",\n",
    "    Plot: \"When Tony Stark and Bruce Banner try to jump-start a dormant peacekeeping program called Ultron, things go horribly wrong and it's up to Earth's Mightiest Heroes to stop the villainous Ultron from enacting his terrible plans.\",\n",
    "    Language: \"English\",\n",
    "    Country: \"USA\",\n",
    "    Awards: \"2 wins & 37 nominations.\",\n",
    "    Poster: \"http://ia.media-imdb.com/images/M/MV5BMTM4OGJmNWMtOTM4Ni00NTE3LTg3MDItZmQxYjc4N2JhNmUxXkEyXkFqcGdeQXVyNTgzMDMzMTg@._V1_SX300.jpg\",\n",
    "    Metascore: \"66\",\n",
    "    imdbRating: \"7.5\",\n",
    "    imdbVotes: \"420,714\",\n",
    "    imdbID: \"tt2395427\",\n",
    "    Type: \"movie\",\n",
    "    Response: \"True\"\n",
    "    }"
   ]
  },
  {
   "cell_type": "markdown",
   "metadata": {
    "slideshow": {
     "slide_type": "slide"
    }
   },
   "source": [
    "###  What Just Happened?"
   ]
  },
  {
   "cell_type": "markdown",
   "metadata": {
    "slideshow": {
     "slide_type": "fragment"
    }
   },
   "source": [
    "We requested a url, which responded with JSON."
   ]
  },
  {
   "cell_type": "markdown",
   "metadata": {
    "slideshow": {
     "slide_type": "slide"
    }
   },
   "source": [
    "<a id='submit'></a>\n",
    "### Try submitting a couple more queries to familiarize with the API.\n",
    "\n",
    "- You can also query an API from the command line using the app `curl`. Try typing:\n",
    "\n",
    "    `curl http://www.omdbapi.com/?t=whiplash&plot=short&r=json`\n",
    "    \n",
    "> _Note:  recently, the service doesn't seem to respond well to curl.  Use your browser instead._\n"
   ]
  },
  {
   "cell_type": "markdown",
   "metadata": {
    "slideshow": {
     "slide_type": "fragment"
    }
   },
   "source": [
    "```javascript   \n",
    "{\n",
    "\t\"Title\": \"Whiplash\",\n",
    "\t\"Year\": \"2014\",\n",
    "\t\"Rated\": \"R\",\n",
    "\t\"Released\": \"15 Oct 2014\",\n",
    "\t\"Runtime\": \"107 min\",\n",
    "\t\"Genre\": \"Drama, Music\",\n",
    "\t\"Director\": \"Damien Chazelle\",\n",
    "\t\"Writer\": \"Damien Chazelle\",\n",
    "\t\"Actors\": \"Miles Teller, J.K. Simmons, Paul Reiser, Melissa Benoist\",\n",
    "\t\"Plot\": \"A promising young drummer enrolls at a cut-throat music conservatory where his dreams of greatness are mentored by an instructor who will stop at nothing to realize a student's potential.\",\n",
    "\t\"Language\": \"English\",\n",
    "\t\"Country\": \"USA\",\n",
    "\t\"Awards\": \"Won 3 Oscars. Another 84 wins & 125 nominations.\",\n",
    "\t\"Poster\": \"http://ia.media-imdb.com/images/M/MV5BMTU4OTQ3MDUyMV5BMl5BanBnXkFtZTgwOTA2MjU0MjE@._V1_SX300.jpg\",\n",
    "\t\"Metascore\": \"88\",\n",
    "\t\"imdbRating\": \"8.5\",\n",
    "\t\"imdbVotes\": \"368,942\",\n",
    "\t\"imdbID\": \"tt2582802\",\n",
    "\t\"Type\": \"movie\",\n",
    "\t\"Response\": \"True\"\n",
    "}\n",
    "```"
   ]
  },
  {
   "cell_type": "code",
   "execution_count": 2,
   "metadata": {
    "collapsed": false,
    "slideshow": {
     "slide_type": "slide"
    }
   },
   "outputs": [
    {
     "data": {
      "text/html": [
       "<div>\n",
       "<table border=\"1\" class=\"dataframe\">\n",
       "  <thead>\n",
       "    <tr style=\"text-align: right;\">\n",
       "      <th></th>\n",
       "      <th>Actors</th>\n",
       "      <th>Awards</th>\n",
       "      <th>Country</th>\n",
       "      <th>Director</th>\n",
       "      <th>Genre</th>\n",
       "      <th>Language</th>\n",
       "      <th>Metascore</th>\n",
       "      <th>Plot</th>\n",
       "      <th>Poster</th>\n",
       "      <th>Rated</th>\n",
       "      <th>Released</th>\n",
       "      <th>Response</th>\n",
       "      <th>Runtime</th>\n",
       "      <th>Title</th>\n",
       "      <th>Type</th>\n",
       "      <th>Writer</th>\n",
       "      <th>Year</th>\n",
       "      <th>imdbID</th>\n",
       "      <th>imdbRating</th>\n",
       "      <th>imdbVotes</th>\n",
       "    </tr>\n",
       "  </thead>\n",
       "  <tbody>\n",
       "    <tr>\n",
       "      <th>0</th>\n",
       "      <td>Robert Downey Jr., Chris Hemsworth, Mark Ruffa...</td>\n",
       "      <td>5 wins &amp; 42 nominations.</td>\n",
       "      <td>USA</td>\n",
       "      <td>Joss Whedon</td>\n",
       "      <td>Action, Adventure, Sci-Fi</td>\n",
       "      <td>English</td>\n",
       "      <td>66</td>\n",
       "      <td>When Tony Stark and Bruce Banner try to jump-s...</td>\n",
       "      <td>https://images-na.ssl-images-amazon.com/images...</td>\n",
       "      <td>PG-13</td>\n",
       "      <td>01 May 2015</td>\n",
       "      <td>True</td>\n",
       "      <td>141 min</td>\n",
       "      <td>Avengers: Age of Ultron</td>\n",
       "      <td>movie</td>\n",
       "      <td>Joss Whedon, Stan Lee (based on the Marvel com...</td>\n",
       "      <td>2015</td>\n",
       "      <td>tt2395427</td>\n",
       "      <td>7.4</td>\n",
       "      <td>499,696</td>\n",
       "    </tr>\n",
       "  </tbody>\n",
       "</table>\n",
       "</div>"
      ],
      "text/plain": [
       "                                              Actors  \\\n",
       "0  Robert Downey Jr., Chris Hemsworth, Mark Ruffa...   \n",
       "\n",
       "                     Awards Country     Director                      Genre  \\\n",
       "0  5 wins & 42 nominations.     USA  Joss Whedon  Action, Adventure, Sci-Fi   \n",
       "\n",
       "  Language Metascore                                               Plot  \\\n",
       "0  English        66  When Tony Stark and Bruce Banner try to jump-s...   \n",
       "\n",
       "                                              Poster  Rated     Released  \\\n",
       "0  https://images-na.ssl-images-amazon.com/images...  PG-13  01 May 2015   \n",
       "\n",
       "  Response  Runtime                    Title   Type  \\\n",
       "0     True  141 min  Avengers: Age of Ultron  movie   \n",
       "\n",
       "                                              Writer  Year     imdbID  \\\n",
       "0  Joss Whedon, Stan Lee (based on the Marvel com...  2015  tt2395427   \n",
       "\n",
       "  imdbRating imdbVotes  \n",
       "0        7.4   499,696  "
      ]
     },
     "execution_count": 2,
     "metadata": {},
     "output_type": "execute_result"
    }
   ],
   "source": [
    "# Request example for the IMDB example\n",
    "import pandas as pd\n",
    "import requests\n",
    "result = requests.get(\"http://www.omdbapi.com/?t=avengers&y=2015&plot=short&r=json\")\n",
    "df = pd.DataFrame([result.json()])\n",
    "df"
   ]
  },
  {
   "cell_type": "markdown",
   "metadata": {
    "slideshow": {
     "slide_type": "slide"
    }
   },
   "source": [
    "<a id='ex2-geocode'></a>\n",
    "### Example 2: Google Geocode API\n",
    "\n",
    "Google offers a freely accessible API to query their GEO databases.  One of the many features Google Maps API provides is a way to get longitude and latitude coordinates from addresses.\n",
    "\n",
    "**Try pasting the following line in your browser:**\n",
    "\n",
    "    https://maps.googleapis.com/maps/api/geocode/json?address=225+Bush+St+San+Francisco+CA"
   ]
  },
  {
   "cell_type": "code",
   "execution_count": 3,
   "metadata": {
    "collapsed": false
   },
   "outputs": [
    {
     "name": "stdout",
     "output_type": "stream",
     "text": [
      "{u'lat': 37.7908821, u'lng': -122.401552}\n"
     ]
    }
   ],
   "source": [
    "# Request the resource from google maps\n",
    "result = requests.get(\"https://maps.googleapis.com/maps/api/geocode/json?address=225+Bush+St+San+Francisco+CA\")\n",
    "google_result = result.json()\n",
    "\n",
    "# Loop through results and display lat, lon values for reverse geocode\n",
    "for item in google_result['results']:\n",
    "    print item['geometry']['location']"
   ]
  },
  {
   "cell_type": "markdown",
   "metadata": {
    "slideshow": {
     "slide_type": "slide"
    }
   },
   "source": [
    "<a id='oauth'></a>\n",
    "## oAuth\n",
    "\n",
    "---\n",
    "\n",
    "oAuth is simply a secure authorization protocol that deals with the authorization of third party application to access the user data without exposing their password. eg. (Login with fb, gPlus, twitter in many websites..) all work under this protocol.\n",
    "\n",
    "Basically there are three parties involved: **oAuth Provider, oAuth Client and Owner**.\n",
    "\n",
    "- oAuth Client (Application Which wants to access your credential)\n",
    "- oAuth Provider (eg. facebook, twitter...)\n",
    "- Owner (the one with facebook,twitter.. account )\n",
    "\n",
    "Many APIs are free to access. You first need to register as a developer and obtain an authorization key. In most cases, this is also accompanied by a temporary token that needs to be renewed after some time. This is a way to prevent abuse on the server's resources.\n",
    "\n",
    "You can read more about it here: http://oauth.net/2/\n"
   ]
  },
  {
   "cell_type": "markdown",
   "metadata": {
    "slideshow": {
     "slide_type": "slide"
    }
   },
   "source": [
    "### OAuth Example:  client work with instagram\n",
    "\n",
    "![](https://snag.gy/RCqmVA.jpg)"
   ]
  },
  {
   "cell_type": "markdown",
   "metadata": {
    "slideshow": {
     "slide_type": "slide"
    }
   },
   "source": [
    "![](https://snag.gy/Ulm7wy.jpg)"
   ]
  },
  {
   "cell_type": "markdown",
   "metadata": {
    "slideshow": {
     "slide_type": "slide"
    }
   },
   "source": [
    "![](http://i.stack.imgur.com/8KjWN.png)"
   ]
  },
  {
   "cell_type": "markdown",
   "metadata": {
    "slideshow": {
     "slide_type": "slide"
    }
   },
   "source": [
    "<a name=\"ind-practice2\"></a>\n",
    "## Independent Practice: Python APIs\n",
    "\n",
    "---\n",
    "\n",
    "**Form pairs and do the following:**\n",
    "- Go to http://www.pythonapi.com/ (seems recently down)<br><br>**OR**:\n",
    "  - http://www.pythonforbeginners.com/api/list-of-python-apis\n",
    "  - https://github.com/realpython/list-of-python-api-wrappers\n",
    "- Choose 1 API: what data you can get?\n",
    "- Install python module (if available for API), try to extract data\n",
    "- Discuss: how could you leverage that api? how could you use the data?"
   ]
  },
  {
   "cell_type": "markdown",
   "metadata": {
    "slideshow": {
     "slide_type": "slide"
    }
   },
   "source": [
    "<a id='closing-questions'></a>\n",
    "## Closing questions\n",
    "\n",
    "---\n",
    "\n",
    "![](https://snag.gy/R0lEoO.jpg)"
   ]
  },
  {
   "cell_type": "markdown",
   "metadata": {
    "slideshow": {
     "slide_type": "fragment"
    }
   },
   "source": [
    "### - What is the easiest aspect of all this to understand?"
   ]
  },
  {
   "cell_type": "markdown",
   "metadata": {
    "slideshow": {
     "slide_type": "fragment"
    }
   },
   "source": [
    "### - What is the most challeneging aspect to understand?"
   ]
  },
  {
   "cell_type": "markdown",
   "metadata": {
    "slideshow": {
     "slide_type": "fragment"
    }
   },
   "source": [
    "### - How does this contrast to scraping?"
   ]
  },
  {
   "cell_type": "markdown",
   "metadata": {
    "slideshow": {
     "slide_type": "fragment"
    }
   },
   "source": [
    "### - How would you explain API's to someone who didn't know anything about them?"
   ]
  },
  {
   "cell_type": "markdown",
   "metadata": {
    "slideshow": {
     "slide_type": "fragment"
    }
   },
   "source": [
    "### - Any new ideas for capstone data?"
   ]
  }
 ],
 "metadata": {
  "anaconda-cloud": {},
  "celltoolbar": "Slideshow",
  "kernelspec": {
   "display_name": "Python 2",
   "language": "python",
   "name": "python2"
  },
  "language_info": {
   "codemirror_mode": {
    "name": "ipython",
    "version": 2
   },
   "file_extension": ".py",
   "mimetype": "text/x-python",
   "name": "python",
   "nbconvert_exporter": "python",
   "pygments_lexer": "ipython2",
   "version": "2.7.13"
  }
 },
 "nbformat": 4,
 "nbformat_minor": 0
}
