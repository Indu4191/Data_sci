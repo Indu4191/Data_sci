{
 "cells": [
  {
   "cell_type": "markdown",
   "metadata": {},
   "source": [
    "<img src=\"http://imgur.com/1ZcRyrc.png\" style=\"float: left; margin: 20px; height: 55px\">\n",
    "\n",
    "# Practice Using APIs\n",
    "\n",
    "_Authors: Dave Yerrington (SF)_\n",
    "\n",
    "---\n",
    "\n",
    "In this lab we will practice using some popular APIs to retrieve and store data."
   ]
  },
  {
   "cell_type": "code",
   "execution_count": 3,
   "metadata": {
    "collapsed": false
   },
   "outputs": [],
   "source": [
    "# Imports at the top\n",
    "import json\n",
    "import urllib\n",
    "import pandas as pd\n",
    "import numpy as np\n",
    "import requests\n",
    "import json\n",
    "import re\n",
    "import matplotlib.pyplot as plt\n",
    "%matplotlib inline"
   ]
  },
  {
   "cell_type": "markdown",
   "metadata": {},
   "source": [
    "## Exercise 1: get data from Sheetsu\n",
    "\n",
    "---\n",
    "\n",
    "[Sheetsu](https://sheetsu.com/) is an online service that allows you to access any Google spreadsheet from an API. This can be a very powerful way to share a dataset with colleagues as well as to create a mini centralized data storage that is simpler to edit than a database.\n",
    "\n",
    "A Google Spreadsheet with Wine data can be found [here](https://docs.google.com/spreadsheets/d/1mZ3Otr5AV4v8WwvLOAvWf3VLxDa-IeJ1AVTEuavJqeo/).\n",
    "\n",
    "It can be accessed through sheetsu API at this endpoint: https://sheetsu.com/apis/v1.0/dab55afd\n",
    "\n",
    "**Questions:**\n",
    "\n",
    "1. Use the requests library to access the document. Inspect the response text. What kind of data is it?\n",
    "- Check the status code of the response object. What code is it?\n",
    "- Use the appropriate libraries and read functions to read the response into a Pandas Dataframe.\n",
    "- Once you've imported the data into a dataframe, check the value of the 5th line: what's the price?"
   ]
  },
  {
   "cell_type": "code",
   "execution_count": 1,
   "metadata": {
    "collapsed": true
   },
   "outputs": [],
   "source": [
    "# You can either post or get info from this API\n",
    "api_base_url = 'https://sheetsu.com/apis/v1.0/dab55afd'"
   ]
  },
  {
   "cell_type": "code",
   "execution_count": 4,
   "metadata": {
    "collapsed": false,
    "scrolled": true
   },
   "outputs": [
    {
     "data": {
      "text/plain": [
       "u'[{\"Color\":\"W\",\"Region\":\"Portugal\",\"Country\":\"Portugal\",\"Vintage\":\"2013\",\"Vinyard\":\"Vinho Verde\",\"Nam'"
      ]
     },
     "execution_count": 4,
     "metadata": {},
     "output_type": "execute_result"
    }
   ],
   "source": [
    "# What kind of data is this returning?\n",
    "api_response = requests.get(api_base_url)\n",
    "api_response.text[:100]"
   ]
  },
  {
   "cell_type": "code",
   "execution_count": null,
   "metadata": {
    "collapsed": true
   },
   "outputs": [],
   "source": [
    "# 1. It is a json string"
   ]
  },
  {
   "cell_type": "code",
   "execution_count": 5,
   "metadata": {
    "collapsed": false
   },
   "outputs": [],
   "source": [
    "reponse = json.loads(api_response.text)"
   ]
  },
  {
   "cell_type": "code",
   "execution_count": 6,
   "metadata": {
    "collapsed": false
   },
   "outputs": [
    {
     "data": {
      "text/plain": [
       "list"
      ]
     },
     "execution_count": 6,
     "metadata": {},
     "output_type": "execute_result"
    }
   ],
   "source": [
    "type(reponse)"
   ]
  },
  {
   "cell_type": "code",
   "execution_count": 7,
   "metadata": {
    "collapsed": false
   },
   "outputs": [
    {
     "data": {
      "text/plain": [
       "{u'Color': u'W',\n",
       " u'Consumed In': u'2015',\n",
       " u'Country': u'Portugal',\n",
       " u'Grape': u'',\n",
       " u'Name': u'',\n",
       " u'Price': u'',\n",
       " u'Region': u'Portugal',\n",
       " u'Score': u'4',\n",
       " u'Vintage': u'2013',\n",
       " u'Vinyard': u'Vinho Verde'}"
      ]
     },
     "execution_count": 7,
     "metadata": {},
     "output_type": "execute_result"
    }
   ],
   "source": [
    "reponse[0]"
   ]
  },
  {
   "cell_type": "code",
   "execution_count": 8,
   "metadata": {
    "collapsed": false
   },
   "outputs": [
    {
     "data": {
      "text/plain": [
       "200"
      ]
     },
     "execution_count": 8,
     "metadata": {},
     "output_type": "execute_result"
    }
   ],
   "source": [
    "api_response.status_code"
   ]
  },
  {
   "cell_type": "code",
   "execution_count": 9,
   "metadata": {
    "collapsed": true
   },
   "outputs": [],
   "source": [
    "# 2. response code is 200"
   ]
  },
  {
   "cell_type": "code",
   "execution_count": 10,
   "metadata": {
    "collapsed": false
   },
   "outputs": [
    {
     "data": {
      "text/html": [
       "<div>\n",
       "<table border=\"1\" class=\"dataframe\">\n",
       "  <thead>\n",
       "    <tr style=\"text-align: right;\">\n",
       "      <th></th>\n",
       "      <th>Color</th>\n",
       "      <th>Consumed In</th>\n",
       "      <th>Country</th>\n",
       "      <th>Grape</th>\n",
       "      <th>Name</th>\n",
       "      <th>Price</th>\n",
       "      <th>Region</th>\n",
       "      <th>Score</th>\n",
       "      <th>Vintage</th>\n",
       "      <th>Vinyard</th>\n",
       "    </tr>\n",
       "  </thead>\n",
       "  <tbody>\n",
       "    <tr>\n",
       "      <th>0</th>\n",
       "      <td>W</td>\n",
       "      <td>2015</td>\n",
       "      <td>Portugal</td>\n",
       "      <td></td>\n",
       "      <td></td>\n",
       "      <td></td>\n",
       "      <td>Portugal</td>\n",
       "      <td>4</td>\n",
       "      <td>2013</td>\n",
       "      <td>Vinho Verde</td>\n",
       "    </tr>\n",
       "    <tr>\n",
       "      <th>1</th>\n",
       "      <td>W</td>\n",
       "      <td>2015</td>\n",
       "      <td>France</td>\n",
       "      <td></td>\n",
       "      <td></td>\n",
       "      <td>17.8</td>\n",
       "      <td>France</td>\n",
       "      <td>3</td>\n",
       "      <td>2013</td>\n",
       "      <td>Peyruchet</td>\n",
       "    </tr>\n",
       "    <tr>\n",
       "      <th>2</th>\n",
       "      <td>W</td>\n",
       "      <td>2015</td>\n",
       "      <td>Oregon</td>\n",
       "      <td></td>\n",
       "      <td></td>\n",
       "      <td>20</td>\n",
       "      <td>Oregon</td>\n",
       "      <td>3</td>\n",
       "      <td>2013</td>\n",
       "      <td>Abacela</td>\n",
       "    </tr>\n",
       "    <tr>\n",
       "      <th>3</th>\n",
       "      <td>W</td>\n",
       "      <td>2015</td>\n",
       "      <td>Spain</td>\n",
       "      <td>chardonay</td>\n",
       "      <td></td>\n",
       "      <td>7</td>\n",
       "      <td>Spain</td>\n",
       "      <td>2.5</td>\n",
       "      <td>2012</td>\n",
       "      <td>Ochoa</td>\n",
       "    </tr>\n",
       "    <tr>\n",
       "      <th>4</th>\n",
       "      <td>R</td>\n",
       "      <td>2015</td>\n",
       "      <td>US</td>\n",
       "      <td>chiraz, cab</td>\n",
       "      <td>Spice Trader</td>\n",
       "      <td>6</td>\n",
       "      <td></td>\n",
       "      <td>3</td>\n",
       "      <td>2012</td>\n",
       "      <td>Heartland</td>\n",
       "    </tr>\n",
       "  </tbody>\n",
       "</table>\n",
       "</div>"
      ],
      "text/plain": [
       "  Color Consumed In   Country        Grape          Name Price    Region  \\\n",
       "0     W        2015  Portugal                                   Portugal   \n",
       "1     W        2015    France                             17.8    France   \n",
       "2     W        2015    Oregon                               20    Oregon   \n",
       "3     W        2015     Spain    chardonay                   7     Spain   \n",
       "4     R        2015        US  chiraz, cab  Spice Trader     6             \n",
       "\n",
       "  Score Vintage      Vinyard  \n",
       "0     4    2013  Vinho Verde  \n",
       "1     3    2013    Peyruchet  \n",
       "2     3    2013      Abacela  \n",
       "3   2.5    2012        Ochoa  \n",
       "4     3    2012    Heartland  "
      ]
     },
     "execution_count": 10,
     "metadata": {},
     "output_type": "execute_result"
    }
   ],
   "source": [
    "wine_df = pd.DataFrame(reponse)\n",
    "wine_df.head()"
   ]
  },
  {
   "cell_type": "code",
   "execution_count": 11,
   "metadata": {
    "collapsed": false
   },
   "outputs": [
    {
     "data": {
      "text/html": [
       "<div>\n",
       "<table border=\"1\" class=\"dataframe\">\n",
       "  <thead>\n",
       "    <tr style=\"text-align: right;\">\n",
       "      <th></th>\n",
       "      <th>Color</th>\n",
       "      <th>Consumed In</th>\n",
       "      <th>Country</th>\n",
       "      <th>Grape</th>\n",
       "      <th>Name</th>\n",
       "      <th>Price</th>\n",
       "      <th>Region</th>\n",
       "      <th>Score</th>\n",
       "      <th>Vintage</th>\n",
       "      <th>Vinyard</th>\n",
       "    </tr>\n",
       "  </thead>\n",
       "  <tbody>\n",
       "    <tr>\n",
       "      <th>0</th>\n",
       "      <td>W</td>\n",
       "      <td>2015</td>\n",
       "      <td>Portugal</td>\n",
       "      <td></td>\n",
       "      <td></td>\n",
       "      <td></td>\n",
       "      <td>Portugal</td>\n",
       "      <td>4</td>\n",
       "      <td>2013</td>\n",
       "      <td>Vinho Verde</td>\n",
       "    </tr>\n",
       "    <tr>\n",
       "      <th>1</th>\n",
       "      <td>W</td>\n",
       "      <td>2015</td>\n",
       "      <td>France</td>\n",
       "      <td></td>\n",
       "      <td></td>\n",
       "      <td>17.8</td>\n",
       "      <td>France</td>\n",
       "      <td>3</td>\n",
       "      <td>2013</td>\n",
       "      <td>Peyruchet</td>\n",
       "    </tr>\n",
       "  </tbody>\n",
       "</table>\n",
       "</div>"
      ],
      "text/plain": [
       "  Color Consumed In   Country Grape Name Price    Region Score Vintage  \\\n",
       "0     W        2015  Portugal                   Portugal     4    2013   \n",
       "1     W        2015    France             17.8    France     3    2013   \n",
       "\n",
       "       Vinyard  \n",
       "0  Vinho Verde  \n",
       "1    Peyruchet  "
      ]
     },
     "execution_count": 11,
     "metadata": {},
     "output_type": "execute_result"
    }
   ],
   "source": [
    "# alternatively:\n",
    "wine_df = pd.read_json(api_response.text)\n",
    "wine_df.head(2)"
   ]
  },
  {
   "cell_type": "code",
   "execution_count": 14,
   "metadata": {
    "collapsed": false
   },
   "outputs": [
    {
     "data": {
      "text/plain": [
       "Color                     R\n",
       "Consumed In            2015\n",
       "Country                  US\n",
       "Grape           chiraz, cab\n",
       "Name           Spice Trader\n",
       "Price                     6\n",
       "Region                     \n",
       "Score                     3\n",
       "Vintage                2012\n",
       "Vinyard           Heartland\n",
       "Name: 4, dtype: object"
      ]
     },
     "execution_count": 14,
     "metadata": {},
     "output_type": "execute_result"
    }
   ],
   "source": [
    "wine_df.iloc[4, :]\n",
    "# the price is 6 for the 5th row."
   ]
  },
  {
   "cell_type": "markdown",
   "metadata": {},
   "source": [
    "## Exercise 2: post data to Sheetsu\n",
    "\n",
    "---\n",
    "\n",
    "We've learned how to read data, but it'd be great if we could also write data. For this we will need to use a _POST_ request.\n",
    "\n",
    "1. Use the post command to add the `post_data` to the spreadsheet.\n",
    "- What status did you get? How can you check that you actually added the data correctly?\n",
    "- In this exercise, your classmates are adding data to the same spreadsheet. What happens because of this? Is it a problem? How could you mitigate it?"
   ]
  },
  {
   "cell_type": "code",
   "execution_count": 15,
   "metadata": {
    "collapsed": true
   },
   "outputs": [],
   "source": [
    "post_data = {\n",
    "'Grape' : ''\n",
    ", 'Name' : 'My wonderful wine'\n",
    ", 'Color' : 'R'\n",
    ", 'Country' : 'US'\n",
    ", 'Region' : 'Sonoma'\n",
    ", 'Vinyard' : ''\n",
    ", 'Score' : '10'\n",
    ", 'Consumed In' : '2015'\n",
    ", 'Vintage' : '1973'\n",
    ", 'Price' : '200'\n",
    "}"
   ]
  },
  {
   "cell_type": "code",
   "execution_count": 16,
   "metadata": {
    "collapsed": false
   },
   "outputs": [
    {
     "data": {
      "text/plain": [
       "<Response [201]>"
      ]
     },
     "execution_count": 16,
     "metadata": {},
     "output_type": "execute_result"
    }
   ],
   "source": [
    "requests.post(api_base_url, data=post_data)"
   ]
  },
  {
   "cell_type": "code",
   "execution_count": 17,
   "metadata": {
    "collapsed": true
   },
   "outputs": [],
   "source": [
    "# 2. To check we could send a get request and check the last line."
   ]
  },
  {
   "cell_type": "code",
   "execution_count": 18,
   "metadata": {
    "collapsed": true
   },
   "outputs": [],
   "source": [
    "# 3. There will be many duplicate lines on the spreadsheet. One way to mitigate \n",
    "# this would be through permission, another would be to insert at a \n",
    "# specific position, so that the line is overwritten at each time."
   ]
  },
  {
   "cell_type": "markdown",
   "metadata": {},
   "source": [
    "## Exercise 3: IMDB movies\n",
    "\n",
    "---\n",
    "\n",
    "Sometimes an API doesn't provide all the information we would like to get and we need to be creative.\n",
    "\n",
    "Here we will use a combination of scraping and API calls to find the ratings and gross earnings of famous movies."
   ]
  },
  {
   "cell_type": "markdown",
   "metadata": {
    "collapsed": true
   },
   "source": [
    "### 3.A Get the top movies\n",
    "\n",
    "The Internet Movie Database contains data about movies. Unfortunately it does not have a public API.\n",
    "\n",
    "The page http://www.imdb.com/chart/top contains the list of the top 250 movies of all times. Retrieve the page using the requests library and then parse the html to obtain a list of the `movie_ids` for these movies. You can parse it with regular expression or using a library like `BeautifulSoup`.\n",
    "\n",
    "> **Hint:** movie_ids look like this: `tt2582802`"
   ]
  },
  {
   "cell_type": "code",
   "execution_count": 19,
   "metadata": {
    "collapsed": false
   },
   "outputs": [],
   "source": [
    "def get_top_250():\n",
    "    response = requests.get('http://www.imdb.com/chart/top')\n",
    "    html = response.text\n",
    "    entries = re.findall(\"<a href.*?/title/(.*?)/\", html) #Wrong regex\n",
    "    return list(set(entries))"
   ]
  },
  {
   "cell_type": "code",
   "execution_count": 20,
   "metadata": {
    "collapsed": true
   },
   "outputs": [],
   "source": [
    "entries = get_top_250()"
   ]
  },
  {
   "cell_type": "code",
   "execution_count": 21,
   "metadata": {
    "collapsed": false
   },
   "outputs": [
    {
     "data": {
      "text/plain": [
       "250"
      ]
     },
     "execution_count": 21,
     "metadata": {},
     "output_type": "execute_result"
    }
   ],
   "source": [
    "len(entries)"
   ]
  },
  {
   "cell_type": "code",
   "execution_count": 22,
   "metadata": {
    "collapsed": false
   },
   "outputs": [
    {
     "data": {
      "text/plain": [
       "u'tt2582802'"
      ]
     },
     "execution_count": 22,
     "metadata": {},
     "output_type": "execute_result"
    }
   ],
   "source": [
    "entries[0]"
   ]
  },
  {
   "cell_type": "markdown",
   "metadata": {},
   "source": [
    "### 3.B Get data on the top movies\n",
    "\n",
    "Although the Internet Movie Database does not have a public API, an open API exists at http://www.omdbapi.com.\n",
    "\n",
    "Use this API to retrieve information about each of the 250 movies you have extracted in the previous step.\n",
    "1. Check the documentation of omdbapi.com to learn how to request movie data by id.\n",
    "- Define a function that returns a python object with all the information for a given id.\n",
    "- Iterate on all the IDs and store the results in a list of such objects.\n",
    "- Create a Pandas Dataframe from the list."
   ]
  },
  {
   "cell_type": "code",
   "execution_count": 23,
   "metadata": {
    "collapsed": false
   },
   "outputs": [],
   "source": [
    "def get_entry(entry):\n",
    "    res = requests.get('http://www.omdbapi.com/?i='+entry)\n",
    "    if res.status_code != 200:\n",
    "        print entry, res.status_code\n",
    "    else:\n",
    "        print '.',\n",
    "    return json.loads(res.text)"
   ]
  },
  {
   "cell_type": "code",
   "execution_count": 24,
   "metadata": {
    "collapsed": false
   },
   "outputs": [
    {
     "name": "stdout",
     "output_type": "stream",
     "text": [
      ". . . . . . . . . . . . . . . . . . . . . . . . . . . . . . . . . . . . . . . . . . . . . . . . . . . . . . . . . . . . . . . . . . . . . . . . . . . . . . . . . . . . . . . . . . . . . . . . . . . . . . . . . . . . . . . . . . . . . . . . . . . . . . . . . . . . . . . . . . . . . . . . . . . . . . . . . . . . . . . . . . . . . . . . . . . . . . . . . . . . . . . . . . . . . . . . . . . . . . . . . . . . . . . . . . . . . . . . . . . . . . . . . . . . . . . . . . . . . . . . . . . . . . . . . .\n"
     ]
    }
   ],
   "source": [
    "entries_dict_list = [get_entry(e) for e in entries]"
   ]
  },
  {
   "cell_type": "code",
   "execution_count": 25,
   "metadata": {
    "collapsed": false
   },
   "outputs": [
    {
     "data": {
      "text/plain": [
       "250"
      ]
     },
     "execution_count": 25,
     "metadata": {},
     "output_type": "execute_result"
    }
   ],
   "source": [
    "len(entries_dict_list)"
   ]
  },
  {
   "cell_type": "code",
   "execution_count": 26,
   "metadata": {
    "collapsed": false
   },
   "outputs": [],
   "source": [
    "df = pd.DataFrame(entries_dict_list)"
   ]
  },
  {
   "cell_type": "code",
   "execution_count": 27,
   "metadata": {
    "collapsed": false
   },
   "outputs": [
    {
     "data": {
      "text/html": [
       "<div>\n",
       "<table border=\"1\" class=\"dataframe\">\n",
       "  <thead>\n",
       "    <tr style=\"text-align: right;\">\n",
       "      <th></th>\n",
       "      <th>Actors</th>\n",
       "      <th>Awards</th>\n",
       "      <th>Country</th>\n",
       "      <th>Director</th>\n",
       "      <th>Genre</th>\n",
       "      <th>Language</th>\n",
       "      <th>Metascore</th>\n",
       "      <th>Plot</th>\n",
       "      <th>Poster</th>\n",
       "      <th>Rated</th>\n",
       "      <th>Released</th>\n",
       "      <th>Response</th>\n",
       "      <th>Runtime</th>\n",
       "      <th>Title</th>\n",
       "      <th>Type</th>\n",
       "      <th>Writer</th>\n",
       "      <th>Year</th>\n",
       "      <th>imdbID</th>\n",
       "      <th>imdbRating</th>\n",
       "      <th>imdbVotes</th>\n",
       "    </tr>\n",
       "  </thead>\n",
       "  <tbody>\n",
       "    <tr>\n",
       "      <th>0</th>\n",
       "      <td>Miles Teller, J.K. Simmons, Paul Reiser, Melis...</td>\n",
       "      <td>Won 3 Oscars. Another 88 wins &amp; 135 nominations.</td>\n",
       "      <td>USA</td>\n",
       "      <td>Damien Chazelle</td>\n",
       "      <td>Drama, Music</td>\n",
       "      <td>English</td>\n",
       "      <td>88</td>\n",
       "      <td>A promising young drummer enrolls at a cut-thr...</td>\n",
       "      <td>https://images-na.ssl-images-amazon.com/images...</td>\n",
       "      <td>R</td>\n",
       "      <td>15 Oct 2014</td>\n",
       "      <td>True</td>\n",
       "      <td>107 min</td>\n",
       "      <td>Whiplash</td>\n",
       "      <td>movie</td>\n",
       "      <td>Damien Chazelle</td>\n",
       "      <td>2014</td>\n",
       "      <td>tt2582802</td>\n",
       "      <td>8.5</td>\n",
       "      <td>446,912</td>\n",
       "    </tr>\n",
       "    <tr>\n",
       "      <th>1</th>\n",
       "      <td>Toshirô Mifune, Takashi Shimura, Keiko Tsushim...</td>\n",
       "      <td>Nominated for 2 Oscars. Another 5 wins &amp; 6 nom...</td>\n",
       "      <td>Japan</td>\n",
       "      <td>Akira Kurosawa</td>\n",
       "      <td>Adventure, Drama</td>\n",
       "      <td>Japanese</td>\n",
       "      <td>98</td>\n",
       "      <td>A poor village under attack by bandits recruit...</td>\n",
       "      <td>https://images-na.ssl-images-amazon.com/images...</td>\n",
       "      <td>UNRATED</td>\n",
       "      <td>19 Nov 1956</td>\n",
       "      <td>True</td>\n",
       "      <td>207 min</td>\n",
       "      <td>Seven Samurai</td>\n",
       "      <td>movie</td>\n",
       "      <td>Akira Kurosawa (screenplay), Shinobu Hashimoto...</td>\n",
       "      <td>1954</td>\n",
       "      <td>tt0047478</td>\n",
       "      <td>8.7</td>\n",
       "      <td>239,980</td>\n",
       "    </tr>\n",
       "    <tr>\n",
       "      <th>2</th>\n",
       "      <td>Harrison Ford, Karen Allen, Paul Freeman, Rona...</td>\n",
       "      <td>Won 4 Oscars. Another 30 wins &amp; 23 nominations.</td>\n",
       "      <td>USA</td>\n",
       "      <td>Steven Spielberg</td>\n",
       "      <td>Action, Adventure</td>\n",
       "      <td>English, German, Hebrew, Spanish, Arabic, Nepali</td>\n",
       "      <td>85</td>\n",
       "      <td>Archaeologist and adventurer Indiana Jones is ...</td>\n",
       "      <td>https://images-na.ssl-images-amazon.com/images...</td>\n",
       "      <td>PG</td>\n",
       "      <td>12 Jun 1981</td>\n",
       "      <td>True</td>\n",
       "      <td>115 min</td>\n",
       "      <td>Raiders of the Lost Ark</td>\n",
       "      <td>movie</td>\n",
       "      <td>Lawrence Kasdan (screenplay), George Lucas (st...</td>\n",
       "      <td>1981</td>\n",
       "      <td>tt0082971</td>\n",
       "      <td>8.5</td>\n",
       "      <td>695,542</td>\n",
       "    </tr>\n",
       "  </tbody>\n",
       "</table>\n",
       "</div>"
      ],
      "text/plain": [
       "                                              Actors  \\\n",
       "0  Miles Teller, J.K. Simmons, Paul Reiser, Melis...   \n",
       "1  Toshirô Mifune, Takashi Shimura, Keiko Tsushim...   \n",
       "2  Harrison Ford, Karen Allen, Paul Freeman, Rona...   \n",
       "\n",
       "                                              Awards Country  \\\n",
       "0   Won 3 Oscars. Another 88 wins & 135 nominations.     USA   \n",
       "1  Nominated for 2 Oscars. Another 5 wins & 6 nom...   Japan   \n",
       "2    Won 4 Oscars. Another 30 wins & 23 nominations.     USA   \n",
       "\n",
       "           Director              Genre  \\\n",
       "0   Damien Chazelle       Drama, Music   \n",
       "1    Akira Kurosawa   Adventure, Drama   \n",
       "2  Steven Spielberg  Action, Adventure   \n",
       "\n",
       "                                           Language Metascore  \\\n",
       "0                                           English        88   \n",
       "1                                          Japanese        98   \n",
       "2  English, German, Hebrew, Spanish, Arabic, Nepali        85   \n",
       "\n",
       "                                                Plot  \\\n",
       "0  A promising young drummer enrolls at a cut-thr...   \n",
       "1  A poor village under attack by bandits recruit...   \n",
       "2  Archaeologist and adventurer Indiana Jones is ...   \n",
       "\n",
       "                                              Poster    Rated     Released  \\\n",
       "0  https://images-na.ssl-images-amazon.com/images...        R  15 Oct 2014   \n",
       "1  https://images-na.ssl-images-amazon.com/images...  UNRATED  19 Nov 1956   \n",
       "2  https://images-na.ssl-images-amazon.com/images...       PG  12 Jun 1981   \n",
       "\n",
       "  Response  Runtime                    Title   Type  \\\n",
       "0     True  107 min                 Whiplash  movie   \n",
       "1     True  207 min            Seven Samurai  movie   \n",
       "2     True  115 min  Raiders of the Lost Ark  movie   \n",
       "\n",
       "                                              Writer  Year     imdbID  \\\n",
       "0                                    Damien Chazelle  2014  tt2582802   \n",
       "1  Akira Kurosawa (screenplay), Shinobu Hashimoto...  1954  tt0047478   \n",
       "2  Lawrence Kasdan (screenplay), George Lucas (st...  1981  tt0082971   \n",
       "\n",
       "  imdbRating imdbVotes  \n",
       "0        8.5   446,912  \n",
       "1        8.7   239,980  \n",
       "2        8.5   695,542  "
      ]
     },
     "execution_count": 27,
     "metadata": {},
     "output_type": "execute_result"
    }
   ],
   "source": [
    "df.head(3)"
   ]
  },
  {
   "cell_type": "code",
   "execution_count": 28,
   "metadata": {
    "collapsed": false
   },
   "outputs": [
    {
     "name": "stdout",
     "output_type": "stream",
     "text": [
      "<class 'pandas.core.frame.DataFrame'>\n",
      "RangeIndex: 250 entries, 0 to 249\n",
      "Data columns (total 20 columns):\n",
      "Actors        250 non-null object\n",
      "Awards        250 non-null object\n",
      "Country       250 non-null object\n",
      "Director      250 non-null object\n",
      "Genre         250 non-null object\n",
      "Language      250 non-null object\n",
      "Metascore     250 non-null object\n",
      "Plot          250 non-null object\n",
      "Poster        250 non-null object\n",
      "Rated         250 non-null object\n",
      "Released      250 non-null object\n",
      "Response      250 non-null object\n",
      "Runtime       250 non-null object\n",
      "Title         250 non-null object\n",
      "Type          250 non-null object\n",
      "Writer        250 non-null object\n",
      "Year          250 non-null object\n",
      "imdbID        250 non-null object\n",
      "imdbRating    250 non-null object\n",
      "imdbVotes     250 non-null object\n",
      "dtypes: object(20)\n",
      "memory usage: 39.1+ KB\n"
     ]
    }
   ],
   "source": [
    "df.info()"
   ]
  },
  {
   "cell_type": "markdown",
   "metadata": {},
   "source": [
    "### 3.C Get gross data\n",
    "\n",
    "The OMDB API is great, but it does not provide information about Gross Revenue of the movie. We'll revert back to scraping for this.\n",
    "\n",
    "1. Write a function that retrieves the gross revenue from the entry page at imdb.com.\n",
    "- The function should handle the exception of when the page doesn't report gross revenue.\n",
    "- Retrieve the gross revenue for each movie and store it in a separate dataframe."
   ]
  },
  {
   "cell_type": "code",
   "execution_count": 29,
   "metadata": {
    "collapsed": false
   },
   "outputs": [],
   "source": [
    "def get_gross(entry):\n",
    "    response = requests.get('http://www.imdb.com/title/'+entry)\n",
    "    html = response.text\n",
    "    try:\n",
    "        gross_list = re.findall(\"Gross:</h4>[ ]*\\$([^ ]*)\", html)\n",
    "        gross = int(gross_list[0].replace(',', ''))\n",
    "        print '.',\n",
    "        return gross\n",
    "    except Exception as ex:\n",
    "        print\n",
    "        print ex, entry, response.status_code\n",
    "        return None"
   ]
  },
  {
   "cell_type": "code",
   "execution_count": 30,
   "metadata": {
    "collapsed": false
   },
   "outputs": [
    {
     "name": "stdout",
     "output_type": "stream",
     "text": [
      ". . . . . .\n",
      "list index out of range tt0046268 200\n",
      "\n",
      "list index out of range tt0055630 200\n",
      ". . . . .\n",
      "list index out of range tt0057115 200\n",
      ". .\n",
      "list index out of range tt0071315 200\n",
      ". . . . .\n",
      "list index out of range tt0074896 200\n",
      "\n",
      "list index out of range tt1280558 200\n",
      ".\n",
      "list index out of range tt0021749 200\n",
      ". . .\n",
      "list index out of range tt0053125 200\n",
      ". .\n",
      "list index out of range tt0025316 200\n",
      ". . . .\n",
      "list index out of range tt0072684 200\n",
      ".\n",
      "list index out of range tt0074958 200\n",
      ". . . .\n",
      "list index out of range tt0036775 200\n",
      ". . . . . .\n",
      "list index out of range tt0978762 200\n",
      "\n",
      "list index out of range tt0109117 200\n",
      ". . .\n",
      "list index out of range tt0080678 200\n",
      ". .\n",
      "list index out of range tt0056592 200\n",
      ".\n",
      "list index out of range tt0095327 200\n",
      ". . .\n",
      "list index out of range tt0476735 200\n",
      ". . . . . .\n",
      "list index out of range tt0046438 200\n",
      ".\n",
      "list index out of range tt0056687 200\n",
      "\n",
      "list index out of range tt0015864 200\n",
      ".\n",
      "list index out of range tt0045152 200\n",
      "\n",
      "list index out of range tt0073707 200\n",
      ". . . .\n",
      "list index out of range tt0046911 200\n",
      ".\n",
      "list index out of range tt0050986 200\n",
      ".\n",
      "list index out of range tt0091251 200\n",
      ". . . . . . . . .\n",
      "list index out of range tt0032553 200\n",
      "\n",
      "list index out of range tt0032551 200\n",
      ". . . . . .\n",
      "list index out of range tt0060827 200\n",
      ". . .\n",
      "list index out of range tt0031679 200\n",
      ". . . . .\n",
      "list index out of range tt0053198 200\n",
      ". . .\n",
      "list index out of range tt0050825 200\n",
      "\n",
      "list index out of range tt0042876 200\n",
      "\n",
      "list index out of range tt0083987 200\n",
      ". . .\n",
      "list index out of range tt4430212 200\n",
      ". . . . . . . . . . .\n",
      "list index out of range tt1954470 200\n",
      "\n",
      "list index out of range tt0242519 200\n",
      ". . . . . . .\n",
      "list index out of range tt0057012 200\n",
      "\n",
      "list index out of range tt0096283 200\n",
      ".\n",
      "list index out of range tt0064116 200\n",
      ". . . .\n",
      "list index out of range tt0081505 200\n",
      "\n",
      "list index out of range tt0038650 200\n",
      ".\n",
      "list index out of range tt0034583 200\n",
      ". . . . . . .\n",
      "list index out of range tt0033870 200\n",
      ". . .\n",
      "list index out of range tt0040897 200\n",
      ". .\n",
      "list index out of range tt0019254 200\n",
      "\n",
      "list index out of range tt0066921 200\n",
      "\n",
      "list index out of range tt0374887 200\n",
      "\n",
      "list index out of range tt0044079 200\n",
      "\n",
      "list index out of range tt0061512 200\n",
      "\n",
      "list index out of range tt0033467 200\n",
      ".\n",
      "list index out of range tt0169102 200\n",
      "\n",
      "list index out of range tt0017925 200\n",
      ". . .\n",
      "list index out of range tt0055031 200\n",
      ".\n",
      "list index out of range tt0087544 200\n",
      ". . .\n",
      "list index out of range tt0050083 200\n",
      ". .\n",
      "list index out of range tt0018455 200\n",
      ". . . .\n",
      "list index out of range tt0077416 200\n",
      ". . . . . . . . .\n",
      "list index out of range tt0050976 200\n",
      ". . . . . . . . .\n",
      "list index out of range tt0043014 200\n",
      "\n",
      "list index out of range tt0079944 200\n",
      ".\n",
      "list index out of range tt0053604 200\n",
      ". . . . .\n",
      "list index out of range tt0051201 200\n",
      "\n",
      "list index out of range tt0060107 200\n",
      "\n",
      "list index out of range tt0032976 200\n",
      ". .\n",
      "list index out of range tt0059578 200\n",
      "\n",
      "list index out of range tt0072890 200\n",
      ". . . . . . .\n",
      "list index out of range tt1028532 200\n",
      ". . . . . .\n",
      "list index out of range tt0075314 200\n",
      "\n",
      "list index out of range tt0116231 200\n"
     ]
    }
   ],
   "source": [
    "grosses = [(e, get_gross(e)) for e in entries]"
   ]
  },
  {
   "cell_type": "code",
   "execution_count": 31,
   "metadata": {
    "collapsed": false
   },
   "outputs": [
    {
     "data": {
      "text/html": [
       "<div>\n",
       "<table border=\"1\" class=\"dataframe\">\n",
       "  <thead>\n",
       "    <tr style=\"text-align: right;\">\n",
       "      <th></th>\n",
       "      <th>imdbID</th>\n",
       "      <th>Gross</th>\n",
       "    </tr>\n",
       "  </thead>\n",
       "  <tbody>\n",
       "    <tr>\n",
       "      <th>0</th>\n",
       "      <td>tt2582802</td>\n",
       "      <td>13092000.0</td>\n",
       "    </tr>\n",
       "    <tr>\n",
       "      <th>1</th>\n",
       "      <td>tt0047478</td>\n",
       "      <td>269061.0</td>\n",
       "    </tr>\n",
       "    <tr>\n",
       "      <th>2</th>\n",
       "      <td>tt0082971</td>\n",
       "      <td>242374454.0</td>\n",
       "    </tr>\n",
       "    <tr>\n",
       "      <th>3</th>\n",
       "      <td>tt0050212</td>\n",
       "      <td>27200000.0</td>\n",
       "    </tr>\n",
       "    <tr>\n",
       "      <th>4</th>\n",
       "      <td>tt0986264</td>\n",
       "      <td>1204660.0</td>\n",
       "    </tr>\n",
       "  </tbody>\n",
       "</table>\n",
       "</div>"
      ],
      "text/plain": [
       "      imdbID        Gross\n",
       "0  tt2582802   13092000.0\n",
       "1  tt0047478     269061.0\n",
       "2  tt0082971  242374454.0\n",
       "3  tt0050212   27200000.0\n",
       "4  tt0986264    1204660.0"
      ]
     },
     "execution_count": 31,
     "metadata": {},
     "output_type": "execute_result"
    }
   ],
   "source": [
    "df1 = pd.DataFrame(grosses, columns=['imdbID', 'Gross'])\n",
    "df1.head()"
   ]
  },
  {
   "cell_type": "markdown",
   "metadata": {},
   "source": [
    "### 3.D Data munging\n",
    "\n",
    "Now that you have movie information and gross revenue information, let's clean the two datasets.\n",
    "\n",
    "1. Check if there are null values. Be careful they may appear to be valid strings.\n",
    "- Convert the columns to the appropriate formats. In particular handle:\n",
    "    - Released\n",
    "    - Runtime\n",
    "    - year\n",
    "    - imdbRating\n",
    "    - imdbVotes\n",
    "- Merge the data from the two datasets into a single one."
   ]
  },
  {
   "cell_type": "code",
   "execution_count": 32,
   "metadata": {
    "collapsed": false
   },
   "outputs": [
    {
     "name": "stdout",
     "output_type": "stream",
     "text": [
      "<class 'pandas.core.frame.DataFrame'>\n",
      "RangeIndex: 250 entries, 0 to 249\n",
      "Data columns (total 20 columns):\n",
      "Actors        250 non-null object\n",
      "Awards        245 non-null object\n",
      "Country       250 non-null object\n",
      "Director      250 non-null object\n",
      "Genre         250 non-null object\n",
      "Language      249 non-null object\n",
      "Metascore     161 non-null object\n",
      "Plot          250 non-null object\n",
      "Poster        250 non-null object\n",
      "Rated         247 non-null object\n",
      "Released      247 non-null object\n",
      "Response      250 non-null object\n",
      "Runtime       250 non-null object\n",
      "Title         250 non-null object\n",
      "Type          250 non-null object\n",
      "Writer        250 non-null object\n",
      "Year          250 non-null object\n",
      "imdbID        250 non-null object\n",
      "imdbRating    250 non-null object\n",
      "imdbVotes     250 non-null object\n",
      "dtypes: object(20)\n",
      "memory usage: 39.1+ KB\n"
     ]
    }
   ],
   "source": [
    "df = df.replace('N/A', np.nan)\n",
    "df.info()"
   ]
  },
  {
   "cell_type": "code",
   "execution_count": 33,
   "metadata": {
    "collapsed": false
   },
   "outputs": [],
   "source": [
    "df.Released = pd.to_datetime(df.Released)"
   ]
  },
  {
   "cell_type": "code",
   "execution_count": 34,
   "metadata": {
    "collapsed": false
   },
   "outputs": [],
   "source": [
    "def intminutes(x):\n",
    "    y = x.replace('min', '').strip()\n",
    "    return int(y)\n",
    "\n",
    "df.Runtime = df.Runtime.apply(intminutes)"
   ]
  },
  {
   "cell_type": "code",
   "execution_count": 35,
   "metadata": {
    "collapsed": false
   },
   "outputs": [],
   "source": [
    "df.Year = df.Year.astype(int)"
   ]
  },
  {
   "cell_type": "code",
   "execution_count": 36,
   "metadata": {
    "collapsed": false
   },
   "outputs": [],
   "source": [
    "df.imdbRating = df.imdbRating.astype(float)"
   ]
  },
  {
   "cell_type": "code",
   "execution_count": 37,
   "metadata": {
    "collapsed": false
   },
   "outputs": [],
   "source": [
    "def intvotes(x):\n",
    "    y = x.replace(',', '').strip()\n",
    "    return int(y)\n",
    "df.imdbVotes = df.imdbVotes.apply(intvotes)"
   ]
  },
  {
   "cell_type": "code",
   "execution_count": 38,
   "metadata": {
    "collapsed": false
   },
   "outputs": [
    {
     "name": "stdout",
     "output_type": "stream",
     "text": [
      "<class 'pandas.core.frame.DataFrame'>\n",
      "RangeIndex: 250 entries, 0 to 249\n",
      "Data columns (total 20 columns):\n",
      "Actors        250 non-null object\n",
      "Awards        245 non-null object\n",
      "Country       250 non-null object\n",
      "Director      250 non-null object\n",
      "Genre         250 non-null object\n",
      "Language      249 non-null object\n",
      "Metascore     161 non-null object\n",
      "Plot          250 non-null object\n",
      "Poster        250 non-null object\n",
      "Rated         247 non-null object\n",
      "Released      247 non-null datetime64[ns]\n",
      "Response      250 non-null object\n",
      "Runtime       250 non-null int64\n",
      "Title         250 non-null object\n",
      "Type          250 non-null object\n",
      "Writer        250 non-null object\n",
      "Year          250 non-null int64\n",
      "imdbID        250 non-null object\n",
      "imdbRating    250 non-null float64\n",
      "imdbVotes     250 non-null int64\n",
      "dtypes: datetime64[ns](1), float64(1), int64(3), object(15)\n",
      "memory usage: 39.1+ KB\n"
     ]
    }
   ],
   "source": [
    "df.info()"
   ]
  },
  {
   "cell_type": "code",
   "execution_count": 39,
   "metadata": {
    "collapsed": true
   },
   "outputs": [],
   "source": [
    "df = pd.merge(df, df1)"
   ]
  },
  {
   "cell_type": "code",
   "execution_count": 40,
   "metadata": {
    "collapsed": false
   },
   "outputs": [
    {
     "data": {
      "text/html": [
       "<div>\n",
       "<table border=\"1\" class=\"dataframe\">\n",
       "  <thead>\n",
       "    <tr style=\"text-align: right;\">\n",
       "      <th></th>\n",
       "      <th>Actors</th>\n",
       "      <th>Awards</th>\n",
       "      <th>Country</th>\n",
       "      <th>Director</th>\n",
       "      <th>Genre</th>\n",
       "      <th>Language</th>\n",
       "      <th>Metascore</th>\n",
       "      <th>Plot</th>\n",
       "      <th>Poster</th>\n",
       "      <th>Rated</th>\n",
       "      <th>...</th>\n",
       "      <th>Response</th>\n",
       "      <th>Runtime</th>\n",
       "      <th>Title</th>\n",
       "      <th>Type</th>\n",
       "      <th>Writer</th>\n",
       "      <th>Year</th>\n",
       "      <th>imdbID</th>\n",
       "      <th>imdbRating</th>\n",
       "      <th>imdbVotes</th>\n",
       "      <th>Gross</th>\n",
       "    </tr>\n",
       "  </thead>\n",
       "  <tbody>\n",
       "    <tr>\n",
       "      <th>0</th>\n",
       "      <td>Miles Teller, J.K. Simmons, Paul Reiser, Melis...</td>\n",
       "      <td>Won 3 Oscars. Another 88 wins &amp; 135 nominations.</td>\n",
       "      <td>USA</td>\n",
       "      <td>Damien Chazelle</td>\n",
       "      <td>Drama, Music</td>\n",
       "      <td>English</td>\n",
       "      <td>88</td>\n",
       "      <td>A promising young drummer enrolls at a cut-thr...</td>\n",
       "      <td>https://images-na.ssl-images-amazon.com/images...</td>\n",
       "      <td>R</td>\n",
       "      <td>...</td>\n",
       "      <td>True</td>\n",
       "      <td>107</td>\n",
       "      <td>Whiplash</td>\n",
       "      <td>movie</td>\n",
       "      <td>Damien Chazelle</td>\n",
       "      <td>2014</td>\n",
       "      <td>tt2582802</td>\n",
       "      <td>8.5</td>\n",
       "      <td>446912</td>\n",
       "      <td>13092000.0</td>\n",
       "    </tr>\n",
       "    <tr>\n",
       "      <th>1</th>\n",
       "      <td>Toshirô Mifune, Takashi Shimura, Keiko Tsushim...</td>\n",
       "      <td>Nominated for 2 Oscars. Another 5 wins &amp; 6 nom...</td>\n",
       "      <td>Japan</td>\n",
       "      <td>Akira Kurosawa</td>\n",
       "      <td>Adventure, Drama</td>\n",
       "      <td>Japanese</td>\n",
       "      <td>98</td>\n",
       "      <td>A poor village under attack by bandits recruit...</td>\n",
       "      <td>https://images-na.ssl-images-amazon.com/images...</td>\n",
       "      <td>UNRATED</td>\n",
       "      <td>...</td>\n",
       "      <td>True</td>\n",
       "      <td>207</td>\n",
       "      <td>Seven Samurai</td>\n",
       "      <td>movie</td>\n",
       "      <td>Akira Kurosawa (screenplay), Shinobu Hashimoto...</td>\n",
       "      <td>1954</td>\n",
       "      <td>tt0047478</td>\n",
       "      <td>8.7</td>\n",
       "      <td>239980</td>\n",
       "      <td>269061.0</td>\n",
       "    </tr>\n",
       "    <tr>\n",
       "      <th>2</th>\n",
       "      <td>Harrison Ford, Karen Allen, Paul Freeman, Rona...</td>\n",
       "      <td>Won 4 Oscars. Another 30 wins &amp; 23 nominations.</td>\n",
       "      <td>USA</td>\n",
       "      <td>Steven Spielberg</td>\n",
       "      <td>Action, Adventure</td>\n",
       "      <td>English, German, Hebrew, Spanish, Arabic, Nepali</td>\n",
       "      <td>85</td>\n",
       "      <td>Archaeologist and adventurer Indiana Jones is ...</td>\n",
       "      <td>https://images-na.ssl-images-amazon.com/images...</td>\n",
       "      <td>PG</td>\n",
       "      <td>...</td>\n",
       "      <td>True</td>\n",
       "      <td>115</td>\n",
       "      <td>Raiders of the Lost Ark</td>\n",
       "      <td>movie</td>\n",
       "      <td>Lawrence Kasdan (screenplay), George Lucas (st...</td>\n",
       "      <td>1981</td>\n",
       "      <td>tt0082971</td>\n",
       "      <td>8.5</td>\n",
       "      <td>695542</td>\n",
       "      <td>242374454.0</td>\n",
       "    </tr>\n",
       "    <tr>\n",
       "      <th>3</th>\n",
       "      <td>William Holden, Alec Guinness, Jack Hawkins, S...</td>\n",
       "      <td>Won 7 Oscars. Another 23 wins &amp; 7 nominations.</td>\n",
       "      <td>UK, USA</td>\n",
       "      <td>David Lean</td>\n",
       "      <td>Adventure, Drama, War</td>\n",
       "      <td>English, Japanese, Thai</td>\n",
       "      <td>NaN</td>\n",
       "      <td>After settling his differences with a Japanese...</td>\n",
       "      <td>https://images-na.ssl-images-amazon.com/images...</td>\n",
       "      <td>PG</td>\n",
       "      <td>...</td>\n",
       "      <td>True</td>\n",
       "      <td>161</td>\n",
       "      <td>The Bridge on the River Kwai</td>\n",
       "      <td>movie</td>\n",
       "      <td>Pierre Boulle (novel), Carl Foreman (screenpla...</td>\n",
       "      <td>1957</td>\n",
       "      <td>tt0050212</td>\n",
       "      <td>8.2</td>\n",
       "      <td>156900</td>\n",
       "      <td>27200000.0</td>\n",
       "    </tr>\n",
       "    <tr>\n",
       "      <th>4</th>\n",
       "      <td>Darsheel Safary, Aamir Khan, Tanay Chheda, Sac...</td>\n",
       "      <td>14 wins &amp; 15 nominations.</td>\n",
       "      <td>India</td>\n",
       "      <td>Aamir Khan, Amole Gupte</td>\n",
       "      <td>Drama, Family, Music</td>\n",
       "      <td>Hindi, English</td>\n",
       "      <td>NaN</td>\n",
       "      <td>An eight-year-old boy is thought to be a lazy ...</td>\n",
       "      <td>https://images-na.ssl-images-amazon.com/images...</td>\n",
       "      <td>PG</td>\n",
       "      <td>...</td>\n",
       "      <td>True</td>\n",
       "      <td>165</td>\n",
       "      <td>Like Stars on Earth</td>\n",
       "      <td>movie</td>\n",
       "      <td>Amole Gupte (dialogue &amp; screenplay), Amole Gup...</td>\n",
       "      <td>2007</td>\n",
       "      <td>tt0986264</td>\n",
       "      <td>8.5</td>\n",
       "      <td>96790</td>\n",
       "      <td>1204660.0</td>\n",
       "    </tr>\n",
       "  </tbody>\n",
       "</table>\n",
       "<p>5 rows × 21 columns</p>\n",
       "</div>"
      ],
      "text/plain": [
       "                                              Actors  \\\n",
       "0  Miles Teller, J.K. Simmons, Paul Reiser, Melis...   \n",
       "1  Toshirô Mifune, Takashi Shimura, Keiko Tsushim...   \n",
       "2  Harrison Ford, Karen Allen, Paul Freeman, Rona...   \n",
       "3  William Holden, Alec Guinness, Jack Hawkins, S...   \n",
       "4  Darsheel Safary, Aamir Khan, Tanay Chheda, Sac...   \n",
       "\n",
       "                                              Awards  Country  \\\n",
       "0   Won 3 Oscars. Another 88 wins & 135 nominations.      USA   \n",
       "1  Nominated for 2 Oscars. Another 5 wins & 6 nom...    Japan   \n",
       "2    Won 4 Oscars. Another 30 wins & 23 nominations.      USA   \n",
       "3     Won 7 Oscars. Another 23 wins & 7 nominations.  UK, USA   \n",
       "4                          14 wins & 15 nominations.    India   \n",
       "\n",
       "                  Director                  Genre  \\\n",
       "0          Damien Chazelle           Drama, Music   \n",
       "1           Akira Kurosawa       Adventure, Drama   \n",
       "2         Steven Spielberg      Action, Adventure   \n",
       "3               David Lean  Adventure, Drama, War   \n",
       "4  Aamir Khan, Amole Gupte   Drama, Family, Music   \n",
       "\n",
       "                                           Language Metascore  \\\n",
       "0                                           English        88   \n",
       "1                                          Japanese        98   \n",
       "2  English, German, Hebrew, Spanish, Arabic, Nepali        85   \n",
       "3                           English, Japanese, Thai       NaN   \n",
       "4                                    Hindi, English       NaN   \n",
       "\n",
       "                                                Plot  \\\n",
       "0  A promising young drummer enrolls at a cut-thr...   \n",
       "1  A poor village under attack by bandits recruit...   \n",
       "2  Archaeologist and adventurer Indiana Jones is ...   \n",
       "3  After settling his differences with a Japanese...   \n",
       "4  An eight-year-old boy is thought to be a lazy ...   \n",
       "\n",
       "                                              Poster    Rated     ...       \\\n",
       "0  https://images-na.ssl-images-amazon.com/images...        R     ...        \n",
       "1  https://images-na.ssl-images-amazon.com/images...  UNRATED     ...        \n",
       "2  https://images-na.ssl-images-amazon.com/images...       PG     ...        \n",
       "3  https://images-na.ssl-images-amazon.com/images...       PG     ...        \n",
       "4  https://images-na.ssl-images-amazon.com/images...       PG     ...        \n",
       "\n",
       "  Response Runtime                         Title   Type  \\\n",
       "0     True     107                      Whiplash  movie   \n",
       "1     True     207                 Seven Samurai  movie   \n",
       "2     True     115       Raiders of the Lost Ark  movie   \n",
       "3     True     161  The Bridge on the River Kwai  movie   \n",
       "4     True     165           Like Stars on Earth  movie   \n",
       "\n",
       "                                              Writer  Year     imdbID  \\\n",
       "0                                    Damien Chazelle  2014  tt2582802   \n",
       "1  Akira Kurosawa (screenplay), Shinobu Hashimoto...  1954  tt0047478   \n",
       "2  Lawrence Kasdan (screenplay), George Lucas (st...  1981  tt0082971   \n",
       "3  Pierre Boulle (novel), Carl Foreman (screenpla...  1957  tt0050212   \n",
       "4  Amole Gupte (dialogue & screenplay), Amole Gup...  2007  tt0986264   \n",
       "\n",
       "  imdbRating  imdbVotes        Gross  \n",
       "0        8.5     446912   13092000.0  \n",
       "1        8.7     239980     269061.0  \n",
       "2        8.5     695542  242374454.0  \n",
       "3        8.2     156900   27200000.0  \n",
       "4        8.5      96790    1204660.0  \n",
       "\n",
       "[5 rows x 21 columns]"
      ]
     },
     "execution_count": 40,
     "metadata": {},
     "output_type": "execute_result"
    }
   ],
   "source": [
    "df.head()"
   ]
  }
 ],
 "metadata": {
  "kernelspec": {
   "display_name": "Python 2",
   "language": "python",
   "name": "python2"
  },
  "language_info": {
   "codemirror_mode": {
    "name": "ipython",
    "version": 2
   },
   "file_extension": ".py",
   "mimetype": "text/x-python",
   "name": "python",
   "nbconvert_exporter": "python",
   "pygments_lexer": "ipython2",
   "version": "2.7.13"
  }
 },
 "nbformat": 4,
 "nbformat_minor": 0
}
