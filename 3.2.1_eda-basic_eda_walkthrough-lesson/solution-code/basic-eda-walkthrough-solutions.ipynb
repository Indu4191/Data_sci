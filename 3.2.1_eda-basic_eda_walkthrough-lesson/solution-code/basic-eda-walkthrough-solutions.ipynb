{
 "cells": [
  {
   "cell_type": "markdown",
   "metadata": {},
   "source": [
    "<img src=\"http://imgur.com/1ZcRyrc.png\" style=\"float: left; margin: 20px; height: 55px\">\n",
    "\n",
    "## Walkthrough of Standard EDA Procedure\n",
    "\n",
    "_Authors: Kiefer Katovich (SF)_\n",
    "\n",
    "---\n",
    "\n",
    "This lesson uses a boston housing market dataset to walk through a basic exploratory data analysis procedure, starting from the very beginning with loading the data. \n",
    "\n",
    "Though in many if not most cases the EDA procedure will be considerably more involved, this should give you an idea of the basic workflow a data scientist would go through when taking a look at a new dataset.\n",
    "\n",
    "Note: this lesson is strictly exploratory. We will not be formulating any hypotheses about the data or testing them. In many cases you may have formulated a hypothesis before even looking at your data, which could considerably affect your focus and choices in what to investigate.\n"
   ]
  },
  {
   "cell_type": "markdown",
   "metadata": {},
   "source": [
    "### Lesson Guide\n",
    "\n",
    "- [Description of the Boston Housing Data](#data_description)\n",
    "- [Loading the data](#load_data)\n",
    "- [Initial examination](#header)\n",
    "- [Drop unwanted columns](#drop)\n",
    "- [Clean corrupted data](#clean)\n",
    "- [Count null values and drop rows](#drop_nulls)\n",
    "- [Rename columns](#rename)\n",
    "- [Investigate potential outliers with boxplots](#boxplots)\n",
    "- [Plot all variables together](#plot_all)\n",
    "- [Standardization of variables](#standardization)\n",
    "- [Plot the standardized variables together](#plot_all_rescaled)\n",
    "- [Look at the covariance or correlation between variables](#cov_cor)\n"
   ]
  },
  {
   "cell_type": "markdown",
   "metadata": {},
   "source": [
    "<a id='data_description'></a>\n",
    "\n",
    "### Description of the Boston Housing Data columns\n",
    "\n",
    "---\n",
    "\n",
    "The columns of the dataset are coded. The corresponding descriptions are:\n",
    "\n",
    "    CRIM: per capita crime rate by town \n",
    "    ZN: proportion of residential land zoned for lots over 25,000 sq.ft. \n",
    "    INDUS: proportion of non-retail business acres per town \n",
    "    CHAS: Charles River dummy variable (= 1 if tract bounds river; 0 otherwise) \n",
    "    NOX: nitric oxides concentration (parts per 10 million) \n",
    "    RM: average number of rooms per dwelling \n",
    "    AGE: proportion of owner-occupied units built prior to 1940 \n",
    "    DIS: weighted distances to five Boston employment centres \n",
    "    RAD: index of accessibility to radial highways \n",
    "    TAX: full-value property-tax rate per 10000 dollars\n",
    "    PTRATIO: pupil-teacher ratio by town \n",
    "    B: 1000(Bk - 0.63)^2 where Bk is the proportion of blacks by town \n",
    "    LSTAT: % lower status of the population \n",
    "    MEDV: Median value of owner-occupied homes in 1000's of dollars\n",
    "    \n",
    "Each row in the dataset represents a different suburb of Boston.\n",
    "\n",
    "These descriptions of shortened or coded variables are often called \"codebooks\" or data dictionaries. They are typically found with datasets you might find online in a separate file.\n"
   ]
  },
  {
   "cell_type": "markdown",
   "metadata": {},
   "source": [
    "**Load packages:**"
   ]
  },
  {
   "cell_type": "code",
   "execution_count": 3,
   "metadata": {
    "collapsed": false
   },
   "outputs": [],
   "source": [
    "import numpy as np\n",
    "import scipy.stats as stats\n",
    "import seaborn as sns\n",
    "import matplotlib.pyplot as plt\n",
    "import pandas as pd\n",
    "\n",
    "sns.set_style('darkgrid')\n",
    "\n",
    "%config InlineBackend.figure_format = 'retina'\n",
    "%matplotlib inline"
   ]
  },
  {
   "cell_type": "markdown",
   "metadata": {},
   "source": [
    "<a id='load_data'></a>\n",
    "\n",
    "### 1. Load the data\n",
    "\n",
    "---\n",
    "\n",
    "Import the csv into a pandas DataFrame."
   ]
  },
  {
   "cell_type": "code",
   "execution_count": 18,
   "metadata": {
    "collapsed": true
   },
   "outputs": [],
   "source": [
    "boston_file = '../datasets/housing.csv'"
   ]
  },
  {
   "cell_type": "code",
   "execution_count": 19,
   "metadata": {
    "collapsed": false
   },
   "outputs": [],
   "source": [
    "boston = pd.read_csv(boston_file)"
   ]
  },
  {
   "cell_type": "markdown",
   "metadata": {},
   "source": [
    "<a id='header'></a>\n",
    "\n",
    "### 2. Describe the basic format of the data and the columns\n",
    "\n",
    "---\n",
    "\n",
    "Use the `.head()` function (and optionally pass in an integer for the number of rows you want to see) to examine what the loaded data looks like. This is a good initial step to get a feel for what is in the csv and what problems may be present.\n",
    "\n",
    "The `.dtypes` attribute tells you the data type for each of your columns."
   ]
  },
  {
   "cell_type": "code",
   "execution_count": 20,
   "metadata": {
    "collapsed": false
   },
   "outputs": [
    {
     "data": {
      "text/html": [
       "<div>\n",
       "<table border=\"1\" class=\"dataframe\">\n",
       "  <thead>\n",
       "    <tr style=\"text-align: right;\">\n",
       "      <th></th>\n",
       "      <th>Unnamed: 0</th>\n",
       "      <th>CRIM</th>\n",
       "      <th>ZN</th>\n",
       "      <th>INDUS</th>\n",
       "      <th>CHAS</th>\n",
       "      <th>NOX</th>\n",
       "      <th>RM</th>\n",
       "      <th>AGE</th>\n",
       "      <th>DIS</th>\n",
       "      <th>RAD</th>\n",
       "      <th>TAX</th>\n",
       "      <th>PTRATIO</th>\n",
       "      <th>B</th>\n",
       "      <th>LSTAT</th>\n",
       "      <th>MEDV</th>\n",
       "    </tr>\n",
       "  </thead>\n",
       "  <tbody>\n",
       "    <tr>\n",
       "      <th>0</th>\n",
       "      <td>1</td>\n",
       "      <td>0.00632</td>\n",
       "      <td>18.0</td>\n",
       "      <td>2.31</td>\n",
       "      <td>0</td>\n",
       "      <td>0.538</td>\n",
       "      <td>6.575</td>\n",
       "      <td>65.2</td>\n",
       "      <td>4,09</td>\n",
       "      <td>1</td>\n",
       "      <td>296</td>\n",
       "      <td>15.3</td>\n",
       "      <td>396.90</td>\n",
       "      <td>4.98</td>\n",
       "      <td>24.0</td>\n",
       "    </tr>\n",
       "    <tr>\n",
       "      <th>1</th>\n",
       "      <td>2</td>\n",
       "      <td>0.02731</td>\n",
       "      <td>0.0</td>\n",
       "      <td>7.07</td>\n",
       "      <td>0</td>\n",
       "      <td>0.469</td>\n",
       "      <td>6.421</td>\n",
       "      <td>78.9</td>\n",
       "      <td>4,9671</td>\n",
       "      <td>2</td>\n",
       "      <td>242</td>\n",
       "      <td>17.8</td>\n",
       "      <td>396.90</td>\n",
       "      <td>9.14</td>\n",
       "      <td>21.6</td>\n",
       "    </tr>\n",
       "    <tr>\n",
       "      <th>2</th>\n",
       "      <td>3</td>\n",
       "      <td>0.02729</td>\n",
       "      <td>0.0</td>\n",
       "      <td>7.07</td>\n",
       "      <td>0</td>\n",
       "      <td>0.469</td>\n",
       "      <td>7.185</td>\n",
       "      <td>61.1</td>\n",
       "      <td>4,9671</td>\n",
       "      <td>2</td>\n",
       "      <td>242</td>\n",
       "      <td>17.8</td>\n",
       "      <td>392.83</td>\n",
       "      <td>4.03</td>\n",
       "      <td>34.7</td>\n",
       "    </tr>\n",
       "    <tr>\n",
       "      <th>3</th>\n",
       "      <td>4</td>\n",
       "      <td>0.03237</td>\n",
       "      <td>0.0</td>\n",
       "      <td>2.18</td>\n",
       "      <td>0</td>\n",
       "      <td>0.458</td>\n",
       "      <td>6.998</td>\n",
       "      <td>45.8</td>\n",
       "      <td>6,0622</td>\n",
       "      <td>3</td>\n",
       "      <td>222</td>\n",
       "      <td>18.7</td>\n",
       "      <td>394.63</td>\n",
       "      <td>2.94</td>\n",
       "      <td>33.4</td>\n",
       "    </tr>\n",
       "    <tr>\n",
       "      <th>4</th>\n",
       "      <td>5</td>\n",
       "      <td>0.06905</td>\n",
       "      <td>0.0</td>\n",
       "      <td>2.18</td>\n",
       "      <td>0</td>\n",
       "      <td>0.458</td>\n",
       "      <td>7.147</td>\n",
       "      <td>54.2</td>\n",
       "      <td>6,0622</td>\n",
       "      <td>3</td>\n",
       "      <td>222</td>\n",
       "      <td>18.7</td>\n",
       "      <td>396.90</td>\n",
       "      <td>5.33</td>\n",
       "      <td>36.2</td>\n",
       "    </tr>\n",
       "    <tr>\n",
       "      <th>5</th>\n",
       "      <td>6</td>\n",
       "      <td>0.02985</td>\n",
       "      <td>0.0</td>\n",
       "      <td>2.18</td>\n",
       "      <td>0</td>\n",
       "      <td>0.458</td>\n",
       "      <td>6.430</td>\n",
       "      <td>58.7</td>\n",
       "      <td>6,0622</td>\n",
       "      <td>3</td>\n",
       "      <td>222</td>\n",
       "      <td>18.7</td>\n",
       "      <td>394.12</td>\n",
       "      <td>5.21</td>\n",
       "      <td>28.7</td>\n",
       "    </tr>\n",
       "    <tr>\n",
       "      <th>6</th>\n",
       "      <td>7</td>\n",
       "      <td>0.08829</td>\n",
       "      <td>12.5</td>\n",
       "      <td>7.87</td>\n",
       "      <td>0</td>\n",
       "      <td>0.524</td>\n",
       "      <td>6.012</td>\n",
       "      <td>66.6</td>\n",
       "      <td>5,5605</td>\n",
       "      <td>5</td>\n",
       "      <td>311</td>\n",
       "      <td>15.2</td>\n",
       "      <td>395.60</td>\n",
       "      <td>12.43</td>\n",
       "      <td>22.9</td>\n",
       "    </tr>\n",
       "    <tr>\n",
       "      <th>7</th>\n",
       "      <td>8</td>\n",
       "      <td>0.14455</td>\n",
       "      <td>12.5</td>\n",
       "      <td>7.87</td>\n",
       "      <td>0</td>\n",
       "      <td>0.524</td>\n",
       "      <td>6.172</td>\n",
       "      <td>96.1</td>\n",
       "      <td>5,9505</td>\n",
       "      <td>5</td>\n",
       "      <td>311</td>\n",
       "      <td>15.2</td>\n",
       "      <td>396.90</td>\n",
       "      <td>19.15</td>\n",
       "      <td>27.1</td>\n",
       "    </tr>\n",
       "  </tbody>\n",
       "</table>\n",
       "</div>"
      ],
      "text/plain": [
       "   Unnamed: 0     CRIM    ZN  INDUS  CHAS    NOX     RM   AGE     DIS RAD  \\\n",
       "0           1  0.00632  18.0   2.31     0  0.538  6.575  65.2    4,09   1   \n",
       "1           2  0.02731   0.0   7.07     0  0.469  6.421  78.9  4,9671   2   \n",
       "2           3  0.02729   0.0   7.07     0  0.469  7.185  61.1  4,9671   2   \n",
       "3           4  0.03237   0.0   2.18     0  0.458  6.998  45.8  6,0622   3   \n",
       "4           5  0.06905   0.0   2.18     0  0.458  7.147  54.2  6,0622   3   \n",
       "5           6  0.02985   0.0   2.18     0  0.458  6.430  58.7  6,0622   3   \n",
       "6           7  0.08829  12.5   7.87     0  0.524  6.012  66.6  5,5605   5   \n",
       "7           8  0.14455  12.5   7.87     0  0.524  6.172  96.1  5,9505   5   \n",
       "\n",
       "   TAX  PTRATIO       B  LSTAT  MEDV  \n",
       "0  296     15.3  396.90   4.98  24.0  \n",
       "1  242     17.8  396.90   9.14  21.6  \n",
       "2  242     17.8  392.83   4.03  34.7  \n",
       "3  222     18.7  394.63   2.94  33.4  \n",
       "4  222     18.7  396.90   5.33  36.2  \n",
       "5  222     18.7  394.12   5.21  28.7  \n",
       "6  311     15.2  395.60  12.43  22.9  \n",
       "7  311     15.2  396.90  19.15  27.1  "
      ]
     },
     "execution_count": 20,
     "metadata": {},
     "output_type": "execute_result"
    }
   ],
   "source": [
    "# Print out the first 8 rows:\n",
    "boston.head(8)"
   ]
  },
  {
   "cell_type": "code",
   "execution_count": 21,
   "metadata": {
    "collapsed": false
   },
   "outputs": [
    {
     "data": {
      "text/plain": [
       "Unnamed: 0      int64\n",
       "CRIM          float64\n",
       "ZN            float64\n",
       "INDUS         float64\n",
       "CHAS            int64\n",
       "NOX           float64\n",
       "RM            float64\n",
       "AGE           float64\n",
       "DIS            object\n",
       "RAD            object\n",
       "TAX             int64\n",
       "PTRATIO       float64\n",
       "B             float64\n",
       "LSTAT         float64\n",
       "MEDV          float64\n",
       "dtype: object"
      ]
     },
     "execution_count": 21,
     "metadata": {},
     "output_type": "execute_result"
    }
   ],
   "source": [
    "# Look at the dtypes of the columns:\n",
    "boston.dtypes"
   ]
  },
  {
   "cell_type": "markdown",
   "metadata": {},
   "source": [
    "<a id='drop'></a>\n",
    "\n",
    "### 2. Drop unwanted columns\n",
    "\n",
    "---\n",
    "\n",
    "There is a column labeled `Unnamed: 0` which appears to simply number the rows. We already have the number id of the rows in the DataFrame's index and so we don't need this column.\n",
    "\n",
    "The `.drop()` built-in function can be used to get rid of a column. When removing a column, we need to specify `axis=1` to the function.\n",
    "\n",
    "For the record, the `.index` attribute holds the row indices. This is the the sister attribute to the `.columns` attribute that we work with more often.\n",
    "\n"
   ]
  },
  {
   "cell_type": "code",
   "execution_count": 22,
   "metadata": {
    "collapsed": false
   },
   "outputs": [
    {
     "name": "stdout",
     "output_type": "stream",
     "text": [
      "RangeIndex(start=0, stop=506, step=1)\n",
      "[ 0  1  2  3  4  5  6  7  8  9 10 11 12 13 14 15 16 17 18 19]\n",
      "(506, 15)\n"
     ]
    }
   ],
   "source": [
    "# print out the index object and the first 20 items in the DataFrame's index \n",
    "# to see that we have these row numbers already:\n",
    "#print boston.CRIM\n",
    "type(boston.CRIM.values)\n",
    "print boston.index\n",
    "print boston.index.values[0:20]\n",
    "print boston.shape"
   ]
  },
  {
   "cell_type": "code",
   "execution_count": 23,
   "metadata": {
    "collapsed": true
   },
   "outputs": [],
   "source": [
    "# Remove the unneccesary column:\n",
    "boston.drop('Unnamed: 0', axis=1, inplace=True)"
   ]
  },
  {
   "cell_type": "code",
   "execution_count": 24,
   "metadata": {
    "collapsed": false
   },
   "outputs": [
    {
     "data": {
      "text/html": [
       "<div>\n",
       "<table border=\"1\" class=\"dataframe\">\n",
       "  <thead>\n",
       "    <tr style=\"text-align: right;\">\n",
       "      <th></th>\n",
       "      <th>CRIM</th>\n",
       "      <th>ZN</th>\n",
       "      <th>INDUS</th>\n",
       "      <th>CHAS</th>\n",
       "      <th>NOX</th>\n",
       "      <th>RM</th>\n",
       "      <th>AGE</th>\n",
       "      <th>DIS</th>\n",
       "      <th>RAD</th>\n",
       "      <th>TAX</th>\n",
       "      <th>PTRATIO</th>\n",
       "      <th>B</th>\n",
       "      <th>LSTAT</th>\n",
       "      <th>MEDV</th>\n",
       "    </tr>\n",
       "  </thead>\n",
       "  <tbody>\n",
       "    <tr>\n",
       "      <th>0</th>\n",
       "      <td>0.00632</td>\n",
       "      <td>18.0</td>\n",
       "      <td>2.31</td>\n",
       "      <td>0</td>\n",
       "      <td>0.538</td>\n",
       "      <td>6.575</td>\n",
       "      <td>65.2</td>\n",
       "      <td>4,09</td>\n",
       "      <td>1</td>\n",
       "      <td>296</td>\n",
       "      <td>15.3</td>\n",
       "      <td>396.90</td>\n",
       "      <td>4.98</td>\n",
       "      <td>24.0</td>\n",
       "    </tr>\n",
       "    <tr>\n",
       "      <th>1</th>\n",
       "      <td>0.02731</td>\n",
       "      <td>0.0</td>\n",
       "      <td>7.07</td>\n",
       "      <td>0</td>\n",
       "      <td>0.469</td>\n",
       "      <td>6.421</td>\n",
       "      <td>78.9</td>\n",
       "      <td>4,9671</td>\n",
       "      <td>2</td>\n",
       "      <td>242</td>\n",
       "      <td>17.8</td>\n",
       "      <td>396.90</td>\n",
       "      <td>9.14</td>\n",
       "      <td>21.6</td>\n",
       "    </tr>\n",
       "    <tr>\n",
       "      <th>2</th>\n",
       "      <td>0.02729</td>\n",
       "      <td>0.0</td>\n",
       "      <td>7.07</td>\n",
       "      <td>0</td>\n",
       "      <td>0.469</td>\n",
       "      <td>7.185</td>\n",
       "      <td>61.1</td>\n",
       "      <td>4,9671</td>\n",
       "      <td>2</td>\n",
       "      <td>242</td>\n",
       "      <td>17.8</td>\n",
       "      <td>392.83</td>\n",
       "      <td>4.03</td>\n",
       "      <td>34.7</td>\n",
       "    </tr>\n",
       "    <tr>\n",
       "      <th>3</th>\n",
       "      <td>0.03237</td>\n",
       "      <td>0.0</td>\n",
       "      <td>2.18</td>\n",
       "      <td>0</td>\n",
       "      <td>0.458</td>\n",
       "      <td>6.998</td>\n",
       "      <td>45.8</td>\n",
       "      <td>6,0622</td>\n",
       "      <td>3</td>\n",
       "      <td>222</td>\n",
       "      <td>18.7</td>\n",
       "      <td>394.63</td>\n",
       "      <td>2.94</td>\n",
       "      <td>33.4</td>\n",
       "    </tr>\n",
       "    <tr>\n",
       "      <th>4</th>\n",
       "      <td>0.06905</td>\n",
       "      <td>0.0</td>\n",
       "      <td>2.18</td>\n",
       "      <td>0</td>\n",
       "      <td>0.458</td>\n",
       "      <td>7.147</td>\n",
       "      <td>54.2</td>\n",
       "      <td>6,0622</td>\n",
       "      <td>3</td>\n",
       "      <td>222</td>\n",
       "      <td>18.7</td>\n",
       "      <td>396.90</td>\n",
       "      <td>5.33</td>\n",
       "      <td>36.2</td>\n",
       "    </tr>\n",
       "  </tbody>\n",
       "</table>\n",
       "</div>"
      ],
      "text/plain": [
       "      CRIM    ZN  INDUS  CHAS    NOX     RM   AGE     DIS RAD  TAX  PTRATIO  \\\n",
       "0  0.00632  18.0   2.31     0  0.538  6.575  65.2    4,09   1  296     15.3   \n",
       "1  0.02731   0.0   7.07     0  0.469  6.421  78.9  4,9671   2  242     17.8   \n",
       "2  0.02729   0.0   7.07     0  0.469  7.185  61.1  4,9671   2  242     17.8   \n",
       "3  0.03237   0.0   2.18     0  0.458  6.998  45.8  6,0622   3  222     18.7   \n",
       "4  0.06905   0.0   2.18     0  0.458  7.147  54.2  6,0622   3  222     18.7   \n",
       "\n",
       "        B  LSTAT  MEDV  \n",
       "0  396.90   4.98  24.0  \n",
       "1  396.90   9.14  21.6  \n",
       "2  392.83   4.03  34.7  \n",
       "3  394.63   2.94  33.4  \n",
       "4  396.90   5.33  36.2  "
      ]
     },
     "execution_count": 24,
     "metadata": {},
     "output_type": "execute_result"
    }
   ],
   "source": [
    "boston.head(5)"
   ]
  },
  {
   "cell_type": "markdown",
   "metadata": {},
   "source": [
    "<a id='clean'></a>\n",
    "\n",
    "### 3. Clean corrupted columns\n",
    "\n",
    "---\n",
    "\n",
    "You may have noticed when we examined the `dtypes` attribute that two of the columns were of type \"object\", indicating that they were string. However, we know from the data description above (and we can infer from the header of the data) that `DIS` and `RAD` should in fact be numeric.\n",
    "\n",
    "It is pretty common to have numeric columns represented as strings in your data if some of the observations are corrupted. It is important to always check the data types of your columns.\n",
    "\n",
    "**3.A What is causing the `DIS` column to be encoded as a string? Figure out a way to make sure the column is numeric while preserving information.**\n",
    "\n",
    "*Tip: The `.map()` built-in function on a column will apply a function to each element of the column.*"
   ]
  },
  {
   "cell_type": "code",
   "execution_count": 26,
   "metadata": {
    "collapsed": false
   },
   "outputs": [
    {
     "name": "stdout",
     "output_type": "stream",
     "text": [
      "['4,09' '4,9671' '4,9671' '6,0622' '6,0622' '6,0622' '5,5605' '5,9505'\n",
      " '6,0821' '6,5921' '6,3467' '6,2267' '5,4509' '4,7075' '4,4619' '4,4986'\n",
      " '4,4986' '4,2579' '3,7965' '3,7965' '3,7979' '4,0123' '3,9769' '4,0952'\n",
      " '4,3996' '4,4546' '4,682' '4,4534' '4,4547' '4,239']\n"
     ]
    }
   ],
   "source": [
    "# The DIS column has commas in place of periods.\n",
    "print boston.DIS[0:30].values"
   ]
  },
  {
   "cell_type": "code",
   "execution_count": 27,
   "metadata": {
    "collapsed": false
   },
   "outputs": [
    {
     "data": {
      "text/html": [
       "<div>\n",
       "<table border=\"1\" class=\"dataframe\">\n",
       "  <thead>\n",
       "    <tr style=\"text-align: right;\">\n",
       "      <th></th>\n",
       "      <th>CRIM</th>\n",
       "      <th>ZN</th>\n",
       "      <th>INDUS</th>\n",
       "      <th>CHAS</th>\n",
       "      <th>NOX</th>\n",
       "      <th>RM</th>\n",
       "      <th>AGE</th>\n",
       "      <th>DIS</th>\n",
       "      <th>RAD</th>\n",
       "      <th>TAX</th>\n",
       "      <th>PTRATIO</th>\n",
       "      <th>B</th>\n",
       "      <th>LSTAT</th>\n",
       "      <th>MEDV</th>\n",
       "    </tr>\n",
       "  </thead>\n",
       "  <tbody>\n",
       "    <tr>\n",
       "      <th>0</th>\n",
       "      <td>0.00632</td>\n",
       "      <td>18.0</td>\n",
       "      <td>2.31</td>\n",
       "      <td>0</td>\n",
       "      <td>0.538</td>\n",
       "      <td>6.575</td>\n",
       "      <td>65.2</td>\n",
       "      <td>4.0900</td>\n",
       "      <td>1</td>\n",
       "      <td>296</td>\n",
       "      <td>15.3</td>\n",
       "      <td>396.90</td>\n",
       "      <td>4.98</td>\n",
       "      <td>24.0</td>\n",
       "    </tr>\n",
       "    <tr>\n",
       "      <th>1</th>\n",
       "      <td>0.02731</td>\n",
       "      <td>0.0</td>\n",
       "      <td>7.07</td>\n",
       "      <td>0</td>\n",
       "      <td>0.469</td>\n",
       "      <td>6.421</td>\n",
       "      <td>78.9</td>\n",
       "      <td>4.9671</td>\n",
       "      <td>2</td>\n",
       "      <td>242</td>\n",
       "      <td>17.8</td>\n",
       "      <td>396.90</td>\n",
       "      <td>9.14</td>\n",
       "      <td>21.6</td>\n",
       "    </tr>\n",
       "    <tr>\n",
       "      <th>2</th>\n",
       "      <td>0.02729</td>\n",
       "      <td>0.0</td>\n",
       "      <td>7.07</td>\n",
       "      <td>0</td>\n",
       "      <td>0.469</td>\n",
       "      <td>7.185</td>\n",
       "      <td>61.1</td>\n",
       "      <td>4.9671</td>\n",
       "      <td>2</td>\n",
       "      <td>242</td>\n",
       "      <td>17.8</td>\n",
       "      <td>392.83</td>\n",
       "      <td>4.03</td>\n",
       "      <td>34.7</td>\n",
       "    </tr>\n",
       "    <tr>\n",
       "      <th>3</th>\n",
       "      <td>0.03237</td>\n",
       "      <td>0.0</td>\n",
       "      <td>2.18</td>\n",
       "      <td>0</td>\n",
       "      <td>0.458</td>\n",
       "      <td>6.998</td>\n",
       "      <td>45.8</td>\n",
       "      <td>6.0622</td>\n",
       "      <td>3</td>\n",
       "      <td>222</td>\n",
       "      <td>18.7</td>\n",
       "      <td>394.63</td>\n",
       "      <td>2.94</td>\n",
       "      <td>33.4</td>\n",
       "    </tr>\n",
       "    <tr>\n",
       "      <th>4</th>\n",
       "      <td>0.06905</td>\n",
       "      <td>0.0</td>\n",
       "      <td>2.18</td>\n",
       "      <td>0</td>\n",
       "      <td>0.458</td>\n",
       "      <td>7.147</td>\n",
       "      <td>54.2</td>\n",
       "      <td>6.0622</td>\n",
       "      <td>3</td>\n",
       "      <td>222</td>\n",
       "      <td>18.7</td>\n",
       "      <td>396.90</td>\n",
       "      <td>5.33</td>\n",
       "      <td>36.2</td>\n",
       "    </tr>\n",
       "  </tbody>\n",
       "</table>\n",
       "</div>"
      ],
      "text/plain": [
       "      CRIM    ZN  INDUS  CHAS    NOX     RM   AGE     DIS RAD  TAX  PTRATIO  \\\n",
       "0  0.00632  18.0   2.31     0  0.538  6.575  65.2  4.0900   1  296     15.3   \n",
       "1  0.02731   0.0   7.07     0  0.469  6.421  78.9  4.9671   2  242     17.8   \n",
       "2  0.02729   0.0   7.07     0  0.469  7.185  61.1  4.9671   2  242     17.8   \n",
       "3  0.03237   0.0   2.18     0  0.458  6.998  45.8  6.0622   3  222     18.7   \n",
       "4  0.06905   0.0   2.18     0  0.458  7.147  54.2  6.0622   3  222     18.7   \n",
       "\n",
       "        B  LSTAT  MEDV  \n",
       "0  396.90   4.98  24.0  \n",
       "1  396.90   9.14  21.6  \n",
       "2  392.83   4.03  34.7  \n",
       "3  394.63   2.94  33.4  \n",
       "4  396.90   5.33  36.2  "
      ]
     },
     "execution_count": 27,
     "metadata": {},
     "output_type": "execute_result"
    }
   ],
   "source": [
    "# Use the .map() function to change the commas to periods and convert back into floats:\n",
    "boston.DIS = boston.DIS.map(lambda x: float(x.replace(',','.')))\n",
    "boston.head()"
   ]
  },
  {
   "cell_type": "markdown",
   "metadata": {},
   "source": [
    "**3.B What is causing the `RAD` column to be encoded as string? Figure out a way to make sure the column is numeric while preserving information.**\n",
    "\n",
    "*Tip: You can put `np.nan` values in place of corrupted observations, which are numeric \"Null\" values.*"
   ]
  },
  {
   "cell_type": "code",
   "execution_count": 28,
   "metadata": {
    "collapsed": false
   },
   "outputs": [
    {
     "data": {
      "text/plain": [
       "array(['1', '2', '3', '5', '4', '?', '8', '6', '7', '24'], dtype=object)"
      ]
     },
     "execution_count": 28,
     "metadata": {},
     "output_type": "execute_result"
    }
   ],
   "source": [
    "# Look at the unique values of RAD to see whats going on:\n",
    "boston.RAD.unique()"
   ]
  },
  {
   "cell_type": "code",
   "execution_count": 29,
   "metadata": {
    "collapsed": false
   },
   "outputs": [
    {
     "data": {
      "text/html": [
       "<div>\n",
       "<table border=\"1\" class=\"dataframe\">\n",
       "  <thead>\n",
       "    <tr style=\"text-align: right;\">\n",
       "      <th></th>\n",
       "      <th>CRIM</th>\n",
       "      <th>ZN</th>\n",
       "      <th>INDUS</th>\n",
       "      <th>CHAS</th>\n",
       "      <th>NOX</th>\n",
       "      <th>RM</th>\n",
       "      <th>AGE</th>\n",
       "      <th>DIS</th>\n",
       "      <th>RAD</th>\n",
       "      <th>TAX</th>\n",
       "      <th>PTRATIO</th>\n",
       "      <th>B</th>\n",
       "      <th>LSTAT</th>\n",
       "      <th>MEDV</th>\n",
       "    </tr>\n",
       "  </thead>\n",
       "  <tbody>\n",
       "    <tr>\n",
       "      <th>0</th>\n",
       "      <td>0.00632</td>\n",
       "      <td>18.0</td>\n",
       "      <td>2.31</td>\n",
       "      <td>0</td>\n",
       "      <td>0.538</td>\n",
       "      <td>6.575</td>\n",
       "      <td>65.2</td>\n",
       "      <td>4.0900</td>\n",
       "      <td>1.0</td>\n",
       "      <td>296</td>\n",
       "      <td>15.3</td>\n",
       "      <td>396.90</td>\n",
       "      <td>4.98</td>\n",
       "      <td>24.0</td>\n",
       "    </tr>\n",
       "    <tr>\n",
       "      <th>1</th>\n",
       "      <td>0.02731</td>\n",
       "      <td>0.0</td>\n",
       "      <td>7.07</td>\n",
       "      <td>0</td>\n",
       "      <td>0.469</td>\n",
       "      <td>6.421</td>\n",
       "      <td>78.9</td>\n",
       "      <td>4.9671</td>\n",
       "      <td>2.0</td>\n",
       "      <td>242</td>\n",
       "      <td>17.8</td>\n",
       "      <td>396.90</td>\n",
       "      <td>9.14</td>\n",
       "      <td>21.6</td>\n",
       "    </tr>\n",
       "    <tr>\n",
       "      <th>2</th>\n",
       "      <td>0.02729</td>\n",
       "      <td>0.0</td>\n",
       "      <td>7.07</td>\n",
       "      <td>0</td>\n",
       "      <td>0.469</td>\n",
       "      <td>7.185</td>\n",
       "      <td>61.1</td>\n",
       "      <td>4.9671</td>\n",
       "      <td>2.0</td>\n",
       "      <td>242</td>\n",
       "      <td>17.8</td>\n",
       "      <td>392.83</td>\n",
       "      <td>4.03</td>\n",
       "      <td>34.7</td>\n",
       "    </tr>\n",
       "    <tr>\n",
       "      <th>3</th>\n",
       "      <td>0.03237</td>\n",
       "      <td>0.0</td>\n",
       "      <td>2.18</td>\n",
       "      <td>0</td>\n",
       "      <td>0.458</td>\n",
       "      <td>6.998</td>\n",
       "      <td>45.8</td>\n",
       "      <td>6.0622</td>\n",
       "      <td>3.0</td>\n",
       "      <td>222</td>\n",
       "      <td>18.7</td>\n",
       "      <td>394.63</td>\n",
       "      <td>2.94</td>\n",
       "      <td>33.4</td>\n",
       "    </tr>\n",
       "    <tr>\n",
       "      <th>4</th>\n",
       "      <td>0.06905</td>\n",
       "      <td>0.0</td>\n",
       "      <td>2.18</td>\n",
       "      <td>0</td>\n",
       "      <td>0.458</td>\n",
       "      <td>7.147</td>\n",
       "      <td>54.2</td>\n",
       "      <td>6.0622</td>\n",
       "      <td>3.0</td>\n",
       "      <td>222</td>\n",
       "      <td>18.7</td>\n",
       "      <td>396.90</td>\n",
       "      <td>5.33</td>\n",
       "      <td>36.2</td>\n",
       "    </tr>\n",
       "  </tbody>\n",
       "</table>\n",
       "</div>"
      ],
      "text/plain": [
       "      CRIM    ZN  INDUS  CHAS    NOX     RM   AGE     DIS  RAD  TAX  PTRATIO  \\\n",
       "0  0.00632  18.0   2.31     0  0.538  6.575  65.2  4.0900  1.0  296     15.3   \n",
       "1  0.02731   0.0   7.07     0  0.469  6.421  78.9  4.9671  2.0  242     17.8   \n",
       "2  0.02729   0.0   7.07     0  0.469  7.185  61.1  4.9671  2.0  242     17.8   \n",
       "3  0.03237   0.0   2.18     0  0.458  6.998  45.8  6.0622  3.0  222     18.7   \n",
       "4  0.06905   0.0   2.18     0  0.458  7.147  54.2  6.0622  3.0  222     18.7   \n",
       "\n",
       "        B  LSTAT  MEDV  \n",
       "0  396.90   4.98  24.0  \n",
       "1  396.90   9.14  21.6  \n",
       "2  392.83   4.03  34.7  \n",
       "3  394.63   2.94  33.4  \n",
       "4  396.90   5.33  36.2  "
      ]
     },
     "execution_count": 29,
     "metadata": {},
     "output_type": "execute_result"
    }
   ],
   "source": [
    "# Looks like some of the rows have a '?' in place of a number. \n",
    "# Use the .map() function to replace the question marks with np.nan and convert the others\n",
    "# to float values:\n",
    "boston.RAD = boston.RAD.map(lambda x: np.nan if x == '?' else float(x))\n",
    "boston.head()"
   ]
  },
  {
   "cell_type": "markdown",
   "metadata": {},
   "source": [
    "<a id='drop_nulls'></a>\n",
    "\n",
    "### 4. Determine how many observations are missing\n",
    "\n",
    "---\n",
    "\n",
    "Having replaced the question marks with `np.nan` values, we know that there are some missing observations for the `RAD` column. \n",
    "\n",
    "When we start to build models with data, null values in observations are (almost) never allowed. It is important to always see how many observations are missing and for which columns.\n",
    "\n",
    "A handy way to look at how many null values there are per column with pandas is:\n",
    "\n",
    "```python\n",
    "boston.isnull().sum()\n",
    "```\n",
    "\n",
    "The `.isull()` built-in function will convert the columns to boolean `True` and `False` values (returning a new dataframe) where null values are indicated by `True`. \n",
    "\n",
    "The `.sum()` function tacked on to the back of that will then sum these boolean columns, and the total number of null values per column will be returned."
   ]
  },
  {
   "cell_type": "code",
   "execution_count": 30,
   "metadata": {
    "collapsed": false
   },
   "outputs": [
    {
     "data": {
      "text/plain": [
       "CRIM        0\n",
       "ZN          0\n",
       "INDUS       0\n",
       "CHAS        0\n",
       "NOX         0\n",
       "RM          0\n",
       "AGE         0\n",
       "DIS         0\n",
       "RAD        40\n",
       "TAX         0\n",
       "PTRATIO     0\n",
       "B           0\n",
       "LSTAT       0\n",
       "MEDV        0\n",
       "dtype: int64"
      ]
     },
     "execution_count": 30,
     "metadata": {},
     "output_type": "execute_result"
    }
   ],
   "source": [
    "boston.isnull().sum()"
   ]
  },
  {
   "cell_type": "markdown",
   "metadata": {},
   "source": [
    "**Drop the null values.** \n",
    "\n",
    "In this case, lets keep it simple and just drop the rows from the dataset that contain null values. If a column has a ton of null values it often makes more sense to drop the column entirely instead of the rows with null values. In this case, we will just drop the rows.\n",
    "\n",
    "The `.dropna()` function will drop any rows that have null values for you."
   ]
  },
  {
   "cell_type": "code",
   "execution_count": 31,
   "metadata": {
    "collapsed": false
   },
   "outputs": [
    {
     "name": "stdout",
     "output_type": "stream",
     "text": [
      "(506, 14)\n",
      "(466, 14)\n"
     ]
    }
   ],
   "source": [
    "print boston.shape\n",
    "boston.dropna(inplace=True)\n",
    "print boston.shape"
   ]
  },
  {
   "cell_type": "markdown",
   "metadata": {},
   "source": [
    "<a id='rename'></a>\n",
    "\n",
    "### 5. Make the column names more descriptive\n",
    "\n",
    "---\n",
    "\n",
    "Often it is annoying to have to memorize what the codes mean for columns, or reference the codebook whenever I want to know the meaning of a variable. It often makes sense to rename columns that are not descriptive.\n",
    "\n",
    "There is more than one way to do this, but one easy way is to use the `.rename()` function.\n",
    "\n",
    "Here are the column names and their descriptions again for reference:\n",
    "\n",
    "    CRIM: per capita crime rate by town \n",
    "    ZN: proportion of residential land zoned for lots over 25,000 sq.ft. \n",
    "    INDUS: proportion of non-retail business acres per town \n",
    "    CHAS: Charles River dummy variable (= 1 if tract bounds river; 0 otherwise) \n",
    "    NOX: nitric oxides concentration (parts per 10 million) \n",
    "    RM: average number of rooms per dwelling \n",
    "    AGE: proportion of owner-occupied units built prior to 1940 \n",
    "    DIS: weighted distances to five Boston employment centres \n",
    "    RAD: index of accessibility to radial highways \n",
    "    TAX: full-value property-tax rate per 10000 dollars\n",
    "    PTRATIO: pupil-teacher ratio by town \n",
    "    B: 1000(Bk - 0.63)^2 where Bk is the proportion of blacks by town \n",
    "    LSTAT: % lower status of the population \n",
    "    MEDV: Median value of owner-occupied homes in 1000's of dollars"
   ]
  },
  {
   "cell_type": "code",
   "execution_count": 33,
   "metadata": {
    "collapsed": false
   },
   "outputs": [
    {
     "data": {
      "text/plain": [
       "Index([u'CRIM', u'ZN', u'INDUS', u'CHAS', u'NOX', u'RM', u'AGE', u'DIS',\n",
       "       u'RAD', u'TAX', u'PTRATIO', u'B', u'LSTAT', u'MEDV'],\n",
       "      dtype='object')"
      ]
     },
     "execution_count": 33,
     "metadata": {},
     "output_type": "execute_result"
    }
   ],
   "source": [
    "boston.columns"
   ]
  },
  {
   "cell_type": "code",
   "execution_count": 34,
   "metadata": {
    "collapsed": false
   },
   "outputs": [],
   "source": [
    "boston.rename(columns={\n",
    "        'CRIM':'rate_of_crime',\n",
    "        'ZN':'residential_zone_pct',\n",
    "        'INDUS':'business_zone_pct',\n",
    "        'CHAS':'borders_river',\n",
    "        'NOX':'oxide_concentration',\n",
    "        'RM':'average_rooms',\n",
    "        'AGE':'owner_occup_pct',\n",
    "        'DIS':'dist_to_work',\n",
    "        'RAD':'access_to_highway',\n",
    "        'TAX':'property_tax',\n",
    "        'PTRATIO':'student_teacher_ratio',\n",
    "        'B':'black_stat',\n",
    "        'LSTAT':'pct_underclass',\n",
    "        'MEDV':'home_median_value'\n",
    "    }, inplace=True)"
   ]
  },
  {
   "cell_type": "code",
   "execution_count": 35,
   "metadata": {
    "collapsed": false
   },
   "outputs": [
    {
     "data": {
      "text/html": [
       "<div>\n",
       "<table border=\"1\" class=\"dataframe\">\n",
       "  <thead>\n",
       "    <tr style=\"text-align: right;\">\n",
       "      <th></th>\n",
       "      <th>rate_of_crime</th>\n",
       "      <th>residential_zone_pct</th>\n",
       "      <th>business_zone_pct</th>\n",
       "      <th>borders_river</th>\n",
       "      <th>oxide_concentration</th>\n",
       "      <th>average_rooms</th>\n",
       "      <th>owner_occup_pct</th>\n",
       "      <th>dist_to_work</th>\n",
       "      <th>access_to_highway</th>\n",
       "      <th>property_tax</th>\n",
       "      <th>student_teacher_ratio</th>\n",
       "      <th>black_stat</th>\n",
       "      <th>pct_underclass</th>\n",
       "      <th>home_median_value</th>\n",
       "    </tr>\n",
       "  </thead>\n",
       "  <tbody>\n",
       "    <tr>\n",
       "      <th>0</th>\n",
       "      <td>0.00632</td>\n",
       "      <td>18.0</td>\n",
       "      <td>2.31</td>\n",
       "      <td>0</td>\n",
       "      <td>0.538</td>\n",
       "      <td>6.575</td>\n",
       "      <td>65.2</td>\n",
       "      <td>4.0900</td>\n",
       "      <td>1.0</td>\n",
       "      <td>296</td>\n",
       "      <td>15.3</td>\n",
       "      <td>396.90</td>\n",
       "      <td>4.98</td>\n",
       "      <td>24.0</td>\n",
       "    </tr>\n",
       "    <tr>\n",
       "      <th>1</th>\n",
       "      <td>0.02731</td>\n",
       "      <td>0.0</td>\n",
       "      <td>7.07</td>\n",
       "      <td>0</td>\n",
       "      <td>0.469</td>\n",
       "      <td>6.421</td>\n",
       "      <td>78.9</td>\n",
       "      <td>4.9671</td>\n",
       "      <td>2.0</td>\n",
       "      <td>242</td>\n",
       "      <td>17.8</td>\n",
       "      <td>396.90</td>\n",
       "      <td>9.14</td>\n",
       "      <td>21.6</td>\n",
       "    </tr>\n",
       "    <tr>\n",
       "      <th>2</th>\n",
       "      <td>0.02729</td>\n",
       "      <td>0.0</td>\n",
       "      <td>7.07</td>\n",
       "      <td>0</td>\n",
       "      <td>0.469</td>\n",
       "      <td>7.185</td>\n",
       "      <td>61.1</td>\n",
       "      <td>4.9671</td>\n",
       "      <td>2.0</td>\n",
       "      <td>242</td>\n",
       "      <td>17.8</td>\n",
       "      <td>392.83</td>\n",
       "      <td>4.03</td>\n",
       "      <td>34.7</td>\n",
       "    </tr>\n",
       "  </tbody>\n",
       "</table>\n",
       "</div>"
      ],
      "text/plain": [
       "   rate_of_crime  residential_zone_pct  business_zone_pct  borders_river  \\\n",
       "0        0.00632                  18.0               2.31              0   \n",
       "1        0.02731                   0.0               7.07              0   \n",
       "2        0.02729                   0.0               7.07              0   \n",
       "\n",
       "   oxide_concentration  average_rooms  owner_occup_pct  dist_to_work  \\\n",
       "0                0.538          6.575             65.2        4.0900   \n",
       "1                0.469          6.421             78.9        4.9671   \n",
       "2                0.469          7.185             61.1        4.9671   \n",
       "\n",
       "   access_to_highway  property_tax  student_teacher_ratio  black_stat  \\\n",
       "0                1.0           296                   15.3      396.90   \n",
       "1                2.0           242                   17.8      396.90   \n",
       "2                2.0           242                   17.8      392.83   \n",
       "\n",
       "   pct_underclass  home_median_value  \n",
       "0            4.98               24.0  \n",
       "1            9.14               21.6  \n",
       "2            4.03               34.7  "
      ]
     },
     "execution_count": 35,
     "metadata": {},
     "output_type": "execute_result"
    }
   ],
   "source": [
    "boston.head(3)"
   ]
  },
  {
   "cell_type": "markdown",
   "metadata": {},
   "source": [
    "<a id='describe'></a>\n",
    "\n",
    "### 6. Describe the summary statistics for the columns\n",
    "\n",
    "---\n",
    "\n",
    "The `.describe()` function gives summary statistics for each of your variables. What are some, if any, oddities you notice about the variables based on this output?"
   ]
  },
  {
   "cell_type": "code",
   "execution_count": 36,
   "metadata": {
    "collapsed": false
   },
   "outputs": [
    {
     "data": {
      "text/html": [
       "<div>\n",
       "<table border=\"1\" class=\"dataframe\">\n",
       "  <thead>\n",
       "    <tr style=\"text-align: right;\">\n",
       "      <th></th>\n",
       "      <th>rate_of_crime</th>\n",
       "      <th>residential_zone_pct</th>\n",
       "      <th>business_zone_pct</th>\n",
       "      <th>borders_river</th>\n",
       "      <th>oxide_concentration</th>\n",
       "      <th>average_rooms</th>\n",
       "      <th>owner_occup_pct</th>\n",
       "      <th>dist_to_work</th>\n",
       "      <th>access_to_highway</th>\n",
       "      <th>property_tax</th>\n",
       "      <th>student_teacher_ratio</th>\n",
       "      <th>black_stat</th>\n",
       "      <th>pct_underclass</th>\n",
       "      <th>home_median_value</th>\n",
       "    </tr>\n",
       "  </thead>\n",
       "  <tbody>\n",
       "    <tr>\n",
       "      <th>count</th>\n",
       "      <td>466.000000</td>\n",
       "      <td>466.000000</td>\n",
       "      <td>466.000000</td>\n",
       "      <td>466.000000</td>\n",
       "      <td>466.000000</td>\n",
       "      <td>466.000000</td>\n",
       "      <td>466.000000</td>\n",
       "      <td>466.000000</td>\n",
       "      <td>466.000000</td>\n",
       "      <td>466.000000</td>\n",
       "      <td>466.000000</td>\n",
       "      <td>466.000000</td>\n",
       "      <td>466.000000</td>\n",
       "      <td>466.000000</td>\n",
       "    </tr>\n",
       "    <tr>\n",
       "      <th>mean</th>\n",
       "      <td>3.326334</td>\n",
       "      <td>11.154506</td>\n",
       "      <td>11.144292</td>\n",
       "      <td>0.075107</td>\n",
       "      <td>0.555840</td>\n",
       "      <td>6.272489</td>\n",
       "      <td>68.504506</td>\n",
       "      <td>3.811963</td>\n",
       "      <td>9.611588</td>\n",
       "      <td>410.049356</td>\n",
       "      <td>18.462876</td>\n",
       "      <td>358.207897</td>\n",
       "      <td>12.650129</td>\n",
       "      <td>22.484120</td>\n",
       "    </tr>\n",
       "    <tr>\n",
       "      <th>std</th>\n",
       "      <td>7.095767</td>\n",
       "      <td>22.731621</td>\n",
       "      <td>6.820913</td>\n",
       "      <td>0.263848</td>\n",
       "      <td>0.116818</td>\n",
       "      <td>0.696995</td>\n",
       "      <td>28.023878</td>\n",
       "      <td>2.123668</td>\n",
       "      <td>8.735627</td>\n",
       "      <td>168.921219</td>\n",
       "      <td>2.167158</td>\n",
       "      <td>88.884020</td>\n",
       "      <td>7.068120</td>\n",
       "      <td>9.017586</td>\n",
       "    </tr>\n",
       "    <tr>\n",
       "      <th>min</th>\n",
       "      <td>0.006320</td>\n",
       "      <td>0.000000</td>\n",
       "      <td>0.740000</td>\n",
       "      <td>0.000000</td>\n",
       "      <td>0.389000</td>\n",
       "      <td>3.561000</td>\n",
       "      <td>6.000000</td>\n",
       "      <td>1.129600</td>\n",
       "      <td>1.000000</td>\n",
       "      <td>187.000000</td>\n",
       "      <td>12.600000</td>\n",
       "      <td>2.520000</td>\n",
       "      <td>1.730000</td>\n",
       "      <td>5.000000</td>\n",
       "    </tr>\n",
       "    <tr>\n",
       "      <th>25%</th>\n",
       "      <td>0.083235</td>\n",
       "      <td>0.000000</td>\n",
       "      <td>5.190000</td>\n",
       "      <td>0.000000</td>\n",
       "      <td>0.450000</td>\n",
       "      <td>5.884250</td>\n",
       "      <td>45.450000</td>\n",
       "      <td>2.101425</td>\n",
       "      <td>4.000000</td>\n",
       "      <td>280.250000</td>\n",
       "      <td>17.400000</td>\n",
       "      <td>375.912500</td>\n",
       "      <td>7.125000</td>\n",
       "      <td>16.800000</td>\n",
       "    </tr>\n",
       "    <tr>\n",
       "      <th>50%</th>\n",
       "      <td>0.256355</td>\n",
       "      <td>0.000000</td>\n",
       "      <td>9.690000</td>\n",
       "      <td>0.000000</td>\n",
       "      <td>0.538000</td>\n",
       "      <td>6.189000</td>\n",
       "      <td>77.150000</td>\n",
       "      <td>3.207450</td>\n",
       "      <td>5.000000</td>\n",
       "      <td>330.000000</td>\n",
       "      <td>19.050000</td>\n",
       "      <td>391.705000</td>\n",
       "      <td>11.300000</td>\n",
       "      <td>21.200000</td>\n",
       "    </tr>\n",
       "    <tr>\n",
       "      <th>75%</th>\n",
       "      <td>3.689387</td>\n",
       "      <td>12.500000</td>\n",
       "      <td>18.100000</td>\n",
       "      <td>0.000000</td>\n",
       "      <td>0.624000</td>\n",
       "      <td>6.618750</td>\n",
       "      <td>93.975000</td>\n",
       "      <td>5.213925</td>\n",
       "      <td>24.000000</td>\n",
       "      <td>666.000000</td>\n",
       "      <td>20.200000</td>\n",
       "      <td>396.397500</td>\n",
       "      <td>16.955000</td>\n",
       "      <td>25.000000</td>\n",
       "    </tr>\n",
       "    <tr>\n",
       "      <th>max</th>\n",
       "      <td>73.534100</td>\n",
       "      <td>100.000000</td>\n",
       "      <td>27.740000</td>\n",
       "      <td>1.000000</td>\n",
       "      <td>0.871000</td>\n",
       "      <td>8.780000</td>\n",
       "      <td>100.000000</td>\n",
       "      <td>12.126500</td>\n",
       "      <td>24.000000</td>\n",
       "      <td>711.000000</td>\n",
       "      <td>22.000000</td>\n",
       "      <td>396.900000</td>\n",
       "      <td>37.970000</td>\n",
       "      <td>50.000000</td>\n",
       "    </tr>\n",
       "  </tbody>\n",
       "</table>\n",
       "</div>"
      ],
      "text/plain": [
       "       rate_of_crime  residential_zone_pct  business_zone_pct  borders_river  \\\n",
       "count     466.000000            466.000000         466.000000     466.000000   \n",
       "mean        3.326334             11.154506          11.144292       0.075107   \n",
       "std         7.095767             22.731621           6.820913       0.263848   \n",
       "min         0.006320              0.000000           0.740000       0.000000   \n",
       "25%         0.083235              0.000000           5.190000       0.000000   \n",
       "50%         0.256355              0.000000           9.690000       0.000000   \n",
       "75%         3.689387             12.500000          18.100000       0.000000   \n",
       "max        73.534100            100.000000          27.740000       1.000000   \n",
       "\n",
       "       oxide_concentration  average_rooms  owner_occup_pct  dist_to_work  \\\n",
       "count           466.000000     466.000000       466.000000    466.000000   \n",
       "mean              0.555840       6.272489        68.504506      3.811963   \n",
       "std               0.116818       0.696995        28.023878      2.123668   \n",
       "min               0.389000       3.561000         6.000000      1.129600   \n",
       "25%               0.450000       5.884250        45.450000      2.101425   \n",
       "50%               0.538000       6.189000        77.150000      3.207450   \n",
       "75%               0.624000       6.618750        93.975000      5.213925   \n",
       "max               0.871000       8.780000       100.000000     12.126500   \n",
       "\n",
       "       access_to_highway  property_tax  student_teacher_ratio  black_stat  \\\n",
       "count         466.000000    466.000000             466.000000  466.000000   \n",
       "mean            9.611588    410.049356              18.462876  358.207897   \n",
       "std             8.735627    168.921219               2.167158   88.884020   \n",
       "min             1.000000    187.000000              12.600000    2.520000   \n",
       "25%             4.000000    280.250000              17.400000  375.912500   \n",
       "50%             5.000000    330.000000              19.050000  391.705000   \n",
       "75%            24.000000    666.000000              20.200000  396.397500   \n",
       "max            24.000000    711.000000              22.000000  396.900000   \n",
       "\n",
       "       pct_underclass  home_median_value  \n",
       "count      466.000000         466.000000  \n",
       "mean        12.650129          22.484120  \n",
       "std          7.068120           9.017586  \n",
       "min          1.730000           5.000000  \n",
       "25%          7.125000          16.800000  \n",
       "50%         11.300000          21.200000  \n",
       "75%         16.955000          25.000000  \n",
       "max         37.970000          50.000000  "
      ]
     },
     "execution_count": 36,
     "metadata": {},
     "output_type": "execute_result"
    }
   ],
   "source": [
    "boston.describe()"
   ]
  },
  {
   "cell_type": "markdown",
   "metadata": {},
   "source": [
    "There are some potential outliers in variables here:\n",
    "\n",
    "1. black_stat has at least one outlier at the min end of the range.\n",
    "2. owner_occup_pct has at least one outlier at the min end.\n",
    "3. business_zone_pct might have an outlier at the min end.\n",
    "4. rate_of_crime has at least one outlier at the max end."
   ]
  },
  {
   "cell_type": "markdown",
   "metadata": {},
   "source": [
    "<a id='boxplots'></a>\n",
    "\n",
    "### 7. Plot variables with potential outliers using boxplots.\n",
    "\n",
    "---\n",
    "\n",
    "Here we will use the seaborn package to plot boxplots of the variables we have identified as potentially having outliers.\n",
    "\n",
    "Some notes on seaborn's boxplot keyword argument options:\n",
    "\n",
    "    orient: can be 'v' or 'h' for vertical and horizontal, respectively\n",
    "    fliersize: the size of the outlier points (pixels I think)\n",
    "    linewidth: the width of line outlining the boxplot\n",
    "    notch: show the confidence interval for the median (calculated by seaborn/plt.boxplot)\n",
    "    saturation: saturate the colors to an extent\n",
    "\n",
    "There are more keyword arguments available but those are most relevant for now.\n",
    "    "
   ]
  },
  {
   "cell_type": "code",
   "execution_count": 37,
   "metadata": {
    "collapsed": false
   },
   "outputs": [
    {
     "data": {
      "image/png": "[encoded data removed]",
      "text/plain": [
       "<matplotlib.figure.Figure at 0x115497390>"
      ]
     },
     "metadata": {
      "image/png": {
       "height": 272,
       "width": 385
      }
     },
     "output_type": "display_data"
    }
   ],
   "source": [
    "# rate of crime\n",
    "fig = plt.figure(figsize=(6,4))\n",
    "ax = fig.gca()\n",
    "\n",
    "ax = sns.boxplot(boston.rate_of_crime, orient='v',\n",
    "                fliersize=8, linewidth=1.5, notch=True,\n",
    "                saturation=0.5, ax=ax)\n",
    "\n",
    "ax.set_ylabel('rate_of_crime', fontsize=16)\n",
    "ax.set_title('Rate of crime boxplot\\n', fontsize=20)\n",
    "\n",
    "plt.show()"
   ]
  },
  {
   "cell_type": "code",
   "execution_count": 38,
   "metadata": {
    "collapsed": false
   },
   "outputs": [
    {
     "data": {
      "image/png": "[encoded data removed]",
      "text/plain": [
       "<matplotlib.figure.Figure at 0x1156a2450>"
      ]
     },
     "metadata": {
      "image/png": {
       "height": 272,
       "width": 391
      }
     },
     "output_type": "display_data"
    }
   ],
   "source": [
    "# percent owner occupied\n",
    "fig = plt.figure(figsize=(6,4))\n",
    "ax = fig.gca()\n",
    "\n",
    "ax = sns.boxplot(boston.owner_occup_pct, orient='v',\n",
    "                fliersize=8, linewidth=1.5, notch=True,\n",
    "                saturation=0.5, ax=ax)\n",
    "\n",
    "ax.set_ylabel('owner_occup_pct', fontsize=16)\n",
    "ax.set_title('Percent owner occupied boxplot\\n', fontsize=20)\n",
    "\n",
    "plt.show()"
   ]
  },
  {
   "cell_type": "code",
   "execution_count": 39,
   "metadata": {
    "collapsed": false
   },
   "outputs": [
    {
     "data": {
      "image/png": "[encoded data removed]",
      "text/plain": [
       "<matplotlib.figure.Figure at 0x115ba1390>"
      ]
     },
     "metadata": {
      "image/png": {
       "height": 274,
       "width": 385
      }
     },
     "output_type": "display_data"
    }
   ],
   "source": [
    "# business zone percent\n",
    "fig = plt.figure(figsize=(6,4))\n",
    "ax = fig.gca()\n",
    "\n",
    "ax = sns.boxplot(boston.business_zone_pct, orient='v',\n",
    "                fliersize=8, linewidth=1.5, notch=True,\n",
    "                saturation=0.5, ax=ax)\n",
    "\n",
    "ax.set_ylabel('business_zone_pct', fontsize=16)\n",
    "ax.set_title('Business zone percent boxplot\\n', fontsize=20)\n",
    "\n",
    "plt.show()"
   ]
  },
  {
   "cell_type": "code",
   "execution_count": 40,
   "metadata": {
    "collapsed": false
   },
   "outputs": [
    {
     "data": {
      "image/png": "[encoded data removed]",
      "text/plain": [
       "<matplotlib.figure.Figure at 0x115c43810>"
      ]
     },
     "metadata": {
      "image/png": {
       "height": 272,
       "width": 391
      }
     },
     "output_type": "display_data"
    }
   ],
   "source": [
    "# black population statistic\n",
    "fig = plt.figure(figsize=(6,4))\n",
    "ax = fig.gca()\n",
    "\n",
    "ax = sns.boxplot(boston.black_stat, orient='v',\n",
    "                fliersize=8, linewidth=1.5, notch=True,\n",
    "                saturation=0.5, ax=ax)\n",
    "\n",
    "ax.set_ylabel('black_stat', fontsize=16)\n",
    "ax.set_title('Black statistic boxplot\\n', fontsize=20)\n",
    "\n",
    "plt.show()"
   ]
  },
  {
   "cell_type": "markdown",
   "metadata": {},
   "source": [
    "From the boxplots, it looks like rate of crime and the proportion black people statistic have real outliers. The other seem alright."
   ]
  },
  {
   "cell_type": "markdown",
   "metadata": {},
   "source": [
    "<a id='plot_all'></a>\n",
    "\n",
    "### 8. Plot all the variables on boxplots together.\n",
    "\n",
    "---\n",
    "\n",
    "Plot all the variables using using a horizontal boxplot with seaborn. What is wrong with this plot, if anything?"
   ]
  },
  {
   "cell_type": "code",
   "execution_count": 41,
   "metadata": {
    "collapsed": false
   },
   "outputs": [
    {
     "data": {
      "image/png": "[encoded data removed]",
      "text/plain": [
       "<matplotlib.figure.Figure at 0x1160d9790>"
      ]
     },
     "metadata": {
      "image/png": {
       "height": 385,
       "width": 787
      }
     },
     "output_type": "display_data"
    }
   ],
   "source": [
    "fig = plt.figure(figsize=(12,6))\n",
    "ax = fig.gca()\n",
    "\n",
    "ax = sns.boxplot(data=boston, orient='h', fliersize=5, linewidth=3, notch=True,\n",
    "                 saturation=0.5, ax=ax)\n",
    "\n",
    "ax.set_title('All variables boxplot\\n')\n",
    "plt.show()"
   ]
  },
  {
   "cell_type": "code",
   "execution_count": 42,
   "metadata": {
    "collapsed": true
   },
   "outputs": [],
   "source": [
    "# The boxplots are hard to visualize since all of these variables are on different scales."
   ]
  },
  {
   "cell_type": "markdown",
   "metadata": {},
   "source": [
    "\n",
    "<a id='standardization'></a>\n",
    "\n",
    "### 9. Standardizing variables\n",
    "\n",
    "---\n",
    "\n",
    "Rescaling variables is very common, and sometimes essential. For example, when we get to regularization of models the rescaling procedure becomes a requirement before fitting the model.\n",
    "\n",
    "Here we'll rescale the variables using a procedure called \"standardization\", which forces the distribution of each variable to have a mean of 0 and a standard deviation of 1.\n",
    "\n",
    "Standardization is not complicated:\n",
    "\n",
    "    standardized_variable = (variable - mean_of_variable) / std_dev_of_variable\n",
    "    \n",
    "Note: Nothing else is changed about the distribution of the variable. It doesn't become normally distributed.\n",
    "\n",
    "**9.A Pull out rate of crime and plot the distribution.**\n",
    "\n",
    "Also print out the mean and standard deviation of the original variable."
   ]
  },
  {
   "cell_type": "code",
   "execution_count": 43,
   "metadata": {
    "collapsed": false
   },
   "outputs": [
    {
     "name": "stdout",
     "output_type": "stream",
     "text": [
      "3.32633433476 7.08814909896\n"
     ]
    }
   ],
   "source": [
    "roc = boston.rate_of_crime.values\n",
    "roc_mean = np.mean(roc)\n",
    "roc_std = np.std(roc)\n",
    "print roc_mean, roc_std"
   ]
  },
  {
   "cell_type": "markdown",
   "metadata": {},
   "source": [
    "**9.B Standardize the rate_of_crime variable. Notice the new mean is centered at 0.**"
   ]
  },
  {
   "cell_type": "code",
   "execution_count": 44,
   "metadata": {
    "collapsed": false
   },
   "outputs": [
    {
     "name": "stdout",
     "output_type": "stream",
     "text": [
      "6.09907927691e-17 1.0\n"
     ]
    }
   ],
   "source": [
    "roc_norm = (roc - roc_mean) / roc_std\n",
    "print np.mean(roc_norm), np.std(roc_norm)"
   ]
  },
  {
   "cell_type": "markdown",
   "metadata": {},
   "source": [
    "**9.C Plot the original and standardized rate of crime. Notice that nothing changes about the distribution except for the location and the scale.**"
   ]
  },
  {
   "cell_type": "code",
   "execution_count": 45,
   "metadata": {
    "collapsed": false
   },
   "outputs": [
    {
     "data": {
      "image/png": "[encoded data removed]",
      "text/plain": [
       "<matplotlib.figure.Figure at 0x116501e50>"
      ]
     },
     "metadata": {
      "image/png": {
       "height": 249,
       "width": 484
      }
     },
     "output_type": "display_data"
    }
   ],
   "source": [
    "fig = plt.figure(figsize=(8,4))\n",
    "ax = fig.gca()\n",
    "\n",
    "ax = sns.distplot(roc, bins=30, kde=False)\n",
    "plt.show()"
   ]
  },
  {
   "cell_type": "code",
   "execution_count": 46,
   "metadata": {
    "collapsed": false
   },
   "outputs": [
    {
     "data": {
      "image/png": "[encoded data removed]",
      "text/plain": [
       "<matplotlib.figure.Figure at 0x117191290>"
      ]
     },
     "metadata": {
      "image/png": {
       "height": 249,
       "width": 484
      }
     },
     "output_type": "display_data"
    }
   ],
   "source": [
    "fig = plt.figure(figsize=(8,4))\n",
    "ax = fig.gca()\n",
    "\n",
    "ax = sns.distplot(roc_norm, bins=30, kde=False)\n",
    "plt.show()"
   ]
  },
  {
   "cell_type": "markdown",
   "metadata": {},
   "source": [
    "\n",
    "<a id='plot_all_rescaled'></a>\n",
    "\n",
    "### 10. Standardize all of the columns and re-create the boxplot\n",
    "\n",
    "---\n",
    "\n",
    "Pandas DataFrames make it extremely easy to standardize the columns all at once. You can standardize the data like so:\n",
    "\n",
    "```python\n",
    "boston_norm = (boston - boston.mean()) / boston.std()\n",
    "```\n",
    "\n",
    "Create a standardized version of the data and recreate the boxplot. Now you can better examine the differences in the shape of distributions across our variables."
   ]
  },
  {
   "cell_type": "code",
   "execution_count": 47,
   "metadata": {
    "collapsed": false
   },
   "outputs": [],
   "source": [
    "boston_norm = (boston - boston.mean()) / boston.std()"
   ]
  },
  {
   "cell_type": "code",
   "execution_count": 48,
   "metadata": {
    "collapsed": false
   },
   "outputs": [
    {
     "data": {
      "image/png": "[encoded data removed]",
      "text/plain": [
       "<matplotlib.figure.Figure at 0x1176a70d0>"
      ]
     },
     "metadata": {
      "image/png": {
       "height": 411,
       "width": 955
      }
     },
     "output_type": "display_data"
    }
   ],
   "source": [
    "fig = plt.figure(figsize=(15, 7))\n",
    "ax = fig.gca()\n",
    "\n",
    "ax = sns.boxplot(data=boston_norm, orient='h', fliersize=5, \n",
    "                 linewidth=3, notch=True, saturation=0.5, ax=ax)\n",
    "plt.show()"
   ]
  },
  {
   "cell_type": "markdown",
   "metadata": {},
   "source": [
    "\n",
    "<a id='cov_cor'></a>\n",
    "\n",
    "### 11. Covariance and correlation matrices\n",
    "\n",
    "---\n",
    "\n",
    "A great way to easily get a feel for linear relationships between your variables is with a correlation matrix.\n",
    "\n",
    "Below is the formula for the covariance between two variables $X$ and $Y$:\n",
    "\n",
    "#### 11.A Covariance\n",
    "\n",
    "Given sample size $N$ variables $X$ and $Y$, with means $\\bar{X}$ and $\\bar{Y}$:\n",
    "\n",
    "### $$ \\text{covariance}(X, Y) = \\sum_{i=1}^N \\frac{(X - \\bar{X})(Y - \\bar{Y})}{N}$$\n",
    "\n",
    "The covariance is a measure of \"relatedness\" between variables. It is literally the sum of deviations from the mean of $X$ times deviations from the mean of $Y$ adjusted by the sample size $N$.\n",
    "\n",
    "Code the covariance between `pct_underclass` and `home_median_value` below by hand. Verify that you got the correct result using `np.cov()`. Set the keyword argument `bias=True` in `np.cov()` to have it use the same covariance calculation.\n",
    "\n",
    "Note: `np.cov` returns a covariance _matrix_, which will be each values covariance with itself and the other variable in matrix format."
   ]
  },
  {
   "cell_type": "code",
   "execution_count": 49,
   "metadata": {
    "collapsed": false
   },
   "outputs": [
    {
     "name": "stdout",
     "output_type": "stream",
     "text": [
      "-46.6635580412\n",
      "[[ 49.85110814 -46.66355804]\n",
      " [-46.66355804  81.14236586]]\n"
     ]
    }
   ],
   "source": [
    "pct_under = boston.pct_underclass.values\n",
    "med_val = boston.home_median_value.values\n",
    "\n",
    "under_val_cov = np.sum((pct_under - np.mean(pct_under))*(med_val - np.mean(med_val)))/len(pct_under)\n",
    "print under_val_cov\n",
    "print np.cov(pct_under, med_val, bias=True)"
   ]
  },
  {
   "cell_type": "markdown",
   "metadata": {},
   "source": [
    "#### 11.B Correlation\n",
    "\n",
    "Covariance is not very interpretable. The values are difficult to read because they are relative to the variance of the variables.\n",
    "\n",
    "A much more common metric, and one directly calculable from the covariance, is the correlation.\n",
    "\n",
    "Again, let $X$ and $Y$ be our two variables, with covariance $cov(X, Y)$ that we calculated above:\n",
    "\n",
    "### $$ \\text{pearson correlation}\\;r = cor(X, Y) =\\frac{cov(X, Y)}{std(X)std(Y)}$$\n",
    "\n",
    "Calculate the correlation between `pct_under` and `med_value` by hand below. Check that it is the same as `np.corrcoef()` with `bias=True`:\n"
   ]
  },
  {
   "cell_type": "code",
   "execution_count": 50,
   "metadata": {
    "collapsed": false
   },
   "outputs": [
    {
     "name": "stdout",
     "output_type": "stream",
     "text": [
      "-0.733696772641\n",
      "[[ 1.         -0.73369677]\n",
      " [-0.73369677  1.        ]]\n"
     ]
    },
    {
     "name": "stderr",
     "output_type": "stream",
     "text": [
      "/anaconda/lib/python2.7/site-packages/ipykernel/__main__.py:3: DeprecationWarning: bias and ddof have no effect and are deprecated\n",
      "  app.launch_new_instance()\n"
     ]
    }
   ],
   "source": [
    "uv_corr = under_val_cov / (np.std(pct_under) * np.std(med_val))\n",
    "print uv_corr\n",
    "print np.corrcoef(pct_under, med_val, bias=True)"
   ]
  },
  {
   "cell_type": "markdown",
   "metadata": {},
   "source": [
    "#### 11.C The correlation matrix\n",
    "\n",
    "We can see the correlation between all the numeric variables in our dataset by using pandas DataFrame's built in `.corr()` function. Use it below on the boston dataset.\n",
    "\n",
    "It is very useful to get a feel for what is related and what is not, which can help you decide what is worth investigating further (though with a lot of variables, the matrix can be a bit overwhelming...)"
   ]
  },
  {
   "cell_type": "code",
   "execution_count": 51,
   "metadata": {
    "collapsed": false
   },
   "outputs": [
    {
     "data": {
      "text/html": [
       "<div>\n",
       "<table border=\"1\" class=\"dataframe\">\n",
       "  <thead>\n",
       "    <tr style=\"text-align: right;\">\n",
       "      <th></th>\n",
       "      <th>rate_of_crime</th>\n",
       "      <th>residential_zone_pct</th>\n",
       "      <th>business_zone_pct</th>\n",
       "      <th>borders_river</th>\n",
       "      <th>oxide_concentration</th>\n",
       "      <th>average_rooms</th>\n",
       "      <th>owner_occup_pct</th>\n",
       "      <th>dist_to_work</th>\n",
       "      <th>access_to_highway</th>\n",
       "      <th>property_tax</th>\n",
       "      <th>student_teacher_ratio</th>\n",
       "      <th>black_stat</th>\n",
       "      <th>pct_underclass</th>\n",
       "      <th>home_median_value</th>\n",
       "    </tr>\n",
       "  </thead>\n",
       "  <tbody>\n",
       "    <tr>\n",
       "      <th>rate_of_crime</th>\n",
       "      <td>1.000000</td>\n",
       "      <td>-0.224533</td>\n",
       "      <td>0.453573</td>\n",
       "      <td>-0.059286</td>\n",
       "      <td>0.454794</td>\n",
       "      <td>-0.259346</td>\n",
       "      <td>0.385813</td>\n",
       "      <td>-0.413295</td>\n",
       "      <td>0.686361</td>\n",
       "      <td>0.638655</td>\n",
       "      <td>0.318062</td>\n",
       "      <td>-0.459357</td>\n",
       "      <td>0.488930</td>\n",
       "      <td>-0.402687</td>\n",
       "    </tr>\n",
       "    <tr>\n",
       "      <th>residential_zone_pct</th>\n",
       "      <td>-0.224533</td>\n",
       "      <td>1.000000</td>\n",
       "      <td>-0.534804</td>\n",
       "      <td>-0.043174</td>\n",
       "      <td>-0.511765</td>\n",
       "      <td>0.312325</td>\n",
       "      <td>-0.564412</td>\n",
       "      <td>0.669798</td>\n",
       "      <td>-0.317120</td>\n",
       "      <td>-0.313394</td>\n",
       "      <td>-0.386644</td>\n",
       "      <td>0.176412</td>\n",
       "      <td>-0.414598</td>\n",
       "      <td>0.357747</td>\n",
       "    </tr>\n",
       "    <tr>\n",
       "      <th>business_zone_pct</th>\n",
       "      <td>0.453573</td>\n",
       "      <td>-0.534804</td>\n",
       "      <td>1.000000</td>\n",
       "      <td>0.065866</td>\n",
       "      <td>0.760027</td>\n",
       "      <td>-0.404952</td>\n",
       "      <td>0.635092</td>\n",
       "      <td>-0.707574</td>\n",
       "      <td>0.605772</td>\n",
       "      <td>0.738231</td>\n",
       "      <td>0.387690</td>\n",
       "      <td>-0.350904</td>\n",
       "      <td>0.611393</td>\n",
       "      <td>-0.490163</td>\n",
       "    </tr>\n",
       "    <tr>\n",
       "      <th>borders_river</th>\n",
       "      <td>-0.059286</td>\n",
       "      <td>-0.043174</td>\n",
       "      <td>0.065866</td>\n",
       "      <td>1.000000</td>\n",
       "      <td>0.091785</td>\n",
       "      <td>0.101140</td>\n",
       "      <td>0.091571</td>\n",
       "      <td>-0.105081</td>\n",
       "      <td>-0.009709</td>\n",
       "      <td>-0.040180</td>\n",
       "      <td>-0.127876</td>\n",
       "      <td>0.047467</td>\n",
       "      <td>-0.056845</td>\n",
       "      <td>0.188416</td>\n",
       "    </tr>\n",
       "    <tr>\n",
       "      <th>oxide_concentration</th>\n",
       "      <td>0.454794</td>\n",
       "      <td>-0.511765</td>\n",
       "      <td>0.760027</td>\n",
       "      <td>0.091785</td>\n",
       "      <td>1.000000</td>\n",
       "      <td>-0.305690</td>\n",
       "      <td>0.728478</td>\n",
       "      <td>-0.765810</td>\n",
       "      <td>0.598606</td>\n",
       "      <td>0.656462</td>\n",
       "      <td>0.163856</td>\n",
       "      <td>-0.365326</td>\n",
       "      <td>0.590495</td>\n",
       "      <td>-0.420656</td>\n",
       "    </tr>\n",
       "    <tr>\n",
       "      <th>average_rooms</th>\n",
       "      <td>-0.259346</td>\n",
       "      <td>0.312325</td>\n",
       "      <td>-0.404952</td>\n",
       "      <td>0.101140</td>\n",
       "      <td>-0.305690</td>\n",
       "      <td>1.000000</td>\n",
       "      <td>-0.238659</td>\n",
       "      <td>0.217564</td>\n",
       "      <td>-0.214301</td>\n",
       "      <td>-0.298968</td>\n",
       "      <td>-0.355091</td>\n",
       "      <td>0.133237</td>\n",
       "      <td>-0.615721</td>\n",
       "      <td>0.690857</td>\n",
       "    </tr>\n",
       "    <tr>\n",
       "      <th>owner_occup_pct</th>\n",
       "      <td>0.385813</td>\n",
       "      <td>-0.564412</td>\n",
       "      <td>0.635092</td>\n",
       "      <td>0.091571</td>\n",
       "      <td>0.728478</td>\n",
       "      <td>-0.238659</td>\n",
       "      <td>1.000000</td>\n",
       "      <td>-0.743785</td>\n",
       "      <td>0.452948</td>\n",
       "      <td>0.505761</td>\n",
       "      <td>0.247303</td>\n",
       "      <td>-0.264797</td>\n",
       "      <td>0.599298</td>\n",
       "      <td>-0.374378</td>\n",
       "    </tr>\n",
       "    <tr>\n",
       "      <th>dist_to_work</th>\n",
       "      <td>-0.413295</td>\n",
       "      <td>0.669798</td>\n",
       "      <td>-0.707574</td>\n",
       "      <td>-0.105081</td>\n",
       "      <td>-0.765810</td>\n",
       "      <td>0.217564</td>\n",
       "      <td>-0.743785</td>\n",
       "      <td>1.000000</td>\n",
       "      <td>-0.492243</td>\n",
       "      <td>-0.534064</td>\n",
       "      <td>-0.215449</td>\n",
       "      <td>0.287883</td>\n",
       "      <td>-0.504725</td>\n",
       "      <td>0.250866</td>\n",
       "    </tr>\n",
       "    <tr>\n",
       "      <th>access_to_highway</th>\n",
       "      <td>0.686361</td>\n",
       "      <td>-0.317120</td>\n",
       "      <td>0.605772</td>\n",
       "      <td>-0.009709</td>\n",
       "      <td>0.598606</td>\n",
       "      <td>-0.214301</td>\n",
       "      <td>0.452948</td>\n",
       "      <td>-0.492243</td>\n",
       "      <td>1.000000</td>\n",
       "      <td>0.908304</td>\n",
       "      <td>0.468876</td>\n",
       "      <td>-0.424444</td>\n",
       "      <td>0.480370</td>\n",
       "      <td>-0.370843</td>\n",
       "    </tr>\n",
       "    <tr>\n",
       "      <th>property_tax</th>\n",
       "      <td>0.638655</td>\n",
       "      <td>-0.313394</td>\n",
       "      <td>0.738231</td>\n",
       "      <td>-0.040180</td>\n",
       "      <td>0.656462</td>\n",
       "      <td>-0.298968</td>\n",
       "      <td>0.505761</td>\n",
       "      <td>-0.534064</td>\n",
       "      <td>0.908304</td>\n",
       "      <td>1.000000</td>\n",
       "      <td>0.465972</td>\n",
       "      <td>-0.424072</td>\n",
       "      <td>0.543232</td>\n",
       "      <td>-0.462720</td>\n",
       "    </tr>\n",
       "    <tr>\n",
       "      <th>student_teacher_ratio</th>\n",
       "      <td>0.318062</td>\n",
       "      <td>-0.386644</td>\n",
       "      <td>0.387690</td>\n",
       "      <td>-0.127876</td>\n",
       "      <td>0.163856</td>\n",
       "      <td>-0.355091</td>\n",
       "      <td>0.247303</td>\n",
       "      <td>-0.215449</td>\n",
       "      <td>0.468876</td>\n",
       "      <td>0.465972</td>\n",
       "      <td>1.000000</td>\n",
       "      <td>-0.171919</td>\n",
       "      <td>0.359853</td>\n",
       "      <td>-0.499740</td>\n",
       "    </tr>\n",
       "    <tr>\n",
       "      <th>black_stat</th>\n",
       "      <td>-0.459357</td>\n",
       "      <td>0.176412</td>\n",
       "      <td>-0.350904</td>\n",
       "      <td>0.047467</td>\n",
       "      <td>-0.365326</td>\n",
       "      <td>0.133237</td>\n",
       "      <td>-0.264797</td>\n",
       "      <td>0.287883</td>\n",
       "      <td>-0.424444</td>\n",
       "      <td>-0.424072</td>\n",
       "      <td>-0.171919</td>\n",
       "      <td>1.000000</td>\n",
       "      <td>-0.343344</td>\n",
       "      <td>0.321760</td>\n",
       "    </tr>\n",
       "    <tr>\n",
       "      <th>pct_underclass</th>\n",
       "      <td>0.488930</td>\n",
       "      <td>-0.414598</td>\n",
       "      <td>0.611393</td>\n",
       "      <td>-0.056845</td>\n",
       "      <td>0.590495</td>\n",
       "      <td>-0.615721</td>\n",
       "      <td>0.599298</td>\n",
       "      <td>-0.504725</td>\n",
       "      <td>0.480370</td>\n",
       "      <td>0.543232</td>\n",
       "      <td>0.359853</td>\n",
       "      <td>-0.343344</td>\n",
       "      <td>1.000000</td>\n",
       "      <td>-0.733697</td>\n",
       "    </tr>\n",
       "    <tr>\n",
       "      <th>home_median_value</th>\n",
       "      <td>-0.402687</td>\n",
       "      <td>0.357747</td>\n",
       "      <td>-0.490163</td>\n",
       "      <td>0.188416</td>\n",
       "      <td>-0.420656</td>\n",
       "      <td>0.690857</td>\n",
       "      <td>-0.374378</td>\n",
       "      <td>0.250866</td>\n",
       "      <td>-0.370843</td>\n",
       "      <td>-0.462720</td>\n",
       "      <td>-0.499740</td>\n",
       "      <td>0.321760</td>\n",
       "      <td>-0.733697</td>\n",
       "      <td>1.000000</td>\n",
       "    </tr>\n",
       "  </tbody>\n",
       "</table>\n",
       "</div>"
      ],
      "text/plain": [
       "                       rate_of_crime  residential_zone_pct  business_zone_pct  \\\n",
       "rate_of_crime               1.000000             -0.224533           0.453573   \n",
       "residential_zone_pct       -0.224533              1.000000          -0.534804   \n",
       "business_zone_pct           0.453573             -0.534804           1.000000   \n",
       "borders_river              -0.059286             -0.043174           0.065866   \n",
       "oxide_concentration         0.454794             -0.511765           0.760027   \n",
       "average_rooms              -0.259346              0.312325          -0.404952   \n",
       "owner_occup_pct             0.385813             -0.564412           0.635092   \n",
       "dist_to_work               -0.413295              0.669798          -0.707574   \n",
       "access_to_highway           0.686361             -0.317120           0.605772   \n",
       "property_tax                0.638655             -0.313394           0.738231   \n",
       "student_teacher_ratio       0.318062             -0.386644           0.387690   \n",
       "black_stat                 -0.459357              0.176412          -0.350904   \n",
       "pct_underclass              0.488930             -0.414598           0.611393   \n",
       "home_median_value          -0.402687              0.357747          -0.490163   \n",
       "\n",
       "                       borders_river  oxide_concentration  average_rooms  \\\n",
       "rate_of_crime              -0.059286             0.454794      -0.259346   \n",
       "residential_zone_pct       -0.043174            -0.511765       0.312325   \n",
       "business_zone_pct           0.065866             0.760027      -0.404952   \n",
       "borders_river               1.000000             0.091785       0.101140   \n",
       "oxide_concentration         0.091785             1.000000      -0.305690   \n",
       "average_rooms               0.101140            -0.305690       1.000000   \n",
       "owner_occup_pct             0.091571             0.728478      -0.238659   \n",
       "dist_to_work               -0.105081            -0.765810       0.217564   \n",
       "access_to_highway          -0.009709             0.598606      -0.214301   \n",
       "property_tax               -0.040180             0.656462      -0.298968   \n",
       "student_teacher_ratio      -0.127876             0.163856      -0.355091   \n",
       "black_stat                  0.047467            -0.365326       0.133237   \n",
       "pct_underclass             -0.056845             0.590495      -0.615721   \n",
       "home_median_value           0.188416            -0.420656       0.690857   \n",
       "\n",
       "                       owner_occup_pct  dist_to_work  access_to_highway  \\\n",
       "rate_of_crime                 0.385813     -0.413295           0.686361   \n",
       "residential_zone_pct         -0.564412      0.669798          -0.317120   \n",
       "business_zone_pct             0.635092     -0.707574           0.605772   \n",
       "borders_river                 0.091571     -0.105081          -0.009709   \n",
       "oxide_concentration           0.728478     -0.765810           0.598606   \n",
       "average_rooms                -0.238659      0.217564          -0.214301   \n",
       "owner_occup_pct               1.000000     -0.743785           0.452948   \n",
       "dist_to_work                 -0.743785      1.000000          -0.492243   \n",
       "access_to_highway             0.452948     -0.492243           1.000000   \n",
       "property_tax                  0.505761     -0.534064           0.908304   \n",
       "student_teacher_ratio         0.247303     -0.215449           0.468876   \n",
       "black_stat                   -0.264797      0.287883          -0.424444   \n",
       "pct_underclass                0.599298     -0.504725           0.480370   \n",
       "home_median_value            -0.374378      0.250866          -0.370843   \n",
       "\n",
       "                       property_tax  student_teacher_ratio  black_stat  \\\n",
       "rate_of_crime              0.638655               0.318062   -0.459357   \n",
       "residential_zone_pct      -0.313394              -0.386644    0.176412   \n",
       "business_zone_pct          0.738231               0.387690   -0.350904   \n",
       "borders_river             -0.040180              -0.127876    0.047467   \n",
       "oxide_concentration        0.656462               0.163856   -0.365326   \n",
       "average_rooms             -0.298968              -0.355091    0.133237   \n",
       "owner_occup_pct            0.505761               0.247303   -0.264797   \n",
       "dist_to_work              -0.534064              -0.215449    0.287883   \n",
       "access_to_highway          0.908304               0.468876   -0.424444   \n",
       "property_tax               1.000000               0.465972   -0.424072   \n",
       "student_teacher_ratio      0.465972               1.000000   -0.171919   \n",
       "black_stat                -0.424072              -0.171919    1.000000   \n",
       "pct_underclass             0.543232               0.359853   -0.343344   \n",
       "home_median_value         -0.462720              -0.499740    0.321760   \n",
       "\n",
       "                       pct_underclass  home_median_value  \n",
       "rate_of_crime                0.488930          -0.402687  \n",
       "residential_zone_pct        -0.414598           0.357747  \n",
       "business_zone_pct            0.611393          -0.490163  \n",
       "borders_river               -0.056845           0.188416  \n",
       "oxide_concentration          0.590495          -0.420656  \n",
       "average_rooms               -0.615721           0.690857  \n",
       "owner_occup_pct              0.599298          -0.374378  \n",
       "dist_to_work                -0.504725           0.250866  \n",
       "access_to_highway            0.480370          -0.370843  \n",
       "property_tax                 0.543232          -0.462720  \n",
       "student_teacher_ratio        0.359853          -0.499740  \n",
       "black_stat                  -0.343344           0.321760  \n",
       "pct_underclass               1.000000          -0.733697  \n",
       "home_median_value           -0.733697           1.000000  "
      ]
     },
     "execution_count": 51,
     "metadata": {},
     "output_type": "execute_result"
    }
   ],
   "source": [
    "boston.corr()"
   ]
  }
 ],
 "metadata": {
  "kernelspec": {
   "display_name": "Python 2",
   "language": "python",
   "name": "python2"
  },
  "language_info": {
   "codemirror_mode": {
    "name": "ipython",
    "version": 2
   },
   "file_extension": ".py",
   "mimetype": "text/x-python",
   "name": "python",
   "nbconvert_exporter": "python",
   "pygments_lexer": "ipython2",
   "version": "2.7.13"
  }
 },
 "nbformat": 4,
 "nbformat_minor": 0
}
