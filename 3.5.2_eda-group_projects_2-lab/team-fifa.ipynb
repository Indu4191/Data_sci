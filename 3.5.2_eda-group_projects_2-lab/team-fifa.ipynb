{
 "cells": [
  {
   "cell_type": "markdown",
   "metadata": {},
   "source": [
    "# Team FIFA\n",
    "\n",
    "---\n",
    "\n",
    "You are working for an advertising analytics consulting company.  Your client, a name brand television network, needs help deciding how to re-formulate the pricing structure for new customers, but also incentivize existing clients to convert to new partnerships sponsors for teams and players.\n",
    "\n",
    "**Goals:**\n",
    "- Determine a reasonable metric to decide how exciting a game is\n",
    "    - Engineer this feature using existing data\n",
    "- Suggest a pricing structure tied to the overall value associated with \"game excitement\"\n",
    "\n",
    "**Presentation requirements:**\n",
    "- At least 50% of presentation must address a non-technical audience\n",
    "- Someone who hasn't presented in class yet must take lead on presentation"
   ]
  },
  {
   "cell_type": "code",
   "execution_count": 1,
   "metadata": {
    "collapsed": true
   },
   "outputs": [],
   "source": [
    "import pandas as pd\n",
    "import numpy as np\n",
    "import seaborn as sns\n",
    "\n",
    "%matplotlib inline\n",
    "\n",
    "df = pd.read_csv(\"./datasets/fifa_goals.csv\")"
   ]
  },
  {
   "cell_type": "code",
   "execution_count": null,
   "metadata": {
    "collapsed": true
   },
   "outputs": [],
   "source": []
  }
 ],
 "metadata": {
  "kernelspec": {
   "display_name": "Python 2",
   "language": "python",
   "name": "python2"
  },
  "language_info": {
   "codemirror_mode": {
    "name": "ipython",
    "version": 2
   },
   "file_extension": ".py",
   "mimetype": "text/x-python",
   "name": "python",
   "nbconvert_exporter": "python",
   "pygments_lexer": "ipython2",
   "version": "2.7.12"
  }
 },
 "nbformat": 4,
 "nbformat_minor": 2
}
