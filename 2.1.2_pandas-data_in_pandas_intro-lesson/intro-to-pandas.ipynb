{
 "cells": [
  {
   "cell_type": "markdown",
   "metadata": {
    "slideshow": {
     "slide_type": "notes"
    }
   },
   "source": [
    "> **Jupyter slideshow:** This notebook can be displayed as slides. To view it as a slideshow in your browser type in the console:\n",
    "\n",
    "\n",
    "> `> ipython nbconvert [this_notebook.ipynb] --to slides --post serve`\n",
    "\n",
    "\n",
    "> To toggle off the slideshow cell formatting, click the `CellToolbar` button, then `View --> Cell Toolbar --> None`"
   ]
  },
  {
   "cell_type": "markdown",
   "metadata": {
    "slideshow": {
     "slide_type": "slide"
    }
   },
   "source": [
    "![](https://snag.gy/h9Xwf1.jpg)"
   ]
  },
  {
   "cell_type": "markdown",
   "metadata": {
    "nbpresent": {
     "id": "3433c1f4-195d-4a6b-8ad6-961d54c4c96d"
    },
    "slideshow": {
     "slide_type": "slide"
    }
   },
   "source": [
    "<img src=\"http://imgur.com/1ZcRyrc.png\" style=\"float: left; margin: 20px; height: 55px\">\n",
    "\n",
    "## Introduction to `pandas`\n",
    "\n",
    "_Authors: Dave Yerrington (SF)_\n",
    "\n",
    "---\n",
    "\n",
    "`pandas` is the most popular python package for managing datasets and is used extensively by data scientists.\n",
    "\n",
    "### Learning Objectives\n",
    "\n",
    "- Define the anatomy of DataFrames.\n",
    "- Explore data with DataFrames.\n",
    "- Practice plotting with pandas."
   ]
  },
  {
   "cell_type": "markdown",
   "metadata": {
    "slideshow": {
     "slide_type": "slide"
    }
   },
   "source": [
    "### Lesson Guide\n",
    "\n",
    "- [Introduction to `pandas`](#introduction)\n",
    "- [Loading csv Files](#loading_csvs)\n",
    "- [Exploring Your Data](#exploring_data)\n",
    "- [Data Dimensions](#data_dimensions)\n",
    "- [DataFrames vs. Series](#dataframe_series)\n",
    "- [Using the `.info()` Function](#info)\n",
    "- [Using the `.describe()` Function](#describe)\n",
    "- [Independent Practice](#independent_practice)\n",
    "- [Pandas Indexing](#indexing)\n",
    "- [Creating DataFrames](#creating_dataframes)\n",
    "- [Checking Data Types](#dtypes)\n",
    "- [Renaming and Assignment](#renaming_assignment)\n",
    "- [Basic `pandas` Plotting](#basic_plotting)\n",
    "- [Logical Filtering](#filtering)\n",
    "- [Review](#review)"
   ]
  },
  {
   "cell_type": "markdown",
   "metadata": {
    "slideshow": {
     "slide_type": "slide"
    }
   },
   "source": [
    "<a id='introduction'></a>\n",
    "\n",
    "### What is `pandas`?\n",
    "\n",
    "---\n",
    "\n",
    "- Data analysis library - **P**anel **D**ata **S**ystem.\n",
    "- Created by Wes McKinney and Open Sourced by AQR Capital Management, LLC 2009.\n",
    "- Implemented in highly optimized Python/Cython.\n",
    "- Most ubiquitous tool used to start data analysis projects within the Python scientific ecosystem.\n"
   ]
  },
  {
   "cell_type": "markdown",
   "metadata": {
    "slideshow": {
     "slide_type": "slide"
    }
   },
   "source": [
    "### Pandas Use Cases\n",
    "\n",
    "---\n",
    "\n",
    "- Cleaning data / Munging\n",
    "- Exploratory Analysis\n",
    "- Structuring data for plots or tabular display\n",
    "- Joining disparate sources\n",
    "- Modeling\n",
    "- Filtering, extracting, or transforming \n"
   ]
  },
  {
   "cell_type": "markdown",
   "metadata": {
    "slideshow": {
     "slide_type": "slide"
    }
   },
   "source": [
    "![](https://snag.gy/tpiLCH.jpg)"
   ]
  },
  {
   "cell_type": "markdown",
   "metadata": {
    "slideshow": {
     "slide_type": "slide"
    }
   },
   "source": [
    "![](https://snag.gy/1V0Ol4.jpg)"
   ]
  },
  {
   "cell_type": "markdown",
   "metadata": {
    "slideshow": {
     "slide_type": "subslide"
    }
   },
   "source": [
    "### Common Outputs\n",
    "\n",
    "---\n",
    "\n",
    "- Export to Databases\n",
    "- Integrated with `matplotlib`\n",
    "- Collaborate in common formats (plus a variety of others)\n",
    "- Integration with Python built-ins (**and `numpy`!**)\n"
   ]
  },
  {
   "cell_type": "markdown",
   "metadata": {
    "nbpresent": {
     "id": "2114073e-4f4f-48bf-9dc8-890433270e90"
    },
    "slideshow": {
     "slide_type": "slide"
    }
   },
   "source": [
    "### Importing `pandas`\n",
    "\n",
    "---\n",
    "\n",
    "Import pandas at the top of your notebook like so:"
   ]
  },
  {
   "cell_type": "code",
   "execution_count": 2,
   "metadata": {
    "collapsed": true,
    "nbpresent": {
     "id": "37d682c1-2ae6-4c1d-8d54-1e7272ccfcef"
    },
    "slideshow": {
     "slide_type": "-"
    }
   },
   "outputs": [],
   "source": [
    "import pandas as pd"
   ]
  },
  {
   "cell_type": "markdown",
   "metadata": {
    "nbpresent": {
     "id": "e9917673-4eb8-403d-95ba-3068360f3dcd"
    },
    "slideshow": {
     "slide_type": "fragment"
    }
   },
   "source": [
    "Recall that the **`import pandas as pd`** syntax nicknames the `pandas` module as **`pd`** for convenience."
   ]
  },
  {
   "cell_type": "markdown",
   "metadata": {
    "nbpresent": {
     "id": "b29851ac-daa2-46fb-90f0-125e0c4683e1"
    },
    "slideshow": {
     "slide_type": "slide"
    }
   },
   "source": [
    "<a id='loading_csvs'></a>\n",
    "\n",
    "### Loading a csv into a DataFrame\n",
    "\n",
    "---\n",
    "\n",
    "Pandas can load many types of files, but one of the most common filetypes for storing data is in a ```.csv``` file. Let's load a dataset on drug use by age from the ```./datasets``` directory:"
   ]
  },
  {
   "cell_type": "code",
   "execution_count": 3,
   "metadata": {
    "collapsed": false,
    "nbpresent": {
     "id": "7e4ab5c8-5104-4004-9cd3-e781101e8703"
    },
    "slideshow": {
     "slide_type": "-"
    }
   },
   "outputs": [],
   "source": [
    "drug = pd.read_csv('./datasets/drug-use-by-age.csv')"
   ]
  },
  {
   "cell_type": "markdown",
   "metadata": {
    "nbpresent": {
     "id": "7c254479-e114-4b53-bb64-d9d5783d69ab"
    },
    "slideshow": {
     "slide_type": "fragment"
    }
   },
   "source": [
    "This creates a pandas object called a **DataFrame**. These are powerful containers for data with many built-in functions to explore and manipulate data.\n",
    "\n",
    "We will barely scratch the surface of DataFrame functionality in this lesson, but over the course of this class you will become an expert at using them."
   ]
  },
  {
   "cell_type": "markdown",
   "metadata": {
    "nbpresent": {
     "id": "b44c04a3-0bd8-4961-a930-092e872469d0"
    },
    "slideshow": {
     "slide_type": "slide"
    }
   },
   "source": [
    "<a id='exploring_data'></a>\n",
    "\n",
    "### Exploring data using DataFrames\n",
    "\n",
    "---\n",
    "\n",
    "DataFrames come with built-in functionality that makes data exploration easy. \n",
    "\n",
    "Let's start by looking at the \"header\" of your data with the ```.head()``` built-in function. If run alone in a notebook cell, it will show you the first and last handful of columns and the first 5 rows."
   ]
  },
  {
   "cell_type": "code",
   "execution_count": 4,
   "metadata": {
    "collapsed": false,
    "nbpresent": {
     "id": "f332b800-d5b7-4ee9-8d36-77ecd7c4465c"
    },
    "slideshow": {
     "slide_type": "fragment"
    }
   },
   "outputs": [
    {
     "data": {
      "text/html": [
       "<div>\n",
       "<table border=\"1\" class=\"dataframe\">\n",
       "  <thead>\n",
       "    <tr style=\"text-align: right;\">\n",
       "      <th></th>\n",
       "      <th>age</th>\n",
       "      <th>n</th>\n",
       "      <th>alcohol-use</th>\n",
       "      <th>alcohol-frequency</th>\n",
       "      <th>marijuana-use</th>\n",
       "      <th>marijuana-frequency</th>\n",
       "      <th>cocaine-use</th>\n",
       "      <th>cocaine-frequency</th>\n",
       "      <th>crack-use</th>\n",
       "      <th>crack-frequency</th>\n",
       "      <th>...</th>\n",
       "      <th>oxycontin-use</th>\n",
       "      <th>oxycontin-frequency</th>\n",
       "      <th>tranquilizer-use</th>\n",
       "      <th>tranquilizer-frequency</th>\n",
       "      <th>stimulant-use</th>\n",
       "      <th>stimulant-frequency</th>\n",
       "      <th>meth-use</th>\n",
       "      <th>meth-frequency</th>\n",
       "      <th>sedative-use</th>\n",
       "      <th>sedative-frequency</th>\n",
       "    </tr>\n",
       "  </thead>\n",
       "  <tbody>\n",
       "    <tr>\n",
       "      <th>0</th>\n",
       "      <td>12</td>\n",
       "      <td>2798</td>\n",
       "      <td>3.9</td>\n",
       "      <td>3.0</td>\n",
       "      <td>1.1</td>\n",
       "      <td>4.0</td>\n",
       "      <td>0.1</td>\n",
       "      <td>5.0</td>\n",
       "      <td>0.0</td>\n",
       "      <td>-</td>\n",
       "      <td>...</td>\n",
       "      <td>0.1</td>\n",
       "      <td>24.5</td>\n",
       "      <td>0.2</td>\n",
       "      <td>52.0</td>\n",
       "      <td>0.2</td>\n",
       "      <td>2.0</td>\n",
       "      <td>0.0</td>\n",
       "      <td>-</td>\n",
       "      <td>0.2</td>\n",
       "      <td>13.0</td>\n",
       "    </tr>\n",
       "    <tr>\n",
       "      <th>1</th>\n",
       "      <td>13</td>\n",
       "      <td>2757</td>\n",
       "      <td>8.5</td>\n",
       "      <td>6.0</td>\n",
       "      <td>3.4</td>\n",
       "      <td>15.0</td>\n",
       "      <td>0.1</td>\n",
       "      <td>1.0</td>\n",
       "      <td>0.0</td>\n",
       "      <td>3.0</td>\n",
       "      <td>...</td>\n",
       "      <td>0.1</td>\n",
       "      <td>41.0</td>\n",
       "      <td>0.3</td>\n",
       "      <td>25.5</td>\n",
       "      <td>0.3</td>\n",
       "      <td>4.0</td>\n",
       "      <td>0.1</td>\n",
       "      <td>5.0</td>\n",
       "      <td>0.1</td>\n",
       "      <td>19.0</td>\n",
       "    </tr>\n",
       "    <tr>\n",
       "      <th>2</th>\n",
       "      <td>14</td>\n",
       "      <td>2792</td>\n",
       "      <td>18.1</td>\n",
       "      <td>5.0</td>\n",
       "      <td>8.7</td>\n",
       "      <td>24.0</td>\n",
       "      <td>0.1</td>\n",
       "      <td>5.5</td>\n",
       "      <td>0.0</td>\n",
       "      <td>-</td>\n",
       "      <td>...</td>\n",
       "      <td>0.4</td>\n",
       "      <td>4.5</td>\n",
       "      <td>0.9</td>\n",
       "      <td>5.0</td>\n",
       "      <td>0.8</td>\n",
       "      <td>12.0</td>\n",
       "      <td>0.1</td>\n",
       "      <td>24.0</td>\n",
       "      <td>0.2</td>\n",
       "      <td>16.5</td>\n",
       "    </tr>\n",
       "    <tr>\n",
       "      <th>3</th>\n",
       "      <td>15</td>\n",
       "      <td>2956</td>\n",
       "      <td>29.2</td>\n",
       "      <td>6.0</td>\n",
       "      <td>14.5</td>\n",
       "      <td>25.0</td>\n",
       "      <td>0.5</td>\n",
       "      <td>4.0</td>\n",
       "      <td>0.1</td>\n",
       "      <td>9.5</td>\n",
       "      <td>...</td>\n",
       "      <td>0.8</td>\n",
       "      <td>3.0</td>\n",
       "      <td>2.0</td>\n",
       "      <td>4.5</td>\n",
       "      <td>1.5</td>\n",
       "      <td>6.0</td>\n",
       "      <td>0.3</td>\n",
       "      <td>10.5</td>\n",
       "      <td>0.4</td>\n",
       "      <td>30.0</td>\n",
       "    </tr>\n",
       "    <tr>\n",
       "      <th>4</th>\n",
       "      <td>16</td>\n",
       "      <td>3058</td>\n",
       "      <td>40.1</td>\n",
       "      <td>10.0</td>\n",
       "      <td>22.5</td>\n",
       "      <td>30.0</td>\n",
       "      <td>1.0</td>\n",
       "      <td>7.0</td>\n",
       "      <td>0.0</td>\n",
       "      <td>1.0</td>\n",
       "      <td>...</td>\n",
       "      <td>1.1</td>\n",
       "      <td>4.0</td>\n",
       "      <td>2.4</td>\n",
       "      <td>11.0</td>\n",
       "      <td>1.8</td>\n",
       "      <td>9.5</td>\n",
       "      <td>0.3</td>\n",
       "      <td>36.0</td>\n",
       "      <td>0.2</td>\n",
       "      <td>3.0</td>\n",
       "    </tr>\n",
       "  </tbody>\n",
       "</table>\n",
       "<p>5 rows × 28 columns</p>\n",
       "</div>"
      ],
      "text/plain": [
       "  age     n  alcohol-use  alcohol-frequency  marijuana-use  \\\n",
       "0  12  2798          3.9                3.0            1.1   \n",
       "1  13  2757          8.5                6.0            3.4   \n",
       "2  14  2792         18.1                5.0            8.7   \n",
       "3  15  2956         29.2                6.0           14.5   \n",
       "4  16  3058         40.1               10.0           22.5   \n",
       "\n",
       "   marijuana-frequency  cocaine-use cocaine-frequency  crack-use  \\\n",
       "0                  4.0          0.1               5.0        0.0   \n",
       "1                 15.0          0.1               1.0        0.0   \n",
       "2                 24.0          0.1               5.5        0.0   \n",
       "3                 25.0          0.5               4.0        0.1   \n",
       "4                 30.0          1.0               7.0        0.0   \n",
       "\n",
       "  crack-frequency        ...          oxycontin-use oxycontin-frequency  \\\n",
       "0               -        ...                    0.1                24.5   \n",
       "1             3.0        ...                    0.1                41.0   \n",
       "2               -        ...                    0.4                 4.5   \n",
       "3             9.5        ...                    0.8                 3.0   \n",
       "4             1.0        ...                    1.1                 4.0   \n",
       "\n",
       "   tranquilizer-use  tranquilizer-frequency  stimulant-use  \\\n",
       "0               0.2                    52.0            0.2   \n",
       "1               0.3                    25.5            0.3   \n",
       "2               0.9                     5.0            0.8   \n",
       "3               2.0                     4.5            1.5   \n",
       "4               2.4                    11.0            1.8   \n",
       "\n",
       "  stimulant-frequency  meth-use  meth-frequency  sedative-use  \\\n",
       "0                 2.0       0.0               -           0.2   \n",
       "1                 4.0       0.1             5.0           0.1   \n",
       "2                12.0       0.1            24.0           0.2   \n",
       "3                 6.0       0.3            10.5           0.4   \n",
       "4                 9.5       0.3            36.0           0.2   \n",
       "\n",
       "  sedative-frequency  \n",
       "0               13.0  \n",
       "1               19.0  \n",
       "2               16.5  \n",
       "3               30.0  \n",
       "4                3.0  \n",
       "\n",
       "[5 rows x 28 columns]"
      ]
     },
     "execution_count": 4,
     "metadata": {},
     "output_type": "execute_result"
    }
   ],
   "source": [
    "drug.head()"
   ]
  },
  {
   "cell_type": "markdown",
   "metadata": {
    "nbpresent": {
     "id": "1e6c6b41-692a-43fd-b4e6-81ee125dad7e"
    },
    "slideshow": {
     "slide_type": "slide"
    }
   },
   "source": [
    "If we want to see the last part of our data, we can equivalently use the ```.tail()``` function."
   ]
  },
  {
   "cell_type": "code",
   "execution_count": 6,
   "metadata": {
    "collapsed": false,
    "nbpresent": {
     "id": "0077c2a2-48f2-4c30-9181-34d2fc466bc9"
    },
    "slideshow": {
     "slide_type": "-"
    }
   },
   "outputs": [
    {
     "data": {
      "text/html": [
       "<div>\n",
       "<table border=\"1\" class=\"dataframe\">\n",
       "  <thead>\n",
       "    <tr style=\"text-align: right;\">\n",
       "      <th></th>\n",
       "      <th>age</th>\n",
       "      <th>n</th>\n",
       "      <th>alcohol-use</th>\n",
       "      <th>alcohol-frequency</th>\n",
       "      <th>marijuana-use</th>\n",
       "      <th>marijuana-frequency</th>\n",
       "      <th>cocaine-use</th>\n",
       "      <th>cocaine-frequency</th>\n",
       "      <th>crack-use</th>\n",
       "      <th>crack-frequency</th>\n",
       "      <th>...</th>\n",
       "      <th>oxycontin-use</th>\n",
       "      <th>oxycontin-frequency</th>\n",
       "      <th>tranquilizer-use</th>\n",
       "      <th>tranquilizer-frequency</th>\n",
       "      <th>stimulant-use</th>\n",
       "      <th>stimulant-frequency</th>\n",
       "      <th>meth-use</th>\n",
       "      <th>meth-frequency</th>\n",
       "      <th>sedative-use</th>\n",
       "      <th>sedative-frequency</th>\n",
       "    </tr>\n",
       "  </thead>\n",
       "  <tbody>\n",
       "    <tr>\n",
       "      <th>12</th>\n",
       "      <td>26-29</td>\n",
       "      <td>2628</td>\n",
       "      <td>80.7</td>\n",
       "      <td>52.0</td>\n",
       "      <td>20.8</td>\n",
       "      <td>52.0</td>\n",
       "      <td>3.2</td>\n",
       "      <td>5.0</td>\n",
       "      <td>0.4</td>\n",
       "      <td>6.0</td>\n",
       "      <td>...</td>\n",
       "      <td>1.2</td>\n",
       "      <td>13.5</td>\n",
       "      <td>4.2</td>\n",
       "      <td>10.0</td>\n",
       "      <td>2.3</td>\n",
       "      <td>7.0</td>\n",
       "      <td>0.6</td>\n",
       "      <td>30.0</td>\n",
       "      <td>0.4</td>\n",
       "      <td>4.0</td>\n",
       "    </tr>\n",
       "    <tr>\n",
       "      <th>13</th>\n",
       "      <td>30-34</td>\n",
       "      <td>2864</td>\n",
       "      <td>77.5</td>\n",
       "      <td>52.0</td>\n",
       "      <td>16.4</td>\n",
       "      <td>72.0</td>\n",
       "      <td>2.1</td>\n",
       "      <td>8.0</td>\n",
       "      <td>0.5</td>\n",
       "      <td>15.0</td>\n",
       "      <td>...</td>\n",
       "      <td>0.9</td>\n",
       "      <td>46.0</td>\n",
       "      <td>3.6</td>\n",
       "      <td>8.0</td>\n",
       "      <td>1.4</td>\n",
       "      <td>12.0</td>\n",
       "      <td>0.4</td>\n",
       "      <td>54.0</td>\n",
       "      <td>0.4</td>\n",
       "      <td>10.0</td>\n",
       "    </tr>\n",
       "    <tr>\n",
       "      <th>14</th>\n",
       "      <td>35-49</td>\n",
       "      <td>7391</td>\n",
       "      <td>75.0</td>\n",
       "      <td>52.0</td>\n",
       "      <td>10.4</td>\n",
       "      <td>48.0</td>\n",
       "      <td>1.5</td>\n",
       "      <td>15.0</td>\n",
       "      <td>0.5</td>\n",
       "      <td>48.0</td>\n",
       "      <td>...</td>\n",
       "      <td>0.3</td>\n",
       "      <td>12.0</td>\n",
       "      <td>1.9</td>\n",
       "      <td>6.0</td>\n",
       "      <td>0.6</td>\n",
       "      <td>24.0</td>\n",
       "      <td>0.2</td>\n",
       "      <td>104.0</td>\n",
       "      <td>0.3</td>\n",
       "      <td>10.0</td>\n",
       "    </tr>\n",
       "    <tr>\n",
       "      <th>15</th>\n",
       "      <td>50-64</td>\n",
       "      <td>3923</td>\n",
       "      <td>67.2</td>\n",
       "      <td>52.0</td>\n",
       "      <td>7.3</td>\n",
       "      <td>52.0</td>\n",
       "      <td>0.9</td>\n",
       "      <td>36.0</td>\n",
       "      <td>0.4</td>\n",
       "      <td>62.0</td>\n",
       "      <td>...</td>\n",
       "      <td>0.4</td>\n",
       "      <td>5.0</td>\n",
       "      <td>1.4</td>\n",
       "      <td>10.0</td>\n",
       "      <td>0.3</td>\n",
       "      <td>24.0</td>\n",
       "      <td>0.2</td>\n",
       "      <td>30.0</td>\n",
       "      <td>0.2</td>\n",
       "      <td>104.0</td>\n",
       "    </tr>\n",
       "    <tr>\n",
       "      <th>16</th>\n",
       "      <td>65+</td>\n",
       "      <td>2448</td>\n",
       "      <td>49.3</td>\n",
       "      <td>52.0</td>\n",
       "      <td>1.2</td>\n",
       "      <td>36.0</td>\n",
       "      <td>0.0</td>\n",
       "      <td>-</td>\n",
       "      <td>0.0</td>\n",
       "      <td>-</td>\n",
       "      <td>...</td>\n",
       "      <td>0.0</td>\n",
       "      <td>-</td>\n",
       "      <td>0.2</td>\n",
       "      <td>5.0</td>\n",
       "      <td>0.0</td>\n",
       "      <td>364.0</td>\n",
       "      <td>0.0</td>\n",
       "      <td>-</td>\n",
       "      <td>0.0</td>\n",
       "      <td>15.0</td>\n",
       "    </tr>\n",
       "  </tbody>\n",
       "</table>\n",
       "<p>5 rows × 28 columns</p>\n",
       "</div>"
      ],
      "text/plain": [
       "      age     n  alcohol-use  alcohol-frequency  marijuana-use  \\\n",
       "12  26-29  2628         80.7               52.0           20.8   \n",
       "13  30-34  2864         77.5               52.0           16.4   \n",
       "14  35-49  7391         75.0               52.0           10.4   \n",
       "15  50-64  3923         67.2               52.0            7.3   \n",
       "16    65+  2448         49.3               52.0            1.2   \n",
       "\n",
       "    marijuana-frequency  cocaine-use cocaine-frequency  crack-use  \\\n",
       "12                 52.0          3.2               5.0        0.4   \n",
       "13                 72.0          2.1               8.0        0.5   \n",
       "14                 48.0          1.5              15.0        0.5   \n",
       "15                 52.0          0.9              36.0        0.4   \n",
       "16                 36.0          0.0                 -        0.0   \n",
       "\n",
       "   crack-frequency        ...          oxycontin-use oxycontin-frequency  \\\n",
       "12             6.0        ...                    1.2                13.5   \n",
       "13            15.0        ...                    0.9                46.0   \n",
       "14            48.0        ...                    0.3                12.0   \n",
       "15            62.0        ...                    0.4                 5.0   \n",
       "16               -        ...                    0.0                   -   \n",
       "\n",
       "    tranquilizer-use  tranquilizer-frequency  stimulant-use  \\\n",
       "12               4.2                    10.0            2.3   \n",
       "13               3.6                     8.0            1.4   \n",
       "14               1.9                     6.0            0.6   \n",
       "15               1.4                    10.0            0.3   \n",
       "16               0.2                     5.0            0.0   \n",
       "\n",
       "   stimulant-frequency  meth-use  meth-frequency  sedative-use  \\\n",
       "12                 7.0       0.6            30.0           0.4   \n",
       "13                12.0       0.4            54.0           0.4   \n",
       "14                24.0       0.2           104.0           0.3   \n",
       "15                24.0       0.2            30.0           0.2   \n",
       "16               364.0       0.0               -           0.0   \n",
       "\n",
       "   sedative-frequency  \n",
       "12                4.0  \n",
       "13               10.0  \n",
       "14               10.0  \n",
       "15              104.0  \n",
       "16               15.0  \n",
       "\n",
       "[5 rows x 28 columns]"
      ]
     },
     "execution_count": 6,
     "metadata": {},
     "output_type": "execute_result"
    }
   ],
   "source": [
    "drug.tail()"
   ]
  },
  {
   "cell_type": "markdown",
   "metadata": {
    "nbpresent": {
     "id": "2c901f72-6d15-4e6b-9592-de89ff0b4dfa"
    },
    "slideshow": {
     "slide_type": "slide"
    }
   },
   "source": [
    "<a id='data_dimensions'></a>\n",
    "\n",
    "### Data dimensions\n",
    "\n",
    "---\n",
    "\n",
    "It's good to look at what the dimensions of your data are. The ```.shape``` property will tell you the rows and colum counts of your DataFrame."
   ]
  },
  {
   "cell_type": "code",
   "execution_count": 7,
   "metadata": {
    "collapsed": false,
    "nbpresent": {
     "id": "9a9b6f73-3b89-41e7-99eb-14e7afa83467"
    },
    "slideshow": {
     "slide_type": "-"
    }
   },
   "outputs": [
    {
     "data": {
      "text/plain": [
       "(17, 28)"
      ]
     },
     "execution_count": 7,
     "metadata": {},
     "output_type": "execute_result"
    }
   ],
   "source": [
    "drug.shape"
   ]
  },
  {
   "cell_type": "markdown",
   "metadata": {
    "nbpresent": {
     "id": "042513d6-a8a3-4ec3-aaf3-e6acb8854820"
    },
    "slideshow": {
     "slide_type": "fragment"
    }
   },
   "source": [
    "You can see we have 17 rows and 28 columns. This is obviously a small dataset.\n",
    "\n",
    "You will notice that this is operates the same as `.shape` for numpy arrays/matricies. Pandas makes use of numpy under the hood for optimization and speed."
   ]
  },
  {
   "cell_type": "markdown",
   "metadata": {
    "nbpresent": {
     "id": "31d5c9db-bf27-4798-ae2d-081e17102bbb"
    },
    "slideshow": {
     "slide_type": "slide"
    }
   },
   "source": [
    "Look at the names of your columns with the ```.columns``` property.\n",
    "\n",
    "[Note: You will see the columns having the **u'string'** and can most of the time safely ignore this as the column names are typically loaded in as ascii and not unicode]"
   ]
  },
  {
   "cell_type": "code",
   "execution_count": 8,
   "metadata": {
    "collapsed": false,
    "nbpresent": {
     "id": "b2da21bb-5a29-441d-a0b7-949ecf9938c8"
    },
    "slideshow": {
     "slide_type": "fragment"
    }
   },
   "outputs": [
    {
     "data": {
      "text/plain": [
       "Index([u'age', u'n', u'alcohol-use', u'alcohol-frequency', u'marijuana-use',\n",
       "       u'marijuana-frequency', u'cocaine-use', u'cocaine-frequency',\n",
       "       u'crack-use', u'crack-frequency', u'heroin-use', u'heroin-frequency',\n",
       "       u'hallucinogen-use', u'hallucinogen-frequency', u'inhalant-use',\n",
       "       u'inhalant-frequency', u'pain-releiver-use', u'pain-releiver-frequency',\n",
       "       u'oxycontin-use', u'oxycontin-frequency', u'tranquilizer-use',\n",
       "       u'tranquilizer-frequency', u'stimulant-use', u'stimulant-frequency',\n",
       "       u'meth-use', u'meth-frequency', u'sedative-use', u'sedative-frequency'],\n",
       "      dtype='object')"
      ]
     },
     "execution_count": 8,
     "metadata": {},
     "output_type": "execute_result"
    }
   ],
   "source": [
    "drug.columns"
   ]
  },
  {
   "cell_type": "markdown",
   "metadata": {
    "nbpresent": {
     "id": "fc25fdf8-5959-4d0e-ab9d-ab6da5c83209"
    },
    "slideshow": {
     "slide_type": "slide"
    }
   },
   "source": [
    "Accessing a specific column is easy. You can use the bracket syntax just like python dictionaries with the string name of the column to extract that column."
   ]
  },
  {
   "cell_type": "code",
   "execution_count": 9,
   "metadata": {
    "collapsed": false,
    "nbpresent": {
     "id": "c1d9b4d1-263d-4ca1-acf6-d18ad31c16e6"
    },
    "slideshow": {
     "slide_type": "fragment"
    }
   },
   "outputs": [
    {
     "data": {
      "text/plain": [
       "0    0.0\n",
       "1    0.0\n",
       "2    0.0\n",
       "3    0.1\n",
       "4    0.0\n",
       "Name: crack-use, dtype: float64"
      ]
     },
     "execution_count": 9,
     "metadata": {},
     "output_type": "execute_result"
    }
   ],
   "source": [
    "drug['crack-use'].head()"
   ]
  },
  {
   "cell_type": "markdown",
   "metadata": {
    "nbpresent": {
     "id": "d1473cb4-9805-4831-aca8-71c68c271729"
    },
    "slideshow": {
     "slide_type": "fragment"
    }
   },
   "source": [
    "As you can see we can also use the ```.head()``` function on a single column, which is represented as a pandas Series object."
   ]
  },
  {
   "cell_type": "markdown",
   "metadata": {
    "nbpresent": {
     "id": "e5d6b43d-4118-465d-bea3-83a2caf96b8e"
    },
    "slideshow": {
     "slide_type": "slide"
    }
   },
   "source": [
    "You can also access a column (as a DataFrame instead of a Series) or multiple columns with a list of strings."
   ]
  },
  {
   "cell_type": "code",
   "execution_count": 10,
   "metadata": {
    "collapsed": false,
    "nbpresent": {
     "id": "4c713e8f-a430-4d4a-afe4-90f13bde08c2"
    },
    "slideshow": {
     "slide_type": "fragment"
    }
   },
   "outputs": [
    {
     "data": {
      "text/html": [
       "<div>\n",
       "<table border=\"1\" class=\"dataframe\">\n",
       "  <thead>\n",
       "    <tr style=\"text-align: right;\">\n",
       "      <th></th>\n",
       "      <th>crack-use</th>\n",
       "    </tr>\n",
       "  </thead>\n",
       "  <tbody>\n",
       "    <tr>\n",
       "      <th>0</th>\n",
       "      <td>0.0</td>\n",
       "    </tr>\n",
       "    <tr>\n",
       "      <th>1</th>\n",
       "      <td>0.0</td>\n",
       "    </tr>\n",
       "    <tr>\n",
       "      <th>2</th>\n",
       "      <td>0.0</td>\n",
       "    </tr>\n",
       "    <tr>\n",
       "      <th>3</th>\n",
       "      <td>0.1</td>\n",
       "    </tr>\n",
       "    <tr>\n",
       "      <th>4</th>\n",
       "      <td>0.0</td>\n",
       "    </tr>\n",
       "  </tbody>\n",
       "</table>\n",
       "</div>"
      ],
      "text/plain": [
       "   crack-use\n",
       "0        0.0\n",
       "1        0.0\n",
       "2        0.0\n",
       "3        0.1\n",
       "4        0.0"
      ]
     },
     "execution_count": 10,
     "metadata": {},
     "output_type": "execute_result"
    }
   ],
   "source": [
    "drug[['crack-use']].head()"
   ]
  },
  {
   "cell_type": "code",
   "execution_count": 5,
   "metadata": {
    "collapsed": false,
    "nbpresent": {
     "id": "46dc97d4-6326-417d-8745-64c49ef65ec2"
    },
    "slideshow": {
     "slide_type": "fragment"
    }
   },
   "outputs": [
    {
     "data": {
      "text/html": [
       "<div>\n",
       "<table border=\"1\" class=\"dataframe\">\n",
       "  <thead>\n",
       "    <tr style=\"text-align: right;\">\n",
       "      <th></th>\n",
       "      <th>age</th>\n",
       "      <th>crack-use</th>\n",
       "    </tr>\n",
       "  </thead>\n",
       "  <tbody>\n",
       "    <tr>\n",
       "      <th>0</th>\n",
       "      <td>12</td>\n",
       "      <td>0.0</td>\n",
       "    </tr>\n",
       "    <tr>\n",
       "      <th>1</th>\n",
       "      <td>13</td>\n",
       "      <td>0.0</td>\n",
       "    </tr>\n",
       "    <tr>\n",
       "      <th>2</th>\n",
       "      <td>14</td>\n",
       "      <td>0.0</td>\n",
       "    </tr>\n",
       "    <tr>\n",
       "      <th>3</th>\n",
       "      <td>15</td>\n",
       "      <td>0.1</td>\n",
       "    </tr>\n",
       "    <tr>\n",
       "      <th>4</th>\n",
       "      <td>16</td>\n",
       "      <td>0.0</td>\n",
       "    </tr>\n",
       "  </tbody>\n",
       "</table>\n",
       "</div>"
      ],
      "text/plain": [
       "  age  crack-use\n",
       "0  12        0.0\n",
       "1  13        0.0\n",
       "2  14        0.0\n",
       "3  15        0.1\n",
       "4  16        0.0"
      ]
     },
     "execution_count": 5,
     "metadata": {},
     "output_type": "execute_result"
    }
   ],
   "source": [
    "drug[['age','crack-use']].head()"
   ]
  },
  {
   "cell_type": "markdown",
   "metadata": {
    "nbpresent": {
     "id": "0c73f9d4-b242-441c-b606-40c05b450f25"
    },
    "slideshow": {
     "slide_type": "slide"
    }
   },
   "source": [
    "<a id='dataframe_series'></a>\n",
    "\n",
    "### DataFrame vs. Series\n",
    "\n",
    "---\n",
    "\n",
    "There is an important difference between using a list of strings and just a string with a column's name: when you use a list with the string it returns another **DataFrame**, but when you use just the string it returns a pandas **Series** object."
   ]
  },
  {
   "cell_type": "code",
   "execution_count": 12,
   "metadata": {
    "collapsed": false,
    "nbpresent": {
     "id": "a8526589-1116-4c85-be23-5cba34430f32"
    },
    "slideshow": {
     "slide_type": "fragment"
    }
   },
   "outputs": [
    {
     "name": "stdout",
     "output_type": "stream",
     "text": [
      "<class 'pandas.core.series.Series'>\n",
      "<class 'pandas.core.frame.DataFrame'>\n"
     ]
    }
   ],
   "source": [
    "print(type(drug['age']))\n",
    "\n",
    "print(type(drug[['age']]))"
   ]
  },
  {
   "cell_type": "markdown",
   "metadata": {
    "nbpresent": {
     "id": "9aee722a-59c8-4c66-ba6e-58c629b5740b"
    },
    "slideshow": {
     "slide_type": "fragment"
    }
   },
   "source": [
    "What is the difference between a pandas Series and DataFrame object?\n",
    "\n",
    "Essentially, a **Series** object contains the data for a single column of your data, and the **DataFrame** is a matrix-like container for those Series objects that comprise your data."
   ]
  },
  {
   "cell_type": "markdown",
   "metadata": {
    "nbpresent": {
     "id": "892f7841-512b-4f7b-b741-5b2c094a31d2"
    },
    "slideshow": {
     "slide_type": "slide"
    }
   },
   "source": [
    "As long as your column names have no spaces or other specialized characters in them (underscores are ok), you can access a column as a property of the dataframe.  \n",
    "\n",
    "**Get in the habit of referencing your series columns using df['my_column'] rather than by object notation `df.my_column`**.  Because, there are many edge cases where the object notation does not work and there are nuances as to how Pandas will behave, **`df.my_column`** vs **`df['my_column']`**. "
   ]
  },
  {
   "cell_type": "code",
   "execution_count": 13,
   "metadata": {
    "collapsed": false,
    "nbpresent": {
     "id": "2957ddaf-3796-4486-a784-3e08ecb7e5b7"
    },
    "slideshow": {
     "slide_type": "fragment"
    }
   },
   "outputs": [
    {
     "data": {
      "text/plain": [
       "0    12\n",
       "1    13\n",
       "2    14\n",
       "3    15\n",
       "4    16\n",
       "Name: age, dtype: object"
      ]
     },
     "execution_count": 13,
     "metadata": {},
     "output_type": "execute_result"
    }
   ],
   "source": [
    "drug['age'].head()"
   ]
  },
  {
   "cell_type": "markdown",
   "metadata": {
    "nbpresent": {
     "id": "5cd69bd7-4bff-4fb5-b575-8919901fa6b6"
    },
    "slideshow": {
     "slide_type": "fragment"
    }
   },
   "source": [
    "Remember: this will be a **Series** object, not a DataFrame."
   ]
  },
  {
   "cell_type": "markdown",
   "metadata": {
    "slideshow": {
     "slide_type": "slide"
    }
   },
   "source": [
    "<a id='info'></a>\n",
    "\n",
    "### Examining your data with `.info()`\n",
    "\n",
    "---\n",
    "\n",
    "The `.info()` should be the first thing you look at when getting acquainted with a new dataset.\n",
    "\n",
    "**Types** are very important.  They impact the way data will be represented in our machine learning models, how data can be joined, whether or not math operators can be applied, and when you can encounter unexpected results.\n",
    "\n",
    "> _Typical problems when working with new datasets_:\n",
    "> - Missing values\n",
    "> - Unexpected types (string/object instead of int/float)\n",
    "> - Dirty data (commas, dollar signs, unexpected characters, etc)\n",
    "> - Blank values that are actually \"non-null\" or single white-space characters\n",
    "\n",
    "`.info()` is a function that is available on every **DataFrame** object. It gives you information about:\n",
    "\n",
    "- Name of column / variable attribute\n",
    "- Type of index (RangeIndex is default)\n",
    "- Count of non-null values by column / attribute\n",
    "- Type of data contained in column / attribute\n",
    "- Unqiue counts of dtypes (Pandas data types)\n",
    "- Memory usage of our dataset\n"
   ]
  },
  {
   "cell_type": "code",
   "execution_count": 6,
   "metadata": {
    "collapsed": false,
    "slideshow": {
     "slide_type": "slide"
    }
   },
   "outputs": [
    {
     "name": "stdout",
     "output_type": "stream",
     "text": [
      "<class 'pandas.core.frame.DataFrame'>\n",
      "RangeIndex: 17 entries, 0 to 16\n",
      "Data columns (total 28 columns):\n",
      "age                        17 non-null object\n",
      "n                          17 non-null int64\n",
      "alcohol-use                17 non-null float64\n",
      "alcohol-frequency          17 non-null float64\n",
      "marijuana-use              17 non-null float64\n",
      "marijuana-frequency        17 non-null float64\n",
      "cocaine-use                17 non-null float64\n",
      "cocaine-frequency          17 non-null object\n",
      "crack-use                  17 non-null float64\n",
      "crack-frequency            17 non-null object\n",
      "heroin-use                 17 non-null float64\n",
      "heroin-frequency           17 non-null object\n",
      "hallucinogen-use           17 non-null float64\n",
      "hallucinogen-frequency     17 non-null float64\n",
      "inhalant-use               17 non-null float64\n",
      "inhalant-frequency         17 non-null object\n",
      "pain-releiver-use          17 non-null float64\n",
      "pain-releiver-frequency    17 non-null float64\n",
      "oxycontin-use              17 non-null float64\n",
      "oxycontin-frequency        17 non-null object\n",
      "tranquilizer-use           17 non-null float64\n",
      "tranquilizer-frequency     17 non-null float64\n",
      "stimulant-use              17 non-null float64\n",
      "stimulant-frequency        17 non-null float64\n",
      "meth-use                   17 non-null float64\n",
      "meth-frequency             17 non-null object\n",
      "sedative-use               17 non-null float64\n",
      "sedative-frequency         17 non-null float64\n",
      "dtypes: float64(20), int64(1), object(7)\n",
      "memory usage: 3.8+ KB\n"
     ]
    }
   ],
   "source": [
    "drug.info()"
   ]
  },
  {
   "cell_type": "markdown",
   "metadata": {
    "slideshow": {
     "slide_type": "slide"
    }
   },
   "source": [
    "### Caveat:  Working with Larger Datasets \n",
    "\n",
    "---\n",
    "\n",
    "If you have a dataset that is larger than your given memory, there are better solutions for working with your data.\n",
    "\n",
    "![](https://snag.gy/UGNamo.jpg)\n",
    "\n",
    "Generally:\n",
    "\n",
    "- Consider storing your data in a relational database.\n",
    "- Use HDF5 (PyTables) if you need to operate on all of the data.\n",
    "- Take a sample of your larger dataset, approximating the total data, before importing or downloading.\n",
    "- Consider distributed computing environment like Hadoop, Starcluster, or Spark (there are even more options and considerations for this but we will cover them in the future!).\n"
   ]
  },
  {
   "cell_type": "markdown",
   "metadata": {
    "nbpresent": {
     "id": "3f0c0568-5a2d-4559-ac13-7170a5c43846"
    },
    "slideshow": {
     "slide_type": "slide"
    }
   },
   "source": [
    "<a id='describe'></a>\n",
    "\n",
    "### Summarizing data with `.describe()`\n",
    "\n",
    "---\n",
    "\n",
    "The ```.describe()``` function is very useful for taking a quick look at your data. It gives you some of the basic descriptive statistics.\n",
    "\n",
    "Use the ```.describe()``` function on just the ```crack-use``` column."
   ]
  },
  {
   "cell_type": "code",
   "execution_count": 15,
   "metadata": {
    "collapsed": false,
    "nbpresent": {
     "id": "4d3ae9ac-b23b-4c49-9f0a-126c842419e8"
    },
    "slideshow": {
     "slide_type": "fragment"
    }
   },
   "outputs": [
    {
     "data": {
      "text/plain": [
       "count    17.000000\n",
       "mean      0.294118\n",
       "std       0.235772\n",
       "min       0.000000\n",
       "25%       0.000000\n",
       "50%       0.400000\n",
       "75%       0.500000\n",
       "max       0.600000\n",
       "Name: crack-use, dtype: float64"
      ]
     },
     "execution_count": 15,
     "metadata": {},
     "output_type": "execute_result"
    }
   ],
   "source": [
    "drug['crack-use'].describe()"
   ]
  },
  {
   "cell_type": "markdown",
   "metadata": {
    "nbpresent": {
     "id": "18836c37-de0e-4200-8eb8-3c9084da3b6b"
    },
    "slideshow": {
     "slide_type": "fragment"
    }
   },
   "source": [
    "You can use it on multiple columns, such as ```crack-use``` and ```alcohol-frequency```."
   ]
  },
  {
   "cell_type": "code",
   "execution_count": 16,
   "metadata": {
    "collapsed": false,
    "nbpresent": {
     "id": "59ba0259-fb6c-4bd1-b274-2035540493be"
    }
   },
   "outputs": [
    {
     "data": {
      "text/html": [
       "<div>\n",
       "<table border=\"1\" class=\"dataframe\">\n",
       "  <thead>\n",
       "    <tr style=\"text-align: right;\">\n",
       "      <th></th>\n",
       "      <th>crack-use</th>\n",
       "      <th>alcohol-frequency</th>\n",
       "    </tr>\n",
       "  </thead>\n",
       "  <tbody>\n",
       "    <tr>\n",
       "      <th>count</th>\n",
       "      <td>17.000000</td>\n",
       "      <td>17.000000</td>\n",
       "    </tr>\n",
       "    <tr>\n",
       "      <th>mean</th>\n",
       "      <td>0.294118</td>\n",
       "      <td>33.352941</td>\n",
       "    </tr>\n",
       "    <tr>\n",
       "      <th>std</th>\n",
       "      <td>0.235772</td>\n",
       "      <td>21.318833</td>\n",
       "    </tr>\n",
       "    <tr>\n",
       "      <th>min</th>\n",
       "      <td>0.000000</td>\n",
       "      <td>3.000000</td>\n",
       "    </tr>\n",
       "    <tr>\n",
       "      <th>25%</th>\n",
       "      <td>0.000000</td>\n",
       "      <td>10.000000</td>\n",
       "    </tr>\n",
       "    <tr>\n",
       "      <th>50%</th>\n",
       "      <td>0.400000</td>\n",
       "      <td>48.000000</td>\n",
       "    </tr>\n",
       "    <tr>\n",
       "      <th>75%</th>\n",
       "      <td>0.500000</td>\n",
       "      <td>52.000000</td>\n",
       "    </tr>\n",
       "    <tr>\n",
       "      <th>max</th>\n",
       "      <td>0.600000</td>\n",
       "      <td>52.000000</td>\n",
       "    </tr>\n",
       "  </tbody>\n",
       "</table>\n",
       "</div>"
      ],
      "text/plain": [
       "       crack-use  alcohol-frequency\n",
       "count  17.000000          17.000000\n",
       "mean    0.294118          33.352941\n",
       "std     0.235772          21.318833\n",
       "min     0.000000           3.000000\n",
       "25%     0.000000          10.000000\n",
       "50%     0.400000          48.000000\n",
       "75%     0.500000          52.000000\n",
       "max     0.600000          52.000000"
      ]
     },
     "execution_count": 16,
     "metadata": {},
     "output_type": "execute_result"
    }
   ],
   "source": [
    "drug[['crack-use','alcohol-frequency']].describe()"
   ]
  },
  {
   "cell_type": "markdown",
   "metadata": {
    "nbpresent": {
     "id": "969967d8-7094-4960-8c4b-5583fed79648"
    },
    "slideshow": {
     "slide_type": "slide"
    }
   },
   "source": [
    "```.describe()``` gives us these statistics:\n",
    "\n",
    "- **count**, which is equivalent to the number of cells (rows)\n",
    "- **mean**, the average of the values in the column\n",
    "- **std**, which is the standard deviation\n",
    "- **min**, the minimum value\n",
    "- **25%**, the 25th percentile of the values \n",
    "- **50%**, the 50th percentile of the values, which is the equivalent to the median\n",
    "- **75%**, the 75th percentile of the values\n",
    "- **max**, the maximum value\n",
    "\n",
    "<img src=\"https://snag.gy/AH6E8I.jpg\">"
   ]
  },
  {
   "cell_type": "markdown",
   "metadata": {
    "nbpresent": {
     "id": "5bc97eed-d555-4e31-bbd6-d2f7bc26a1d4"
    },
    "slideshow": {
     "slide_type": "slide"
    }
   },
   "source": [
    "There are built-in math functions that will work on all of the columns of a DataFrame at once, or subsets of the data.\n",
    "\n",
    "I can use the ```.mean()``` function on the ```drug``` DataFrame to get the mean for every column."
   ]
  },
  {
   "cell_type": "code",
   "execution_count": 17,
   "metadata": {
    "collapsed": false,
    "nbpresent": {
     "id": "adde643c-6657-4d32-bf3d-4406a9ae3303"
    }
   },
   "outputs": [
    {
     "data": {
      "text/plain": [
       "n                          3251.058824\n",
       "alcohol-use                  55.429412\n",
       "alcohol-frequency            33.352941\n",
       "marijuana-use                18.923529\n",
       "marijuana-frequency          42.941176\n",
       "cocaine-use                   2.176471\n",
       "crack-use                     0.294118\n",
       "heroin-use                    0.352941\n",
       "hallucinogen-use              3.394118\n",
       "hallucinogen-frequency        8.411765\n",
       "inhalant-use                  1.388235\n",
       "pain-releiver-use             6.270588\n",
       "pain-releiver-frequency      14.705882\n",
       "oxycontin-use                 0.935294\n",
       "tranquilizer-use              2.805882\n",
       "tranquilizer-frequency       11.735294\n",
       "stimulant-use                 1.917647\n",
       "stimulant-frequency          31.147059\n",
       "meth-use                      0.382353\n",
       "sedative-use                  0.282353\n",
       "sedative-frequency           19.382353\n",
       "dtype: float64"
      ]
     },
     "execution_count": 17,
     "metadata": {},
     "output_type": "execute_result"
    }
   ],
   "source": [
    "drug.mean()"
   ]
  },
  {
   "cell_type": "markdown",
   "metadata": {
    "slideshow": {
     "slide_type": "slide"
    }
   },
   "source": [
    "<a id='independent_practice'></a>\n",
    "\n",
    "### Independent Practice\n",
    "\n",
    "---\n",
    "\n",
    "Now that we know a little bit about basic DataFrame use, let's practice on a new dataset.\n",
    "\n",
    "> Pro tip:  You can use the \"tab\" key to browse filesystem resources when your cursor is in a string to get a relative reference to the files that can be loaded in Jupyter notebook.  Remember, you have to use your arrow keys to navigate the files populated in the UI. \n",
    "\n",
    "<img src=\"https://snag.gy/IlLNm9.jpg\">\n",
    "\n",
    "1. Find and load the \"diamonds\" dataset into a DataFrame (in the datasets directory).\n",
    "1. Print out the columns.\n",
    "1. What does the dataset look like in terms of dimensions?\n",
    "1. Check the types of each column.\n",
    "  1. What is the most common type?\n",
    "  1. How many entries are there?\n",
    "  1. How much memory does this dataset consume?\n",
    "1. Examine the summary statistics of the dataset."
   ]
  },
  {
   "cell_type": "code",
   "execution_count": 12,
   "metadata": {
    "collapsed": false,
    "slideshow": {
     "slide_type": "fragment"
    }
   },
   "outputs": [
    {
     "name": "stdout",
     "output_type": "stream",
     "text": [
      "<class 'pandas.core.frame.DataFrame'>\n",
      "RangeIndex: 53940 entries, 0 to 53939\n",
      "Data columns (total 1 columns):\n",
      "carat    53940 non-null float64\n",
      "dtypes: float64(1)\n",
      "memory usage: 421.5 KB\n"
     ]
    }
   ],
   "source": [
    "csv_file = \"./datasets/diamonds.csv\"\n",
    "diamonds = pd.read_csv(csv_file)\n",
    "diamonds\n",
    "diamonds['carat'].describe()\n",
    "diamonds[['carat']].info()"
   ]
  },
  {
   "cell_type": "markdown",
   "metadata": {
    "nbpresent": {
     "id": "5d655b68-e149-48cf-9739-b2f01fa13b88"
    },
    "slideshow": {
     "slide_type": "slide"
    }
   },
   "source": [
    "<a id='indexing'></a>\n",
    "\n",
    "### Pandas Indexing \n",
    "\n",
    "---\n",
    "\n",
    "More often than not, we want to operate on or extract specific portions of our data. When we perform indexing on a DataFrame or Series we can specifying the specific section of the data.\n",
    "\n",
    "Pandas has three properties that you can use for indexing:\n",
    "\n",
    "- **`.loc`** indexes with the _labels_ for rows and columns.\n",
    "- **`.iloc`** indexes with the _integer positions_ for rows and columns.\n",
    "- **`.ix`** indexes with _both labels and integer positions_."
   ]
  },
  {
   "cell_type": "markdown",
   "metadata": {
    "nbpresent": {
     "id": "7b01d33b-a550-4b6c-8a23-f6bcc9b20b13"
    },
    "slideshow": {
     "slide_type": "slide"
    }
   },
   "source": [
    "To help clarify these differences, lets first re-set the row labels to letters using the ```.set_index()``` function:"
   ]
  },
  {
   "cell_type": "code",
   "execution_count": 15,
   "metadata": {
    "collapsed": false,
    "nbpresent": {
     "id": "4162fb31-3624-4996-b1ec-a7a7eb23c5e5"
    },
    "slideshow": {
     "slide_type": "-"
    }
   },
   "outputs": [],
   "source": [
    "new_index_values = ['A','B','C','D','E','F','G','H','I','J','K','L','M','N','O','P','Q']\n",
    "drug.index = new_index_values"
   ]
  },
  {
   "cell_type": "code",
   "execution_count": 17,
   "metadata": {
    "collapsed": false,
    "nbpresent": {
     "id": "ca418139-0ea6-461f-8a78-fb9f1bbdbbe3"
    },
    "slideshow": {
     "slide_type": "fragment"
    }
   },
   "outputs": [
    {
     "data": {
      "text/html": [
       "<div>\n",
       "<table border=\"1\" class=\"dataframe\">\n",
       "  <thead>\n",
       "    <tr style=\"text-align: right;\">\n",
       "      <th></th>\n",
       "      <th>age</th>\n",
       "      <th>n</th>\n",
       "      <th>alcohol-use</th>\n",
       "      <th>alcohol-frequency</th>\n",
       "      <th>marijuana-use</th>\n",
       "      <th>marijuana-frequency</th>\n",
       "      <th>cocaine-use</th>\n",
       "      <th>cocaine-frequency</th>\n",
       "      <th>crack-use</th>\n",
       "      <th>crack-frequency</th>\n",
       "      <th>...</th>\n",
       "      <th>oxycontin-use</th>\n",
       "      <th>oxycontin-frequency</th>\n",
       "      <th>tranquilizer-use</th>\n",
       "      <th>tranquilizer-frequency</th>\n",
       "      <th>stimulant-use</th>\n",
       "      <th>stimulant-frequency</th>\n",
       "      <th>meth-use</th>\n",
       "      <th>meth-frequency</th>\n",
       "      <th>sedative-use</th>\n",
       "      <th>sedative-frequency</th>\n",
       "    </tr>\n",
       "  </thead>\n",
       "  <tbody>\n",
       "    <tr>\n",
       "      <th>A</th>\n",
       "      <td>12</td>\n",
       "      <td>2798</td>\n",
       "      <td>3.9</td>\n",
       "      <td>3.0</td>\n",
       "      <td>1.1</td>\n",
       "      <td>4.0</td>\n",
       "      <td>0.1</td>\n",
       "      <td>5.0</td>\n",
       "      <td>0.0</td>\n",
       "      <td>-</td>\n",
       "      <td>...</td>\n",
       "      <td>0.1</td>\n",
       "      <td>24.5</td>\n",
       "      <td>0.2</td>\n",
       "      <td>52.0</td>\n",
       "      <td>0.2</td>\n",
       "      <td>2.0</td>\n",
       "      <td>0.0</td>\n",
       "      <td>-</td>\n",
       "      <td>0.2</td>\n",
       "      <td>13.0</td>\n",
       "    </tr>\n",
       "    <tr>\n",
       "      <th>B</th>\n",
       "      <td>13</td>\n",
       "      <td>2757</td>\n",
       "      <td>8.5</td>\n",
       "      <td>6.0</td>\n",
       "      <td>3.4</td>\n",
       "      <td>15.0</td>\n",
       "      <td>0.1</td>\n",
       "      <td>1.0</td>\n",
       "      <td>0.0</td>\n",
       "      <td>3.0</td>\n",
       "      <td>...</td>\n",
       "      <td>0.1</td>\n",
       "      <td>41.0</td>\n",
       "      <td>0.3</td>\n",
       "      <td>25.5</td>\n",
       "      <td>0.3</td>\n",
       "      <td>4.0</td>\n",
       "      <td>0.1</td>\n",
       "      <td>5.0</td>\n",
       "      <td>0.1</td>\n",
       "      <td>19.0</td>\n",
       "    </tr>\n",
       "    <tr>\n",
       "      <th>C</th>\n",
       "      <td>14</td>\n",
       "      <td>2792</td>\n",
       "      <td>18.1</td>\n",
       "      <td>5.0</td>\n",
       "      <td>8.7</td>\n",
       "      <td>24.0</td>\n",
       "      <td>0.1</td>\n",
       "      <td>5.5</td>\n",
       "      <td>0.0</td>\n",
       "      <td>-</td>\n",
       "      <td>...</td>\n",
       "      <td>0.4</td>\n",
       "      <td>4.5</td>\n",
       "      <td>0.9</td>\n",
       "      <td>5.0</td>\n",
       "      <td>0.8</td>\n",
       "      <td>12.0</td>\n",
       "      <td>0.1</td>\n",
       "      <td>24.0</td>\n",
       "      <td>0.2</td>\n",
       "      <td>16.5</td>\n",
       "    </tr>\n",
       "    <tr>\n",
       "      <th>D</th>\n",
       "      <td>15</td>\n",
       "      <td>2956</td>\n",
       "      <td>29.2</td>\n",
       "      <td>6.0</td>\n",
       "      <td>14.5</td>\n",
       "      <td>25.0</td>\n",
       "      <td>0.5</td>\n",
       "      <td>4.0</td>\n",
       "      <td>0.1</td>\n",
       "      <td>9.5</td>\n",
       "      <td>...</td>\n",
       "      <td>0.8</td>\n",
       "      <td>3.0</td>\n",
       "      <td>2.0</td>\n",
       "      <td>4.5</td>\n",
       "      <td>1.5</td>\n",
       "      <td>6.0</td>\n",
       "      <td>0.3</td>\n",
       "      <td>10.5</td>\n",
       "      <td>0.4</td>\n",
       "      <td>30.0</td>\n",
       "    </tr>\n",
       "    <tr>\n",
       "      <th>E</th>\n",
       "      <td>16</td>\n",
       "      <td>3058</td>\n",
       "      <td>40.1</td>\n",
       "      <td>10.0</td>\n",
       "      <td>22.5</td>\n",
       "      <td>30.0</td>\n",
       "      <td>1.0</td>\n",
       "      <td>7.0</td>\n",
       "      <td>0.0</td>\n",
       "      <td>1.0</td>\n",
       "      <td>...</td>\n",
       "      <td>1.1</td>\n",
       "      <td>4.0</td>\n",
       "      <td>2.4</td>\n",
       "      <td>11.0</td>\n",
       "      <td>1.8</td>\n",
       "      <td>9.5</td>\n",
       "      <td>0.3</td>\n",
       "      <td>36.0</td>\n",
       "      <td>0.2</td>\n",
       "      <td>3.0</td>\n",
       "    </tr>\n",
       "  </tbody>\n",
       "</table>\n",
       "<p>5 rows × 28 columns</p>\n",
       "</div>"
      ],
      "text/plain": [
       "  age     n  alcohol-use  alcohol-frequency  marijuana-use  \\\n",
       "A  12  2798          3.9                3.0            1.1   \n",
       "B  13  2757          8.5                6.0            3.4   \n",
       "C  14  2792         18.1                5.0            8.7   \n",
       "D  15  2956         29.2                6.0           14.5   \n",
       "E  16  3058         40.1               10.0           22.5   \n",
       "\n",
       "   marijuana-frequency  cocaine-use cocaine-frequency  crack-use  \\\n",
       "A                  4.0          0.1               5.0        0.0   \n",
       "B                 15.0          0.1               1.0        0.0   \n",
       "C                 24.0          0.1               5.5        0.0   \n",
       "D                 25.0          0.5               4.0        0.1   \n",
       "E                 30.0          1.0               7.0        0.0   \n",
       "\n",
       "  crack-frequency        ...          oxycontin-use oxycontin-frequency  \\\n",
       "A               -        ...                    0.1                24.5   \n",
       "B             3.0        ...                    0.1                41.0   \n",
       "C               -        ...                    0.4                 4.5   \n",
       "D             9.5        ...                    0.8                 3.0   \n",
       "E             1.0        ...                    1.1                 4.0   \n",
       "\n",
       "   tranquilizer-use  tranquilizer-frequency  stimulant-use  \\\n",
       "A               0.2                    52.0            0.2   \n",
       "B               0.3                    25.5            0.3   \n",
       "C               0.9                     5.0            0.8   \n",
       "D               2.0                     4.5            1.5   \n",
       "E               2.4                    11.0            1.8   \n",
       "\n",
       "  stimulant-frequency  meth-use  meth-frequency  sedative-use  \\\n",
       "A                 2.0       0.0               -           0.2   \n",
       "B                 4.0       0.1             5.0           0.1   \n",
       "C                12.0       0.1            24.0           0.2   \n",
       "D                 6.0       0.3            10.5           0.4   \n",
       "E                 9.5       0.3            36.0           0.2   \n",
       "\n",
       "  sedative-frequency  \n",
       "A               13.0  \n",
       "B               19.0  \n",
       "C               16.5  \n",
       "D               30.0  \n",
       "E                3.0  \n",
       "\n",
       "[5 rows x 28 columns]"
      ]
     },
     "execution_count": 17,
     "metadata": {},
     "output_type": "execute_result"
    }
   ],
   "source": [
    "drug.head()"
   ]
  },
  {
   "cell_type": "markdown",
   "metadata": {
    "nbpresent": {
     "id": "956f0a2a-51b8-4910-b220-3aa00d8e3848"
    },
    "slideshow": {
     "slide_type": "slide"
    }
   },
   "source": [
    "Using the **`.loc`** indexer, we can pull out the rows **B thru F** and the columns **marijuana-use and marijuana-frequency**."
   ]
  },
  {
   "cell_type": "code",
   "execution_count": 21,
   "metadata": {
    "collapsed": true,
    "nbpresent": {
     "id": "a59893a2-95e8-41cc-b5d9-e0a1fe0800d8"
    }
   },
   "outputs": [],
   "source": [
    "subset = drug.loc[['B','C','D','E','F'], ['marijuana-use','marijuana-frequency']]"
   ]
  },
  {
   "cell_type": "code",
   "execution_count": 22,
   "metadata": {
    "collapsed": false,
    "nbpresent": {
     "id": "dc4ccdda-2932-48c7-a7d7-1f1b1f30826c"
    }
   },
   "outputs": [
    {
     "data": {
      "text/html": [
       "<div>\n",
       "<table border=\"1\" class=\"dataframe\">\n",
       "  <thead>\n",
       "    <tr style=\"text-align: right;\">\n",
       "      <th></th>\n",
       "      <th>marijuana-use</th>\n",
       "      <th>marijuana-frequency</th>\n",
       "    </tr>\n",
       "  </thead>\n",
       "  <tbody>\n",
       "    <tr>\n",
       "      <th>B</th>\n",
       "      <td>3.4</td>\n",
       "      <td>15.0</td>\n",
       "    </tr>\n",
       "    <tr>\n",
       "      <th>C</th>\n",
       "      <td>8.7</td>\n",
       "      <td>24.0</td>\n",
       "    </tr>\n",
       "    <tr>\n",
       "      <th>D</th>\n",
       "      <td>14.5</td>\n",
       "      <td>25.0</td>\n",
       "    </tr>\n",
       "    <tr>\n",
       "      <th>E</th>\n",
       "      <td>22.5</td>\n",
       "      <td>30.0</td>\n",
       "    </tr>\n",
       "    <tr>\n",
       "      <th>F</th>\n",
       "      <td>28.0</td>\n",
       "      <td>36.0</td>\n",
       "    </tr>\n",
       "  </tbody>\n",
       "</table>\n",
       "</div>"
      ],
      "text/plain": [
       "   marijuana-use  marijuana-frequency\n",
       "B            3.4                 15.0\n",
       "C            8.7                 24.0\n",
       "D           14.5                 25.0\n",
       "E           22.5                 30.0\n",
       "F           28.0                 36.0"
      ]
     },
     "execution_count": 22,
     "metadata": {},
     "output_type": "execute_result"
    }
   ],
   "source": [
    "subset"
   ]
  },
  {
   "cell_type": "markdown",
   "metadata": {
    "nbpresent": {
     "id": "f11ab893-74b1-4e2d-bdd9-0c9ed30df508"
    },
    "slideshow": {
     "slide_type": "slide"
    }
   },
   "source": [
    "We can do the same thing with the **`.iloc`** indexer, but we have to use integers for the location."
   ]
  },
  {
   "cell_type": "code",
   "execution_count": 23,
   "metadata": {
    "collapsed": true,
    "nbpresent": {
     "id": "569889dd-4d0c-4286-91d0-36aff19306cd"
    }
   },
   "outputs": [],
   "source": [
    "subset = drug.iloc[[1,2,3,4,5], [4,5]]"
   ]
  },
  {
   "cell_type": "code",
   "execution_count": 24,
   "metadata": {
    "collapsed": false,
    "nbpresent": {
     "id": "2c2199b3-4aef-415b-b449-b7d18027bd4c"
    }
   },
   "outputs": [
    {
     "data": {
      "text/html": [
       "<div>\n",
       "<table border=\"1\" class=\"dataframe\">\n",
       "  <thead>\n",
       "    <tr style=\"text-align: right;\">\n",
       "      <th></th>\n",
       "      <th>marijuana-use</th>\n",
       "      <th>marijuana-frequency</th>\n",
       "    </tr>\n",
       "  </thead>\n",
       "  <tbody>\n",
       "    <tr>\n",
       "      <th>B</th>\n",
       "      <td>3.4</td>\n",
       "      <td>15.0</td>\n",
       "    </tr>\n",
       "    <tr>\n",
       "      <th>C</th>\n",
       "      <td>8.7</td>\n",
       "      <td>24.0</td>\n",
       "    </tr>\n",
       "    <tr>\n",
       "      <th>D</th>\n",
       "      <td>14.5</td>\n",
       "      <td>25.0</td>\n",
       "    </tr>\n",
       "    <tr>\n",
       "      <th>E</th>\n",
       "      <td>22.5</td>\n",
       "      <td>30.0</td>\n",
       "    </tr>\n",
       "    <tr>\n",
       "      <th>F</th>\n",
       "      <td>28.0</td>\n",
       "      <td>36.0</td>\n",
       "    </tr>\n",
       "  </tbody>\n",
       "</table>\n",
       "</div>"
      ],
      "text/plain": [
       "   marijuana-use  marijuana-frequency\n",
       "B            3.4                 15.0\n",
       "C            8.7                 24.0\n",
       "D           14.5                 25.0\n",
       "E           22.5                 30.0\n",
       "F           28.0                 36.0"
      ]
     },
     "execution_count": 24,
     "metadata": {},
     "output_type": "execute_result"
    }
   ],
   "source": [
    "subset"
   ]
  },
  {
   "cell_type": "markdown",
   "metadata": {
    "nbpresent": {
     "id": "a54d822b-89ae-4a54-924c-edc201b2a0e9"
    },
    "slideshow": {
     "slide_type": "fragment"
    }
   },
   "source": [
    "If we you to index the rows or columns with integers using **`.loc`**, you will get an error."
   ]
  },
  {
   "cell_type": "markdown",
   "metadata": {
    "nbpresent": {
     "id": "3ec249d0-5ae1-42ce-bc1c-104fe1dd6b00"
    },
    "slideshow": {
     "slide_type": "slide"
    }
   },
   "source": [
    "The **`.ix`** indexer can use both integers and labels mixed together. "
   ]
  },
  {
   "cell_type": "code",
   "execution_count": 25,
   "metadata": {
    "collapsed": true,
    "nbpresent": {
     "id": "83b31e33-de28-4810-80eb-53f385260b3c"
    }
   },
   "outputs": [],
   "source": [
    "subset = drug.ix[[1,2,3,4,5], ['marijuana-use','marijuana-frequency']]"
   ]
  },
  {
   "cell_type": "code",
   "execution_count": 26,
   "metadata": {
    "collapsed": false,
    "nbpresent": {
     "id": "c43c0432-35b9-425b-96ba-14019a451501"
    }
   },
   "outputs": [
    {
     "data": {
      "text/html": [
       "<div>\n",
       "<table border=\"1\" class=\"dataframe\">\n",
       "  <thead>\n",
       "    <tr style=\"text-align: right;\">\n",
       "      <th></th>\n",
       "      <th>marijuana-use</th>\n",
       "      <th>marijuana-frequency</th>\n",
       "    </tr>\n",
       "  </thead>\n",
       "  <tbody>\n",
       "    <tr>\n",
       "      <th>B</th>\n",
       "      <td>3.4</td>\n",
       "      <td>15.0</td>\n",
       "    </tr>\n",
       "    <tr>\n",
       "      <th>C</th>\n",
       "      <td>8.7</td>\n",
       "      <td>24.0</td>\n",
       "    </tr>\n",
       "    <tr>\n",
       "      <th>D</th>\n",
       "      <td>14.5</td>\n",
       "      <td>25.0</td>\n",
       "    </tr>\n",
       "    <tr>\n",
       "      <th>E</th>\n",
       "      <td>22.5</td>\n",
       "      <td>30.0</td>\n",
       "    </tr>\n",
       "    <tr>\n",
       "      <th>F</th>\n",
       "      <td>28.0</td>\n",
       "      <td>36.0</td>\n",
       "    </tr>\n",
       "  </tbody>\n",
       "</table>\n",
       "</div>"
      ],
      "text/plain": [
       "   marijuana-use  marijuana-frequency\n",
       "B            3.4                 15.0\n",
       "C            8.7                 24.0\n",
       "D           14.5                 25.0\n",
       "E           22.5                 30.0\n",
       "F           28.0                 36.0"
      ]
     },
     "execution_count": 26,
     "metadata": {},
     "output_type": "execute_result"
    }
   ],
   "source": [
    "subset"
   ]
  },
  {
   "cell_type": "markdown",
   "metadata": {
    "nbpresent": {
     "id": "1cfa2f3c-b792-4b5b-95a7-4bc6d2298ca6"
    },
    "slideshow": {
     "slide_type": "slide"
    }
   },
   "source": [
    "Note that you can automatically reorder the data just by re-ordering the indices that you enter when you perform the indexing operation!"
   ]
  },
  {
   "cell_type": "code",
   "execution_count": 27,
   "metadata": {
    "collapsed": true,
    "nbpresent": {
     "id": "f97deb4c-fe65-4ebf-9e59-bee182aede55"
    }
   },
   "outputs": [],
   "source": [
    "subset = drug.ix[['F','E','D'], ['marijuana-frequency','marijuana-use']]"
   ]
  },
  {
   "cell_type": "code",
   "execution_count": 28,
   "metadata": {
    "collapsed": false,
    "nbpresent": {
     "id": "a9ef2740-4a11-4f8c-9d14-8656935ec3fd"
    }
   },
   "outputs": [
    {
     "data": {
      "text/html": [
       "<div>\n",
       "<table border=\"1\" class=\"dataframe\">\n",
       "  <thead>\n",
       "    <tr style=\"text-align: right;\">\n",
       "      <th></th>\n",
       "      <th>marijuana-frequency</th>\n",
       "      <th>marijuana-use</th>\n",
       "    </tr>\n",
       "  </thead>\n",
       "  <tbody>\n",
       "    <tr>\n",
       "      <th>F</th>\n",
       "      <td>36.0</td>\n",
       "      <td>28.0</td>\n",
       "    </tr>\n",
       "    <tr>\n",
       "      <th>E</th>\n",
       "      <td>30.0</td>\n",
       "      <td>22.5</td>\n",
       "    </tr>\n",
       "    <tr>\n",
       "      <th>D</th>\n",
       "      <td>25.0</td>\n",
       "      <td>14.5</td>\n",
       "    </tr>\n",
       "  </tbody>\n",
       "</table>\n",
       "</div>"
      ],
      "text/plain": [
       "   marijuana-frequency  marijuana-use\n",
       "F                 36.0           28.0\n",
       "E                 30.0           22.5\n",
       "D                 25.0           14.5"
      ]
     },
     "execution_count": 28,
     "metadata": {},
     "output_type": "execute_result"
    }
   ],
   "source": [
    "subset"
   ]
  },
  {
   "cell_type": "markdown",
   "metadata": {
    "nbpresent": {
     "id": "b7034391-7d6d-4f08-beca-147e18036001"
    },
    "slideshow": {
     "slide_type": "slide"
    }
   },
   "source": [
    "<a id='creating_dataframes'></a>\n",
    "\n",
    "### Creating DataFrames\n",
    "\n",
    "---\n",
    "\n",
    "The simplest way to create your own dataframe when not importing from a file is to give the ```pd.DataFrame()``` instantiator a dictionary."
   ]
  },
  {
   "cell_type": "code",
   "execution_count": 19,
   "metadata": {
    "collapsed": false,
    "nbpresent": {
     "id": "c42d85ec-a9a6-4880-84c5-1b73ace2341b"
    }
   },
   "outputs": [],
   "source": [
    "mydata = pd.DataFrame({'Letters':['A','B','C'], 'Integers':[1,2,3], 'Floats':[2.2, 3.3, 4.4]})"
   ]
  },
  {
   "cell_type": "code",
   "execution_count": 21,
   "metadata": {
    "collapsed": false,
    "nbpresent": {
     "id": "7e00119c-0641-4eaf-9432-dc3dffc68669"
    }
   },
   "outputs": [
    {
     "data": {
      "text/html": [
       "<div>\n",
       "<table border=\"1\" class=\"dataframe\">\n",
       "  <thead>\n",
       "    <tr style=\"text-align: right;\">\n",
       "      <th></th>\n",
       "      <th>Floats</th>\n",
       "      <th>Integers</th>\n",
       "      <th>Letters</th>\n",
       "    </tr>\n",
       "  </thead>\n",
       "  <tbody>\n",
       "    <tr>\n",
       "      <th>0</th>\n",
       "      <td>2.2</td>\n",
       "      <td>1</td>\n",
       "      <td>A</td>\n",
       "    </tr>\n",
       "    <tr>\n",
       "      <th>1</th>\n",
       "      <td>3.3</td>\n",
       "      <td>2</td>\n",
       "      <td>B</td>\n",
       "    </tr>\n",
       "    <tr>\n",
       "      <th>2</th>\n",
       "      <td>4.4</td>\n",
       "      <td>3</td>\n",
       "      <td>C</td>\n",
       "    </tr>\n",
       "  </tbody>\n",
       "</table>\n",
       "</div>"
      ],
      "text/plain": [
       "   Floats  Integers Letters\n",
       "0     2.2         1       A\n",
       "1     3.3         2       B\n",
       "2     4.4         3       C"
      ]
     },
     "execution_count": 21,
     "metadata": {},
     "output_type": "execute_result"
    }
   ],
   "source": [
    "mydata['Letters']\n",
    "mydata"
   ]
  },
  {
   "cell_type": "markdown",
   "metadata": {
    "nbpresent": {
     "id": "61856902-23ac-482d-bf1e-791d84e2caad"
    },
    "slideshow": {
     "slide_type": "fragment"
    }
   },
   "source": [
    "As you might expect, the dictionary needs to have lists of values that are all the same length. The keys correspond to the names of the columns and the values correspond to the data in the columns."
   ]
  },
  {
   "cell_type": "markdown",
   "metadata": {
    "nbpresent": {
     "id": "4286b323-71b5-4b3e-ad37-bf17b63f04e9"
    },
    "slideshow": {
     "slide_type": "slide"
    }
   },
   "source": [
    "<a id='dtypes'></a>\n",
    "\n",
    "### Examining data types\n",
    "\n",
    "---\n",
    "\n",
    "Pandas comes with a useful property to look at just the data types of your DataFrame columns. Use ```.dtypes``` on your DataFrame:"
   ]
  },
  {
   "cell_type": "code",
   "execution_count": 31,
   "metadata": {
    "collapsed": false,
    "nbpresent": {
     "id": "14c76064-13e1-4f4c-a4a2-82ed0b5897e1"
    },
    "slideshow": {
     "slide_type": "-"
    }
   },
   "outputs": [
    {
     "data": {
      "text/plain": [
       "Floats      float64\n",
       "Integers      int64\n",
       "Letters      object\n",
       "dtype: object"
      ]
     },
     "execution_count": 31,
     "metadata": {},
     "output_type": "execute_result"
    }
   ],
   "source": [
    "mydata.dtypes"
   ]
  },
  {
   "cell_type": "markdown",
   "metadata": {
    "nbpresent": {
     "id": "5f2b8742-e66b-4b2c-987e-48075bf691c6"
    },
    "slideshow": {
     "slide_type": "fragment"
    }
   },
   "source": [
    "This will show you what data type each column is. Strings are stored as a type called \"object\" because they are not guaranteed to take up a set amount of space (strings can be of any length)."
   ]
  },
  {
   "cell_type": "markdown",
   "metadata": {
    "nbpresent": {
     "id": "12862adc-f2f7-4d44-8d6b-56415ba46aff"
    },
    "slideshow": {
     "slide_type": "slide"
    }
   },
   "source": [
    "<a id='renaming_assignment'></a>\n",
    "\n",
    "### Renaming and Assignment\n",
    "\n",
    "---\n",
    "\n",
    "Pandas makes it easy to change column names and assign values to your DataFrame.\n",
    "\n",
    "Say we wanted to change the column name \"Integers\" to \"int\":"
   ]
  },
  {
   "cell_type": "code",
   "execution_count": 32,
   "metadata": {
    "collapsed": false,
    "nbpresent": {
     "id": "d00b8c41-4221-45e1-a598-02fa2da5f703"
    }
   },
   "outputs": [
    {
     "name": "stdout",
     "output_type": "stream",
     "text": [
      "Index([u'Floats', u'int', u'Letters'], dtype='object')\n"
     ]
    }
   ],
   "source": [
    "mydata.rename(columns={mydata.columns[1]:'int'}, inplace=True) # inplace = True updates mydata\n",
    "print(mydata.columns)"
   ]
  },
  {
   "cell_type": "code",
   "execution_count": 33,
   "metadata": {
    "collapsed": false,
    "nbpresent": {
     "id": "578ba013-df3e-4f28-b338-57d0742b928b"
    }
   },
   "outputs": [
    {
     "data": {
      "text/html": [
       "<div>\n",
       "<table border=\"1\" class=\"dataframe\">\n",
       "  <thead>\n",
       "    <tr style=\"text-align: right;\">\n",
       "      <th></th>\n",
       "      <th>Floats</th>\n",
       "      <th>int</th>\n",
       "      <th>Letters</th>\n",
       "    </tr>\n",
       "  </thead>\n",
       "  <tbody>\n",
       "    <tr>\n",
       "      <th>0</th>\n",
       "      <td>2.2</td>\n",
       "      <td>1</td>\n",
       "      <td>A</td>\n",
       "    </tr>\n",
       "    <tr>\n",
       "      <th>1</th>\n",
       "      <td>3.3</td>\n",
       "      <td>2</td>\n",
       "      <td>B</td>\n",
       "    </tr>\n",
       "    <tr>\n",
       "      <th>2</th>\n",
       "      <td>4.4</td>\n",
       "      <td>3</td>\n",
       "      <td>C</td>\n",
       "    </tr>\n",
       "  </tbody>\n",
       "</table>\n",
       "</div>"
      ],
      "text/plain": [
       "   Floats  int Letters\n",
       "0     2.2    1       A\n",
       "1     3.3    2       B\n",
       "2     4.4    3       C"
      ]
     },
     "execution_count": 33,
     "metadata": {},
     "output_type": "execute_result"
    }
   ],
   "source": [
    "mydata"
   ]
  },
  {
   "cell_type": "markdown",
   "metadata": {
    "nbpresent": {
     "id": "36b7b0d7-0cfc-4ded-ae1b-f8003a92bb30"
    },
    "slideshow": {
     "slide_type": "fragment"
    }
   },
   "source": [
    "If you wanted to change every column name, you could just assign a new list to the ```.columns``` property."
   ]
  },
  {
   "cell_type": "code",
   "execution_count": 34,
   "metadata": {
    "collapsed": false,
    "nbpresent": {
     "id": "d5070ee2-eecf-4709-b601-f28861d353c0"
    }
   },
   "outputs": [
    {
     "name": "stdout",
     "output_type": "stream",
     "text": [
      "     A  B  C\n",
      "0  2.2  1  A\n",
      "1  3.3  2  B\n",
      "2  4.4  3  C\n"
     ]
    }
   ],
   "source": [
    "mydata.columns = ['A','B','C']\n",
    "print(mydata.head())"
   ]
  },
  {
   "cell_type": "markdown",
   "metadata": {
    "nbpresent": {
     "id": "3d67b602-b799-4b15-850b-d214529a0914"
    },
    "slideshow": {
     "slide_type": "slide"
    }
   },
   "source": [
    "We can assign values using the indexing that we learned before.\n",
    "\n",
    "Let's change the newly renamed \"B\" column at row index 1 to be 100."
   ]
  },
  {
   "cell_type": "code",
   "execution_count": 35,
   "metadata": {
    "collapsed": false,
    "nbpresent": {
     "id": "ae7deca4-3428-441f-aa5f-8bfe4177f741"
    }
   },
   "outputs": [
    {
     "name": "stdout",
     "output_type": "stream",
     "text": [
      "     A    B  C\n",
      "0  2.2    1  A\n",
      "1  3.3  100  B\n",
      "2  4.4    3  C\n"
     ]
    }
   ],
   "source": [
    "mydata.ix[1, 'B'] = 100\n",
    "print(mydata.head())"
   ]
  },
  {
   "cell_type": "markdown",
   "metadata": {
    "nbpresent": {
     "id": "bea2b551-07a7-408b-9017-bf24c32e636c"
    },
    "slideshow": {
     "slide_type": "fragment"
    }
   },
   "source": [
    "Alternatively we can assign multiple values at once with lists."
   ]
  },
  {
   "cell_type": "code",
   "execution_count": 36,
   "metadata": {
    "collapsed": false,
    "nbpresent": {
     "id": "c25c6bae-7399-4b43-98dd-4679147f756c"
    }
   },
   "outputs": [
    {
     "name": "stdout",
     "output_type": "stream",
     "text": [
      "   A    B  C\n",
      "0  0    1  A\n",
      "1  0  100  B\n",
      "2  0    3  C\n",
      "   A     B          C\n",
      "0  0 -1000  newstring\n",
      "1  0   100          B\n",
      "2  0     3          C\n"
     ]
    }
   ],
   "source": [
    "mydata.ix[:, 'A'] = [0,0,0]\n",
    "print(mydata.head())\n",
    "\n",
    "mydata.ix[0, ['B','C']] = [-1000, 'newstring']\n",
    "print(mydata.head())"
   ]
  },
  {
   "cell_type": "markdown",
   "metadata": {
    "nbpresent": {
     "id": "490dbfcd-2ae4-4034-b60e-b9b4e6411ad2"
    },
    "slideshow": {
     "slide_type": "slide"
    }
   },
   "source": [
    "<a id='basic_plotting'></a>\n",
    "\n",
    "### Basic plotting using DataFrames\n",
    "\n",
    "---\n",
    "\n",
    "DataFrames also come with some basic convenience functions for plotting data. First import matplotlib and set it to run \"inline\" in your notebook."
   ]
  },
  {
   "cell_type": "code",
   "execution_count": 26,
   "metadata": {
    "collapsed": true,
    "nbpresent": {
     "id": "d1a06a70-a1e6-4b6c-9ee7-cc13127f26e5"
    }
   },
   "outputs": [],
   "source": [
    "import matplotlib.pyplot as plt\n",
    "\n",
    "%matplotlib inline"
   ]
  },
  {
   "cell_type": "markdown",
   "metadata": {
    "nbpresent": {
     "id": "fff80c48-a06e-43ca-b714-c811fd23650e"
    },
    "slideshow": {
     "slide_type": "slide"
    }
   },
   "source": [
    "Using our ```drug``` DataFrame again, use the ```.plot()``` function to plot the **age** columns against the **marijuana-use** column."
   ]
  },
  {
   "cell_type": "code",
   "execution_count": 27,
   "metadata": {
    "collapsed": false,
    "nbpresent": {
     "id": "9578a9c1-8f36-4851-a498-6814bcdcc8a8"
    }
   },
   "outputs": [
    {
     "data": {
      "text/plain": [
       "<matplotlib.axes._subplots.AxesSubplot at 0x1140aad10>"
      ]
     },
     "execution_count": 27,
     "metadata": {},
     "output_type": "execute_result"
    },
    {
     "data": {
      "image/png": "[encoded data removed]",
      "text/plain": [
       "<matplotlib.figure.Figure at 0x11412a2d0>"
      ]
     },
     "metadata": {},
     "output_type": "display_data"
    }
   ],
   "source": [
    "drug.plot(x='age', y='marijuana-use')"
   ]
  },
  {
   "cell_type": "markdown",
   "metadata": {
    "nbpresent": {
     "id": "72cc9674-6fd5-4f4c-abc8-a17dbdb4ab1d"
    },
    "slideshow": {
     "slide_type": "slide"
    }
   },
   "source": [
    "The ```.hist()``` function will create a histogram for a column's values."
   ]
  },
  {
   "cell_type": "code",
   "execution_count": 30,
   "metadata": {
    "collapsed": false,
    "nbpresent": {
     "id": "f52830de-3357-4add-97eb-63bbfc5b1322"
    }
   },
   "outputs": [
    {
     "data": {
      "text/plain": [
       "array([[<matplotlib.axes._subplots.AxesSubplot object at 0x114395390>]], dtype=object)"
      ]
     },
     "execution_count": 30,
     "metadata": {},
     "output_type": "execute_result"
    },
    {
     "data": {
      "image/png": "[encoded data removed]",
      "text/plain": [
       "<matplotlib.figure.Figure at 0x1142fbd50>"
      ]
     },
     "metadata": {},
     "output_type": "display_data"
    }
   ],
   "source": [
    "drug.hist('marijuana-use')\n"
   ]
  },
  {
   "cell_type": "markdown",
   "metadata": {
    "nbpresent": {
     "id": "5c69fcba-b6ce-461a-9c46-3caa19061490"
    },
    "slideshow": {
     "slide_type": "slide"
    }
   },
   "source": [
    "<a id='filtering'></a>\n",
    "\n",
    "### Filtering Logic\n",
    "\n",
    "---\n",
    "\n",
    "One of the most powerful features of DataFrames is using logical commands to filter data.\n",
    "\n",
    "Subset the ```drug``` data for only the rows where marijuana-use is greater than 20."
   ]
  },
  {
   "cell_type": "code",
   "execution_count": 32,
   "metadata": {
    "collapsed": false,
    "nbpresent": {
     "id": "36249690-74cb-4ace-8f49-ad32fc259194"
    },
    "slideshow": {
     "slide_type": "fragment"
    }
   },
   "outputs": [
    {
     "data": {
      "text/html": [
       "<div>\n",
       "<table border=\"1\" class=\"dataframe\">\n",
       "  <thead>\n",
       "    <tr style=\"text-align: right;\">\n",
       "      <th></th>\n",
       "      <th>age</th>\n",
       "      <th>n</th>\n",
       "      <th>alcohol-use</th>\n",
       "      <th>alcohol-frequency</th>\n",
       "      <th>marijuana-use</th>\n",
       "      <th>marijuana-frequency</th>\n",
       "      <th>cocaine-use</th>\n",
       "      <th>cocaine-frequency</th>\n",
       "      <th>crack-use</th>\n",
       "      <th>crack-frequency</th>\n",
       "      <th>...</th>\n",
       "      <th>oxycontin-use</th>\n",
       "      <th>oxycontin-frequency</th>\n",
       "      <th>tranquilizer-use</th>\n",
       "      <th>tranquilizer-frequency</th>\n",
       "      <th>stimulant-use</th>\n",
       "      <th>stimulant-frequency</th>\n",
       "      <th>meth-use</th>\n",
       "      <th>meth-frequency</th>\n",
       "      <th>sedative-use</th>\n",
       "      <th>sedative-frequency</th>\n",
       "    </tr>\n",
       "  </thead>\n",
       "  <tbody>\n",
       "    <tr>\n",
       "      <th>E</th>\n",
       "      <td>16</td>\n",
       "      <td>3058</td>\n",
       "      <td>40.1</td>\n",
       "      <td>10.0</td>\n",
       "      <td>22.5</td>\n",
       "      <td>30.0</td>\n",
       "      <td>1.0</td>\n",
       "      <td>7.0</td>\n",
       "      <td>0.0</td>\n",
       "      <td>1.0</td>\n",
       "      <td>...</td>\n",
       "      <td>1.1</td>\n",
       "      <td>4.0</td>\n",
       "      <td>2.4</td>\n",
       "      <td>11.0</td>\n",
       "      <td>1.8</td>\n",
       "      <td>9.5</td>\n",
       "      <td>0.3</td>\n",
       "      <td>36.0</td>\n",
       "      <td>0.2</td>\n",
       "      <td>3.0</td>\n",
       "    </tr>\n",
       "    <tr>\n",
       "      <th>F</th>\n",
       "      <td>17</td>\n",
       "      <td>3038</td>\n",
       "      <td>49.3</td>\n",
       "      <td>13.0</td>\n",
       "      <td>28.0</td>\n",
       "      <td>36.0</td>\n",
       "      <td>2.0</td>\n",
       "      <td>5.0</td>\n",
       "      <td>0.1</td>\n",
       "      <td>21.0</td>\n",
       "      <td>...</td>\n",
       "      <td>1.4</td>\n",
       "      <td>6.0</td>\n",
       "      <td>3.5</td>\n",
       "      <td>7.0</td>\n",
       "      <td>2.8</td>\n",
       "      <td>9.0</td>\n",
       "      <td>0.6</td>\n",
       "      <td>48.0</td>\n",
       "      <td>0.5</td>\n",
       "      <td>6.5</td>\n",
       "    </tr>\n",
       "    <tr>\n",
       "      <th>G</th>\n",
       "      <td>18</td>\n",
       "      <td>2469</td>\n",
       "      <td>58.7</td>\n",
       "      <td>24.0</td>\n",
       "      <td>33.7</td>\n",
       "      <td>52.0</td>\n",
       "      <td>3.2</td>\n",
       "      <td>5.0</td>\n",
       "      <td>0.4</td>\n",
       "      <td>10.0</td>\n",
       "      <td>...</td>\n",
       "      <td>1.7</td>\n",
       "      <td>7.0</td>\n",
       "      <td>4.9</td>\n",
       "      <td>12.0</td>\n",
       "      <td>3.0</td>\n",
       "      <td>8.0</td>\n",
       "      <td>0.5</td>\n",
       "      <td>12.0</td>\n",
       "      <td>0.4</td>\n",
       "      <td>10.0</td>\n",
       "    </tr>\n",
       "    <tr>\n",
       "      <th>H</th>\n",
       "      <td>19</td>\n",
       "      <td>2223</td>\n",
       "      <td>64.6</td>\n",
       "      <td>36.0</td>\n",
       "      <td>33.4</td>\n",
       "      <td>60.0</td>\n",
       "      <td>4.1</td>\n",
       "      <td>5.5</td>\n",
       "      <td>0.5</td>\n",
       "      <td>2.0</td>\n",
       "      <td>...</td>\n",
       "      <td>1.5</td>\n",
       "      <td>7.5</td>\n",
       "      <td>4.2</td>\n",
       "      <td>4.5</td>\n",
       "      <td>3.3</td>\n",
       "      <td>6.0</td>\n",
       "      <td>0.4</td>\n",
       "      <td>105.0</td>\n",
       "      <td>0.3</td>\n",
       "      <td>6.0</td>\n",
       "    </tr>\n",
       "    <tr>\n",
       "      <th>I</th>\n",
       "      <td>20</td>\n",
       "      <td>2271</td>\n",
       "      <td>69.7</td>\n",
       "      <td>48.0</td>\n",
       "      <td>34.0</td>\n",
       "      <td>60.0</td>\n",
       "      <td>4.9</td>\n",
       "      <td>8.0</td>\n",
       "      <td>0.6</td>\n",
       "      <td>5.0</td>\n",
       "      <td>...</td>\n",
       "      <td>1.7</td>\n",
       "      <td>12.0</td>\n",
       "      <td>5.4</td>\n",
       "      <td>10.0</td>\n",
       "      <td>4.0</td>\n",
       "      <td>12.0</td>\n",
       "      <td>0.9</td>\n",
       "      <td>12.0</td>\n",
       "      <td>0.5</td>\n",
       "      <td>4.0</td>\n",
       "    </tr>\n",
       "    <tr>\n",
       "      <th>J</th>\n",
       "      <td>21</td>\n",
       "      <td>2354</td>\n",
       "      <td>83.2</td>\n",
       "      <td>52.0</td>\n",
       "      <td>33.0</td>\n",
       "      <td>52.0</td>\n",
       "      <td>4.8</td>\n",
       "      <td>5.0</td>\n",
       "      <td>0.5</td>\n",
       "      <td>17.0</td>\n",
       "      <td>...</td>\n",
       "      <td>1.3</td>\n",
       "      <td>13.5</td>\n",
       "      <td>3.9</td>\n",
       "      <td>7.0</td>\n",
       "      <td>4.1</td>\n",
       "      <td>10.0</td>\n",
       "      <td>0.6</td>\n",
       "      <td>2.0</td>\n",
       "      <td>0.3</td>\n",
       "      <td>9.0</td>\n",
       "    </tr>\n",
       "    <tr>\n",
       "      <th>K</th>\n",
       "      <td>22-23</td>\n",
       "      <td>4707</td>\n",
       "      <td>84.2</td>\n",
       "      <td>52.0</td>\n",
       "      <td>28.4</td>\n",
       "      <td>52.0</td>\n",
       "      <td>4.5</td>\n",
       "      <td>5.0</td>\n",
       "      <td>0.5</td>\n",
       "      <td>5.0</td>\n",
       "      <td>...</td>\n",
       "      <td>1.7</td>\n",
       "      <td>17.5</td>\n",
       "      <td>4.4</td>\n",
       "      <td>12.0</td>\n",
       "      <td>3.6</td>\n",
       "      <td>10.0</td>\n",
       "      <td>0.6</td>\n",
       "      <td>46.0</td>\n",
       "      <td>0.2</td>\n",
       "      <td>52.0</td>\n",
       "    </tr>\n",
       "    <tr>\n",
       "      <th>L</th>\n",
       "      <td>24-25</td>\n",
       "      <td>4591</td>\n",
       "      <td>83.1</td>\n",
       "      <td>52.0</td>\n",
       "      <td>24.9</td>\n",
       "      <td>60.0</td>\n",
       "      <td>4.0</td>\n",
       "      <td>6.0</td>\n",
       "      <td>0.5</td>\n",
       "      <td>6.0</td>\n",
       "      <td>...</td>\n",
       "      <td>1.3</td>\n",
       "      <td>20.0</td>\n",
       "      <td>4.3</td>\n",
       "      <td>10.0</td>\n",
       "      <td>2.6</td>\n",
       "      <td>10.0</td>\n",
       "      <td>0.7</td>\n",
       "      <td>21.0</td>\n",
       "      <td>0.2</td>\n",
       "      <td>17.5</td>\n",
       "    </tr>\n",
       "    <tr>\n",
       "      <th>M</th>\n",
       "      <td>26-29</td>\n",
       "      <td>2628</td>\n",
       "      <td>80.7</td>\n",
       "      <td>52.0</td>\n",
       "      <td>20.8</td>\n",
       "      <td>52.0</td>\n",
       "      <td>3.2</td>\n",
       "      <td>5.0</td>\n",
       "      <td>0.4</td>\n",
       "      <td>6.0</td>\n",
       "      <td>...</td>\n",
       "      <td>1.2</td>\n",
       "      <td>13.5</td>\n",
       "      <td>4.2</td>\n",
       "      <td>10.0</td>\n",
       "      <td>2.3</td>\n",
       "      <td>7.0</td>\n",
       "      <td>0.6</td>\n",
       "      <td>30.0</td>\n",
       "      <td>0.4</td>\n",
       "      <td>4.0</td>\n",
       "    </tr>\n",
       "  </tbody>\n",
       "</table>\n",
       "<p>9 rows × 28 columns</p>\n",
       "</div>"
      ],
      "text/plain": [
       "     age     n  alcohol-use  alcohol-frequency  marijuana-use  \\\n",
       "E     16  3058         40.1               10.0           22.5   \n",
       "F     17  3038         49.3               13.0           28.0   \n",
       "G     18  2469         58.7               24.0           33.7   \n",
       "H     19  2223         64.6               36.0           33.4   \n",
       "I     20  2271         69.7               48.0           34.0   \n",
       "J     21  2354         83.2               52.0           33.0   \n",
       "K  22-23  4707         84.2               52.0           28.4   \n",
       "L  24-25  4591         83.1               52.0           24.9   \n",
       "M  26-29  2628         80.7               52.0           20.8   \n",
       "\n",
       "   marijuana-frequency  cocaine-use cocaine-frequency  crack-use  \\\n",
       "E                 30.0          1.0               7.0        0.0   \n",
       "F                 36.0          2.0               5.0        0.1   \n",
       "G                 52.0          3.2               5.0        0.4   \n",
       "H                 60.0          4.1               5.5        0.5   \n",
       "I                 60.0          4.9               8.0        0.6   \n",
       "J                 52.0          4.8               5.0        0.5   \n",
       "K                 52.0          4.5               5.0        0.5   \n",
       "L                 60.0          4.0               6.0        0.5   \n",
       "M                 52.0          3.2               5.0        0.4   \n",
       "\n",
       "  crack-frequency        ...          oxycontin-use oxycontin-frequency  \\\n",
       "E             1.0        ...                    1.1                 4.0   \n",
       "F            21.0        ...                    1.4                 6.0   \n",
       "G            10.0        ...                    1.7                 7.0   \n",
       "H             2.0        ...                    1.5                 7.5   \n",
       "I             5.0        ...                    1.7                12.0   \n",
       "J            17.0        ...                    1.3                13.5   \n",
       "K             5.0        ...                    1.7                17.5   \n",
       "L             6.0        ...                    1.3                20.0   \n",
       "M             6.0        ...                    1.2                13.5   \n",
       "\n",
       "   tranquilizer-use  tranquilizer-frequency  stimulant-use  \\\n",
       "E               2.4                    11.0            1.8   \n",
       "F               3.5                     7.0            2.8   \n",
       "G               4.9                    12.0            3.0   \n",
       "H               4.2                     4.5            3.3   \n",
       "I               5.4                    10.0            4.0   \n",
       "J               3.9                     7.0            4.1   \n",
       "K               4.4                    12.0            3.6   \n",
       "L               4.3                    10.0            2.6   \n",
       "M               4.2                    10.0            2.3   \n",
       "\n",
       "  stimulant-frequency  meth-use  meth-frequency  sedative-use  \\\n",
       "E                 9.5       0.3            36.0           0.2   \n",
       "F                 9.0       0.6            48.0           0.5   \n",
       "G                 8.0       0.5            12.0           0.4   \n",
       "H                 6.0       0.4           105.0           0.3   \n",
       "I                12.0       0.9            12.0           0.5   \n",
       "J                10.0       0.6             2.0           0.3   \n",
       "K                10.0       0.6            46.0           0.2   \n",
       "L                10.0       0.7            21.0           0.2   \n",
       "M                 7.0       0.6            30.0           0.4   \n",
       "\n",
       "  sedative-frequency  \n",
       "E                3.0  \n",
       "F                6.5  \n",
       "G               10.0  \n",
       "H                6.0  \n",
       "I                4.0  \n",
       "J                9.0  \n",
       "K               52.0  \n",
       "L               17.5  \n",
       "M                4.0  \n",
       "\n",
       "[9 rows x 28 columns]"
      ]
     },
     "execution_count": 32,
     "metadata": {},
     "output_type": "execute_result"
    }
   ],
   "source": [
    "drug[drug['marijuana-use'] > 20]"
   ]
  },
  {
   "cell_type": "markdown",
   "metadata": {
    "nbpresent": {
     "id": "c3556d0f-27ad-4e34-b711-d6b6082d3c80"
    },
    "slideshow": {
     "slide_type": "slide"
    }
   },
   "source": [
    "The ampersand sign can be used to subset where multiple conditions need to be met for each row. \n",
    "\n",
    "Subset the data for marijuana use over 20, as before, but now also where the n is greater than 4000."
   ]
  },
  {
   "cell_type": "code",
   "execution_count": 37,
   "metadata": {
    "collapsed": false,
    "nbpresent": {
     "id": "735e4207-e303-4226-914f-0f4f581c9f08"
    },
    "scrolled": true
   },
   "outputs": [
    {
     "data": {
      "text/html": [
       "<div>\n",
       "<table border=\"1\" class=\"dataframe\">\n",
       "  <thead>\n",
       "    <tr style=\"text-align: right;\">\n",
       "      <th></th>\n",
       "      <th>age</th>\n",
       "      <th>n</th>\n",
       "      <th>alcohol-use</th>\n",
       "      <th>alcohol-frequency</th>\n",
       "      <th>marijuana-use</th>\n",
       "      <th>marijuana-frequency</th>\n",
       "      <th>cocaine-use</th>\n",
       "      <th>cocaine-frequency</th>\n",
       "      <th>crack-use</th>\n",
       "      <th>crack-frequency</th>\n",
       "      <th>...</th>\n",
       "      <th>oxycontin-use</th>\n",
       "      <th>oxycontin-frequency</th>\n",
       "      <th>tranquilizer-use</th>\n",
       "      <th>tranquilizer-frequency</th>\n",
       "      <th>stimulant-use</th>\n",
       "      <th>stimulant-frequency</th>\n",
       "      <th>meth-use</th>\n",
       "      <th>meth-frequency</th>\n",
       "      <th>sedative-use</th>\n",
       "      <th>sedative-frequency</th>\n",
       "    </tr>\n",
       "  </thead>\n",
       "  <tbody>\n",
       "    <tr>\n",
       "      <th>K</th>\n",
       "      <td>22-23</td>\n",
       "      <td>4707</td>\n",
       "      <td>84.2</td>\n",
       "      <td>52.0</td>\n",
       "      <td>28.4</td>\n",
       "      <td>52.0</td>\n",
       "      <td>4.5</td>\n",
       "      <td>5.0</td>\n",
       "      <td>0.5</td>\n",
       "      <td>5.0</td>\n",
       "      <td>...</td>\n",
       "      <td>1.7</td>\n",
       "      <td>17.5</td>\n",
       "      <td>4.4</td>\n",
       "      <td>12.0</td>\n",
       "      <td>3.6</td>\n",
       "      <td>10.0</td>\n",
       "      <td>0.6</td>\n",
       "      <td>46.0</td>\n",
       "      <td>0.2</td>\n",
       "      <td>52.0</td>\n",
       "    </tr>\n",
       "    <tr>\n",
       "      <th>L</th>\n",
       "      <td>24-25</td>\n",
       "      <td>4591</td>\n",
       "      <td>83.1</td>\n",
       "      <td>52.0</td>\n",
       "      <td>24.9</td>\n",
       "      <td>60.0</td>\n",
       "      <td>4.0</td>\n",
       "      <td>6.0</td>\n",
       "      <td>0.5</td>\n",
       "      <td>6.0</td>\n",
       "      <td>...</td>\n",
       "      <td>1.3</td>\n",
       "      <td>20.0</td>\n",
       "      <td>4.3</td>\n",
       "      <td>10.0</td>\n",
       "      <td>2.6</td>\n",
       "      <td>10.0</td>\n",
       "      <td>0.7</td>\n",
       "      <td>21.0</td>\n",
       "      <td>0.2</td>\n",
       "      <td>17.5</td>\n",
       "    </tr>\n",
       "  </tbody>\n",
       "</table>\n",
       "<p>2 rows × 28 columns</p>\n",
       "</div>"
      ],
      "text/plain": [
       "     age     n  alcohol-use  alcohol-frequency  marijuana-use  \\\n",
       "K  22-23  4707         84.2               52.0           28.4   \n",
       "L  24-25  4591         83.1               52.0           24.9   \n",
       "\n",
       "   marijuana-frequency  cocaine-use cocaine-frequency  crack-use  \\\n",
       "K                 52.0          4.5               5.0        0.5   \n",
       "L                 60.0          4.0               6.0        0.5   \n",
       "\n",
       "  crack-frequency        ...          oxycontin-use oxycontin-frequency  \\\n",
       "K             5.0        ...                    1.7                17.5   \n",
       "L             6.0        ...                    1.3                20.0   \n",
       "\n",
       "   tranquilizer-use  tranquilizer-frequency  stimulant-use  \\\n",
       "K               4.4                    12.0            3.6   \n",
       "L               4.3                    10.0            2.6   \n",
       "\n",
       "  stimulant-frequency  meth-use  meth-frequency  sedative-use  \\\n",
       "K                10.0       0.6            46.0           0.2   \n",
       "L                10.0       0.7            21.0           0.2   \n",
       "\n",
       "  sedative-frequency  \n",
       "K               52.0  \n",
       "L               17.5  \n",
       "\n",
       "[2 rows x 28 columns]"
      ]
     },
     "execution_count": 37,
     "metadata": {},
     "output_type": "execute_result"
    }
   ],
   "source": [
    "drug[(drug['marijuana-use'] > 20) & (drug.n > 4000)]"
   ]
  },
  {
   "cell_type": "markdown",
   "metadata": {
    "slideshow": {
     "slide_type": "slide"
    }
   },
   "source": [
    "<a id='review'></a>\n",
    "\n",
    "### Review\n",
    "\n",
    "---\n",
    "\n",
    " - What would we do with a dataset when we first acquire it?\n",
    " - What's important to consider when first looking at a dataset? \n",
    " - What are some common problems we can run into with new data?\n",
    " - What are some common operations with DataFrames?\n",
    " - How do we slice? Index? Filter?"
   ]
  }
 ],
 "metadata": {
  "anaconda-cloud": {},
  "celltoolbar": "Slideshow",
  "kernelspec": {
   "display_name": "Python 2",
   "language": "python",
   "name": "python2"
  },
  "language_info": {
   "codemirror_mode": {
    "name": "ipython",
    "version": 2
   },
   "file_extension": ".py",
   "mimetype": "text/x-python",
   "name": "python",
   "nbconvert_exporter": "python",
   "pygments_lexer": "ipython2",
   "version": "2.7.13"
  },
  "nbpresent": {
   "slides": {
    "5d802dcc-eba2-49cc-b8a7-4ba12c601026": {
     "id": "5d802dcc-eba2-49cc-b8a7-4ba12c601026",
     "prev": null,
     "regions": {
      "19d2ea1f-046e-4733-8563-5001186e649c": {
       "attrs": {
        "height": 1,
        "width": 1,
        "x": 0,
        "y": 0
       },
       "content": {
        "cell": "3433c1f4-195d-4a6b-8ad6-961d54c4c96d",
        "part": "source"
       },
       "id": "19d2ea1f-046e-4733-8563-5001186e649c"
      }
     },
     "theme": null
    },
    "b84d227e-3775-4693-a414-689ea9c77c6f": {
     "id": "b84d227e-3775-4693-a414-689ea9c77c6f",
     "prev": "c9e607c1-dc97-4a52-a24b-c5fa7fec789f",
     "regions": {
      "f05b4e9e-0831-49cc-8a61-40c615d0aed6": {
       "attrs": {
        "height": 1,
        "width": 1,
        "x": 0,
        "y": 0
       },
       "content": {
        "cell": "e9917673-4eb8-403d-95ba-3068360f3dcd",
        "part": "source"
       },
       "id": "f05b4e9e-0831-49cc-8a61-40c615d0aed6"
      }
     }
    },
    "c9e607c1-dc97-4a52-a24b-c5fa7fec789f": {
     "id": "c9e607c1-dc97-4a52-a24b-c5fa7fec789f",
     "prev": "5d802dcc-eba2-49cc-b8a7-4ba12c601026",
     "regions": {
      "be473921-0ea3-42d1-9fd2-6b9257a8966d": {
       "attrs": {
        "height": 1,
        "width": 1,
        "x": 0,
        "y": 0
       },
       "id": "be473921-0ea3-42d1-9fd2-6b9257a8966d"
      }
     }
    }
   },
   "themes": {
    "default": "5fe298e2-cc87-47e9-b12c-6f4471f17350",
    "theme": {
     "5fe298e2-cc87-47e9-b12c-6f4471f17350": {
      "id": "5fe298e2-cc87-47e9-b12c-6f4471f17350",
      "palette": {
       "19cc588f-0593-49c9-9f4b-e4d7cc113b1c": {
        "id": "19cc588f-0593-49c9-9f4b-e4d7cc113b1c",
        "rgb": [
         252,
         252,
         252
        ]
       },
       "31af15d2-7e15-44c5-ab5e-e04b16a89eff": {
        "id": "31af15d2-7e15-44c5-ab5e-e04b16a89eff",
        "rgb": [
         68,
         68,
         68
        ]
       },
       "50f92c45-a630-455b-aec3-788680ec7410": {
        "id": "50f92c45-a630-455b-aec3-788680ec7410",
        "rgb": [
         155,
         177,
         192
        ]
       },
       "c5cc3653-2ee1-402a-aba2-7caae1da4f6c": {
        "id": "c5cc3653-2ee1-402a-aba2-7caae1da4f6c",
        "rgb": [
         43,
         126,
         184
        ]
       },
       "efa7f048-9acb-414c-8b04-a26811511a21": {
        "id": "efa7f048-9acb-414c-8b04-a26811511a21",
        "rgb": [
         25.118061674008803,
         73.60176211453744,
         107.4819383259912
        ]
       }
      },
      "rules": {
       "blockquote": {
        "color": "50f92c45-a630-455b-aec3-788680ec7410"
       },
       "code": {
        "font-family": "Anonymous Pro"
       },
       "h1": {
        "color": "c5cc3653-2ee1-402a-aba2-7caae1da4f6c",
        "font-family": "Lato",
        "font-size": 8
       },
       "h2": {
        "color": "c5cc3653-2ee1-402a-aba2-7caae1da4f6c",
        "font-family": "Lato",
        "font-size": 6
       },
       "h3": {
        "color": "50f92c45-a630-455b-aec3-788680ec7410",
        "font-family": "Lato",
        "font-size": 5.5
       },
       "h4": {
        "color": "c5cc3653-2ee1-402a-aba2-7caae1da4f6c",
        "font-family": "Lato",
        "font-size": 5
       },
       "h5": {
        "font-family": "Lato"
       },
       "h6": {
        "font-family": "Lato"
       },
       "h7": {
        "font-family": "Lato"
       },
       "pre": {
        "font-family": "Anonymous Pro",
        "font-size": 4
       }
      },
      "text-base": {
       "font-family": "Merriweather",
       "font-size": 4
      }
     }
    }
   }
  }
 },
 "nbformat": 4,
 "nbformat_minor": 0
}
