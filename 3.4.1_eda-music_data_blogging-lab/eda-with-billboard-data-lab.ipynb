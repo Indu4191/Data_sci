{
 "cells": [
  {
   "cell_type": "markdown",
   "metadata": {},
   "source": [
    "<img src=\"http://imgur.com/1ZcRyrc.png\" style=\"float: left; margin: 20px; height: 55px\">\n",
    "\n",
    "# Data Manipulation, EDA, and Reporting Results\n",
    "\n",
    "_Authors: Joseph Nelson (DC)_\n",
    "\n",
    "---\n",
    "\n",
    "> **This lab is intentionally open-ended, and you're encouraged to answer your own questions about the dataset!**\n",
    "\n",
    "\n",
    "### What makes a song a hit?\n",
    "\n",
    "On next week's episode of the 'Are You Entertained?' podcast, we're going to be analyzing the latest generation's guilty pleasure- the music of the '00s. \n",
    "\n",
    "Our Data Scientists have poured through Billboard chart data to analyze what made a hit soar to the top of the charts, and how long they stayed there. Tune in next week for an awesome exploration of music and data as we continue to address an omnipresent question in the industry- why do we like what we like?\n",
    "\n",
    "**Provide (at least) a markdown cell explaining your key learnings about top hits: what are they, what common themes are there, is there a trend among artists (type of music)?**\n",
    "\n",
    "---\n",
    "\n",
    "### Minimum Requirements\n",
    "\n",
    "**At a minimum, you must:**\n",
    "\n",
    "- Use Pandas to read in your data\n",
    "- Rename column names where appropriate\n",
    "- Describe your data: check the value counts and descriptive statistics\n",
    "- Make use of groupby statements\n",
    "- Utilize Boolean sorting\n",
    "- Assess the validity of your data (missing data, distributions?)\n",
    "\n",
    "**You should strive to:**\n",
    "\n",
    "- Produce a blog-post ready description of your lab\n",
    "- State your assumptions about the data\n",
    "- Describe limitations\n",
    "- Consider how you can action this from a stakeholder perspective (radio, record label, fan)\n",
    "- Include visualizations"
   ]
  },
  {
   "cell_type": "code",
   "execution_count": 64,
   "metadata": {
    "collapsed": true
   },
   "outputs": [],
   "source": [
    "import matplotlib.pyplot as plt\n",
    "import numpy as np\n",
    "import pandas as pd\n",
    "import seaborn as sns\n",
    "import scipy.stats as stats\n",
    "\n",
    "plt.style.use('fivethirtyeight')\n",
    "\n",
    "%matplotlib inline\n",
    "%config InlineBackend.figure_format = 'retina'\n",
    "\n"
   ]
  },
  {
   "cell_type": "code",
   "execution_count": 65,
   "metadata": {
    "collapsed": true
   },
   "outputs": [],
   "source": [
    "# Billboard data CSV:\n",
    "billboard = pd.read_csv('/Users/Mahendra/desktop/GA/hw/3.4.1_eda-music_data_blogging-lab/datasets/billboard.csv')"
   ]
  },
  {
   "cell_type": "code",
   "execution_count": 40,
   "metadata": {
    "collapsed": false
   },
   "outputs": [
    {
     "data": {
      "text/html": [
       "<div>\n",
       "<table border=\"1\" class=\"dataframe\">\n",
       "  <thead>\n",
       "    <tr style=\"text-align: right;\">\n",
       "      <th></th>\n",
       "      <th>year</th>\n",
       "      <th>artist.inverted</th>\n",
       "      <th>track</th>\n",
       "      <th>time</th>\n",
       "      <th>genre</th>\n",
       "      <th>date.entered</th>\n",
       "      <th>date.peaked</th>\n",
       "      <th>x1st.week</th>\n",
       "      <th>x2nd.week</th>\n",
       "      <th>x3rd.week</th>\n",
       "      <th>...</th>\n",
       "      <th>x67th.week</th>\n",
       "      <th>x68th.week</th>\n",
       "      <th>x69th.week</th>\n",
       "      <th>x70th.week</th>\n",
       "      <th>x71st.week</th>\n",
       "      <th>x72nd.week</th>\n",
       "      <th>x73rd.week</th>\n",
       "      <th>x74th.week</th>\n",
       "      <th>x75th.week</th>\n",
       "      <th>x76th.week</th>\n",
       "    </tr>\n",
       "  </thead>\n",
       "  <tbody>\n",
       "    <tr>\n",
       "      <th>0</th>\n",
       "      <td>2000</td>\n",
       "      <td>Destiny's Child</td>\n",
       "      <td>Independent Women Part I</td>\n",
       "      <td>3:38</td>\n",
       "      <td>Rock</td>\n",
       "      <td>2000-09-23</td>\n",
       "      <td>2000-11-18</td>\n",
       "      <td>78</td>\n",
       "      <td>63.0</td>\n",
       "      <td>49.0</td>\n",
       "      <td>...</td>\n",
       "      <td>NaN</td>\n",
       "      <td>NaN</td>\n",
       "      <td>NaN</td>\n",
       "      <td>NaN</td>\n",
       "      <td>NaN</td>\n",
       "      <td>NaN</td>\n",
       "      <td>NaN</td>\n",
       "      <td>NaN</td>\n",
       "      <td>NaN</td>\n",
       "      <td>NaN</td>\n",
       "    </tr>\n",
       "    <tr>\n",
       "      <th>1</th>\n",
       "      <td>2000</td>\n",
       "      <td>Santana</td>\n",
       "      <td>Maria, Maria</td>\n",
       "      <td>4:18</td>\n",
       "      <td>Rock</td>\n",
       "      <td>2000-02-12</td>\n",
       "      <td>2000-04-08</td>\n",
       "      <td>15</td>\n",
       "      <td>8.0</td>\n",
       "      <td>6.0</td>\n",
       "      <td>...</td>\n",
       "      <td>NaN</td>\n",
       "      <td>NaN</td>\n",
       "      <td>NaN</td>\n",
       "      <td>NaN</td>\n",
       "      <td>NaN</td>\n",
       "      <td>NaN</td>\n",
       "      <td>NaN</td>\n",
       "      <td>NaN</td>\n",
       "      <td>NaN</td>\n",
       "      <td>NaN</td>\n",
       "    </tr>\n",
       "    <tr>\n",
       "      <th>2</th>\n",
       "      <td>2000</td>\n",
       "      <td>Savage Garden</td>\n",
       "      <td>I Knew I Loved You</td>\n",
       "      <td>4:07</td>\n",
       "      <td>Rock</td>\n",
       "      <td>1999-10-23</td>\n",
       "      <td>2000-01-29</td>\n",
       "      <td>71</td>\n",
       "      <td>48.0</td>\n",
       "      <td>43.0</td>\n",
       "      <td>...</td>\n",
       "      <td>NaN</td>\n",
       "      <td>NaN</td>\n",
       "      <td>NaN</td>\n",
       "      <td>NaN</td>\n",
       "      <td>NaN</td>\n",
       "      <td>NaN</td>\n",
       "      <td>NaN</td>\n",
       "      <td>NaN</td>\n",
       "      <td>NaN</td>\n",
       "      <td>NaN</td>\n",
       "    </tr>\n",
       "    <tr>\n",
       "      <th>3</th>\n",
       "      <td>2000</td>\n",
       "      <td>Madonna</td>\n",
       "      <td>Music</td>\n",
       "      <td>3:45</td>\n",
       "      <td>Rock</td>\n",
       "      <td>2000-08-12</td>\n",
       "      <td>2000-09-16</td>\n",
       "      <td>41</td>\n",
       "      <td>23.0</td>\n",
       "      <td>18.0</td>\n",
       "      <td>...</td>\n",
       "      <td>NaN</td>\n",
       "      <td>NaN</td>\n",
       "      <td>NaN</td>\n",
       "      <td>NaN</td>\n",
       "      <td>NaN</td>\n",
       "      <td>NaN</td>\n",
       "      <td>NaN</td>\n",
       "      <td>NaN</td>\n",
       "      <td>NaN</td>\n",
       "      <td>NaN</td>\n",
       "    </tr>\n",
       "    <tr>\n",
       "      <th>4</th>\n",
       "      <td>2000</td>\n",
       "      <td>Aguilera, Christina</td>\n",
       "      <td>Come On Over Baby (All I Want Is You)</td>\n",
       "      <td>3:38</td>\n",
       "      <td>Rock</td>\n",
       "      <td>2000-08-05</td>\n",
       "      <td>2000-10-14</td>\n",
       "      <td>57</td>\n",
       "      <td>47.0</td>\n",
       "      <td>45.0</td>\n",
       "      <td>...</td>\n",
       "      <td>NaN</td>\n",
       "      <td>NaN</td>\n",
       "      <td>NaN</td>\n",
       "      <td>NaN</td>\n",
       "      <td>NaN</td>\n",
       "      <td>NaN</td>\n",
       "      <td>NaN</td>\n",
       "      <td>NaN</td>\n",
       "      <td>NaN</td>\n",
       "      <td>NaN</td>\n",
       "    </tr>\n",
       "  </tbody>\n",
       "</table>\n",
       "<p>5 rows × 83 columns</p>\n",
       "</div>"
      ],
      "text/plain": [
       "   year      artist.inverted                                  track  time  \\\n",
       "0  2000      Destiny's Child               Independent Women Part I  3:38   \n",
       "1  2000              Santana                           Maria, Maria  4:18   \n",
       "2  2000        Savage Garden                     I Knew I Loved You  4:07   \n",
       "3  2000              Madonna                                  Music  3:45   \n",
       "4  2000  Aguilera, Christina  Come On Over Baby (All I Want Is You)  3:38   \n",
       "\n",
       "  genre date.entered date.peaked  x1st.week  x2nd.week  x3rd.week     ...      \\\n",
       "0  Rock   2000-09-23  2000-11-18         78       63.0       49.0     ...       \n",
       "1  Rock   2000-02-12  2000-04-08         15        8.0        6.0     ...       \n",
       "2  Rock   1999-10-23  2000-01-29         71       48.0       43.0     ...       \n",
       "3  Rock   2000-08-12  2000-09-16         41       23.0       18.0     ...       \n",
       "4  Rock   2000-08-05  2000-10-14         57       47.0       45.0     ...       \n",
       "\n",
       "   x67th.week  x68th.week  x69th.week  x70th.week  x71st.week  x72nd.week  \\\n",
       "0         NaN         NaN         NaN         NaN         NaN         NaN   \n",
       "1         NaN         NaN         NaN         NaN         NaN         NaN   \n",
       "2         NaN         NaN         NaN         NaN         NaN         NaN   \n",
       "3         NaN         NaN         NaN         NaN         NaN         NaN   \n",
       "4         NaN         NaN         NaN         NaN         NaN         NaN   \n",
       "\n",
       "   x73rd.week  x74th.week  x75th.week  x76th.week  \n",
       "0         NaN         NaN         NaN         NaN  \n",
       "1         NaN         NaN         NaN         NaN  \n",
       "2         NaN         NaN         NaN         NaN  \n",
       "3         NaN         NaN         NaN         NaN  \n",
       "4         NaN         NaN         NaN         NaN  \n",
       "\n",
       "[5 rows x 83 columns]"
      ]
     },
     "execution_count": 40,
     "metadata": {},
     "output_type": "execute_result"
    }
   ],
   "source": [
    "billboard.head(5)"
   ]
  },
  {
   "cell_type": "code",
   "execution_count": 41,
   "metadata": {
    "collapsed": false
   },
   "outputs": [
    {
     "data": {
      "text/plain": [
       "Index([u'year', u'artist.inverted', u'track', u'time', u'genre',\n",
       "       u'date.entered', u'date.peaked', u'x1st.week', u'x2nd.week',\n",
       "       u'x3rd.week', u'x4th.week', u'x5th.week', u'x6th.week', u'x7th.week',\n",
       "       u'x8th.week', u'x9th.week', u'x10th.week', u'x11th.week', u'x12th.week',\n",
       "       u'x13th.week', u'x14th.week', u'x15th.week', u'x16th.week',\n",
       "       u'x17th.week', u'x18th.week', u'x19th.week', u'x20th.week',\n",
       "       u'x21st.week', u'x22nd.week', u'x23rd.week', u'x24th.week',\n",
       "       u'x25th.week', u'x26th.week', u'x27th.week', u'x28th.week',\n",
       "       u'x29th.week', u'x30th.week', u'x31st.week', u'x32nd.week',\n",
       "       u'x33rd.week', u'x34th.week', u'x35th.week', u'x36th.week',\n",
       "       u'x37th.week', u'x38th.week', u'x39th.week', u'x40th.week',\n",
       "       u'x41st.week', u'x42nd.week', u'x43rd.week', u'x44th.week',\n",
       "       u'x45th.week', u'x46th.week', u'x47th.week', u'x48th.week',\n",
       "       u'x49th.week', u'x50th.week', u'x51st.week', u'x52nd.week',\n",
       "       u'x53rd.week', u'x54th.week', u'x55th.week', u'x56th.week',\n",
       "       u'x57th.week', u'x58th.week', u'x59th.week', u'x60th.week',\n",
       "       u'x61st.week', u'x62nd.week', u'x63rd.week', u'x64th.week',\n",
       "       u'x65th.week', u'x66th.week', u'x67th.week', u'x68th.week',\n",
       "       u'x69th.week', u'x70th.week', u'x71st.week', u'x72nd.week',\n",
       "       u'x73rd.week', u'x74th.week', u'x75th.week', u'x76th.week'],\n",
       "      dtype='object')"
      ]
     },
     "execution_count": 41,
     "metadata": {},
     "output_type": "execute_result"
    }
   ],
   "source": [
    "billboard.columns"
   ]
  },
  {
   "cell_type": "code",
   "execution_count": 9,
   "metadata": {
    "collapsed": false
   },
   "outputs": [
    {
     "data": {
      "text/plain": [
       "year                 0\n",
       "artist.inverted      0\n",
       "track                0\n",
       "time                 0\n",
       "genre                0\n",
       "date.entered         0\n",
       "date.peaked          0\n",
       "x1st.week            0\n",
       "x2nd.week            5\n",
       "x3rd.week           10\n",
       "x4th.week           17\n",
       "x5th.week           25\n",
       "x6th.week           37\n",
       "x7th.week           48\n",
       "x8th.week           57\n",
       "x9th.week           64\n",
       "x10th.week          73\n",
       "x11th.week          81\n",
       "x12th.week          95\n",
       "x13th.week         107\n",
       "x14th.week         113\n",
       "x15th.week         120\n",
       "x16th.week         135\n",
       "x17th.week         140\n",
       "x18th.week         151\n",
       "x19th.week         161\n",
       "x20th.week         171\n",
       "x21st.week         252\n",
       "x22nd.week         262\n",
       "x23rd.week         269\n",
       "                  ... \n",
       "x47th.week         312\n",
       "x48th.week         313\n",
       "x49th.week         313\n",
       "x50th.week         313\n",
       "x51st.week         313\n",
       "x52nd.week         313\n",
       "x53rd.week         313\n",
       "x54th.week         315\n",
       "x55th.week         315\n",
       "x56th.week         315\n",
       "x57th.week         315\n",
       "x58th.week         315\n",
       "x59th.week         315\n",
       "x60th.week         315\n",
       "x61st.week         315\n",
       "x62nd.week         315\n",
       "x63rd.week         315\n",
       "x64th.week         315\n",
       "x65th.week         316\n",
       "x66th.week         317\n",
       "x67th.week         317\n",
       "x68th.week         317\n",
       "x69th.week         317\n",
       "x70th.week         317\n",
       "x71st.week         317\n",
       "x72nd.week         317\n",
       "x73rd.week         317\n",
       "x74th.week         317\n",
       "x75th.week         317\n",
       "x76th.week         317\n",
       "dtype: int64"
      ]
     },
     "execution_count": 9,
     "metadata": {},
     "output_type": "execute_result"
    }
   ],
   "source": [
    "billboard.isnull().sum()"
   ]
  },
  {
   "cell_type": "code",
   "execution_count": 42,
   "metadata": {
    "collapsed": false
   },
   "outputs": [
    {
     "data": {
      "text/plain": [
       "(317, 83)"
      ]
     },
     "execution_count": 42,
     "metadata": {},
     "output_type": "execute_result"
    }
   ],
   "source": [
    "billboard.shape"
   ]
  },
  {
   "cell_type": "code",
   "execution_count": 43,
   "metadata": {
    "collapsed": false
   },
   "outputs": [
    {
     "data": {
      "text/plain": [
       "year                 int64\n",
       "artist.inverted     object\n",
       "track               object\n",
       "time                object\n",
       "genre               object\n",
       "date.entered        object\n",
       "date.peaked         object\n",
       "x1st.week            int64\n",
       "x2nd.week          float64\n",
       "x3rd.week          float64\n",
       "x4th.week          float64\n",
       "x5th.week          float64\n",
       "x6th.week          float64\n",
       "x7th.week          float64\n",
       "x8th.week          float64\n",
       "x9th.week          float64\n",
       "x10th.week         float64\n",
       "x11th.week         float64\n",
       "x12th.week         float64\n",
       "x13th.week         float64\n",
       "x14th.week         float64\n",
       "x15th.week         float64\n",
       "x16th.week         float64\n",
       "x17th.week         float64\n",
       "x18th.week         float64\n",
       "x19th.week         float64\n",
       "x20th.week         float64\n",
       "x21st.week         float64\n",
       "x22nd.week         float64\n",
       "x23rd.week         float64\n",
       "                    ...   \n",
       "x47th.week         float64\n",
       "x48th.week         float64\n",
       "x49th.week         float64\n",
       "x50th.week         float64\n",
       "x51st.week         float64\n",
       "x52nd.week         float64\n",
       "x53rd.week         float64\n",
       "x54th.week         float64\n",
       "x55th.week         float64\n",
       "x56th.week         float64\n",
       "x57th.week         float64\n",
       "x58th.week         float64\n",
       "x59th.week         float64\n",
       "x60th.week         float64\n",
       "x61st.week         float64\n",
       "x62nd.week         float64\n",
       "x63rd.week         float64\n",
       "x64th.week         float64\n",
       "x65th.week         float64\n",
       "x66th.week         float64\n",
       "x67th.week         float64\n",
       "x68th.week         float64\n",
       "x69th.week         float64\n",
       "x70th.week         float64\n",
       "x71st.week         float64\n",
       "x72nd.week         float64\n",
       "x73rd.week         float64\n",
       "x74th.week         float64\n",
       "x75th.week         float64\n",
       "x76th.week         float64\n",
       "dtype: object"
      ]
     },
     "execution_count": 43,
     "metadata": {},
     "output_type": "execute_result"
    }
   ],
   "source": [
    "billboard.dtypes"
   ]
  },
  {
   "cell_type": "code",
   "execution_count": 44,
   "metadata": {
    "collapsed": false
   },
   "outputs": [
    {
     "data": {
      "text/html": [
       "<div>\n",
       "<table border=\"1\" class=\"dataframe\">\n",
       "  <thead>\n",
       "    <tr style=\"text-align: right;\">\n",
       "      <th></th>\n",
       "      <th>year</th>\n",
       "      <th>x1st.week</th>\n",
       "      <th>x2nd.week</th>\n",
       "      <th>x3rd.week</th>\n",
       "      <th>x4th.week</th>\n",
       "      <th>x5th.week</th>\n",
       "      <th>x6th.week</th>\n",
       "      <th>x7th.week</th>\n",
       "      <th>x8th.week</th>\n",
       "      <th>x9th.week</th>\n",
       "      <th>...</th>\n",
       "      <th>x67th.week</th>\n",
       "      <th>x68th.week</th>\n",
       "      <th>x69th.week</th>\n",
       "      <th>x70th.week</th>\n",
       "      <th>x71st.week</th>\n",
       "      <th>x72nd.week</th>\n",
       "      <th>x73rd.week</th>\n",
       "      <th>x74th.week</th>\n",
       "      <th>x75th.week</th>\n",
       "      <th>x76th.week</th>\n",
       "    </tr>\n",
       "  </thead>\n",
       "  <tbody>\n",
       "    <tr>\n",
       "      <th>count</th>\n",
       "      <td>317.0</td>\n",
       "      <td>317.000000</td>\n",
       "      <td>312.000000</td>\n",
       "      <td>307.000000</td>\n",
       "      <td>300.000000</td>\n",
       "      <td>292.000000</td>\n",
       "      <td>280.000000</td>\n",
       "      <td>269.000000</td>\n",
       "      <td>260.000000</td>\n",
       "      <td>253.000000</td>\n",
       "      <td>...</td>\n",
       "      <td>0.0</td>\n",
       "      <td>0.0</td>\n",
       "      <td>0.0</td>\n",
       "      <td>0.0</td>\n",
       "      <td>0.0</td>\n",
       "      <td>0.0</td>\n",
       "      <td>0.0</td>\n",
       "      <td>0.0</td>\n",
       "      <td>0.0</td>\n",
       "      <td>0.0</td>\n",
       "    </tr>\n",
       "    <tr>\n",
       "      <th>mean</th>\n",
       "      <td>2000.0</td>\n",
       "      <td>79.958991</td>\n",
       "      <td>71.173077</td>\n",
       "      <td>65.045603</td>\n",
       "      <td>59.763333</td>\n",
       "      <td>56.339041</td>\n",
       "      <td>52.360714</td>\n",
       "      <td>49.219331</td>\n",
       "      <td>47.119231</td>\n",
       "      <td>46.343874</td>\n",
       "      <td>...</td>\n",
       "      <td>NaN</td>\n",
       "      <td>NaN</td>\n",
       "      <td>NaN</td>\n",
       "      <td>NaN</td>\n",
       "      <td>NaN</td>\n",
       "      <td>NaN</td>\n",
       "      <td>NaN</td>\n",
       "      <td>NaN</td>\n",
       "      <td>NaN</td>\n",
       "      <td>NaN</td>\n",
       "    </tr>\n",
       "    <tr>\n",
       "      <th>std</th>\n",
       "      <td>0.0</td>\n",
       "      <td>14.686865</td>\n",
       "      <td>18.200443</td>\n",
       "      <td>20.752302</td>\n",
       "      <td>22.324619</td>\n",
       "      <td>23.780022</td>\n",
       "      <td>24.473273</td>\n",
       "      <td>25.654279</td>\n",
       "      <td>26.370782</td>\n",
       "      <td>27.136419</td>\n",
       "      <td>...</td>\n",
       "      <td>NaN</td>\n",
       "      <td>NaN</td>\n",
       "      <td>NaN</td>\n",
       "      <td>NaN</td>\n",
       "      <td>NaN</td>\n",
       "      <td>NaN</td>\n",
       "      <td>NaN</td>\n",
       "      <td>NaN</td>\n",
       "      <td>NaN</td>\n",
       "      <td>NaN</td>\n",
       "    </tr>\n",
       "    <tr>\n",
       "      <th>min</th>\n",
       "      <td>2000.0</td>\n",
       "      <td>15.000000</td>\n",
       "      <td>8.000000</td>\n",
       "      <td>6.000000</td>\n",
       "      <td>5.000000</td>\n",
       "      <td>2.000000</td>\n",
       "      <td>1.000000</td>\n",
       "      <td>1.000000</td>\n",
       "      <td>1.000000</td>\n",
       "      <td>1.000000</td>\n",
       "      <td>...</td>\n",
       "      <td>NaN</td>\n",
       "      <td>NaN</td>\n",
       "      <td>NaN</td>\n",
       "      <td>NaN</td>\n",
       "      <td>NaN</td>\n",
       "      <td>NaN</td>\n",
       "      <td>NaN</td>\n",
       "      <td>NaN</td>\n",
       "      <td>NaN</td>\n",
       "      <td>NaN</td>\n",
       "    </tr>\n",
       "    <tr>\n",
       "      <th>25%</th>\n",
       "      <td>2000.0</td>\n",
       "      <td>74.000000</td>\n",
       "      <td>63.000000</td>\n",
       "      <td>53.000000</td>\n",
       "      <td>44.750000</td>\n",
       "      <td>38.750000</td>\n",
       "      <td>33.750000</td>\n",
       "      <td>30.000000</td>\n",
       "      <td>27.000000</td>\n",
       "      <td>26.000000</td>\n",
       "      <td>...</td>\n",
       "      <td>NaN</td>\n",
       "      <td>NaN</td>\n",
       "      <td>NaN</td>\n",
       "      <td>NaN</td>\n",
       "      <td>NaN</td>\n",
       "      <td>NaN</td>\n",
       "      <td>NaN</td>\n",
       "      <td>NaN</td>\n",
       "      <td>NaN</td>\n",
       "      <td>NaN</td>\n",
       "    </tr>\n",
       "    <tr>\n",
       "      <th>50%</th>\n",
       "      <td>2000.0</td>\n",
       "      <td>81.000000</td>\n",
       "      <td>73.000000</td>\n",
       "      <td>66.000000</td>\n",
       "      <td>61.000000</td>\n",
       "      <td>57.000000</td>\n",
       "      <td>51.500000</td>\n",
       "      <td>47.000000</td>\n",
       "      <td>45.500000</td>\n",
       "      <td>42.000000</td>\n",
       "      <td>...</td>\n",
       "      <td>NaN</td>\n",
       "      <td>NaN</td>\n",
       "      <td>NaN</td>\n",
       "      <td>NaN</td>\n",
       "      <td>NaN</td>\n",
       "      <td>NaN</td>\n",
       "      <td>NaN</td>\n",
       "      <td>NaN</td>\n",
       "      <td>NaN</td>\n",
       "      <td>NaN</td>\n",
       "    </tr>\n",
       "    <tr>\n",
       "      <th>75%</th>\n",
       "      <td>2000.0</td>\n",
       "      <td>91.000000</td>\n",
       "      <td>84.000000</td>\n",
       "      <td>79.000000</td>\n",
       "      <td>76.000000</td>\n",
       "      <td>73.250000</td>\n",
       "      <td>72.250000</td>\n",
       "      <td>67.000000</td>\n",
       "      <td>67.000000</td>\n",
       "      <td>67.000000</td>\n",
       "      <td>...</td>\n",
       "      <td>NaN</td>\n",
       "      <td>NaN</td>\n",
       "      <td>NaN</td>\n",
       "      <td>NaN</td>\n",
       "      <td>NaN</td>\n",
       "      <td>NaN</td>\n",
       "      <td>NaN</td>\n",
       "      <td>NaN</td>\n",
       "      <td>NaN</td>\n",
       "      <td>NaN</td>\n",
       "    </tr>\n",
       "    <tr>\n",
       "      <th>max</th>\n",
       "      <td>2000.0</td>\n",
       "      <td>100.000000</td>\n",
       "      <td>100.000000</td>\n",
       "      <td>100.000000</td>\n",
       "      <td>100.000000</td>\n",
       "      <td>100.000000</td>\n",
       "      <td>99.000000</td>\n",
       "      <td>100.000000</td>\n",
       "      <td>99.000000</td>\n",
       "      <td>100.000000</td>\n",
       "      <td>...</td>\n",
       "      <td>NaN</td>\n",
       "      <td>NaN</td>\n",
       "      <td>NaN</td>\n",
       "      <td>NaN</td>\n",
       "      <td>NaN</td>\n",
       "      <td>NaN</td>\n",
       "      <td>NaN</td>\n",
       "      <td>NaN</td>\n",
       "      <td>NaN</td>\n",
       "      <td>NaN</td>\n",
       "    </tr>\n",
       "  </tbody>\n",
       "</table>\n",
       "<p>8 rows × 77 columns</p>\n",
       "</div>"
      ],
      "text/plain": [
       "         year   x1st.week   x2nd.week   x3rd.week   x4th.week   x5th.week  \\\n",
       "count   317.0  317.000000  312.000000  307.000000  300.000000  292.000000   \n",
       "mean   2000.0   79.958991   71.173077   65.045603   59.763333   56.339041   \n",
       "std       0.0   14.686865   18.200443   20.752302   22.324619   23.780022   \n",
       "min    2000.0   15.000000    8.000000    6.000000    5.000000    2.000000   \n",
       "25%    2000.0   74.000000   63.000000   53.000000   44.750000   38.750000   \n",
       "50%    2000.0   81.000000   73.000000   66.000000   61.000000   57.000000   \n",
       "75%    2000.0   91.000000   84.000000   79.000000   76.000000   73.250000   \n",
       "max    2000.0  100.000000  100.000000  100.000000  100.000000  100.000000   \n",
       "\n",
       "        x6th.week   x7th.week   x8th.week   x9th.week     ...      x67th.week  \\\n",
       "count  280.000000  269.000000  260.000000  253.000000     ...             0.0   \n",
       "mean    52.360714   49.219331   47.119231   46.343874     ...             NaN   \n",
       "std     24.473273   25.654279   26.370782   27.136419     ...             NaN   \n",
       "min      1.000000    1.000000    1.000000    1.000000     ...             NaN   \n",
       "25%     33.750000   30.000000   27.000000   26.000000     ...             NaN   \n",
       "50%     51.500000   47.000000   45.500000   42.000000     ...             NaN   \n",
       "75%     72.250000   67.000000   67.000000   67.000000     ...             NaN   \n",
       "max     99.000000  100.000000   99.000000  100.000000     ...             NaN   \n",
       "\n",
       "       x68th.week  x69th.week  x70th.week  x71st.week  x72nd.week  x73rd.week  \\\n",
       "count         0.0         0.0         0.0         0.0         0.0         0.0   \n",
       "mean          NaN         NaN         NaN         NaN         NaN         NaN   \n",
       "std           NaN         NaN         NaN         NaN         NaN         NaN   \n",
       "min           NaN         NaN         NaN         NaN         NaN         NaN   \n",
       "25%           NaN         NaN         NaN         NaN         NaN         NaN   \n",
       "50%           NaN         NaN         NaN         NaN         NaN         NaN   \n",
       "75%           NaN         NaN         NaN         NaN         NaN         NaN   \n",
       "max           NaN         NaN         NaN         NaN         NaN         NaN   \n",
       "\n",
       "       x74th.week  x75th.week  x76th.week  \n",
       "count         0.0         0.0         0.0  \n",
       "mean          NaN         NaN         NaN  \n",
       "std           NaN         NaN         NaN  \n",
       "min           NaN         NaN         NaN  \n",
       "25%           NaN         NaN         NaN  \n",
       "50%           NaN         NaN         NaN  \n",
       "75%           NaN         NaN         NaN  \n",
       "max           NaN         NaN         NaN  \n",
       "\n",
       "[8 rows x 77 columns]"
      ]
     },
     "execution_count": 44,
     "metadata": {},
     "output_type": "execute_result"
    }
   ],
   "source": [
    "billboard.describe()"
   ]
  },
  {
   "cell_type": "code",
   "execution_count": 45,
   "metadata": {
    "collapsed": false
   },
   "outputs": [
    {
     "data": {
      "text/plain": [
       "RangeIndex(start=0, stop=317, step=1)"
      ]
     },
     "execution_count": 45,
     "metadata": {},
     "output_type": "execute_result"
    }
   ],
   "source": [
    "billboard.index"
   ]
  },
  {
   "cell_type": "code",
   "execution_count": 46,
   "metadata": {
    "collapsed": false
   },
   "outputs": [],
   "source": [
    "#billboard.drop(['x66th.week','x67th.week','x68th.week','x69th.week','x70th.week','x71st.week','x72nd.week','x73rd.week','x74th.week','x75th.week','x76th.week'],axis=1,inplace=True)\n",
    "#billboard.drop(['x76th.week'],axis=1,inplace=True)\n",
    "\n",
    "\n"
   ]
  },
  {
   "cell_type": "code",
   "execution_count": 47,
   "metadata": {
    "collapsed": false
   },
   "outputs": [
    {
     "data": {
      "text/plain": [
       "Where I Wanna Be                       2\n",
       "If You Don't Wanna Love Me             1\n",
       "Just Be A Man About It                 1\n",
       "With Arms Wide Open                    1\n",
       "Girls Dem Sugar                        1\n",
       "More                                   1\n",
       "Rhythm Divine                          1\n",
       "Case Of The Ex (Whatcha Gonna Do)      1\n",
       "Pull Over                              1\n",
       "Without You                            1\n",
       "We Danced                              1\n",
       "911                                    1\n",
       "Left, Right, Left                      1\n",
       "N 2 Gether Now                         1\n",
       "I Lost It                              1\n",
       "Otherside                              1\n",
       "A Country Boy Can Survive              1\n",
       "Rollin'                                1\n",
       "Shackles (Praise You)                  1\n",
       "American Pie                           1\n",
       "I Think I'm In Love With You           1\n",
       "Feelin' Good                           1\n",
       "What You Want                          1\n",
       "Been There                             1\n",
       "Back At One                            1\n",
       "It's My Life                           1\n",
       "Baby Don't Cry (Keep Ya Head Up II)    1\n",
       "The Next Episode                       1\n",
       "Goodbye Earl                           1\n",
       "Me Neither                             1\n",
       "                                      ..\n",
       "My Best Friend                         1\n",
       "Last Resort                            1\n",
       "Pop Ya Collar                          1\n",
       "Your Everything                        1\n",
       "Sexual (Li Da Di)                      1\n",
       "Could I Have This Kiss Forever         1\n",
       "One Voice                              1\n",
       "Maria, Maria                           1\n",
       "Prayin' For Daylight                   1\n",
       "Don't Think I'm Not                    1\n",
       "Bounce With Me                         1\n",
       "That's The Way                         1\n",
       "Another Dumb Blonde                    1\n",
       "Emotional                              1\n",
       "Where You Are                          1\n",
       "Try Again                              1\n",
       "Go On                                  1\n",
       "Got To Get It                          1\n",
       "Dear Lie                               1\n",
       "Carlene                                1\n",
       "This I Promise You                     1\n",
       "Open My Heart                          1\n",
       "Only God Knows Why                     1\n",
       "Oops!.. I Did It Again                 1\n",
       "Ryde or Die, Chick                     1\n",
       "I Like It                              1\n",
       "Feels Like Love                        1\n",
       "A Little Gasoline                      1\n",
       "Faded                                  1\n",
       "You Can Do It                          1\n",
       "Name: track, dtype: int64"
      ]
     },
     "execution_count": 47,
     "metadata": {},
     "output_type": "execute_result"
    }
   ],
   "source": [
    "billboard.track.value_counts()"
   ]
  },
  {
   "cell_type": "code",
   "execution_count": 66,
   "metadata": {
    "collapsed": true
   },
   "outputs": [],
   "source": [
    "billboard.rename(columns=lambda x: x.replace('x', ''), inplace=True)"
   ]
  },
  {
   "cell_type": "code",
   "execution_count": 67,
   "metadata": {
    "collapsed": true
   },
   "outputs": [],
   "source": [
    "billboard.rename(columns=lambda x: x.replace('th.', ''), inplace=True)"
   ]
  },
  {
   "cell_type": "code",
   "execution_count": 68,
   "metadata": {
    "collapsed": true
   },
   "outputs": [],
   "source": [
    "billboard.rename(columns=lambda x: x.replace('st.', ''), inplace=True)"
   ]
  },
  {
   "cell_type": "code",
   "execution_count": 69,
   "metadata": {
    "collapsed": true
   },
   "outputs": [],
   "source": [
    "billboard.rename(columns=lambda x: x.replace('nd.', ''), inplace=True)"
   ]
  },
  {
   "cell_type": "code",
   "execution_count": 70,
   "metadata": {
    "collapsed": true
   },
   "outputs": [],
   "source": [
    "billboard.rename(columns=lambda x: x.replace('rd.', ''), inplace=True)"
   ]
  },
  {
   "cell_type": "code",
   "execution_count": 71,
   "metadata": {
    "collapsed": false
   },
   "outputs": [
    {
     "data": {
      "text/html": [
       "<div>\n",
       "<table border=\"1\" class=\"dataframe\">\n",
       "  <thead>\n",
       "    <tr style=\"text-align: right;\">\n",
       "      <th></th>\n",
       "      <th>year</th>\n",
       "      <th>artiinverted</th>\n",
       "      <th>track</th>\n",
       "      <th>time</th>\n",
       "      <th>genre</th>\n",
       "      <th>date.entered</th>\n",
       "      <th>date.peaked</th>\n",
       "      <th>1week</th>\n",
       "      <th>2week</th>\n",
       "      <th>3week</th>\n",
       "      <th>...</th>\n",
       "      <th>67week</th>\n",
       "      <th>68week</th>\n",
       "      <th>69week</th>\n",
       "      <th>70week</th>\n",
       "      <th>71week</th>\n",
       "      <th>72week</th>\n",
       "      <th>73week</th>\n",
       "      <th>74week</th>\n",
       "      <th>75week</th>\n",
       "      <th>76week</th>\n",
       "    </tr>\n",
       "  </thead>\n",
       "  <tbody>\n",
       "    <tr>\n",
       "      <th>0</th>\n",
       "      <td>2000</td>\n",
       "      <td>Destiny's Child</td>\n",
       "      <td>Independent Women Part I</td>\n",
       "      <td>3:38</td>\n",
       "      <td>Rock</td>\n",
       "      <td>2000-09-23</td>\n",
       "      <td>2000-11-18</td>\n",
       "      <td>78</td>\n",
       "      <td>63.0</td>\n",
       "      <td>49.0</td>\n",
       "      <td>...</td>\n",
       "      <td>NaN</td>\n",
       "      <td>NaN</td>\n",
       "      <td>NaN</td>\n",
       "      <td>NaN</td>\n",
       "      <td>NaN</td>\n",
       "      <td>NaN</td>\n",
       "      <td>NaN</td>\n",
       "      <td>NaN</td>\n",
       "      <td>NaN</td>\n",
       "      <td>NaN</td>\n",
       "    </tr>\n",
       "    <tr>\n",
       "      <th>1</th>\n",
       "      <td>2000</td>\n",
       "      <td>Santana</td>\n",
       "      <td>Maria, Maria</td>\n",
       "      <td>4:18</td>\n",
       "      <td>Rock</td>\n",
       "      <td>2000-02-12</td>\n",
       "      <td>2000-04-08</td>\n",
       "      <td>15</td>\n",
       "      <td>8.0</td>\n",
       "      <td>6.0</td>\n",
       "      <td>...</td>\n",
       "      <td>NaN</td>\n",
       "      <td>NaN</td>\n",
       "      <td>NaN</td>\n",
       "      <td>NaN</td>\n",
       "      <td>NaN</td>\n",
       "      <td>NaN</td>\n",
       "      <td>NaN</td>\n",
       "      <td>NaN</td>\n",
       "      <td>NaN</td>\n",
       "      <td>NaN</td>\n",
       "    </tr>\n",
       "  </tbody>\n",
       "</table>\n",
       "<p>2 rows × 83 columns</p>\n",
       "</div>"
      ],
      "text/plain": [
       "   year     artiinverted                     track  time genre date.entered  \\\n",
       "0  2000  Destiny's Child  Independent Women Part I  3:38  Rock   2000-09-23   \n",
       "1  2000          Santana              Maria, Maria  4:18  Rock   2000-02-12   \n",
       "\n",
       "  date.peaked  1week  2week  3week   ...    67week  68week  69week  70week  \\\n",
       "0  2000-11-18     78   63.0   49.0   ...       NaN     NaN     NaN     NaN   \n",
       "1  2000-04-08     15    8.0    6.0   ...       NaN     NaN     NaN     NaN   \n",
       "\n",
       "   71week  72week  73week  74week  75week  76week  \n",
       "0     NaN     NaN     NaN     NaN     NaN     NaN  \n",
       "1     NaN     NaN     NaN     NaN     NaN     NaN  \n",
       "\n",
       "[2 rows x 83 columns]"
      ]
     },
     "execution_count": 71,
     "metadata": {},
     "output_type": "execute_result"
    }
   ],
   "source": [
    "billboard.head(2)"
   ]
  },
  {
   "cell_type": "code",
   "execution_count": 72,
   "metadata": {
    "collapsed": true
   },
   "outputs": [],
   "source": [
    "billboard.drop(['66week','67week','68week','69week','70week','71week','72week','73week','74week','75week','76week'],axis=1,inplace=True)"
   ]
  },
  {
   "cell_type": "code",
   "execution_count": 73,
   "metadata": {
    "collapsed": false
   },
   "outputs": [
    {
     "data": {
      "text/html": [
       "<div>\n",
       "<table border=\"1\" class=\"dataframe\">\n",
       "  <thead>\n",
       "    <tr style=\"text-align: right;\">\n",
       "      <th></th>\n",
       "      <th>year</th>\n",
       "      <th>artiinverted</th>\n",
       "      <th>track</th>\n",
       "      <th>time</th>\n",
       "      <th>genre</th>\n",
       "      <th>date.entered</th>\n",
       "      <th>date.peaked</th>\n",
       "      <th>1week</th>\n",
       "      <th>2week</th>\n",
       "      <th>3week</th>\n",
       "      <th>...</th>\n",
       "      <th>56week</th>\n",
       "      <th>57week</th>\n",
       "      <th>58week</th>\n",
       "      <th>59week</th>\n",
       "      <th>60week</th>\n",
       "      <th>61week</th>\n",
       "      <th>62week</th>\n",
       "      <th>63week</th>\n",
       "      <th>64week</th>\n",
       "      <th>65week</th>\n",
       "    </tr>\n",
       "  </thead>\n",
       "  <tbody>\n",
       "    <tr>\n",
       "      <th>0</th>\n",
       "      <td>2000</td>\n",
       "      <td>Destiny's Child</td>\n",
       "      <td>Independent Women Part I</td>\n",
       "      <td>3:38</td>\n",
       "      <td>Rock</td>\n",
       "      <td>2000-09-23</td>\n",
       "      <td>2000-11-18</td>\n",
       "      <td>78</td>\n",
       "      <td>63.0</td>\n",
       "      <td>49.0</td>\n",
       "      <td>...</td>\n",
       "      <td>NaN</td>\n",
       "      <td>NaN</td>\n",
       "      <td>NaN</td>\n",
       "      <td>NaN</td>\n",
       "      <td>NaN</td>\n",
       "      <td>NaN</td>\n",
       "      <td>NaN</td>\n",
       "      <td>NaN</td>\n",
       "      <td>NaN</td>\n",
       "      <td>NaN</td>\n",
       "    </tr>\n",
       "    <tr>\n",
       "      <th>1</th>\n",
       "      <td>2000</td>\n",
       "      <td>Santana</td>\n",
       "      <td>Maria, Maria</td>\n",
       "      <td>4:18</td>\n",
       "      <td>Rock</td>\n",
       "      <td>2000-02-12</td>\n",
       "      <td>2000-04-08</td>\n",
       "      <td>15</td>\n",
       "      <td>8.0</td>\n",
       "      <td>6.0</td>\n",
       "      <td>...</td>\n",
       "      <td>NaN</td>\n",
       "      <td>NaN</td>\n",
       "      <td>NaN</td>\n",
       "      <td>NaN</td>\n",
       "      <td>NaN</td>\n",
       "      <td>NaN</td>\n",
       "      <td>NaN</td>\n",
       "      <td>NaN</td>\n",
       "      <td>NaN</td>\n",
       "      <td>NaN</td>\n",
       "    </tr>\n",
       "  </tbody>\n",
       "</table>\n",
       "<p>2 rows × 72 columns</p>\n",
       "</div>"
      ],
      "text/plain": [
       "   year     artiinverted                     track  time genre date.entered  \\\n",
       "0  2000  Destiny's Child  Independent Women Part I  3:38  Rock   2000-09-23   \n",
       "1  2000          Santana              Maria, Maria  4:18  Rock   2000-02-12   \n",
       "\n",
       "  date.peaked  1week  2week  3week   ...    56week  57week  58week  59week  \\\n",
       "0  2000-11-18     78   63.0   49.0   ...       NaN     NaN     NaN     NaN   \n",
       "1  2000-04-08     15    8.0    6.0   ...       NaN     NaN     NaN     NaN   \n",
       "\n",
       "   60week  61week  62week  63week  64week  65week  \n",
       "0     NaN     NaN     NaN     NaN     NaN     NaN  \n",
       "1     NaN     NaN     NaN     NaN     NaN     NaN  \n",
       "\n",
       "[2 rows x 72 columns]"
      ]
     },
     "execution_count": 73,
     "metadata": {},
     "output_type": "execute_result"
    }
   ],
   "source": [
    "billboard.head(2)"
   ]
  },
  {
   "cell_type": "code",
   "execution_count": 88,
   "metadata": {
    "collapsed": false
   },
   "outputs": [
    {
     "data": {
      "text/html": [
       "<div>\n",
       "<table border=\"1\" class=\"dataframe\">\n",
       "  <thead>\n",
       "    <tr style=\"text-align: right;\">\n",
       "      <th></th>\n",
       "      <th>1week</th>\n",
       "      <th>2week</th>\n",
       "      <th>3week</th>\n",
       "      <th>4week</th>\n",
       "      <th>5week</th>\n",
       "      <th>6week</th>\n",
       "      <th>7week</th>\n",
       "      <th>8week</th>\n",
       "      <th>9week</th>\n",
       "      <th>10week</th>\n",
       "      <th>...</th>\n",
       "      <th>56week</th>\n",
       "      <th>57week</th>\n",
       "      <th>58week</th>\n",
       "      <th>59week</th>\n",
       "      <th>60week</th>\n",
       "      <th>61week</th>\n",
       "      <th>62week</th>\n",
       "      <th>63week</th>\n",
       "      <th>64week</th>\n",
       "      <th>65week</th>\n",
       "    </tr>\n",
       "  </thead>\n",
       "  <tbody>\n",
       "    <tr>\n",
       "      <th>0</th>\n",
       "      <td>78</td>\n",
       "      <td>63.0</td>\n",
       "      <td>49.0</td>\n",
       "      <td>33.0</td>\n",
       "      <td>23.0</td>\n",
       "      <td>15.0</td>\n",
       "      <td>7.0</td>\n",
       "      <td>5.0</td>\n",
       "      <td>1.0</td>\n",
       "      <td>1.0</td>\n",
       "      <td>...</td>\n",
       "      <td>NaN</td>\n",
       "      <td>NaN</td>\n",
       "      <td>NaN</td>\n",
       "      <td>NaN</td>\n",
       "      <td>NaN</td>\n",
       "      <td>NaN</td>\n",
       "      <td>NaN</td>\n",
       "      <td>NaN</td>\n",
       "      <td>NaN</td>\n",
       "      <td>NaN</td>\n",
       "    </tr>\n",
       "    <tr>\n",
       "      <th>1</th>\n",
       "      <td>15</td>\n",
       "      <td>8.0</td>\n",
       "      <td>6.0</td>\n",
       "      <td>5.0</td>\n",
       "      <td>2.0</td>\n",
       "      <td>3.0</td>\n",
       "      <td>2.0</td>\n",
       "      <td>2.0</td>\n",
       "      <td>1.0</td>\n",
       "      <td>1.0</td>\n",
       "      <td>...</td>\n",
       "      <td>NaN</td>\n",
       "      <td>NaN</td>\n",
       "      <td>NaN</td>\n",
       "      <td>NaN</td>\n",
       "      <td>NaN</td>\n",
       "      <td>NaN</td>\n",
       "      <td>NaN</td>\n",
       "      <td>NaN</td>\n",
       "      <td>NaN</td>\n",
       "      <td>NaN</td>\n",
       "    </tr>\n",
       "  </tbody>\n",
       "</table>\n",
       "<p>2 rows × 65 columns</p>\n",
       "</div>"
      ],
      "text/plain": [
       "   1week  2week  3week  4week  5week  6week  7week  8week  9week  10week  \\\n",
       "0     78   63.0   49.0   33.0   23.0   15.0    7.0    5.0    1.0     1.0   \n",
       "1     15    8.0    6.0    5.0    2.0    3.0    2.0    2.0    1.0     1.0   \n",
       "\n",
       "    ...    56week  57week  58week  59week  60week  61week  62week  63week  \\\n",
       "0   ...       NaN     NaN     NaN     NaN     NaN     NaN     NaN     NaN   \n",
       "1   ...       NaN     NaN     NaN     NaN     NaN     NaN     NaN     NaN   \n",
       "\n",
       "   64week  65week  \n",
       "0     NaN     NaN  \n",
       "1     NaN     NaN  \n",
       "\n",
       "[2 rows x 65 columns]"
      ]
     },
     "execution_count": 88,
     "metadata": {},
     "output_type": "execute_result"
    }
   ],
   "source": [
    "billboard_week= billboard[billboard.columns[7:72]]\n",
    "#,axis=0\n",
    "billboard_week.head(2)\n"
   ]
  },
  {
   "cell_type": "code",
   "execution_count": 89,
   "metadata": {
    "collapsed": false
   },
   "outputs": [
    {
     "data": {
      "text/html": [
       "<div>\n",
       "<table border=\"1\" class=\"dataframe\">\n",
       "  <thead>\n",
       "    <tr style=\"text-align: right;\">\n",
       "      <th></th>\n",
       "      <th>1week</th>\n",
       "      <th>2week</th>\n",
       "      <th>3week</th>\n",
       "      <th>4week</th>\n",
       "      <th>5week</th>\n",
       "      <th>6week</th>\n",
       "      <th>7week</th>\n",
       "      <th>8week</th>\n",
       "      <th>9week</th>\n",
       "      <th>10week</th>\n",
       "      <th>...</th>\n",
       "      <th>56week</th>\n",
       "      <th>57week</th>\n",
       "      <th>58week</th>\n",
       "      <th>59week</th>\n",
       "      <th>60week</th>\n",
       "      <th>61week</th>\n",
       "      <th>62week</th>\n",
       "      <th>63week</th>\n",
       "      <th>64week</th>\n",
       "      <th>65week</th>\n",
       "    </tr>\n",
       "  </thead>\n",
       "  <tbody>\n",
       "    <tr>\n",
       "      <th>count</th>\n",
       "      <td>317.000000</td>\n",
       "      <td>312.000000</td>\n",
       "      <td>307.000000</td>\n",
       "      <td>300.000000</td>\n",
       "      <td>292.000000</td>\n",
       "      <td>280.000000</td>\n",
       "      <td>269.000000</td>\n",
       "      <td>260.000000</td>\n",
       "      <td>253.000000</td>\n",
       "      <td>244.000000</td>\n",
       "      <td>...</td>\n",
       "      <td>2.000000</td>\n",
       "      <td>2.00000</td>\n",
       "      <td>2.000000</td>\n",
       "      <td>2.000000</td>\n",
       "      <td>2.000000</td>\n",
       "      <td>2.000000</td>\n",
       "      <td>2.000000</td>\n",
       "      <td>2.000000</td>\n",
       "      <td>2.0</td>\n",
       "      <td>1.0</td>\n",
       "    </tr>\n",
       "    <tr>\n",
       "      <th>mean</th>\n",
       "      <td>79.958991</td>\n",
       "      <td>71.173077</td>\n",
       "      <td>65.045603</td>\n",
       "      <td>59.763333</td>\n",
       "      <td>56.339041</td>\n",
       "      <td>52.360714</td>\n",
       "      <td>49.219331</td>\n",
       "      <td>47.119231</td>\n",
       "      <td>46.343874</td>\n",
       "      <td>45.786885</td>\n",
       "      <td>...</td>\n",
       "      <td>25.500000</td>\n",
       "      <td>27.50000</td>\n",
       "      <td>31.500000</td>\n",
       "      <td>35.500000</td>\n",
       "      <td>38.000000</td>\n",
       "      <td>42.500000</td>\n",
       "      <td>44.500000</td>\n",
       "      <td>47.500000</td>\n",
       "      <td>50.0</td>\n",
       "      <td>49.0</td>\n",
       "    </tr>\n",
       "    <tr>\n",
       "      <th>std</th>\n",
       "      <td>14.686865</td>\n",
       "      <td>18.200443</td>\n",
       "      <td>20.752302</td>\n",
       "      <td>22.324619</td>\n",
       "      <td>23.780022</td>\n",
       "      <td>24.473273</td>\n",
       "      <td>25.654279</td>\n",
       "      <td>26.370782</td>\n",
       "      <td>27.136419</td>\n",
       "      <td>28.152357</td>\n",
       "      <td>...</td>\n",
       "      <td>0.707107</td>\n",
       "      <td>2.12132</td>\n",
       "      <td>0.707107</td>\n",
       "      <td>4.949747</td>\n",
       "      <td>1.414214</td>\n",
       "      <td>0.707107</td>\n",
       "      <td>3.535534</td>\n",
       "      <td>3.535534</td>\n",
       "      <td>0.0</td>\n",
       "      <td>NaN</td>\n",
       "    </tr>\n",
       "    <tr>\n",
       "      <th>min</th>\n",
       "      <td>15.000000</td>\n",
       "      <td>8.000000</td>\n",
       "      <td>6.000000</td>\n",
       "      <td>5.000000</td>\n",
       "      <td>2.000000</td>\n",
       "      <td>1.000000</td>\n",
       "      <td>1.000000</td>\n",
       "      <td>1.000000</td>\n",
       "      <td>1.000000</td>\n",
       "      <td>1.000000</td>\n",
       "      <td>...</td>\n",
       "      <td>25.000000</td>\n",
       "      <td>26.00000</td>\n",
       "      <td>31.000000</td>\n",
       "      <td>32.000000</td>\n",
       "      <td>37.000000</td>\n",
       "      <td>42.000000</td>\n",
       "      <td>42.000000</td>\n",
       "      <td>45.000000</td>\n",
       "      <td>50.0</td>\n",
       "      <td>49.0</td>\n",
       "    </tr>\n",
       "    <tr>\n",
       "      <th>25%</th>\n",
       "      <td>74.000000</td>\n",
       "      <td>63.000000</td>\n",
       "      <td>53.000000</td>\n",
       "      <td>44.750000</td>\n",
       "      <td>38.750000</td>\n",
       "      <td>33.750000</td>\n",
       "      <td>30.000000</td>\n",
       "      <td>27.000000</td>\n",
       "      <td>26.000000</td>\n",
       "      <td>24.750000</td>\n",
       "      <td>...</td>\n",
       "      <td>25.250000</td>\n",
       "      <td>26.75000</td>\n",
       "      <td>31.250000</td>\n",
       "      <td>33.750000</td>\n",
       "      <td>37.500000</td>\n",
       "      <td>42.250000</td>\n",
       "      <td>43.250000</td>\n",
       "      <td>46.250000</td>\n",
       "      <td>50.0</td>\n",
       "      <td>49.0</td>\n",
       "    </tr>\n",
       "    <tr>\n",
       "      <th>50%</th>\n",
       "      <td>81.000000</td>\n",
       "      <td>73.000000</td>\n",
       "      <td>66.000000</td>\n",
       "      <td>61.000000</td>\n",
       "      <td>57.000000</td>\n",
       "      <td>51.500000</td>\n",
       "      <td>47.000000</td>\n",
       "      <td>45.500000</td>\n",
       "      <td>42.000000</td>\n",
       "      <td>40.000000</td>\n",
       "      <td>...</td>\n",
       "      <td>25.500000</td>\n",
       "      <td>27.50000</td>\n",
       "      <td>31.500000</td>\n",
       "      <td>35.500000</td>\n",
       "      <td>38.000000</td>\n",
       "      <td>42.500000</td>\n",
       "      <td>44.500000</td>\n",
       "      <td>47.500000</td>\n",
       "      <td>50.0</td>\n",
       "      <td>49.0</td>\n",
       "    </tr>\n",
       "    <tr>\n",
       "      <th>75%</th>\n",
       "      <td>91.000000</td>\n",
       "      <td>84.000000</td>\n",
       "      <td>79.000000</td>\n",
       "      <td>76.000000</td>\n",
       "      <td>73.250000</td>\n",
       "      <td>72.250000</td>\n",
       "      <td>67.000000</td>\n",
       "      <td>67.000000</td>\n",
       "      <td>67.000000</td>\n",
       "      <td>69.000000</td>\n",
       "      <td>...</td>\n",
       "      <td>25.750000</td>\n",
       "      <td>28.25000</td>\n",
       "      <td>31.750000</td>\n",
       "      <td>37.250000</td>\n",
       "      <td>38.500000</td>\n",
       "      <td>42.750000</td>\n",
       "      <td>45.750000</td>\n",
       "      <td>48.750000</td>\n",
       "      <td>50.0</td>\n",
       "      <td>49.0</td>\n",
       "    </tr>\n",
       "    <tr>\n",
       "      <th>max</th>\n",
       "      <td>100.000000</td>\n",
       "      <td>100.000000</td>\n",
       "      <td>100.000000</td>\n",
       "      <td>100.000000</td>\n",
       "      <td>100.000000</td>\n",
       "      <td>99.000000</td>\n",
       "      <td>100.000000</td>\n",
       "      <td>99.000000</td>\n",
       "      <td>100.000000</td>\n",
       "      <td>100.000000</td>\n",
       "      <td>...</td>\n",
       "      <td>26.000000</td>\n",
       "      <td>29.00000</td>\n",
       "      <td>32.000000</td>\n",
       "      <td>39.000000</td>\n",
       "      <td>39.000000</td>\n",
       "      <td>43.000000</td>\n",
       "      <td>47.000000</td>\n",
       "      <td>50.000000</td>\n",
       "      <td>50.0</td>\n",
       "      <td>49.0</td>\n",
       "    </tr>\n",
       "  </tbody>\n",
       "</table>\n",
       "<p>8 rows × 65 columns</p>\n",
       "</div>"
      ],
      "text/plain": [
       "            1week       2week       3week       4week       5week       6week  \\\n",
       "count  317.000000  312.000000  307.000000  300.000000  292.000000  280.000000   \n",
       "mean    79.958991   71.173077   65.045603   59.763333   56.339041   52.360714   \n",
       "std     14.686865   18.200443   20.752302   22.324619   23.780022   24.473273   \n",
       "min     15.000000    8.000000    6.000000    5.000000    2.000000    1.000000   \n",
       "25%     74.000000   63.000000   53.000000   44.750000   38.750000   33.750000   \n",
       "50%     81.000000   73.000000   66.000000   61.000000   57.000000   51.500000   \n",
       "75%     91.000000   84.000000   79.000000   76.000000   73.250000   72.250000   \n",
       "max    100.000000  100.000000  100.000000  100.000000  100.000000   99.000000   \n",
       "\n",
       "            7week       8week       9week      10week   ...       56week  \\\n",
       "count  269.000000  260.000000  253.000000  244.000000   ...     2.000000   \n",
       "mean    49.219331   47.119231   46.343874   45.786885   ...    25.500000   \n",
       "std     25.654279   26.370782   27.136419   28.152357   ...     0.707107   \n",
       "min      1.000000    1.000000    1.000000    1.000000   ...    25.000000   \n",
       "25%     30.000000   27.000000   26.000000   24.750000   ...    25.250000   \n",
       "50%     47.000000   45.500000   42.000000   40.000000   ...    25.500000   \n",
       "75%     67.000000   67.000000   67.000000   69.000000   ...    25.750000   \n",
       "max    100.000000   99.000000  100.000000  100.000000   ...    26.000000   \n",
       "\n",
       "         57week     58week     59week     60week     61week     62week  \\\n",
       "count   2.00000   2.000000   2.000000   2.000000   2.000000   2.000000   \n",
       "mean   27.50000  31.500000  35.500000  38.000000  42.500000  44.500000   \n",
       "std     2.12132   0.707107   4.949747   1.414214   0.707107   3.535534   \n",
       "min    26.00000  31.000000  32.000000  37.000000  42.000000  42.000000   \n",
       "25%    26.75000  31.250000  33.750000  37.500000  42.250000  43.250000   \n",
       "50%    27.50000  31.500000  35.500000  38.000000  42.500000  44.500000   \n",
       "75%    28.25000  31.750000  37.250000  38.500000  42.750000  45.750000   \n",
       "max    29.00000  32.000000  39.000000  39.000000  43.000000  47.000000   \n",
       "\n",
       "          63week  64week  65week  \n",
       "count   2.000000     2.0     1.0  \n",
       "mean   47.500000    50.0    49.0  \n",
       "std     3.535534     0.0     NaN  \n",
       "min    45.000000    50.0    49.0  \n",
       "25%    46.250000    50.0    49.0  \n",
       "50%    47.500000    50.0    49.0  \n",
       "75%    48.750000    50.0    49.0  \n",
       "max    50.000000    50.0    49.0  \n",
       "\n",
       "[8 rows x 65 columns]"
      ]
     },
     "execution_count": 89,
     "metadata": {},
     "output_type": "execute_result"
    }
   ],
   "source": [
    "billboard_week.describe()"
   ]
  },
  {
   "cell_type": "code",
   "execution_count": 92,
   "metadata": {
    "collapsed": false
   },
   "outputs": [
    {
     "data": {
      "text/plain": [
       "Index([u'year', u'artiinverted', u'track', u'time', u'genre', u'date.entered',\n",
       "       u'date.peaked', u'1week', u'2week', u'3week', u'4week', u'5week',\n",
       "       u'6week', u'7week', u'8week', u'9week', u'10week', u'11week', u'12week',\n",
       "       u'13week', u'14week', u'15week', u'16week', u'17week', u'18week',\n",
       "       u'19week', u'20week', u'21week', u'22week', u'23week', u'24week',\n",
       "       u'25week', u'26week', u'27week', u'28week', u'29week', u'30week',\n",
       "       u'31week', u'32week', u'33week', u'34week', u'35week', u'36week',\n",
       "       u'37week', u'38week', u'39week', u'40week', u'41week', u'42week',\n",
       "       u'43week', u'44week', u'45week', u'46week', u'47week', u'48week',\n",
       "       u'49week', u'50week', u'51week', u'52week', u'53week', u'54week',\n",
       "       u'55week', u'56week', u'57week', u'58week', u'59week', u'60week',\n",
       "       u'61week', u'62week', u'63week', u'64week', u'65week'],\n",
       "      dtype='object')"
      ]
     },
     "execution_count": 92,
     "metadata": {},
     "output_type": "execute_result"
    }
   ],
   "source": [
    "billboard.columns"
   ]
  },
  {
   "cell_type": "code",
   "execution_count": 94,
   "metadata": {
    "collapsed": false
   },
   "outputs": [
    {
     "data": {
      "text/html": [
       "<div>\n",
       "<table border=\"1\" class=\"dataframe\">\n",
       "  <thead>\n",
       "    <tr style=\"text-align: right;\">\n",
       "      <th></th>\n",
       "      <th>year</th>\n",
       "      <th>artiinverted</th>\n",
       "      <th>track</th>\n",
       "      <th>time</th>\n",
       "      <th>genre</th>\n",
       "      <th>date.entered</th>\n",
       "    </tr>\n",
       "  </thead>\n",
       "  <tbody>\n",
       "    <tr>\n",
       "      <th>0</th>\n",
       "      <td>2000</td>\n",
       "      <td>Destiny's Child</td>\n",
       "      <td>Independent Women Part I</td>\n",
       "      <td>3:38</td>\n",
       "      <td>Rock</td>\n",
       "      <td>2000-09-23</td>\n",
       "    </tr>\n",
       "    <tr>\n",
       "      <th>1</th>\n",
       "      <td>2000</td>\n",
       "      <td>Santana</td>\n",
       "      <td>Maria, Maria</td>\n",
       "      <td>4:18</td>\n",
       "      <td>Rock</td>\n",
       "      <td>2000-02-12</td>\n",
       "    </tr>\n",
       "  </tbody>\n",
       "</table>\n",
       "</div>"
      ],
      "text/plain": [
       "   year     artiinverted                     track  time genre date.entered\n",
       "0  2000  Destiny's Child  Independent Women Part I  3:38  Rock   2000-09-23\n",
       "1  2000          Santana              Maria, Maria  4:18  Rock   2000-02-12"
      ]
     },
     "execution_count": 94,
     "metadata": {},
     "output_type": "execute_result"
    }
   ],
   "source": [
    "billboard_details=billboard[billboard.columns[0:6]]\n",
    "billboard_details.head(2)"
   ]
  },
  {
   "cell_type": "code",
   "execution_count": 96,
   "metadata": {
    "collapsed": false
   },
   "outputs": [
    {
     "data": {
      "text/plain": [
       "array(['Rock', 'Latin', 'Country', 'Rap', 'Pop', 'Electronica', 'Jazz',\n",
       "       'R&B', 'Reggae', 'Gospel'], dtype=object)"
      ]
     },
     "execution_count": 96,
     "metadata": {},
     "output_type": "execute_result"
    }
   ],
   "source": [
    "billboard_details.genre.unique()"
   ]
  },
  {
   "cell_type": "code",
   "execution_count": 102,
   "metadata": {
    "collapsed": false
   },
   "outputs": [
    {
     "data": {
      "text/plain": [
       "Rock           137\n",
       "Country         74\n",
       "Rap             58\n",
       "R&B             23\n",
       "Pop              9\n",
       "Latin            9\n",
       "Electronica      4\n",
       "Gospel           1\n",
       "Jazz             1\n",
       "Reggae           1\n",
       "Name: genre, dtype: int64"
      ]
     },
     "execution_count": 102,
     "metadata": {},
     "output_type": "execute_result"
    }
   ],
   "source": [
    "billboard_genre=billboard_details.genre.value_counts()\n",
    "billboard_genre"
   ]
  },
  {
   "cell_type": "code",
   "execution_count": 103,
   "metadata": {
    "collapsed": false
   },
   "outputs": [
    {
     "data": {
      "text/plain": [
       "<matplotlib.axes._subplots.AxesSubplot at 0x11c63ed50>"
      ]
     },
     "execution_count": 103,
     "metadata": {},
     "output_type": "execute_result"
    },
    {
     "data": {
      "image/png": "[encoded data removed]",
      "text/plain": [
       "<matplotlib.figure.Figure at 0x11c6213d0>"
      ]
     },
     "metadata": {
      "image/png": {
       "height": 263,
       "width": 390
      }
     },
     "output_type": "display_data"
    }
   ],
   "source": [
    "import seaborn as sns\n",
    "sns.boxplot(billboard_genre)"
   ]
  },
  {
   "cell_type": "code",
   "execution_count": 106,
   "metadata": {
    "collapsed": false
   },
   "outputs": [
    {
     "data": {
      "image/png": "[encoded data removed]",
      "text/plain": [
       "<matplotlib.figure.Figure at 0x11c74f590>"
      ]
     },
     "metadata": {
      "image/png": {
       "height": 743,
       "width": 725
      }
     },
     "output_type": "display_data"
    }
   ],
   "source": [
    "fig=plt.figure(figsize=(8,10))\n",
    "ax=fig.gca()\n",
    "ax=sns.boxplot(billboard_genre, orient='v', fliersize=8, linewidth=1.5,notch=True,saturation=0.5,ax=ax)\n",
    "ax.set_ylabel(billboard_genre, fontsize=16)\n",
    "ax.set_title(billboard_genre, fontsize=16)\n",
    "plt.show()"
   ]
  },
  {
   "cell_type": "code",
   "execution_count": 110,
   "metadata": {
    "collapsed": false
   },
   "outputs": [
    {
     "data": {
      "text/plain": [
       "(array([ 6.,  1.,  0.,  0.,  1.,  1.,  0.,  0.,  0.,  1.]),\n",
       " array([   1. ,   14.6,   28.2,   41.8,   55.4,   69. ,   82.6,   96.2,\n",
       "         109.8,  123.4,  137. ]),\n",
       " <a list of 10 Patch objects>)"
      ]
     },
     "execution_count": 110,
     "metadata": {},
     "output_type": "execute_result"
    },
    {
     "data": {
      "image/png": "[encoded data removed]",
      "text/plain": [
       "<matplotlib.figure.Figure at 0x11dfd1d10>"
      ]
     },
     "metadata": {
      "image/png": {
       "height": 248,
       "width": 402
      }
     },
     "output_type": "display_data"
    }
   ],
   "source": [
    "plt.hist(billboard_genre, bins=10)"
   ]
  },
  {
   "cell_type": "code",
   "execution_count": 114,
   "metadata": {
    "collapsed": false
   },
   "outputs": [
    {
     "ename": "NameError",
     "evalue": "name 'rock' is not defined",
     "output_type": "error",
     "traceback": [
      "\u001b[0;31m---------------------------------------------------------------------------\u001b[0m",
      "\u001b[0;31mNameError\u001b[0m                                 Traceback (most recent call last)",
      "\u001b[0;32m<ipython-input-114-4db45dc0565c>\u001b[0m in \u001b[0;36m<module>\u001b[0;34m()\u001b[0m\n\u001b[1;32m      1\u001b[0m \u001b[0;32mimport\u001b[0m \u001b[0mmatplotlib\u001b[0m\u001b[0;34m\u001b[0m\u001b[0m\n\u001b[0;32m----> 2\u001b[0;31m \u001b[0mmatplotlib\u001b[0m\u001b[0;34m.\u001b[0m\u001b[0mpyplot\u001b[0m\u001b[0;34m.\u001b[0m\u001b[0mscatter\u001b[0m\u001b[0;34m(\u001b[0m\u001b[0mrock\u001b[0m\u001b[0;34m,\u001b[0m\u001b[0mhiphop\u001b[0m\u001b[0;34m)\u001b[0m\u001b[0;34m\u001b[0m\u001b[0m\n\u001b[0m\u001b[1;32m      3\u001b[0m \u001b[0;34m\u001b[0m\u001b[0m\n\u001b[1;32m      4\u001b[0m \u001b[0mmatplotlib\u001b[0m\u001b[0;34m.\u001b[0m\u001b[0mpyplot\u001b[0m\u001b[0;34m.\u001b[0m\u001b[0mshow\u001b[0m\u001b[0;34m(\u001b[0m\u001b[0;34m)\u001b[0m\u001b[0;34m\u001b[0m\u001b[0m\n",
      "\u001b[0;31mNameError\u001b[0m: name 'rock' is not defined"
     ]
    }
   ],
   "source": [
    "import matplotlib\n",
    "matplotlib.pyplot.scatter(rock,hiphop)\n",
    "\n",
    "matplotlib.pyplot.show()"
   ]
  },
  {
   "cell_type": "code",
   "execution_count": null,
   "metadata": {
    "collapsed": true
   },
   "outputs": [],
   "source": []
  }
 ],
 "metadata": {
  "kernelspec": {
   "display_name": "Python 2",
   "language": "python",
   "name": "python2"
  },
  "language_info": {
   "codemirror_mode": {
    "name": "ipython",
    "version": 2
   },
   "file_extension": ".py",
   "mimetype": "text/x-python",
   "name": "python",
   "nbconvert_exporter": "python",
   "pygments_lexer": "ipython2",
   "version": "2.7.13"
  }
 },
 "nbformat": 4,
 "nbformat_minor": 0
}
