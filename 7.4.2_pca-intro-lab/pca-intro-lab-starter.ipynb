{
 "cells": [
  {
   "cell_type": "markdown",
   "metadata": {
    "deletable": true,
    "editable": true
   },
   "source": [
    "<img src=\"http://imgur.com/1ZcRyrc.png\" style=\"float: left; margin: 20px; height: 55px\">\n",
    "\n",
    "# PCA Lab: Speed Dating\n",
    "\n",
    "_Authors: Kiefer Katovich (SF)_\n",
    "\n",
    "---"
   ]
  },
  {
   "cell_type": "markdown",
   "metadata": {
    "deletable": true,
    "editable": true
   },
   "source": [
    "Let's practice PCA using a dataset from Kaggle! PCA is often used to simplify data, reduce noise, and find unmeasured \"latent variables\". So, it is important to spend the time to understand what's going on.\n",
    "\n",
    "**In this lab, we will:**\n",
    "- Explore how PCA is related to correlation.\n",
    "- Use PCA to perform dimensionality reduction.\n",
    "- Predict whether a speed dater likes reading, based on the dater's other likes.\n",
    "\n",
    "---"
   ]
  },
  {
   "cell_type": "markdown",
   "metadata": {
    "deletable": true,
    "editable": true
   },
   "source": [
    "### Dataset\n",
    "\n",
    "The dataset we are using for this lab is a subset of the [much more detailed speed dating dataset](https://www.kaggle.com/annavictoria/speed-dating-experiment). In particular, this contains no information on the actual speed dating itself (successes with or opinions of other individuals). It also contains no \"follow-up\" information where individuals are re-asked the same questions about themselves. All it contains are things that an individual enjoys doing, their ratings of themselves on how desireable they are, and how they think others rate them on desireability.\n",
    "\n",
    "Specifically, the columns in the data are outlined below:\n",
    "\n",
    "FieldName|Description\n",
    "---------|-----------\n",
    "    subject_id                   |   unique individual identifier\n",
    "    wave                         |   meetup id\n",
    "    like_sports                  |   enjoyment of participating in sports\n",
    "    like_tvsports                |   enjoyment of watching sports on tv\n",
    "    like_exercise                |   enjoyment of exercise\n",
    "    like_food                    |   enjoyment of food\n",
    "    like_museums                 |   enjoyment of museums\n",
    "    like_art                     |   enjoyment of art\n",
    "    like_hiking                  |   enjoyment of hiking\n",
    "    like_gaming                  |   enjoyment of playing games\n",
    "    like_clubbing                |   enjoyment of going clubbing/partying\n",
    "    like_reading                 |   enjoyment of reading\n",
    "    like_tv                      |   enjoyment of tv in general\n",
    "    like_theater                 |   enjoyment of the theater (plays, musicals, etc.)\n",
    "    like_movies                  |   enjoyment of movies\n",
    "    like_concerts                |   enjoyment of concerts\n",
    "    like_music                   |   enjoyment of music\n",
    "    like_shopping                |   enjoyment of shopping\n",
    "    like_yoga                    |   enjoyment of yoga\n",
    "    subjective_attractiveness    |   how attractive they rate themselves\n",
    "    subjective_sincerity         |   how sincere they rate themselves\n",
    "    subjective_intelligence      |   how intelligent they rate themselves\n",
    "    subjective_fun               |   how fun they rate themselves\n",
    "    subjective_ambition          |   how ambitious they rate themselves\n",
    "    objective_attractiveness     |   percieved rating others would give them on how attractive they are\n",
    "    objective_sincerity          |   perceived rating others would give them on how sincere they are\n",
    "    objective_intelligence       |   perceived rating others would give them on how intelligent they are\n",
    "    objective_fun                |   perceived rating others would give them on how fun they are\n",
    "    objective_ambition           |   perceived rating others would give them on how ambitious they are\n",
    "    \n",
    "There are 551 subjects total.\n",
    "\n",
    "---\n",
    "\n",
    "### 1. Load packages"
   ]
  },
  {
   "cell_type": "code",
   "execution_count": 1,
   "metadata": {
    "collapsed": true,
    "deletable": true,
    "editable": true
   },
   "outputs": [],
   "source": [
    "import matplotlib.pyplot as plt\n",
    "import numpy as np\n",
    "import pandas as pd\n",
    "import seaborn as sns\n",
    "\n",
    "sns.set_style(\"whitegrid\")\n",
    "\n",
    "%matplotlib inline\n",
    "%config InlineBackend.figure_format = 'retina'"
   ]
  },
  {
   "cell_type": "code",
   "execution_count": 2,
   "metadata": {
    "collapsed": true,
    "deletable": true,
    "editable": true
   },
   "outputs": [],
   "source": [
    "from sklearn.decomposition import PCA"
   ]
  },
  {
   "cell_type": "markdown",
   "metadata": {
    "deletable": true,
    "editable": true
   },
   "source": [
    "---\n",
    "\n",
    "### 2. Load and clean speed dating data\n",
    "\n",
    "- Remove columns with over 200 missing values.\n",
    "- Then, remove rows with missing values.\n",
    "- Verify no rows contain NaNs."
   ]
  },
  {
   "cell_type": "code",
   "execution_count": 3,
   "metadata": {
    "collapsed": false,
    "deletable": true,
    "editable": true
   },
   "outputs": [
    {
     "data": {
      "text/html": [
       "<div>\n",
       "<table border=\"1\" class=\"dataframe\">\n",
       "  <thead>\n",
       "    <tr style=\"text-align: right;\">\n",
       "      <th></th>\n",
       "      <th>subject_id</th>\n",
       "      <th>wave</th>\n",
       "      <th>like_sports</th>\n",
       "      <th>like_tvsports</th>\n",
       "      <th>like_exercise</th>\n",
       "      <th>like_food</th>\n",
       "      <th>like_museums</th>\n",
       "      <th>like_art</th>\n",
       "      <th>like_hiking</th>\n",
       "      <th>like_gaming</th>\n",
       "      <th>...</th>\n",
       "      <th>subjective_attractiveness</th>\n",
       "      <th>subjective_sincerity</th>\n",
       "      <th>subjective_intelligence</th>\n",
       "      <th>subjective_fun</th>\n",
       "      <th>subjective_ambition</th>\n",
       "      <th>objective_attractiveness</th>\n",
       "      <th>objective_sincerity</th>\n",
       "      <th>objective_intelligence</th>\n",
       "      <th>objective_fun</th>\n",
       "      <th>objective_ambition</th>\n",
       "    </tr>\n",
       "  </thead>\n",
       "  <tbody>\n",
       "    <tr>\n",
       "      <th>0</th>\n",
       "      <td>1</td>\n",
       "      <td>1</td>\n",
       "      <td>9.0</td>\n",
       "      <td>2.0</td>\n",
       "      <td>8.0</td>\n",
       "      <td>9.0</td>\n",
       "      <td>1.0</td>\n",
       "      <td>1.0</td>\n",
       "      <td>5.0</td>\n",
       "      <td>1.0</td>\n",
       "      <td>...</td>\n",
       "      <td>6.0</td>\n",
       "      <td>8.0</td>\n",
       "      <td>8.0</td>\n",
       "      <td>8.0</td>\n",
       "      <td>7.0</td>\n",
       "      <td>NaN</td>\n",
       "      <td>NaN</td>\n",
       "      <td>NaN</td>\n",
       "      <td>NaN</td>\n",
       "      <td>NaN</td>\n",
       "    </tr>\n",
       "    <tr>\n",
       "      <th>1</th>\n",
       "      <td>2</td>\n",
       "      <td>1</td>\n",
       "      <td>3.0</td>\n",
       "      <td>2.0</td>\n",
       "      <td>7.0</td>\n",
       "      <td>10.0</td>\n",
       "      <td>8.0</td>\n",
       "      <td>6.0</td>\n",
       "      <td>3.0</td>\n",
       "      <td>5.0</td>\n",
       "      <td>...</td>\n",
       "      <td>7.0</td>\n",
       "      <td>5.0</td>\n",
       "      <td>8.0</td>\n",
       "      <td>10.0</td>\n",
       "      <td>3.0</td>\n",
       "      <td>NaN</td>\n",
       "      <td>NaN</td>\n",
       "      <td>NaN</td>\n",
       "      <td>NaN</td>\n",
       "      <td>NaN</td>\n",
       "    </tr>\n",
       "    <tr>\n",
       "      <th>2</th>\n",
       "      <td>3</td>\n",
       "      <td>1</td>\n",
       "      <td>3.0</td>\n",
       "      <td>8.0</td>\n",
       "      <td>7.0</td>\n",
       "      <td>8.0</td>\n",
       "      <td>5.0</td>\n",
       "      <td>5.0</td>\n",
       "      <td>8.0</td>\n",
       "      <td>4.0</td>\n",
       "      <td>...</td>\n",
       "      <td>8.0</td>\n",
       "      <td>9.0</td>\n",
       "      <td>9.0</td>\n",
       "      <td>8.0</td>\n",
       "      <td>8.0</td>\n",
       "      <td>NaN</td>\n",
       "      <td>NaN</td>\n",
       "      <td>NaN</td>\n",
       "      <td>NaN</td>\n",
       "      <td>NaN</td>\n",
       "    </tr>\n",
       "    <tr>\n",
       "      <th>3</th>\n",
       "      <td>4</td>\n",
       "      <td>1</td>\n",
       "      <td>1.0</td>\n",
       "      <td>1.0</td>\n",
       "      <td>6.0</td>\n",
       "      <td>7.0</td>\n",
       "      <td>6.0</td>\n",
       "      <td>7.0</td>\n",
       "      <td>7.0</td>\n",
       "      <td>5.0</td>\n",
       "      <td>...</td>\n",
       "      <td>7.0</td>\n",
       "      <td>8.0</td>\n",
       "      <td>7.0</td>\n",
       "      <td>9.0</td>\n",
       "      <td>8.0</td>\n",
       "      <td>NaN</td>\n",
       "      <td>NaN</td>\n",
       "      <td>NaN</td>\n",
       "      <td>NaN</td>\n",
       "      <td>NaN</td>\n",
       "    </tr>\n",
       "    <tr>\n",
       "      <th>4</th>\n",
       "      <td>5</td>\n",
       "      <td>1</td>\n",
       "      <td>7.0</td>\n",
       "      <td>4.0</td>\n",
       "      <td>7.0</td>\n",
       "      <td>7.0</td>\n",
       "      <td>6.0</td>\n",
       "      <td>8.0</td>\n",
       "      <td>6.0</td>\n",
       "      <td>6.0</td>\n",
       "      <td>...</td>\n",
       "      <td>6.0</td>\n",
       "      <td>3.0</td>\n",
       "      <td>10.0</td>\n",
       "      <td>6.0</td>\n",
       "      <td>8.0</td>\n",
       "      <td>NaN</td>\n",
       "      <td>NaN</td>\n",
       "      <td>NaN</td>\n",
       "      <td>NaN</td>\n",
       "      <td>NaN</td>\n",
       "    </tr>\n",
       "  </tbody>\n",
       "</table>\n",
       "<p>5 rows × 29 columns</p>\n",
       "</div>"
      ],
      "text/plain": [
       "   subject_id  wave  like_sports  like_tvsports  like_exercise  like_food  \\\n",
       "0           1     1          9.0            2.0            8.0        9.0   \n",
       "1           2     1          3.0            2.0            7.0       10.0   \n",
       "2           3     1          3.0            8.0            7.0        8.0   \n",
       "3           4     1          1.0            1.0            6.0        7.0   \n",
       "4           5     1          7.0            4.0            7.0        7.0   \n",
       "\n",
       "   like_museums  like_art  like_hiking  like_gaming         ...          \\\n",
       "0           1.0       1.0          5.0          1.0         ...           \n",
       "1           8.0       6.0          3.0          5.0         ...           \n",
       "2           5.0       5.0          8.0          4.0         ...           \n",
       "3           6.0       7.0          7.0          5.0         ...           \n",
       "4           6.0       8.0          6.0          6.0         ...           \n",
       "\n",
       "   subjective_attractiveness  subjective_sincerity  subjective_intelligence  \\\n",
       "0                        6.0                   8.0                      8.0   \n",
       "1                        7.0                   5.0                      8.0   \n",
       "2                        8.0                   9.0                      9.0   \n",
       "3                        7.0                   8.0                      7.0   \n",
       "4                        6.0                   3.0                     10.0   \n",
       "\n",
       "   subjective_fun  subjective_ambition  objective_attractiveness  \\\n",
       "0             8.0                  7.0                       NaN   \n",
       "1            10.0                  3.0                       NaN   \n",
       "2             8.0                  8.0                       NaN   \n",
       "3             9.0                  8.0                       NaN   \n",
       "4             6.0                  8.0                       NaN   \n",
       "\n",
       "   objective_sincerity  objective_intelligence  objective_fun  \\\n",
       "0                  NaN                     NaN            NaN   \n",
       "1                  NaN                     NaN            NaN   \n",
       "2                  NaN                     NaN            NaN   \n",
       "3                  NaN                     NaN            NaN   \n",
       "4                  NaN                     NaN            NaN   \n",
       "\n",
       "   objective_ambition  \n",
       "0                 NaN  \n",
       "1                 NaN  \n",
       "2                 NaN  \n",
       "3                 NaN  \n",
       "4                 NaN  \n",
       "\n",
       "[5 rows x 29 columns]"
      ]
     },
     "execution_count": 3,
     "metadata": {},
     "output_type": "execute_result"
    }
   ],
   "source": [
    "sd = pd.read_csv('/Users/Indraja/Documents/Dsi/7.4.2_pca-intro-lab/datasets/speed_dating.csv')\n",
    "\n",
    "sd.head()"
   ]
  },
  {
   "cell_type": "code",
   "execution_count": 4,
   "metadata": {
    "collapsed": false,
    "deletable": true,
    "editable": true
   },
   "outputs": [
    {
     "data": {
      "text/plain": [
       "Index([u'subject_id', u'wave', u'like_sports', u'like_tvsports',\n",
       "       u'like_exercise', u'like_food', u'like_museums', u'like_art',\n",
       "       u'like_hiking', u'like_gaming', u'like_clubbing', u'like_reading',\n",
       "       u'like_tv', u'like_theater', u'like_movies', u'like_concerts',\n",
       "       u'like_music', u'like_shopping', u'like_yoga',\n",
       "       u'subjective_attractiveness', u'subjective_sincerity',\n",
       "       u'subjective_intelligence', u'subjective_fun', u'subjective_ambition',\n",
       "       u'objective_attractiveness', u'objective_sincerity',\n",
       "       u'objective_intelligence', u'objective_fun', u'objective_ambition'],\n",
       "      dtype='object')"
      ]
     },
     "execution_count": 4,
     "metadata": {},
     "output_type": "execute_result"
    }
   ],
   "source": [
    "# A:\n",
    "\n",
    "sd.columns"
   ]
  },
  {
   "cell_type": "code",
   "execution_count": 5,
   "metadata": {
    "collapsed": false
   },
   "outputs": [
    {
     "data": {
      "text/plain": [
       "subject_id                     0\n",
       "wave                           0\n",
       "like_sports                    7\n",
       "like_tvsports                  7\n",
       "like_exercise                  7\n",
       "like_food                      7\n",
       "like_museums                   7\n",
       "like_art                       7\n",
       "like_hiking                    7\n",
       "like_gaming                    7\n",
       "like_clubbing                  7\n",
       "like_reading                   7\n",
       "like_tv                        7\n",
       "like_theater                   7\n",
       "like_movies                    7\n",
       "like_concerts                  7\n",
       "like_music                     7\n",
       "like_shopping                  7\n",
       "like_yoga                      7\n",
       "subjective_attractiveness      9\n",
       "subjective_sincerity           9\n",
       "subjective_intelligence        9\n",
       "subjective_fun                 9\n",
       "subjective_ambition            9\n",
       "objective_attractiveness     237\n",
       "objective_sincerity          237\n",
       "objective_intelligence       237\n",
       "objective_fun                237\n",
       "objective_ambition           237\n",
       "dtype: int64"
      ]
     },
     "execution_count": 5,
     "metadata": {},
     "output_type": "execute_result"
    }
   ],
   "source": [
    "sd.isnull().sum()"
   ]
  },
  {
   "cell_type": "code",
   "execution_count": 6,
   "metadata": {
    "collapsed": true
   },
   "outputs": [],
   "source": [
    "sd=sd.drop(['objective_attractiveness','objective_sincerity',\n",
    "         'objective_intelligence','objective_fun','objective_ambition'],\n",
    "        axis=1, inplace=True)"
   ]
  },
  {
   "cell_type": "code",
   "execution_count": 8,
   "metadata": {
    "collapsed": false
   },
   "outputs": [
    {
     "ename": "AttributeError",
     "evalue": "'NoneType' object has no attribute 'dropna'",
     "output_type": "error",
     "traceback": [
      "\u001b[0;31m---------------------------------------------------------------------------\u001b[0m",
      "\u001b[0;31mAttributeError\u001b[0m                            Traceback (most recent call last)",
      "\u001b[0;32m<ipython-input-8-5fe93698f855>\u001b[0m in \u001b[0;36m<module>\u001b[0;34m()\u001b[0m\n\u001b[0;32m----> 1\u001b[0;31m \u001b[0msd\u001b[0m\u001b[0;34m.\u001b[0m\u001b[0mdropna\u001b[0m\u001b[0;34m(\u001b[0m\u001b[0minplace\u001b[0m\u001b[0;34m=\u001b[0m\u001b[0mTrue\u001b[0m\u001b[0;34m)\u001b[0m\u001b[0;34m\u001b[0m\u001b[0m\n\u001b[0m",
      "\u001b[0;31mAttributeError\u001b[0m: 'NoneType' object has no attribute 'dropna'"
     ]
    }
   ],
   "source": [
    "sd.dropna(inplace=True)"
   ]
  },
  {
   "cell_type": "markdown",
   "metadata": {
    "deletable": true,
    "editable": true
   },
   "source": [
    "---\n",
    "\n",
    "### 3. EXAMPLE: Are the `subjective` columns correlated?\n",
    "\n",
    "Here, we will understand how the `subjective` columns are correlated.\n",
    "\n",
    "- Find the z-scores of each `subjective` column.\n",
    "- Visualize correlation using PairGrid.\n",
    "- Visualize correlation using a heatmap."
   ]
  },
  {
   "cell_type": "markdown",
   "metadata": {
    "deletable": true,
    "editable": true
   },
   "source": [
    "#### 3.A. Find the z-scores of each column. This better allows the columns to be directly compared."
   ]
  },
  {
   "cell_type": "code",
   "execution_count": null,
   "metadata": {
    "collapsed": false,
    "deletable": true,
    "editable": true,
    "scrolled": true
   },
   "outputs": [],
   "source": [
    "subjective_cols = [col for col in sd.columns if col.startswith('subjective')]\n",
    "# A:"
   ]
  },
  {
   "cell_type": "markdown",
   "metadata": {
    "deletable": true,
    "editable": true
   },
   "source": [
    "#### 3.B. Use a PairGrid to visualize correlation"
   ]
  },
  {
   "cell_type": "code",
   "execution_count": null,
   "metadata": {
    "collapsed": false,
    "deletable": true,
    "editable": true
   },
   "outputs": [],
   "source": [
    "# A:"
   ]
  },
  {
   "cell_type": "markdown",
   "metadata": {
    "deletable": true,
    "editable": true
   },
   "source": [
    "#### 3.C. Use a heatmap to visualize correlation"
   ]
  },
  {
   "cell_type": "code",
   "execution_count": null,
   "metadata": {
    "collapsed": false,
    "deletable": true,
    "editable": true
   },
   "outputs": [],
   "source": [
    "# A:"
   ]
  },
  {
   "cell_type": "code",
   "execution_count": null,
   "metadata": {
    "collapsed": false,
    "deletable": true,
    "editable": true
   },
   "outputs": [],
   "source": [
    "# A:"
   ]
  },
  {
   "cell_type": "markdown",
   "metadata": {
    "deletable": true,
    "editable": true
   },
   "source": [
    "---\n",
    "\n",
    "**Important: Did you ensure the results make intuitive sense?** If not, look at the results again. You should **always** interpret your results and ensure they \"make sense\" intutitively. If they are different than you expect, investigate why -- often your analysis or data is wrong.\n",
    "\n",
    "> For example, the results show that believing you are attractive and fun are correlated. Would you expect believing you are intellectual and fun to have a higher or lower correlation? What do the results say?\n",
    "\n",
    "---\n",
    "\n",
    "\n",
    "### 4. Visualize some preference columns\n",
    "\n",
    "Next, we will understand how some preference ratings are correlated. You saw an example above -- now try it on the `preference_cols` below!\n",
    "\n",
    "- Find the z-scores of each column in `preference_cols`.\n",
    "- Visualize correlation using PairGrid.\n",
    "- Visualize correlation using a heatmap.\n",
    "- Do these results make sense intuitively? "
   ]
  },
  {
   "cell_type": "code",
   "execution_count": null,
   "metadata": {
    "collapsed": false,
    "deletable": true,
    "editable": true
   },
   "outputs": [],
   "source": [
    "preference_cols = ['like_tvsports', 'like_sports', 'like_museums', 'like_theater', 'like_shopping']\n",
    "sd_like = sd[preference_cols]"
   ]
  },
  {
   "cell_type": "markdown",
   "metadata": {
    "collapsed": true,
    "deletable": true,
    "editable": true
   },
   "source": [
    "#### 4.A. Find the z-scores of each column in preference_cols"
   ]
  },
  {
   "cell_type": "code",
   "execution_count": null,
   "metadata": {
    "collapsed": true,
    "deletable": true,
    "editable": true
   },
   "outputs": [],
   "source": [
    "# A:"
   ]
  },
  {
   "cell_type": "markdown",
   "metadata": {
    "collapsed": false,
    "deletable": true,
    "editable": true
   },
   "source": [
    "#### 4.B. Visualize correlation using PairGrid"
   ]
  },
  {
   "cell_type": "code",
   "execution_count": null,
   "metadata": {
    "collapsed": true,
    "deletable": true,
    "editable": true
   },
   "outputs": [],
   "source": [
    "# A:"
   ]
  },
  {
   "cell_type": "markdown",
   "metadata": {
    "deletable": true,
    "editable": true
   },
   "source": [
    "#### 4.C. Visualize correlation using a heatmap"
   ]
  },
  {
   "cell_type": "code",
   "execution_count": null,
   "metadata": {
    "collapsed": false,
    "deletable": true,
    "editable": true
   },
   "outputs": [],
   "source": [
    "# A:"
   ]
  },
  {
   "cell_type": "markdown",
   "metadata": {
    "deletable": true,
    "editable": true
   },
   "source": [
    "---\n",
    "\n",
    "### 5. EXAMPLE: Fit PCA on the subjective ratings\n"
   ]
  },
  {
   "cell_type": "code",
   "execution_count": null,
   "metadata": {
    "collapsed": false,
    "deletable": true,
    "editable": true
   },
   "outputs": [],
   "source": [
    "# subjective_pca = PCA(n_components=5)\n",
    "# subjective_pca.fit(subjective.values)"
   ]
  },
  {
   "cell_type": "markdown",
   "metadata": {
    "deletable": true,
    "editable": true
   },
   "source": [
    "---\n",
    "\n",
    "#### 5.A. Look at principal component weighting vectors (eigenvectors)\n",
    "\n",
    "The principal components, or eigenvectors, can be thought of as weightings on the original variables to transform them into the new feature space."
   ]
  },
  {
   "cell_type": "code",
   "execution_count": null,
   "metadata": {
    "collapsed": true,
    "deletable": true,
    "editable": true
   },
   "outputs": [],
   "source": [
    "# A:"
   ]
  },
  {
   "cell_type": "markdown",
   "metadata": {
    "deletable": true,
    "editable": true
   },
   "source": [
    "---\n",
    "\n",
    "#### 5.B. Look at the eigenvalues and explained variance ratio\n",
    "\n",
    "The eigenvalues are ordered such that the first components have the largest eigenvalues. The values and their normalized equivalent in the explained variance ratio attribute tell you how much of the variance in the original data is encapsulated in the new component variables."
   ]
  },
  {
   "cell_type": "code",
   "execution_count": null,
   "metadata": {
    "collapsed": false,
    "deletable": true,
    "editable": true
   },
   "outputs": [],
   "source": [
    "# A:"
   ]
  },
  {
   "cell_type": "markdown",
   "metadata": {
    "deletable": true,
    "editable": true
   },
   "source": [
    "---\n",
    "\n",
    "#### 5.C. Transform the subjective data into principal component space\n",
    "\n",
    "The transform function in the PCA will create you new component variable matrix."
   ]
  },
  {
   "cell_type": "code",
   "execution_count": null,
   "metadata": {
    "collapsed": true,
    "deletable": true,
    "editable": true
   },
   "outputs": [],
   "source": [
    "# A:"
   ]
  },
  {
   "cell_type": "markdown",
   "metadata": {
    "deletable": true,
    "editable": true
   },
   "source": [
    "This transformed our 5-dimensional data into vectors along its 5 principal components (with zero loss).\n",
    "- Using these, we can now reduce the dimensionality of our data while minimizing loss.\n",
    "- For example, taking only the first three eigenvectors accounts for $0.431 + 0.178 + 0.147 = 75.6\\%$ of the variance."
   ]
  },
  {
   "cell_type": "code",
   "execution_count": null,
   "metadata": {
    "collapsed": false,
    "deletable": true,
    "editable": true
   },
   "outputs": [],
   "source": [
    "# A:"
   ]
  },
  {
   "cell_type": "markdown",
   "metadata": {
    "deletable": true,
    "editable": true
   },
   "source": [
    "---\n",
    "\n",
    "#### 5.D. PCA transformed features are not correlated\n",
    "\n",
    "- Keep in mind that each column in the transformed data is no longer correlated!\n",
    "- Compare this to the exploration above, where many columns were correlated."
   ]
  },
  {
   "cell_type": "code",
   "execution_count": null,
   "metadata": {
    "collapsed": false,
    "deletable": true,
    "editable": true
   },
   "outputs": [],
   "source": [
    "# A:"
   ]
  },
  {
   "cell_type": "markdown",
   "metadata": {
    "deletable": true,
    "editable": true
   },
   "source": [
    "---\n",
    "\n",
    "### 6.  OPTIONAL: How was the data transformed?\n",
    "\n",
    "To demonstrate how the the new principal component matrix is created from the original variable columns and the eigenvector weighting matrix, we'll create the first component PC1 manually.\n",
    "\n",
    "#### 6.A. Pull out the eigenvector for PC1"
   ]
  },
  {
   "cell_type": "code",
   "execution_count": null,
   "metadata": {
    "collapsed": false,
    "deletable": true,
    "editable": true
   },
   "outputs": [],
   "source": [
    "# A:"
   ]
  },
  {
   "cell_type": "markdown",
   "metadata": {
    "deletable": true,
    "editable": true
   },
   "source": [
    "#### 6.B. Create a dataframe showing the original values for the subjective variables for person 1"
   ]
  },
  {
   "cell_type": "code",
   "execution_count": null,
   "metadata": {
    "collapsed": false,
    "deletable": true,
    "editable": true
   },
   "outputs": [],
   "source": [
    "# A:"
   ]
  },
  {
   "cell_type": "markdown",
   "metadata": {
    "deletable": true,
    "editable": true
   },
   "source": [
    "#### 6.C. Add the eigenvector for PC1: the weights to multiply each original variable by\n",
    "\n",
    "Recall that each component is a linear combination of the original variables multiplied by a \"weight\" defined in the eigenvector of that component."
   ]
  },
  {
   "cell_type": "code",
   "execution_count": null,
   "metadata": {
    "collapsed": false,
    "deletable": true,
    "editable": true
   },
   "outputs": [],
   "source": [
    "# A:"
   ]
  },
  {
   "cell_type": "markdown",
   "metadata": {
    "deletable": true,
    "editable": true
   },
   "source": [
    "#### 6.D. Multiply the original variable values by the eigenvector values\n",
    "\n",
    "These are the \"pieces\" of principal component 1 that will be added together to make the new value for that person."
   ]
  },
  {
   "cell_type": "code",
   "execution_count": null,
   "metadata": {
    "collapsed": false,
    "deletable": true,
    "editable": true
   },
   "outputs": [],
   "source": [
    "# A:"
   ]
  },
  {
   "cell_type": "markdown",
   "metadata": {
    "deletable": true,
    "editable": true
   },
   "source": [
    "#### 6.E. Sum the original values multiplied by the eigenvector weights to get person 1's value for PC1"
   ]
  },
  {
   "cell_type": "code",
   "execution_count": null,
   "metadata": {
    "collapsed": false,
    "deletable": true,
    "editable": true
   },
   "outputs": [],
   "source": [
    "# A:"
   ]
  },
  {
   "cell_type": "markdown",
   "metadata": {
    "deletable": true,
    "editable": true
   },
   "source": [
    "---\n",
    "\n",
    "### 7. Fit PCA on the preference data\n",
    "\n",
    "Now that you've seen how it's done, try it yourself!\n",
    "\n",
    "- Find PCA eigenvalues and eigenvectors for the five `sd_like` columns\n",
    "- Transform the original `sd_like` columns into the principal component space\n",
    "- Verify these columns are uncorrelated"
   ]
  },
  {
   "cell_type": "code",
   "execution_count": null,
   "metadata": {
    "collapsed": false,
    "deletable": true,
    "editable": true
   },
   "outputs": [],
   "source": [
    "# A:"
   ]
  },
  {
   "cell_type": "markdown",
   "metadata": {
    "deletable": true,
    "editable": true
   },
   "source": [
    "#### 7.A. Find PCA eigenvalues and eigenvectors for the five `sd_like` columns"
   ]
  },
  {
   "cell_type": "code",
   "execution_count": null,
   "metadata": {
    "collapsed": false,
    "deletable": true,
    "editable": true
   },
   "outputs": [],
   "source": [
    "# A:"
   ]
  },
  {
   "cell_type": "markdown",
   "metadata": {
    "deletable": true,
    "editable": true
   },
   "source": [
    "#### 7.B. Transform the original `sd_like` columns into the principal component space"
   ]
  },
  {
   "cell_type": "code",
   "execution_count": null,
   "metadata": {
    "collapsed": true,
    "deletable": true,
    "editable": true
   },
   "outputs": [],
   "source": [
    "# A:"
   ]
  },
  {
   "cell_type": "markdown",
   "metadata": {
    "deletable": true,
    "editable": true
   },
   "source": [
    "#### 7.C. Verify these columns are uncorrelated"
   ]
  },
  {
   "cell_type": "code",
   "execution_count": null,
   "metadata": {
    "collapsed": true,
    "deletable": true,
    "editable": true
   },
   "outputs": [],
   "source": [
    "# A:"
   ]
  },
  {
   "cell_type": "markdown",
   "metadata": {
    "deletable": true,
    "editable": true
   },
   "source": [
    "---\n",
    "\n",
    "### 8. Use PCA for dimensionality reduction\n",
    "\n",
    "Using linear regression, let's predict whether a user likes reading!\n",
    "\n",
    "**The key question: ** Can we get the same prediction accuracy using only the first three principal components as features, versus using all five original values as features?"
   ]
  },
  {
   "cell_type": "code",
   "execution_count": null,
   "metadata": {
    "collapsed": false,
    "deletable": true,
    "editable": true
   },
   "outputs": [],
   "source": [
    "from sklearn.linear_model import LinearRegression\n",
    "from sklearn.model_selection import cross_val_score\n",
    "\n",
    "reading = sd['like_reading'].values"
   ]
  },
  {
   "cell_type": "markdown",
   "metadata": {
    "deletable": true,
    "editable": true
   },
   "source": [
    "#### 8.A. Linear regression cross-validated on original variables (`sd_like.values`)\n",
    "\n",
    "- What is the mean cross val score?\n",
    "- Keep in mind that Linear Regression uses error for score -- so zero is the ideal score!"
   ]
  },
  {
   "cell_type": "code",
   "execution_count": null,
   "metadata": {
    "collapsed": false,
    "deletable": true,
    "editable": true
   },
   "outputs": [],
   "source": [
    "# A:"
   ]
  },
  {
   "cell_type": "markdown",
   "metadata": {
    "deletable": true,
    "editable": true
   },
   "source": [
    "#### 8.B. Linear regression on first principal component\n",
    "\n",
    "- What is the mean cross val score?"
   ]
  },
  {
   "cell_type": "code",
   "execution_count": null,
   "metadata": {
    "collapsed": false,
    "deletable": true,
    "editable": true
   },
   "outputs": [],
   "source": [
    "# A:"
   ]
  },
  {
   "cell_type": "markdown",
   "metadata": {
    "deletable": true,
    "editable": true
   },
   "source": [
    "#### 8.C. Linear regression on first 3 principal components\n",
    "\n",
    "- What is the mean cross val score?"
   ]
  },
  {
   "cell_type": "code",
   "execution_count": null,
   "metadata": {
    "collapsed": false,
    "deletable": true,
    "editable": true
   },
   "outputs": [],
   "source": [
    "# A:"
   ]
  },
  {
   "cell_type": "markdown",
   "metadata": {
    "deletable": true,
    "editable": true
   },
   "source": [
    "---\n",
    "\n",
    "**Check yourself**. The mean cross val score should be nearly the same for the first 3 principal components as it was on the 5-component original data!"
   ]
  }
 ],
 "metadata": {
  "kernelspec": {
   "display_name": "Python 2",
   "language": "python",
   "name": "python2"
  },
  "language_info": {
   "codemirror_mode": {
    "name": "ipython",
    "version": 2
   },
   "file_extension": ".py",
   "mimetype": "text/x-python",
   "name": "python",
   "nbconvert_exporter": "python",
   "pygments_lexer": "ipython2",
   "version": "2.7.13"
  }
 },
 "nbformat": 4,
 "nbformat_minor": 0
}
