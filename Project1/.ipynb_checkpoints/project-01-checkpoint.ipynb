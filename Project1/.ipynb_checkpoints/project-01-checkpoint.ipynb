{
 "cells": [
  {
   "cell_type": "markdown",
   "metadata": {},
   "source": [
    "<img src=\"http://imgur.com/1ZcRyrc.png\" style=\"float: left; margin: 15px; height: 80px\">\n",
    "\n",
    "# Project 1\n",
    "\n",
    "### Review python syntax, structure, and concepts.\n",
    "\n",
    "---\n",
    "\n",
    "Project 1 is designed to be review and practice of python programming competencies.\n",
    "\n",
    "Please see the [Project Section Guide](https://github.com/ga-students/DSI-SF-4/wiki/Project-Section-Guide) on the github wiki for review of the color-coding of problems.\n"
   ]
  },
  {
   "cell_type": "markdown",
   "metadata": {},
   "source": [
    "<img src=\"http://imgur.com/l5NasQj.png\" style=\"float: left; margin: 25px 15px 0px 0px; height: 25px\">\n",
    "\n",
    "## Review Problem 1\n",
    "\n",
    "---\n",
    "\n",
    "For this problem you will be writing a function that the supplied dictionary `input_dict` and operates on it.\n",
    "\n",
    "Define a function that:\n",
    "\n",
    "- Accepts 1 argument, which will be a dictionary.\n",
    "- Prints the dictionary.\n",
    "- Iterates through the key:value pairs of the dictionary:\n",
    "    - For pairs where the key starts with a lowercase vowel, change the value to \"vowel\".\n",
    "    - For pairs where the key starts with a lowercase consonant, change the value to \"consonant\".\n",
    "    - Remove all other pairs from the dictionary.\n",
    "- Prints the modified dictionary.\n",
    "- Returns the modified dictionary.\n",
    "\n",
    "Notes/Hints:\n",
    " \n",
    "- ```string.ascii_lowercase``` is a string of all the lowercase letters in the alphabet. to use it you need to **import string** at the beginning of your script.\n",
    "- You can check if a character is in a string with **in**. \n",
    "    - ex: \n",
    "        ```python\n",
    "        if ch in st:\n",
    "        ```\n",
    "- You can create a new dictionary to store the modified return values or operate on the input dictionary.\n",
    "- You can check types using the ```type()``` python function:\n",
    "    ```python\n",
    "    type(1) == int\n",
    "    type(1.2) == float\n",
    "    type('ab') == str\n",
    "    type((1,2)) == tuple\n",
    "    type([3,2]) == list\n",
    "    type({'a':'b'}) == dict\n",
    "    ```"
   ]
  },
  {
   "cell_type": "code",
   "execution_count": 3,
   "metadata": {
    "collapsed": true
   },
   "outputs": [],
   "source": [
    "input_dict = {'list':[1,2,3,4], 'tuple':('cat', 'dog'), 'integer':1, \n",
    "              'float':99.99, 1:'integer', 2:'integer_2', 'Uppercase_string':'ABCD',\n",
    "              'CHARACTER':'C'}"
   ]
  },
  {
   "cell_type": "markdown",
   "metadata": {},
   "source": [
    "#### Define your function below:"
   ]
  },
  {
   "cell_type": "code",
   "execution_count": null,
   "metadata": {
    "collapsed": true
   },
   "outputs": [],
   "source": [
    "import numpy as np\n",
    "import string\n",
    "from scipy import stats\n",
    "import csv\n",
    "import pandas as pd"
   ]
  },
  {
   "cell_type": "code",
   "execution_count": 5,
   "metadata": {
    "collapsed": true
   },
   "outputs": [],
   "source": [
    "def my_dict(dict):\n",
    "    dic = {}\n",
    "    for key,value in dict.items():\n",
    "        if type(key) is str and key[0].islower():\n",
    "            if key[0] in ['a','e','i','o','u']:\n",
    "                value = 'vowel'\n",
    "            else:\n",
    "                value = 'consonant'\n",
    "            dic[key] = value\n",
    "    print(dict)\n",
    "    print (dic)\n",
    "\n"
   ]
  },
  {
   "cell_type": "markdown",
   "metadata": {},
   "source": [
    "#### Run your function with the `input_dict`:"
   ]
  },
  {
   "cell_type": "code",
   "execution_count": 6,
   "metadata": {
    "collapsed": false
   },
   "outputs": [
    {
     "name": "stdout",
     "output_type": "stream",
     "text": [
      "{'Uppercase_string': 'ABCD', 1: 'integer', 2: 'integer_2', 'tuple': ('cat', 'dog'), 'integer': 1, 'CHARACTER': 'C', 'float': 99.99, 'list': [1, 2, 3, 4]}\n",
      "{'integer': 'vowel', 'float': 'consonant', 'list': 'consonant', 'tuple': 'consonant'}\n"
     ]
    }
   ],
   "source": [
    "my_dict(input_dict)"
   ]
  },
  {
   "cell_type": "markdown",
   "metadata": {},
   "source": [
    "<img src=\"http://imgur.com/l5NasQj.png\" style=\"float: left; margin: 25px 15px 0px 0px; height: 25px\">\n",
    "\n",
    "## Review Problem 2\n",
    "\n",
    "---\n",
    "\n",
    "Write a function that operates on a dictionary and an optional list of numbers.\n",
    "\n",
    "Define a function that:\n",
    "\n",
    "- Accepts a dictionary as its first argument. The values of the dictionary should be a list of numbers.\n",
    "- Accepts an optional keyword argument that will be a list. The default should be an empty list. Name the optional keyword list `remainder`.\n",
    "- If `remainder` is empty: append a 2 to `remainder`.\n",
    "- Print the dictionary as well as `remainder`.\n",
    "- Iterate though they key:value pairs in the dictionary:\n",
    "    - For each value list of numbers, calculate the remainder of each number for each number in the `remainder` list.\n",
    "    - Create a dictionary where the keys are the numbers in the value list, and the values are the remainders of that number from the remainder list.\n",
    "    - ex: if a value in the dictionary is `[10,9]` and `remainder` is `[2,3]`, the new dictionary would be: `{10:[0, 1], 9:[1, 0]}`\n",
    "    - Keep the original key of the input dictionary, but change the value to the new dictionary of remainders.\n",
    "- Print out the final output dictionary.\n",
    "- Return the output dictionary.\n",
    "\n",
    "Notes/Hints:\n",
    "\n",
    "- keyword arguments are specified in functions like so: \n",
    "    ```python\n",
    "    def example_function(arg1, kwarg1=default_value):\n",
    "    ```\n",
    "- The operator for finding the remainder of two values is \"modulus\": ```%```\n",
    "    ```python\n",
    "    14 % 5 == 4\n",
    "    ```"
   ]
  },
  {
   "cell_type": "code",
   "execution_count": 9,
   "metadata": {
    "collapsed": true
   },
   "outputs": [],
   "source": [
    "test_dict = {'A':[1,2,3,4,5], 'B':[12.1, 14.2, 20.3, 25.4], 'C':[10, 25.5, 50.9, 101]}\n",
    "optional_remainder = [2,3,4,5]"
   ]
  },
  {
   "cell_type": "markdown",
   "metadata": {},
   "source": [
    "#### Define your function below:"
   ]
  },
  {
   "cell_type": "code",
   "execution_count": 26,
   "metadata": {
    "collapsed": true
   },
   "outputs": [],
   "source": [
    "def list_remainder(dict,optional_remainder):\n",
    "    final_output_dict = {}\n",
    "    if len(optional_remainder) == 0:\n",
    "        optional_remainder.append(2)\n",
    "    for key,value in dict.items():\n",
    "        new_dict = {}\n",
    "        for x in value:\n",
    "            for rem in optional_remainder:\n",
    "                remainder=float(x%rem)\n",
    "                new_dict[x] = remainder\n",
    "        final_output_dict[key] = new_dict\n",
    "    return final_output_dict\n",
    "    print final_output_dict\n",
    "            "
   ]
  },
  {
   "cell_type": "markdown",
   "metadata": {},
   "source": [
    "#### Run the function with `test_dict` only:"
   ]
  },
  {
   "cell_type": "code",
   "execution_count": null,
   "metadata": {
    "collapsed": true
   },
   "outputs": [],
   "source": [
    "# it requires two arguements since we created function with two arguements."
   ]
  },
  {
   "cell_type": "markdown",
   "metadata": {},
   "source": [
    "#### Run the function with `test_dict` and `optional_remainder`:"
   ]
  },
  {
   "cell_type": "code",
   "execution_count": 27,
   "metadata": {
    "collapsed": false
   },
   "outputs": [
    {
     "data": {
      "text/plain": [
       "{'A': {1: 1.0, 2: 2.0, 3: 3.0, 4: 4.0, 5: 0.0},\n",
       " 'B': {12.1: 2.0999999999999996,\n",
       "  14.2: 4.199999999999999,\n",
       "  20.3: 0.3000000000000007,\n",
       "  25.4: 0.3999999999999986},\n",
       " 'C': {10: 0.0, 25.5: 0.5, 50.9: 0.8999999999999986, 101: 1.0}}"
      ]
     },
     "execution_count": 27,
     "metadata": {},
     "output_type": "execute_result"
    }
   ],
   "source": [
    "list_remainder(test_dict,optional_remainder)"
   ]
  },
  {
   "cell_type": "markdown",
   "metadata": {},
   "source": [
    "<img src=\"http://imgur.com/l5NasQj.png\" style=\"float: left; margin: 25px 15px 0px 0px; height: 25px\">\n",
    "\n",
    "## Review Problem 3\n",
    "\n",
    "---\n",
    "\n",
    "Write a function that will iterate through two lists and perform an operation.\n",
    "\n",
    "Define a function that:\n",
    "\n",
    "- Accepts two arguments that are lists of numbers (either float or integer):\n",
    "- Print both of the lists.\n",
    "- Construct a `while` loop that:\n",
    "    - Prints the current iteration number, starting at 1.\n",
    "        ```python\n",
    "        Iteration: 1\n",
    "        ```\n",
    "    - Iterates through each element of both lists at the same time using a `for` loop, assigning the number from list 1 to a variable `value1` and the number from list 2 to a variable `value2`. For example, if `list1 == [1, 2]` and `list2 == [3, 4]`, there will be two iterations through the `for` loop:\n",
    "        - Iteration 1 will have ```value1 == 1``` and ```value2 == 3```\n",
    "        - Iteration 2 will have ```value2 == 2``` and ```value2 == 4```\n",
    "    - Within the `for` loop:\n",
    "        - Multiply `value1` and `value2` together and assign it to variable `multiplied`.\n",
    "        - Print `multiplied`.\n",
    "        - If `multiplied` is greater than 300, break out of the `for` loop and `while` loop.\n",
    "        - Otherwise, multiply each element of list 1 and list 2 by 2 before continuing through the `while` loop\n",
    "- Print \"Function complete.\"\n",
    "\n",
    "Notes/Hints:\n",
    "\n",
    "- To break out of a for loop or while loop at any time, use the `break` command.\n",
    "    - ex: \n",
    "        ```python\n",
    "        for i in my_list: \n",
    "            if i > 10: \n",
    "                break\n",
    "        ```\n",
    "- The `zip()` function will join lists/tuples element by element.\n",
    "    - ex:\n",
    "        ```python\n",
    "        zip([1,2], [3,4]) == [(1, 3), (2, 4)]\n",
    "        ```\n",
    "    - In a `for` loop, you can assign multiple variables at a time:\n",
    "        ```python\n",
    "        for value1, value2 in zip(list1, list2):\n",
    "        ```\n",
    "- `while True` can run a loop until a `break` condition is reached. Be careful!"
   ]
  },
  {
   "cell_type": "code",
   "execution_count": 162,
   "metadata": {
    "collapsed": true
   },
   "outputs": [],
   "source": [
    "list1 = [1.5,3.5,5.5,7.5]\n",
    "list2 = [0.0,4.0,8.0,12.0]"
   ]
  },
  {
   "cell_type": "markdown",
   "metadata": {},
   "source": [
    "#### Define your function below:"
   ]
  },
  {
   "cell_type": "code",
   "execution_count": 163,
   "metadata": {
    "collapsed": false
   },
   "outputs": [],
   "source": [
    "def iterate_mul(list1,list2):\n",
    "    iteration = 0\n",
    "    print list1,list2\n",
    "    n=len(list1)\n",
    "    while n!=0 :\n",
    "        for value1,value2 in zip(list1,list2):\n",
    "            multiplied = value1*value2\n",
    "            iteration += 1\n",
    "            print \"Iteration:\",iteration\n",
    "            print \"value1:\", value1\n",
    "            print \"value2:\", value2\n",
    "            print \"multiplied:\",multiplied\n",
    "        if multiplied <= 300:\n",
    "            for x in list1:\n",
    "                list1=x*2\n",
    "            for y in list2:\n",
    "                list2=y*2\n",
    "        else:\n",
    "            print ('The End')\n",
    "            break\n",
    "      "
   ]
  },
  {
   "cell_type": "markdown",
   "metadata": {},
   "source": [
    "#### Run your function with arguments `list1` and `list2`"
   ]
  },
  {
   "cell_type": "code",
   "execution_count": 164,
   "metadata": {
    "collapsed": false
   },
   "outputs": [
    {
     "name": "stdout",
     "output_type": "stream",
     "text": [
      "[1.5, 3.5, 5.5, 7.5] [0.0, 4.0, 8.0, 12.0]\n",
      "Iteration: 1\n",
      "value1: 1.5\n",
      "value2: 0.0\n",
      "multiplied: 0.0\n",
      "Iteration: 2\n",
      "value1: 3.5\n",
      "value2: 4.0\n",
      "multiplied: 14.0\n",
      "Iteration: 3\n",
      "value1: 5.5\n",
      "value2: 8.0\n",
      "multiplied: 44.0\n",
      "Iteration: 4\n",
      "value1: 7.5\n",
      "value2: 12.0\n",
      "multiplied: 90.0\n"
     ]
    },
    {
     "ename": "TypeError",
     "evalue": "zip argument #1 must support iteration",
     "output_type": "error",
     "traceback": [
      "\u001b[0;31m---------------------------------------------------------------------------\u001b[0m",
      "\u001b[0;31mTypeError\u001b[0m                                 Traceback (most recent call last)",
      "\u001b[0;32m<ipython-input-164-b10f17f3bc2d>\u001b[0m in \u001b[0;36m<module>\u001b[0;34m()\u001b[0m\n\u001b[0;32m----> 1\u001b[0;31m \u001b[0miterate_mul\u001b[0m\u001b[0;34m(\u001b[0m\u001b[0mlist1\u001b[0m\u001b[0;34m,\u001b[0m\u001b[0mlist2\u001b[0m\u001b[0;34m)\u001b[0m\u001b[0;34m\u001b[0m\u001b[0m\n\u001b[0m",
      "\u001b[0;32m<ipython-input-163-f6962642e4e2>\u001b[0m in \u001b[0;36miterate_mul\u001b[0;34m(list1, list2)\u001b[0m\n\u001b[1;32m      4\u001b[0m     \u001b[0mn\u001b[0m\u001b[0;34m=\u001b[0m\u001b[0mlen\u001b[0m\u001b[0;34m(\u001b[0m\u001b[0mlist1\u001b[0m\u001b[0;34m)\u001b[0m\u001b[0;34m\u001b[0m\u001b[0m\n\u001b[1;32m      5\u001b[0m     \u001b[0;32mwhile\u001b[0m \u001b[0mn\u001b[0m\u001b[0;34m!=\u001b[0m\u001b[0;36m0\u001b[0m \u001b[0;34m:\u001b[0m\u001b[0;34m\u001b[0m\u001b[0m\n\u001b[0;32m----> 6\u001b[0;31m         \u001b[0;32mfor\u001b[0m \u001b[0mvalue1\u001b[0m\u001b[0;34m,\u001b[0m\u001b[0mvalue2\u001b[0m \u001b[0;32min\u001b[0m \u001b[0mzip\u001b[0m\u001b[0;34m(\u001b[0m\u001b[0mlist1\u001b[0m\u001b[0;34m,\u001b[0m\u001b[0mlist2\u001b[0m\u001b[0;34m)\u001b[0m\u001b[0;34m:\u001b[0m\u001b[0;34m\u001b[0m\u001b[0m\n\u001b[0m\u001b[1;32m      7\u001b[0m             \u001b[0mmultiplied\u001b[0m \u001b[0;34m=\u001b[0m \u001b[0mvalue1\u001b[0m\u001b[0;34m*\u001b[0m\u001b[0mvalue2\u001b[0m\u001b[0;34m\u001b[0m\u001b[0m\n\u001b[1;32m      8\u001b[0m             \u001b[0miteration\u001b[0m \u001b[0;34m+=\u001b[0m \u001b[0;36m1\u001b[0m\u001b[0;34m\u001b[0m\u001b[0m\n",
      "\u001b[0;31mTypeError\u001b[0m: zip argument #1 must support iteration"
     ]
    }
   ],
   "source": [
    "iterate_mul(list1,list2)"
   ]
  },
  {
   "cell_type": "markdown",
   "metadata": {},
   "source": [
    "<img src=\"http://imgur.com/l5NasQj.png\" style=\"float: left; margin: 25px 15px 0px 0px; height: 25px\">\n",
    "\n",
    "## Review Problem 4\n",
    "\n",
    "---\n",
    "\n",
    "Write a function that calculates summary statistics for distributions.\n",
    "\n",
    "Define a function that:\n",
    "\n",
    "- Accepts two arguments, `i` and `numbers`.\n",
    "- Prints a string indicating what the current `i` is.\n",
    "- Calculate, without using numpy, the mean of `numbers`.\n",
    "- Calculate, without using numpy, the median of `numbers`.\n",
    "- Print the mean and median, for example:\n",
    "    ```python\n",
    "    mean: 12\n",
    "    median: 9\n",
    "    ```\n",
    "    \n",
    "Notes/Hints:\n",
    "\n",
    "- You should define your function _outside_ of the provided `for` loop, and then call it with `i` and `numbers` within the `for` loop.\n",
    "- `for i in range(1, 15, 2)` assigns `i` from 1 to 15 with a step size of 2."
   ]
  },
  {
   "cell_type": "markdown",
   "metadata": {},
   "source": [
    "#### Define your function(s) below:"
   ]
  },
  {
   "cell_type": "code",
   "execution_count": 97,
   "metadata": {
    "collapsed": false
   },
   "outputs": [
    {
     "name": "stdout",
     "output_type": "stream",
     "text": [
      "i: 13\n",
      "('Mean: ', <function mean at 0x10a828cf8>)\n",
      "('Median: ', <function median at 0x10a7492a8>)\n"
     ]
    }
   ],
   "source": [
    "def q5_func(i,numbers):\n",
    "    list = sorted(numbers)\n",
    "    length = len(list)\n",
    "    middle = length // 2\n",
    "    print\"i: \",i\n",
    "    print \"Mean: \" , str(float(sum(numbers)) / max(len(numbers), 1))\n",
    "    if len(list) % 2 == 0:\n",
    "        print \"Median: \" , str(sum(list[middle - 1: middle + 1]) / 2.0)\n",
    "    else:\n",
    "        print \"Median: \" , str(list[middle])\n",
    "function(i,numbers)\n",
    "\n",
    "    "
   ]
  },
  {
   "cell_type": "markdown",
   "metadata": {},
   "source": [
    "#### Run your function with the provided for-loop below (in place of `q5_func`)"
   ]
  },
  {
   "cell_type": "code",
   "execution_count": 98,
   "metadata": {
    "collapsed": false
   },
   "outputs": [
    {
     "name": "stdout",
     "output_type": "stream",
     "text": [
      "i:  1\n",
      "Mean:  0.0\n",
      "Median:  0\n",
      "i:  3\n",
      "Mean:  33.3366336634\n",
      "Median:  25\n",
      "i:  5\n",
      "Mean:  39.603960396\n",
      "Median:  37\n",
      "i:  7\n",
      "Mean:  42.7227722772\n",
      "Median:  41\n",
      "i:  9\n",
      "Mean:  44.1188118812\n",
      "Median:  43\n",
      "i:  11\n",
      "Mean:  45.099009901\n",
      "Median:  45\n",
      "i:  13\n",
      "Mean:  46.396039604\n",
      "Median:  46\n"
     ]
    }
   ],
   "source": [
    "import numpy as np\n",
    "\n",
    "# Provided for loop for i and numbers:\n",
    "for i in range(1, 15, 2):\n",
    "    numbers = [x if not x % i == 0 else 0 for x in range(101)]\n",
    "    \n",
    "    # Call your function here using i and numbers:\n",
    "    q5_func(i, numbers)"
   ]
  },
  {
   "cell_type": "markdown",
   "metadata": {},
   "source": [
    "<img src=\"http://imgur.com/l5NasQj.png\" style=\"float: left; margin: 25px 15px 0px 0px; height: 25px\">\n",
    "\n",
    "## Review Problem 5\n",
    "\n",
    "---\n",
    "\n",
    "Define a function that calculates the [pearson correlation coefficient](https://en.wikipedia.org/wiki/Pearson_product-moment_correlation_coefficient) between two lists of numbers.\n",
    "\n",
    "Your function will:\n",
    "\n",
    "- Accept two arguments (the provided lists `X` and `Y`).\n",
    "- Print the length of `X` and `Y` like so:\n",
    "    ```python\n",
    "    Length of X: 40\n",
    "    Length of Y: 40\n",
    "    ```\n",
    "- Calculate the pearson correlation coefficient between the two lists and assign the value to variable `pearson_r`.\n",
    "    - Create a variable `X_deviation` that is each element of `X` minus the mean of `X`. \n",
    "    - Create a variable `Y_deviation` that is each element of `Y` minus the mean of `Y`.\n",
    "    - Create a variable `sqrt_X_deviation_sq` that is the square root of the sum of the square of each element of `X_deviation`.\n",
    "    - Create a variable `sqrt_Y_deviation_sq` that is the same thing you just did but for `Y_deviation`.\n",
    "    - Create a variable `sum_XY_deviation` that is the sum of each element of `X` and `Y` multiplied by each other, in order. You can use the `zip()` function to iterate through two lists at the same time:\n",
    "        ```python\n",
    "        for x_d, y_d in zip(X_deviation, Y_deviation):\n",
    "        ```\n",
    "    - `pearson_r` is equal to `sum_XY_deviation` divided by `(sqrt_X_deviation_sq * sqrt_Y_deviation_sq)`.\n",
    "- Print `pearson_r`.\n",
    "- Check if it is the same as numpy's correlation function. Print `np.corrcoef(X, Y)[0,1]`\n",
    "    "
   ]
  },
  {
   "cell_type": "code",
   "execution_count": 115,
   "metadata": {
    "collapsed": true
   },
   "outputs": [],
   "source": [
    "X = [14.2,5.8,4.8,12.7,5.6,-1.2,5.3,11.9,4.8,8.1,1.5,8.5,14.9,6.1,\n",
    "     6.8,12.6,15.5,24.3,15.6,16.8,22.3,22.6,26.2,19.0,24.3,26.3,\n",
    "     25.3,31.6,27.3,33.0,32.6,30.7,29.6,34.7,32.7,43.1,40.1,35.4,49.6,38.6]\n",
    "\n",
    "Y = [-15.5,-8.5,0.8,-3.9,4.9,12.7,10.0,16.5,5.7,13.1,10.3,12.4,-1.5,\n",
    "     1.7,26.0,14.3,30.3,21.7,27.5,38.2,18.9,21.2,18.2,26.1,14.7,16.4,\n",
    "     22.8,34.3,37.1,38.9,39.1,33.8,52.2,36.5,20.7,21.6,14.5,33.6,44.5,44.2]"
   ]
  },
  {
   "cell_type": "markdown",
   "metadata": {},
   "source": [
    "#### Define your function below:"
   ]
  },
  {
   "cell_type": "code",
   "execution_count": 116,
   "metadata": {
    "collapsed": true
   },
   "outputs": [],
   "source": [
    "def pearson(X,Y):\n",
    "    print \"Length of X: \",len(X)\n",
    "    print \"Length of Y: \" ,len(Y)\n",
    "    X_deviation = [x - np.mean(X) for x in X]\n",
    "    sum_squared_x = 0\n",
    "    for a in X_deviation:\n",
    "        sum_squared_x += np.square(a)\n",
    "        sqrt_X_deviation_sq = np.sqrt(sum_squared_x)\n",
    "\n",
    "    Y_deviation = [y - np.mean(Y) for y in Y]\n",
    "    sum_squared_y = 0\n",
    "    for b in Y_deviation:\n",
    "        sum_squared_y += np.square(b)\n",
    "        sqrt_Y_deviation_sq = np.sqrt(sum_squared_y)\n",
    "\n",
    "    sum_XY_deviation = 0\n",
    "    for x_d, y_d in zip(X_deviation, Y_deviation):\n",
    "        sum_XY_deviation += x_d * y_d\n",
    "\n",
    "    pearson_r = sum_XY_deviation / (sqrt_X_deviation_sq * sqrt_Y_deviation_sq)\n",
    "    print ('My calculated pearson_r: ' + str(pearson_r))\n"
   ]
  },
  {
   "cell_type": "markdown",
   "metadata": {},
   "source": [
    "#### Run your function on `X` and `Y`:"
   ]
  },
  {
   "cell_type": "code",
   "execution_count": 117,
   "metadata": {
    "collapsed": false
   },
   "outputs": [
    {
     "name": "stdout",
     "output_type": "stream",
     "text": [
      "Length of X:  40\n",
      "Length of Y:  40\n",
      "My calculated pearson_r: 0.659990523006\n"
     ]
    }
   ],
   "source": [
    "pearson(X,Y)"
   ]
  },
  {
   "cell_type": "code",
   "execution_count": 118,
   "metadata": {
    "collapsed": false
   },
   "outputs": [
    {
     "data": {
      "text/plain": [
       "0.65999052300624539"
      ]
     },
     "execution_count": 118,
     "metadata": {},
     "output_type": "execute_result"
    }
   ],
   "source": [
    "np.corrcoef(X, Y)[0,1]\n"
   ]
  },
  {
   "cell_type": "markdown",
   "metadata": {},
   "source": [
    "<img src=\"http://imgur.com/l5NasQj.png\" style=\"float: left; margin: 25px 15px 0px 0px; height: 25px\">\n",
    "\n",
    "## Review Problem 6\n",
    "\n",
    "---\n",
    "\n",
    "For this problem you will be defining a function that calculates the [spearman rank correlation coefficient](https://en.wikipedia.org/wiki/Spearman%27s_rank_correlation_coefficient) between two lists. Spearman's rho is a measure of how related two sets of numbers are.\n",
    "\n",
    "Your function will:\n",
    "\n",
    "- Accept the provided lists of numbers defined for problem 5, `X` and `Y`.\n",
    "- Calculate the rank of the numbers in the `X` and `Y` lists. The rank is a number that defines what _index position_ each number would be if the list were in order.\n",
    "    - For example: say `list1 = [5,2,0,9,-5]`, then `list1_rank = [3,2,1,4,0]`\n",
    "    - Calculating the rank is not trivial. You can use the `rankdata()` function from `scipy.stats` on a list to get the ranks of the numbers.\n",
    "    - Assign the rank of list `X` to variable `X_rank` and list `Y` to variable `Y_rank`.\n",
    "- Manually calculate the covariance between `X_rank` and `Y_rank` as `XY_rank_cov`:\n",
    "    1. Calculate `X_mean`: the mean of `X_rank` using `np.mean()`.\n",
    "    2. Calculate `Y_mean`: the mean of `Y_rank` using `np.mean()`.\n",
    "    3. Calculate `X_deviation`: subtract `X_mean` from each element of `X_rank`.\n",
    "    4. Calculate `Y_deviation`: subtract `Y_mean` from each element of `Y_rank`.\n",
    "    5. Calculate `XY_d`: multiply `X_deviation` with `Y_deviation`, element by element. You can use pythons `zip()` function to iterate across lists at the same time:\n",
    "    ```python\n",
    "    for xd, yd in zip(X_deviation, Y_deviation):\n",
    "    ```\n",
    "    6. Calculate `sum_XY_d`: the sum of the elements in `XY_d` with `np.sum`.\n",
    "    7. Calculate `XY_rank_cov`: divide `sum_XY_d` by `len(XY_d)`.\n",
    "- Calculate the standard deviations `X_rank_std` and `Y_rank_std` of the `X_rank` and `Y_rank` lists. You can use `np.std()`.\n",
    "- Calculate the spearman rank correlation coefficient as `XY_spearman`: divide `XY_rank_cov` by `(X_rank_std * Y_rank_std)`.\n",
    "- Print `XY_spearman`.\n",
    "- Compare your value to the scipy function for spearman: print out `spearmanr(X, Y)`."
   ]
  },
  {
   "cell_type": "markdown",
   "metadata": {},
   "source": [
    "#### Define your function below:"
   ]
  },
  {
   "cell_type": "code",
   "execution_count": 126,
   "metadata": {
    "collapsed": false
   },
   "outputs": [],
   "source": [
    "from scipy import stats\n",
    "\n",
    "def spearman(X,Y):\n",
    "    X_rank = stats.rankdata(X)\n",
    "    Y_rank = stats.rankdata(Y)\n",
    "    X_mean = np.mean(X_rank)\n",
    "    Y_mean = np.mean(Y_rank)\n",
    "    X_deviation = [x - X_mean for x in X_rank]\n",
    "    Y_deviation = [y - Y_mean for y in Y_rank]\n",
    "\n",
    "    XY_d = [x1 * y1 for x1,y1 in zip(X_deviation, Y_deviation)]\n",
    "    \n",
    "    sum_XY_d = np.sum(XY_d)\n",
    "    XY_rank_cov = sum_XY_d / len(XY_d)\n",
    "\n",
    "    X_rank_std = np.std(X_rank)\n",
    "    Y_rank_std = np.std(Y_rank)\n",
    "\n",
    "    XY_spearman = XY_rank_cov / (X_rank_std * Y_rank_std)\n",
    "    print  'XY_spearman: ', XY_spearman"
   ]
  },
  {
   "cell_type": "markdown",
   "metadata": {},
   "source": [
    "#### Run your function on lists `X` and `Y`:"
   ]
  },
  {
   "cell_type": "code",
   "execution_count": 127,
   "metadata": {
    "collapsed": false
   },
   "outputs": [
    {
     "name": "stdout",
     "output_type": "stream",
     "text": [
      "XY_spearman:  0.721925136867\n"
     ]
    }
   ],
   "source": [
    "spearman(X,Y)"
   ]
  },
  {
   "cell_type": "markdown",
   "metadata": {},
   "source": [
    "<img src=\"http://imgur.com/l5NasQj.png\" style=\"float: left; margin: 25px 15px 0px 0px; height: 25px\">\n",
    "\n",
    "## Review Problem 7\n",
    "\n",
    "---\n",
    "\n",
    "Write a function to calculate the [root mean squared error](https://en.wikipedia.org/wiki/Root-mean-square_deviation), often written as RMSE. The RMSE is a popular measure of performance of predictions when you have a set of **observed values** and a set of **predicted values**. Your predicted values in this case are your \"predictions\" of what the true, observed values are.\n",
    "\n",
    "Your function will:\n",
    "\n",
    "- Accept two predefined lists as arguments: ```true_values``` and ```predictions```.\n",
    "- Calculate the error between ```predictions``` and ```true_values``` as variable ```errors```:\n",
    "    - Element by element, calculate the prediction minus the true value.\n",
    "- Calculate the square of each element in ```errors``` and assign this to variable ```sq_errors```.\n",
    "- Calculate ```avg_sq_error```, the mean of ```sq_errors```.\n",
    "- Calculate ```rmse```, the square root of ```avg_sq_error``` using ```np.sqrt()```.\n",
    "- Print ```rmse```.\n",
    "- Return ```rmse```."
   ]
  },
  {
   "cell_type": "code",
   "execution_count": 129,
   "metadata": {
    "collapsed": true
   },
   "outputs": [],
   "source": [
    "predictions = [14.2,5.8,4.8,12.7,5.6,-1.2,5.3,11.9,4.8,8.1,1.5,8.5,14.9,6.1,\n",
    "     6.8,12.6,15.5,24.3,15.6,16.8,22.3,22.6,26.2,19.0,24.3,26.3,\n",
    "     25.3,31.6,27.3,33.0,32.6,30.7,29.6,34.7,32.7,43.1,40.1,35.4,49.6,38.6]\n",
    "\n",
    "true_values = [-15.5,-8.5,0.8,-3.9,4.9,12.7,10.0,16.5,5.7,13.1,10.3,12.4,-1.5,\n",
    "     1.7,26.0,14.3,30.3,21.7,27.5,38.2,18.9,21.2,18.2,26.1,14.7,16.4,\n",
    "     22.8,34.3,37.1,38.9,39.1,33.8,52.2,36.5,20.7,21.6,14.5,33.6,44.5,44.2]"
   ]
  },
  {
   "cell_type": "markdown",
   "metadata": {},
   "source": [
    "#### Define your function below:"
   ]
  },
  {
   "cell_type": "code",
   "execution_count": 131,
   "metadata": {
    "collapsed": true
   },
   "outputs": [],
   "source": [
    "def RMSE(true_values, predictions):\n",
    "    errors = [b - a for a,b in zip(true_values, predictions)]\n",
    "    sq_errors = [np.square(x) for x in errors]\n",
    "    avg_sq_error = np.mean(sq_errors)\n",
    "    rmse = np.sqrt(avg_sq_error)\n",
    "    print (rmse)\n"
   ]
  },
  {
   "cell_type": "markdown",
   "metadata": {},
   "source": [
    "#### Run your function on `true_values` and `predictions`:"
   ]
  },
  {
   "cell_type": "code",
   "execution_count": 132,
   "metadata": {
    "collapsed": false
   },
   "outputs": [
    {
     "name": "stdout",
     "output_type": "stream",
     "text": [
      "11.7997245731\n"
     ]
    }
   ],
   "source": [
    "RMSE(true_values, predictions)"
   ]
  },
  {
   "cell_type": "markdown",
   "metadata": {},
   "source": [
    "<img src=\"http://imgur.com/l5NasQj.png\" style=\"float: left; margin: 25px 15px 0px 0px; height: 25px\">\n",
    "\n",
    "## Review Problem 8\n",
    "\n",
    "---\n",
    "\n",
    "Define three functions to \"clean up\" two dictionaries and merge them together.\n",
    "\n",
    "Your first function, called ```string_intlist_cleaner``` should:\n",
    "\n",
    "- Accept one argument which will be a dictionary.\n",
    "- Iterate through the key:value pairs in the dictionary:\n",
    "    - If the key is not a **string**, remove the key:value pair from the dictionary.\n",
    "    - If the value is not a **list**, remove the key:value pair from the dictionary.\n",
    "- Return the \"cleaned\" dictionary.\n",
    "\n",
    "Your second function, called ```int_string_cleaner``` should:\n",
    "\n",
    "- Accept one argument which will be a dictionary.\n",
    "- Iterate through the key:value pairs in the dictionary:\n",
    "    - If the key is not an **integer**, remove the key:value pair from the dictionary.\n",
    "    - If the value is not a **string**, remove the key:value pair from the dictionary.\n",
    "- Return the \"cleaned\" dictionary.\n",
    "\n",
    "Your third function, called ```dict_cleaner``` should:\n",
    "\n",
    "- Accept two arguments which will be dictionaries.\n",
    "- Print the first dictionary.\n",
    "- Print the second dictionary.\n",
    "- Clean the first dictionary with ```string_intlist_cleaner()``` and assign to a variable.\n",
    "- Clean the second dictionary with ```int_string_cleaner()``` and assign to a variable\n",
    "- Combine the two cleaned dictionaries.\n",
    "- Print the combined and cleaned dictionary.\n",
    "- Return the combined and cleaned dictionary."
   ]
  },
  {
   "cell_type": "code",
   "execution_count": 144,
   "metadata": {
    "collapsed": true
   },
   "outputs": [],
   "source": [
    "first_dict = {'A':(1,2), 'B':[1,2,3,4,4], 'C':[0,9], 1:(1,1,1), 12:None, 'D':None, 'E':12.777}\n",
    "second_dict = {'1':('a','b'), 2:{1:23.3}, 3:'four', 4:'five', 'five':['six', 'seven'], 8:'nine'}"
   ]
  },
  {
   "cell_type": "markdown",
   "metadata": {},
   "source": [
    "#### Define your functions below:"
   ]
  },
  {
   "cell_type": "code",
   "execution_count": 143,
   "metadata": {
    "collapsed": true
   },
   "outputs": [],
   "source": [
    "def string_intlist_cleaner(dict):\n",
    "    unwanted_keys = [key for key,value in dict.items() if type(key) != str or type(value) != list]\n",
    "    for key in unwanted_keys:\n",
    "        del dict[key]\n",
    "    return (dict)\n",
    "\n",
    "def int_string_cleaner(dict):\n",
    "    unwanted_keys = [key for key,value in dict.items() if type(key) != int or type(value) != str]\n",
    "    for key in unwanted_keys:\n",
    "        del dict[key]\n",
    "    return (dict)\n",
    "\n",
    "def dict_cleaner(dict1, dict2):\n",
    "    print (dict1)\n",
    "    print(dict2)\n",
    "    x = dict(string_intlist_cleaner(dict1))\n",
    "    y = dict(int_string_cleaner(dict2))\n",
    "\n",
    "    z = x.copy()\n",
    "    z.update(y)\n",
    "    print (z)"
   ]
  },
  {
   "cell_type": "markdown",
   "metadata": {},
   "source": [
    "#### Run `dict_cleaner` with `first_dict` and `second_dict`:"
   ]
  },
  {
   "cell_type": "code",
   "execution_count": 145,
   "metadata": {
    "collapsed": false
   },
   "outputs": [
    {
     "name": "stdout",
     "output_type": "stream",
     "text": [
      "{'A': (1, 2), 1: (1, 1, 1), 'C': [0, 9], 'B': [1, 2, 3, 4, 4], 'E': 12.777, 'D': None, 12: None}\n",
      "{2: {1: 23.3}, 3: 'four', 4: 'five', 8: 'nine', '1': ('a', 'b'), 'five': ['six', 'seven']}\n",
      "{8: 'nine', 3: 'four', 'C': [0, 9], 'B': [1, 2, 3, 4, 4], 4: 'five'}\n"
     ]
    }
   ],
   "source": [
    "dict_cleaner(first_dict,second_dict)"
   ]
  },
  {
   "cell_type": "markdown",
   "metadata": {},
   "source": [
    "<img src=\"http://imgur.com/l5NasQj.png\" style=\"float: left; margin: 25px 15px 0px 0px; height: 25px\">\n",
    "\n",
    "## Review Problem 9A\n",
    "\n",
    "---\n",
    "\n",
    "Load and parse stats on Pokemon (the pokedex) from a comma separated value (`.csv`) file into a list of lists.\n",
    "\n",
    "The provided code below loads information from a comma separated value (csv) file. You need to parse this string into a more useable format. The format of the string is:\n",
    "\n",
    "- Rows are separated by newline characters: `\\n`\n",
    "- Columns are separated by commas: `,`\n",
    "- All cells in the csv are double quoted. Ex: \"PokedexNumber\" is the first cell of the first row.\n",
    "\n",
    "Using `for` loops, create a list of lists where each list within the overall list is a row of the csv, and each element in that list is a cell in that row. Additional criteria:\n",
    "\n",
    "1. Remove the quotes from each cell item.\n",
    "2. Numeric column values should be converted to floats.\n",
    "3. There are some cells that are empty and have no information. For these cells put a -1 value in place.\n",
    "\n",
    "The first three lists in your pokedex list should look like:\n",
    "\n",
    "    ['PokedexNumber', 'Name', 'Type', 'Total', 'HP', 'Attack', 'Defense', 'SpecialAttack', 'SpecialDefense', 'Speed']\n",
    "    [1.0, 'Bulbasaur', 'GrassPoison', 318.0, 45.0, 49.0, 49.0, 65.0, 65.0, 45.0]\n",
    "    [2.0, 'Ivysaur', 'GrassPoison', 405.0, 60.0, 62.0, 63.0, 80.0, 80.0, 60.0]\n"
   ]
  },
  {
   "cell_type": "code",
   "execution_count": 169,
   "metadata": {
    "collapsed": false
   },
   "outputs": [],
   "source": [
    "# Change this filepath to point to the location of the .csv on your own computer:\n",
    "filepath = '/Users/Mahendra/desktop/GA/hw/Project1/pokedex_basic.csv'\n",
    "\n",
    "# Code to read in pokedex info\n",
    "raw_pd = ''\n",
    "with open(filepath, 'r') as f:\n",
    "    raw_pd = f.read()"
   ]
  },
  {
   "cell_type": "markdown",
   "metadata": {},
   "source": [
    "#### Parse the file into the list of lists:"
   ]
  },
  {
   "cell_type": "code",
   "execution_count": null,
   "metadata": {
    "collapsed": false
   },
   "outputs": [],
   "source": [
    "for row in raw_pd:\n",
    "        my_row = []\n",
    "        for x in list(row):\n",
    "            if x.isdigit():\n",
    "                my_row.append(float(x))\n",
    "            elif len(x) == 0:\n",
    "                my_row.append(-1)\n",
    "            else:\n",
    "                my_row.append(x)\n",
    "                raw_pd.append(my_row)\n",
    "\n"
   ]
  },
  {
   "cell_type": "markdown",
   "metadata": {},
   "source": [
    "#### Print out the first 3 lists"
   ]
  },
  {
   "cell_type": "code",
   "execution_count": null,
   "metadata": {
    "collapsed": true
   },
   "outputs": [],
   "source": [
    "print raw_pd[0:3]"
   ]
  },
  {
   "cell_type": "markdown",
   "metadata": {},
   "source": [
    "<img src=\"http://imgur.com/GCAf1UX.png\" style=\"float: left; margin: 25px 15px 0px 0px; height: 25px\">\n",
    "\n",
    "## Review Problem 9.B\n",
    "\n",
    "---\n",
    "\n",
    "Perform the same parsing that you did with `for` loops in problem 9A, but **using only a nested list comprehensions**. A single list comprehension (with nested list comprehensions inside of it) should do all of the parsing of `raw_pd`, outputting the list of lists. Do not write any functions to call within the list comprehension.\n",
    "\n",
    "The output should be exactly the same as in 9A."
   ]
  },
  {
   "cell_type": "markdown",
   "metadata": {},
   "source": [
    "#### Write the nested list comprehension to parse `raw_pd`:"
   ]
  },
  {
   "cell_type": "code",
   "execution_count": 181,
   "metadata": {
    "collapsed": false
   },
   "outputs": [],
   "source": [
    "parse_raw_pd=[list(float(x) if x.isdigit() else '-1' if len(x) == 0 else x for x in row) for row in raw_pd]\n"
   ]
  },
  {
   "cell_type": "markdown",
   "metadata": {},
   "source": [
    "#### Print the first 3 lines of your parsed pokedex:"
   ]
  },
  {
   "cell_type": "code",
   "execution_count": 182,
   "metadata": {
    "collapsed": false
   },
   "outputs": [
    {
     "name": "stdout",
     "output_type": "stream",
     "text": [
      "\"Po\n"
     ]
    }
   ],
   "source": [
    "print raw_pd[0:3]\n"
   ]
  },
  {
   "cell_type": "markdown",
   "metadata": {},
   "source": [
    "<img src=\"http://imgur.com/gGrau8s.png\" style=\"float: left; margin: 25px 15px 0px 0px; height: 25px\">\n",
    "\n",
    "### Review Problem 10\n",
    "\n",
    "---\n",
    "\n",
    "Write a function that takes a tiered dictionary of dictionaries with arbitrary depth. Your function will iterate through the dictionary, printing out the contents.\n",
    "\n",
    "Define a function that:\n",
    "\n",
    "- Accepts at least one argument, the predefined dictionary.\n",
    "- For each key:value pair, print out the key and the value.\n",
    "- If the value is also a dictionary, do the same for that dictionary, but printing out the key:value pair with tabs equivalent to the current \"depth\" indicating what level we are on.\n",
    "- Note: tab in strings is written as ```\\t```\n",
    "    \n",
    "Example:\n",
    "```python\n",
    "'key1' : 'value1'\n",
    "'key2' :\n",
    "    'key3' : 'value3'\n",
    "    'key4' : 'value4'\n",
    "    'key5' :\n",
    "        'key6': 'value6'\n",
    "'key7' : 'value7'\n",
    "```"
   ]
  },
  {
   "cell_type": "code",
   "execution_count": 152,
   "metadata": {
    "collapsed": true
   },
   "outputs": [],
   "source": [
    "tiered_dict = {'T1.1':'V1.1', \n",
    "               'T1.2':'V1.2',\n",
    "               'T1.3':{'T2.1':'V2.1',\n",
    "                       'T2.2':['V2.2.1','V2.2.2'],\n",
    "                       'T2.3':{'T3.1':['V3.1.1','V3.1.2'],\n",
    "                               'T3.2':'V3.2',\n",
    "                               'T3.3':'V3.3'}},\n",
    "               'T1.4':{'T2.4':{'T3.4':{'T4.1':'V4.1',\n",
    "                                       'T4.2':'V4.2'},\n",
    "                               'T3.5':{'T4.3':'V4.3'}},\n",
    "                       'T2.5':['V2.3.1','V2.3.2']},\n",
    "               }"
   ]
  },
  {
   "cell_type": "markdown",
   "metadata": {},
   "source": [
    "#### Define your function below:"
   ]
  },
  {
   "cell_type": "code",
   "execution_count": 160,
   "metadata": {
    "collapsed": true
   },
   "outputs": [],
   "source": [
    "def tiered(d, indent):\n",
    "    for key, value in d.items():\n",
    "        print ('\\t' * indent + str(key))\n",
    "        if isinstance(value, dict):\n",
    "            tiered(value, indent+1)\n",
    "        else:\n",
    "            print ('\\t' * (indent+1) + str(value))\n",
    "\n"
   ]
  },
  {
   "cell_type": "markdown",
   "metadata": {},
   "source": [
    "#### Run your function on `tiered_dict`:"
   ]
  },
  {
   "cell_type": "code",
   "execution_count": 161,
   "metadata": {
    "collapsed": false
   },
   "outputs": [
    {
     "name": "stdout",
     "output_type": "stream",
     "text": [
      "T1.4\n",
      "\tT2.4\n",
      "\t\tT3.5\n",
      "\t\t\tT4.3\n",
      "\t\t\t\tV4.3\n",
      "\t\tT3.4\n",
      "\t\t\tT4.2\n",
      "\t\t\t\tV4.2\n",
      "\t\t\tT4.1\n",
      "\t\t\t\tV4.1\n",
      "\tT2.5\n",
      "\t\t['V2.3.1', 'V2.3.2']\n",
      "T1.3\n",
      "\tT2.1\n",
      "\t\tV2.1\n",
      "\tT2.2\n",
      "\t\t['V2.2.1', 'V2.2.2']\n",
      "\tT2.3\n",
      "\t\tT3.1\n",
      "\t\t\t['V3.1.1', 'V3.1.2']\n",
      "\t\tT3.3\n",
      "\t\t\tV3.3\n",
      "\t\tT3.2\n",
      "\t\t\tV3.2\n",
      "T1.2\n",
      "\tV1.2\n",
      "T1.1\n",
      "\tV1.1\n"
     ]
    }
   ],
   "source": [
    "tiered(tiered_dict,indent=0)"
   ]
  },
  {
   "cell_type": "code",
   "execution_count": null,
   "metadata": {
    "collapsed": true
   },
   "outputs": [],
   "source": []
  }
 ],
 "metadata": {
  "kernelspec": {
   "display_name": "Python 2",
   "language": "python",
   "name": "python2"
  },
  "language_info": {
   "codemirror_mode": {
    "name": "ipython",
    "version": 2
   },
   "file_extension": ".py",
   "mimetype": "text/x-python",
   "name": "python",
   "nbconvert_exporter": "python",
   "pygments_lexer": "ipython2",
   "version": "2.7.13"
  }
 },
 "nbformat": 4,
 "nbformat_minor": 0
}
