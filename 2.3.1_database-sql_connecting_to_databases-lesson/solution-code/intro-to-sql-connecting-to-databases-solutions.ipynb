{
 "cells": [
  {
   "cell_type": "markdown",
   "metadata": {},
   "source": [
    "<img src=\"http://imgur.com/1ZcRyrc.png\" style=\"float: left; margin: 20px; height: 55px\">\n",
    "\n",
    "# Intro To SQL: Connecting to Databases\n",
    "\n",
    "_Authors: Dave Yerrington (SF), Fancesco Mosconi_\n",
    "\n",
    "---\n",
    "\n",
    "### Learning Objectives\n",
    "*After this lesson, you will be able to:*\n",
    "- Connect to a local or remote database using the command line, Python or Pandas\n",
    "- Connect to a local or remote database using SQLite Manager (for SQLite) or Postico(for POSTGRES)\n",
    "- Perform queries using SELECT\n",
    "- Perform simple aggregations COUNT, MAX/MIN/SUM"
   ]
  },
  {
   "cell_type": "markdown",
   "metadata": {},
   "source": [
    "### Lesson Guide\n",
    "- [Connecting to a local database](#connecting-to-localdb)\n",
    "    - [SQLite](#sqlite)\n",
    "    - [Interacting with SQLite](#interacting-sqlite)\n",
    "    - [Common SQL command patterns](#command-patterns)\n",
    "    - [SQLite command line utility](#sqlite-command-line)\n",
    "    - [Creating tables and adding columns](#sqlite-tables-columns)\n",
    "    - [Adding data](#adding-data)\n",
    "    - [Updating records](#updating-records)\n",
    "    - [Removing records](#removing-records)\n",
    "- [Connecting to a remote database](#remote-database)\n",
    "    - [Postgresql](#postgresql)\n",
    "- [Comparison of SQL commands](#comparison-commands)\n",
    "- [SQLite from Python](#python-sqlite)\n",
    "    - [sqlite3 package](#sqlite3)\n",
    "    - [sqlite3: adding data](#sqlite3-adding)\n",
    "    - [Adding data from a csv file](#adding-csv)\n",
    "- [Pandas connector](#pandas-connector)\n",
    "    - [Writing data into a database](#pandas-writing)\n",
    "    - [Reading data from a database](#pandas-reading)\n",
    "- [SQL syntax](#sql-syntax)\n",
    "    - [Aggregations](#aggregations)\n",
    "- [Independent practice](#ind-practice)"
   ]
  },
  {
   "cell_type": "markdown",
   "metadata": {},
   "source": [
    "<a name=\"connecting-to-localdb\"></a>\n",
    "## Connecting to a Local Database\n",
    "\n",
    "---\n",
    "\n",
    "A database can be local or remote, it can span a single machine or it can be distributed with replicated data over several machines. The latter configuration is called _sharding_.\n",
    "\n",
    "Let's start by connecting to a local _sqlite_ database.\n",
    "\n",
    "<a id='sqlite'></a>\n",
    "\n",
    "### SQLite\n",
    "\n",
    "**[SQLite](https://sqlite.org/)** is a database software package built on the Structured Query Language [(SQL)](https://en.wikipedia.org/wiki/SQL).  It is similar to other SQL databases, such as [PostgreSQL](http://www.postgresql.org/), [MySQL](https://www.mysql.com/), Oracle, and Microsoft SQL Server, except that it is *file-based*, rather than *server-based*.  This makes it easy to setup and use for small projects, but less suitable for production environments.  Once you are familiar with sqlite, the same ideas and similar syntax can be applied to other SQL databases.\n",
    "\n",
    "SQLite v3 is bundled with most python distributions (including our Anaconda distribution).  There are two options we recommend for browsing SQLite3 databases:\n",
    "\n",
    "- [SQLite Browser](http://sqlitebrowser.org/), a free cross-platform solution\n",
    "- [SQLite Manager](https://addons.mozilla.org/en-US/firefox/addon/sqlite-manager/?src), a Firefox add-on for viewing SQLite database files via a simple GUI."
   ]
  },
  {
   "cell_type": "markdown",
   "metadata": {},
   "source": [
    "<a id='interacting-sqlite'></a>\n",
    "\n",
    "### Interacting with SQLite\n",
    "\n",
    "There are multiple ways of interacting with an SQLite database, including:\n",
    "\n",
    "1. SQLite Command Line Utility\n",
    "2. python `sqlite3` package\n",
    "3. `pandas` SQL Interface\n",
    "4. High-level ORMs (e.g. sqlalchemy, django ORM, etc.)\n",
    "\n",
    "Let's start with method 1. All of these methods provide some form of wrapper, or set of convenience functions, for interacting with SQLite.  Behind the scenes, the Structured Query Language (SQL) itself defines the interface to the database software.  This underlying SQL syntax will be visible to a greater or lesser degree depending upon the method that is chosen."
   ]
  },
  {
   "cell_type": "markdown",
   "metadata": {},
   "source": [
    "<a id='command-patterns'></a>\n",
    "\n",
    "### Common SQL command Patterns\n",
    "\n",
    "The SQL command set has a rich syntax with numerous options, but most of the commonly used commands follow a few simple patterns.  A basic familiarity of these patterns is helpful when working in SQL:\n",
    "\n",
    "    CREATE TABLE ...\n",
    "    ALTER TABLE ... ADD COLUMN ...\n",
    "    INSERT INTO ... VALUES ...\n",
    "    UPDATE ... SET ... WHERE ...\n",
    "    SELECT ... FROM ... WHERE ...\n",
    "    SELECT ... FROM ... JOIN ... ON ...\n",
    "    DELETE FROM ... WHERE ..."
   ]
  },
  {
   "cell_type": "markdown",
   "metadata": {},
   "source": [
    "<a id='sqlite-command-line'></a>\n",
    "\n",
    "### SQLite Command Line Utility\n",
    "\n",
    "The first method we'll explore is connecting to SQLite via the built-in [command line utility](https://www.sqlite.org/sqlite.html).  \n",
    "\n",
    "> Note: the commands in this section should be executed within your normal terminal shell.\n",
    "\n",
    "To start a new session of the interpreter, simply open your terminal and type `sqlite3`, followed by the name of the database file.  If the file does not yet exist, sqlite will create it.\n",
    "\n",
    "    $ sqlite3 test1.sqlite\n",
    "\n",
    "    SQLite version 3.7.12 2012-04-03 19:43:07\n",
    "    Enter \".help\" for instructions\n",
    "    Enter SQL statements terminated with a \";\"\n",
    "    sqlite>\n",
    "\n",
    "Notice that your terminal prompt changes to `sqlite>`, indicating that you are now entering commands into the sqlite command line utility.  Take a quick look at the help command:\n",
    "\n",
    "    sqlite> .help\n",
    "Display the current databases - you should see the new file `test1.db`:\n",
    "\n",
    "    sqlite> .databases"
   ]
  },
  {
   "cell_type": "markdown",
   "metadata": {},
   "source": [
    "<a id='sqlite-tables-columns'></a>\n",
    "\n",
    "### Creating tables and adding columns\n",
    "\n",
    "Create an table called `table1` with a single column `field1` containing an INTEGER PRIMARY KEY:\n",
    "\n",
    "    sqlite> CREATE TABLE table1 (field1 INTEGER PRIMARY KEY);\n",
    "\n",
    "Add a few more columns to `table1`:\n",
    "\n",
    "    sqlite> ALTER TABLE table1 ADD COLUMN field2 VARCHAR(16);\n",
    "    sqlite> ALTER TABLE table1 ADD COLUMN field3 REAL;\n",
    "    sqlite> ALTER TABLE table1 ADD COLUMN field4 TEXT;\n",
    "\n",
    "Notice the different field types in the ALTER TABLE commands.  SQLite supports several different [field types](https://www.sqlite.org/datatype3.html), including INTEGERS, variable length VARCHAR character fields (with a max length), TEXT fields, and 'REALS', which are used to store floating point numbers.\n",
    "\n",
    "Verify that the table was created:\n",
    "\n",
    "    sqlite> .tables\n",
    "\n",
    "You can check the `schema` of the table using `.schema`, which shows the commands that would be needed to create the database tables from scratch.  \n",
    "\n",
    "    sqlite> .schema\n",
    "\n",
    "Notice that in this case, our `table1` could have been created with a single command, rather than adding each column separately."
   ]
  },
  {
   "cell_type": "markdown",
   "metadata": {},
   "source": [
    "<a id='adding-data'></a>\n",
    "\n",
    "### Adding data\n",
    "\n",
    "Let's add some data:\n",
    "\n",
    "    sqlite> INSERT INTO table1 VALUES (1, 'Henry James', 42, '75 Mission Street, San Francisco, CA');\n",
    "    sqlite> INSERT INTO table1 VALUES (2, 'Carol James', 40, '75 Mission Street, San Francisco, CA');\n",
    "    sqlite> INSERT INTO table1 VALUES (3, 'Jesse James', 12, '75 Mission Street, San Francisco, CA');\n",
    "\n",
    "Notice that the first column has unique values - this is a requirement for the PRIMARY KEY column.  If we try to add a record using an existing PK value we'll get an error:\n",
    "\n",
    "    sqlite> INSERT INTO table1 VALUES (3, 'Julie James', 10, '75 Mission Street, San Francisco, CA');\n",
    "    Error: PRIMARY KEY must be unique\n",
    "\n",
    "Fortunately, SQLite has some built in functionality to auto-increment the PK value - just set the value of the PK field to NULL when doing the INSERT and it will automatically be set to a valid value.\n",
    "\n",
    "    sqlite> INSERT INTO table1 VALUES (NULL, 'Julie James', 10, '75 Mission Street, San Francisco, CA');\n",
    "\n",
    "Now that we have some data, take a look at the database using the **SQLite Browser**.\n",
    "\n",
    "1. Open App\n",
    "2. Open SQLite3 File \"Open Database\" from file menu\n",
    "3. Click on \"Browse Data\" from tabbed UI\n",
    "\n",
    "Notice that the value in `field1` for the Julie James record has been automatically set to 4."
   ]
  },
  {
   "cell_type": "markdown",
   "metadata": {},
   "source": [
    "### Updating records\n",
    "\n",
    "Suppose we need to update an existing record with new data - e.g. maybe Julie James is only 9.  For this we use the UPDATE command:\n",
    "\n",
    "    sqlite> UPDATE table1 SET field3=9 WHERE field1=4;"
   ]
  },
  {
   "cell_type": "markdown",
   "metadata": {},
   "source": [
    "<a id='removing-records'></a>\n",
    "### Removing Records\n",
    "\n",
    "To remove records use the DELETE command:\n",
    "\n",
    "    sqlite> DELETE FROM table1 WHERE field2 like '%Jesse%';\n",
    "\n",
    "Use SQLite-Manager to verify that the Jesse James record has been removed.  To exit the sqlite interpreter type `.exit`.\n",
    "\n",
    "    sqlite>  .exit"
   ]
  },
  {
   "cell_type": "markdown",
   "metadata": {},
   "source": [
    "<a name=\"remote_database\"></a>\n",
    "## Connecting to a Remote Database\n",
    "\n",
    "---\n",
    "\n",
    "> You will need to update this with appropriate AWS configuration settings!\n",
    "\n",
    "<a id='postgresql'></a>\n",
    "### Postgresql\n",
    "\n",
    "**[Postgresql](http://www.postgresql.org/)** is a very powerful SQL based relational database.\n",
    "\n",
    "#### PostgreSQL syntax\n",
    "\n",
    "GA provides a PostgreSQL database instance at the following address:\n",
    "\n",
    "You can connect to it using:\n",
    "\n",
    "> ### OSX Users\n",
    "> For OSX, we install postgress via the PostgresApp package from [postgresapp.com](http://postgresapp.com/)\n",
    "> Also, for easy access, add this alias to your .bash_profile:\n",
    ">\n",
    "> **Edit the file:** <br>\n",
    "> `nano ~/.bash_profile`\n",
    ">\n",
    "> **Add this line:** <br>\n",
    "> `alias psql=/Applications/Postgres.app/Contents/Versions/9.5/bin/psql`\n",
    ">\n",
    "> **Reload your profile:** <br>\n",
    "> `source ~/.bash_profile`\n",
    "\n",
    "    psql -h dsi.c20gkj5cvu3l.us-east-1.rds.amazonaws.com -p 5432 -U dsi_student titanic\n",
    "    password: gastudents\n",
    "\n",
    "PosgreSQL accepts the same syntax as sqlite, with exception of a few system commands. Here are the most common:\n",
    "\n",
    "- `\\q`: Quit/Exit\n",
    "- `\\c __database__`: Connect to a database\n",
    "- `\\d __table__`: Show table definition including triggers\n",
    "- `\\dt *.*`: List tables from all schemas (if `*.*` is omitted will only show SEARCH_PATH ones)\n",
    "- `\\l`: List databases\n",
    "- `\\dn`: List schemas\n",
    "- `\\df`: List functions\n",
    "- `\\dv`: List views\n",
    "- `\\dt`: List tables\n",
    "- `\\df+ __function` : Show function SQL code.\n",
    "- `\\x`: Pretty-format query results instead of the not-so-useful ASCII tables\n",
    "\n",
    "\n",
    "Suggestions:\n",
    "- if run with `-E` flag, it will describe the underlaying queries of the `\\` commands (cool for learning!).\n",
    "- Most `\\d` commands support additional param of `__schema__.name__` and accept wildcards like `*.*`"
   ]
  },
  {
   "cell_type": "markdown",
   "metadata": {},
   "source": [
    "<a id='comparison-commands'></a>\n",
    "## Comparison of SQL commands\n",
    "\n",
    "---\n",
    "\n",
    "\n",
    "|Task|MySQL|PostgreSQL|SQLite|\n",
    "|---|---|---|---|\n",
    "|Connect to a database|mysql &lt;dbname&gt;| psql &lt;dbname&gt;|sqlite3 &lt;filename&gt;|\n",
    "|Client help|help contents|\\?|.help|\n",
    "|SQL help|help contents|\\h|n/a|\n",
    "|List databases|SHOW DATABASES;|\\l|.databases|\n",
    "|Change database|USE &lt;dbname&gt;|\\c <dbname&gt;|n/a|\n",
    "|List tables|SHOW TABLES;|\\dt|.tables|\n",
    "|Show table|info DESCRIBE &lt;tablename&gt;|\\d &lt;tablename&gt;|.schema &lt;tablename&gt;|\n",
    "|Load data|LOAD DATA INFILE &lt;file&gt; |\\i &lt;file&gt;|.import &lt;file&gt; &lt;table&gt;|\n",
    "|Export data|SELECT ... INTO OUTFILE &lt;file&gt;|\\o &lt;file&gt;|.dump &lt;table&gt;|\n",
    "|Exit the client|quit (or exit)| \\q|.exit|"
   ]
  },
  {
   "cell_type": "markdown",
   "metadata": {},
   "source": [
    "<a name=\"intermission\"></a>\n",
    "\n",
    "## Intermission\n",
    "\n",
    "---\n",
    "\n",
    "We have seen how to connect to a local sqlite database and to a remote postgresql database.\n",
    "\n",
    "**Check:** What SQL operations have we learned so far?\n",
    "\n",
    "**Check:** What different commands have we learned for SQLite and PostgreSQL?\n"
   ]
  },
  {
   "cell_type": "markdown",
   "metadata": {},
   "source": [
    "<a name=\"python-sqlite\"></a>\n",
    "## Interacting with SQLite from Python\n",
    "\n",
    "---\n",
    "\n",
    "<a id='sqlite3'></a>\n",
    "### The `sqlite3` package\n",
    "\n",
    "The command line utility can be useful for basic SQL tasks, but since we're using python it is often easier to access sqlite with python code directly. We can use the python [`sqlite3`](https://docs.python.org/2.7/library/sqlite3.html) package for just this purpose.\n",
    "\n",
    "**Below we open a connection to an SQLite database file using python.  As before, if the file does not already exist it will automatically be created.**"
   ]
  },
  {
   "cell_type": "code",
   "execution_count": 25,
   "metadata": {
    "collapsed": false
   },
   "outputs": [],
   "source": [
    "import sqlite3\n",
    "sqlite_db = './datasets/test_db.sqlite'\n",
    "conn = sqlite3.connect(sqlite_db) \n",
    "c = conn.cursor()"
   ]
  },
  {
   "cell_type": "markdown",
   "metadata": {},
   "source": [
    "**The syntax to create a table is similar to the console, only now we use the `execute` method of the cursor object `c` that we just created:**"
   ]
  },
  {
   "cell_type": "code",
   "execution_count": 27,
   "metadata": {
    "collapsed": false
   },
   "outputs": [
    {
     "ename": "OperationalError",
     "evalue": "table houses already exists",
     "output_type": "error",
     "traceback": [
      "\u001b[0;31m---------------------------------------------------------------------------\u001b[0m",
      "\u001b[0;31mOperationalError\u001b[0m                          Traceback (most recent call last)",
      "\u001b[0;32m<ipython-input-27-c434ae565eee>\u001b[0m in \u001b[0;36m<module>\u001b[0;34m()\u001b[0m\n\u001b[0;32m----> 1\u001b[0;31m \u001b[0mc\u001b[0m\u001b[0;34m.\u001b[0m\u001b[0mexecute\u001b[0m\u001b[0;34m(\u001b[0m\u001b[0;34m'CREATE TABLE houses (field1 INTEGER PRIMARY KEY, sqft INTEGER, bdrms INTEGER, age INTEGER, price INTEGER);'\u001b[0m\u001b[0;34m)\u001b[0m\u001b[0;34m\u001b[0m\u001b[0m\n\u001b[0m\u001b[1;32m      2\u001b[0m \u001b[0;34m\u001b[0m\u001b[0m\n\u001b[1;32m      3\u001b[0m \u001b[0;31m# Save (commit) the changes\u001b[0m\u001b[0;34m\u001b[0m\u001b[0;34m\u001b[0m\u001b[0m\n\u001b[1;32m      4\u001b[0m \u001b[0mconn\u001b[0m\u001b[0;34m.\u001b[0m\u001b[0mcommit\u001b[0m\u001b[0;34m(\u001b[0m\u001b[0;34m)\u001b[0m\u001b[0;34m\u001b[0m\u001b[0m\n",
      "\u001b[0;31mOperationalError\u001b[0m: table houses already exists"
     ]
    }
   ],
   "source": [
    "c.execute('CREATE TABLE houses (field1 INTEGER PRIMARY KEY, sqft INTEGER, bdrms INTEGER, age INTEGER, price INTEGER);')\n",
    "\n",
    "# Save (commit) the changes\n",
    "# conn.commit()"
   ]
  },
  {
   "cell_type": "markdown",
   "metadata": {},
   "source": [
    "With the database saved the table should now be viewable using SQLite Manager.\n",
    "\n",
    "<a id='sqlite3-adding'></a>\n",
    "### sqlite3: adding data\n",
    "\n",
    "Since we're back in python, we can now use regular programming techniques in conjunction with the sqlite connection.  In particular, the cursor's `execute()` method supports value substitution using the `?` character, which makes adding multiple records a bit easier.\n",
    "\n",
    "See the [docs](https://docs.python.org/2.7/library/sqlite3.html) for more details."
   ]
  },
  {
   "cell_type": "code",
   "execution_count": 28,
   "metadata": {
    "collapsed": true
   },
   "outputs": [],
   "source": [
    "last_sale = (None, 4000, 5, 22, 619000)\n",
    "c.execute('INSERT INTO houses VALUES (?,?,?,?,?)', last_sale)\n",
    "\n",
    "# Remember to commit the changes\n",
    "conn.commit()"
   ]
  },
  {
   "cell_type": "markdown",
   "metadata": {},
   "source": [
    "Notice that in this syntax we use the python `None` value, rather than `NULL`, to trigger SQLite to auto-increment the Primary Key. \n",
    "\n",
    "There is a related cursor method `executemany()` which takes an array of tuples and loops through them, substituting one tuple at a time."
   ]
  },
  {
   "cell_type": "code",
   "execution_count": 29,
   "metadata": {
    "collapsed": true
   },
   "outputs": [],
   "source": [
    "recent_sales = [\n",
    "  (None, 2390, 4, 34, 319000),\n",
    "  (None, 1870, 3, 14, 289000),\n",
    "  (None, 1505, 3, 90, 269000),\n",
    "]\n",
    "\n",
    "c.executemany('INSERT INTO houses VALUES (?, ?, ?, ?, ?)', recent_sales)\n",
    "\n",
    "conn.commit()"
   ]
  },
  {
   "cell_type": "markdown",
   "metadata": {},
   "source": [
    "Once again, use SQLite Browser to verify the database contents. \n",
    "\n",
    "![SQLite Manager](https://snag.gy/xc8W5M.jpg)\n",
    "\n",
    "<a id='adding-from-csv'></a>\n",
    "\n",
    "### Adding data from a csv file\n",
    "\n",
    "Next let's load our housing.csv data into an array, and then `INSERT` those records into the database.  In this example we'll use the numpy `genfromtxt` function to read the file and parse the contents. "
   ]
  },
  {
   "cell_type": "code",
   "execution_count": 36,
   "metadata": {
    "collapsed": false
   },
   "outputs": [],
   "source": [
    "from numpy import genfromtxt\n",
    "\n",
    "# import into nparray of ints, then convert to list of lists\n",
    "data = (genfromtxt('datasets/housing-data.csv', dtype='i8', \n",
    "                    delimiter=',', skip_header=1)).tolist()\n",
    "\n",
    "# append a None value to beginning of each sub-list\n",
    "for d in data:\n",
    "    d.insert(0, None)"
   ]
  },
  {
   "cell_type": "code",
   "execution_count": 37,
   "metadata": {
    "collapsed": false
   },
   "outputs": [
    {
     "data": {
      "text/plain": [
       "[[None, 2104, 3, 70, 399900],\n",
       " [None, 1600, 3, 28, 329900],\n",
       " [None, 2400, 3, 44, 369000]]"
      ]
     },
     "execution_count": 37,
     "metadata": {},
     "output_type": "execute_result"
    }
   ],
   "source": [
    "data[0:3]"
   ]
  },
  {
   "cell_type": "code",
   "execution_count": 38,
   "metadata": {
    "collapsed": true
   },
   "outputs": [],
   "source": [
    "# loop through data, running an INSERT on each record (i.e. sublist)\n",
    "for d in data:\n",
    "    c.execute('INSERT INTO houses VALUES (?, ?, ?, ?, ?)', d)\n",
    "\n",
    "conn.commit()"
   ]
  },
  {
   "cell_type": "markdown",
   "metadata": {},
   "source": [
    "> **Remember:** all elements in a numpy array must be the same data type, so if we want to 'add a None' to each row, we need to work around this.  Lists can contain mixed types, so this is one approach.\n",
    "\n",
    "Still, in this case the value we're adding is the same for all records, so we could have simply used a 'None' in the INSERT statement directly.\n",
    "\n",
    "**How do you delete data?**"
   ]
  },
  {
   "cell_type": "code",
   "execution_count": 39,
   "metadata": {
    "collapsed": false
   },
   "outputs": [
    {
     "data": {
      "text/plain": [
       "[(2, 2390, 4, 34, 319000),\n",
       " (9, 3000, 4, 75, 539900),\n",
       " (10, 1985, 4, 61, 299900),\n",
       " (15, 1940, 4, 7, 239999),\n",
       " (20, 2300, 4, 77, 449900),\n",
       " (23, 2609, 4, 5, 499998),\n",
       " (24, 3031, 4, 21, 599000),\n",
       " (28, 1962, 4, 53, 259900),\n",
       " (37, 2040, 4, 75, 314900),\n",
       " (39, 1811, 4, 24, 285900),\n",
       " (42, 2132, 4, 28, 345000),\n",
       " (43, 4215, 4, 66, 549000),\n",
       " (44, 2162, 4, 43, 287000),\n",
       " (47, 2567, 4, 57, 314000),\n",
       " (50, 1852, 4, 64, 299900)]"
      ]
     },
     "execution_count": 39,
     "metadata": {},
     "output_type": "execute_result"
    }
   ],
   "source": [
    "# similar syntax as before\n",
    "results = c.execute(\"SELECT * FROM houses WHERE bdrms = 4\")\n",
    "\n",
    "# here results is a cursor object - use fetchall() to extract a list\n",
    "results.fetchall()"
   ]
  },
  {
   "cell_type": "markdown",
   "metadata": {},
   "source": [
    "<a id='pandas-connector'></a>\n",
    "\n",
    "## Pandas connector\n",
    "\n",
    "---\n",
    "\n",
    "While databases provide many analytical capabilities, it's often useful to pull the data back into Python for more flexible programming. Large, fixed operations would be more efficient in a database, but Pandas allows for interactive processing.\n",
    "\n",
    "For example, if you want to aggregate nightly log-ins or sales to present a report or dashboard, this operation is likely not changing and operating on a large dataset. This can run very efficiently in a database rather than by connecting to it with Python.\n",
    "\n",
    "However, if we want to investigate login or sales data further and ask more interactive questions, then Python would be more practical."
   ]
  },
  {
   "cell_type": "code",
   "execution_count": 33,
   "metadata": {
    "collapsed": true
   },
   "outputs": [],
   "source": [
    "import pandas as pd"
   ]
  },
  {
   "cell_type": "markdown",
   "metadata": {},
   "source": [
    "Pandas can connect to most relational databases. In this demonstration, we will create and connect to a SQLite database.\n",
    "\n",
    "SQLite creates portable SQL databases saved in a single file. These databases are stored in a very efficient manner and allow fast querying, making them ideal for small databases or databases that need to be moved across machines."
   ]
  },
  {
   "cell_type": "markdown",
   "metadata": {},
   "source": [
    "<a id='pandas-writing'></a>\n",
    "\n",
    "### Writing data into a database\n",
    "\n",
    "Data in Pandas can be loaded into a relational database. For the most part, Pandas can use column information to infer the schema for the table it creates. For the next demo we will use the Rossmann stores dataset."
   ]
  },
  {
   "cell_type": "code",
   "execution_count": 42,
   "metadata": {
    "collapsed": false
   },
   "outputs": [
    {
     "data": {
      "text/html": [
       "<div>\n",
       "<table border=\"1\" class=\"dataframe\">\n",
       "  <thead>\n",
       "    <tr style=\"text-align: right;\">\n",
       "      <th></th>\n",
       "      <th>sqft</th>\n",
       "      <th>bdrms</th>\n",
       "      <th>age</th>\n",
       "      <th>price</th>\n",
       "    </tr>\n",
       "  </thead>\n",
       "  <tbody>\n",
       "    <tr>\n",
       "      <th>0</th>\n",
       "      <td>2104</td>\n",
       "      <td>3</td>\n",
       "      <td>70</td>\n",
       "      <td>399900</td>\n",
       "    </tr>\n",
       "    <tr>\n",
       "      <th>1</th>\n",
       "      <td>1600</td>\n",
       "      <td>3</td>\n",
       "      <td>28</td>\n",
       "      <td>329900</td>\n",
       "    </tr>\n",
       "    <tr>\n",
       "      <th>2</th>\n",
       "      <td>2400</td>\n",
       "      <td>3</td>\n",
       "      <td>44</td>\n",
       "      <td>369000</td>\n",
       "    </tr>\n",
       "    <tr>\n",
       "      <th>3</th>\n",
       "      <td>1416</td>\n",
       "      <td>2</td>\n",
       "      <td>49</td>\n",
       "      <td>232000</td>\n",
       "    </tr>\n",
       "    <tr>\n",
       "      <th>4</th>\n",
       "      <td>3000</td>\n",
       "      <td>4</td>\n",
       "      <td>75</td>\n",
       "      <td>539900</td>\n",
       "    </tr>\n",
       "  </tbody>\n",
       "</table>\n",
       "</div>"
      ],
      "text/plain": [
       "   sqft  bdrms  age   price\n",
       "0  2104      3   70  399900\n",
       "1  1600      3   28  329900\n",
       "2  2400      3   44  369000\n",
       "3  1416      2   49  232000\n",
       "4  3000      4   75  539900"
      ]
     },
     "execution_count": 42,
     "metadata": {},
     "output_type": "execute_result"
    }
   ],
   "source": [
    "data = pd.read_csv('./datasets/housing-data.csv', low_memory=False)  # lower_memory = gets rid of ambigious warning.. nothing to see here\n",
    "data.head()"
   ]
  },
  {
   "cell_type": "markdown",
   "metadata": {},
   "source": [
    "Data is moved to the database through the `to_sql` command, similar to the `to_csv` command.\n",
    "\n",
    "`to_sql` takes as arguments:\n",
    "    - `name`, the table name to create\n",
    "    - `con`, a connection to a database\n",
    "    - `index`, whether to input the index column\n",
    "    - `schema`, if we want to write a custom schema for the new table\n",
    "    - `if_exists`, what to do if the table already exists. We can overwrite it, add to it, or fail\n",
    "    \n",
    "> ### BTW, what was with the `conn` object?  \n",
    "> We defined in a previous example:\n",
    "> ```python\n",
    "import sqlite3\n",
    "sqlite_db = './datasets/test_db.sqlite'\n",
    "conn = sqlite3.connect(sqlite_db) \n",
    "c = conn.cursor()\n",
    "```"
   ]
  },
  {
   "cell_type": "code",
   "execution_count": 43,
   "metadata": {
    "collapsed": false
   },
   "outputs": [],
   "source": [
    "data.to_sql('houses_pandas',             # Name of the table\n",
    "            con=conn,                    # The handle to the file that is setup\n",
    "            if_exists='replace',         # Overwrite, append, or fail\n",
    "            index=False)                 # Add index as column"
   ]
  },
  {
   "cell_type": "markdown",
   "metadata": {},
   "source": [
    "<a id='pandas-reading'></a>\n",
    "\n",
    "### Reading data from a database\n",
    "_Result as DataFrame_\n",
    "\n",
    "If we already have data in our database, we can use Pandas to query it. Querying is done through the `read_sql` command in the `sql` module."
   ]
  },
  {
   "cell_type": "code",
   "execution_count": 49,
   "metadata": {
    "collapsed": false
   },
   "outputs": [
    {
     "data": {
      "text/html": [
       "<div>\n",
       "<table border=\"1\" class=\"dataframe\">\n",
       "  <thead>\n",
       "    <tr style=\"text-align: right;\">\n",
       "      <th></th>\n",
       "      <th>sqft</th>\n",
       "      <th>bdrms</th>\n",
       "      <th>age</th>\n",
       "      <th>price</th>\n",
       "    </tr>\n",
       "  </thead>\n",
       "  <tbody>\n",
       "    <tr>\n",
       "      <th>0</th>\n",
       "      <td>2104</td>\n",
       "      <td>3</td>\n",
       "      <td>70</td>\n",
       "      <td>399900</td>\n",
       "    </tr>\n",
       "    <tr>\n",
       "      <th>1</th>\n",
       "      <td>1600</td>\n",
       "      <td>3</td>\n",
       "      <td>28</td>\n",
       "      <td>329900</td>\n",
       "    </tr>\n",
       "    <tr>\n",
       "      <th>2</th>\n",
       "      <td>2400</td>\n",
       "      <td>3</td>\n",
       "      <td>44</td>\n",
       "      <td>369000</td>\n",
       "    </tr>\n",
       "    <tr>\n",
       "      <th>3</th>\n",
       "      <td>1416</td>\n",
       "      <td>2</td>\n",
       "      <td>49</td>\n",
       "      <td>232000</td>\n",
       "    </tr>\n",
       "    <tr>\n",
       "      <th>4</th>\n",
       "      <td>3000</td>\n",
       "      <td>4</td>\n",
       "      <td>75</td>\n",
       "      <td>539900</td>\n",
       "    </tr>\n",
       "    <tr>\n",
       "      <th>5</th>\n",
       "      <td>1985</td>\n",
       "      <td>4</td>\n",
       "      <td>61</td>\n",
       "      <td>299900</td>\n",
       "    </tr>\n",
       "    <tr>\n",
       "      <th>6</th>\n",
       "      <td>1534</td>\n",
       "      <td>3</td>\n",
       "      <td>12</td>\n",
       "      <td>314900</td>\n",
       "    </tr>\n",
       "    <tr>\n",
       "      <th>7</th>\n",
       "      <td>1427</td>\n",
       "      <td>3</td>\n",
       "      <td>57</td>\n",
       "      <td>198999</td>\n",
       "    </tr>\n",
       "    <tr>\n",
       "      <th>8</th>\n",
       "      <td>1380</td>\n",
       "      <td>3</td>\n",
       "      <td>14</td>\n",
       "      <td>212000</td>\n",
       "    </tr>\n",
       "    <tr>\n",
       "      <th>9</th>\n",
       "      <td>1494</td>\n",
       "      <td>3</td>\n",
       "      <td>15</td>\n",
       "      <td>242500</td>\n",
       "    </tr>\n",
       "  </tbody>\n",
       "</table>\n",
       "</div>"
      ],
      "text/plain": [
       "   sqft  bdrms  age   price\n",
       "0  2104      3   70  399900\n",
       "1  1600      3   28  329900\n",
       "2  2400      3   44  369000\n",
       "3  1416      2   49  232000\n",
       "4  3000      4   75  539900\n",
       "5  1985      4   61  299900\n",
       "6  1534      3   12  314900\n",
       "7  1427      3   57  198999\n",
       "8  1380      3   14  212000\n",
       "9  1494      3   15  242500"
      ]
     },
     "execution_count": 49,
     "metadata": {},
     "output_type": "execute_result"
    }
   ],
   "source": [
    "df = pd.read_sql('SELECT * FROM houses_pandas LIMIT 10', con=conn)\n",
    "df"
   ]
  },
  {
   "cell_type": "markdown",
   "metadata": {},
   "source": [
    "<a name=\"sql-syntax\"></a>\n",
    "\n",
    "## SQL syntax\n",
    "\n",
    "---\n",
    "\n",
    "### SQL Operators\n",
    "\n",
    "> Note: Each of the following can be demoed in pandas using the data we've setup above. A demo and check are included for each, but we can try a few of these things out before we .\n",
    "\n",
    "#### SELECT\n",
    "\n",
    "Every query should start with `SELECT`.  `SELECT` is followed by the names of the columns in the output.\n",
    "\n",
    "`SELECT` is always paired with `FROM`, and `FROM` identifies the table to retrieve data from.\n",
    "\n",
    "```sql\n",
    "SELECT\n",
    "<columns>\n",
    "FROM\n",
    "<table>\n",
    "```\n",
    "\n",
    "`SELECT *` denotes returns *all* of the columns.\n",
    "\n",
    "Housing Data example:\n",
    "```sql\n",
    "SELECT\n",
    "sqft, bdrms\n",
    "FROM houses_pandas;\n",
    "```\n",
    "\n",
    "**Check:** What do `sqft`, `bdrms` and `price` refer to?  What will return?\n",
    ">\n",
    "```sql\n",
    "SELECT\n",
    "sqft, bdrms, price\n",
    "FROM houses_pandas;\n",
    "```\n",
    "\n",
    "#### WHERE\n",
    "\n",
    "`WHERE` is used to filter table to a specific criteria and follows the `FROM` clause.\n",
    "\n",
    "```sql\n",
    "SELECT\n",
    "<columns>\n",
    "FROM\n",
    "<table>\n",
    "WHERE\n",
    "<condition>\n",
    "```\n",
    "Example:\n",
    "```sql\n",
    "SELECT\n",
    "sqft, bdrms, age, price\n",
    "FROM houses_pandas\n",
    "WHERE bdrms = 2 and price < 250000;\n",
    "```\n",
    "\n",
    "The condition is some filter applied to the rows, where rows that match the condition will be in the output.\n",
    "\n",
    "**Check:** Write a query that returns the `sqft`, `bdrms`, `age` for when houses older than 60 years."
   ]
  },
  {
   "cell_type": "code",
   "execution_count": 55,
   "metadata": {
    "collapsed": false
   },
   "outputs": [
    {
     "data": {
      "text/plain": [
       "bdrms\n",
       "1     1\n",
       "2     6\n",
       "3    25\n",
       "4    14\n",
       "5     1\n",
       "dtype: int64"
      ]
     },
     "execution_count": 55,
     "metadata": {},
     "output_type": "execute_result"
    }
   ],
   "source": [
    "sql_query = \"\"\"\n",
    "SELECT * \n",
    "FROM houses_pandas\n",
    "\"\"\"\n",
    "\n",
    "df = pd.read_sql(sql_query, con=conn)\n",
    "df.groupby(\"bdrms\").size()"
   ]
  },
  {
   "cell_type": "markdown",
   "metadata": {},
   "source": [
    "### Aggregations\n",
    "\n",
    "Aggregations (or aggregate functions) are functions where the values of multiple rows are grouped together as input on certain criteria to form a single value of more significant meaning or measurement such as a set, a bag or a list.\n",
    "\n",
    "Examples of aggregate funtions:\n",
    "\n",
    "- Average (i.e., arithmetic mean)\n",
    "- Count\n",
    "- Maximum\n",
    "- Minimum\n",
    "- Median\n",
    "- Mode\n",
    "- Sum\n",
    "\n",
    "In SQL they are performed in a `SELECT` statement as follows.\n",
    "\n",
    "```sql\n",
    "SELECT COUNT(price)\n",
    "FROM houses_pandas;\n",
    "```\n",
    "\n",
    "```sql\n",
    "SELECT AVG(sqft), MIN(price), MAX(price)\n",
    "FROM houses_pandas\n",
    "WHERE bdrms = 2;\n",
    "```"
   ]
  },
  {
   "cell_type": "code",
   "execution_count": 62,
   "metadata": {
    "collapsed": false
   },
   "outputs": [
    {
     "data": {
      "text/html": [
       "<div>\n",
       "<table border=\"1\" class=\"dataframe\">\n",
       "  <thead>\n",
       "    <tr style=\"text-align: right;\">\n",
       "      <th></th>\n",
       "      <th>count</th>\n",
       "      <th>mean</th>\n",
       "      <th>std</th>\n",
       "      <th>min</th>\n",
       "      <th>25%</th>\n",
       "      <th>50%</th>\n",
       "      <th>75%</th>\n",
       "      <th>max</th>\n",
       "    </tr>\n",
       "  </thead>\n",
       "  <tbody>\n",
       "    <tr>\n",
       "      <th>sqft</th>\n",
       "      <td>47.0</td>\n",
       "      <td>2000.680851</td>\n",
       "      <td>794.702354</td>\n",
       "      <td>852.0</td>\n",
       "      <td>1432.0</td>\n",
       "      <td>1888.0</td>\n",
       "      <td>2269.0</td>\n",
       "      <td>4478.0</td>\n",
       "    </tr>\n",
       "    <tr>\n",
       "      <th>bdrms</th>\n",
       "      <td>47.0</td>\n",
       "      <td>3.170213</td>\n",
       "      <td>0.760982</td>\n",
       "      <td>1.0</td>\n",
       "      <td>3.0</td>\n",
       "      <td>3.0</td>\n",
       "      <td>4.0</td>\n",
       "      <td>5.0</td>\n",
       "    </tr>\n",
       "    <tr>\n",
       "      <th>age</th>\n",
       "      <td>47.0</td>\n",
       "      <td>42.744681</td>\n",
       "      <td>22.873440</td>\n",
       "      <td>5.0</td>\n",
       "      <td>24.5</td>\n",
       "      <td>44.0</td>\n",
       "      <td>61.5</td>\n",
       "      <td>79.0</td>\n",
       "    </tr>\n",
       "    <tr>\n",
       "      <th>price</th>\n",
       "      <td>47.0</td>\n",
       "      <td>340412.659574</td>\n",
       "      <td>125039.899586</td>\n",
       "      <td>169900.0</td>\n",
       "      <td>249900.0</td>\n",
       "      <td>299900.0</td>\n",
       "      <td>384450.0</td>\n",
       "      <td>699900.0</td>\n",
       "    </tr>\n",
       "  </tbody>\n",
       "</table>\n",
       "</div>"
      ],
      "text/plain": [
       "       count           mean            std       min       25%       50%  \\\n",
       "sqft    47.0    2000.680851     794.702354     852.0    1432.0    1888.0   \n",
       "bdrms   47.0       3.170213       0.760982       1.0       3.0       3.0   \n",
       "age     47.0      42.744681      22.873440       5.0      24.5      44.0   \n",
       "price   47.0  340412.659574  125039.899586  169900.0  249900.0  299900.0   \n",
       "\n",
       "            75%       max  \n",
       "sqft     2269.0    4478.0  \n",
       "bdrms       4.0       5.0  \n",
       "age        61.5      79.0  \n",
       "price  384450.0  699900.0  "
      ]
     },
     "execution_count": 62,
     "metadata": {},
     "output_type": "execute_result"
    }
   ],
   "source": [
    "sql_query = \"\"\"\n",
    "SELECT * FROM houses_pandas\n",
    "\"\"\"\n",
    "\n",
    "pd.read_sql(sql_query, con=conn).describe().T"
   ]
  },
  {
   "cell_type": "markdown",
   "metadata": {},
   "source": [
    "<a name=\"ind-practice\"></a>\n",
    "\n",
    "## Independent practice: querying a database\n",
    "\n",
    "---\n",
    "\n",
    "Practice querying the SQLite database we've created using any of the methods you've learnt so far:\n",
    "\n",
    "- console connection\n",
    "- python `sqlite3` package\n",
    "- pandas\n",
    "- [SQLite Browser](http://www.sqlitebrowser.org/) or _firefox browser extension [SQLite Manager](https://addons.mozilla.org/en-US/firefox/addon/sqlite-manager/?src)_\n",
    "\n",
    "Practice querying the PostgreSQL database you can find at [add url here](http://) using:\n",
    "- console connection\n",
    "- python `sqlite3` package\n",
    "- pandas\n",
    "- [Postico](https://eggerapps.at/postico/)\n"
   ]
  },
  {
   "cell_type": "markdown",
   "metadata": {},
   "source": [
    "### What's the average price per room for 1 bedroom apartments?"
   ]
  },
  {
   "cell_type": "code",
   "execution_count": 96,
   "metadata": {
    "collapsed": false
   },
   "outputs": [
    {
     "data": {
      "text/html": [
       "<div>\n",
       "<table border=\"1\" class=\"dataframe\">\n",
       "  <thead>\n",
       "    <tr style=\"text-align: right;\">\n",
       "      <th></th>\n",
       "      <th>sqft</th>\n",
       "      <th>bdrms</th>\n",
       "      <th>age</th>\n",
       "      <th>price</th>\n",
       "    </tr>\n",
       "  </thead>\n",
       "  <tbody>\n",
       "    <tr>\n",
       "      <th>0</th>\n",
       "      <td>1000</td>\n",
       "      <td>1</td>\n",
       "      <td>5</td>\n",
       "      <td>169900</td>\n",
       "    </tr>\n",
       "  </tbody>\n",
       "</table>\n",
       "</div>"
      ],
      "text/plain": [
       "   sqft  bdrms  age   price\n",
       "0  1000      1    5  169900"
      ]
     },
     "execution_count": 96,
     "metadata": {},
     "output_type": "execute_result"
    }
   ],
   "source": [
    "sql_query = \"\"\"\n",
    "SELECT * FROM houses_pandas\n",
    "WHERE bdrms = 1\n",
    "\"\"\"\n",
    "\n",
    "pd.read_sql(sql_query, con=conn)"
   ]
  },
  {
   "cell_type": "markdown",
   "metadata": {},
   "source": [
    "### How old is the oldest 3 bedrooms apartment?"
   ]
  },
  {
   "cell_type": "code",
   "execution_count": 82,
   "metadata": {
    "collapsed": false
   },
   "outputs": [
    {
     "data": {
      "text/html": [
       "<div>\n",
       "<table border=\"1\" class=\"dataframe\">\n",
       "  <thead>\n",
       "    <tr style=\"text-align: right;\">\n",
       "      <th></th>\n",
       "      <th>MAX(age)</th>\n",
       "    </tr>\n",
       "  </thead>\n",
       "  <tbody>\n",
       "    <tr>\n",
       "      <th>0</th>\n",
       "      <td>78</td>\n",
       "    </tr>\n",
       "  </tbody>\n",
       "</table>\n",
       "</div>"
      ],
      "text/plain": [
       "   MAX(age)\n",
       "0        78"
      ]
     },
     "execution_count": 82,
     "metadata": {},
     "output_type": "execute_result"
    }
   ],
   "source": [
    "sql_query = \"\"\"\n",
    "SELECT MAX(age) FROM houses_pandas\n",
    "WHERE bdrms = 3\n",
    "\"\"\"\n",
    "\n",
    "pd.read_sql(sql_query, con=conn)\n"
   ]
  },
  {
   "cell_type": "markdown",
   "metadata": {},
   "source": [
    "### How old is the youngest apartment?"
   ]
  },
  {
   "cell_type": "code",
   "execution_count": 83,
   "metadata": {
    "collapsed": false
   },
   "outputs": [
    {
     "data": {
      "text/html": [
       "<div>\n",
       "<table border=\"1\" class=\"dataframe\">\n",
       "  <thead>\n",
       "    <tr style=\"text-align: right;\">\n",
       "      <th></th>\n",
       "      <th>MIN(age)</th>\n",
       "    </tr>\n",
       "  </thead>\n",
       "  <tbody>\n",
       "    <tr>\n",
       "      <th>0</th>\n",
       "      <td>5</td>\n",
       "    </tr>\n",
       "  </tbody>\n",
       "</table>\n",
       "</div>"
      ],
      "text/plain": [
       "   MIN(age)\n",
       "0         5"
      ]
     },
     "execution_count": 83,
     "metadata": {},
     "output_type": "execute_result"
    }
   ],
   "source": [
    "sql_query = \"\"\"\n",
    "SELECT MIN(age) FROM houses_pandas\n",
    "\"\"\"\n",
    "\n",
    "pd.read_sql(sql_query, con=conn)\n"
   ]
  },
  {
   "cell_type": "markdown",
   "metadata": {},
   "source": [
    "### What's the average age for the whole dataset?"
   ]
  },
  {
   "cell_type": "code",
   "execution_count": 85,
   "metadata": {
    "collapsed": false
   },
   "outputs": [
    {
     "data": {
      "text/html": [
       "<div>\n",
       "<table border=\"1\" class=\"dataframe\">\n",
       "  <thead>\n",
       "    <tr style=\"text-align: right;\">\n",
       "      <th></th>\n",
       "      <th>AVG(age)</th>\n",
       "    </tr>\n",
       "  </thead>\n",
       "  <tbody>\n",
       "    <tr>\n",
       "      <th>0</th>\n",
       "      <td>38.36</td>\n",
       "    </tr>\n",
       "  </tbody>\n",
       "</table>\n",
       "</div>"
      ],
      "text/plain": [
       "   AVG(age)\n",
       "0     38.36"
      ]
     },
     "execution_count": 85,
     "metadata": {},
     "output_type": "execute_result"
    }
   ],
   "source": [
    "sql_query = \"\"\"\n",
    "SELECT AVG(age) FROM houses_pandas\n",
    "WHERE bdrms = 3\n",
    "\"\"\"\n",
    "\n",
    "pd.read_sql(sql_query, con=conn)\n"
   ]
  },
  {
   "cell_type": "markdown",
   "metadata": {},
   "source": [
    "### What's the average age for each bedroom size?"
   ]
  },
  {
   "cell_type": "code",
   "execution_count": 101,
   "metadata": {
    "collapsed": false
   },
   "outputs": [
    {
     "name": "stdout",
     "output_type": "stream",
     "text": [
      "\n",
      "AVG number of \"1\" bdrm(s):     AVG(age)\n",
      "0       5.0 \n",
      "\n",
      "SELECT AVG(age) FROM houses_pandas\n",
      "WHERE bdrms = 1\n",
      "\n",
      "\n",
      "AVG number of \"2\" bdrm(s):      AVG(age)\n",
      "0  56.666667 \n",
      "\n",
      "SELECT AVG(age) FROM houses_pandas\n",
      "WHERE bdrms = 2\n",
      "\n",
      "\n",
      "AVG number of \"3\" bdrm(s):     AVG(age)\n",
      "0     38.36 \n",
      "\n",
      "SELECT AVG(age) FROM houses_pandas\n",
      "WHERE bdrms = 3\n",
      "\n",
      "\n",
      "AVG number of \"4\" bdrm(s):      AVG(age)\n",
      "0  46.857143 \n",
      "\n",
      "SELECT AVG(age) FROM houses_pandas\n",
      "WHERE bdrms = 4\n",
      "\n",
      "\n",
      "AVG number of \"5\" bdrm(s):     AVG(age)\n",
      "0      49.0 \n",
      "\n",
      "SELECT AVG(age) FROM houses_pandas\n",
      "WHERE bdrms = 5\n",
      "\n"
     ]
    }
   ],
   "source": [
    "sql_query = \"\"\"\n",
    "SELECT AVG(age) FROM houses_pandas\n",
    "WHERE bdrms = %d\n",
    "\"\"\"\n",
    "\n",
    "for bdrm in range(1, 6):\n",
    "    print \"\\nAVG number of \\\"%d\\\" bdrm(s): \" % bdrm, \\\n",
    "          pd.read_sql(sql_query % bdrm, con=conn), \"\\n\", \\\n",
    "          sql_query % bdrm\n"
   ]
  },
  {
   "cell_type": "markdown",
   "metadata": {},
   "source": [
    "**If you finish, try completing the first sections of [SQL zoo](http://www.sqlzoo.net).**"
   ]
  },
  {
   "cell_type": "markdown",
   "metadata": {},
   "source": [
    "<a id='additional-resources'></a>\n",
    "\n",
    "## Additional resources \n",
    "\n",
    "---\n",
    "\n",
    "- [sqlite3 home](http://www.sqlite.org)  \n",
    "- [SQLite - Python tutorial](http://sebastianraschka.com/Articles/2014_sqlite_in_python_tutorial.html)  \n",
    "- [SQL zoo](http://www.sqlzoo.net)"
   ]
  }
 ],
 "metadata": {
  "anaconda-cloud": {},
  "kernelspec": {
   "display_name": "Python 2",
   "language": "python",
   "name": "python2"
  },
  "language_info": {
   "codemirror_mode": {
    "name": "ipython",
    "version": 2
   },
   "file_extension": ".py",
   "mimetype": "text/x-python",
   "name": "python",
   "nbconvert_exporter": "python",
   "pygments_lexer": "ipython2",
   "version": "2.7.13"
  }
 },
 "nbformat": 4,
 "nbformat_minor": 0
}
